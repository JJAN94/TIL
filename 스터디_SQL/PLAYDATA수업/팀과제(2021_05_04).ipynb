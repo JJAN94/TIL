{
 "cells": [
  {
   "cell_type": "markdown",
   "metadata": {},
   "source": [
    "## 팀 과제\n",
    "## 1번과제\n",
    "no   name   kor   eng    mat   tot   avg   grade\\\n",
    "번호 이름   국어   영어   수학 총점 평균 학점 //// score class만들어서\\\n",
    "1    홍길동  90     80     70\\\n",
    "2    홍길동  90     80     70\\\n",
    "[조건]\n",
    "   1. 임의의 score 레코드를 10개 생성하면서 생성자로 값을 전달받는다.\n",
    "   2. 총점, 평균, 학점은 메소드로 리턴한다.\n",
    "   3. 출력 메소드는 prn_score()로 선언한다.\n",
    "   4. 번호, 이름, 국어, 영어, 수학은 캡슐화로 선언한다.\n",
    "   5. 생성된 객체는 list_all의 list객체로 담아서 score.txt로 저장한다.\n",
    "   6. 파일을 읽어서 화면 출력 한다.\n",
    "   7. 파일은 score.py (클래스로 담고), score_exam.py (여기서 임포트해서 입출력할것)\n",
    "   8. 10명의 국어 점수 총합, 영어 점수 총합을 출력한다.\n",
    "   9. 10명 수학점수를 main에서 0점으로 처리하고 전체 출력한다.\n",
    "   10. 학점은 A, B, C, F로 한다. 평균점수 (90A, 80B, 70C, 그외 F)\n",
    "   \n",
    "## 2번과제\n",
    "- 구글에서 사과이미지를 10개를 무작위로 MyTest라는 폴더에 저장한다.\n",
    "- img_exam.py에서 MyTest라는 폴더에 있는 이미지를 img0.jpg, img1.jpg 순으로 이미지 파일이름을 변경한다."
   ]
  },
  {
   "cell_type": "code",
   "execution_count": 1,
   "metadata": {},
   "outputs": [],
   "source": [
    "import random as rd"
   ]
  },
  {
   "cell_type": "code",
   "execution_count": 13,
   "metadata": {},
   "outputs": [],
   "source": [
    "class Score:\n",
    "    def __init__(self,no,name,kor,eng,mat):\n",
    "        self.__no =no\n",
    "        self.__name = name\n",
    "        self.__kor = kor\n",
    "        self.__eng = eng\n",
    "        self.__mat = mat\n",
    "    @property\n",
    "    def getNum(self):\n",
    "        return self.__no\n",
    "    @property\n",
    "    def getName(self):\n",
    "        return self.__name\n",
    "    @property\n",
    "    def getKor(self):\n",
    "        return self.__kor\n",
    "    @getKor.setter\n",
    "    def getKor(self,kor):\n",
    "        self.__kor = kor\n",
    "    @property\n",
    "    def getEng(self):\n",
    "        return self.__eng\n",
    "    @getEng.setter\n",
    "    def getEng(self, eng):\n",
    "        self.__eng = eng\n",
    "    @property\n",
    "    def getMat(self):\n",
    "        return self.__eng\n",
    "    @getMat.setter\n",
    "    def getMat(self,mat):\n",
    "        self.__mat = mat\n",
    "    def tot(self):\n",
    "        return self.getKor + self.getEng + self.getMat\n",
    "    def avg(self):\n",
    "        return self.tot()/3\n",
    "    def grade(self):    # 평균기준 A(90이상), B(80이상), C(70이상), F(70미만)\n",
    "        if self.avg() >= 90:\n",
    "            return 'A'\n",
    "        elif 80 <= self.tot():\n",
    "            return 'B'\n",
    "        elif 70 <= self.tot():\n",
    "            return 'C'\n",
    "        else:\n",
    "            return 'F'\n",
    "    \n",
    "    def prn_score(self) :\n",
    "#         print('국어 : {} 영어 : {} 수학 : {} 총점 {}'.format(self.getNum,self.getName,self.getKor,self.getEng,self.getMat,self.tot()))\n",
    "        print('국어 : {} 영어 : {} 수학 : {} 총점 {} 평균 : {} 학점 {}'.format(self.getNum,self.getName,self.getKor,self.getEng,self.getMat,self.tot(),self.avg(),self.grade()))\n",
    "#         lst1 = [\"번호\",'이름',\"국어\",\"영어\",\"수학\",\"총점\",\"평균\",\"학점\"]\n",
    "#         lst2 = [self.getNum,self.getName,self.getKor,self.getEng,self.getMat,self.tot(),self.avg(),self.grade()]\n",
    "#         a = zip(lst1,lst2)\n",
    "#         for i,j in a:\n",
    "#             print(i.ljust(5),j,sep=': ')\n",
    "    "
   ]
  },
  {
   "cell_type": "code",
   "execution_count": 11,
   "metadata": {},
   "outputs": [],
   "source": [
    "# score_exam.py\n",
    "try :\n",
    "    import cPickle\n",
    "    pickle = cPickle\n",
    "except :\n",
    "    import pickle"
   ]
  },
  {
   "cell_type": "code",
   "execution_count": 16,
   "metadata": {},
   "outputs": [
    {
     "name": "stdout",
     "output_type": "stream",
     "text": [
      "국어 : 1 영어 : 홍길동1 수학 : 28 총점 21 평균 : 21 학점 70\n",
      "\n",
      "국어 : 2 영어 : 홍길동2 수학 : 29 총점 17 평균 : 17 학점 63\n",
      "\n",
      "국어 : 3 영어 : 홍길동3 수학 : 66 총점 66 평균 : 66 학점 198\n",
      "\n",
      "국어 : 4 영어 : 홍길동4 수학 : 17 총점 61 평균 : 61 학점 139\n",
      "\n",
      "국어 : 5 영어 : 홍길동5 수학 : 73 총점 9 평균 : 9 학점 91\n",
      "\n",
      "국어 : 6 영어 : 홍길동6 수학 : 76 총점 5 평균 : 5 학점 86\n",
      "\n",
      "국어 : 7 영어 : 홍길동7 수학 : 46 총점 18 평균 : 18 학점 82\n",
      "\n",
      "국어 : 8 영어 : 홍길동8 수학 : 59 총점 38 평균 : 38 학점 135\n",
      "\n",
      "국어 : 9 영어 : 홍길동9 수학 : 27 총점 47 평균 : 47 학점 121\n",
      "\n",
      "국어 : 10 영어 : 홍길동10 수학 : 50 총점 62 평균 : 62 학점 174\n",
      "\n"
     ]
    }
   ],
   "source": [
    "# import score\n",
    "if __name__ == '__main__' :\n",
    "    student = []\n",
    "    for i in range(1,11) :\n",
    "        student.append((i, '홍길동' + str(i), rd.randrange(0,100), rd.randrange(0,100), rd.randrange(0,100)))\n",
    "    for i in range(10) :\n",
    "        s = Score(student[i][0], student[i][1], student[i][2], student[i][3], student[i][4])\n",
    "        \n",
    "        with open('score.txt', 'wb') as f :\n",
    "            list_all = pickle.dump(s, f)\n",
    "        with open('score.txt', 'rb') as f :\n",
    "            res = pickle.load(f)\n",
    "            \n",
    "            res.prn_score()\n",
    "            print()\n",
    "        "
   ]
  },
  {
   "cell_type": "markdown",
   "metadata": {},
   "source": [
    "## 2번과제\n",
    "- 구글에서 사과이미지를 10개를 무작위로 MyTest라는 폴더에 저장한다.\n",
    "- img_exam.py에서 MyTest라는 폴더에 있는 이미지를 img0.jpg, img1.jpg 순으로 이미지 파일이름을 변경한다."
   ]
  },
  {
   "cell_type": "code",
   "execution_count": 20,
   "metadata": {},
   "outputs": [],
   "source": [
    "import pickle\n",
    "import os\n",
    "dir_path = 'MyTest'\n",
    "new_name = 'img'\n",
    "temp = os.listdir(dir_path)\n",
    "for index, file_name in enumerate(temp) :\n",
    "    os.rename(os.path.join(dir_path, file_name), os.path.join(dir_path, '{}{}.jpg'.format(new_name,index+1)))"
   ]
  },
  {
   "cell_type": "code",
   "execution_count": null,
   "metadata": {},
   "outputs": [],
   "source": [
    "# 조인으로는 어떻게 하는건가\n",
    "# os모듈"
   ]
  },
  {
   "cell_type": "code",
   "execution_count": null,
   "metadata": {},
   "outputs": [],
   "source": [
    "# 느낀점\n",
    "# 너무 모르는게 많다;;"
   ]
  }
 ],
 "metadata": {
  "kernelspec": {
   "display_name": "Python 3",
   "language": "python",
   "name": "python3"
  },
  "language_info": {
   "codemirror_mode": {
    "name": "ipython",
    "version": 3
   },
   "file_extension": ".py",
   "mimetype": "text/x-python",
   "name": "python",
   "nbconvert_exporter": "python",
   "pygments_lexer": "ipython3",
   "version": "3.8.3"
  }
 },
 "nbformat": 4,
 "nbformat_minor": 4
}

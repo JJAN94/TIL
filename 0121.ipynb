{
 "cells": [
  {
   "cell_type": "markdown",
   "metadata": {
    "id": "P13u9Xuf5amb"
   },
   "source": [
    "# 분류 모델 성능 평가 지표\n",
    "- 정확도(Accuracy)\n",
    "- 오차행렬(confusion matrix)\n",
    "- 정밀도(precision)\n",
    "- 재현율(recall)\n",
    "- F1 스코어 (정밀도, 재현율의 균형)\n",
    "- ROC AUC (이진분류일때 잘 쓰임)"
   ]
  },
  {
   "cell_type": "markdown",
   "metadata": {
    "id": "pQZc4VLT72G4"
   },
   "source": [
    "# 1. 정확도"
   ]
  },
  {
   "cell_type": "markdown",
   "metadata": {
    "id": "mviy0k7W5ruS"
   },
   "source": [
    "$\\Large 정확도 = \\frac{예측 결과가 동일한 데이터 건수}{전체 예측 데이터 건수} $\n"
   ]
  },
  {
   "cell_type": "markdown",
   "metadata": {
    "id": "gsHDpoSO5sVH"
   },
   "source": [
    "- 정확도는 직관적으로 모델 예측 성능을 나타내는 평가 지표\n",
    "- 이진분류의 경우 데이터의 구성에 따라 ML 모델의 성능을 왜곡할 수 있기 때문에 정확도 수치 하나만 가지고 성능 평가를 하지는 않는다.\n",
    "- 특히, 불균형 레이블 데이터 분포에서 ML 모델의 성능을 판단한 경우, 정확도는 적합한 평가 지표가 아니다."
   ]
  },
  {
   "cell_type": "markdown",
   "metadata": {
    "id": "GMGgjNeM75PW"
   },
   "source": [
    "# 2. 오차행렬"
   ]
  },
  {
   "cell_type": "markdown",
   "metadata": {
    "id": "EhMREB0C5sYf"
   },
   "source": [
    "![IMG_1215](https://user-images.githubusercontent.com/76948864/150466748-563b75c6-1310-41ce-8881-10e11ac12810.jpg)![IMG_1215.jpg]()"
   ]
  },
  {
   "cell_type": "code",
   "execution_count": null,
   "metadata": {
    "id": "hhNACzZK5sbd"
   },
   "outputs": [],
   "source": []
  },
  {
   "cell_type": "code",
   "execution_count": null,
   "metadata": {
    "id": "szem8XTz5seT"
   },
   "outputs": [],
   "source": []
  },
  {
   "cell_type": "markdown",
   "metadata": {
    "id": "y4S4Di9w5shN"
   },
   "source": [
    "# 텐서플로우 사용법"
   ]
  },
  {
   "cell_type": "markdown",
   "metadata": {
    "id": "rz86UMMe9yb6"
   },
   "source": [
    "## 1. 텐서만들기와 텐서를 넘파이 배열로 만들기"
   ]
  },
  {
   "cell_type": "code",
   "execution_count": 1,
   "metadata": {
    "executionInfo": {
     "elapsed": 2986,
     "status": "ok",
     "timestamp": 1642740572644,
     "user": {
      "displayName": "Jaejin",
      "photoUrl": "https://lh3.googleusercontent.com/a/default-user=s64",
      "userId": "13986388466906754998"
     },
     "user_tz": -540
    },
    "id": "TUzXXtoi95Po"
   },
   "outputs": [],
   "source": [
    "import tensorflow as tf\n",
    "import numpy as np"
   ]
  },
  {
   "cell_type": "code",
   "execution_count": 2,
   "metadata": {
    "executionInfo": {
     "elapsed": 264,
     "status": "ok",
     "timestamp": 1642740587661,
     "user": {
      "displayName": "Jaejin",
      "photoUrl": "https://lh3.googleusercontent.com/a/default-user=s64",
      "userId": "13986388466906754998"
     },
     "user_tz": -540
    },
    "id": "YbgG9fPW975F"
   },
   "outputs": [],
   "source": [
    "np.set_printoptions(precision=3)"
   ]
  },
  {
   "cell_type": "code",
   "execution_count": 3,
   "metadata": {
    "executionInfo": {
     "elapsed": 685,
     "status": "ok",
     "timestamp": 1642740605920,
     "user": {
      "displayName": "Jaejin",
      "photoUrl": "https://lh3.googleusercontent.com/a/default-user=s64",
      "userId": "13986388466906754998"
     },
     "user_tz": -540
    },
    "id": "LK8f4g7O-BoE"
   },
   "outputs": [],
   "source": [
    "a = np.array([1,2,3], dtype=np.int32)\n",
    "b = [4,5,6]"
   ]
  },
  {
   "cell_type": "markdown",
   "metadata": {
    "id": "aDqXjf8M-LgO"
   },
   "source": [
    "### ndarray a와 list b를 텐서로 변환"
   ]
  },
  {
   "cell_type": "code",
   "execution_count": 4,
   "metadata": {
    "executionInfo": {
     "elapsed": 280,
     "status": "ok",
     "timestamp": 1642740625335,
     "user": {
      "displayName": "Jaejin",
      "photoUrl": "https://lh3.googleusercontent.com/a/default-user=s64",
      "userId": "13986388466906754998"
     },
     "user_tz": -540
    },
    "id": "d5iOm8ui-F-9"
   },
   "outputs": [],
   "source": [
    "t_a = tf.convert_to_tensor(a)\n",
    "t_b = tf.convert_to_tensor(b)"
   ]
  },
  {
   "cell_type": "code",
   "execution_count": 5,
   "metadata": {
    "colab": {
     "base_uri": "https://localhost:8080/"
    },
    "executionInfo": {
     "elapsed": 281,
     "status": "ok",
     "timestamp": 1642740667443,
     "user": {
      "displayName": "Jaejin",
      "photoUrl": "https://lh3.googleusercontent.com/a/default-user=s64",
      "userId": "13986388466906754998"
     },
     "user_tz": -540
    },
    "id": "MlETTYGo-KRF",
    "outputId": "0cfd4ef9-7401-4d49-c98c-9c9c161b2321"
   },
   "outputs": [
    {
     "name": "stdout",
     "output_type": "stream",
     "text": [
      "tf.Tensor([1 2 3], shape=(3,), dtype=int32)\n",
      "tf.Tensor([4 5 6], shape=(3,), dtype=int32)\n"
     ]
    }
   ],
   "source": [
    "print(t_a)\n",
    "print(t_b)"
   ]
  },
  {
   "cell_type": "markdown",
   "metadata": {
    "id": "P8Tc97Y9-rJm"
   },
   "source": [
    "### 영핼렬을 텐서로 만들어보자"
   ]
  },
  {
   "cell_type": "code",
   "execution_count": 6,
   "metadata": {
    "colab": {
     "base_uri": "https://localhost:8080/"
    },
    "executionInfo": {
     "elapsed": 394,
     "status": "ok",
     "timestamp": 1642740713981,
     "user": {
      "displayName": "Jaejin",
      "photoUrl": "https://lh3.googleusercontent.com/a/default-user=s64",
      "userId": "13986388466906754998"
     },
     "user_tz": -540
    },
    "id": "84nlPHX1-VD8",
    "outputId": "9d2ef5d2-a963-4064-dfcb-8284493c5261"
   },
   "outputs": [
    {
     "name": "stdout",
     "output_type": "stream",
     "text": [
      "(2, 3)\n",
      "tf.Tensor(\n",
      "[[1. 1. 1.]\n",
      " [1. 1. 1.]], shape=(2, 3), dtype=float32)\n"
     ]
    }
   ],
   "source": [
    "t_ones = tf.ones((2,3))\n",
    "print(t_ones.shape)\n",
    "print(t_ones)"
   ]
  },
  {
   "cell_type": "markdown",
   "metadata": {
    "id": "GNOFaTOJ-gbW"
   },
   "source": [
    "### 텐서를 넘파이 배열로 바꾸려면?"
   ]
  },
  {
   "cell_type": "code",
   "execution_count": 8,
   "metadata": {
    "executionInfo": {
     "elapsed": 277,
     "status": "ok",
     "timestamp": 1642740800989,
     "user": {
      "displayName": "Jaejin",
      "photoUrl": "https://lh3.googleusercontent.com/a/default-user=s64",
      "userId": "13986388466906754998"
     },
     "user_tz": -540
    },
    "id": "vumXP_MV-xEz"
   },
   "outputs": [],
   "source": [
    "ones = t_ones.numpy()"
   ]
  },
  {
   "cell_type": "code",
   "execution_count": 10,
   "metadata": {
    "colab": {
     "base_uri": "https://localhost:8080/"
    },
    "executionInfo": {
     "elapsed": 270,
     "status": "ok",
     "timestamp": 1642740814206,
     "user": {
      "displayName": "Jaejin",
      "photoUrl": "https://lh3.googleusercontent.com/a/default-user=s64",
      "userId": "13986388466906754998"
     },
     "user_tz": -540
    },
    "id": "kFQUKzNB-yu6",
    "outputId": "c569f85b-8994-44ed-8d49-b21c5cd7ad0e"
   },
   "outputs": [
    {
     "name": "stdout",
     "output_type": "stream",
     "text": [
      "<class 'numpy.ndarray'>\n"
     ]
    }
   ],
   "source": [
    "print(type(ones))"
   ]
  },
  {
   "cell_type": "markdown",
   "metadata": {
    "id": "7EHW14mq-3JR"
   },
   "source": [
    "### 상수값을 가진 텐서를 만들어보자"
   ]
  },
  {
   "cell_type": "code",
   "execution_count": 11,
   "metadata": {
    "colab": {
     "base_uri": "https://localhost:8080/"
    },
    "executionInfo": {
     "elapsed": 298,
     "status": "ok",
     "timestamp": 1642740894198,
     "user": {
      "displayName": "Jaejin",
      "photoUrl": "https://lh3.googleusercontent.com/a/default-user=s64",
      "userId": "13986388466906754998"
     },
     "user_tz": -540
    },
    "id": "XbsfBctf_EGq",
    "outputId": "aa1393f9-a784-4cfc-e8f8-f8a66320c625"
   },
   "outputs": [
    {
     "name": "stdout",
     "output_type": "stream",
     "text": [
      "tf.Tensor([1.2   5.    3.142 7.389], shape=(4,), dtype=float32)\n"
     ]
    }
   ],
   "source": [
    "const_tensor = tf.constant([1.2, 5, np.pi, np.exp(2)], dtype=tf.float32)\n",
    "print(const_tensor)"
   ]
  },
  {
   "cell_type": "markdown",
   "metadata": {
    "id": "7yshiagJ_MdS"
   },
   "source": [
    "### tf.fill()\n",
    "큰 사이즈의 텐서를 만들 때는 tf.fill이 tf.ones보다 효율적이다"
   ]
  },
  {
   "cell_type": "code",
   "execution_count": 12,
   "metadata": {
    "colab": {
     "base_uri": "https://localhost:8080/"
    },
    "executionInfo": {
     "elapsed": 267,
     "status": "ok",
     "timestamp": 1642741160956,
     "user": {
      "displayName": "Jaejin",
      "photoUrl": "https://lh3.googleusercontent.com/a/default-user=s64",
      "userId": "13986388466906754998"
     },
     "user_tz": -540
    },
    "id": "aOGwDEbh_3pG",
    "outputId": "157d254f-8e93-43b0-8408-6dec3c8ebb3d"
   },
   "outputs": [
    {
     "name": "stdout",
     "output_type": "stream",
     "text": [
      "tf.Tensor(\n",
      "[[3 3 3]\n",
      " [3 3 3]], shape=(2, 3), dtype=int32)\n"
     ]
    }
   ],
   "source": [
    "# 첫번째 매개변수는 텐서의 크기(튜플)\n",
    "# 두번째 매개변수는 전달 값\n",
    "t_fill = tf.fill((2,3), 3)\n",
    "print(t_fill)"
   ]
  },
  {
   "cell_type": "markdown",
   "metadata": {
    "id": "WUaD5pepANl1"
   },
   "source": [
    "### tf.one_hot()\n",
    "원-핫 인코딩 행렬을 만들어주는 함수"
   ]
  },
  {
   "cell_type": "code",
   "execution_count": 15,
   "metadata": {
    "colab": {
     "base_uri": "https://localhost:8080/"
    },
    "executionInfo": {
     "elapsed": 261,
     "status": "ok",
     "timestamp": 1642741367103,
     "user": {
      "displayName": "Jaejin",
      "photoUrl": "https://lh3.googleusercontent.com/a/default-user=s64",
      "userId": "13986388466906754998"
     },
     "user_tz": -540
    },
    "id": "qKjXg07KAigr",
    "outputId": "19975c92-424e-4f32-f68e-f74fcb263534"
   },
   "outputs": [
    {
     "data": {
      "text/plain": [
       "<tf.Tensor: shape=(4, 4), dtype=float32, numpy=\n",
       "array([[1., 0., 0., 0.],\n",
       "       [0., 1., 0., 0.],\n",
       "       [0., 0., 0., 1.],\n",
       "       [0., 0., 1., 0.]], dtype=float32)>"
      ]
     },
     "execution_count": 15,
     "metadata": {},
     "output_type": "execute_result"
    }
   ],
   "source": [
    "# 첫번째 매개변수는 원-핫 인코딩 위치 인덱스\n",
    "# 두번째 매개변수는 원-핫 인코딩 벡터의 길이 전달\n",
    "tf.one_hot([0,1,3,2], 4)\n",
    "# 행렬의 크기는 첫번째 매개변수의 길이 x 두번째 매개변수의 크기)"
   ]
  },
  {
   "cell_type": "markdown",
   "metadata": {
    "id": "S2nnvn-WArja"
   },
   "source": [
    "## 텐서의 데이터 타입과 크기 조작"
   ]
  },
  {
   "cell_type": "markdown",
   "metadata": {
    "id": "v1vOSKDLBJjk"
   },
   "source": [
    "실제 모델(CNN)을 만들고 데이터를 처리할 때 입력 텐서의 크기가 안맞으면 실행이 안된다. 이를 처리하려면 텐서를 조작하는 방법을 알아야한다. 어떻게 조정해야 할까?\\\n",
    "cast, reshape, transpose, squeeze"
   ]
  },
  {
   "cell_type": "markdown",
   "metadata": {
    "id": "m9PRbe1fBY62"
   },
   "source": [
    "### tf.cast() : 텐서의 데이터 타입의 변경"
   ]
  },
  {
   "cell_type": "code",
   "execution_count": 16,
   "metadata": {
    "colab": {
     "base_uri": "https://localhost:8080/"
    },
    "executionInfo": {
     "elapsed": 271,
     "status": "ok",
     "timestamp": 1642741525839,
     "user": {
      "displayName": "Jaejin",
      "photoUrl": "https://lh3.googleusercontent.com/a/default-user=s64",
      "userId": "13986388466906754998"
     },
     "user_tz": -540
    },
    "id": "EJPtsjjQBi-H",
    "outputId": "f8d60986-55e7-4ab2-e583-8eddb6ae466e"
   },
   "outputs": [
    {
     "name": "stdout",
     "output_type": "stream",
     "text": [
      "tf.Tensor([1 2 3], shape=(3,), dtype=int64)\n"
     ]
    }
   ],
   "source": [
    "# int32 -> int64로 변경해보자\n",
    "t_a_new = tf.cast(t_a, tf.int64)\n",
    "print(t_a_new)"
   ]
  },
  {
   "cell_type": "markdown",
   "metadata": {
    "id": "kqD5Ut5tBmrO"
   },
   "source": [
    "### 텐서 차원 조작"
   ]
  },
  {
   "cell_type": "markdown",
   "metadata": {
    "id": "eg5iMnalCGUV"
   },
   "source": [
    "#### 1. 텐서 전치"
   ]
  },
  {
   "cell_type": "code",
   "execution_count": 17,
   "metadata": {
    "colab": {
     "base_uri": "https://localhost:8080/"
    },
    "executionInfo": {
     "elapsed": 288,
     "status": "ok",
     "timestamp": 1642741630398,
     "user": {
      "displayName": "Jaejin",
      "photoUrl": "https://lh3.googleusercontent.com/a/default-user=s64",
      "userId": "13986388466906754998"
     },
     "user_tz": -540
    },
    "id": "sEdTLAWxB4BS",
    "outputId": "bd724ec3-bdb5-43d6-dcaf-767a7501cd5c"
   },
   "outputs": [
    {
     "name": "stdout",
     "output_type": "stream",
     "text": [
      "(3, 5) ------> (5, 3)\n"
     ]
    }
   ],
   "source": [
    "t = tf.random.uniform(shape=(3,5))\n",
    "t_tr = tf.transpose(t)\n",
    "print(t.shape, '------>', t_tr.shape)"
   ]
  },
  {
   "cell_type": "markdown",
   "metadata": {
    "id": "HFsrfwCjCAL8"
   },
   "source": [
    "#### 2. 텐서 크기 바꾸기"
   ]
  },
  {
   "cell_type": "code",
   "execution_count": 19,
   "metadata": {
    "colab": {
     "base_uri": "https://localhost:8080/"
    },
    "executionInfo": {
     "elapsed": 278,
     "status": "ok",
     "timestamp": 1642741712330,
     "user": {
      "displayName": "Jaejin",
      "photoUrl": "https://lh3.googleusercontent.com/a/default-user=s64",
      "userId": "13986388466906754998"
     },
     "user_tz": -540
    },
    "id": "TqaUqO8wCDoO",
    "outputId": "b204f289-da73-4b01-e4b2-8779573457f1"
   },
   "outputs": [
    {
     "name": "stdout",
     "output_type": "stream",
     "text": [
      "tf.Tensor(\n",
      "[[0. 0. 0. 0. 0. 0.]\n",
      " [0. 0. 0. 0. 0. 0.]\n",
      " [0. 0. 0. 0. 0. 0.]\n",
      " [0. 0. 0. 0. 0. 0.]\n",
      " [0. 0. 0. 0. 0. 0.]], shape=(5, 6), dtype=float32) (5, 6)\n"
     ]
    }
   ],
   "source": [
    "t = tf.zeros((30,))\n",
    "t_reshape = tf.reshape(t, shape=(5,6))\n",
    "print(t_reshape, t_reshape.shape)"
   ]
  },
  {
   "cell_type": "code",
   "execution_count": 21,
   "metadata": {
    "colab": {
     "base_uri": "https://localhost:8080/"
    },
    "executionInfo": {
     "elapsed": 261,
     "status": "ok",
     "timestamp": 1642741804190,
     "user": {
      "displayName": "Jaejin",
      "photoUrl": "https://lh3.googleusercontent.com/a/default-user=s64",
      "userId": "13986388466906754998"
     },
     "user_tz": -540
    },
    "id": "0h-FDacLCRXr",
    "outputId": "0e7ffcab-86ea-4a48-9b87-87a6145b0f38"
   },
   "outputs": [
    {
     "name": "stdout",
     "output_type": "stream",
     "text": [
      "tf.Tensor(\n",
      "[[9 9 9 9 9]\n",
      " [9 9 9 9 9]\n",
      " [9 9 9 9 9]], shape=(3, 5), dtype=int32)\n",
      "\n",
      "\n",
      "tf.Tensor([9 9 9 9 9 9 9 9 9 9 9 9 9 9 9], shape=(15,), dtype=int32)\n"
     ]
    }
   ],
   "source": [
    "t = tf.fill((3,5), 9)\n",
    "print(t)\n",
    "print('\\n')\n",
    "t_reshape = tf.reshape(t, shape=(-1)) # -1을 넣으면 Flatten해주는 효과가... NxM 차원의 벡터가 생성됨\n",
    "print(t_reshape)"
   ]
  },
  {
   "cell_type": "markdown",
   "metadata": {
    "id": "Ow6OtxhZCjDa"
   },
   "source": [
    "#### 3. 불필요한 차원 삭제하기(크기가 1인 차원은 필요없다!)"
   ]
  },
  {
   "cell_type": "code",
   "execution_count": 22,
   "metadata": {
    "colab": {
     "base_uri": "https://localhost:8080/"
    },
    "executionInfo": {
     "elapsed": 262,
     "status": "ok",
     "timestamp": 1642741863490,
     "user": {
      "displayName": "Jaejin",
      "photoUrl": "https://lh3.googleusercontent.com/a/default-user=s64",
      "userId": "13986388466906754998"
     },
     "user_tz": -540
    },
    "id": "A_OGd5BGCwjR",
    "outputId": "8be841e8-d0ad-4df6-ea50-a0dd578b02ec"
   },
   "outputs": [
    {
     "name": "stdout",
     "output_type": "stream",
     "text": [
      "(1, 2, 1, 4, 1) ----> (1, 2, 4)\n"
     ]
    }
   ],
   "source": [
    "t = tf.zeros((1,2,1,4,1))\n",
    "t_sqz = tf.squeeze(t, axis=(2,4))\n",
    "print(t.shape, '---->', t_sqz.shape)"
   ]
  },
  {
   "cell_type": "markdown",
   "metadata": {
    "id": "3T_0AmoyC5HA"
   },
   "source": [
    "## 텐서와 선형대수 연산"
   ]
  },
  {
   "cell_type": "code",
   "execution_count": 23,
   "metadata": {
    "executionInfo": {
     "elapsed": 304,
     "status": "ok",
     "timestamp": 1642741998256,
     "user": {
      "displayName": "Jaejin",
      "photoUrl": "https://lh3.googleusercontent.com/a/default-user=s64",
      "userId": "13986388466906754998"
     },
     "user_tz": -540
    },
    "id": "4LdHbzQADENK"
   },
   "outputs": [],
   "source": [
    "tf.random.set_seed(1)\n",
    "t1 = tf.random.uniform(shape=(5,2), minval=-1.0, maxval=1.0)\n",
    "t2 = tf.random.normal(shape=(5,2), mean=0.0, stddev=1.0)"
   ]
  },
  {
   "cell_type": "code",
   "execution_count": 24,
   "metadata": {
    "colab": {
     "base_uri": "https://localhost:8080/"
    },
    "executionInfo": {
     "elapsed": 293,
     "status": "ok",
     "timestamp": 1642742030900,
     "user": {
      "displayName": "Jaejin",
      "photoUrl": "https://lh3.googleusercontent.com/a/default-user=s64",
      "userId": "13986388466906754998"
     },
     "user_tz": -540
    },
    "id": "aaz0UTrIDEV4",
    "outputId": "385bf23e-2ca3-41cf-e2e9-eb1015b6b64d"
   },
   "outputs": [
    {
     "name": "stdout",
     "output_type": "stream",
     "text": [
      "tf.Tensor(\n",
      "[[-0.67   0.803]\n",
      " [ 0.262 -0.131]\n",
      " [-0.416  0.285]\n",
      " [ 0.952 -0.13 ]\n",
      " [ 0.32   0.21 ]], shape=(5, 2), dtype=float32) tf.Tensor(\n",
      "[[ 0.403 -1.088]\n",
      " [-0.063  1.337]\n",
      " [ 0.712 -0.489]\n",
      " [-0.764 -1.037]\n",
      " [-1.252  0.021]], shape=(5, 2), dtype=float32)\n"
     ]
    }
   ],
   "source": [
    "print(t1, t2)"
   ]
  },
  {
   "cell_type": "markdown",
   "metadata": {
    "id": "WDcdjwpKEBVL"
   },
   "source": [
    "### 아다마르 곱 (Hadamard product)\n",
    "같은 크기의 행렬(텐서)를 같은 위치의 element끼리 곱한것"
   ]
  },
  {
   "cell_type": "code",
   "execution_count": 25,
   "metadata": {
    "colab": {
     "base_uri": "https://localhost:8080/"
    },
    "executionInfo": {
     "elapsed": 320,
     "status": "ok",
     "timestamp": 1642742049951,
     "user": {
      "displayName": "Jaejin",
      "photoUrl": "https://lh3.googleusercontent.com/a/default-user=s64",
      "userId": "13986388466906754998"
     },
     "user_tz": -540
    },
    "id": "MhM9lGw0DEYo",
    "outputId": "7e5bc3eb-c77d-48c9-c0d8-b3c9005d850a"
   },
   "outputs": [
    {
     "name": "stdout",
     "output_type": "stream",
     "text": [
      "[[-0.27  -0.874]\n",
      " [-0.017 -0.175]\n",
      " [-0.296 -0.139]\n",
      " [-0.727  0.135]\n",
      " [-0.401  0.004]]\n"
     ]
    }
   ],
   "source": [
    "t3 = tf.multiply(t1, t2).numpy()\n",
    "print(t3)"
   ]
  },
  {
   "cell_type": "markdown",
   "metadata": {
    "id": "gnWOtdJ5DEbd"
   },
   "source": [
    "### 특정 축을 따라 평균, 합, 표준편차 계산"
   ]
  },
  {
   "cell_type": "code",
   "execution_count": 28,
   "metadata": {
    "colab": {
     "base_uri": "https://localhost:8080/"
    },
    "executionInfo": {
     "elapsed": 298,
     "status": "ok",
     "timestamp": 1642742370235,
     "user": {
      "displayName": "Jaejin",
      "photoUrl": "https://lh3.googleusercontent.com/a/default-user=s64",
      "userId": "13986388466906754998"
     },
     "user_tz": -540
    },
    "id": "2Bu-wdSVDEeH",
    "outputId": "7f08f21a-fc37-4f19-83e7-3f5f83646c17"
   },
   "outputs": [
    {
     "name": "stdout",
     "output_type": "stream",
     "text": [
      "컬럼별 평균은 :  tf.Tensor([0.09  0.207], shape=(2,), dtype=float32)\n",
      "컬럼별 합은 :  tf.Tensor([0.448 1.037], shape=(2,), dtype=float32)\n",
      "컬럼별 표준편차는 :  tf.Tensor([0.576 0.343], shape=(2,), dtype=float32)\n"
     ]
    }
   ],
   "source": [
    "t4 = tf.math.reduce_mean(t1, axis=0) # axis=0 : column wise\n",
    "print('컬럼별 평균은 : ', t4)\n",
    "\n",
    "t4 = tf.math.reduce_sum(t1, axis=0)\n",
    "print('컬럼별 합은 : ', t4)\n",
    "\n",
    "t4 = tf.math.reduce_std(t1, axis=0)\n",
    "print('컬럼별 표준편차는 : ', t4)"
   ]
  },
  {
   "cell_type": "markdown",
   "metadata": {
    "id": "tfYmV4uRESgX"
   },
   "source": [
    "### 일반적인 행렬의 곱(dot product)"
   ]
  },
  {
   "cell_type": "code",
   "execution_count": 34,
   "metadata": {
    "colab": {
     "base_uri": "https://localhost:8080/"
    },
    "executionInfo": {
     "elapsed": 353,
     "status": "ok",
     "timestamp": 1642742551426,
     "user": {
      "displayName": "Jaejin",
      "photoUrl": "https://lh3.googleusercontent.com/a/default-user=s64",
      "userId": "13986388466906754998"
     },
     "user_tz": -540
    },
    "id": "kt1TukZ0E5zg",
    "outputId": "2a486f8e-7673-43b1-844d-1b53ae7f9056"
   },
   "outputs": [
    {
     "name": "stdout",
     "output_type": "stream",
     "text": [
      "tf.Tensor(\n",
      "[[-1.144  1.115 -0.87  -0.321  0.856]\n",
      " [ 0.248 -0.191  0.25  -0.064 -0.331]\n",
      " [-0.478  0.407 -0.436  0.022  0.527]\n",
      " [ 0.525 -0.234  0.741 -0.593 -1.194]\n",
      " [-0.099  0.26   0.125 -0.462 -0.396]], shape=(5, 5), dtype=float32)\n"
     ]
    }
   ],
   "source": [
    "t5 = tf.linalg.matmul(t1, t2, transpose_b=True) # transpose a, b : 첫번째냐 두번째냐 어딜 전치해줄지 설정, 이값 안주면 계산이 안됌\n",
    "print(t5)"
   ]
  },
  {
   "cell_type": "markdown",
   "metadata": {
    "id": "YO6k3UnQFQow"
   },
   "source": [
    "### norm 구하기"
   ]
  },
  {
   "cell_type": "code",
   "execution_count": 35,
   "metadata": {
    "colab": {
     "base_uri": "https://localhost:8080/"
    },
    "executionInfo": {
     "elapsed": 296,
     "status": "ok",
     "timestamp": 1642742601918,
     "user": {
      "displayName": "Jaejin",
      "photoUrl": "https://lh3.googleusercontent.com/a/default-user=s64",
      "userId": "13986388466906754998"
     },
     "user_tz": -540
    },
    "id": "HO_mHfgtFmDi",
    "outputId": "351fdab0-2ca3-43ca-b895-9f17082e1412"
   },
   "outputs": [
    {
     "name": "stdout",
     "output_type": "stream",
     "text": [
      "[1.046 0.293 0.504 0.96  0.383]\n"
     ]
    }
   ],
   "source": [
    "norm_t1 = tf.norm(t1, ord=2, axis=1).numpy() # ord=2면 프로베니우스 놈\n",
    "print(norm_t1)"
   ]
  },
  {
   "cell_type": "markdown",
   "metadata": {
    "id": "wmdX9QE9GYSP"
   },
   "source": [
    "## 텐서플로우 넘파이 사용 tf.experimental.numpy\n",
    "텐서플로우 내에서 numpy API를 지원한다"
   ]
  },
  {
   "cell_type": "code",
   "execution_count": 39,
   "metadata": {
    "executionInfo": {
     "elapsed": 260,
     "status": "ok",
     "timestamp": 1642742991221,
     "user": {
      "displayName": "Jaejin",
      "photoUrl": "https://lh3.googleusercontent.com/a/default-user=s64",
      "userId": "13986388466906754998"
     },
     "user_tz": -540
    },
    "id": "IrkL07J4HGR1"
   },
   "outputs": [],
   "source": [
    "import tensorflow.experimental.numpy as tnp"
   ]
  },
  {
   "cell_type": "code",
   "execution_count": 40,
   "metadata": {
    "colab": {
     "base_uri": "https://localhost:8080/"
    },
    "executionInfo": {
     "elapsed": 300,
     "status": "ok",
     "timestamp": 1642742999239,
     "user": {
      "displayName": "Jaejin",
      "photoUrl": "https://lh3.googleusercontent.com/a/default-user=s64",
      "userId": "13986388466906754998"
     },
     "user_tz": -540
    },
    "id": "pTCES4gTHKr6",
    "outputId": "76885234-bb03-4efe-9657-7feb3e4831e8"
   },
   "outputs": [
    {
     "data": {
      "text/plain": [
       "<tf.Tensor: shape=(4,), dtype=int64, numpy=array([1, 2, 3, 4])>"
      ]
     },
     "execution_count": 40,
     "metadata": {},
     "output_type": "execute_result"
    }
   ],
   "source": [
    "tnp.array([1,2,3,4])"
   ]
  },
  {
   "cell_type": "code",
   "execution_count": 41,
   "metadata": {
    "colab": {
     "base_uri": "https://localhost:8080/"
    },
    "executionInfo": {
     "elapsed": 279,
     "status": "ok",
     "timestamp": 1642743024840,
     "user": {
      "displayName": "Jaejin",
      "photoUrl": "https://lh3.googleusercontent.com/a/default-user=s64",
      "userId": "13986388466906754998"
     },
     "user_tz": -540
    },
    "id": "F4_KlD99HOXo",
    "outputId": "617672a3-decb-4a0f-9123-5e2c1475e52b"
   },
   "outputs": [
    {
     "data": {
      "text/plain": [
       "array([1, 2, 3, 4])"
      ]
     },
     "execution_count": 41,
     "metadata": {},
     "output_type": "execute_result"
    }
   ],
   "source": [
    "tnp.array([1,2,3,4]).numpy()"
   ]
  },
  {
   "cell_type": "markdown",
   "metadata": {
    "id": "9ZeQUtxGHUow"
   },
   "source": [
    "https://www.tensorflow.org/api_docs/python/tf/math\n",
    "\n",
    "https://www.tensorflow.org/api_docs/python/tf/linalg"
   ]
  },
  {
   "cell_type": "markdown",
   "metadata": {
    "id": "wGgp6NEwHln0"
   },
   "source": [
    "## 텐서 나누기"
   ]
  },
  {
   "cell_type": "markdown",
   "metadata": {
    "id": "WsAm3CrqHx5m"
   },
   "source": [
    "### split, stack, concat"
   ]
  },
  {
   "cell_type": "markdown",
   "metadata": {
    "id": "IgaLI80JI-dR"
   },
   "source": [
    "#### split"
   ]
  },
  {
   "cell_type": "code",
   "execution_count": 42,
   "metadata": {
    "colab": {
     "base_uri": "https://localhost:8080/"
    },
    "executionInfo": {
     "elapsed": 424,
     "status": "ok",
     "timestamp": 1642743198294,
     "user": {
      "displayName": "Jaejin",
      "photoUrl": "https://lh3.googleusercontent.com/a/default-user=s64",
      "userId": "13986388466906754998"
     },
     "user_tz": -540
    },
    "id": "z2YDIB4pH2UJ",
    "outputId": "2f990979-0c3d-485b-855c-742ae62a7bf9"
   },
   "outputs": [
    {
     "name": "stdout",
     "output_type": "stream",
     "text": [
      "[0.165 0.901 0.631 0.435 0.292 0.643]\n"
     ]
    }
   ],
   "source": [
    "tf.random.set_seed(1)\n",
    "t = tf.random.uniform((6,))\n",
    "\n",
    "print(t.numpy())\n"
   ]
  },
  {
   "cell_type": "code",
   "execution_count": 44,
   "metadata": {
    "colab": {
     "base_uri": "https://localhost:8080/"
    },
    "executionInfo": {
     "elapsed": 3,
     "status": "ok",
     "timestamp": 1642743333821,
     "user": {
      "displayName": "Jaejin",
      "photoUrl": "https://lh3.googleusercontent.com/a/default-user=s64",
      "userId": "13986388466906754998"
     },
     "user_tz": -540
    },
    "id": "RYtnYFJ4H-8n",
    "outputId": "b8482c98-4d4b-4adb-b6a8-267aa892e1b0"
   },
   "outputs": [
    {
     "data": {
      "text/plain": [
       "[array([0.165, 0.901], dtype=float32),\n",
       " array([0.631, 0.435], dtype=float32),\n",
       " array([0.292, 0.643], dtype=float32)]"
      ]
     },
     "execution_count": 44,
     "metadata": {},
     "output_type": "execute_result"
    }
   ],
   "source": [
    "t_splits = tf.split(t, num_or_size_splits=3) # num_or_size_splits : 나눌 개수 , 나눌 크기(서로 다르게 지정가능)\n",
    "[item.numpy() for item in t_splits]"
   ]
  },
  {
   "cell_type": "code",
   "execution_count": 45,
   "metadata": {
    "colab": {
     "base_uri": "https://localhost:8080/"
    },
    "executionInfo": {
     "elapsed": 270,
     "status": "ok",
     "timestamp": 1642743397611,
     "user": {
      "displayName": "Jaejin",
      "photoUrl": "https://lh3.googleusercontent.com/a/default-user=s64",
      "userId": "13986388466906754998"
     },
     "user_tz": -540
    },
    "id": "6RZW2DOZII0S",
    "outputId": "42f474ec-d252-41da-8ddb-852c24dcd0db"
   },
   "outputs": [
    {
     "name": "stdout",
     "output_type": "stream",
     "text": [
      "[0.51  0.444 0.409 0.992 0.689]\n"
     ]
    },
    {
     "data": {
      "text/plain": [
       "[<tf.Tensor: shape=(3,), dtype=float32, numpy=array([0.51 , 0.444, 0.409], dtype=float32)>,\n",
       " <tf.Tensor: shape=(2,), dtype=float32, numpy=array([0.992, 0.689], dtype=float32)>]"
      ]
     },
     "execution_count": 45,
     "metadata": {},
     "output_type": "execute_result"
    }
   ],
   "source": [
    "t = tf.random.uniform((5,))\n",
    "print(t.numpy())\n",
    "t_splits = tf.split(t, num_or_size_splits=[3,2]) # 3개, 2개 리스트로 전달한다\n",
    "t_splits"
   ]
  },
  {
   "cell_type": "code",
   "execution_count": 46,
   "metadata": {
    "colab": {
     "base_uri": "https://localhost:8080/"
    },
    "executionInfo": {
     "elapsed": 279,
     "status": "ok",
     "timestamp": 1642743417935,
     "user": {
      "displayName": "Jaejin",
      "photoUrl": "https://lh3.googleusercontent.com/a/default-user=s64",
      "userId": "13986388466906754998"
     },
     "user_tz": -540
    },
    "id": "6mjOliEmIvpo",
    "outputId": "6eef3e27-54f1-4068-8ed2-c93ee7ecc4ed"
   },
   "outputs": [
    {
     "data": {
      "text/plain": [
       "[array([0.51 , 0.444, 0.409], dtype=float32),\n",
       " array([0.992, 0.689], dtype=float32)]"
      ]
     },
     "execution_count": 46,
     "metadata": {},
     "output_type": "execute_result"
    }
   ],
   "source": [
    "[item.numpy() for item in t_splits]"
   ]
  },
  {
   "cell_type": "markdown",
   "metadata": {
    "id": "JjDgC6ngI0mt"
   },
   "source": [
    "#### stack\n",
    "쌓을 때 크기가 같다"
   ]
  },
  {
   "cell_type": "code",
   "execution_count": 51,
   "metadata": {
    "colab": {
     "base_uri": "https://localhost:8080/"
    },
    "executionInfo": {
     "elapsed": 277,
     "status": "ok",
     "timestamp": 1642743601958,
     "user": {
      "displayName": "Jaejin",
      "photoUrl": "https://lh3.googleusercontent.com/a/default-user=s64",
      "userId": "13986388466906754998"
     },
     "user_tz": -540
    },
    "id": "5TwI5VHBJCsk",
    "outputId": "77bd2b5e-887d-46e8-df5c-f339ad9cbbb2"
   },
   "outputs": [
    {
     "name": "stdout",
     "output_type": "stream",
     "text": [
      "[[1. 1. 1.]\n",
      " [0. 0. 0.]]\n",
      "[[1. 0.]\n",
      " [1. 0.]\n",
      " [1. 0.]]\n"
     ]
    }
   ],
   "source": [
    "A = tf.ones((3,))\n",
    "B = tf.zeros((3,))\n",
    "S = tf.stack([A, B], axis=0)\n",
    "print(S.numpy())\n",
    "S = tf.stack([A, B], axis=1)\n",
    "print(S.numpy())"
   ]
  },
  {
   "cell_type": "markdown",
   "metadata": {
    "id": "Dkc3HSPBJPlW"
   },
   "source": [
    "#### concat\n",
    "그냥 붙여"
   ]
  },
  {
   "cell_type": "code",
   "execution_count": 52,
   "metadata": {
    "colab": {
     "base_uri": "https://localhost:8080/"
    },
    "executionInfo": {
     "elapsed": 283,
     "status": "ok",
     "timestamp": 1642743714960,
     "user": {
      "displayName": "Jaejin",
      "photoUrl": "https://lh3.googleusercontent.com/a/default-user=s64",
      "userId": "13986388466906754998"
     },
     "user_tz": -540
    },
    "id": "U337axbZJmP4",
    "outputId": "a316ef93-9445-420b-db6b-56ca1cf185d8"
   },
   "outputs": [
    {
     "name": "stdout",
     "output_type": "stream",
     "text": [
      "[1. 1. 1. 0. 0.]\n"
     ]
    }
   ],
   "source": [
    "A = tf.ones((3,))\n",
    "B = tf.zeros((2,))\n",
    "C = tf.concat([A,B], axis=0)\n",
    "print(C.numpy())"
   ]
  },
  {
   "cell_type": "code",
   "execution_count": 55,
   "metadata": {
    "colab": {
     "base_uri": "https://localhost:8080/",
     "height": 345
    },
    "executionInfo": {
     "elapsed": 275,
     "status": "error",
     "timestamp": 1642743762536,
     "user": {
      "displayName": "Jaejin",
      "photoUrl": "https://lh3.googleusercontent.com/a/default-user=s64",
      "userId": "13986388466906754998"
     },
     "user_tz": -540
    },
    "id": "WHS1leJjJmSo",
    "outputId": "72a0f601-fcab-462f-d485-f60172c92940"
   },
   "outputs": [
    {
     "ename": "InvalidArgumentError",
     "evalue": "ignored",
     "output_type": "error",
     "traceback": [
      "\u001b[0;31m---------------------------------------------------------------------------\u001b[0m",
      "\u001b[0;31mInvalidArgumentError\u001b[0m                      Traceback (most recent call last)",
      "\u001b[0;32m<ipython-input-55-2c541fe8e0ca>\u001b[0m in \u001b[0;36m<module>\u001b[0;34m()\u001b[0m\n\u001b[0;32m----> 1\u001b[0;31m \u001b[0mC\u001b[0m \u001b[0;34m=\u001b[0m \u001b[0mtf\u001b[0m\u001b[0;34m.\u001b[0m\u001b[0mconcat\u001b[0m\u001b[0;34m(\u001b[0m\u001b[0;34m[\u001b[0m\u001b[0mA\u001b[0m\u001b[0;34m,\u001b[0m \u001b[0mB\u001b[0m\u001b[0;34m]\u001b[0m\u001b[0;34m,\u001b[0m \u001b[0maxis\u001b[0m\u001b[0;34m=\u001b[0m\u001b[0;36m1\u001b[0m\u001b[0;34m)\u001b[0m \u001b[0;31m# 차원이 다르면... axis설정에 따라 연산이 안된다... null은 처리가 안된다...\u001b[0m\u001b[0;34m\u001b[0m\u001b[0;34m\u001b[0m\u001b[0m\n\u001b[0m\u001b[1;32m      2\u001b[0m \u001b[0mprint\u001b[0m\u001b[0;34m(\u001b[0m\u001b[0mC\u001b[0m\u001b[0;34m.\u001b[0m\u001b[0mnumpy\u001b[0m\u001b[0;34m(\u001b[0m\u001b[0;34m)\u001b[0m\u001b[0;34m)\u001b[0m\u001b[0;34m\u001b[0m\u001b[0;34m\u001b[0m\u001b[0m\n",
      "\u001b[0;32m/usr/local/lib/python3.7/dist-packages/tensorflow/python/util/traceback_utils.py\u001b[0m in \u001b[0;36merror_handler\u001b[0;34m(*args, **kwargs)\u001b[0m\n\u001b[1;32m    151\u001b[0m     \u001b[0;32mexcept\u001b[0m \u001b[0mException\u001b[0m \u001b[0;32mas\u001b[0m \u001b[0me\u001b[0m\u001b[0;34m:\u001b[0m\u001b[0;34m\u001b[0m\u001b[0;34m\u001b[0m\u001b[0m\n\u001b[1;32m    152\u001b[0m       \u001b[0mfiltered_tb\u001b[0m \u001b[0;34m=\u001b[0m \u001b[0m_process_traceback_frames\u001b[0m\u001b[0;34m(\u001b[0m\u001b[0me\u001b[0m\u001b[0;34m.\u001b[0m\u001b[0m__traceback__\u001b[0m\u001b[0;34m)\u001b[0m\u001b[0;34m\u001b[0m\u001b[0;34m\u001b[0m\u001b[0m\n\u001b[0;32m--> 153\u001b[0;31m       \u001b[0;32mraise\u001b[0m \u001b[0me\u001b[0m\u001b[0;34m.\u001b[0m\u001b[0mwith_traceback\u001b[0m\u001b[0;34m(\u001b[0m\u001b[0mfiltered_tb\u001b[0m\u001b[0;34m)\u001b[0m \u001b[0;32mfrom\u001b[0m \u001b[0;32mNone\u001b[0m\u001b[0;34m\u001b[0m\u001b[0;34m\u001b[0m\u001b[0m\n\u001b[0m\u001b[1;32m    154\u001b[0m     \u001b[0;32mfinally\u001b[0m\u001b[0;34m:\u001b[0m\u001b[0;34m\u001b[0m\u001b[0;34m\u001b[0m\u001b[0m\n\u001b[1;32m    155\u001b[0m       \u001b[0;32mdel\u001b[0m \u001b[0mfiltered_tb\u001b[0m\u001b[0;34m\u001b[0m\u001b[0;34m\u001b[0m\u001b[0m\n",
      "\u001b[0;32m/usr/local/lib/python3.7/dist-packages/tensorflow/python/framework/ops.py\u001b[0m in \u001b[0;36mraise_from_not_ok_status\u001b[0;34m(e, name)\u001b[0m\n\u001b[1;32m   7105\u001b[0m \u001b[0;32mdef\u001b[0m \u001b[0mraise_from_not_ok_status\u001b[0m\u001b[0;34m(\u001b[0m\u001b[0me\u001b[0m\u001b[0;34m,\u001b[0m \u001b[0mname\u001b[0m\u001b[0;34m)\u001b[0m\u001b[0;34m:\u001b[0m\u001b[0;34m\u001b[0m\u001b[0;34m\u001b[0m\u001b[0m\n\u001b[1;32m   7106\u001b[0m   \u001b[0me\u001b[0m\u001b[0;34m.\u001b[0m\u001b[0mmessage\u001b[0m \u001b[0;34m+=\u001b[0m \u001b[0;34m(\u001b[0m\u001b[0;34m\" name: \"\u001b[0m \u001b[0;34m+\u001b[0m \u001b[0mname\u001b[0m \u001b[0;32mif\u001b[0m \u001b[0mname\u001b[0m \u001b[0;32mis\u001b[0m \u001b[0;32mnot\u001b[0m \u001b[0;32mNone\u001b[0m \u001b[0;32melse\u001b[0m \u001b[0;34m\"\"\u001b[0m\u001b[0;34m)\u001b[0m\u001b[0;34m\u001b[0m\u001b[0;34m\u001b[0m\u001b[0m\n\u001b[0;32m-> 7107\u001b[0;31m   \u001b[0;32mraise\u001b[0m \u001b[0mcore\u001b[0m\u001b[0;34m.\u001b[0m\u001b[0m_status_to_exception\u001b[0m\u001b[0;34m(\u001b[0m\u001b[0me\u001b[0m\u001b[0;34m)\u001b[0m \u001b[0;32mfrom\u001b[0m \u001b[0;32mNone\u001b[0m  \u001b[0;31m# pylint: disable=protected-access\u001b[0m\u001b[0;34m\u001b[0m\u001b[0;34m\u001b[0m\u001b[0m\n\u001b[0m\u001b[1;32m   7108\u001b[0m \u001b[0;34m\u001b[0m\u001b[0m\n\u001b[1;32m   7109\u001b[0m \u001b[0;34m\u001b[0m\u001b[0m\n",
      "\u001b[0;31mInvalidArgumentError\u001b[0m: ConcatOp : Expected concatenating dimensions in the range [-1, 1), but got 1 [Op:ConcatV2] name: concat"
     ]
    }
   ],
   "source": [
    "C = tf.concat([A, B], axis=1) # 차원이 다르면... axis설정에 따라 연산이 안된다... null은 처리가 안된다...\n",
    "print(C.numpy())"
   ]
  },
  {
   "cell_type": "code",
   "execution_count": null,
   "metadata": {
    "id": "Foqrwr1cJmVk"
   },
   "outputs": [],
   "source": []
  },
  {
   "cell_type": "code",
   "execution_count": null,
   "metadata": {
    "id": "oj859c-dJmXz"
   },
   "outputs": [],
   "source": []
  },
  {
   "cell_type": "code",
   "execution_count": null,
   "metadata": {
    "id": "Yo-0gokoJmaY"
   },
   "outputs": [],
   "source": []
  },
  {
   "cell_type": "code",
   "execution_count": null,
   "metadata": {
    "id": "Viu9Ha29Jmd7"
   },
   "outputs": [],
   "source": []
  },
  {
   "cell_type": "code",
   "execution_count": null,
   "metadata": {
    "id": "6JzRhKRZJmk_"
   },
   "outputs": [],
   "source": []
  },
  {
   "cell_type": "markdown",
   "metadata": {
    "id": "R5Lk0RjHJmn9"
   },
   "source": [
    "# 메모\n",
    "아니 진짜 axis너무 헷갈림 -> 진짜 이해될때까지 정리하자"
   ]
  },
  {
   "cell_type": "code",
   "execution_count": null,
   "metadata": {
    "id": "GBLozFTmJrMP"
   },
   "outputs": [],
   "source": []
  }
 ],
 "metadata": {
  "accelerator": "GPU",
  "colab": {
   "authorship_tag": "ABX9TyPXeYCxsBCA2fhl94zjkl4A",
   "collapsed_sections": [],
   "name": "0121.ipynb",
   "provenance": [],
   "toc_visible": true
  },
  "kernelspec": {
   "display_name": "Python 3 (ipykernel)",
   "language": "python",
   "name": "python3"
  },
  "language_info": {
   "codemirror_mode": {
    "name": "ipython",
    "version": 3
   },
   "file_extension": ".py",
   "mimetype": "text/x-python",
   "name": "python",
   "nbconvert_exporter": "python",
   "pygments_lexer": "ipython3",
   "version": "3.9.7"
  }
 },
 "nbformat": 4,
 "nbformat_minor": 4
}

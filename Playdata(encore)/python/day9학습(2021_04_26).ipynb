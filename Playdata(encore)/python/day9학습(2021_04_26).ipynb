{
 "cells": [
  {
   "cell_type": "markdown",
   "metadata": {},
   "source": [
    "# day 09\n",
    "1. 기본 자료형 및 시퀀스를 이용한 사용자 함수를 만들어서 연동할 수 있다.\n",
    "2. 클래스 생성 후 연동할 수 있다."
   ]
  },
  {
   "cell_type": "markdown",
   "metadata": {},
   "source": [
    "- 전처리 <=> 데이터 표준화\n",
    "\n",
    "\n",
    "1. 정수, 실수, 불리언, 시퀀스(나열형 = 문자열, 리스트, 튜플, 딕트) + set\n",
    "2. 형변환 -> 1번에 제공하는 각각의 클래스를 통해 값 전달 ex) int(90.7) = 90\n",
    "3. 시퀀스(나열형 = 문자열, 리스트, 튜플, 딕트) + set(집합연산자), 시퀀스연산자 : \\*(반복) +(연결)\\\n",
    "    CRUD 형식의 메소드\n",
    "4. 제어문 = 조건문(선택문), 반복문, 제어흐름문(continue, break, return)\n",
    "5. 함수, 함수 모듈 (라이브러리=import sys, 사용자함수, 내장함수), cmd -> python -v"
   ]
  },
  {
   "cell_type": "markdown",
   "metadata": {},
   "source": [
    "파이썬은 모듈단위이다.\\\n",
    "자료형 -> 함수 -> 클래스 -> 모듈(.py) -> 패키지\\\n",
    ".py -> pyc -> pvm -> output"
   ]
  },
  {
   "cell_type": "markdown",
   "metadata": {},
   "source": [
    "# 함수 매개변수"
   ]
  },
  {
   "cell_type": "markdown",
   "metadata": {},
   "source": [
    "def 함수명(매개변수, 매개변수=초기값, \\*args, \\*\\*args) :\n",
    "- 함수는 매개변수로 초기값을 지정할 수 있다.\n",
    "- \\*args로 지정하게 되면 순서있는 나열형 목록을 대입할 수 있다. \n",
    "- 일반 매개변수, 가변 매개변수가 선언될 때는 가변 매개변수는 반드시 일반 매개변수 뒤에 하나만 선언된다.\n",
    "- \\*\\*agrs로 지정하게 되면 dict타입이 선언된다."
   ]
  },
  {
   "cell_type": "markdown",
   "metadata": {},
   "source": [
    "ex)\n",
    "- def test01(a, \\*b) : O\n",
    "- def test01(a, \\*b, c) : X (마지막에 나와야한다.)\n",
    "- def test01(\\*a, \\*b) : X (하나만 올 수 있다.)\n",
    "- def test01(a, b=2, \\*c) : O"
   ]
  },
  {
   "cell_type": "markdown",
   "metadata": {},
   "source": [
    "- 함수를 호출 할때는 '함수명(매개변수)'의 형태로 호출하며 매개변수(parameter)는 호출된 함수에 전달할 초기값을 대입할 변수를 의미한다.\n",
    "- argument는 호출할 때 전달할 값을 의미한다."
   ]
  },
  {
   "cell_type": "markdown",
   "metadata": {},
   "source": [
    "## 함수의 매개변수 전달 특징\n",
    "- argument들은 위치나 parameter 이름으로 전달된다.\n",
    "- parameter는 기본값을 제공할 수 있다.\n",
    "- argument들은 tuple을 대입 할 수 있도록 함수를 정의할 수 있다. \\*변수\n",
    "- argument들은 dictionary를 대입 할 수 있도록 함수를 정의할 수 있다. \\*\\*변수"
   ]
  },
  {
   "cell_type": "code",
   "execution_count": 8,
   "metadata": {},
   "outputs": [],
   "source": [
    "def t(**a) :\n",
    "    print(a)"
   ]
  },
  {
   "cell_type": "code",
   "execution_count": 9,
   "metadata": {},
   "outputs": [
    {
     "name": "stdout",
     "output_type": "stream",
     "text": [
      "{'k': 1, 'y': 1}\n"
     ]
    }
   ],
   "source": [
    "t(k=1, y=1)"
   ]
  },
  {
   "cell_type": "code",
   "execution_count": 11,
   "metadata": {},
   "outputs": [
    {
     "name": "stdout",
     "output_type": "stream",
     "text": [
      "{'k': 1, 'y': 1}\n"
     ]
    },
    {
     "data": {
      "text/plain": [
       "(function, NoneType)"
      ]
     },
     "execution_count": 11,
     "metadata": {},
     "output_type": "execute_result"
    }
   ],
   "source": [
    "type(t), type(t(k=1, y=1))"
   ]
  },
  {
   "cell_type": "markdown",
   "metadata": {},
   "source": [
    "- def 함수명(매개변수, 매개변수=초기값, \\*args, \\*\\*args) :"
   ]
  },
  {
   "cell_type": "markdown",
   "metadata": {},
   "source": [
    "## 람다함수(lambda)"
   ]
  },
  {
   "cell_type": "markdown",
   "metadata": {},
   "source": [
    "- 람다 대수학(lambda calculus)에서 유래된 이름으로 익명함수라고도 한다.\n",
    "- 함수의 이름이 없는 함수로 파이썬에서 lambda라는 키워드로 익명함수를 정의한다.\n",
    "- 간단한 기능의 함수가 컨테이너의 요소로 들어가는 경우, 혹은 다른 함수의 인자로 함수를 넘겨 줄 때 사용되면 한줄로 표시되는 함수로 정의된다.\n",
    "- fliter(), map(), reduce() 등의 함수를 사용할 때 유용하다."
   ]
  },
  {
   "cell_type": "markdown",
   "metadata": {},
   "source": [
    "## 형식"
   ]
  },
  {
   "cell_type": "markdown",
   "metadata": {},
   "source": [
    "lambda 인자1, 인자2, ... : 명령(표현식)"
   ]
  },
  {
   "cell_type": "markdown",
   "metadata": {},
   "source": [
    "ex) 두수의 합을 구하는 함수를 만들어보자"
   ]
  },
  {
   "cell_type": "code",
   "execution_count": 17,
   "metadata": {},
   "outputs": [
    {
     "data": {
      "text/plain": [
       "15"
      ]
     },
     "execution_count": 17,
     "metadata": {},
     "output_type": "execute_result"
    }
   ],
   "source": [
    "# 일반적인 def 함수 만들기\n",
    "def add(x,y) :\n",
    "    res = x+y\n",
    "    return res\n",
    "add(10,5)"
   ]
  },
  {
   "cell_type": "code",
   "execution_count": 20,
   "metadata": {},
   "outputs": [
    {
     "data": {
      "text/plain": [
       "15"
      ]
     },
     "execution_count": 20,
     "metadata": {},
     "output_type": "execute_result"
    }
   ],
   "source": [
    "# lambda함수를 이용해서 만들어보자\n",
    "a, b = 10 ,5\n",
    "add1 = lambda a, b : a+b\n",
    "add1(a,b)"
   ]
  },
  {
   "cell_type": "code",
   "execution_count": 21,
   "metadata": {},
   "outputs": [
    {
     "data": {
      "text/plain": [
       "6"
      ]
     },
     "execution_count": 21,
     "metadata": {},
     "output_type": "execute_result"
    }
   ],
   "source": [
    "(lambda x,y,z : x*y*z)(1,2,3)"
   ]
  },
  {
   "cell_type": "markdown",
   "metadata": {},
   "source": [
    "## 목록에 사용되는 람다 표현식\n"
   ]
  },
  {
   "cell_type": "code",
   "execution_count": 24,
   "metadata": {},
   "outputs": [
    {
     "name": "stdout",
     "output_type": "stream",
     "text": [
      "one 9 10\n"
     ]
    }
   ],
   "source": [
    "r = ['one', lambda x : x*x, 10]\n",
    "print(r[0], r[1](3), r[2])"
   ]
  },
  {
   "cell_type": "markdown",
   "metadata": {},
   "source": [
    "## 파이썬의 고차함수 (high - order function)\n",
    "- filter(), map(), reduce() 등의 함수를 사용할 때 유용하다.\n",
    "- 고차함수 : 전달 인자로 다른 함수를 받는 함수를 말하며 함수를 매개 인자로 넘길 수 있고, 다른 함수의 결과값으로 반환 가능하게 해주는 함수를 말함"
   ]
  },
  {
   "cell_type": "markdown",
   "metadata": {},
   "source": [
    "#### filter함수\n",
    "- filter(function, list) : 함수와 순서형, 즉, 리스트를 매개인자로 받아서 리스트의 값이 하나씩 함수에 인수로 전돨되어 조건에 맞는 결과인 True가 되는 반환값만을 따로 모아서 리스트의 형태로 반환한다."
   ]
  },
  {
   "cell_type": "code",
   "execution_count": 25,
   "metadata": {},
   "outputs": [
    {
     "name": "stdout",
     "output_type": "stream",
     "text": [
      "Help on class filter in module builtins:\n",
      "\n",
      "class filter(object)\n",
      " |  filter(function or None, iterable) --> filter object\n",
      " |  \n",
      " |  Return an iterator yielding those items of iterable for which function(item)\n",
      " |  is true. If function is None, return the items that are true.\n",
      " |  \n",
      " |  Methods defined here:\n",
      " |  \n",
      " |  __getattribute__(self, name, /)\n",
      " |      Return getattr(self, name).\n",
      " |  \n",
      " |  __iter__(self, /)\n",
      " |      Implement iter(self).\n",
      " |  \n",
      " |  __next__(self, /)\n",
      " |      Implement next(self).\n",
      " |  \n",
      " |  __reduce__(...)\n",
      " |      Return state information for pickling.\n",
      " |  \n",
      " |  ----------------------------------------------------------------------\n",
      " |  Static methods defined here:\n",
      " |  \n",
      " |  __new__(*args, **kwargs) from builtins.type\n",
      " |      Create and return a new object.  See help(type) for accurate signature.\n",
      "\n"
     ]
    }
   ],
   "source": [
    "help(filter)"
   ]
  },
  {
   "cell_type": "code",
   "execution_count": 31,
   "metadata": {},
   "outputs": [
    {
     "name": "stdout",
     "output_type": "stream",
     "text": [
      "[0, 2, 4, 6, 8]\n"
     ]
    }
   ],
   "source": [
    "# 고차함수 filter를 써보자.\n",
    "# filter(function or None, iterable) -> filter object\n",
    "\n",
    "# 0~9까지 값 중에서 짝수만 출력해 보자\n",
    "# 0, 1, 2, 3, 4, 5, 6, 7, 8, 9 -> 0, 2, 4, 6, 8\n",
    "\n",
    "# 함수 정의해서 만들기\n",
    "def even(x) :\n",
    "    return (x%2 == 0)\n",
    "\n",
    "ls = range(10)\n",
    "\n",
    "def FilterTest() :\n",
    "    print(list(filter(even, ls)))\n",
    "\n",
    "    \n",
    "if __name__ == '__main__' :\n",
    "    FilterTest()"
   ]
  },
  {
   "cell_type": "code",
   "execution_count": 33,
   "metadata": {},
   "outputs": [
    {
     "name": "stdout",
     "output_type": "stream",
     "text": [
      "[0, 2, 4, 6, 8]\n"
     ]
    }
   ],
   "source": [
    "# lambda함수 이용\n",
    "def filter_test() :\n",
    "    print(list(filter(lambda x : x%2==0, range(10))))\n",
    "filter_test()"
   ]
  },
  {
   "cell_type": "markdown",
   "metadata": {},
   "source": [
    "#### map(function, seq) 함수\n",
    "- 함수와 시퀀스자료형을 입력받아서 시퀀스 자료형의 각각의 요소가 함수에 인수로 전달되어 리턴되는 출력값을 묶어서 리스트로 리턴하는 함수"
   ]
  },
  {
   "cell_type": "code",
   "execution_count": 50,
   "metadata": {},
   "outputs": [
    {
     "name": "stdout",
     "output_type": "stream",
     "text": [
      "[True, False, True, False, True, False, True, False, True, False]\n"
     ]
    }
   ],
   "source": [
    "def map_test() :\n",
    "    print(list(map(lambda x : x%2==0, range(10))))\n",
    "map_test()"
   ]
  },
  {
   "cell_type": "markdown",
   "metadata": {},
   "source": [
    "#### reduce(function, seq)\n",
    "- 함수와 시퀀스자료형을 입력받아서 시퀀스 자료형의 두개의 요소가 함수에 인수로 전달되어 연산을 한 후 그 결과값을 그다음 함목과 계속 연산하여 하나의 값을 리턴한다.\n",
    "- import functools"
   ]
  },
  {
   "cell_type": "code",
   "execution_count": 39,
   "metadata": {},
   "outputs": [],
   "source": [
    "from functools import reduce"
   ]
  },
  {
   "cell_type": "code",
   "execution_count": 37,
   "metadata": {},
   "outputs": [
    {
     "name": "stdout",
     "output_type": "stream",
     "text": [
      "Help on built-in function reduce in module _functools:\n",
      "\n",
      "reduce(...)\n",
      "    reduce(function, sequence[, initial]) -> value\n",
      "    \n",
      "    Apply a function of two arguments cumulatively to the items of a sequence,\n",
      "    from left to right, so as to reduce the sequence to a single value.\n",
      "    For example, reduce(lambda x, y: x+y, [1, 2, 3, 4, 5]) calculates\n",
      "    ((((1+2)+3)+4)+5).  If initial is present, it is placed before the items\n",
      "    of the sequence in the calculation, and serves as a default when the\n",
      "    sequence is empty.\n",
      "\n"
     ]
    }
   ],
   "source": [
    "help(functools.reduce)"
   ]
  },
  {
   "cell_type": "code",
   "execution_count": 40,
   "metadata": {},
   "outputs": [
    {
     "data": {
      "text/plain": [
       "15"
      ]
     },
     "execution_count": 40,
     "metadata": {},
     "output_type": "execute_result"
    }
   ],
   "source": [
    "reduce(lambda x, y: x+y, [1, 2, 3, 4, 5])"
   ]
  },
  {
   "cell_type": "code",
   "execution_count": 47,
   "metadata": {},
   "outputs": [],
   "source": [
    "def reduce_test() :\n",
    "    print(reduce(lambda a, b : a**b, range(2, 5)))"
   ]
  },
  {
   "cell_type": "code",
   "execution_count": 48,
   "metadata": {},
   "outputs": [
    {
     "name": "stdout",
     "output_type": "stream",
     "text": [
      "4096\n"
     ]
    }
   ],
   "source": [
    "reduce_test()#  ((2**3)**4)"
   ]
  },
  {
   "cell_type": "markdown",
   "metadata": {},
   "source": [
    "#### 재귀함수(recursive)\n",
    "- 함수가 직접 또는 간접적으로 자기 자신을 다시 호출하는 것\n",
    "- 재귀 호출(recursive call) : 메모리를 많이 소모하게 되며 처리속도 또한 상대적으로 느리지만 작성하는 코드가 간결하고 이해도가 쉽다.\n",
    "- 재귀호출 quick sort, tower of hanoi, Fractal curve 등의 알고리즘을 구현할 때 사용된다.\n",
    "\n",
    "**quick sort, tower of hanoi, Fractal curve의 상세코드는 거의 암기하듯이 외우자(기술면접)**"
   ]
  },
  {
   "cell_type": "code",
   "execution_count": 51,
   "metadata": {},
   "outputs": [],
   "source": [
    "# 5를 입력해서 5+4+3+2+1의 합을 구해보자\n",
    "def sum_n(n) :\n",
    "    if n == 0:\n",
    "        return 0\n",
    "    else :\n",
    "        return n + sum_n(n-1)    "
   ]
  },
  {
   "cell_type": "code",
   "execution_count": 58,
   "metadata": {},
   "outputs": [
    {
     "ename": "RecursionError",
     "evalue": "maximum recursion depth exceeded in comparison",
     "output_type": "error",
     "traceback": [
      "\u001b[1;31m---------------------------------------------------------------------------\u001b[0m",
      "\u001b[1;31mRecursionError\u001b[0m                            Traceback (most recent call last)",
      "\u001b[1;32m<ipython-input-58-5f09425bf564>\u001b[0m in \u001b[0;36m<module>\u001b[1;34m\u001b[0m\n\u001b[1;32m----> 1\u001b[1;33m \u001b[0msum_n\u001b[0m\u001b[1;33m(\u001b[0m\u001b[1;36m10000\u001b[0m\u001b[1;33m)\u001b[0m\u001b[1;33m\u001b[0m\u001b[1;33m\u001b[0m\u001b[0m\n\u001b[0m",
      "\u001b[1;32m<ipython-input-51-5e4aef39d835>\u001b[0m in \u001b[0;36msum_n\u001b[1;34m(n)\u001b[0m\n\u001b[0;32m      4\u001b[0m         \u001b[1;32mreturn\u001b[0m \u001b[1;36m0\u001b[0m\u001b[1;33m\u001b[0m\u001b[1;33m\u001b[0m\u001b[0m\n\u001b[0;32m      5\u001b[0m     \u001b[1;32melse\u001b[0m \u001b[1;33m:\u001b[0m\u001b[1;33m\u001b[0m\u001b[1;33m\u001b[0m\u001b[0m\n\u001b[1;32m----> 6\u001b[1;33m         \u001b[1;32mreturn\u001b[0m \u001b[0mn\u001b[0m \u001b[1;33m+\u001b[0m \u001b[0msum_n\u001b[0m\u001b[1;33m(\u001b[0m\u001b[0mn\u001b[0m\u001b[1;33m-\u001b[0m\u001b[1;36m1\u001b[0m\u001b[1;33m)\u001b[0m\u001b[1;33m\u001b[0m\u001b[1;33m\u001b[0m\u001b[0m\n\u001b[0m",
      "... last 1 frames repeated, from the frame below ...\n",
      "\u001b[1;32m<ipython-input-51-5e4aef39d835>\u001b[0m in \u001b[0;36msum_n\u001b[1;34m(n)\u001b[0m\n\u001b[0;32m      4\u001b[0m         \u001b[1;32mreturn\u001b[0m \u001b[1;36m0\u001b[0m\u001b[1;33m\u001b[0m\u001b[1;33m\u001b[0m\u001b[0m\n\u001b[0;32m      5\u001b[0m     \u001b[1;32melse\u001b[0m \u001b[1;33m:\u001b[0m\u001b[1;33m\u001b[0m\u001b[1;33m\u001b[0m\u001b[0m\n\u001b[1;32m----> 6\u001b[1;33m         \u001b[1;32mreturn\u001b[0m \u001b[0mn\u001b[0m \u001b[1;33m+\u001b[0m \u001b[0msum_n\u001b[0m\u001b[1;33m(\u001b[0m\u001b[0mn\u001b[0m\u001b[1;33m-\u001b[0m\u001b[1;36m1\u001b[0m\u001b[1;33m)\u001b[0m\u001b[1;33m\u001b[0m\u001b[1;33m\u001b[0m\u001b[0m\n\u001b[0m",
      "\u001b[1;31mRecursionError\u001b[0m: maximum recursion depth exceeded in comparison"
     ]
    }
   ],
   "source": [
    "# sum_n(10000)  기본 default 재귀 횟수가 1000회로 제한되고 있음. 따로 설정에서 제한 풀어주면됨"
   ]
  },
  {
   "cell_type": "markdown",
   "metadata": {},
   "source": [
    "#### 스코핑룰(scoping rule)\n",
    "- 파이썬에서 사용되는 함수, 클래스 등이 선언되면 변수를 사용하게 되는데 선언된 변수를 저장할 때 네임스페이스에 저장하고 호출될 때 네임스페이스의 영역의 우선순위에 따라 호출되어지는 룰을 말한다.\n",
    "- 파이썬 네임스페이스는 세가지로 분류된다. 변수가 호출되는 우선순위를 약어로 LGB규칙이라 함.\n",
    "- LGB (Local -> Global -> Built-in) 순서를 가진다."
   ]
  },
  {
   "cell_type": "markdown",
   "metadata": {},
   "source": [
    "#### LGB\n",
    "1. Local : 함수 내부에 선언될 때의 영역\n",
    "2. Global : 함수 외부에 선언될 때의 영역\n",
    "3. Built-in : 내장 함수의 영역"
   ]
  },
  {
   "cell_type": "code",
   "execution_count": 68,
   "metadata": {},
   "outputs": [],
   "source": [
    "s = 'Global'\n",
    "m = 'Global_m'\n",
    "def Test() :\n",
    "    s = 'my_Local'\n",
    "    print(s)\n",
    "    my_test = 'my_test_Local'"
   ]
  },
  {
   "cell_type": "code",
   "execution_count": 69,
   "metadata": {},
   "outputs": [
    {
     "name": "stdout",
     "output_type": "stream",
     "text": [
      "my_Local\n"
     ]
    }
   ],
   "source": [
    "Test()"
   ]
  },
  {
   "cell_type": "code",
   "execution_count": 67,
   "metadata": {},
   "outputs": [
    {
     "name": "stdout",
     "output_type": "stream",
     "text": [
      "Global_m\n"
     ]
    }
   ],
   "source": [
    "print(m)"
   ]
  },
  {
   "cell_type": "code",
   "execution_count": 70,
   "metadata": {},
   "outputs": [
    {
     "ename": "NameError",
     "evalue": "name 'my_test' is not defined",
     "output_type": "error",
     "traceback": [
      "\u001b[1;31m---------------------------------------------------------------------------\u001b[0m",
      "\u001b[1;31mNameError\u001b[0m                                 Traceback (most recent call last)",
      "\u001b[1;32m<ipython-input-70-8123ddafdd68>\u001b[0m in \u001b[0;36m<module>\u001b[1;34m\u001b[0m\n\u001b[1;32m----> 1\u001b[1;33m \u001b[0mprint\u001b[0m\u001b[1;33m(\u001b[0m\u001b[0mmy_test\u001b[0m\u001b[1;33m)\u001b[0m\u001b[1;33m\u001b[0m\u001b[1;33m\u001b[0m\u001b[0m\n\u001b[0m",
      "\u001b[1;31mNameError\u001b[0m: name 'my_test' is not defined"
     ]
    }
   ],
   "source": [
    "print(my_test)"
   ]
  },
  {
   "cell_type": "markdown",
   "metadata": {},
   "source": [
    "## OOP (Object-Oriented programming)\n",
    "- 객체지향 프로그램\n",
    "- 데이터 처리를 하는 메소드들을 하나의 프로그램으로 설계해서 연동하는 객체(object)를 중심으로 프로그램을 짜는 언어를 말한다.\n",
    "- 파이썬은 대화적이고(interactive), 인터프리터(interpreter) 객체 지향(object oriented) 프로그래밍 언어이다.\n",
    "- 파이썬은 모든 것이 객체이다."
   ]
  },
  {
   "cell_type": "markdown",
   "metadata": {},
   "source": [
    "## 클래스와 객체란?\n",
    "- 클래스는 객체 지향 프로그램의 기본적인 사용자 정의 데이터형 (user defined data type)\n",
    "- 클래스는 객체를 정의한 것으로 실 세계에서 존재하는 사물이나 개념의 속성과 기능을 모델링해서 추상화시키는 과정을 말한다.\n",
    "- 객체는 자신 고유의 속성(attribute)을 가지며 클래스에서 정의한 행위(behavior)를 수행할 수 있다.\n",
    "- 객체의 행위는 클래스에 정의된 행위에 대한 정의를 공유함으로써 메모리를 경제적으로 사용한다.\n",
    "\n",
    "\n",
    "- 객체는 클래스의 인스턴스이며 정의된 클래스를 사용해서 실제로 메모리에 생성되어 메모리에 로딩된 상태를 말한다.\n",
    "- **객체**는 클래스의 타입으로 선언됬을때를 의미하는 것이고 그 객체가 메모리에 할당되어 실제 사용될 때 **인스턴스**라고 한다.\n",
    "\n",
    "\n",
    "- 그림판의 메뉴를 생각해보자. 동그라미를 메뉴에서 선택해서 작업화면에 동그라미 객체를 그려낸다.\n",
    "- 이때 정해진 클래스(동그라미)의 여러개의 객체를(object) 생성하게 되는데 동그라미 객체들을 인스턴스한다고 말한다."
   ]
  },
  {
   "cell_type": "markdown",
   "metadata": {},
   "source": [
    "**구조 암기**\n",
    "- 객체 = 속성(attributes) + 행위(behaviors) = (참고: 속성 + 기능)\n",
    "- 클래스 = 변수(variable) + 메서드(methods) = (참고: 변수 + 메서드(기능))"
   ]
  },
  {
   "cell_type": "markdown",
   "metadata": {},
   "source": [
    "- 객체는 멤버 변수를 가지고 있으면서 그들의 동작을 수행하는 함수들을 가지게 되는데 메서드라고 부른다.\n",
    "- 메소드는 객체를 사용하기 위해 필요한 모든 이벤트들을 처리하는 함수이다."
   ]
  },
  {
   "cell_type": "markdown",
   "metadata": {},
   "source": [
    "## 클래스(Class)"
   ]
  },
  {
   "cell_type": "code",
   "execution_count": null,
   "metadata": {},
   "outputs": [],
   "source": []
  }
 ],
 "metadata": {
  "kernelspec": {
   "display_name": "Python 3",
   "language": "python",
   "name": "python3"
  },
  "language_info": {
   "codemirror_mode": {
    "name": "ipython",
    "version": 3
   },
   "file_extension": ".py",
   "mimetype": "text/x-python",
   "name": "python",
   "nbconvert_exporter": "python",
   "pygments_lexer": "ipython3",
   "version": "3.8.3"
  }
 },
 "nbformat": 4,
 "nbformat_minor": 4
}

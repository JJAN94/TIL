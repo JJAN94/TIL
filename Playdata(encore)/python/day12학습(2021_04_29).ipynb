{
 "cells": [
  {
   "cell_type": "code",
   "execution_count": 11,
   "metadata": {},
   "outputs": [],
   "source": [
    "class MyClassA(object) : #클래스 선언시 모든 클래스가 object의 상속을 받는 후손이 된다.\n",
    "    \n",
    "    def __init__(self) :\n",
    "        self.val1 = 123"
   ]
  },
  {
   "cell_type": "code",
   "execution_count": 66,
   "metadata": {},
   "outputs": [],
   "source": [
    "class MyClassB(MyClassA) :\n",
    "    \n",
    "    def __inint__(self):\n",
    "        super(MyClassB, self).__init__() # super().__init__()로도 명시해서 실행해 보세요\n",
    "        self.val2 = 456"
   ]
  },
  {
   "cell_type": "code",
   "execution_count": 67,
   "metadata": {},
   "outputs": [],
   "source": [
    "class Dog :\n",
    "    def sound(self) :\n",
    "        print('bark')"
   ]
  },
  {
   "cell_type": "code",
   "execution_count": 128,
   "metadata": {},
   "outputs": [
    {
     "name": "stdout",
     "output_type": "stream",
     "text": [
      "123\n"
     ]
    },
    {
     "ename": "AttributeError",
     "evalue": "'MyClassB' object has no attribute 'val2'",
     "output_type": "error",
     "traceback": [
      "\u001b[1;31m---------------------------------------------------------------------------\u001b[0m",
      "\u001b[1;31mAttributeError\u001b[0m                            Traceback (most recent call last)",
      "\u001b[1;32m<ipython-input-128-a486533d69dd>\u001b[0m in \u001b[0;36m<module>\u001b[1;34m\u001b[0m\n\u001b[0;32m     15\u001b[0m     \u001b[0ma\u001b[0m  \u001b[1;33m=\u001b[0m  \u001b[0mMyClassB\u001b[0m\u001b[1;33m(\u001b[0m\u001b[1;33m)\u001b[0m\u001b[1;33m\u001b[0m\u001b[1;33m\u001b[0m\u001b[0m\n\u001b[0;32m     16\u001b[0m     \u001b[0mprint\u001b[0m\u001b[1;33m(\u001b[0m\u001b[0ma\u001b[0m\u001b[1;33m.\u001b[0m\u001b[0mval1\u001b[0m\u001b[1;33m)\u001b[0m\u001b[1;33m\u001b[0m\u001b[1;33m\u001b[0m\u001b[0m\n\u001b[1;32m---> 17\u001b[1;33m     \u001b[0mprint\u001b[0m\u001b[1;33m(\u001b[0m\u001b[0ma\u001b[0m\u001b[1;33m.\u001b[0m\u001b[0mval2\u001b[0m\u001b[1;33m)\u001b[0m\u001b[1;33m\u001b[0m\u001b[1;33m\u001b[0m\u001b[0m\n\u001b[0m",
      "\u001b[1;31mAttributeError\u001b[0m: 'MyClassB' object has no attribute 'val2'"
     ]
    }
   ],
   "source": [
    "class MyClassA(object) : #클래스 선언시 모든 클래스가 object의 상속을 받는 후손이 된다.\n",
    "    \n",
    "    def __init__(self) :\n",
    "        self.val1 = 123\n",
    "        \n",
    "class MyClassB(MyClassA) :\n",
    "    \n",
    "    def __inint__(self):\n",
    "        MyClassA.__init__(self)\n",
    "        # super(MyClassB, self).__init__() # super().__init__()로도 명시해서 실행해 보세요\n",
    "        # super().__init__()\n",
    "        self.val2 = 456      \n",
    "\n",
    "if __name__ == '__main__' :\n",
    "    a  =  MyClassB()\n",
    "    print(a.val1)\n",
    "    print(a.val2)        "
   ]
  },
  {
   "cell_type": "code",
   "execution_count": 71,
   "metadata": {},
   "outputs": [],
   "source": [
    "class Cat :\n",
    "    def sount(self) :\n",
    "        print('meow')"
   ]
  },
  {
   "cell_type": "code",
   "execution_count": 69,
   "metadata": {},
   "outputs": [],
   "source": [
    "class Chimera(Dog, Cat):\n",
    "    pass"
   ]
  },
  {
   "cell_type": "code",
   "execution_count": 1,
   "metadata": {},
   "outputs": [
    {
     "ename": "NameError",
     "evalue": "name 'MyClassB' is not defined",
     "output_type": "error",
     "traceback": [
      "\u001b[1;31m---------------------------------------------------------------------------\u001b[0m",
      "\u001b[1;31mNameError\u001b[0m                                 Traceback (most recent call last)",
      "\u001b[1;32m<ipython-input-1-ae733f30fd35>\u001b[0m in \u001b[0;36m<module>\u001b[1;34m\u001b[0m\n\u001b[1;32m----> 1\u001b[1;33m \u001b[0ma\u001b[0m  \u001b[1;33m=\u001b[0m  \u001b[0mMyClassB\u001b[0m\u001b[1;33m(\u001b[0m\u001b[1;33m)\u001b[0m\u001b[1;33m\u001b[0m\u001b[1;33m\u001b[0m\u001b[0m\n\u001b[0m\u001b[0;32m      2\u001b[0m \u001b[0mprint\u001b[0m\u001b[1;33m(\u001b[0m\u001b[0ma\u001b[0m\u001b[1;33m.\u001b[0m\u001b[0mval1\u001b[0m\u001b[1;33m)\u001b[0m\u001b[1;33m\u001b[0m\u001b[1;33m\u001b[0m\u001b[0m\n\u001b[0;32m      3\u001b[0m \u001b[0mprint\u001b[0m\u001b[1;33m(\u001b[0m\u001b[0ma\u001b[0m\u001b[1;33m.\u001b[0m\u001b[0mval2\u001b[0m\u001b[1;33m)\u001b[0m\u001b[1;33m\u001b[0m\u001b[1;33m\u001b[0m\u001b[0m\n\u001b[0;32m      4\u001b[0m \u001b[0mChimera\u001b[0m\u001b[1;33m(\u001b[0m\u001b[1;33m)\u001b[0m\u001b[1;33m.\u001b[0m\u001b[0msound\u001b[0m\u001b[1;33m(\u001b[0m\u001b[1;33m)\u001b[0m\u001b[1;33m\u001b[0m\u001b[1;33m\u001b[0m\u001b[0m\n",
      "\u001b[1;31mNameError\u001b[0m: name 'MyClassB' is not defined"
     ]
    }
   ],
   "source": [
    "a  =  MyClassB()\n",
    "print(a.val1)\n",
    "print(a.val2)\n",
    "Chimera().sound()"
   ]
  },
  {
   "cell_type": "code",
   "execution_count": 36,
   "metadata": {
    "scrolled": true
   },
   "outputs": [
    {
     "name": "stdout",
     "output_type": "stream",
     "text": [
      "Help on class object in module builtins:\n",
      "\n",
      "class object\n",
      " |  The base class of the class hierarchy.\n",
      " |  \n",
      " |  When called, it accepts no arguments and returns a new featureless\n",
      " |  instance that has no instance attributes and cannot be given any.\n",
      " |  \n",
      " |  Built-in subclasses:\n",
      " |      async_generator\n",
      " |      BaseException\n",
      " |      builtin_function_or_method\n",
      " |      bytearray\n",
      " |      ... and 125 other subclasses\n",
      " |  \n",
      " |  Methods defined here:\n",
      " |  \n",
      " |  __delattr__(self, name, /)\n",
      " |      Implement delattr(self, name).\n",
      " |  \n",
      " |  __dir__(self, /)\n",
      " |      Default dir() implementation.\n",
      " |  \n",
      " |  __eq__(self, value, /)\n",
      " |      Return self==value.\n",
      " |  \n",
      " |  __format__(self, format_spec, /)\n",
      " |      Default object formatter.\n",
      " |  \n",
      " |  __ge__(self, value, /)\n",
      " |      Return self>=value.\n",
      " |  \n",
      " |  __getattribute__(self, name, /)\n",
      " |      Return getattr(self, name).\n",
      " |  \n",
      " |  __gt__(self, value, /)\n",
      " |      Return self>value.\n",
      " |  \n",
      " |  __hash__(self, /)\n",
      " |      Return hash(self).\n",
      " |  \n",
      " |  __init__(self, /, *args, **kwargs)\n",
      " |      Initialize self.  See help(type(self)) for accurate signature.\n",
      " |  \n",
      " |  __le__(self, value, /)\n",
      " |      Return self<=value.\n",
      " |  \n",
      " |  __lt__(self, value, /)\n",
      " |      Return self<value.\n",
      " |  \n",
      " |  __ne__(self, value, /)\n",
      " |      Return self!=value.\n",
      " |  \n",
      " |  __reduce__(self, /)\n",
      " |      Helper for pickle.\n",
      " |  \n",
      " |  __reduce_ex__(self, protocol, /)\n",
      " |      Helper for pickle.\n",
      " |  \n",
      " |  __repr__(self, /)\n",
      " |      Return repr(self).\n",
      " |  \n",
      " |  __setattr__(self, name, value, /)\n",
      " |      Implement setattr(self, name, value).\n",
      " |  \n",
      " |  __sizeof__(self, /)\n",
      " |      Size of object in memory, in bytes.\n",
      " |  \n",
      " |  __str__(self, /)\n",
      " |      Return str(self).\n",
      " |  \n",
      " |  ----------------------------------------------------------------------\n",
      " |  Class methods defined here:\n",
      " |  \n",
      " |  __init_subclass__(...) from builtins.type\n",
      " |      This method is called when a class is subclassed.\n",
      " |      \n",
      " |      The default implementation does nothing. It may be\n",
      " |      overridden to extend subclasses.\n",
      " |  \n",
      " |  __subclasshook__(...) from builtins.type\n",
      " |      Abstract classes can override this to customize issubclass().\n",
      " |      \n",
      " |      This is invoked early on by abc.ABCMeta.__subclasscheck__().\n",
      " |      It should return True, False or NotImplemented.  If it returns\n",
      " |      NotImplemented, the normal algorithm is used.  Otherwise, it\n",
      " |      overrides the normal algorithm (and the outcome is cached).\n",
      " |  \n",
      " |  ----------------------------------------------------------------------\n",
      " |  Static methods defined here:\n",
      " |  \n",
      " |  __new__(*args, **kwargs) from builtins.type\n",
      " |      Create and return a new object.  See help(type) for accurate signature.\n",
      " |  \n",
      " |  ----------------------------------------------------------------------\n",
      " |  Data and other attributes defined here:\n",
      " |  \n",
      " |  __class__ = <class 'type'>\n",
      " |      type(object_or_name, bases, dict)\n",
      " |      type(object) -> the object's type\n",
      " |      type(name, bases, dict) -> a new type\n",
      "\n"
     ]
    }
   ],
   "source": [
    "help(object)"
   ]
  },
  {
   "cell_type": "code",
   "execution_count": 20,
   "metadata": {},
   "outputs": [
    {
     "data": {
      "text/plain": [
       "['__class__',\n",
       " '__delattr__',\n",
       " '__dict__',\n",
       " '__dir__',\n",
       " '__doc__',\n",
       " '__eq__',\n",
       " '__format__',\n",
       " '__ge__',\n",
       " '__getattribute__',\n",
       " '__gt__',\n",
       " '__hash__',\n",
       " '__init__',\n",
       " '__init_subclass__',\n",
       " '__le__',\n",
       " '__lt__',\n",
       " '__module__',\n",
       " '__ne__',\n",
       " '__new__',\n",
       " '__reduce__',\n",
       " '__reduce_ex__',\n",
       " '__repr__',\n",
       " '__setattr__',\n",
       " '__sizeof__',\n",
       " '__str__',\n",
       " '__subclasshook__',\n",
       " '__weakref__']"
      ]
     },
     "execution_count": 20,
     "metadata": {},
     "output_type": "execute_result"
    }
   ],
   "source": [
    "class Test : # 아무것도 안줘도 object클래스의 것들을 받아온다.\n",
    "    pass\n",
    "\n",
    "dir(Test)"
   ]
  },
  {
   "cell_type": "code",
   "execution_count": 64,
   "metadata": {},
   "outputs": [],
   "source": [
    "# > , < , >= , <= , != , ==\n",
    "class MYSU :\n",
    "    def __init__(self, Su) :\n",
    "        self.Su = Su\n",
    "        \n",
    "    def __lt__(self, other) :\n",
    "        print(self.Su < other.Su)\n",
    "    def __gt__(self, other) :\n",
    "        print(self.Su > other.Su)\n",
    "        \n",
    "    def __eq__(self, other) :\n",
    "        print(self.Su == other.Su)"
   ]
  },
  {
   "cell_type": "code",
   "execution_count": 65,
   "metadata": {},
   "outputs": [
    {
     "name": "stdout",
     "output_type": "stream",
     "text": [
      "True\n",
      "False\n",
      "False\n"
     ]
    }
   ],
   "source": [
    "a = MYSU(100)\n",
    "b = MYSU(50)\n",
    "a > b\n",
    "a< b\n",
    "a == b"
   ]
  },
  {
   "cell_type": "code",
   "execution_count": 51,
   "metadata": {},
   "outputs": [
    {
     "name": "stdout",
     "output_type": "stream",
     "text": [
      "Help on wrapper_descriptor:\n",
      "\n",
      "__gt__(self, value, /)\n",
      "    Return self>value.\n",
      "\n"
     ]
    }
   ],
   "source": [
    "help(object.__gt__)"
   ]
  },
  {
   "cell_type": "markdown",
   "metadata": {},
   "source": [
    "### 오전수업 정리 (1~5번)"
   ]
  },
  {
   "cell_type": "markdown",
   "metadata": {},
   "source": [
    "1. 모든 클래스의 선조는 object 클래스이다.\n",
    "2. 클래스를 선언하게 되면 내장으로 사용되는 메소드는 object 클래스로 부터 받는 메소드이다.\n",
    "3. \\_\\_class__ => type()\\\n",
    "    --> type(40) = > int class가 가진 \\_\\_class__가 자동으로 호출되어 리턴하는 값 <class 'int'>"
   ]
  },
  {
   "cell_type": "code",
   "execution_count": 79,
   "metadata": {},
   "outputs": [
    {
     "name": "stdout",
     "output_type": "stream",
     "text": [
      "<class 'float'>\n"
     ]
    }
   ],
   "source": [
    "a = 97.7\n",
    "print(a.__class__)"
   ]
  },
  {
   "cell_type": "code",
   "execution_count": 80,
   "metadata": {},
   "outputs": [
    {
     "name": "stdout",
     "output_type": "stream",
     "text": [
      "<class 'float'>\n"
     ]
    }
   ],
   "source": [
    "print(type(a))"
   ]
  },
  {
   "cell_type": "markdown",
   "metadata": {},
   "source": [
    "4. 연산자 오버로딩 ) exam02.py 위에 MYSU"
   ]
  },
  {
   "cell_type": "code",
   "execution_count": 82,
   "metadata": {},
   "outputs": [
    {
     "name": "stdout",
     "output_type": "stream",
     "text": [
      "<built-in method __dir__ of float object at 0x000001DDA26C89B0>\n"
     ]
    }
   ],
   "source": [
    "print(a.__dir__)"
   ]
  },
  {
   "cell_type": "markdown",
   "metadata": {},
   "source": [
    "5. 객체의 .\\_\\_dir__=> dir() 내장형 메소드"
   ]
  },
  {
   "cell_type": "code",
   "execution_count": null,
   "metadata": {},
   "outputs": [],
   "source": []
  },
  {
   "cell_type": "markdown",
   "metadata": {},
   "source": [
    "# 오늘수업"
   ]
  },
  {
   "cell_type": "markdown",
   "metadata": {},
   "source": [
    "1. 다중상속에 대한 개념을 이해하고 선얼 할 수 있다.\n",
    "2. 다형성의 개념을 이해하고 설계할 수 있다."
   ]
  },
  {
   "cell_type": "markdown",
   "metadata": {},
   "source": [
    "- 다중상속 : 하나 이상의 선조를 가질 수 있는 후손\n",
    "\n",
    "- 두개 이상의 선조가 같은 메소드를 가지고 있을 때 먼저 정의 된 쪽이 호출된다."
   ]
  },
  {
   "cell_type": "code",
   "execution_count": 120,
   "metadata": {},
   "outputs": [],
   "source": [
    "class Dog :\n",
    "    def sound(self) :\n",
    "        print('bark')\n",
    "        \n",
    "    def AA(self) :\n",
    "        print('Dog AA')"
   ]
  },
  {
   "cell_type": "code",
   "execution_count": 121,
   "metadata": {},
   "outputs": [],
   "source": [
    "class Cat :\n",
    "    def sound(self) :\n",
    "        print('meow')\n",
    "    def BB(self) :\n",
    "        print('Cat BB')"
   ]
  },
  {
   "cell_type": "code",
   "execution_count": 129,
   "metadata": {},
   "outputs": [],
   "source": [
    "# class Chimera(Dog, Cat): #다중상속\n",
    "#     pass\n",
    "\n",
    "class Chimera(Cat, Dog) :\n",
    "    def sound(self) :\n",
    "        Dog.sound(self)\n",
    "        Cat.sound(self)\n",
    "        super().sound()\n",
    "        super().AA()\n",
    "        print('Chimera')"
   ]
  },
  {
   "cell_type": "code",
   "execution_count": 130,
   "metadata": {},
   "outputs": [
    {
     "name": "stdout",
     "output_type": "stream",
     "text": [
      "bark\n",
      "meow\n",
      "meow\n",
      "Dog AA\n",
      "Chimera\n"
     ]
    }
   ],
   "source": [
    "Chimera().sound()"
   ]
  },
  {
   "cell_type": "markdown",
   "metadata": {},
   "source": [
    "- ex ) 3개의 클래스\n",
    "    - 짜장면(당근, 양파, 파를 **볶자**), (춘장을 넣고 면을...) \n",
    "    - 볶음밥(당근, 양파, 파를 **볶자**) , (밥을 더해서 볶아보자)\n",
    "    - 짬뽕(당근, 양파, 파를 **볶자**), (해산물 더해서 끓여보자)\n",
    "    - => 기본기능을 역으로(Base)로 만들자 : **볶자**\n",
    "        - 교집합을 뽑아내서 조상 클래스를 만드는 느낌"
   ]
  },
  {
   "cell_type": "code",
   "execution_count": null,
   "metadata": {},
   "outputs": [],
   "source": []
  },
  {
   "cell_type": "markdown",
   "metadata": {},
   "source": [
    "# 다형성\n",
    "- 어떤 한 요소에 여러 개념을 넣어 놓은 것으로 일반적인 클래스 상속 구조에서 **재정의(상속 시 같은 이름의 메소드가 여러 클래스에서 다른 기능을 하는 것)** 하는 것을 의미한다.\n",
    "\n",
    "#### 특징 (AA <- BB , AA <- CC)\n",
    "1. 여러 개의 클래스가 같은 이름의 메소드에 대하여 각자 다른 방법으로 작동할 수 있도록 설계\n",
    "2. 하나의 데이터 유형(선조 객체) 변수로 여러 유형의 객체 참조(후손의 객체)가 가능하다.\n",
    "    - a1 = AA()\n",
    "3. 변수가 참조하는 객체의 유형에 맞는 메소드를 자동으로 호출할 수 있다. \n",
    "4. 추상화를 이용하여 다양한 구현을 제공할 수 있다."
   ]
  },
  {
   "cell_type": "markdown",
   "metadata": {},
   "source": [
    "#### 조건\n",
    "1. 상속관계의 클래스이면서 후손 클래스 객체에서 작동된다.\n",
    "2. 후손 클래스 객체의 메소드 호출은 선조 클래스 유형의 변수를 통해 호출되며 재정의 된 메소드여야 한다."
   ]
  },
  {
   "cell_type": "markdown",
   "metadata": {},
   "source": [
    "# 추상화(abstract)\n",
    "- Subclassing\n",
    "    - 상속의 유형 중에서 선조 클래스의 속성과 구조를 그대로 가지면서 새로운 데이터 멤버 변수와 메소드를 추가해서 재사용하는 방법\n",
    "- Subtyping\n",
    "    - 선조 클래스가 수행할 명령을 선언하고 후손 클래스가 상속을 받아 선조 클래스의 객체를 후손 클래스의 타입으로 대처해서 실행할 수 있게 해주는 기능"
   ]
  },
  {
   "cell_type": "markdown",
   "metadata": {},
   "source": [
    "1. 추상 메소드 : 후손을 위해 선조가 강제로 재정의 할 수 있게 선언된 메소드\n",
    "2. 추상메소드를 포함한 클래스는 추상클래스가 된다."
   ]
  },
  {
   "cell_type": "markdown",
   "metadata": {},
   "source": [
    "- 문법\n",
    "    - 1. 추상클래스는 객체 생성이 불가능하다.\n",
    "    - 2. 추상클래스를 상속받는 후손 클래스가 추상메소드(선조의 추상 메소드)를 재정의하지 않으면 추상 클래스가 된다."
   ]
  },
  {
   "attachments": {
    "%EC%84%9C%EB%B8%8C%ED%83%80%EC%9D%B4%ED%95%91.PNG": {
     "image/png": "[encoded data removed]"
    }
   },
   "cell_type": "markdown",
   "metadata": {},
   "source": [
    "![%EC%84%9C%EB%B8%8C%ED%83%80%EC%9D%B4%ED%95%91.PNG](attachment:%EC%84%9C%EB%B8%8C%ED%83%80%EC%9D%B4%ED%95%91.PNG)"
   ]
  },
  {
   "cell_type": "markdown",
   "metadata": {},
   "source": [
    "- 파이썬의 서브타이핑은 추상클래스를 지원하면서 duck typing을 지원한다.\n",
    "- duck typing은 동적바인딩의 한 종류로 duck클래스 객체를 선언하면 duck가 생성되어 호출된다는 말로 객체의 변수 및 메소드의 집합이 객체의 타입을 결정하는 것을 말한다.\n",
    "\n",
    "\n",
    "\n",
    "\n",
    "- 서브타이핑시에 선조의 주소로 후손의 객체를 가지는 것이 아니라 추상클래스를 선언하고 재정의를 하면서 후손의 객체 주소를 각각 생성해서 메소드를 실행하게 된다."
   ]
  },
  {
   "cell_type": "markdown",
   "metadata": {},
   "source": [
    "파이썬에서 선언하는 추상클래스? ABCMeta : Abstract Base Classes Meta Class\n",
    "- abc.py\n",
    "    - from abc import abstractmethod, ABCMeta\n",
    "- @abstractmethod : 메소드를 추상메소드로 지정\n",
    "- @property : 메소드를 변수로 호출할 수 있도록 지정\n",
    "- @staticmethod : 정적메소드로 지정\n",
    "- @classmethod : "
   ]
  },
  {
   "cell_type": "code",
   "execution_count": 133,
   "metadata": {},
   "outputs": [
    {
     "name": "stdout",
     "output_type": "stream",
     "text": [
      "Help on module abc:\n",
      "\n",
      "NAME\n",
      "    abc - Abstract Base Classes (ABCs) according to PEP 3119.\n",
      "\n",
      "MODULE REFERENCE\n",
      "    https://docs.python.org/3.8/library/abc\n",
      "    \n",
      "    The following documentation is automatically generated from the Python\n",
      "    source files.  It may be incomplete, incorrect or include features that\n",
      "    are considered implementation detail and may vary between Python\n",
      "    implementations.  When in doubt, consult the module reference at the\n",
      "    location listed above.\n",
      "\n",
      "CLASSES\n",
      "    builtins.classmethod(builtins.object)\n",
      "        abstractclassmethod\n",
      "    builtins.object\n",
      "        ABC\n",
      "    builtins.property(builtins.object)\n",
      "        abstractproperty\n",
      "    builtins.staticmethod(builtins.object)\n",
      "        abstractstaticmethod\n",
      "    builtins.type(builtins.object)\n",
      "        ABCMeta\n",
      "    \n",
      "    class ABC(builtins.object)\n",
      "     |  Helper class that provides a standard way to create an ABC using\n",
      "     |  inheritance.\n",
      "     |  \n",
      "     |  Data and other attributes defined here:\n",
      "     |  \n",
      "     |  __abstractmethods__ = frozenset()\n",
      "    \n",
      "    class ABCMeta(builtins.type)\n",
      "     |  ABCMeta(name, bases, namespace, **kwargs)\n",
      "     |  \n",
      "     |  Metaclass for defining Abstract Base Classes (ABCs).\n",
      "     |  \n",
      "     |  Use this metaclass to create an ABC.  An ABC can be subclassed\n",
      "     |  directly, and then acts as a mix-in class.  You can also register\n",
      "     |  unrelated concrete classes (even built-in classes) and unrelated\n",
      "     |  ABCs as 'virtual subclasses' -- these and their descendants will\n",
      "     |  be considered subclasses of the registering ABC by the built-in\n",
      "     |  issubclass() function, but the registering ABC won't show up in\n",
      "     |  their MRO (Method Resolution Order) nor will method\n",
      "     |  implementations defined by the registering ABC be callable (not\n",
      "     |  even via super()).\n",
      "     |  \n",
      "     |  Method resolution order:\n",
      "     |      ABCMeta\n",
      "     |      builtins.type\n",
      "     |      builtins.object\n",
      "     |  \n",
      "     |  Methods defined here:\n",
      "     |  \n",
      "     |  __instancecheck__(cls, instance)\n",
      "     |      Override for isinstance(instance, cls).\n",
      "     |  \n",
      "     |  __subclasscheck__(cls, subclass)\n",
      "     |      Override for issubclass(subclass, cls).\n",
      "     |  \n",
      "     |  register(cls, subclass)\n",
      "     |      Register a virtual subclass of an ABC.\n",
      "     |      \n",
      "     |      Returns the subclass, to allow usage as a class decorator.\n",
      "     |  \n",
      "     |  ----------------------------------------------------------------------\n",
      "     |  Static methods defined here:\n",
      "     |  \n",
      "     |  __new__(mcls, name, bases, namespace, **kwargs)\n",
      "     |      Create and return a new object.  See help(type) for accurate signature.\n",
      "     |  \n",
      "     |  ----------------------------------------------------------------------\n",
      "     |  Methods inherited from builtins.type:\n",
      "     |  \n",
      "     |  __call__(self, /, *args, **kwargs)\n",
      "     |      Call self as a function.\n",
      "     |  \n",
      "     |  __delattr__(self, name, /)\n",
      "     |      Implement delattr(self, name).\n",
      "     |  \n",
      "     |  __dir__(self, /)\n",
      "     |      Specialized __dir__ implementation for types.\n",
      "     |  \n",
      "     |  __getattribute__(self, name, /)\n",
      "     |      Return getattr(self, name).\n",
      "     |  \n",
      "     |  __init__(self, /, *args, **kwargs)\n",
      "     |      Initialize self.  See help(type(self)) for accurate signature.\n",
      "     |  \n",
      "     |  __repr__(self, /)\n",
      "     |      Return repr(self).\n",
      "     |  \n",
      "     |  __setattr__(self, name, value, /)\n",
      "     |      Implement setattr(self, name, value).\n",
      "     |  \n",
      "     |  __sizeof__(self, /)\n",
      "     |      Return memory consumption of the type object.\n",
      "     |  \n",
      "     |  __subclasses__(self, /)\n",
      "     |      Return a list of immediate subclasses.\n",
      "     |  \n",
      "     |  mro(self, /)\n",
      "     |      Return a type's method resolution order.\n",
      "     |  \n",
      "     |  ----------------------------------------------------------------------\n",
      "     |  Class methods inherited from builtins.type:\n",
      "     |  \n",
      "     |  __prepare__(...) from builtins.type\n",
      "     |      __prepare__() -> dict\n",
      "     |      used to create the namespace for the class statement\n",
      "     |  \n",
      "     |  ----------------------------------------------------------------------\n",
      "     |  Data descriptors inherited from builtins.type:\n",
      "     |  \n",
      "     |  __abstractmethods__\n",
      "     |  \n",
      "     |  __dict__\n",
      "     |  \n",
      "     |  __text_signature__\n",
      "     |  \n",
      "     |  ----------------------------------------------------------------------\n",
      "     |  Data and other attributes inherited from builtins.type:\n",
      "     |  \n",
      "     |  __base__ = <class 'type'>\n",
      "     |      type(object_or_name, bases, dict)\n",
      "     |      type(object) -> the object's type\n",
      "     |      type(name, bases, dict) -> a new type\n",
      "     |  \n",
      "     |  __bases__ = (<class 'type'>,)\n",
      "     |  \n",
      "     |  __basicsize__ = 880\n",
      "     |  \n",
      "     |  __dictoffset__ = 264\n",
      "     |  \n",
      "     |  __flags__ = 2148292096\n",
      "     |  \n",
      "     |  __itemsize__ = 40\n",
      "     |  \n",
      "     |  __mro__ = (<class 'abc.ABCMeta'>, <class 'type'>, <class 'object'>)\n",
      "     |  \n",
      "     |  __weakrefoffset__ = 368\n",
      "    \n",
      "    class abstractclassmethod(builtins.classmethod)\n",
      "     |  abstractclassmethod(callable)\n",
      "     |  \n",
      "     |  A decorator indicating abstract classmethods.\n",
      "     |  \n",
      "     |  Deprecated, use 'classmethod' with 'abstractmethod' instead.\n",
      "     |  \n",
      "     |  Method resolution order:\n",
      "     |      abstractclassmethod\n",
      "     |      builtins.classmethod\n",
      "     |      builtins.object\n",
      "     |  \n",
      "     |  Methods defined here:\n",
      "     |  \n",
      "     |  __init__(self, callable)\n",
      "     |      Initialize self.  See help(type(self)) for accurate signature.\n",
      "     |  \n",
      "     |  ----------------------------------------------------------------------\n",
      "     |  Data descriptors defined here:\n",
      "     |  \n",
      "     |  __weakref__\n",
      "     |      list of weak references to the object (if defined)\n",
      "     |  \n",
      "     |  ----------------------------------------------------------------------\n",
      "     |  Data and other attributes defined here:\n",
      "     |  \n",
      "     |  __isabstractmethod__ = True\n",
      "     |  \n",
      "     |  ----------------------------------------------------------------------\n",
      "     |  Methods inherited from builtins.classmethod:\n",
      "     |  \n",
      "     |  __get__(self, instance, owner, /)\n",
      "     |      Return an attribute of instance, which is of type owner.\n",
      "     |  \n",
      "     |  ----------------------------------------------------------------------\n",
      "     |  Static methods inherited from builtins.classmethod:\n",
      "     |  \n",
      "     |  __new__(*args, **kwargs) from builtins.type\n",
      "     |      Create and return a new object.  See help(type) for accurate signature.\n",
      "     |  \n",
      "     |  ----------------------------------------------------------------------\n",
      "     |  Data descriptors inherited from builtins.classmethod:\n",
      "     |  \n",
      "     |  __dict__\n",
      "     |  \n",
      "     |  __func__\n",
      "    \n",
      "    class abstractproperty(builtins.property)\n",
      "     |  abstractproperty(fget=None, fset=None, fdel=None, doc=None)\n",
      "     |  \n",
      "     |  A decorator indicating abstract properties.\n",
      "     |  \n",
      "     |  Deprecated, use 'property' with 'abstractmethod' instead.\n",
      "     |  \n",
      "     |  Method resolution order:\n",
      "     |      abstractproperty\n",
      "     |      builtins.property\n",
      "     |      builtins.object\n",
      "     |  \n",
      "     |  Data descriptors defined here:\n",
      "     |  \n",
      "     |  __dict__\n",
      "     |      dictionary for instance variables (if defined)\n",
      "     |  \n",
      "     |  __weakref__\n",
      "     |      list of weak references to the object (if defined)\n",
      "     |  \n",
      "     |  ----------------------------------------------------------------------\n",
      "     |  Data and other attributes defined here:\n",
      "     |  \n",
      "     |  __isabstractmethod__ = True\n",
      "     |  \n",
      "     |  ----------------------------------------------------------------------\n",
      "     |  Methods inherited from builtins.property:\n",
      "     |  \n",
      "     |  __delete__(self, instance, /)\n",
      "     |      Delete an attribute of instance.\n",
      "     |  \n",
      "     |  __get__(self, instance, owner, /)\n",
      "     |      Return an attribute of instance, which is of type owner.\n",
      "     |  \n",
      "     |  __getattribute__(self, name, /)\n",
      "     |      Return getattr(self, name).\n",
      "     |  \n",
      "     |  __init__(self, /, *args, **kwargs)\n",
      "     |      Initialize self.  See help(type(self)) for accurate signature.\n",
      "     |  \n",
      "     |  __set__(self, instance, value, /)\n",
      "     |      Set an attribute of instance to value.\n",
      "     |  \n",
      "     |  deleter(...)\n",
      "     |      Descriptor to change the deleter on a property.\n",
      "     |  \n",
      "     |  getter(...)\n",
      "     |      Descriptor to change the getter on a property.\n",
      "     |  \n",
      "     |  setter(...)\n",
      "     |      Descriptor to change the setter on a property.\n",
      "     |  \n",
      "     |  ----------------------------------------------------------------------\n",
      "     |  Static methods inherited from builtins.property:\n",
      "     |  \n",
      "     |  __new__(*args, **kwargs) from builtins.type\n",
      "     |      Create and return a new object.  See help(type) for accurate signature.\n",
      "     |  \n",
      "     |  ----------------------------------------------------------------------\n",
      "     |  Data descriptors inherited from builtins.property:\n",
      "     |  \n",
      "     |  fdel\n",
      "     |  \n",
      "     |  fget\n",
      "     |  \n",
      "     |  fset\n",
      "    \n",
      "    class abstractstaticmethod(builtins.staticmethod)\n",
      "     |  abstractstaticmethod(callable)\n",
      "     |  \n",
      "     |  A decorator indicating abstract staticmethods.\n",
      "     |  \n",
      "     |  Deprecated, use 'staticmethod' with 'abstractmethod' instead.\n",
      "     |  \n",
      "     |  Method resolution order:\n",
      "     |      abstractstaticmethod\n",
      "     |      builtins.staticmethod\n",
      "     |      builtins.object\n",
      "     |  \n",
      "     |  Methods defined here:\n",
      "     |  \n",
      "     |  __init__(self, callable)\n",
      "     |      Initialize self.  See help(type(self)) for accurate signature.\n",
      "     |  \n",
      "     |  ----------------------------------------------------------------------\n",
      "     |  Data descriptors defined here:\n",
      "     |  \n",
      "     |  __weakref__\n",
      "     |      list of weak references to the object (if defined)\n",
      "     |  \n",
      "     |  ----------------------------------------------------------------------\n",
      "     |  Data and other attributes defined here:\n",
      "     |  \n",
      "     |  __isabstractmethod__ = True\n",
      "     |  \n",
      "     |  ----------------------------------------------------------------------\n",
      "     |  Methods inherited from builtins.staticmethod:\n",
      "     |  \n",
      "     |  __get__(self, instance, owner, /)\n",
      "     |      Return an attribute of instance, which is of type owner.\n",
      "     |  \n",
      "     |  ----------------------------------------------------------------------\n",
      "     |  Static methods inherited from builtins.staticmethod:\n",
      "     |  \n",
      "     |  __new__(*args, **kwargs) from builtins.type\n",
      "     |      Create and return a new object.  See help(type) for accurate signature.\n",
      "     |  \n",
      "     |  ----------------------------------------------------------------------\n",
      "     |  Data descriptors inherited from builtins.staticmethod:\n",
      "     |  \n",
      "     |  __dict__\n",
      "     |  \n",
      "     |  __func__\n",
      "\n",
      "FUNCTIONS\n",
      "    abstractmethod(funcobj)\n",
      "        A decorator indicating abstract methods.\n",
      "        \n",
      "        Requires that the metaclass is ABCMeta or derived from it.  A\n",
      "        class that has a metaclass derived from ABCMeta cannot be\n",
      "        instantiated unless all of its abstract methods are overridden.\n",
      "        The abstract methods can be called using any of the normal\n",
      "        'super' call mechanisms.  abstractmethod() may be used to declare\n",
      "        abstract methods for properties and descriptors.\n",
      "        \n",
      "        Usage:\n",
      "        \n",
      "            class C(metaclass=ABCMeta):\n",
      "                @abstractmethod\n",
      "                def my_abstract_method(self, ...):\n",
      "                    ...\n",
      "    \n",
      "    get_cache_token()\n",
      "        Returns the current ABC cache token.\n",
      "        \n",
      "        The token is an opaque object (supporting equality testing) identifying the\n",
      "        current version of the ABC cache for virtual subclasses. The token changes\n",
      "        with every call to register() on any ABC.\n",
      "\n",
      "FILE\n",
      "    c:\\users\\jay\\anaconda3\\lib\\abc.py\n",
      "\n",
      "\n"
     ]
    }
   ],
   "source": [
    "import abc\n",
    "help(abc)"
   ]
  },
  {
   "cell_type": "code",
   "execution_count": 136,
   "metadata": {},
   "outputs": [
    {
     "name": "stdout",
     "output_type": "stream",
     "text": [
      "puppy start\n",
      "puppy stop\n",
      "cat start\n",
      "cat stop\n",
      "duck start\n",
      "duck stop\n"
     ]
    }
   ],
   "source": [
    "from abc import abstractmethod, ABCMeta\n",
    "class Base(metaclass=ABCMeta) :\n",
    "    @abstractmethod\n",
    "    def start(self):\n",
    "        print('base start')\n",
    "        \n",
    "    @abstractmethod\n",
    "    def Stop(self):\n",
    "        print('base stop')\n",
    "        \n",
    "class Cat(Base) :\n",
    "    def start(self) :\n",
    "        print('cat start')\n",
    "    def Stop(self) :\n",
    "        print('cat stop')\n",
    "\n",
    "class Duck(Base):\n",
    "    def start(self) :\n",
    "        print('duck start')\n",
    "    def Stop(self):\n",
    "        print('duck stop')\n",
    "        \n",
    "class Puppy(Base) :\n",
    "    def start(self) :\n",
    "        print('puppy start')\n",
    "    def Stop(self) :\n",
    "        print('puppy stop')\n",
    "    \n",
    "    \n",
    "    \n",
    "def MY_Call(m) :\n",
    "    m.start()\n",
    "    m.Stop()\n",
    "    \n",
    "if __name__ == '__main__':\n",
    "    MY_Call(Puppy())\n",
    "    MY_Call(Cat())\n",
    "    MY_Call(Duck())"
   ]
  },
  {
   "cell_type": "code",
   "execution_count": null,
   "metadata": {},
   "outputs": [],
   "source": []
  },
  {
   "cell_type": "markdown",
   "metadata": {},
   "source": [
    "# MyClass02"
   ]
  },
  {
   "cell_type": "code",
   "execution_count": 138,
   "metadata": {},
   "outputs": [
    {
     "name": "stdout",
     "output_type": "stream",
     "text": [
      "100\n"
     ]
    }
   ],
   "source": [
    "# @property : 메소드를 변수로 호출할 수 있도록 지정\n",
    "class My :\n",
    "    def __init__(self) :\n",
    "        self.x = 0\n",
    "    \n",
    "    @property # @mFun.getter랑 같음 (리턴받을때는 @property)\n",
    "    def mFun(self) : # 멤버 변수 x를 리턴하는 UserMethod\n",
    "        return self.x\n",
    "    \n",
    "    @mFun.setter\n",
    "    def mFun(self, x) : # 멤버 변수 x에게 지역변수 x가 값을 받아 전달 및 변경하는 UserMethod\n",
    "        self.x = x\n",
    "        \n",
    "if __name__ == '__main__' :\n",
    "    a = My()\n",
    "    a.mFun = 100\n",
    "    print(a.mFun)"
   ]
  },
  {
   "cell_type": "markdown",
   "metadata": {},
   "source": [
    "# exam03.py"
   ]
  },
  {
   "cell_type": "code",
   "execution_count": null,
   "metadata": {},
   "outputs": [],
   "source": [
    "# 두수를 입력받아(두 수를 입력받을 생성자 또는 a,b를 관리하는 메소드를 만들거나) 사칙연산 구현하는 클래스를 만들고 싶다.\n",
    "# 100 + 200 =    get_hap()\n",
    "# 200 - 100 =    get_sub()\n",
    "# 100 * 200 =    get_mul()\n",
    "# 200 / 100 =    get_div()\n",
    "# 데이터 타입선언 -> 값대입 -> 연산 -> 출력"
   ]
  },
  {
   "cell_type": "code",
   "execution_count": 143,
   "metadata": {},
   "outputs": [
    {
     "name": "stdout",
     "output_type": "stream",
     "text": [
      "300\n",
      "100\n",
      "20000\n",
      "2.0\n"
     ]
    }
   ],
   "source": [
    "# 1번 유형 : 생성자로 만들어보자\n",
    "# 이방법으로 만들어도 괜찮지만 0점이라고 하신다...\n",
    "class Calc :\n",
    "    def __init__(self, a, b) :\n",
    "        self.a = a\n",
    "        self.b = b\n",
    "         \n",
    "    def get_hap(self) :\n",
    "        return self.a + self.b\n",
    "     \n",
    "    def get_sub(self) :\n",
    "        return self.b - self.a\n",
    "         \n",
    "    def get_mul(self) :\n",
    "        return self.a * self.b\n",
    "     \n",
    "    def get_div(self) :\n",
    "        return self.b / self.a\n",
    "        \n",
    "if __name__ == '__main__' :\n",
    "    m = Calc(100,200) # 생성자\n",
    "    print(m.get_hap())\n",
    "    print(m.get_sub())\n",
    "    print(m.get_mul())\n",
    "    print(m.get_div())"
   ]
  },
  {
   "cell_type": "code",
   "execution_count": 149,
   "metadata": {},
   "outputs": [
    {
     "name": "stdout",
     "output_type": "stream",
     "text": [
      "  100   +   200   =   300\n",
      "  200   -   100   =   100\n",
      "  100   *   200   = 20000\n",
      "  200   /   100   =     2\n"
     ]
    }
   ],
   "source": [
    "# 2번 유형 : 캡슐화 / a,b를 관리하는 메소드를 절실하게 느껴보자\n",
    "# 멤버변수를 private로 지정하고 외부에서 각각의 전달 받은 두수를 리턴해서 확인 할 수 있도록 return형 메소드를 선언\n",
    "# get_a(self) : / get_b(self) :\n",
    "class Calc :\n",
    "    def __init__(self, a, b) :\n",
    "        self.__a = a # 멤버변수를 현재 Calc안에는 메소드에만 공개하겠다. 멤버에게만 공개하겠다. private하겠다.\n",
    "        self.__b = b\n",
    "         \n",
    "    def get_a(self) :\n",
    "        return self.__a\n",
    "    def get_b(self) :\n",
    "        return self.__b\n",
    "        \n",
    "    def get_hap(self) :\n",
    "        return self.__a + self.__b\n",
    "     \n",
    "    def get_sub(self) :\n",
    "        return self.__b - self.__a\n",
    "         \n",
    "    def get_mul(self) :\n",
    "        return self.__a * self.__b\n",
    "     \n",
    "    def get_div(self) :\n",
    "        return self.__b / self.__a\n",
    "        \n",
    "if __name__ == '__main__' :\n",
    "    m = Calc(100,200) # 생성자\n",
    "    print('%5d   + %5d   = %5d'%(m.get_a(), m.get_b(), m.get_hap()))\n",
    "    print('%5d   - %5d   = %5d'%(m.get_b(), m.get_a(), m.get_sub()))\n",
    "    print('%5d   * %5d   = %5d'%(m.get_a(), m.get_b(), m.get_mul()))\n",
    "    print('%5d   / %5d   = %5d'%(m.get_b(), m.get_a(), m.get_div()))"
   ]
  },
  {
   "cell_type": "code",
   "execution_count": 153,
   "metadata": {},
   "outputs": [
    {
     "name": "stdout",
     "output_type": "stream",
     "text": [
      "  100   +   200   =   300\n",
      "  200   -   100   =   100\n",
      "  100   *   200   = 20000\n",
      "  200   /   100   =     2\n",
      "\n",
      "  100   +   300   =   400\n",
      "  300   -   100   =   200\n",
      "  100   *   300   = 30000\n",
      "  300   /   100   =     3\n",
      "\n",
      "  200   +   300   =   500\n",
      "  300   -   200   =   100\n",
      "  200   *   300   = 60000\n",
      "  300   /   200   =     1\n"
     ]
    }
   ],
   "source": [
    "# 3번 유형 : 값변경\n",
    "# 100 + 200 =    get_hap()\n",
    "# 200 - 100 =    get_sub()\n",
    "# 100 * 200 =    get_mul()\n",
    "# 200 / 100 =    get_div()\n",
    "\n",
    "# 100 + 300 =    get_hap()\n",
    "# 300 - 100 =    get_sub()\n",
    "# 100 * 300 =    get_mul()\n",
    "# 300 / 100 =    get_div()\n",
    "\n",
    "# 200 + 300 =    get_hap()\n",
    "# 300 - 200 =    get_sub()\n",
    "# 200 * 300 =    get_mul()\n",
    "# 300 / 200 =    get_div()\n",
    "\n",
    "\n",
    "class Calc :\n",
    "    def __init__(self, a, b) :\n",
    "        self.__a = a # 멤버변수를 현재 Calc안에는 메소드에만 공개하겠다. 멤버에게만 공개하겠다. private하겠다.\n",
    "        self.__b = b\n",
    "         \n",
    "    def get_a(self) :\n",
    "        return self.__a\n",
    "    def get_b(self) :\n",
    "        return self.__b\n",
    "    \n",
    "    def set_a(self, a) :\n",
    "        self.__a = a\n",
    "    def set_b(self, b) : # __b의 값만 변경하고 싶다. = 멤버변수의 값 전달 및 변경\n",
    "        self.__b = b\n",
    "        \n",
    "    def get_hap(self) :\n",
    "        return self.__a + self.__b\n",
    "     \n",
    "    def get_sub(self) :\n",
    "        return self.__b - self.__a\n",
    "         \n",
    "    def get_mul(self) :\n",
    "        return self.__a * self.__b\n",
    "     \n",
    "    def get_div(self) :\n",
    "        return self.__b / self.__a\n",
    "        \n",
    "if __name__ == '__main__' :\n",
    "    m = Calc(100,200) # 생성자\n",
    "    print('%5d   + %5d   = %5d'%(m.get_a(), m.get_b(), m.get_hap()))\n",
    "    print('%5d   - %5d   = %5d'%(m.get_b(), m.get_a(), m.get_sub()))\n",
    "    print('%5d   * %5d   = %5d'%(m.get_a(), m.get_b(), m.get_mul()))\n",
    "    print('%5d   / %5d   = %5d'%(m.get_b(), m.get_a(), m.get_div()))\n",
    "    m.set_b(300)\n",
    "    print('\\n%5d   + %5d   = %5d'%(m.get_a(), m.get_b(), m.get_hap()))\n",
    "    print('%5d   - %5d   = %5d'%(m.get_b(), m.get_a(), m.get_sub()))\n",
    "    print('%5d   * %5d   = %5d'%(m.get_a(), m.get_b(), m.get_mul()))\n",
    "    print('%5d   / %5d   = %5d'%(m.get_b(), m.get_a(), m.get_div()))\n",
    "    m.set_a(200)\n",
    "    print('\\n%5d   + %5d   = %5d'%(m.get_a(), m.get_b(), m.get_hap()))\n",
    "    print('%5d   - %5d   = %5d'%(m.get_b(), m.get_a(), m.get_sub()))\n",
    "    print('%5d   * %5d   = %5d'%(m.get_a(), m.get_b(), m.get_mul()))\n",
    "    print('%5d   / %5d   = %5d'%(m.get_b(), m.get_a(), m.get_div()))"
   ]
  },
  {
   "cell_type": "code",
   "execution_count": 159,
   "metadata": {},
   "outputs": [
    {
     "name": "stdout",
     "output_type": "stream",
     "text": [
      "====================================================\n",
      "  100   +   200   =   300\n",
      "  200   -   100   =   100\n",
      "  100   *   200   = 20000\n",
      "  200   /   100   =     2\n",
      "====================================================\n",
      "  100   +   300   =   400\n",
      "  300   -   100   =   200\n",
      "  100   *   300   = 30000\n",
      "  300   /   100   =     3\n",
      "====================================================\n",
      "  200   +   300   =   500\n",
      "  300   -   200   =   100\n",
      "  200   *   300   = 60000\n",
      "  300   /   200   =     1\n"
     ]
    }
   ],
   "source": [
    "# 4번 유형 : 출력도 클래스로 만들자\n",
    "# 100 + 200 =    get_hap()\n",
    "# 200 - 100 =    get_sub()\n",
    "# 100 * 200 =    get_mul()\n",
    "# 200 / 100 =    get_div()\n",
    "\n",
    "# 100 + 300 =    get_hap()\n",
    "# 300 - 100 =    get_sub()\n",
    "# 100 * 300 =    get_mul()\n",
    "# 300 / 100 =    get_div()\n",
    "\n",
    "# 200 + 300 =    get_hap()\n",
    "# 300 - 200 =    get_sub()\n",
    "# 200 * 300 =    get_mul()\n",
    "# 300 / 200 =    get_div()\n",
    "\n",
    "\n",
    "class Calc :\n",
    "    def __init__(self, a, b) :\n",
    "        self.__a = a # 멤버변수를 현재 Calc안에는 메소드에만 공개하겠다. 멤버에게만 공개하겠다. private하겠다.\n",
    "        self.__b = b\n",
    "         \n",
    "    def get_a(self) :\n",
    "        return self.__a\n",
    "    def get_b(self) :\n",
    "        return self.__b\n",
    "    \n",
    "    def set_a(self, a) :\n",
    "        self.__a = a\n",
    "    def set_b(self, b) : # __b의 값만 변경하고 싶다. = 멤버변수의 값 전달 및 변경\n",
    "        self.__b = b\n",
    "        \n",
    "    def get_hap(self) :\n",
    "        return self.__a + self.__b\n",
    "     \n",
    "    def get_sub(self) :\n",
    "        return self.__b - self.__a\n",
    "         \n",
    "    def get_mul(self) :\n",
    "        return self.__a * self.__b\n",
    "     \n",
    "    def get_div(self) :\n",
    "        return self.__b / self.__a\n",
    "    def prn(self) :\n",
    "        print('====================================================')\n",
    "        print('%5d   + %5d   = %5d'%(self.get_a(), self.get_b(), self.get_hap()))\n",
    "        print('%5d   - %5d   = %5d'%(self.get_b(), self.get_a(), self.get_sub()))\n",
    "        print('%5d   * %5d   = %5d'%(self.get_a(), self.get_b(), self.get_mul()))\n",
    "        print('%5d   / %5d   = %5d'%(self.get_b(), self.get_a(), self.get_div()))\n",
    "        \n",
    "if __name__ == '__main__' :\n",
    "    m = Calc(100,200)\n",
    "    m.prn()\n",
    "    m.set_b(300)\n",
    "    m.prn()\n",
    "    m.set_a(200)\n",
    "    m.prn()"
   ]
  },
  {
   "cell_type": "markdown",
   "metadata": {},
   "source": [
    "* class userName : -> 생성자 -> 멤버변수 getter&setter -> 계산용 메소드 -> 출력용 메소드 -> 소멸자\n",
    "* 생성자는 명시하지 않으면 파이썬에서 기본 생성자를 자동으로 호출해서 \\_\\_init__(self) : 객체를 생성하고 명시하게 되면 명시된 생성자가 호출된다."
   ]
  },
  {
   "cell_type": "markdown",
   "metadata": {},
   "source": [
    "# Calc.py"
   ]
  },
  {
   "cell_type": "code",
   "execution_count": null,
   "metadata": {},
   "outputs": [],
   "source": [
    "class Calc :\n",
    "    def __init__(self, a, b) :\n",
    "        self.__a = a # 멤버변수를 현재 Calc안에는 메소드에만 공개하겠다. 멤버에게만 공개하겠다. private하겠다.\n",
    "        self.__b = b\n",
    "         \n",
    "    def get_a(self) :\n",
    "        return self.__a\n",
    "    def get_b(self) :\n",
    "        return self.__b\n",
    "    \n",
    "    def set_a(self, a) :\n",
    "        self.__a = a\n",
    "    def set_b(self, b) : # __b의 값만 변경하고 싶다. = 멤버변수의 값 전달 및 변경\n",
    "        self.__b = b\n",
    "        \n",
    "    def get_hap(self) :\n",
    "        return self.__a + self.__b\n",
    "     \n",
    "    def get_sub(self) :\n",
    "        return self.__b - self.__a\n",
    "         \n",
    "    def get_mul(self) :\n",
    "        return self.__a * self.__b\n",
    "     \n",
    "    def get_div(self) :\n",
    "        return self.__b / self.__a\n",
    "    def prn(self) :\n",
    "        print('====================================================')\n",
    "        print('%5d   + %5d   = %5d'%(self.get_a(), self.get_b(), self.get_hap()))\n",
    "        print('%5d   - %5d   = %5d'%(self.get_b(), self.get_a(), self.get_sub()))\n",
    "        print('%5d   * %5d   = %5d'%(self.get_a(), self.get_b(), self.get_mul()))\n",
    "        print('%5d   / %5d   = %5d'%(self.get_b(), self.get_a(), self.get_div()))"
   ]
  },
  {
   "cell_type": "code",
   "execution_count": 6,
   "metadata": {},
   "outputs": [
    {
     "ename": "TypeError",
     "evalue": "'module' object is not callable",
     "output_type": "error",
     "traceback": [
      "\u001b[1;31m---------------------------------------------------------------------------\u001b[0m",
      "\u001b[1;31mTypeError\u001b[0m                                 Traceback (most recent call last)",
      "\u001b[1;32m<ipython-input-6-d5c145ccdaa7>\u001b[0m in \u001b[0;36m<module>\u001b[1;34m\u001b[0m\n\u001b[0;32m      2\u001b[0m \u001b[1;33m\u001b[0m\u001b[0m\n\u001b[0;32m      3\u001b[0m \u001b[1;32mif\u001b[0m \u001b[0m__name__\u001b[0m \u001b[1;33m==\u001b[0m \u001b[1;34m'__main__'\u001b[0m \u001b[1;33m:\u001b[0m\u001b[1;33m\u001b[0m\u001b[1;33m\u001b[0m\u001b[0m\n\u001b[1;32m----> 4\u001b[1;33m     \u001b[0mm\u001b[0m \u001b[1;33m=\u001b[0m \u001b[0mCalc\u001b[0m\u001b[1;33m(\u001b[0m\u001b[1;36m100\u001b[0m\u001b[1;33m,\u001b[0m\u001b[1;36m200\u001b[0m\u001b[1;33m)\u001b[0m\u001b[1;33m\u001b[0m\u001b[1;33m\u001b[0m\u001b[0m\n\u001b[0m\u001b[0;32m      5\u001b[0m     \u001b[0mm\u001b[0m\u001b[1;33m.\u001b[0m\u001b[0mprn\u001b[0m\u001b[1;33m(\u001b[0m\u001b[1;33m)\u001b[0m\u001b[1;33m\u001b[0m\u001b[1;33m\u001b[0m\u001b[0m\n\u001b[0;32m      6\u001b[0m     \u001b[0mm\u001b[0m\u001b[1;33m.\u001b[0m\u001b[0mset_b\u001b[0m\u001b[1;33m(\u001b[0m\u001b[1;36m300\u001b[0m\u001b[1;33m)\u001b[0m\u001b[1;33m\u001b[0m\u001b[1;33m\u001b[0m\u001b[0m\n",
      "\u001b[1;31mTypeError\u001b[0m: 'module' object is not callable"
     ]
    }
   ],
   "source": [
    "import Calc\n",
    "\n",
    "if __name__ == '__main__' :\n",
    "    m = Calc(100,200)\n",
    "    m.prn()\n",
    "    m.set_b(300)\n",
    "    m.prn()\n",
    "    m.set_a(200)\n",
    "    m.prn()\n",
    "    \n",
    "    # 이건 파이참에서 확인하자!!!!"
   ]
  },
  {
   "cell_type": "code",
   "execution_count": null,
   "metadata": {},
   "outputs": [],
   "source": []
  },
  {
   "cell_type": "code",
   "execution_count": null,
   "metadata": {},
   "outputs": [],
   "source": []
  },
  {
   "cell_type": "code",
   "execution_count": null,
   "metadata": {},
   "outputs": [],
   "source": []
  },
  {
   "cell_type": "code",
   "execution_count": null,
   "metadata": {},
   "outputs": [],
   "source": []
  },
  {
   "cell_type": "code",
   "execution_count": null,
   "metadata": {},
   "outputs": [],
   "source": []
  },
  {
   "cell_type": "code",
   "execution_count": 160,
   "metadata": {},
   "outputs": [
    {
     "name": "stdout",
     "output_type": "stream",
     "text": [
      "C:\\Users\\JAY\\Desktop\\플레이데이터\\데일리파일\n"
     ]
    }
   ],
   "source": [
    "import os\n",
    "print(os.getcwd())"
   ]
  },
  {
   "cell_type": "code",
   "execution_count": null,
   "metadata": {},
   "outputs": [],
   "source": []
  }
 ],
 "metadata": {
  "kernelspec": {
   "display_name": "Python 3",
   "language": "python",
   "name": "python3"
  }
 },
 "nbformat": 4,
 "nbformat_minor": 4
}

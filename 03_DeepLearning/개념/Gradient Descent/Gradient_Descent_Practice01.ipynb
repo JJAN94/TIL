{
 "cells": [
  {
   "cell_type": "markdown",
   "id": "a944d9b3-d209-463e-92b1-30b2c60f4a17",
   "metadata": {},
   "source": [
    "# 보스턴 주택 가격 데이터 세트를 Perceptron 기반에서 학습 및 테스트하기 위한 데이터 로드\n",
    "- 사이킷런에서 보스턴 주택 가격 데이터 세트를 로드하고 이를 DataFrame으로 생성"
   ]
  },
  {
   "cell_type": "code",
   "execution_count": 2,
   "id": "676ae9c3-3c62-4218-b738-6999694efd11",
   "metadata": {},
   "outputs": [],
   "source": [
    "import pandas as pd\n",
    "import numpy as np"
   ]
  },
  {
   "cell_type": "code",
   "execution_count": 1,
   "id": "1cbe210b-9c83-4379-bfe3-e6b728207c11",
   "metadata": {},
   "outputs": [],
   "source": [
    "from sklearn.datasets import load_boston"
   ]
  },
  {
   "cell_type": "code",
   "execution_count": 8,
   "id": "d3e11d9e-037d-4f2b-9c7e-23492b83fc83",
   "metadata": {},
   "outputs": [],
   "source": [
    "import warnings\n",
    "warnings.filterwarnings(action='ignore')"
   ]
  },
  {
   "cell_type": "code",
   "execution_count": 9,
   "id": "9bdd4bfa-3be9-4fe8-9d78-171480f542a8",
   "metadata": {},
   "outputs": [
    {
     "name": "stdout",
     "output_type": "stream",
     "text": [
      "(506, 14)\n"
     ]
    },
    {
     "data": {
      "text/html": [
       "<div>\n",
       "<style scoped>\n",
       "    .dataframe tbody tr th:only-of-type {\n",
       "        vertical-align: middle;\n",
       "    }\n",
       "\n",
       "    .dataframe tbody tr th {\n",
       "        vertical-align: top;\n",
       "    }\n",
       "\n",
       "    .dataframe thead th {\n",
       "        text-align: right;\n",
       "    }\n",
       "</style>\n",
       "<table border=\"1\" class=\"dataframe\">\n",
       "  <thead>\n",
       "    <tr style=\"text-align: right;\">\n",
       "      <th></th>\n",
       "      <th>CRIM</th>\n",
       "      <th>ZN</th>\n",
       "      <th>INDUS</th>\n",
       "      <th>CHAS</th>\n",
       "      <th>NOX</th>\n",
       "      <th>RM</th>\n",
       "      <th>AGE</th>\n",
       "      <th>DIS</th>\n",
       "      <th>RAD</th>\n",
       "      <th>TAX</th>\n",
       "      <th>PTRATIO</th>\n",
       "      <th>B</th>\n",
       "      <th>LSTAT</th>\n",
       "      <th>RPICE</th>\n",
       "    </tr>\n",
       "  </thead>\n",
       "  <tbody>\n",
       "    <tr>\n",
       "      <th>0</th>\n",
       "      <td>0.00632</td>\n",
       "      <td>18.0</td>\n",
       "      <td>2.31</td>\n",
       "      <td>0.0</td>\n",
       "      <td>0.538</td>\n",
       "      <td>6.575</td>\n",
       "      <td>65.2</td>\n",
       "      <td>4.0900</td>\n",
       "      <td>1.0</td>\n",
       "      <td>296.0</td>\n",
       "      <td>15.3</td>\n",
       "      <td>396.90</td>\n",
       "      <td>4.98</td>\n",
       "      <td>24.0</td>\n",
       "    </tr>\n",
       "    <tr>\n",
       "      <th>1</th>\n",
       "      <td>0.02731</td>\n",
       "      <td>0.0</td>\n",
       "      <td>7.07</td>\n",
       "      <td>0.0</td>\n",
       "      <td>0.469</td>\n",
       "      <td>6.421</td>\n",
       "      <td>78.9</td>\n",
       "      <td>4.9671</td>\n",
       "      <td>2.0</td>\n",
       "      <td>242.0</td>\n",
       "      <td>17.8</td>\n",
       "      <td>396.90</td>\n",
       "      <td>9.14</td>\n",
       "      <td>21.6</td>\n",
       "    </tr>\n",
       "    <tr>\n",
       "      <th>2</th>\n",
       "      <td>0.02729</td>\n",
       "      <td>0.0</td>\n",
       "      <td>7.07</td>\n",
       "      <td>0.0</td>\n",
       "      <td>0.469</td>\n",
       "      <td>7.185</td>\n",
       "      <td>61.1</td>\n",
       "      <td>4.9671</td>\n",
       "      <td>2.0</td>\n",
       "      <td>242.0</td>\n",
       "      <td>17.8</td>\n",
       "      <td>392.83</td>\n",
       "      <td>4.03</td>\n",
       "      <td>34.7</td>\n",
       "    </tr>\n",
       "  </tbody>\n",
       "</table>\n",
       "</div>"
      ],
      "text/plain": [
       "      CRIM    ZN  INDUS  CHAS    NOX     RM   AGE     DIS  RAD    TAX  \\\n",
       "0  0.00632  18.0   2.31   0.0  0.538  6.575  65.2  4.0900  1.0  296.0   \n",
       "1  0.02731   0.0   7.07   0.0  0.469  6.421  78.9  4.9671  2.0  242.0   \n",
       "2  0.02729   0.0   7.07   0.0  0.469  7.185  61.1  4.9671  2.0  242.0   \n",
       "\n",
       "   PTRATIO       B  LSTAT  RPICE  \n",
       "0     15.3  396.90   4.98   24.0  \n",
       "1     17.8  396.90   9.14   21.6  \n",
       "2     17.8  392.83   4.03   34.7  "
      ]
     },
     "execution_count": 9,
     "metadata": {},
     "output_type": "execute_result"
    }
   ],
   "source": [
    "boston = load_boston()\n",
    "bostonDF = pd.DataFrame(boston.data, columns=boston.feature_names)\n",
    "bostonDF['RPICE'] = boston.target\n",
    "print(bostonDF.shape)\n",
    "bostonDF.head(3)\n",
    "# 사이킷런 1.0버전대에선 boston dataset이 deprecated됨\n",
    "# 사이킷런 1.2 버전업이 되면 보스턴데이터셋이 없어진다함."
   ]
  },
  {
   "cell_type": "markdown",
   "id": "107f9a6c-4850-4a43-96f8-30cff5ed63a9",
   "metadata": {},
   "source": [
    "## Weight와 Bias의 Update 값을 계산하는 함수 생성\n",
    "- w1은 RM(방의 개수) 피처의 weight값\n",
    "- w2는 LSTAT(하위계층 비율) 피처의 weight값\n",
    "- bias는 Bias\n",
    "- N은 입력 데이터 건수"
   ]
  },
  {
   "cell_type": "code",
   "execution_count": 10,
   "id": "25336c90-3139-4a0d-a399-7fcb9787cf36",
   "metadata": {},
   "outputs": [],
   "source": [
    "# gradient descent() 함수에서 반복적으로 호출되면서 update 될 weight/bias 값을 계산하는 함수\n",
    "# rm은 RM(방 개수), lstat(하위계층 비율), target은 PRICE임. 전체 array가 다 입력됨.\n",
    "# 반환 값은 weight와 bias가 update되어야 할 값과 Mean Squeared Error 값을 loss로 반환\n",
    "def get_update_weights_value(bias, w1, w2, rm, lstat, target, learning_rate=0.01):\n",
    "    # 데이터 건수\n",
    "    N = len(target)\n",
    "    # 예측 값\n",
    "    predicted = w1*rm + w2*lstat + bias\n",
    "    # 실제값과 예측값의 차이\n",
    "    diff = target - predicted\n",
    "    # bias를 array 기반으로 구하기 위해서 설정\n",
    "    bias_factors = np.ones((N, ))\n",
    "    \n",
    "    # weight와 bias를 얼마나 update할 것인지를 계산\n",
    "    w1_update = -(2/N)*learning_rate*(np.dot(rm.T, diff))\n",
    "    w2_update = -(2/N)*learning_rate*(np.dot(lstat.T, diff))\n",
    "    bias_update = -(2/N)*learning_rate*(np.dot(bias_factors.T, diff))\n",
    "    \n",
    "    # Mean Squared Error값을 계산\n",
    "    mse_loss = np.mean(np.square(diff))\n",
    "    \n",
    "    # weight와 bias가 update되어야 할 값과 Mean Squared Error 값을 반환\n",
    "    return bias_update, w1_update, w2_update, mse_loss"
   ]
  },
  {
   "cell_type": "markdown",
   "id": "075f48eb-3235-4bda-a8ac-1569d3950561",
   "metadata": {},
   "source": [
    "## Gradient Descent를 적용하는 함수 생성\n",
    "- iter_epochs 수만큼 반복적으로 get_update_weights_value()를 호출하여 update될 weight/bias값을 구한 뒤 Weight/Bias를 Update 적용"
   ]
  },
  {
   "cell_type": "code",
   "execution_count": null,
   "id": "af45854d-4eff-47b1-b2ab-2604729ed7ba",
   "metadata": {},
   "outputs": [],
   "source": []
  }
 ],
 "metadata": {
  "kernelspec": {
   "display_name": "py-tensor",
   "language": "python",
   "name": "py-tensor"
  },
  "language_info": {
   "codemirror_mode": {
    "name": "ipython",
    "version": 3
   },
   "file_extension": ".py",
   "mimetype": "text/x-python",
   "name": "python",
   "nbconvert_exporter": "python",
   "pygments_lexer": "ipython3",
   "version": "3.8.12"
  }
 },
 "nbformat": 4,
 "nbformat_minor": 5
}

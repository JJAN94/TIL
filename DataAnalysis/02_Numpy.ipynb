{
 "cells": [
  {
   "cell_type": "markdown",
   "id": "fd4e73a5-69f1-4ee1-b242-a23f39980fbb",
   "metadata": {},
   "source": [
    "# Numpy 배열 생성\n",
    "- 리스트는 여러가지 자료형 저장이 가능하다.\n",
    "- 넘파이배열은 하나의 자료형만 저장할 수 있다.\n",
    "- 만약, 숫자와 문자가 동시에 저장된다면, capa(메모리 용량이 더 큰)가 더 큰 문자로 변환되어서 저장되어진다.\n",
    "\n",
    "<br>\n",
    "\n",
    "- 넘파이 배열은 이러한 제약을 가지는 대신에(동일한 데이터 타입으로만 저장가능) 내부 원소에 대한 접근과 반복문 실행이 빨라지도록 설계되어져 있다.\n",
    "\n",
    "<br>\n",
    "\n",
    "- 값의 타입을 지정해서 저장할 때는 dtype 속성을 사용해서 저장한다.\n",
    "    - int32, int64, float64.... 등으로 지정할 수 있다."
   ]
  },
  {
   "cell_type": "code",
   "execution_count": 1,
   "id": "20faf30f-7719-44bc-8441-153c8a71bacb",
   "metadata": {},
   "outputs": [],
   "source": [
    "import numpy as np"
   ]
  },
  {
   "cell_type": "code",
   "execution_count": 2,
   "id": "94ad1dca-ad01-4ece-9bb0-481b4eead4b1",
   "metadata": {},
   "outputs": [
    {
     "name": "stdout",
     "output_type": "stream",
     "text": [
      "[1, 2, 3, '4', 5, 6]\n",
      "<class 'list'>\n"
     ]
    }
   ],
   "source": [
    "# 리스트 : 다른 데이터타입이 섞여도 괜찮다. (서로 다른 데이터 타입저장)\n",
    "myList = [1,2,3, '4', 5,6]\n",
    "print(myList)\n",
    "print(type(myList))"
   ]
  },
  {
   "cell_type": "code",
   "execution_count": 3,
   "id": "5f29fe4e-2b6f-4e1f-9efe-3c5d0b69646c",
   "metadata": {},
   "outputs": [
    {
     "name": "stdout",
     "output_type": "stream",
     "text": [
      "['1' '2' '3' '4' '5' '6']\n",
      "<class 'numpy.ndarray'>\n"
     ]
    }
   ],
   "source": [
    "# 넘파이 배열 : 한가지 데이터타입만 넣을 수 있다.\n",
    "myArr = np.array([1,2,3,'4',5,6])\n",
    "print(myArr)\n",
    "print(type(myArr))"
   ]
  },
  {
   "cell_type": "code",
   "execution_count": 4,
   "id": "04c920ae-ec26-4b5f-9025-b374bfb6ae0b",
   "metadata": {},
   "outputs": [
    {
     "name": "stdout",
     "output_type": "stream",
     "text": [
      "[1. 2. 3. 4. 5.]\n",
      "<class 'numpy.ndarray'>\n"
     ]
    }
   ],
   "source": [
    "myArr2 = np.array([1,2,3,4.0,5])\n",
    "print(myArr2)\n",
    "print(type(myArr2))"
   ]
  },
  {
   "cell_type": "code",
   "execution_count": 5,
   "id": "3ab6e15f-53c0-4e70-bbd2-46e3c00bb7d1",
   "metadata": {},
   "outputs": [
    {
     "name": "stdout",
     "output_type": "stream",
     "text": [
      "[1. 2. 3. 4.]\n",
      "<class 'numpy.ndarray'>\n",
      "float32\n"
     ]
    }
   ],
   "source": [
    "myArr3 = np.array([1,2,3,4], dtype='float32')\n",
    "print(myArr3)\n",
    "print(type(myArr3))\n",
    "print(myArr3.dtype)"
   ]
  },
  {
   "cell_type": "code",
   "execution_count": 6,
   "id": "40944d66-32e0-44a2-a4a3-eba8350fedd9",
   "metadata": {},
   "outputs": [
    {
     "name": "stdout",
     "output_type": "stream",
     "text": [
      "[1 2 3 4]\n",
      "<class 'numpy.ndarray'>\n",
      "int32\n"
     ]
    }
   ],
   "source": [
    "myArr4 = np.array([1,2,3,4], dtype=np.int32)\n",
    "print(myArr4)\n",
    "print(type(myArr4))\n",
    "print(myArr4.dtype)"
   ]
  },
  {
   "cell_type": "markdown",
   "id": "141e4278-8651-44be-900b-19a1eb6905b9",
   "metadata": {},
   "source": [
    "# Numpy 배열의 속성과 함수\n",
    "- ndim, shape, reshape, size, type, dtype\n",
    "- Numpy 배열의 타입은 ndarray 클래스이다.\\\n",
    "클래스는 다양한 field와 method를 가지고 있고 ndim, shape, reshape, size, type, dtype은 필드와 메서드 둘다 사용 가능하다."
   ]
  },
  {
   "cell_type": "code",
   "execution_count": 7,
   "id": "a42836eb-e308-4a09-9699-2082444f04ee",
   "metadata": {},
   "outputs": [],
   "source": [
    "myArr = np.array([1,2,3,4,5,6])"
   ]
  },
  {
   "cell_type": "code",
   "execution_count": 8,
   "id": "2489871f-c28b-47b1-b134-cb784a74ba01",
   "metadata": {},
   "outputs": [
    {
     "name": "stdout",
     "output_type": "stream",
     "text": [
      "[1 2 3 4 5 6]\n",
      "1\n",
      "(6,)\n",
      "6\n",
      "<class 'numpy.ndarray'>\n"
     ]
    }
   ],
   "source": [
    "# method\n",
    "print(myArr)\n",
    "print(np.ndim(myArr)) # 몇차원인지 리턴\n",
    "print(np.shape(myArr)) # 행렬 모양을 튜플형으로 리턴\n",
    "print(np.size(myArr)) # element의 갯수(즉, 벡터의 크기)\n",
    "print(type(myArr)) # 전체 클래스의 타입"
   ]
  },
  {
   "cell_type": "code",
   "execution_count": 9,
   "id": "c8058a2f-d67d-4615-be1b-56cb249c2b90",
   "metadata": {},
   "outputs": [
    {
     "name": "stdout",
     "output_type": "stream",
     "text": [
      "1\n",
      "(6,)\n",
      "6\n",
      "[[1 2 3]\n",
      " [4 5 6]]\n",
      "int32\n"
     ]
    }
   ],
   "source": [
    "# attribute\n",
    "print(myArr.ndim)\n",
    "print(myArr.shape)\n",
    "print(myArr.size)\n",
    "print(myArr.reshape(2,3))\n",
    "print(myArr.dtype) # 배열 안 데이터(element)의 타입"
   ]
  },
  {
   "cell_type": "code",
   "execution_count": 10,
   "id": "acc60001-17c9-49ab-bc3e-3b02b67060d0",
   "metadata": {},
   "outputs": [
    {
     "name": "stdout",
     "output_type": "stream",
     "text": [
      "[1. 2. 3. 4. 5. 6.]\n",
      "float64\n",
      "<class 'numpy.ndarray'>\n"
     ]
    }
   ],
   "source": [
    "# 넘파이 배열의 원소값을 한번에 바꿀 수 있음. astype()\n",
    "print(myArr.astype(np.float64))\n",
    "# == print(myArr.astype('float64'))\n",
    "myArr_1 = myArr.astype(np.float64)\n",
    "print(myArr_1.dtype)\n",
    "print(type(myArr_1))\n",
    "\n",
    "# astype(), type(), dtype을 서로 각각 구분하자."
   ]
  },
  {
   "cell_type": "code",
   "execution_count": 11,
   "id": "5a9e618d-0abd-4856-990a-4bc340080dff",
   "metadata": {},
   "outputs": [
    {
     "name": "stdout",
     "output_type": "stream",
     "text": [
      "[ 0  1  2  3  4  5  6  7  8  9 10 11 12 13 14 15 16 17 18 19 20 21 22 23\n",
      " 24 25 26 27 28 29 30 31]\n",
      "------------------------------\n",
      "[[ 0  1  2  3  4  5  6  7  8  9 10 11 12 13 14 15]\n",
      " [16 17 18 19 20 21 22 23 24 25 26 27 28 29 30 31]]\n",
      "(2, 16)\n",
      "------------------------------\n",
      "[[ 0  1  2  3  4  5  6  7]\n",
      " [ 8  9 10 11 12 13 14 15]\n",
      " [16 17 18 19 20 21 22 23]\n",
      " [24 25 26 27 28 29 30 31]]\n",
      "(4, 8)\n"
     ]
    }
   ],
   "source": [
    "# reshape : 1차원 -> 2차원\n",
    "arr_1 = np.arange(32)\n",
    "print(arr_1)\n",
    "print('-'*30)\n",
    "print(arr_1.reshape(2,16))\n",
    "print(arr_1.reshape(2,16).shape)\n",
    "print('-'*30)\n",
    "print(arr_1.reshape(4,8))\n",
    "print(arr_1.reshape(4,8).shape)"
   ]
  },
  {
   "cell_type": "markdown",
   "id": "78f44e4a-d888-4d67-b828-50c7ee718abf",
   "metadata": {},
   "source": [
    "### numpy random seed값 지정\n",
    "- 특정한 시작 숫자를 정해주어서 난수를 발생시키면 고정적인 난수가 발생된다.\n",
    "- 결과 확인시 시작 숫자가 동일하다면 테스트 확인시 용이하다.\n",
    "- seed() 함수에 정수를 지정하면 된다."
   ]
  },
  {
   "cell_type": "code",
   "execution_count": 12,
   "id": "c0146616-5988-42b7-b996-5ee5fa848840",
   "metadata": {},
   "outputs": [
    {
     "name": "stdout",
     "output_type": "stream",
     "text": [
      "[[ 1.76405235  0.40015721  0.97873798  2.2408932 ]\n",
      " [ 1.86755799 -0.97727788  0.95008842 -0.15135721]\n",
      " [-0.10321885  0.4105985   0.14404357  1.45427351]\n",
      " [ 0.76103773  0.12167502  0.44386323  0.33367433]]\n"
     ]
    }
   ],
   "source": [
    "np.random.seed(0) # 0~2**32까지된다. (음수x)\n",
    "arr_2 = np.random.randn(4,4)\n",
    "print(arr_2)"
   ]
  },
  {
   "cell_type": "code",
   "execution_count": 13,
   "id": "733f98b4-f7b8-4e86-a260-7a9964fc100f",
   "metadata": {},
   "outputs": [
    {
     "data": {
      "text/plain": [
       "array([[12, 13, 18, 11],\n",
       "       [13, 13, 13, 17],\n",
       "       [10, 11, 19, 19],\n",
       "       [10, 14, 17, 13]])"
      ]
     },
     "execution_count": 13,
     "metadata": {},
     "output_type": "execute_result"
    }
   ],
   "source": [
    "# reshape할때 지정하는 값은 정확한 값을 줘야한다. 아니면 에러 발생\n",
    "# 시드값은 한번만 주면 계속 적용된다.\n",
    "# randint는 계속 실행시 값이 바껴도 시드값에 맞춰서 달라지는 거라서 결과적으로 다른사람과 같다.\n",
    "arr_3 = np.random.randint(10,20,16).reshape(4,4)\n",
    "arr_3"
   ]
  },
  {
   "cell_type": "markdown",
   "id": "7c62cadc-62a2-4a58-94ea-d04330358cb8",
   "metadata": {},
   "source": [
    "# 인덱싱과 조건 슬라이싱 "
   ]
  },
  {
   "cell_type": "code",
   "execution_count": 14,
   "id": "3cfb3ee8-8372-47a6-89e1-350e37e5ac0b",
   "metadata": {},
   "outputs": [
    {
     "name": "stdout",
     "output_type": "stream",
     "text": [
      "[[ 1.76405235  0.40015721  0.97873798  2.2408932 ]\n",
      " [ 1.86755799 -0.97727788  0.95008842 -0.15135721]\n",
      " [-0.10321885  0.4105985   0.14404357  1.45427351]\n",
      " [ 0.76103773  0.12167502  0.44386323  0.33367433]]\n",
      "******************************\n",
      "[-0.97727788 -0.15135721 -0.10321885]\n",
      "******************************\n",
      "[1.76405235 0.40015721 0.97873798 2.2408932  1.86755799 0.95008842\n",
      " 0.4105985  0.14404357 1.45427351 0.76103773 0.12167502 0.44386323\n",
      " 0.33367433]\n"
     ]
    }
   ],
   "source": [
    "print(arr_2)\n",
    "print('*'*30)\n",
    "print(arr_2[arr_2<0]) # 0보다 작은 값만 찾아보자.\n",
    "print('*'*30)\n",
    "print(arr_2[arr_2>0]) # 0보다 큰 값만 찾아보자"
   ]
  },
  {
   "cell_type": "code",
   "execution_count": 15,
   "id": "edc5e848-9a94-4b9c-a7d7-f1bb1ee5ed39",
   "metadata": {},
   "outputs": [
    {
     "name": "stdout",
     "output_type": "stream",
     "text": [
      "[[1.76405235 0.40015721 0.97873798 2.2408932 ]\n",
      " [1.86755799 0.         0.95008842 0.        ]\n",
      " [0.         0.4105985  0.14404357 1.45427351]\n",
      " [0.76103773 0.12167502 0.44386323 0.33367433]]\n"
     ]
    }
   ],
   "source": [
    "# 0보다 작은 값들을 전부다 0으로 바꿔보자.\n",
    "arr_2[arr_2<0]=0\n",
    "print(arr_2)"
   ]
  },
  {
   "cell_type": "code",
   "execution_count": 16,
   "id": "01da08c0-8a06-4fd2-b047-a0a82e179814",
   "metadata": {},
   "outputs": [
    {
     "data": {
      "text/plain": [
       "array([[1.76405235, 0.40015721, 0.97873798, 2.2408932 ],\n",
       "       [1.86755799, 0.        , 0.95008842, 0.        ],\n",
       "       [0.        , 0.4105985 , 0.14404357, 1.45427351],\n",
       "       [0.76103773, 0.12167502, 0.44386323, 0.33367433]])"
      ]
     },
     "execution_count": 16,
     "metadata": {},
     "output_type": "execute_result"
    }
   ],
   "source": [
    "arr_2 # ndarray의 값 반영 특징 : 값을 바꾸면 원본도 함께 바뀐다."
   ]
  },
  {
   "cell_type": "code",
   "execution_count": 17,
   "id": "5a3de469-c476-4ebe-b8dc-f736f8eb571b",
   "metadata": {},
   "outputs": [
    {
     "data": {
      "text/plain": [
       "array([[ 1.76405235,  0.40015721,  0.97873798,  2.2408932 ],\n",
       "       [ 1.86755799, -1.        ,  0.95008842, -1.        ],\n",
       "       [-1.        ,  0.4105985 ,  0.14404357,  1.45427351],\n",
       "       [ 0.76103773,  0.12167502,  0.44386323,  0.33367433]])"
      ]
     },
     "execution_count": 17,
     "metadata": {},
     "output_type": "execute_result"
    }
   ],
   "source": [
    "# where 함수를 적용. 조건부 슬라이싱\n",
    "arr_2_1 = np.where(arr_2>0, arr_2, -1) # 상항 연산자와 유사\n",
    "arr_2_1\n",
    "\n",
    "# arr_2>0을 만족하면 arr_2를 리턴, 아니면 -1을 리턴한다."
   ]
  },
  {
   "cell_type": "code",
   "execution_count": 18,
   "id": "50a548e7-c90e-43eb-9301-9c2c232d3018",
   "metadata": {},
   "outputs": [
    {
     "name": "stdout",
     "output_type": "stream",
     "text": [
      "[3 4 5 6]\n"
     ]
    },
    {
     "data": {
      "text/plain": [
       "array([[3, 4],\n",
       "       [5, 6]])"
      ]
     },
     "execution_count": 18,
     "metadata": {},
     "output_type": "execute_result"
    }
   ],
   "source": [
    "### 중요!!\n",
    "arr5 = np.array([[1,2], [3,4], [5,6]])\n",
    "print(arr5[arr5>2])\n",
    "# print(arr5>2)로 하면 boolean이 나온다.\n",
    "arr5[arr5>2].reshape(2,2)"
   ]
  },
  {
   "cell_type": "code",
   "execution_count": null,
   "id": "ceb3699c-b2b2-494a-a327-5ae807cce5a9",
   "metadata": {},
   "outputs": [],
   "source": []
  },
  {
   "cell_type": "markdown",
   "id": "a2707ab9-0387-49f1-92bf-ab94ed724318",
   "metadata": {},
   "source": [
    "### 참고\n",
    "### 파이썬 삼항연산자"
   ]
  },
  {
   "cell_type": "markdown",
   "id": "d9135d79-7033-4d2b-8d92-3585e78d9a2d",
   "metadata": {},
   "source": [
    "조건1 if 조건 else 조건2\n",
    "- if문이 참이면 조건1, 거짓이면 조건2"
   ]
  },
  {
   "cell_type": "code",
   "execution_count": null,
   "id": "ad1b57b5-c61e-4f32-a132-3da5f7af5e92",
   "metadata": {},
   "outputs": [],
   "source": []
  },
  {
   "cell_type": "markdown",
   "id": "4b0c08a3-4039-46bd-a7ec-96be5f1312fe",
   "metadata": {},
   "source": [
    "# 인덱싱과 슬라이싱\n",
    "- 2차원 배열의 인덱스는 [ , ], 콤마를 기준으로 2개의 인자를 받음\n",
    "- 앞 인자값은 행의 index, 뒤 인자는 열의 index\n",
    "- 만약 : 을 넣으면 모든 요소에 해당한다"
   ]
  },
  {
   "cell_type": "code",
   "execution_count": 19,
   "id": "99328312-cbad-4a87-bd98-c22a9b2f256f",
   "metadata": {},
   "outputs": [
    {
     "data": {
      "text/plain": [
       "array([[12, 13, 18, 11],\n",
       "       [13, 13, 13, 17],\n",
       "       [10, 11, 19, 19],\n",
       "       [10, 14, 17, 13]])"
      ]
     },
     "execution_count": 19,
     "metadata": {},
     "output_type": "execute_result"
    }
   ],
   "source": [
    "arr_3"
   ]
  },
  {
   "cell_type": "code",
   "execution_count": 22,
   "id": "0a8f0ad2-c3cd-4cd8-90ea-651dd9a795b5",
   "metadata": {},
   "outputs": [
    {
     "name": "stdout",
     "output_type": "stream",
     "text": [
      "18\n",
      "18\n"
     ]
    }
   ],
   "source": [
    "# 1) 2차원 arr_3에서 1행 3열을 뽑아보자.\n",
    "print(arr_3[0][2])\n",
    "print(arr_3[0,2]) # [][]를 써도 좋고, [ , ]를 써도 괜찮다"
   ]
  },
  {
   "cell_type": "code",
   "execution_count": 26,
   "id": "1fd3253e-ab93-4bfe-a925-7a107d55137f",
   "metadata": {},
   "outputs": [
    {
     "name": "stdout",
     "output_type": "stream",
     "text": [
      "[13 13 13 17]\n",
      "[13 13 13 17]\n",
      "[13 13 13 17]\n"
     ]
    },
    {
     "data": {
      "text/plain": [
       "array([[13, 13, 13, 17]])"
      ]
     },
     "execution_count": 26,
     "metadata": {},
     "output_type": "execute_result"
    }
   ],
   "source": [
    "# 2) 2행 전체를 뽑아보자.\n",
    "print(arr_3[1,:])\n",
    "print(arr_3[1][:])\n",
    "print(arr_3[1])\n",
    "\n",
    "arr_3[1:2, :] # 2차원으로 출력된다."
   ]
  },
  {
   "cell_type": "code",
   "execution_count": 33,
   "id": "6d951df9-84d5-4628-90d4-97ccfa8f8234",
   "metadata": {},
   "outputs": [
    {
     "name": "stdout",
     "output_type": "stream",
     "text": [
      "[11 17 19 13]\n",
      "[11 17 19 13]\n",
      "[[11]\n",
      " [17]\n",
      " [19]\n",
      " [13]]\n",
      "[[11]\n",
      " [17]\n",
      " [19]\n",
      " [13]]\n"
     ]
    }
   ],
   "source": [
    "# 3) 전체 행에 대해서 4번째 열을 다 가지고 온다.\n",
    "print(arr_3[:, 3]) #1\n",
    "print(arr_3.T[3])\n",
    "print(arr_3[0:4, 3:4])\n",
    "print(arr_3[:, 3:])"
   ]
  },
  {
   "cell_type": "code",
   "execution_count": 34,
   "id": "54597212-5c0d-49b9-af1e-811f97738532",
   "metadata": {},
   "outputs": [
    {
     "name": "stdout",
     "output_type": "stream",
     "text": [
      "[[12 13]\n",
      " [13 13]\n",
      " [10 11]\n",
      " [10 14]]\n"
     ]
    }
   ],
   "source": [
    "# 4) 전체 행에 대해서 1,2 열을 가지고 온다.\n",
    "print(arr_3[:, 0:2])"
   ]
  },
  {
   "cell_type": "markdown",
   "id": "6555c48d-f011-4029-bf25-aa695fc6ea4b",
   "metadata": {},
   "source": [
    "# Numpy 통계함수\n",
    "- Pandas에서 디테일하게 다루기 때문에 간단하게 정리만 함\n",
    "- sum, mean, std, min, max, argmax(최대 원소의 인덱스 값), argmin, cumsum(누적합)"
   ]
  },
  {
   "cell_type": "code",
   "execution_count": 38,
   "id": "acdd9669-9d53-44c9-9926-d9dbcde8ef3f",
   "metadata": {},
   "outputs": [
    {
     "name": "stdout",
     "output_type": "stream",
     "text": [
      "[[1 2]\n",
      " [3 4]]\n",
      "10\n",
      "##############################\n",
      "[4 6]\n",
      "##############################\n",
      "[3 7]\n"
     ]
    }
   ],
   "source": [
    "x = np.array([[1,2], [3,4]])\n",
    "print(x)\n",
    "print(np.sum(x))\n",
    "\n",
    "# axis 값이 0이면 행기준, 1이면 열 기준을 의미한다.\n",
    "\n",
    "print('#'*30)\n",
    "print(np.sum(x, axis=0)) # 열끼리 합한다.\n",
    "print('#'*30)\n",
    "print(np.sum(x, axis=1)) # 행끼리 더한다."
   ]
  },
  {
   "cell_type": "code",
   "execution_count": 39,
   "id": "c5274b5c-585e-4c38-b53c-518dd1c5fdb5",
   "metadata": {},
   "outputs": [
    {
     "name": "stdout",
     "output_type": "stream",
     "text": [
      "[[12 13 18 11]\n",
      " [13 13 13 17]\n",
      " [10 11 19 19]\n",
      " [10 14 17 13]]\n"
     ]
    }
   ],
   "source": [
    "print(arr_3)"
   ]
  },
  {
   "cell_type": "code",
   "execution_count": 44,
   "id": "09999345-1a86-445d-b548-f40fd77d45af",
   "metadata": {},
   "outputs": [
    {
     "name": "stdout",
     "output_type": "stream",
     "text": [
      "223\n",
      "[54 56 59 54]\n",
      "[45 51 67 60]\n",
      "[[12 13 18 11]\n",
      " [25 26 31 28]\n",
      " [35 37 50 47]\n",
      " [45 51 67 60]]\n",
      "[1 3 2 2]\n"
     ]
    }
   ],
   "source": [
    "print(np.sum(arr_3))\n",
    "print(np.sum(arr_3, axis=1))\n",
    "print(np.sum(arr_3, axis=0))\n",
    "print(np.cumsum(arr_3, axis=0))\n",
    "\n",
    "print(np.argmax(arr_3, axis=0)) # 각 열에서 가장 큰 값의 인덱스를 리턴\n",
    "\n",
    "#"
   ]
  },
  {
   "cell_type": "code",
   "execution_count": null,
   "id": "1beb0aaf-01a6-4be5-8e5f-4b1855e66c75",
   "metadata": {},
   "outputs": [],
   "source": []
  },
  {
   "cell_type": "code",
   "execution_count": null,
   "id": "76aa3c96-80d4-4e03-aba7-980d85ad46df",
   "metadata": {},
   "outputs": [],
   "source": []
  }
 ],
 "metadata": {
  "kernelspec": {
   "display_name": "Python 3 (ipykernel)",
   "language": "python",
   "name": "python3"
  },
  "language_info": {
   "codemirror_mode": {
    "name": "ipython",
    "version": 3
   },
   "file_extension": ".py",
   "mimetype": "text/x-python",
   "name": "python",
   "nbconvert_exporter": "python",
   "pygments_lexer": "ipython3",
   "version": "3.9.7"
  }
 },
 "nbformat": 4,
 "nbformat_minor": 5
}

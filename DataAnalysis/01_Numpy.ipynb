{
 "cells": [
  {
   "cell_type": "markdown",
   "id": "fd6e4c31",
   "metadata": {},
   "source": [
    "## Numpy 배열 생성하기\n",
    "- Numpy는 Numeric python의 줄임말\n",
    "- 수학분야 관련된 통계 연산 작업시 필요한 라이브러리\n",
    "- 과학 계산 컴퓨팅과 데이터 분석에 필요한 가장 기본적인 패키지\n",
    "\n",
    "<br>\n",
    "\n",
    "- Numpy배열은 리스트와 거의 흡사하지만 연산속도가 빠르고 메모리 효율성이 높아서 대용량 데이터를 다루는데 성능상 우위를 차지한다.\n",
    "- 사용하기 전에 라이브러리 모듈을 import해야 한다.\n",
    "\n",
    "1. array() 사용\n",
    "2. random 랜덤함수 사용"
   ]
  },
  {
   "cell_type": "code",
   "execution_count": 1,
   "id": "3593d748",
   "metadata": {},
   "outputs": [],
   "source": [
    "# 모듈 임포트\n",
    "import numpy as np"
   ]
  },
  {
   "cell_type": "markdown",
   "id": "758f37b6-12f4-4261-a044-4abdd2b7f53a",
   "metadata": {},
   "source": [
    "### 리스트와 numpy배열을 각각 생성해 두개를 비교해보자.\n",
    "\n",
    "- numpy배열을 만드는 방법\n",
    "    1. array()\n",
    "    2. 랜덤함수\n",
    "    \n",
    "<br>\n",
    "\n",
    "- 리스트는 출력 결과가 [ ] 안에 들어오고 각 요소들이 ,로 구분된다.\n",
    "- 넘파이배열은 출력 결과가 [ ]안에 들어오고 각 요소들이 그냥 나열된다.\n",
    "\n",
    "<br>\n",
    "\n",
    "- 넘파이배열의 타입은 numpy.ndarray 타입으로 나온다.\n",
    "- ndarray 클래스\n",
    "    - 다차원 행렬구조를 지원하는 numpy의 핵심 클래스"
   ]
  },
  {
   "cell_type": "code",
   "execution_count": 9,
   "id": "fae4f581",
   "metadata": {},
   "outputs": [
    {
     "name": "stdout",
     "output_type": "stream",
     "text": [
      "[4, 5, 6, 7]\n",
      "[4 5 6 7]\n",
      "<class 'list'>\n",
      "<class 'numpy.ndarray'>\n"
     ]
    }
   ],
   "source": [
    "myList = [4,5,6,7]\n",
    "\n",
    "myArr = np.array(myList)\n",
    "\n",
    "print(myList)\n",
    "print(myArr)\n",
    "\n",
    "print(type(myList))\n",
    "print(type(myArr)) # ndarray 기억"
   ]
  },
  {
   "cell_type": "markdown",
   "id": "c8fcd92a-9d57-4c87-916d-d57c1b35f608",
   "metadata": {},
   "source": [
    "### 슬라이싱과 인덱싱으로 보는 리스트와 np.array의 차이점"
   ]
  },
  {
   "cell_type": "code",
   "execution_count": 16,
   "id": "91bdd5a0",
   "metadata": {},
   "outputs": [
    {
     "name": "stdout",
     "output_type": "stream",
     "text": [
      "[5, 6]\n",
      "[-5  6]\n",
      "[-5, 6]\n",
      "[-5  6]\n"
     ]
    }
   ],
   "source": [
    "# 슬라이싱(숫자일때는 뒷부분 숫자가 포함되지 않는다.)\n",
    "list_sub = myList[1:3] \n",
    "print(list_sub)\n",
    "\n",
    "arr_sub = myArr[1:3]\n",
    "print(arr_sub)\n",
    "\n",
    "# 인덱싱 및 요소 변환\n",
    "list_sub[0] = -5\n",
    "arr_sub[0] = -5\n",
    "\n",
    "print(list_sub)\n",
    "print(arr_sub)"
   ]
  },
  {
   "cell_type": "markdown",
   "id": "de1f2f70-3304-4884-af30-011a7706f395",
   "metadata": {},
   "source": [
    "**차이점**\n",
    "- 리스트는 원본이 안바뀐다. 원본을 copy해서 새로운걸 만든다.\n",
    "- np배열은 원본이 바뀐다.\n",
    "- 메모리 활용적인 성능면에서는 np배열이 성능이 좋다."
   ]
  },
  {
   "cell_type": "code",
   "execution_count": 18,
   "id": "4e978915",
   "metadata": {},
   "outputs": [
    {
     "name": "stdout",
     "output_type": "stream",
     "text": [
      "[4, 5, 6, 7]\n",
      "[ 4 -5  6  7]\n"
     ]
    }
   ],
   "source": [
    "print(myList)\n",
    "print(myArr)"
   ]
  },
  {
   "cell_type": "markdown",
   "id": "7468e1db-f15d-4c8e-b55c-6d56d3d331af",
   "metadata": {},
   "source": [
    "### 랜덤함수를 이용한 Numpy배열 생성\n",
    "- random 함수 사용"
   ]
  },
  {
   "cell_type": "code",
   "execution_count": 22,
   "id": "ee01835c-36e5-44d6-821a-ed3d49c5974e",
   "metadata": {
    "collapsed": true,
    "jupyter": {
     "outputs_hidden": true
    },
    "tags": []
   },
   "outputs": [
    {
     "name": "stdout",
     "output_type": "stream",
     "text": [
      "Help on built-in function rand:\n",
      "\n",
      "rand(...) method of numpy.random.mtrand.RandomState instance\n",
      "    rand(d0, d1, ..., dn)\n",
      "    \n",
      "    Random values in a given shape.\n",
      "    \n",
      "    .. note::\n",
      "        This is a convenience function for users porting code from Matlab,\n",
      "        and wraps `random_sample`. That function takes a\n",
      "        tuple to specify the size of the output, which is consistent with\n",
      "        other NumPy functions like `numpy.zeros` and `numpy.ones`.\n",
      "    \n",
      "    Create an array of the given shape and populate it with\n",
      "    random samples from a uniform distribution\n",
      "    over ``[0, 1)``.\n",
      "    \n",
      "    Parameters\n",
      "    ----------\n",
      "    d0, d1, ..., dn : int, optional\n",
      "        The dimensions of the returned array, must be non-negative.\n",
      "        If no argument is given a single Python float is returned.\n",
      "    \n",
      "    Returns\n",
      "    -------\n",
      "    out : ndarray, shape ``(d0, d1, ..., dn)``\n",
      "        Random values.\n",
      "    \n",
      "    See Also\n",
      "    --------\n",
      "    random\n",
      "    \n",
      "    Examples\n",
      "    --------\n",
      "    >>> np.random.rand(3,2)\n",
      "    array([[ 0.14022471,  0.96360618],  #random\n",
      "           [ 0.37601032,  0.25528411],  #random\n",
      "           [ 0.49313049,  0.94909878]]) #random\n",
      "\n"
     ]
    }
   ],
   "source": [
    "help(np.random.rand)"
   ]
  },
  {
   "cell_type": "code",
   "execution_count": 20,
   "id": "b720a2d7-da03-4eab-8dfa-ed7a28ae7dd2",
   "metadata": {
    "collapsed": true,
    "jupyter": {
     "outputs_hidden": true
    },
    "tags": []
   },
   "outputs": [
    {
     "data": {
      "text/plain": [
       "\u001b[1;31mDocstring:\u001b[0m\n",
       "rand(d0, d1, ..., dn)\n",
       "\n",
       "Random values in a given shape.\n",
       "\n",
       ".. note::\n",
       "    This is a convenience function for users porting code from Matlab,\n",
       "    and wraps `random_sample`. That function takes a\n",
       "    tuple to specify the size of the output, which is consistent with\n",
       "    other NumPy functions like `numpy.zeros` and `numpy.ones`.\n",
       "\n",
       "Create an array of the given shape and populate it with\n",
       "random samples from a uniform distribution\n",
       "over ``[0, 1)``.\n",
       "\n",
       "Parameters\n",
       "----------\n",
       "d0, d1, ..., dn : int, optional\n",
       "    The dimensions of the returned array, must be non-negative.\n",
       "    If no argument is given a single Python float is returned.\n",
       "\n",
       "Returns\n",
       "-------\n",
       "out : ndarray, shape ``(d0, d1, ..., dn)``\n",
       "    Random values.\n",
       "\n",
       "See Also\n",
       "--------\n",
       "random\n",
       "\n",
       "Examples\n",
       "--------\n",
       ">>> np.random.rand(3,2)\n",
       "array([[ 0.14022471,  0.96360618],  #random\n",
       "       [ 0.37601032,  0.25528411],  #random\n",
       "       [ 0.49313049,  0.94909878]]) #random\n",
       "\u001b[1;31mType:\u001b[0m      builtin_function_or_method\n"
      ]
     },
     "metadata": {},
     "output_type": "display_data"
    }
   ],
   "source": [
    "a = np.random.rand?"
   ]
  },
  {
   "cell_type": "code",
   "execution_count": 35,
   "id": "1b452a14-89af-4938-b495-0aff6a1c7a02",
   "metadata": {},
   "outputs": [
    {
     "name": "stdout",
     "output_type": "stream",
     "text": [
      "[0.80040908 0.67233576 0.38148834 0.37894219 0.64836804]\n",
      "<class 'numpy.ndarray'>\n",
      "[8 2 5 2 2]\n",
      "<class 'numpy.ndarray'>\n",
      "[-0.01133098  0.18932437  1.03221467 -1.50613544 -1.65360293 -0.8034213\n",
      " -2.0275574  -0.68839184  0.89312009  0.97056129]\n",
      "<class 'numpy.ndarray'>\n"
     ]
    }
   ],
   "source": [
    "a = np.random.rand(5)\n",
    "print(a)\n",
    "print(type(a))\n",
    "\n",
    "b = np.random.randint(1,10,5) # 10은 미포함\n",
    "print(b)\n",
    "print(type(b))\n",
    "\n",
    "c = np.random.randn(10) # 가우시안 표준분포 값\n",
    "print(c)\n",
    "print(type(c))"
   ]
  },
  {
   "cell_type": "markdown",
   "id": "de4dc452-3a32-4f9c-8997-d460cf7be188",
   "metadata": {},
   "source": [
    "### np배열 생성과 동시에 초기화\n",
    "- zeros() : 0으로 초기화\n",
    "- ones() : 1로 초기화\n",
    "- arange() : range함수와 유사"
   ]
  },
  {
   "cell_type": "code",
   "execution_count": 41,
   "id": "21d49094-9955-4260-ad93-cc94600c3a76",
   "metadata": {},
   "outputs": [
    {
     "name": "stdout",
     "output_type": "stream",
     "text": [
      "[0. 0. 0. 0. 0. 0. 0. 0. 0. 0.]\n"
     ]
    },
    {
     "data": {
      "text/plain": [
       "dtype('float64')"
      ]
     },
     "execution_count": 41,
     "metadata": {},
     "output_type": "execute_result"
    }
   ],
   "source": [
    "# 0으로 초기화\n",
    "az = np.zeros(10) # size=10짜리 벡터생성, 각 element는 float\n",
    "print(az)\n",
    "az.dtype"
   ]
  },
  {
   "cell_type": "code",
   "execution_count": 47,
   "id": "6732c2fc-9a0e-4f3f-a8c0-6b9e8a6b01dd",
   "metadata": {},
   "outputs": [
    {
     "name": "stdout",
     "output_type": "stream",
     "text": [
      "[1. 1. 1. 1. 1. 1. 1. 1. 1. 1.]\n"
     ]
    },
    {
     "data": {
      "text/plain": [
       "dtype('float64')"
      ]
     },
     "execution_count": 47,
     "metadata": {},
     "output_type": "execute_result"
    }
   ],
   "source": [
    "# 1로 초기화한 size=10인 배열\n",
    "ao = np.ones(10)\n",
    "print(ao)\n",
    "ao.dtype"
   ]
  },
  {
   "cell_type": "code",
   "execution_count": 46,
   "id": "49225a42-a479-4e02-a1ba-ebf67f0bd781",
   "metadata": {},
   "outputs": [
    {
     "data": {
      "text/plain": [
       "array([5., 5., 5., 5., 5., 5., 5., 5., 5., 5.])"
      ]
     },
     "execution_count": 46,
     "metadata": {},
     "output_type": "execute_result"
    }
   ],
   "source": [
    "# 브로드캐스팅\n",
    "ao*5"
   ]
  },
  {
   "cell_type": "code",
   "execution_count": 48,
   "id": "47874241-b67a-4734-9948-eb5c2facc1ab",
   "metadata": {},
   "outputs": [
    {
     "name": "stdout",
     "output_type": "stream",
     "text": [
      "[[1. 0. 0.]\n",
      " [0. 1. 0.]\n",
      " [0. 0. 1.]]\n"
     ]
    }
   ],
   "source": [
    "# 항등행렬\n",
    "ae = np.eye(3)\n",
    "print(ae)"
   ]
  },
  {
   "cell_type": "code",
   "execution_count": 51,
   "id": "95792d81-1174-4bf8-9117-97cbb82024f9",
   "metadata": {},
   "outputs": [
    {
     "name": "stdout",
     "output_type": "stream",
     "text": [
      "[0 1 2]\n",
      "[0 1 2]\n",
      "[3 4 5 6]\n",
      "[3 5 7 9]\n"
     ]
    }
   ],
   "source": [
    "# arange 함수\n",
    "print(np.arange(0,3))\n",
    "print(np.arange(3))\n",
    "print(np.arange(3,7))\n",
    "print(np.arange(3,10,2)) # 2는 step"
   ]
  },
  {
   "cell_type": "code",
   "execution_count": 53,
   "id": "74ba2923",
   "metadata": {},
   "outputs": [
    {
     "name": "stdout",
     "output_type": "stream",
     "text": [
      "[[-11 -11 -11 -11 -11]\n",
      " [-11 -11 -11 -11 -11]\n",
      " [-11 -11 -11 -11 -11]\n",
      " [-11 -11 -11 -11 -11]\n",
      " [-11 -11 -11 -11 -11]]\n"
     ]
    }
   ],
   "source": [
    "# full\n",
    "afull = np.full((5,5),-11)\n",
    "print(afull)"
   ]
  },
  {
   "cell_type": "code",
   "execution_count": null,
   "id": "cbdd7d2b-58a4-4a6b-a303-23062543b341",
   "metadata": {},
   "outputs": [],
   "source": []
  }
 ],
 "metadata": {
  "kernelspec": {
   "display_name": "Python 3",
   "language": "python",
   "name": "python3"
  },
  "language_info": {
   "codemirror_mode": {
    "name": "ipython",
    "version": 3
   },
   "file_extension": ".py",
   "mimetype": "text/x-python",
   "name": "python",
   "nbconvert_exporter": "python",
   "pygments_lexer": "ipython3",
   "version": "3.8.8"
  }
 },
 "nbformat": 4,
 "nbformat_minor": 5
}

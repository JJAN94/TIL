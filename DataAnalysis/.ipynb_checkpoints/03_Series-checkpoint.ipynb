{
 "cells": [
  {
   "cell_type": "markdown",
   "id": "1d3a88f5-83da-4e18-a8b2-3a174282778f",
   "metadata": {},
   "source": [
    "# Series\n",
    "- Pandas는 Panel Datas의 약자로 파이썬을 이용한 데이터 분석에서 가장 많이 사용되는 라이브러리\n",
    "- Numpy기반으로 만들어졌으며 데이터 분석을 하기위한 효율적인 구조를 제공한다.\n",
    "- Pandas의 자료구조\n",
    "    - Series : 1차원 배열형태의 데이터 구조를 가진다. (벡터)\n",
    "    - DataFrame : 2차원 배열형태의 데이터 구조를 가진다. 가장많이 쓰인다. (행렬)\\\n",
    "    행을 구분하는 index와 열을 구분하는 column이 있다.\\\n",
    "    별도로 행과 열을 지정해주지 않으면 인덱스는 리스트처럼 정수로 설정"
   ]
  },
  {
   "cell_type": "code",
   "execution_count": 1,
   "id": "134c5d68",
   "metadata": {},
   "outputs": [],
   "source": [
    "import numpy as np\n",
    "import pandas as pd\n",
    "from pandas import Series, DataFrame"
   ]
  },
  {
   "cell_type": "markdown",
   "id": "2a4ec34a-f51b-438a-b67e-9371511e7c34",
   "metadata": {},
   "source": [
    "## 시리즈 생성, 구조확인\n",
    "- data, index로 구성할 수 있다.\n",
    "- columns 옵션은 빠져있다. 이유는 벡터구조이기 때문이다."
   ]
  },
  {
   "cell_type": "code",
   "execution_count": 5,
   "id": "bddb14de-92aa-4ee8-9e6b-1f8d8f136b79",
   "metadata": {
    "collapsed": true,
    "jupyter": {
     "outputs_hidden": true
    },
    "tags": []
   },
   "outputs": [
    {
     "data": {
      "text/plain": [
       "\u001b[1;31mInit signature:\u001b[0m\n",
       "\u001b[0mSeries\u001b[0m\u001b[1;33m(\u001b[0m\u001b[1;33m\n",
       "\u001b[0m    \u001b[0mdata\u001b[0m\u001b[1;33m=\u001b[0m\u001b[1;32mNone\u001b[0m\u001b[1;33m,\u001b[0m\u001b[1;33m\n",
       "\u001b[0m    \u001b[0mindex\u001b[0m\u001b[1;33m=\u001b[0m\u001b[1;32mNone\u001b[0m\u001b[1;33m,\u001b[0m\u001b[1;33m\n",
       "\u001b[0m    \u001b[0mdtype\u001b[0m\u001b[1;33m=\u001b[0m\u001b[1;32mNone\u001b[0m\u001b[1;33m,\u001b[0m\u001b[1;33m\n",
       "\u001b[0m    \u001b[0mname\u001b[0m\u001b[1;33m=\u001b[0m\u001b[1;32mNone\u001b[0m\u001b[1;33m,\u001b[0m\u001b[1;33m\n",
       "\u001b[0m    \u001b[0mcopy\u001b[0m\u001b[1;33m=\u001b[0m\u001b[1;32mFalse\u001b[0m\u001b[1;33m,\u001b[0m\u001b[1;33m\n",
       "\u001b[0m    \u001b[0mfastpath\u001b[0m\u001b[1;33m=\u001b[0m\u001b[1;32mFalse\u001b[0m\u001b[1;33m,\u001b[0m\u001b[1;33m\n",
       "\u001b[0m\u001b[1;33m)\u001b[0m\u001b[1;33m\u001b[0m\u001b[1;33m\u001b[0m\u001b[0m\n",
       "\u001b[1;31mDocstring:\u001b[0m     \n",
       "One-dimensional ndarray with axis labels (including time series).\n",
       "\n",
       "Labels need not be unique but must be a hashable type. The object\n",
       "supports both integer- and label-based indexing and provides a host of\n",
       "methods for performing operations involving the index. Statistical\n",
       "methods from ndarray have been overridden to automatically exclude\n",
       "missing data (currently represented as NaN).\n",
       "\n",
       "Operations between Series (+, -, /, *, **) align values based on their\n",
       "associated index values-- they need not be the same length. The result\n",
       "index will be the sorted union of the two indexes.\n",
       "\n",
       "Parameters\n",
       "----------\n",
       "data : array-like, Iterable, dict, or scalar value\n",
       "    Contains data stored in Series. If data is a dict, argument order is\n",
       "    maintained.\n",
       "index : array-like or Index (1d)\n",
       "    Values must be hashable and have the same length as `data`.\n",
       "    Non-unique index values are allowed. Will default to\n",
       "    RangeIndex (0, 1, 2, ..., n) if not provided. If data is dict-like\n",
       "    and index is None, then the keys in the data are used as the index. If the\n",
       "    index is not None, the resulting Series is reindexed with the index values.\n",
       "dtype : str, numpy.dtype, or ExtensionDtype, optional\n",
       "    Data type for the output Series. If not specified, this will be\n",
       "    inferred from `data`.\n",
       "    See the :ref:`user guide <basics.dtypes>` for more usages.\n",
       "name : str, optional\n",
       "    The name to give to the Series.\n",
       "copy : bool, default False\n",
       "    Copy input data.\n",
       "\n",
       "Examples\n",
       "--------\n",
       "Constructing Series from a dictionary with an Index specified\n",
       "\n",
       ">>> d = {'a': 1, 'b': 2, 'c': 3}\n",
       ">>> ser = pd.Series(data=d, index=['a', 'b', 'c'])\n",
       ">>> ser\n",
       "a   1\n",
       "b   2\n",
       "c   3\n",
       "dtype: int64\n",
       "\n",
       "The keys of the dictionary match with the Index values, hence the Index\n",
       "values have no effect.\n",
       "\n",
       ">>> d = {'a': 1, 'b': 2, 'c': 3}\n",
       ">>> ser = pd.Series(data=d, index=['x', 'y', 'z'])\n",
       ">>> ser\n",
       "x   NaN\n",
       "y   NaN\n",
       "z   NaN\n",
       "dtype: float64\n",
       "\n",
       "Note that the Index is first build with the keys from the dictionary.\n",
       "After this the Series is reindexed with the given Index values, hence we\n",
       "get all NaN as a result.\n",
       "\u001b[1;31mFile:\u001b[0m           c:\\users\\jay\\anaconda3\\lib\\site-packages\\pandas\\core\\series.py\n",
       "\u001b[1;31mType:\u001b[0m           type\n",
       "\u001b[1;31mSubclasses:\u001b[0m     SubclassedSeries\n"
      ]
     },
     "metadata": {},
     "output_type": "display_data"
    }
   ],
   "source": [
    "# 시리즈 구조를 먼저 확인\n",
    "Series?"
   ]
  },
  {
   "cell_type": "code",
   "execution_count": 2,
   "id": "c00d772b-dfe1-4f06-8ec8-89fcbea027de",
   "metadata": {},
   "outputs": [
    {
     "name": "stdout",
     "output_type": "stream",
     "text": [
      "a    18\n",
      "b    18\n",
      "c    13\n",
      "d    17\n",
      "e    17\n",
      "dtype: int32\n"
     ]
    }
   ],
   "source": [
    "np.random.seed(100)\n",
    "# 인덱스를 명시적으로 지정하지 않으면 자동적으로 0부터 정수로 지정한다.\n",
    "# 인덱스를 명시적으로 지정할 때는 반드시 리스트 형태의 값으로 지정한다.\n",
    "ser1 = Series(np.random.randint(10,20,5), index=list('abcde'))\n",
    "print(ser1)"
   ]
  },
  {
   "cell_type": "code",
   "execution_count": 3,
   "id": "1df1299d-22c9-40d5-a4c7-a12b8f8d7e55",
   "metadata": {},
   "outputs": [
    {
     "name": "stdout",
     "output_type": "stream",
     "text": [
      "Index(['a', 'b', 'c', 'd', 'e'], dtype='object')\n",
      "[18 18 13 17 17]\n",
      "int32\n"
     ]
    }
   ],
   "source": [
    "print(ser1.index)\n",
    "print(ser1.values)\n",
    "print(ser1.dtype)"
   ]
  },
  {
   "cell_type": "markdown",
   "id": "74a893a3-8205-4d57-a33f-3df7f7501eb4",
   "metadata": {},
   "source": [
    "## 시리즈값 조회\n",
    "- 슬라이싱 방법\n",
    "    - 1) 숫자사용 : 마지막 숫자는 포함 안됨\n",
    "    - 2) 라벨사용 : 마지막 라벨은 포함시킨다."
   ]
  },
  {
   "cell_type": "code",
   "execution_count": 4,
   "id": "bfea09b7-9157-4ceb-b845-bb1d1981b3a7",
   "metadata": {},
   "outputs": [
    {
     "data": {
      "text/plain": [
       "(13, 13)"
      ]
     },
     "execution_count": 4,
     "metadata": {},
     "output_type": "execute_result"
    }
   ],
   "source": [
    "ser1[2], ser1['c']"
   ]
  },
  {
   "cell_type": "code",
   "execution_count": 5,
   "id": "8ace819d-c046-40f8-bcda-31ec81842ac4",
   "metadata": {},
   "outputs": [
    {
     "name": "stdout",
     "output_type": "stream",
     "text": [
      "b    18\n",
      "c    13\n",
      "d    17\n",
      "dtype: int32\n",
      "b    18\n",
      "c    13\n",
      "d    17\n",
      "dtype: int32\n"
     ]
    }
   ],
   "source": [
    "print(ser1[1:4])\n",
    "print(ser1['b':'d'])"
   ]
  },
  {
   "cell_type": "code",
   "execution_count": 6,
   "id": "12fa0c43-821c-4ead-acea-9ae0d695abbc",
   "metadata": {},
   "outputs": [
    {
     "data": {
      "text/plain": [
       "a    18\n",
       "c    13\n",
       "e    17\n",
       "dtype: int32"
      ]
     },
     "execution_count": 6,
     "metadata": {},
     "output_type": "execute_result"
    }
   ],
   "source": [
    "# 응용 조회\n",
    "ser1_1 = ser1[::2]\n",
    "ser1_1"
   ]
  },
  {
   "cell_type": "markdown",
   "id": "6eff022e-c089-4587-a12e-1322ab5386c3",
   "metadata": {},
   "source": [
    "## 시리즈 간의 연산"
   ]
  },
  {
   "cell_type": "code",
   "execution_count": 26,
   "id": "baf479c9-86f3-4af4-a12f-158da303f20f",
   "metadata": {},
   "outputs": [
    {
     "name": "stdout",
     "output_type": "stream",
     "text": [
      "a    18\n",
      "b    18\n",
      "c    13\n",
      "d    17\n",
      "e    17\n",
      "dtype: int32\n",
      "a    18\n",
      "c    13\n",
      "e    17\n",
      "dtype: int32\n"
     ]
    }
   ],
   "source": [
    "print(ser1)\n",
    "print(ser1_1)"
   ]
  },
  {
   "cell_type": "code",
   "execution_count": 29,
   "id": "bf0cbee2-5d89-4ec6-95b1-bdce2caefd2b",
   "metadata": {},
   "outputs": [
    {
     "name": "stdout",
     "output_type": "stream",
     "text": [
      "a    36.0\n",
      "b     NaN\n",
      "c    26.0\n",
      "d     NaN\n",
      "e    34.0\n",
      "dtype: float64\n"
     ]
    }
   ],
   "source": [
    "# NaN의 dtype이 float64 임.\n",
    "result_ser = ser1 + ser1_1\n",
    "print(result_ser)"
   ]
  },
  {
   "cell_type": "markdown",
   "id": "4af3f025-6a48-4209-ac1d-35f25b859f5f",
   "metadata": {},
   "source": [
    "## 누락 데이터 조회하기\n",
    "- isnull()\n",
    "- notnull()"
   ]
  },
  {
   "cell_type": "code",
   "execution_count": 33,
   "id": "69d91cba-fbb4-4ee0-b1f6-2e81389aca5d",
   "metadata": {},
   "outputs": [
    {
     "name": "stdout",
     "output_type": "stream",
     "text": [
      "a    False\n",
      "b     True\n",
      "c    False\n",
      "d     True\n",
      "e    False\n",
      "dtype: bool\n",
      "a     True\n",
      "b    False\n",
      "c     True\n",
      "d    False\n",
      "e     True\n",
      "dtype: bool\n",
      "########################################\n",
      "2\n"
     ]
    }
   ],
   "source": [
    "print(result_ser.isnull())\n",
    "print(result_ser.notnull())\n",
    "print('#'*40)\n",
    "print(result_ser.isnull().sum()) # 결측값 갯수"
   ]
  },
  {
   "cell_type": "code",
   "execution_count": 39,
   "id": "c50eb61d-64db-426d-80b4-26640ef10ffc",
   "metadata": {},
   "outputs": [
    {
     "name": "stdout",
     "output_type": "stream",
     "text": [
      "b   NaN\n",
      "d   NaN\n",
      "dtype: float64\n",
      "a    36.0\n",
      "c    26.0\n",
      "e    34.0\n",
      "dtype: float64\n"
     ]
    }
   ],
   "source": [
    "print(result_ser[result_ser.isnull()])\n",
    "print(result_ser[result_ser.notnull()])"
   ]
  },
  {
   "cell_type": "code",
   "execution_count": null,
   "id": "0a7ee1b6-207c-4763-a29d-d1e478874bda",
   "metadata": {},
   "outputs": [],
   "source": []
  },
  {
   "cell_type": "markdown",
   "id": "72293002-17c1-48ac-9c36-34f22a6d9d75",
   "metadata": {},
   "source": [
    "# Pandas를 이용한 시각화\n",
    "- 위에서 했던 작업을 좀더 보기좋게 시각화로 마무리해보자.\n",
    "- 여러 데이터 중에서 누락데이터가 아닌것만 그래프로 표시"
   ]
  },
  {
   "cell_type": "code",
   "execution_count": 49,
   "id": "72ad25b2-4910-41b3-87d2-a43cff573aed",
   "metadata": {},
   "outputs": [],
   "source": [
    "import matplotlib.pyplot as plt\n",
    "%matplotlib inline # 이건 내부에서 plt가 나오게 해주는 것"
   ]
  },
  {
   "cell_type": "code",
   "execution_count": 50,
   "id": "fac85714-3615-4ed7-af96-166af6cbac8c",
   "metadata": {},
   "outputs": [
    {
     "data": {
      "image/png": "[encoded data removed]",
      "text/plain": [
       "<Figure size 432x288 with 1 Axes>"
      ]
     },
     "metadata": {
      "needs_background": "light"
     },
     "output_type": "display_data"
    }
   ],
   "source": [
    "result_ser[result_ser.notnull()].plot(kind='bar')\n",
    "plt.show()"
   ]
  },
  {
   "cell_type": "code",
   "execution_count": 52,
   "id": "5a48375b-6385-49c6-98b7-ba79af0149ec",
   "metadata": {},
   "outputs": [
    {
     "data": {
      "text/plain": [
       "<AxesSubplot:>"
      ]
     },
     "execution_count": 52,
     "metadata": {},
     "output_type": "execute_result"
    },
    {
     "data": {
      "image/png": "[encoded data removed]",
      "text/plain": [
       "<Figure size 432x288 with 1 Axes>"
      ]
     },
     "metadata": {
      "needs_background": "light"
     },
     "output_type": "display_data"
    }
   ],
   "source": [
    "result_ser[result_ser.notnull()].plot()"
   ]
  },
  {
   "cell_type": "code",
   "execution_count": null,
   "id": "f8f0c68c-cf31-4a6d-bb25-da46d7d0daff",
   "metadata": {},
   "outputs": [],
   "source": []
  }
 ],
 "metadata": {
  "kernelspec": {
   "display_name": "py38",
   "language": "python",
   "name": "py38"
  },
  "language_info": {
   "codemirror_mode": {
    "name": "ipython",
    "version": 3
   },
   "file_extension": ".py",
   "mimetype": "text/x-python",
   "name": "python",
   "nbconvert_exporter": "python",
   "pygments_lexer": "ipython3",
   "version": "3.8.12"
  }
 },
 "nbformat": 4,
 "nbformat_minor": 5
}

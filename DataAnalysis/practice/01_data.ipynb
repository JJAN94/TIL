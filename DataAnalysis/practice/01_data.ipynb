{
 "cells": [
  {
   "cell_type": "markdown",
   "id": "1db6fdbd-1d5f-4ca6-8275-91755f1411be",
   "metadata": {},
   "source": [
    "# 데이터셋 파악\n",
    "## 1. 반도체 8대 공정\n",
    "1. 웨이퍼\n",
    "    - 웨이퍼란? 반도체 직접회로를 만드는데 사용하는 재료\n",
    "2. 산화 공정\n",
    "    - 웨이퍼 표면에 산화막을 형성해서 트랜지스터 기초를 만드는 과정\n",
    "3. 포토 공정\n",
    "    - 웨이퍼 위에 반도체 회로를 그려 넣는 과정\n",
    "4. 식각 공정\n",
    "    - 반도체 구조를 형성하는 패턴을 만드는 과정\n",
    "5. 증착/이온 주입 공정\n",
    "    - 증착 : 회로 구분 연결 보호 역할\n",
    "    - 이온\n",
    "6. 금속 배선 공정\n",
    "7. EDS 공정\n",
    "8. 패캐징 공정\n",
    "---"
   ]
  },
  {
   "cell_type": "markdown",
   "id": "6417ba36-2352-4253-b8f6-d4e7b4bcb08a",
   "metadata": {},
   "source": [
    "## 2. 분석 데이터\n",
    "- 4가지 process에 대한 데이터\n",
    "- oxidation, photo(spin coat, soft bake)\n",
    "- photo(Exposure)\n",
    "- Etching\n",
    "- Implantation \n",
    "---\n",
    ">총 5개의 파일로 구성"
   ]
  },
  {
   "cell_type": "markdown",
   "id": "1cf1a038-441f-43a3-bc07-c85941d96928",
   "metadata": {},
   "source": [
    "## 3. 세부 데이터 컬럼 정리"
   ]
  },
  {
   "cell_type": "markdown",
   "id": "2fedbceb-0cd3-485b-bfef-df93253dcc06",
   "metadata": {},
   "source": [
    "### 1. Oxidation.csv"
   ]
  },
  {
   "cell_type": "markdown",
   "id": "07160e44-1665-4ccd-866f-8d5b898f77be",
   "metadata": {},
   "source": [
    "| 변수명 | 타입 | 설명 |\n",
    "| :-- | :-- | :-- |\n",
    "| No_Die | ID | 공정에 들어가는 하나의 Wafer 고유 ID |\n",
    "| Lot_Num | 연속형 | 공정 생산 단위, 하나의 단위에 같은 Process가 작동 |\n",
    "| Wafer_Num | 연속형 | 하나의 Lot내 Wafer 번호, 하나의 Lotㅇ에 27개의 Wafer가 존재 |\n",
    "| Ox_Chamber | 연속형 | Process별 Chamber Number, 현 공정에 총 3개의 Chamber가 존재 |\n",
    "| Process | 범주형 | 현재 진행되고 있는 공정 Process |\n",
    "| Type | 범주형 | Oxidation 공정에서 실행되는 Process Type |\n",
    "| Datetime | 범주형 | 공정이 시작된 날짜 |\n",
    "| Temp_Oxid | 연속형 | 공정이 수행되는 동안 Chamber 내 평균 온도 (**celsius**) |\n",
    "| Vapor | 연속형 | 공정에 투여되는 합성물 성분 |\n",
    "| ppm | 연속형 | 공정에 투여되는 합성물의 량(ppm) |\n",
    "| Pressure | 연속형 | 공정이 진행되는 동안 공정에 가해지는 압력(Torr) |\n",
    "| Oxid_Time | 연속형 | 산화공정이 진행된 시간(분) |\n",
    "| Thickness | 연속형 | 산화공정이 완료된 후 성장한 산화물의 두께(nm) / 이론상 700nm 이상 되어야 다음 공정을 정상적으로 진행 할 수 있다 |"
   ]
  },
  {
   "cell_type": "code",
   "execution_count": null,
   "id": "808cc29e-f963-4ace-b776-7499b63bd1be",
   "metadata": {},
   "outputs": [],
   "source": []
  }
 ],
 "metadata": {
  "kernelspec": {
   "display_name": "py38",
   "language": "python",
   "name": "py38"
  },
  "language_info": {
   "codemirror_mode": {
    "name": "ipython",
    "version": 3
   },
   "file_extension": ".py",
   "mimetype": "text/x-python",
   "name": "python",
   "nbconvert_exporter": "python",
   "pygments_lexer": "ipython3",
   "version": "3.8.12"
  }
 },
 "nbformat": 4,
 "nbformat_minor": 5
}

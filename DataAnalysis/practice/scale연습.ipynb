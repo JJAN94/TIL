{
 "cells": [
  {
   "cell_type": "code",
   "execution_count": 2,
   "id": "f85ea068-2150-4f0d-ae8b-65389c7078b7",
   "metadata": {},
   "outputs": [],
   "source": [
    "from sklearn import preprocessing\n",
    "import pandas as pd\n",
    "import numpy as np "
   ]
  },
  {
   "cell_type": "code",
   "execution_count": 14,
   "id": "6ef8281e-6dc2-4bdc-9bcd-56ec20d84db6",
   "metadata": {},
   "outputs": [
    {
     "data": {
      "text/html": [
       "<div>\n",
       "<style scoped>\n",
       "    .dataframe tbody tr th:only-of-type {\n",
       "        vertical-align: middle;\n",
       "    }\n",
       "\n",
       "    .dataframe tbody tr th {\n",
       "        vertical-align: top;\n",
       "    }\n",
       "\n",
       "    .dataframe thead th {\n",
       "        text-align: right;\n",
       "    }\n",
       "</style>\n",
       "<table border=\"1\" class=\"dataframe\">\n",
       "  <thead>\n",
       "    <tr style=\"text-align: right;\">\n",
       "      <th></th>\n",
       "      <th>sample data</th>\n",
       "      <th>Standard scaler</th>\n",
       "      <th>MinMax Scaler</th>\n",
       "      <th>Robust Scaler</th>\n",
       "    </tr>\n",
       "  </thead>\n",
       "  <tbody>\n",
       "    <tr>\n",
       "      <th>0</th>\n",
       "      <td>11</td>\n",
       "      <td>NaN</td>\n",
       "      <td>NaN</td>\n",
       "      <td>NaN</td>\n",
       "    </tr>\n",
       "    <tr>\n",
       "      <th>1</th>\n",
       "      <td>12</td>\n",
       "      <td>NaN</td>\n",
       "      <td>NaN</td>\n",
       "      <td>NaN</td>\n",
       "    </tr>\n",
       "    <tr>\n",
       "      <th>2</th>\n",
       "      <td>34</td>\n",
       "      <td>NaN</td>\n",
       "      <td>NaN</td>\n",
       "      <td>NaN</td>\n",
       "    </tr>\n",
       "    <tr>\n",
       "      <th>3</th>\n",
       "      <td>4</td>\n",
       "      <td>NaN</td>\n",
       "      <td>NaN</td>\n",
       "      <td>NaN</td>\n",
       "    </tr>\n",
       "    <tr>\n",
       "      <th>4</th>\n",
       "      <td>1</td>\n",
       "      <td>NaN</td>\n",
       "      <td>NaN</td>\n",
       "      <td>NaN</td>\n",
       "    </tr>\n",
       "  </tbody>\n",
       "</table>\n",
       "</div>"
      ],
      "text/plain": [
       "   sample data  Standard scaler  MinMax Scaler  Robust Scaler\n",
       "0           11              NaN            NaN            NaN\n",
       "1           12              NaN            NaN            NaN\n",
       "2           34              NaN            NaN            NaN\n",
       "3            4              NaN            NaN            NaN\n",
       "4            1              NaN            NaN            NaN"
      ]
     },
     "execution_count": 14,
     "metadata": {},
     "output_type": "execute_result"
    }
   ],
   "source": [
    "df = pd.read_excel('../../data/211213_스케일러연습.xlsx')\n",
    "df.head()"
   ]
  },
  {
   "cell_type": "code",
   "execution_count": 7,
   "id": "192b6b3e-a6af-43ed-ad48-eb8964f01f83",
   "metadata": {},
   "outputs": [],
   "source": [
    "df1 = preprocessing.scale(df['sample data'])"
   ]
  },
  {
   "cell_type": "code",
   "execution_count": 9,
   "id": "ee51b1b8-dcb2-4cd7-9e71-d8a4bfec8b87",
   "metadata": {},
   "outputs": [],
   "source": [
    "df2 = preprocessing.minmax_scale(df['sample data'])"
   ]
  },
  {
   "cell_type": "code",
   "execution_count": null,
   "id": "cc91d403-fd42-4c51-b949-33bbaaa6b3b2",
   "metadata": {},
   "outputs": [
    {
     "data": {
      "text/plain": [
       "array([ 0.02298851,  0.06896552,  1.08045977, -0.29885057, -0.43678161,\n",
       "       -0.34482759,  1.54022989, -0.3908046 , -0.02298851,  0.57471264,\n",
       "        1.95402299,  0.57471264, -0.25287356, -0.20689655, -0.29885057,\n",
       "        1.08045977])"
      ]
     },
     "execution_count": 11,
     "metadata": {},
     "output_type": "execute_result"
    }
   ],
   "source": [
    "df3 = preprocessing.robust_scale(df['sample data'])\n",
    "df3"
   ]
  },
  {
   "cell_type": "code",
   "execution_count": 16,
   "id": "2caaa62d-3d95-4a3d-bfb9-3cb5392879dc",
   "metadata": {},
   "outputs": [],
   "source": [
    "df['Standard scaler'] = df1\n",
    "df['MinMax Scaler'] = df2\n",
    "df['Robust Scaler'] = df3"
   ]
  },
  {
   "cell_type": "code",
   "execution_count": 22,
   "id": "64d80f66-59b1-4034-943a-7c7da6a633f6",
   "metadata": {},
   "outputs": [],
   "source": [
    "df.to_csv('./211213_스케일러연습.csv', encoding='euc-kr', index=False)"
   ]
  },
  {
   "cell_type": "code",
   "execution_count": null,
   "id": "dcc7bb27-001d-4bb5-a9ab-89fc07427082",
   "metadata": {},
   "outputs": [],
   "source": []
  }
 ],
 "metadata": {
  "kernelspec": {
   "display_name": "py38",
   "language": "python",
   "name": "py38"
  },
  "language_info": {
   "codemirror_mode": {
    "name": "ipython",
    "version": 3
   },
   "file_extension": ".py",
   "mimetype": "text/x-python",
   "name": "python",
   "nbconvert_exporter": "python",
   "pygments_lexer": "ipython3",
   "version": "3.8.12"
  }
 },
 "nbformat": 4,
 "nbformat_minor": 5
}

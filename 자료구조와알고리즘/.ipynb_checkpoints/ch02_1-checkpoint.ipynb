{
 "cells": [
  {
   "cell_type": "markdown",
   "id": "18d4b06c-0ba3-4a9d-b9ba-132445a814ed",
   "metadata": {},
   "source": [
    "# 배열"
   ]
  },
  {
   "cell_type": "markdown",
   "id": "22ce9292-e416-43f6-b3c5-8eef36980796",
   "metadata": {},
   "source": [
    "## 예시"
   ]
  },
  {
   "cell_type": "markdown",
   "id": "0771c76d-9878-40a3-825c-5c41fb2b6267",
   "metadata": {},
   "source": [
    "- 어떤 학생 그룹의 시험 점수를 집계해야 한다고 가정한 프로그램\n",
    "- 학생 5명의 시험 점수를 입력받아 합계와 평균을 구하는 프로그램"
   ]
  },
  {
   "cell_type": "code",
   "execution_count": 1,
   "id": "7ff39d6e-3c37-41c3-b3fa-8aed4645e1f0",
   "metadata": {},
   "outputs": [
    {
     "name": "stdout",
     "output_type": "stream",
     "text": [
      "학생 그룹 점수의 합계와 평균을 구합니다.\n"
     ]
    },
    {
     "name": "stdin",
     "output_type": "stream",
     "text": [
      "1번 학생의 점수를 입력하세요. :  40\n",
      "2번 학생의 점수를 입력하세요. :  50\n",
      "3번 학생의 점수를 입력하세요. :  60\n",
      "4번 학생의 점수를 입력하세요. :  70\n",
      "5번 학생의 점수를 입력하세요. :  80\n"
     ]
    },
    {
     "name": "stdout",
     "output_type": "stream",
     "text": [
      "합계는 300점입니다.\n",
      "평균은 60.0점입니다.\n"
     ]
    }
   ],
   "source": [
    "# 학생 5명의 시험 점수를 입력받아 합계와 평균을 출력하자.\n",
    "\n",
    "print('학생 그룹 점수의 합계와 평균을 구합니다.')\n",
    "\n",
    "score1 = int(input('1번 학생의 점수를 입력하세요. : '))\n",
    "score2 = int(input('2번 학생의 점수를 입력하세요. : '))\n",
    "score3 = int(input('3번 학생의 점수를 입력하세요. : '))\n",
    "score4 = int(input('4번 학생의 점수를 입력하세요. : '))\n",
    "score5 = int(input('5번 학생의 점수를 입력하세요. : '))\n",
    "\n",
    "total = 0\n",
    "total += score1\n",
    "total += score2\n",
    "total += score3\n",
    "total += score4\n",
    "total += score5\n",
    "\n",
    "print(f'합계는 {total}점입니다.')\n",
    "print(f'평균은 {total/5}점입니다.')"
   ]
  },
  {
   "cell_type": "markdown",
   "id": "50fcf061-6011-40a5-a204-8e8cdd548638",
   "metadata": {},
   "source": [
    "- 요구사항1\n",
    "    - 학생수가 바뀌면? 학생수를 입력받아 정보를 출력해야한다면?\n",
    "- 요구사항2\n",
    "    - 특정 학생의 시험점수를 확인하고 싶다면?\n",
    "- 요구사항3\n",
    "    - 최저, 최고점을 구하거나 시험점수별 정렬을 하고싶다면?\n",
    "    \n",
    "이럴 경우, 각각 변수에 하나씩 값을 저장해서는 위와 같은 요구사항을 반영하기 어렵다.\\\n",
    "그러므로, 배열로 만들어서 관리해보자."
   ]
  },
  {
   "cell_type": "markdown",
   "id": "3709f63a-5f2e-4f4c-9389-9b8e7aa2f3aa",
   "metadata": {},
   "source": [
    "## 파이썬의 배열 - 리스트, 튜플"
   ]
  },
  {
   "cell_type": "markdown",
   "id": "055d8727-f683-4c9f-97c9-c12677f273e5",
   "metadata": {},
   "source": [
    "- 리스트와 튜플은 데이터 컨테이너(data container)라고 한다.\n",
    "- 리스트와 튜플은 비슷한 기능을 하는 듯하지만 원소를 변경할 수 있는지 없는지에 따라 차이가 있다."
   ]
  },
  {
   "cell_type": "markdown",
   "id": "a023bf20-8a91-407d-a0d6-c2d5364a6a97",
   "metadata": {},
   "source": [
    "### 리스트\n",
    "- 원소를 변경할 수 있는 뮤터블(mutable) list형 객체"
   ]
  },
  {
   "cell_type": "code",
   "execution_count": 2,
   "id": "eaa09aa2-bb53-43d1-b9db-c461fcab8741",
   "metadata": {},
   "outputs": [],
   "source": [
    "#빈 리스트\n",
    "ls01 = []\n",
    "\n",
    "# [1,2,3]\n",
    "ls02 = [1, 2, 3]\n",
    "\n",
    "# 맨 마지막 원소에 쉼표를 써도 된다.\n",
    "ls03 = ['A', 'B', 'C',]"
   ]
  },
  {
   "cell_type": "code",
   "execution_count": 3,
   "id": "4cf3d0f8-13e7-46c6-b751-6835f989e0d7",
   "metadata": {},
   "outputs": [
    {
     "name": "stdout",
     "output_type": "stream",
     "text": [
      "[]\n",
      "[1, 2, 3]\n",
      "['A', 'B', 'C']\n"
     ]
    }
   ],
   "source": [
    "print(ls01)\n",
    "print(ls02)\n",
    "print(ls03)"
   ]
  },
  {
   "cell_type": "code",
   "execution_count": 4,
   "id": "19e33e51-cd9e-4b13-aec7-1a75c95db45b",
   "metadata": {},
   "outputs": [
    {
     "name": "stdout",
     "output_type": "stream",
     "text": [
      "[]\n",
      "['A', 'B', 'C']\n",
      "[1, 2, 3]\n",
      "[1, 2, 3]\n",
      "[1, 2, 3]\n"
     ]
    }
   ],
   "source": [
    "# list() 메소드로 리스트 만들기\n",
    "ls04 = list()\n",
    "ls05 = list('ABC') # 문자열의 각 문자로부터 원소를 생성 -> ['A', 'B', 'C'] \n",
    "ls06 = list([1,2,3]) # list casting to list\n",
    "ls07 = list((1,2,3)) # list casting from tuple\n",
    "ls08 = list({1,2,3}) # list casting from set\n",
    "\n",
    "print(ls04)\n",
    "print(ls05)\n",
    "print(ls06)\n",
    "print(ls07)\n",
    "print(ls08)"
   ]
  },
  {
   "cell_type": "code",
   "execution_count": 6,
   "id": "6b1d1b5f-2385-45cd-ba94-2ae5f531ea56",
   "metadata": {},
   "outputs": [
    {
     "name": "stdout",
     "output_type": "stream",
     "text": [
      "[0, 1, 2, 3, 4, 5, 6]\n",
      "[3, 4, 5, 6, 7]\n",
      "[3, 5, 7, 9, 11]\n"
     ]
    }
   ],
   "source": [
    "# range(), list() 함수를 조합하여 특정 범위의 정수로 구성된 리스트 생성\n",
    "ls09 = list(range(7))\n",
    "ls10 = list(range(3,8))\n",
    "ls11 = list(range(3,13,2))\n",
    "print(ls09, ls10, ls11, sep='\\n')"
   ]
  },
  {
   "cell_type": "code",
   "execution_count": 7,
   "id": "ff407367-e608-4975-9154-2c77730c68ea",
   "metadata": {},
   "outputs": [
    {
     "name": "stdout",
     "output_type": "stream",
     "text": [
      "[None, None, None, None, None]\n"
     ]
    }
   ],
   "source": [
    "# 리스트의 원소 개수는 리스트를 만들기 전에 반드시 결정해야 한다.\n",
    "# 원소값을 정하지 않는 리스트는 None을 이용하면 된다.\n",
    "ls12 = [None]*5\n",
    "print(ls12)"
   ]
  },
  {
   "cell_type": "markdown",
   "id": "8e51da2e-920e-43cc-93ba-e03552240635",
   "metadata": {},
   "source": [
    "### 튜플\n",
    "- 원소를 변경할 수 없는 이뮤터블(immutable) 자료형\n",
    "- 콤마(,)와 ()를 써서 만든다."
   ]
  },
  {
   "cell_type": "code",
   "execution_count": 10,
   "id": "dc7c03eb-27f1-492e-9ab0-f0ca236875e1",
   "metadata": {},
   "outputs": [
    {
     "name": "stdout",
     "output_type": "stream",
     "text": [
      "()\n",
      "(1,)\n",
      "(1,)\n",
      "(1, 2, 3)\n",
      "(1, 2, 3)\n",
      "(1, 2, 3)\n",
      "(1, 2, 3)\n",
      "('A', 'B', 'C')\n"
     ]
    }
   ],
   "source": [
    "tp01 = ()\n",
    "tp02 = 1, # 숫자 여러개를 ,로 이어서 쓰면 튜플로 생성된다. 콤마가 없으면 튜플이 아니라 단순 변수로 여기기 때문이다.\n",
    "tp03 = (1,)\n",
    "tp04 = 1,2,3\n",
    "tp05 = 1,2,3, # 맨 뒤에 콤마를 써도된다.\n",
    "tp06 = (1,2,3)\n",
    "tp07 = (1,2,3,)\n",
    "tp08 = 'A','B','C'\n",
    "\n",
    "print(tp01, tp02, tp03, tp04, tp05, tp06, tp07, tp08, sep='\\n')"
   ]
  },
  {
   "cell_type": "code",
   "execution_count": 12,
   "id": "48a88a50-97ed-472a-b056-3536d2912aee",
   "metadata": {},
   "outputs": [
    {
     "name": "stdout",
     "output_type": "stream",
     "text": [
      "1\n",
      "1\n",
      "(1,)\n"
     ]
    }
   ],
   "source": [
    "# 콤마를 안쓰면 단순 변수다.\n",
    "v01 = 1\n",
    "v02 = (1)\n",
    "tp = (1,)\n",
    "print(v01, v02, tp, sep='\\n')"
   ]
  },
  {
   "cell_type": "code",
   "execution_count": 15,
   "id": "3cd61e0b-62bc-4063-882d-9fe0d585e61b",
   "metadata": {},
   "outputs": [
    {
     "name": "stdout",
     "output_type": "stream",
     "text": [
      "()\n",
      "('A', 'B', 'C')\n",
      "(1, 2, 3)\n",
      "(1, 2, 3)\n"
     ]
    }
   ],
   "source": [
    "# 파이썬 내장 함수인 tuple()을 사용하면 문자열이나 리스트 등 여러 가지 자료형 객체를 원소로 하는 튜플을 생성할 수 있다.\n",
    "tp09 = tuple()\n",
    "tp10 = tuple('ABC') # 문자열에 문자 하나씩 원소 생성\n",
    "tp11 = tuple([1,2,3]) # 리스트로 써도 튜플 생성\n",
    "tp12 = tuple({1,2,3}) # set(집합)으로 써도 튜플 생성\n",
    "\n",
    "print(tp09, tp10, tp11, tp12, sep='\\n')"
   ]
  },
  {
   "cell_type": "markdown",
   "id": "6855b86a-8fe5-498a-8445-2787bae2569e",
   "metadata": {},
   "source": [
    "### 리스트와 튜플 언팩(unpack)"
   ]
  },
  {
   "cell_type": "markdown",
   "id": "1070eb38-cc44-45b6-ac0e-491835d421b3",
   "metadata": {},
   "source": [
    "좌변에 변수 여러개를 놓고, 우변에는 리스트나 튜플을 놓으면 좌변에 각각 변수에 리스트나 튜플값이 할당되는 것"
   ]
  },
  {
   "cell_type": "code",
   "execution_count": 16,
   "id": "24a24507-f0a4-423d-92fb-d29e92db6d72",
   "metadata": {},
   "outputs": [
    {
     "name": "stdout",
     "output_type": "stream",
     "text": [
      "1 2 3\n"
     ]
    }
   ],
   "source": [
    "x = [1,2,3]\n",
    "a,b,c = x \n",
    "print(a,b,c)"
   ]
  },
  {
   "cell_type": "code",
   "execution_count": 18,
   "id": "62cc04c5-0b01-4743-b969-a4df2624776e",
   "metadata": {},
   "outputs": [
    {
     "ename": "ValueError",
     "evalue": "not enough values to unpack (expected 4, got 3)",
     "output_type": "error",
     "traceback": [
      "\u001b[1;31m---------------------------------------------------------------------------\u001b[0m",
      "\u001b[1;31mValueError\u001b[0m                                Traceback (most recent call last)",
      "\u001b[1;32m~\\AppData\\Local\\Temp/ipykernel_4932/3233433433.py\u001b[0m in \u001b[0;36m<module>\u001b[1;34m\u001b[0m\n\u001b[1;32m----> 1\u001b[1;33m \u001b[0ma\u001b[0m\u001b[1;33m,\u001b[0m\u001b[0mb\u001b[0m\u001b[1;33m,\u001b[0m\u001b[0mc\u001b[0m\u001b[1;33m,\u001b[0m\u001b[0md\u001b[0m \u001b[1;33m=\u001b[0m \u001b[0mx\u001b[0m \u001b[1;31m# 물론 변수와 리스트의 원소 수는 같아야 한다.\u001b[0m\u001b[1;33m\u001b[0m\u001b[1;33m\u001b[0m\u001b[0m\n\u001b[0m",
      "\u001b[1;31mValueError\u001b[0m: not enough values to unpack (expected 4, got 3)"
     ]
    }
   ],
   "source": [
    "a,b,c,d = x # 물론 변수와 리스트의 원소 수는 같아야 한다."
   ]
  },
  {
   "cell_type": "markdown",
   "id": "bb63e72a-c9a1-410f-bdbd-8247f74492f0",
   "metadata": {},
   "source": [
    "### 인덱스"
   ]
  },
  {
   "cell_type": "code",
   "execution_count": 20,
   "id": "b1c70876-51d9-492f-84b4-b821c4345ffb",
   "metadata": {},
   "outputs": [
    {
     "name": "stdout",
     "output_type": "stream",
     "text": [
      "33\n",
      "55\n",
      "[11, 22, 33, 3.14, 55, 66, 77]\n"
     ]
    }
   ],
   "source": [
    "x = [11,22,33,44,55,66,77]\n",
    "print(x[2])\n",
    "print(x[-3])\n",
    "x[-4] = 3.14 # 값 변경\n",
    "print(x)"
   ]
  },
  {
   "cell_type": "code",
   "execution_count": 22,
   "id": "64b5c650-3e00-4cee-8d6e-4f833d7c7081",
   "metadata": {},
   "outputs": [
    {
     "name": "stdout",
     "output_type": "stream",
     "text": [
      "<class 'int'>\n",
      "<class 'int'>\n",
      "<class 'int'>\n",
      "<class 'float'>\n",
      "<class 'int'>\n",
      "<class 'int'>\n",
      "<class 'int'>\n"
     ]
    },
    {
     "data": {
      "text/plain": [
       "[None, None, None, None, None, None, None]"
      ]
     },
     "execution_count": 22,
     "metadata": {},
     "output_type": "execute_result"
    }
   ],
   "source": [
    "[print(type(i)) for i in x]"
   ]
  },
  {
   "cell_type": "code",
   "execution_count": 23,
   "id": "c6835286-0455-4c25-8dad-a7a88fe90a8a",
   "metadata": {},
   "outputs": [
    {
     "ename": "IndexError",
     "evalue": "list index out of range",
     "output_type": "error",
     "traceback": [
      "\u001b[1;31m---------------------------------------------------------------------------\u001b[0m",
      "\u001b[1;31mIndexError\u001b[0m                                Traceback (most recent call last)",
      "\u001b[1;32m~\\AppData\\Local\\Temp/ipykernel_4932/2236192301.py\u001b[0m in \u001b[0;36m<module>\u001b[1;34m\u001b[0m\n\u001b[1;32m----> 1\u001b[1;33m \u001b[0mx\u001b[0m\u001b[1;33m[\u001b[0m\u001b[1;36m7\u001b[0m\u001b[1;33m]\u001b[0m\u001b[1;33m\u001b[0m\u001b[1;33m\u001b[0m\u001b[0m\n\u001b[0m",
      "\u001b[1;31mIndexError\u001b[0m: list index out of range"
     ]
    }
   ],
   "source": [
    "x[7] # 존재하지 않는 인덱스이므로 오류를 출력"
   ]
  },
  {
   "cell_type": "code",
   "execution_count": 24,
   "id": "9094f53c-a6d3-47e7-962a-99d09c5972c5",
   "metadata": {},
   "outputs": [
    {
     "ename": "IndexError",
     "evalue": "list assignment index out of range",
     "output_type": "error",
     "traceback": [
      "\u001b[1;31m---------------------------------------------------------------------------\u001b[0m",
      "\u001b[1;31mIndexError\u001b[0m                                Traceback (most recent call last)",
      "\u001b[1;32m~\\AppData\\Local\\Temp/ipykernel_4932/1380127849.py\u001b[0m in \u001b[0;36m<module>\u001b[1;34m\u001b[0m\n\u001b[1;32m----> 1\u001b[1;33m \u001b[0mx\u001b[0m\u001b[1;33m[\u001b[0m\u001b[1;36m7\u001b[0m\u001b[1;33m]\u001b[0m \u001b[1;33m=\u001b[0m \u001b[1;36m3.14\u001b[0m \u001b[1;31m# x[7]에는 값을 대입할 수 없으므로 오류를 출력\u001b[0m\u001b[1;33m\u001b[0m\u001b[1;33m\u001b[0m\u001b[0m\n\u001b[0m",
      "\u001b[1;31mIndexError\u001b[0m: list assignment index out of range"
     ]
    }
   ],
   "source": [
    "x[7] = 3.14 # x[7]에는 값을 대입할 수 없으므로 오류를 출력"
   ]
  },
  {
   "cell_type": "markdown",
   "id": "0d4a10a2-9716-446f-be9b-2650691bd94e",
   "metadata": {},
   "source": [
    "### 슬라이싱"
   ]
  },
  {
   "cell_type": "code",
   "execution_count": 25,
   "id": "47ff2e1c-4ba1-44e8-ae3a-039c6e03f689",
   "metadata": {},
   "outputs": [
    {
     "data": {
      "text/plain": [
       "[11, 22, 33, 3.14, 55, 66]"
      ]
     },
     "execution_count": 25,
     "metadata": {},
     "output_type": "execute_result"
    }
   ],
   "source": [
    "s = [11,22,33,44,55,66,77]\n",
    "x[0:6]"
   ]
  },
  {
   "cell_type": "code",
   "execution_count": 26,
   "id": "4ed75247-c649-425b-81b7-98dab56931fa",
   "metadata": {},
   "outputs": [
    {
     "data": {
      "text/plain": [
       "[11, 22, 33, 3.14, 55, 66, 77]"
      ]
     },
     "execution_count": 26,
     "metadata": {},
     "output_type": "execute_result"
    }
   ],
   "source": [
    "x[0:7]"
   ]
  },
  {
   "cell_type": "code",
   "execution_count": 28,
   "id": "ff971501-6beb-42a4-9055-f437c5903ca3",
   "metadata": {},
   "outputs": [
    {
     "data": {
      "text/plain": [
       "[11, 33, 55, 77]"
      ]
     },
     "execution_count": 28,
     "metadata": {},
     "output_type": "execute_result"
    }
   ],
   "source": [
    "s[0:7:2]"
   ]
  },
  {
   "cell_type": "code",
   "execution_count": 29,
   "id": "57bd6c4c-7cf1-418d-9c59-248eeb6e52ab",
   "metadata": {},
   "outputs": [
    {
     "data": {
      "text/plain": [
       "[44, 55]"
      ]
     },
     "execution_count": 29,
     "metadata": {},
     "output_type": "execute_result"
    }
   ],
   "source": [
    "s[-4:-2]"
   ]
  },
  {
   "cell_type": "code",
   "execution_count": 31,
   "id": "9b5e167b-f30e-4d22-83ca-f510b6a32288",
   "metadata": {},
   "outputs": [
    {
     "data": {
      "text/plain": [
       "[]"
      ]
     },
     "execution_count": 31,
     "metadata": {},
     "output_type": "execute_result"
    }
   ],
   "source": [
    "s[3:1] # 리스트 s에 인덱스값이 앞이 더크면 빈 리스트출력, 오류가 나지는 않음"
   ]
  },
  {
   "cell_type": "code",
   "execution_count": 32,
   "id": "6b260c7d-d788-4e2e-8b99-f7ed813f97a4",
   "metadata": {},
   "outputs": [
    {
     "name": "stdout",
     "output_type": "stream",
     "text": [
      "[11, 22, 33, 44, 55, 66, 77]\n",
      "[11, 33, 55, 77]\n",
      "[77, 66, 55, 44, 33, 22, 11]\n"
     ]
    }
   ],
   "source": [
    "# 알아두면 좋을 리스트 슬라이싱\n",
    "print(s[:]) # 전체 출력\n",
    "print(s[::2]) # 2칸씩 출력\n",
    "print(s[::-1]) # 뒤에서부터 앞으로 전체 출력"
   ]
  },
  {
   "cell_type": "code",
   "execution_count": 37,
   "id": "bcbcc492-e35a-435e-9f66-7751e453ffcf",
   "metadata": {},
   "outputs": [
    {
     "ename": "TypeError",
     "evalue": "'tuple' object does not support item assignment",
     "output_type": "error",
     "traceback": [
      "\u001b[1;31m---------------------------------------------------------------------------\u001b[0m",
      "\u001b[1;31mTypeError\u001b[0m                                 Traceback (most recent call last)",
      "\u001b[1;32m~\\AppData\\Local\\Temp/ipykernel_4932/96445053.py\u001b[0m in \u001b[0;36m<module>\u001b[1;34m\u001b[0m\n\u001b[1;32m----> 1\u001b[1;33m \u001b[0mtp04\u001b[0m\u001b[1;33m[\u001b[0m\u001b[1;36m1\u001b[0m\u001b[1;33m]\u001b[0m\u001b[1;33m=\u001b[0m\u001b[1;36m1\u001b[0m\u001b[1;33m\u001b[0m\u001b[1;33m\u001b[0m\u001b[0m\n\u001b[0m",
      "\u001b[1;31mTypeError\u001b[0m: 'tuple' object does not support item assignment"
     ]
    }
   ],
   "source": [
    "tp04[1]=1"
   ]
  },
  {
   "cell_type": "code",
   "execution_count": null,
   "id": "3ee9fba0-0241-45c1-a565-0c68367774e4",
   "metadata": {},
   "outputs": [],
   "source": []
  }
 ],
 "metadata": {
  "kernelspec": {
   "display_name": "mlpy38",
   "language": "python",
   "name": "mlpy38"
  },
  "language_info": {
   "codemirror_mode": {
    "name": "ipython",
    "version": 3
   },
   "file_extension": ".py",
   "mimetype": "text/x-python",
   "name": "python",
   "nbconvert_exporter": "python",
   "pygments_lexer": "ipython3",
   "version": "3.8.12"
  }
 },
 "nbformat": 4,
 "nbformat_minor": 5
}

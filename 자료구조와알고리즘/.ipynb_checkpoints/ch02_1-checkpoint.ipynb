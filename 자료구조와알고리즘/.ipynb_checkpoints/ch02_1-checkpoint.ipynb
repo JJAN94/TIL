{
 "cells": [
  {
   "cell_type": "markdown",
   "id": "18d4b06c-0ba3-4a9d-b9ba-132445a814ed",
   "metadata": {},
   "source": [
    "# 배열"
   ]
  },
  {
   "cell_type": "markdown",
   "id": "22ce9292-e416-43f6-b3c5-8eef36980796",
   "metadata": {},
   "source": [
    "## 예시"
   ]
  },
  {
   "cell_type": "markdown",
   "id": "0771c76d-9878-40a3-825c-5c41fb2b6267",
   "metadata": {},
   "source": [
    "- 어떤 학생 그룹의 시험 점수를 집계해야 한다고 가정한 프로그램\n",
    "- 학생 5명의 시험 점수를 입력받아 합계와 평균을 구하는 프로그램"
   ]
  },
  {
   "cell_type": "code",
   "execution_count": 1,
   "id": "7ff39d6e-3c37-41c3-b3fa-8aed4645e1f0",
   "metadata": {},
   "outputs": [
    {
     "name": "stdout",
     "output_type": "stream",
     "text": [
      "학생 그룹 점수의 합계와 평균을 구합니다.\n"
     ]
    },
    {
     "name": "stdin",
     "output_type": "stream",
     "text": [
      "1번 학생의 점수를 입력하세요. :  40\n",
      "2번 학생의 점수를 입력하세요. :  50\n",
      "3번 학생의 점수를 입력하세요. :  60\n",
      "4번 학생의 점수를 입력하세요. :  10\n",
      "5번 학생의 점수를 입력하세요. :  90\n"
     ]
    },
    {
     "name": "stdout",
     "output_type": "stream",
     "text": [
      "합계는 250점입니다.\n",
      "평균은 50.0점입니다.\n"
     ]
    }
   ],
   "source": [
    "# 학생 5명의 시험 점수를 입력받아 합계와 평균을 출력하자.\n",
    "\n",
    "print('학생 그룹 점수의 합계와 평균을 구합니다.')\n",
    "\n",
    "score1 = int(input('1번 학생의 점수를 입력하세요. : '))\n",
    "score2 = int(input('2번 학생의 점수를 입력하세요. : '))\n",
    "score3 = int(input('3번 학생의 점수를 입력하세요. : '))\n",
    "score4 = int(input('4번 학생의 점수를 입력하세요. : '))\n",
    "score5 = int(input('5번 학생의 점수를 입력하세요. : '))\n",
    "\n",
    "total = 0\n",
    "total += score1\n",
    "total += score2\n",
    "total += score3\n",
    "total += score4\n",
    "total += score5\n",
    "\n",
    "print(f'합계는 {total}점입니다.')\n",
    "print(f'평균은 {total/5}점입니다.')"
   ]
  },
  {
   "cell_type": "markdown",
   "id": "50fcf061-6011-40a5-a204-8e8cdd548638",
   "metadata": {},
   "source": [
    "- 요구사항1\n",
    "    - 학생수가 바뀌면? 학생수를 입력받아 정보를 출력해야한다면?\n",
    "- 요구사항2\n",
    "    - 특정 학생의 시험점수를 확인하고 싶다면?\n",
    "- 요구사항3\n",
    "    - 최저, 최고점을 구하거나 시험점수별 정렬을 하고싶다면?\n",
    "    \n",
    "이럴 경우, 각각 변수에 하나씩 값을 저장해서는 위와 같은 요구사항을 반영하기 어렵다.\\\n",
    "그러므로, 배열로 만들어서 관리해보자."
   ]
  },
  {
   "cell_type": "markdown",
   "id": "3709f63a-5f2e-4f4c-9389-9b8e7aa2f3aa",
   "metadata": {},
   "source": [
    "## 파이썬의 배열 - 리스트, 튜플"
   ]
  },
  {
   "cell_type": "markdown",
   "id": "055d8727-f683-4c9f-97c9-c12677f273e5",
   "metadata": {},
   "source": [
    "- 리스트와 튜플은 데이터 컨테이너(data container)라고 한다.\n",
    "- 리스트와 튜플은 비슷한 기능을 하는 듯하지만 원소를 변경할 수 있는지 없는지에 따라 차이가 있다."
   ]
  },
  {
   "cell_type": "markdown",
   "id": "a023bf20-8a91-407d-a0d6-c2d5364a6a97",
   "metadata": {},
   "source": [
    "### 리스트\n",
    "- 원소를 변경할 수 있는 뮤터블(mutable) list형 객체"
   ]
  },
  {
   "cell_type": "code",
   "execution_count": 3,
   "id": "eaa09aa2-bb53-43d1-b9db-c461fcab8741",
   "metadata": {},
   "outputs": [],
   "source": [
    "#빈 리스트\n",
    "ls01 = []\n",
    "\n",
    "# [1,2,3]\n",
    "ls02 = [1, 2, 3]\n",
    "\n",
    "# 맨 마지막 원소에 쉼표를 써도 된다.\n",
    "ls03 = ['A', 'B', 'C',]"
   ]
  },
  {
   "cell_type": "code",
   "execution_count": 4,
   "id": "4cf3d0f8-13e7-46c6-b751-6835f989e0d7",
   "metadata": {},
   "outputs": [
    {
     "name": "stdout",
     "output_type": "stream",
     "text": [
      "[]\n",
      "[1, 2, 3]\n",
      "['A', 'B', 'C']\n"
     ]
    }
   ],
   "source": [
    "print(ls01)\n",
    "print(ls02)\n",
    "print(ls03)"
   ]
  },
  {
   "cell_type": "code",
   "execution_count": 6,
   "id": "19e33e51-cd9e-4b13-aec7-1a75c95db45b",
   "metadata": {},
   "outputs": [
    {
     "name": "stdout",
     "output_type": "stream",
     "text": [
      "[]\n",
      "['A', 'B', 'C']\n",
      "[1, 2, 3]\n",
      "[1, 2, 3]\n",
      "[1, 2, 3]\n"
     ]
    }
   ],
   "source": [
    "# list() 메소드로 리스트 만들기\n",
    "ls04 = list()\n",
    "ls05 = list('ABC') # 문자열의 각 문자로부터 원소를 생성 -> ['A', 'B', 'C'] \n",
    "ls06 = list([1,2,3]) # list casting to list\n",
    "ls07 = list((1,2,3)) # list casting from tuple\n",
    "ls08 = list({1,2,3}) # list casting from dictionary\n",
    "\n",
    "print(ls04)\n",
    "print(ls05)\n",
    "print(ls06)\n",
    "print(ls07)\n",
    "print(ls08)"
   ]
  },
  {
   "cell_type": "code",
   "execution_count": null,
   "id": "6b1d1b5f-2385-45cd-ba94-2ae5f531ea56",
   "metadata": {},
   "outputs": [],
   "source": []
  }
 ],
 "metadata": {
  "kernelspec": {
   "display_name": "mlpy38",
   "language": "python",
   "name": "mlpy38"
  },
  "language_info": {
   "codemirror_mode": {
    "name": "ipython",
    "version": 3
   },
   "file_extension": ".py",
   "mimetype": "text/x-python",
   "name": "python",
   "nbconvert_exporter": "python",
   "pygments_lexer": "ipython3",
   "version": "3.8.12"
  }
 },
 "nbformat": 4,
 "nbformat_minor": 5
}

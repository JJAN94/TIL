{
 "cells": [
  {
   "cell_type": "markdown",
   "id": "da62f9e9-1db0-4598-be78-bef5fa88db60",
   "metadata": {},
   "source": [
    "# PyTorch Tensor Shape Convention"
   ]
  },
  {
   "cell_type": "markdown",
   "id": "ee2c321c-7e80-46db-8723-6253538ca409",
   "metadata": {},
   "source": [
    "- 2D Tensor (Typical Simple Setting)\n",
    "    - |t| = (batch_size, dim)\n",
    "- 3D Tensor (Typical Computer Vision)\n",
    "    - |t| = (batch_size, width, height)"
   ]
  },
  {
   "cell_type": "code",
   "execution_count": 2,
   "id": "00474a67-7517-46a6-afae-35a37381e46c",
   "metadata": {},
   "outputs": [],
   "source": [
    "import numpy as np\n",
    "import torch"
   ]
  },
  {
   "cell_type": "markdown",
   "id": "6b365e3a-0a7e-4cad-8620-3389ddb2a468",
   "metadata": {},
   "source": [
    "# 1D Array with PyTorch"
   ]
  },
  {
   "cell_type": "code",
   "execution_count": 3,
   "id": "330b1372-65c0-472e-a2da-62f0d4f0bf14",
   "metadata": {},
   "outputs": [
    {
     "name": "stdout",
     "output_type": "stream",
     "text": [
      "tensor([0., 1., 2., 3., 4., 5., 6.])\n"
     ]
    }
   ],
   "source": [
    "t = torch.FloatTensor([0., 1., 2., 3., 4., 5., 6.])\n",
    "print(t)"
   ]
  },
  {
   "cell_type": "code",
   "execution_count": 4,
   "id": "bea3b0a0-742c-4513-ba5c-89ace397ec47",
   "metadata": {},
   "outputs": [
    {
     "name": "stdout",
     "output_type": "stream",
     "text": [
      "1\n",
      "torch.Size([7])\n",
      "torch.Size([7])\n",
      "tensor(0.) tensor(1.) tensor(6.)\n",
      "tensor([2., 3., 4.]) tensor([4., 5.])\n",
      "tensor([0., 1.]) tensor([3., 4., 5., 6.])\n"
     ]
    }
   ],
   "source": [
    "print(t.dim()) # rank\n",
    "print(t.shape) # shape\n",
    "print(t.size()) # shape\n",
    "print(t[0], t[1], t[-1]) # Element\n",
    "print(t[2:5], t[4:-1]) # slicing\n",
    "print(t[:2], t[3:])"
   ]
  },
  {
   "cell_type": "markdown",
   "id": "a3411804-adfd-470f-a6de-109ec2ae9222",
   "metadata": {},
   "source": [
    "# 2D Array with Pytorch"
   ]
  },
  {
   "cell_type": "code",
   "execution_count": 5,
   "id": "b947d1de-87aa-4be4-87bd-af7300bbb1c1",
   "metadata": {},
   "outputs": [
    {
     "name": "stdout",
     "output_type": "stream",
     "text": [
      "tensor([[ 1.,  2.,  3.],\n",
      "        [ 4.,  5.,  6.],\n",
      "        [ 7.,  8.,  9.],\n",
      "        [10., 11., 12.]])\n"
     ]
    }
   ],
   "source": [
    "t = torch.FloatTensor([[1., 2., 3.],\n",
    "                                     [4., 5., 6.],\n",
    "                                     [7., 8., 9.],\n",
    "                                     [10., 11., 12.]])\n",
    "print(t)"
   ]
  },
  {
   "cell_type": "code",
   "execution_count": 6,
   "id": "c6e7eb3b-3f53-4114-af88-1a63115b4c83",
   "metadata": {},
   "outputs": [
    {
     "name": "stdout",
     "output_type": "stream",
     "text": [
      "2\n",
      "torch.Size([4, 3])\n",
      "tensor([ 2.,  5.,  8., 11.])\n",
      "torch.Size([4])\n",
      "tensor([[ 1.,  2.],\n",
      "        [ 4.,  5.],\n",
      "        [ 7.,  8.],\n",
      "        [10., 11.]])\n"
     ]
    }
   ],
   "source": [
    "print(t.dim())\n",
    "print(t.size())\n",
    "print(t[:, 1])\n",
    "print(t[:, 1].size())\n",
    "print(t[:, :-1])"
   ]
  },
  {
   "cell_type": "markdown",
   "id": "c62f07ca-5e36-4349-be25-a321c3861f92",
   "metadata": {},
   "source": [
    "# Broadcasting"
   ]
  },
  {
   "cell_type": "code",
   "execution_count": 7,
   "id": "c897e1e4-6353-4809-b155-85b475de400b",
   "metadata": {},
   "outputs": [
    {
     "name": "stdout",
     "output_type": "stream",
     "text": [
      "tensor([[5., 5.]])\n"
     ]
    }
   ],
   "source": [
    "# same shape\n",
    "m1 = torch.FloatTensor([[3, 3]])\n",
    "m2 = torch.FloatTensor([[2, 2]])\n",
    "print(m1 + m2)"
   ]
  },
  {
   "cell_type": "code",
   "execution_count": 9,
   "id": "e7a3d018-bbdb-43d0-8185-92b95416ea4c",
   "metadata": {},
   "outputs": [
    {
     "name": "stdout",
     "output_type": "stream",
     "text": [
      "tensor([[4., 5.]])\n"
     ]
    }
   ],
   "source": [
    "# vector + scalar\n",
    "m1 = torch.FloatTensor([[1, 2]])\n",
    "m2 = torch.FloatTensor([3])\n",
    "print(m1 + m2)"
   ]
  },
  {
   "cell_type": "code",
   "execution_count": 11,
   "id": "c83565d7-1066-4aa0-936a-6f33d3ebe2bc",
   "metadata": {},
   "outputs": [
    {
     "name": "stdout",
     "output_type": "stream",
     "text": [
      "tensor([[4., 5.],\n",
      "        [5., 6.]])\n"
     ]
    }
   ],
   "source": [
    "# 2 x 1 vector + 1 x 2 vector\n",
    "m1 = torch.FloatTensor([[1, 2]])\n",
    "m2 = torch.FloatTensor([[3], [4]])\n",
    "print(m1 + m2)"
   ]
  },
  {
   "cell_type": "markdown",
   "id": "6c36c587-7d9a-4d77-bcf7-fab4ef139825",
   "metadata": {},
   "source": [
    "# Multiplication vs Matrix Multiplication"
   ]
  },
  {
   "cell_type": "code",
   "execution_count": 14,
   "id": "36ec9a34-c437-4a3a-b89f-cbc4485e607a",
   "metadata": {},
   "outputs": [
    {
     "name": "stdout",
     "output_type": "stream",
     "text": [
      "--------------\n",
      "Mul vs Matmul\n",
      "--------------\n",
      "Shape of matrix 1 :  torch.Size([2, 2])\n",
      "Shape of matrix 2 :  torch.Size([2, 1])\n",
      "tensor([[ 5.],\n",
      "        [11.]]) torch.Size([2, 2])\n",
      "Shape of Matrix 1 :  torch.Size([2, 2])\n",
      "Shape of matrix 2 :  torch.Size([2, 1])\n",
      "tensor([[1., 2.],\n",
      "        [6., 8.]])\n",
      "tensor([[1., 2.],\n",
      "        [6., 8.]])\n"
     ]
    }
   ],
   "source": [
    "print('--------------')\n",
    "print('Mul vs Matmul')\n",
    "print('--------------')\n",
    "m1 = torch.FloatTensor([[1,2], [3,4]])\n",
    "m2 = torch.FloatTensor([[1], [2]])\n",
    "print('Shape of matrix 1 : ', m1.shape)\n",
    "print('Shape of matrix 2 : ', m2.shape)\n",
    "print(m1.matmul(m2), m1.shape) # 매트릭스 곱\n",
    "\n",
    "m1 = torch.FloatTensor([[1,2], [3,4]])\n",
    "m2 = torch.FloatTensor([[1], [2]])\n",
    "print('Shape of Matrix 1 : ', m1.shape)\n",
    "print('Shape of matrix 2 : ', m2.shape)\n",
    "print(m1 * m2) # 요소곱\n",
    "print(m1.mul(m2)) # 요소곱"
   ]
  },
  {
   "cell_type": "markdown",
   "id": "be3cbdd2-b6a1-4c65-af11-674ed687f8a7",
   "metadata": {},
   "source": [
    "# Mean"
   ]
  },
  {
   "cell_type": "code",
   "execution_count": 15,
   "id": "72e3180a-7a02-49bb-b9a8-d0c62a8314cb",
   "metadata": {},
   "outputs": [
    {
     "name": "stdout",
     "output_type": "stream",
     "text": [
      "tensor(1.5000)\n"
     ]
    }
   ],
   "source": [
    "t = torch.FloatTensor([1, 2])\n",
    "print(t.mean())"
   ]
  },
  {
   "cell_type": "code",
   "execution_count": 19,
   "id": "78119eb1-e8b9-424c-aea5-deb8f786694b",
   "metadata": {},
   "outputs": [
    {
     "ename": "RuntimeError",
     "evalue": "mean(): input dtype should be either floating point or complex dtypes. Got Long instead.",
     "output_type": "error",
     "traceback": [
      "\u001b[1;31m---------------------------------------------------------------------------\u001b[0m",
      "\u001b[1;31mRuntimeError\u001b[0m                              Traceback (most recent call last)",
      "\u001b[1;32m~\\AppData\\Local\\Temp/ipykernel_8264/2142932512.py\u001b[0m in \u001b[0;36m<module>\u001b[1;34m\u001b[0m\n\u001b[0;32m      1\u001b[0m \u001b[1;31m# Can't use mean() on intergers\u001b[0m\u001b[1;33m\u001b[0m\u001b[1;33m\u001b[0m\u001b[1;33m\u001b[0m\u001b[0m\n\u001b[0;32m      2\u001b[0m \u001b[0mt\u001b[0m \u001b[1;33m=\u001b[0m \u001b[0mtorch\u001b[0m\u001b[1;33m.\u001b[0m\u001b[0mLongTensor\u001b[0m\u001b[1;33m(\u001b[0m\u001b[1;33m[\u001b[0m\u001b[1;36m1\u001b[0m\u001b[1;33m,\u001b[0m\u001b[1;36m2\u001b[0m\u001b[1;33m]\u001b[0m\u001b[1;33m)\u001b[0m\u001b[1;33m\u001b[0m\u001b[1;33m\u001b[0m\u001b[0m\n\u001b[1;32m----> 3\u001b[1;33m \u001b[0mprint\u001b[0m\u001b[1;33m(\u001b[0m\u001b[0mt\u001b[0m\u001b[1;33m.\u001b[0m\u001b[0mmean\u001b[0m\u001b[1;33m(\u001b[0m\u001b[1;33m)\u001b[0m\u001b[1;33m)\u001b[0m\u001b[1;33m\u001b[0m\u001b[1;33m\u001b[0m\u001b[0m\n\u001b[0m",
      "\u001b[1;31mRuntimeError\u001b[0m: mean(): input dtype should be either floating point or complex dtypes. Got Long instead."
     ]
    }
   ],
   "source": [
    "# Can't use mean() on intergers\n",
    "t = torch.LongTensor([1,2])\n",
    "print(t.mean())"
   ]
  },
  {
   "cell_type": "markdown",
   "id": "4c92359a-4b91-4412-9c36-8802b8fc97bf",
   "metadata": {},
   "source": [
    "Can only calculate the mean of floating types. Got Long instead.\n",
    "\n",
    "You can also use `t.mean` for higher rank tensors to get mean of all elements, or mean by particular dimension."
   ]
  },
  {
   "cell_type": "code",
   "execution_count": 20,
   "id": "5812b1d5-9f91-4365-91d3-1fd3d8c8d95d",
   "metadata": {},
   "outputs": [
    {
     "name": "stdout",
     "output_type": "stream",
     "text": [
      "tensor([[1., 2.],\n",
      "        [3., 4.]])\n"
     ]
    }
   ],
   "source": [
    "t = torch.FloatTensor([[1,2], [3,4]])\n",
    "print(t)"
   ]
  },
  {
   "cell_type": "code",
   "execution_count": 21,
   "id": "1d415220-1fa5-4d8e-847d-700ac2d2e952",
   "metadata": {},
   "outputs": [
    {
     "name": "stdout",
     "output_type": "stream",
     "text": [
      "tensor(2.5000)\n",
      "tensor([2., 3.])\n",
      "tensor([1.5000, 3.5000])\n",
      "tensor([1.5000, 3.5000])\n"
     ]
    }
   ],
   "source": [
    "print(t.mean())\n",
    "print(t.mean(dim=0))\n",
    "print(t.mean(dim=1))\n",
    "print(t.mean(dim=-1))"
   ]
  },
  {
   "cell_type": "markdown",
   "id": "8289736b-fc3f-4210-b252-7aa55553200a",
   "metadata": {},
   "source": [
    "# Sum"
   ]
  },
  {
   "cell_type": "code",
   "execution_count": 22,
   "id": "b39e088e-d76a-40f9-aa7f-1f0477b3e771",
   "metadata": {},
   "outputs": [
    {
     "name": "stdout",
     "output_type": "stream",
     "text": [
      "tensor([[1., 2.],\n",
      "        [3., 4.]])\n"
     ]
    }
   ],
   "source": [
    "t = torch.FloatTensor([[1,2], [3,4]])\n",
    "print(t)"
   ]
  },
  {
   "cell_type": "code",
   "execution_count": 23,
   "id": "7ab5c612-cdb8-4bd8-8680-874eae0fe9d3",
   "metadata": {},
   "outputs": [
    {
     "name": "stdout",
     "output_type": "stream",
     "text": [
      "tensor(10.)\n",
      "tensor([4., 6.])\n",
      "tensor([3., 7.])\n",
      "tensor([3., 7.])\n"
     ]
    }
   ],
   "source": [
    "print(t.sum())\n",
    "print(t.sum(dim=0))\n",
    "print(t.sum(dim=1))\n",
    "print(t.sum(dim=-1))"
   ]
  },
  {
   "cell_type": "markdown",
   "id": "0f02ec19-1746-4340-acc7-63f68acffe22",
   "metadata": {},
   "source": [
    "# Max and Argmax"
   ]
  },
  {
   "cell_type": "code",
   "execution_count": 25,
   "id": "87082726-2d60-4f66-9d03-ee74844b4c0c",
   "metadata": {},
   "outputs": [
    {
     "name": "stdout",
     "output_type": "stream",
     "text": [
      "tensor([[1., 2.],\n",
      "        [3., 4.]])\n"
     ]
    }
   ],
   "source": [
    "t = torch.FloatTensor([[1,2], [3,4]])\n",
    "print(t)"
   ]
  },
  {
   "cell_type": "markdown",
   "id": "60cc5021-7230-43ca-8efd-90aeec91956d",
   "metadata": {},
   "source": [
    "The max operator returns one value if it is called without an argument."
   ]
  },
  {
   "cell_type": "code",
   "execution_count": 26,
   "id": "8116ef26-9a65-4c23-bf35-4e2c34f9b9b0",
   "metadata": {},
   "outputs": [
    {
     "name": "stdout",
     "output_type": "stream",
     "text": [
      "tensor(4.)\n"
     ]
    }
   ],
   "source": [
    "print(t.max()) # Returns one value : max"
   ]
  },
  {
   "cell_type": "markdown",
   "id": "9c07b459-f40e-4894-8ce3-a5d38c665239",
   "metadata": {},
   "source": [
    "The `max` operator returns 2 values when called with dimension specified. The first value is the maximum value, and the second value is the argmax; the index of the element with maximum value."
   ]
  },
  {
   "cell_type": "code",
   "execution_count": 27,
   "id": "e90797ca-7de4-481b-a70e-d906bc4523c9",
   "metadata": {
    "tags": []
   },
   "outputs": [
    {
     "name": "stdout",
     "output_type": "stream",
     "text": [
      "torch.return_types.max(\n",
      "values=tensor([3., 4.]),\n",
      "indices=tensor([1, 1]))\n",
      "Max :  tensor([3., 4.])\n",
      "Argmax :  tensor([1, 1])\n"
     ]
    }
   ],
   "source": [
    "print(t.max(dim=0)) # Returns two values : max and argmax\n",
    "print('Max : ', t.max(dim=0)[0])\n",
    "print('Argmax : ', t.max(dim=0)[1])"
   ]
  },
  {
   "cell_type": "code",
   "execution_count": 28,
   "id": "a5d433d2-1c5b-4f22-858f-fc0b0d12427b",
   "metadata": {},
   "outputs": [
    {
     "name": "stdout",
     "output_type": "stream",
     "text": [
      "torch.return_types.max(\n",
      "values=tensor([2., 4.]),\n",
      "indices=tensor([1, 1]))\n",
      "torch.return_types.max(\n",
      "values=tensor([2., 4.]),\n",
      "indices=tensor([1, 1]))\n"
     ]
    }
   ],
   "source": [
    "print(t.max(dim=1))\n",
    "print(t.max(dim=-1))"
   ]
  },
  {
   "cell_type": "code",
   "execution_count": null,
   "id": "6870f126-5896-4f4f-8977-849e0ecf1d32",
   "metadata": {},
   "outputs": [],
   "source": []
  }
 ],
 "metadata": {
  "kernelspec": {
   "display_name": "pytorch",
   "language": "python",
   "name": "pytorch"
  },
  "language_info": {
   "codemirror_mode": {
    "name": "ipython",
    "version": 3
   },
   "file_extension": ".py",
   "mimetype": "text/x-python",
   "name": "python",
   "nbconvert_exporter": "python",
   "pygments_lexer": "ipython3",
   "version": "3.8.12"
  }
 },
 "nbformat": 4,
 "nbformat_minor": 5
}

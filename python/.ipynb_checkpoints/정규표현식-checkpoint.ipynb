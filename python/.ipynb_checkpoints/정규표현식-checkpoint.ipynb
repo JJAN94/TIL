{
 "cells": [
  {
   "cell_type": "markdown",
   "metadata": {},
   "source": [
    "# 학습목표\n",
    "1. 정규표현식(re)에 대한 이해 및 숙지\n",
    "    - 정규표현식\n",
    "        - regular expression\n",
    "        - 특정한 패턴과 일치하는 문자열을 '검색', '치환', '제거' 하는 기능을 지원\n",
    "        - 정규표현식의 도움없이 패턴을 찾는 작업(Rule 기반)은 불완전 하거나, 작업의 cost가 높음\n",
    "        - e.g) 이메일 형식 판별, 전화번호 형식 판별, 숫자로만 이루어진 문자열 등\n",
    "        \n",
    "    - raw string\n",
    "        - 문자열 앞에 r이 붙으면 해당 문자열이 구성된 그대로 문자열로 변환"
   ]
  },
  {
   "cell_type": "code",
   "execution_count": 3,
   "metadata": {},
   "outputs": [
    {
     "name": "stdout",
     "output_type": "stream",
     "text": [
      "abcdef\n",
      "\n",
      "abcdef\\n\n"
     ]
    }
   ],
   "source": [
    "a = 'abcdef\\n' # escape 문자열\n",
    "print(a)\n",
    "\n",
    "b = r'abcdef\\n' # raw string\n",
    "print(b)"
   ]
  },
  {
   "cell_type": "markdown",
   "metadata": {},
   "source": [
    "#### 기본패턴\n",
    "- a, X, 9 등등 문자 하나하나의 character들은 정확히 해당 문자와 일치\n",
    "    - e.g) 패턴 test는 test 문자열과 일치\n",
    "    - 대소문자의 경우 기본적으로 구별하나, 구별하지 않도록 설정 가능\n",
    "- 몇몇 문자들에 대해서는 예외가 존재하는데, 이들은 특별한 의미로 사용 됨\n",
    "    - . ^ $ * + ? {} [] \\ | ()\n",
    "- .(마침표) - 어떤 한개의 character와 일치 (newline(엔터) 제외)\n",
    "- \\w - 문자 character와 일치 [a-zA-Z0-9_]\n",
    "- \\s - 공백문자와 일치\n",
    "- \\t, \\n, \\r -tab, newline, return\n",
    "- \\d - 숫자 character와 일치 [0-9]\n",
    "- ^ = 시작, \\$ = 끝 각각 문자열의 시작과 끝을 의미\n",
    "- \\가 붙으면 스페셜한 의미가 없어짐. 예) \\\\.는 .자체를 의미 \\\\\\는 \\를 의미\n",
    "- 자세한 내용은 링크 참조 https://docs.python.org/3/library/re.html"
   ]
  },
  {
   "cell_type": "markdown",
   "metadata": {},
   "source": [
    "이건 빙그레체가 아닌거 같은데 빙그레인가?"
   ]
  },
  {
   "cell_type": "code",
   "execution_count": null,
   "metadata": {},
   "outputs": [],
   "source": []
  }
 ],
 "metadata": {
  "kernelspec": {
   "display_name": "Python 3",
   "language": "python",
   "name": "python3"
  },
  "language_info": {
   "codemirror_mode": {
    "name": "ipython",
    "version": 3
   },
   "file_extension": ".py",
   "mimetype": "text/x-python",
   "name": "python",
   "nbconvert_exporter": "python",
   "pygments_lexer": "ipython3",
   "version": "3.8.3"
  }
 },
 "nbformat": 4,
 "nbformat_minor": 4
}

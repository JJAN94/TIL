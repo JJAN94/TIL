{
 "cells": [
  {
   "cell_type": "markdown",
   "metadata": {},
   "source": [
    "# random\n",
    "- 난수 발생 모듈\n",
    "- Random variable generators"
   ]
  },
  {
   "cell_type": "code",
   "execution_count": 1,
   "metadata": {},
   "outputs": [],
   "source": [
    "import random # random 모듈 임포트"
   ]
  },
  {
   "cell_type": "code",
   "execution_count": 6,
   "metadata": {},
   "outputs": [],
   "source": [
    "# help(random)"
   ]
  },
  {
   "cell_type": "code",
   "execution_count": 8,
   "metadata": {},
   "outputs": [],
   "source": [
    "# dir(random)"
   ]
  },
  {
   "cell_type": "markdown",
   "metadata": {},
   "source": [
    "# dir(random)에 포함\n",
    "'betavariate',\n",
    " 'choice',\n",
    " 'choices',\n",
    " 'expovariate',\n",
    " 'gammavariate',\n",
    " 'gauss',\n",
    " 'getrandbits',\n",
    " 'getstate',\n",
    " 'lognormvariate',\n",
    " 'normalvariate',\n",
    " 'paretovariate',\n",
    " 'randint',\n",
    " 'random',\n",
    " 'randrange',\n",
    " 'sample',\n",
    " 'seed',\n",
    " 'setstate',\n",
    " 'shuffle',\n",
    " 'triangular',\n",
    " 'uniform',\n",
    " 'vonmisesvariate',\n",
    " 'weibullvariate'"
   ]
  },
  {
   "cell_type": "markdown",
   "metadata": {},
   "source": [
    "| random 모듈 함수 | 설명 | 사용 예 |\n",
    "| :-- | :-- | :-- |\n",
    "| random() | 0.0 ~  1.0까지 임의 실수 리턴(0,1미포함) | random.random() |\n",
    "| randint(a,b) | a ~ b 사이 임의 정수 리턴(a,b포함) | random.randint(1,6) |\n",
    "| randrange(start, stop, step) | start~stop 사이 step간격으로 임의 정수 리턴 | random.randrange(0,10,2) |\n",
    "| choice(seq) | 공백이 아닌 시퀀스에서 임의 항목 리턴 | random.choice([1,2,3]) |\n",
    "| sample(p, k) | 시퀀스로 이뤄진 모집단(population)에서 중복되지 않는 k개의 인자를 리턴 | random.sample([1,2,3,4,5], 2) |"
   ]
  },
  {
   "cell_type": "code",
   "execution_count": 9,
   "metadata": {},
   "outputs": [
    {
     "data": {
      "text/plain": [
       "0.6117832695480403"
      ]
     },
     "execution_count": 9,
     "metadata": {},
     "output_type": "execute_result"
    }
   ],
   "source": [
    "# random.random\n",
    "random.random()"
   ]
  },
  {
   "cell_type": "code",
   "execution_count": 10,
   "metadata": {},
   "outputs": [
    {
     "data": {
      "text/plain": [
       "3"
      ]
     },
     "execution_count": 10,
     "metadata": {},
     "output_type": "execute_result"
    }
   ],
   "source": [
    "# random.randint\n",
    "random.randint(1,10)"
   ]
  },
  {
   "cell_type": "code",
   "execution_count": 25,
   "metadata": {},
   "outputs": [
    {
     "data": {
      "text/plain": [
       "9"
      ]
     },
     "execution_count": 25,
     "metadata": {},
     "output_type": "execute_result"
    }
   ],
   "source": [
    "# random.randrange(a,b,c)\n",
    "random.randrange(0,12,3)"
   ]
  },
  {
   "cell_type": "code",
   "execution_count": 26,
   "metadata": {},
   "outputs": [
    {
     "data": {
      "text/plain": [
       "4"
      ]
     },
     "execution_count": 26,
     "metadata": {},
     "output_type": "execute_result"
    }
   ],
   "source": [
    "# random.choice(seq)\n",
    "random.choice([1,2,3,4,5])"
   ]
  },
  {
   "cell_type": "code",
   "execution_count": 31,
   "metadata": {},
   "outputs": [
    {
     "data": {
      "text/plain": [
       "[5, 4]"
      ]
     },
     "execution_count": 31,
     "metadata": {},
     "output_type": "execute_result"
    }
   ],
   "source": [
    "# random.sample()\n",
    "random.sample([1,2,3,4,5],2)"
   ]
  },
  {
   "cell_type": "code",
   "execution_count": null,
   "metadata": {},
   "outputs": [],
   "source": []
  },
  {
   "cell_type": "markdown",
   "metadata": {},
   "source": [
    "# datetime\n",
    "- date : 날짜\n",
    "- time : 시간\n",
    "- datetime : 날짜 시간\n",
    "- Fast implementation of the datetime type.(날짜/시간 유형의 빠른 구현.)"
   ]
  },
  {
   "cell_type": "code",
   "execution_count": 32,
   "metadata": {},
   "outputs": [],
   "source": [
    "import datetime # datetime 임포트"
   ]
  },
  {
   "cell_type": "code",
   "execution_count": 34,
   "metadata": {},
   "outputs": [],
   "source": [
    "# help(datetime)"
   ]
  },
  {
   "cell_type": "code",
   "execution_count": 36,
   "metadata": {},
   "outputs": [],
   "source": [
    "# dir(datetime)"
   ]
  },
  {
   "cell_type": "markdown",
   "metadata": {},
   "source": [
    "# dir(datetime)에 포함\n",
    " 'date',\n",
    " 'datetime',\n",
    " 'datetime_CAPI',\n",
    " 'sys',\n",
    " 'time',\n",
    " 'timedelta',\n",
    " 'timezone',\n",
    " 'tzinfo"
   ]
  },
  {
   "cell_type": "code",
   "execution_count": 52,
   "metadata": {},
   "outputs": [
    {
     "name": "stdout",
     "output_type": "stream",
     "text": [
      "1994-05-16\n",
      "16 5 1994\n"
     ]
    }
   ],
   "source": [
    "# datetime.date(year, month, day)\n",
    "day1 = datetime.date(1994, 5,16)\n",
    "print(day)\n",
    "print(day1.day, day1.month, day1.year)"
   ]
  },
  {
   "cell_type": "code",
   "execution_count": null,
   "metadata": {},
   "outputs": [],
   "source": [
    "# datetime.time(hour, minute, second)\n"
   ]
  },
  {
   "cell_type": "code",
   "execution_count": 40,
   "metadata": {},
   "outputs": [],
   "source": [
    "# datetime.datetime(year, month, day, hour, minute, second)"
   ]
  },
  {
   "cell_type": "code",
   "execution_count": null,
   "metadata": {},
   "outputs": [],
   "source": []
  },
  {
   "cell_type": "code",
   "execution_count": null,
   "metadata": {},
   "outputs": [],
   "source": []
  },
  {
   "cell_type": "code",
   "execution_count": null,
   "metadata": {},
   "outputs": [],
   "source": []
  }
 ],
 "metadata": {
  "kernelspec": {
   "display_name": "Python 3",
   "language": "python",
   "name": "python3"
  },
  "language_info": {
   "codemirror_mode": {
    "name": "ipython",
    "version": 3
   },
   "file_extension": ".py",
   "mimetype": "text/x-python",
   "name": "python",
   "nbconvert_exporter": "python",
   "pygments_lexer": "ipython3",
   "version": "3.8.3"
  }
 },
 "nbformat": 4,
 "nbformat_minor": 4
}

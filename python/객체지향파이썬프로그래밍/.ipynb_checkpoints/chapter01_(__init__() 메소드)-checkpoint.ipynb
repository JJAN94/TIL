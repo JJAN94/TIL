{
 "cells": [
  {
   "cell_type": "markdown",
   "metadata": {},
   "source": [
    "## 개요"
   ]
  },
  {
   "cell_type": "markdown",
   "metadata": {},
   "source": [
    "1. \\_\\_init__ 메소드\n",
    "    - 초기화는 객체의 생명주기에서 중요한 첫 단계이다. 객체가 정확히 동작하려면 올바르게 초기화 해야 한다.\n",
    "    - 매개변수 값을 여러 가지 형태로 받을 수 있다.\n",
    "        - 다양한 방법으로 매개변수 값을 전달할 수 있는 만큼 객체 생성의 유스케이스도 상당히 많다.\n",
    "    \n",
    "\n",
    "\n",
    "2. object라는 클래스를 통해 내포된 클래스 계층 구조를 간단히 훑어보자. 이를 바탕으로 생성하는 클래스가 수행할 여러 종류의 동작을 기본 동작과 비교할 수 있는 환경을 만든다.\n",
    "\n",
    "\n",
    "\n",
    "3. 1장에서는 간단한 객체를 위한 다양한 종류의 초기화를 알아본다.\n",
    "    - 이후에는 컬렉션을 포함한 핸드, 전략과 상태를 포함하는 플레이어처 같은 복잡한 객체에 대해 알아보자"
   ]
  },
  {
   "cell_type": "markdown",
   "metadata": {},
   "source": [
    "### 내포된 최상위 클래스 : object"
   ]
  },
  {
   "cell_type": "markdown",
   "metadata": {},
   "source": [
    "- 파이썬의 모든 클래스 정의는 object라는 최상위 클래스를 내포한다.\n",
    "- object는 거의 아무것도 하지 않는 매우 간단한 클래스 정의다.\n",
    "- object의 인스턴스는 생성할 수 있지만 대부분의 스페셜 메소드가 예외를 발생시키므로 할 수 있는게 많지 않다."
   ]
  },
  {
   "cell_type": "code",
   "execution_count": 6,
   "metadata": {},
   "outputs": [
    {
     "name": "stdout",
     "output_type": "stream",
     "text": [
      "<class 'type'>\n",
      "<class 'object'>\n"
     ]
    }
   ],
   "source": [
    "# X 클래스는 type이라는 클래스 객체고, 기반 클래스가 object임을 알 수 있다.\n",
    "class X :\n",
    "    pass\n",
    "\n",
    "print(X.__class__)\n",
    "print(X.__class__.__base__)"
   ]
  },
  {
   "cell_type": "markdown",
   "metadata": {},
   "source": [
    "- 각 메소드를 살펴보면서 object로부터 상속받은 기본 동작을 알아보자.\n",
    "- 최상위 클래스의 스페셜 메소드 동작 방식이 정확히 사용자가 원하는 것일 수도 있지만, 때로는 스페셜 메소드를 오버라이딩해야 할 수도 있다."
   ]
  },
  {
   "cell_type": "markdown",
   "metadata": {},
   "source": [
    "### 기반 클래스 객체 \\_\\_init()__ 메소드"
   ]
  },
  {
   "cell_type": "markdown",
   "metadata": {},
   "source": [
    "- 객체 생명주기의 핵심은 생성과 초기화, 소멸이다.\n",
    "- 생성과 소멸은 2장에서 고급 스페셜 메소드랑 배운다\n",
    "- 1장은 초기화만 배운다."
   ]
  },
  {
   "cell_type": "code",
   "execution_count": null,
   "metadata": {},
   "outputs": [],
   "source": []
  },
  {
   "cell_type": "code",
   "execution_count": 78,
   "metadata": {},
   "outputs": [
    {
     "data": {
      "text/plain": [
       "\"\\n숫자 N은 아래와 같다.\\nN=2^a x 3^b x 5^c x 7^d x 11^e\\nN이 주어질 때 a, b, c, d, e 를 출력하라.\\n\\n\\n[제약 사항]\\nN은 2 이상 10,000,000 이하이다.\\n\\n\\n[입력]\\n가장 첫 줄에는 테스트 케이스의 개수 T가 주어지고, 그 아래로 각 테스트 케이스가 주어진다.\\n각 테스트 케이스의 첫 번째 줄에 N 이 주어진다.\\n\\n10\\n6791400\\n1646400\\n1425600\\n8575\\n185625\\n6480\\n1185408\\n6561\\n25\\n330750\\n\\n[출력]\\n#1 3 2 2 3 1\\n#2 6 1 2 3 0\\n#3 6 4 2 0 1\\n#4 0 0 2 3 0\\n#5 0 3 4 0 1\\n#6 4 4 1 0 0\\n#7 7 3 0 3 0\\n#8 0 8 0 0 0\\n#9 0 0 2 0 0\\n#10 1 3 3 2 0\\n\\n출력의 각 줄은 '#t'로 시작하고, 공백을 한 칸 둔 다음 정답을 출력한다.\\n(t는 테스트 케이스의 번호를 의미하며 1부터 시작한다.)\\n \""
      ]
     },
     "execution_count": 78,
     "metadata": {},
     "output_type": "execute_result"
    }
   ],
   "source": [
    "'''\n",
    "숫자 N은 아래와 같다.\n",
    "N=2^a x 3^b x 5^c x 7^d x 11^e\n",
    "N이 주어질 때 a, b, c, d, e 를 출력하라.\n",
    "\n",
    "\n",
    "[제약 사항]\n",
    "N은 2 이상 10,000,000 이하이다.\n",
    "\n",
    "\n",
    "[입력]\n",
    "가장 첫 줄에는 테스트 케이스의 개수 T가 주어지고, 그 아래로 각 테스트 케이스가 주어진다.\n",
    "각 테스트 케이스의 첫 번째 줄에 N 이 주어진다.\n",
    "\n",
    "10\n",
    "6791400\n",
    "1646400\n",
    "1425600\n",
    "8575\n",
    "185625\n",
    "6480\n",
    "1185408\n",
    "6561\n",
    "25\n",
    "330750\n",
    "\n",
    "[출력]\n",
    "#1 3 2 2 3 1\n",
    "#2 6 1 2 3 0\n",
    "#3 6 4 2 0 1\n",
    "#4 0 0 2 3 0\n",
    "#5 0 3 4 0 1\n",
    "#6 4 4 1 0 0\n",
    "#7 7 3 0 3 0\n",
    "#8 0 8 0 0 0\n",
    "#9 0 0 2 0 0\n",
    "#10 1 3 3 2 0\n",
    "\n",
    "출력의 각 줄은 '#t'로 시작하고, 공백을 한 칸 둔 다음 정답을 출력한다.\n",
    "(t는 테스트 케이스의 번호를 의미하며 1부터 시작한다.)\n",
    " '''\n",
    "\n",
    "\n",
    "# num= int(input())\n",
    "# N = list(range(num))                        \n",
    "# for j in range(10) :\n",
    "#     N[j] = int(input())\n",
    "    \n",
    "# ls0 = [0,0,0,0,0]\n",
    "# ls1 = []\n",
    "# for k in range(num) :\n",
    "#     ls1.append(ls0)"
   ]
  },
  {
   "cell_type": "code",
   "execution_count": 79,
   "metadata": {},
   "outputs": [],
   "source": [
    "N = [6791400, 1646400, 1425600, 8575, 185625, 6480 ,1185408 ,6561 ,25, 330750]\n",
    "# N = 1646400\n",
    "ls0 = [0,0,0,0,0]\n",
    "ls1 = []\n",
    "for k in range(num) :\n",
    "    ls1.append(ls0)"
   ]
  },
  {
   "cell_type": "code",
   "execution_count": 85,
   "metadata": {},
   "outputs": [
    {
     "ename": "IndexError",
     "evalue": "list assignment index out of range",
     "output_type": "error",
     "traceback": [
      "\u001b[1;31m---------------------------------------------------------------------------\u001b[0m",
      "\u001b[1;31mIndexError\u001b[0m                                Traceback (most recent call last)",
      "\u001b[1;32m<ipython-input-85-99311fe7d73c>\u001b[0m in \u001b[0;36m<module>\u001b[1;34m\u001b[0m\n\u001b[0;32m     22\u001b[0m             \u001b[1;32melse\u001b[0m \u001b[1;33m:\u001b[0m\u001b[1;33m\u001b[0m\u001b[1;33m\u001b[0m\u001b[0m\n\u001b[0;32m     23\u001b[0m                 \u001b[1;32mbreak\u001b[0m\u001b[1;33m\u001b[0m\u001b[1;33m\u001b[0m\u001b[0m\n\u001b[1;32m---> 24\u001b[1;33m     \u001b[0mls1\u001b[0m\u001b[1;33m[\u001b[0m\u001b[0mnum\u001b[0m\u001b[1;33m]\u001b[0m \u001b[1;33m=\u001b[0m \u001b[0mls3\u001b[0m\u001b[1;33m\u001b[0m\u001b[1;33m\u001b[0m\u001b[0m\n\u001b[0m\u001b[0;32m     25\u001b[0m \u001b[1;33m\u001b[0m\u001b[0m\n\u001b[0;32m     26\u001b[0m \u001b[0mprint\u001b[0m\u001b[1;33m(\u001b[0m\u001b[0mls1\u001b[0m\u001b[1;33m)\u001b[0m\u001b[1;33m\u001b[0m\u001b[1;33m\u001b[0m\u001b[0m\n",
      "\u001b[1;31mIndexError\u001b[0m: list assignment index out of range"
     ]
    }
   ],
   "source": [
    "# ls1 = [0,0,0,0,0]\n",
    "# for j in range(10) :\n",
    "    \n",
    "# ls1 = [0,0,0,0,0]\n",
    "\n",
    "# 입력받는 부분\n",
    "num = 10\n",
    "N = [6791400, 1646400, 1425600, 8575, 185625, 6480 ,1185408 ,6561 ,25, 330750]\n",
    "\n",
    "# \n",
    "ls0 = [0,0,0,0,0]\n",
    "ls1 = []\n",
    "for k in range(num) :\n",
    "    ls1.append(ls0)\n",
    "\n",
    "ls2 = [2,3,5,7,11]\n",
    "ls3 = [0,0,0,0,0]\n",
    "\n",
    "for t in range(num) :\n",
    "    for i in range(5) :\n",
    "        while True :\n",
    "            if N[i] % ls2[i] == 0 :\n",
    "                ls3[i] += 1\n",
    "                N[i] /= ls2[i]\n",
    "            else :\n",
    "                break\n",
    "    ls1[num] = ls3\n",
    "        \n",
    "print(ls1)"
   ]
  },
  {
   "cell_type": "code",
   "execution_count": null,
   "metadata": {},
   "outputs": [],
   "source": [
    "print(ls1)"
   ]
  },
  {
   "cell_type": "code",
   "execution_count": 75,
   "metadata": {},
   "outputs": [
    {
     "data": {
      "text/plain": [
       "[[3, 1, 2, 3, 1],\n",
       " [3, 1, 2, 3, 1],\n",
       " [3, 1, 2, 3, 1],\n",
       " [3, 1, 2, 3, 1],\n",
       " [3, 1, 2, 3, 1],\n",
       " [0, 0, 0, 0, 0],\n",
       " [0, 0, 0, 0, 0],\n",
       " [0, 0, 0, 0, 0],\n",
       " [0, 0, 0, 0, 0],\n",
       " [0, 0, 0, 0, 0]]"
      ]
     },
     "execution_count": 75,
     "metadata": {},
     "output_type": "execute_result"
    }
   ],
   "source": [
    "ls1"
   ]
  },
  {
   "cell_type": "code",
   "execution_count": 61,
   "metadata": {},
   "outputs": [
    {
     "ename": "NameError",
     "evalue": "name 'append' is not defined",
     "output_type": "error",
     "traceback": [
      "\u001b[1;31m---------------------------------------------------------------------------\u001b[0m",
      "\u001b[1;31mNameError\u001b[0m                                 Traceback (most recent call last)",
      "\u001b[1;32m<ipython-input-61-2a72c2e8b491>\u001b[0m in \u001b[0;36m<module>\u001b[1;34m\u001b[0m\n\u001b[0;32m      4\u001b[0m \u001b[0mls0\u001b[0m \u001b[1;33m=\u001b[0m \u001b[1;33m[\u001b[0m\u001b[1;36m0\u001b[0m\u001b[1;33m,\u001b[0m\u001b[1;36m0\u001b[0m\u001b[1;33m,\u001b[0m\u001b[1;36m0\u001b[0m\u001b[1;33m,\u001b[0m\u001b[1;36m0\u001b[0m\u001b[1;33m,\u001b[0m\u001b[1;36m0\u001b[0m\u001b[1;33m]\u001b[0m\u001b[1;33m\u001b[0m\u001b[1;33m\u001b[0m\u001b[0m\n\u001b[0;32m      5\u001b[0m \u001b[1;32mfor\u001b[0m \u001b[0mk\u001b[0m \u001b[1;32min\u001b[0m \u001b[0mrange\u001b[0m\u001b[1;33m(\u001b[0m\u001b[1;36m5\u001b[0m\u001b[1;33m)\u001b[0m \u001b[1;33m:\u001b[0m\u001b[1;33m\u001b[0m\u001b[1;33m\u001b[0m\u001b[0m\n\u001b[1;32m----> 6\u001b[1;33m     \u001b[0mls1\u001b[0m \u001b[1;33m=\u001b[0m \u001b[0mlist\u001b[0m\u001b[1;33m(\u001b[0m\u001b[0mappend\u001b[0m\u001b[1;33m(\u001b[0m\u001b[0mls0\u001b[0m\u001b[1;33m)\u001b[0m\u001b[1;33m)\u001b[0m\u001b[1;33m\u001b[0m\u001b[1;33m\u001b[0m\u001b[0m\n\u001b[0m\u001b[0;32m      7\u001b[0m \u001b[0mls2\u001b[0m \u001b[1;33m=\u001b[0m \u001b[1;33m[\u001b[0m\u001b[1;36m2\u001b[0m\u001b[1;33m,\u001b[0m\u001b[1;36m3\u001b[0m\u001b[1;33m,\u001b[0m\u001b[1;36m5\u001b[0m\u001b[1;33m,\u001b[0m\u001b[1;36m7\u001b[0m\u001b[1;33m,\u001b[0m\u001b[1;36m11\u001b[0m\u001b[1;33m]\u001b[0m\u001b[1;33m\u001b[0m\u001b[1;33m\u001b[0m\u001b[0m\n\u001b[0;32m      8\u001b[0m \u001b[1;32mfor\u001b[0m \u001b[0mi\u001b[0m \u001b[1;32min\u001b[0m \u001b[0mrange\u001b[0m\u001b[1;33m(\u001b[0m\u001b[1;36m5\u001b[0m\u001b[1;33m)\u001b[0m \u001b[1;33m:\u001b[0m\u001b[1;33m\u001b[0m\u001b[1;33m\u001b[0m\u001b[0m\n",
      "\u001b[1;31mNameError\u001b[0m: name 'append' is not defined"
     ]
    }
   ],
   "source": [
    "# ls1 = [0,0,0,0,0]\n",
    "# for j in range(10) :\n",
    "    \n",
    "ls0 = [0,0,0,0,0]\n",
    "for k in range(5) :\n",
    "    ls1 = list(append(ls0))\n",
    "ls2 = [2,3,5,7,11]\n",
    "for i in range(5) :\n",
    "    while True :\n",
    "        if N[i] % ls2[i] == 0 :\n",
    "            ls1[i] += 1\n",
    "            N[i] /= ls2[i]\n",
    "        else :\n",
    "            break\n",
    "\n",
    "print()"
   ]
  },
  {
   "cell_type": "code",
   "execution_count": 53,
   "metadata": {},
   "outputs": [
    {
     "data": {
      "text/plain": [
       "[0, 1, 2, 3, 4]"
      ]
     },
     "execution_count": 53,
     "metadata": {},
     "output_type": "execute_result"
    }
   ],
   "source": [
    "ls1"
   ]
  },
  {
   "cell_type": "code",
   "execution_count": 58,
   "metadata": {},
   "outputs": [],
   "source": [
    "ls0 = [0,0,0,0,0]\n",
    "ls1 = []\n",
    "for k in range(num) :\n",
    "    ls1.append(ls0)"
   ]
  },
  {
   "cell_type": "code",
   "execution_count": 59,
   "metadata": {},
   "outputs": [
    {
     "data": {
      "text/plain": [
       "[[0, 0, 0, 0, 0],\n",
       " [0, 0, 0, 0, 0],\n",
       " [0, 0, 0, 0, 0],\n",
       " [0, 0, 0, 0, 0],\n",
       " [0, 0, 0, 0, 0],\n",
       " [0, 0, 0, 0, 0],\n",
       " [0, 0, 0, 0, 0],\n",
       " [0, 0, 0, 0, 0],\n",
       " [0, 0, 0, 0, 0],\n",
       " [0, 0, 0, 0, 0]]"
      ]
     },
     "execution_count": 59,
     "metadata": {},
     "output_type": "execute_result"
    }
   ],
   "source": [
    "ls1"
   ]
  },
  {
   "cell_type": "code",
   "execution_count": null,
   "metadata": {},
   "outputs": [],
   "source": []
  },
  {
   "cell_type": "code",
   "execution_count": null,
   "metadata": {},
   "outputs": [],
   "source": [
    "T = int(input())"
   ]
  },
  {
   "cell_type": "code",
   "execution_count": null,
   "metadata": {},
   "outputs": [],
   "source": []
  }
 ],
 "metadata": {
  "kernelspec": {
   "display_name": "Python 3",
   "language": "python",
   "name": "python3"
  },
  "language_info": {
   "codemirror_mode": {
    "name": "ipython",
    "version": 3
   },
   "file_extension": ".py",
   "mimetype": "text/x-python",
   "name": "python",
   "nbconvert_exporter": "python",
   "pygments_lexer": "ipython3",
   "version": "3.8.3"
  }
 },
 "nbformat": 4,
 "nbformat_minor": 4
}

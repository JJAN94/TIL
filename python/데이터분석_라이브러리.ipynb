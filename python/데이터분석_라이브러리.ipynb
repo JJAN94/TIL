{
 "cells": [
  {
   "cell_type": "markdown",
   "metadata": {},
   "source": [
    "# 1. Numpy"
   ]
  },
  {
   "cell_type": "markdown",
   "metadata": {},
   "source": [
    "- Numerical python"
   ]
  },
  {
   "cell_type": "markdown",
   "metadata": {},
   "source": [
    "- 빠르고 효율적인 다차원 배열 객체 ndarray\n",
    "- 배열 원소를 다루거나 배열 간의 수학 계산을 수행하는 함수\n",
    "- 디스크로부터 배열 기반의 데이터를 읽거나 쓸 수 있는 도구\n",
    "- 선형대수 계산, 푸리에 변환, 난수 생성기\n",
    "- 파이썬 확장과 C, C++ 코드에서 NumPy의 자료구조에 접근하고 게산 기능을 사용할 수 있도록 해주는 C API"
   ]
  },
  {
   "cell_type": "markdown",
   "metadata": {},
   "source": [
    "# 2. pandas"
   ]
  },
  {
   "cell_type": "markdown",
   "metadata": {},
   "source": [
    "- 패널 데이터(Panel data) + 파이썬 데이터 분석(Python data analysis) = Pandas\n",
    "- Numpy의 고성능, 배열 연산 +  스프레드시트와 관계형 데이터베이스의 결합의 유연한 데이터 처리 기능"
   ]
  },
  {
   "cell_type": "markdown",
   "metadata": {},
   "source": [
    "- 자동적으로 혹은 명시적으로 축의 이름에 따라 데이터를 정렬할 수 있는 자료구조. 이러한 자료구조는 잘못 정렬된 데이터에 의한 일반적인 오류를 예뱡하고 다양한 소스에서 가져온 다양한 방식으로 색인되어 있는 데이터를 다룰 수 있다.\n",
    "- 통합된 시계열 기능\n",
    "- 시계열 데이터와 비시계열 데이터를 함께 다룰 수 있는 통합 자료구조\n",
    "- 메타데이터를 보존하는 산술 연산과 축약 연산\n",
    "- 누락된 데이터를 유연하게 처리할 수 있는 기능\n",
    "- 일반 데이터베이스 (예. SQL) 처럼 데이터를 합치고 관계 연산을 수행하는 기능"
   ]
  },
  {
   "cell_type": "markdown",
   "metadata": {},
   "source": [
    "# 3. SciPy"
   ]
  },
  {
   "cell_type": "markdown",
   "metadata": {},
   "source": [
    "- 과학 계산 컴퓨팅 영역의 여러 기본 문제를 다루는 패키지 모음\n",
    "- Numpy와 SciPy를 함께 사용하면 전통적인 과학 계산 애플리케이션에서 제공하는 거의 모든 기능을 대체 할 수 있음."
   ]
  },
  {
   "cell_type": "markdown",
   "metadata": {},
   "source": [
    "- scipy.intergrate\n",
    "    - 수치적분 루틴과 미분방적식 풀이법\n",
    "- scipy.linalg\n",
    "    - numpy.linalg에서 제공하는 것보다 더 확장된 선형대수 루틴과 매트릭스 분해\n",
    "- scipy.optimize\n",
    "    - 함수 최적화기와 방적식의 근을 구하는 알고리즘\n",
    "- scipy.signal\n",
    "    - 시그널 프로세싱 도구\n",
    "- scipy.sparse\n",
    "    - 희소 행렬과 희소 선형 시스템 풀이법\n",
    "- scipy.special\n",
    "    - 감마 함수처럼 흔히 사용되는 수학 함수를 구현한 포트란 라이브러리인 SPECFUN 래퍼\n",
    "- scipy.stats\n",
    "    - 표준 연속/이산 확률 분포(밀도함수, 샘플러, 연손 분포 함수)와 다양한 통계 테스트 그리고 좀 더 기술적인 통계도구"
   ]
  },
  {
   "cell_type": "markdown",
   "metadata": {},
   "source": [
    "# 4. scikit-learn"
   ]
  },
  {
   "cell_type": "markdown",
   "metadata": {},
   "source": [
    "- 분류 : SVM, 최근접 이웃, 랜덤 포레스트, 로지스틱 회귀 등\n",
    "- 회귀 : 라소 리지 회귀 등\n",
    "- 클러스터링 : k-평균, 스펙트럴 클러스터링 등\n",
    "- 차원 축소 : PCA, 특징 선택, 행렬 인수분해 등\n",
    "- 모델 선택 : 격자탐색, 교차검증, 행렬\n",
    "- 전처리 : 특징 추출, 정규화"
   ]
  },
  {
   "cell_type": "markdown",
   "metadata": {},
   "source": [
    "# 5. statsmodels"
   ]
  },
  {
   "cell_type": "markdown",
   "metadata": {},
   "source": [
    "- 사이킷런하고 비교하여 스탯츠모델즈는 전통적인 통계 (주로 빈도주의적 접근)와 계량경제학 알고리즘을 포함함\n",
    "- 통계추론에 좀 더 포커싱\n",
    "- 인자를 위한 불확실성 예측치와 p 값을 제공"
   ]
  },
  {
   "cell_type": "markdown",
   "metadata": {},
   "source": [
    "- 회귀 모델 : 선형회귀, 일반화 선형 모델, 로버스트 선형 모델, 선형 혼합 효과 모델 등 \n",
    "- 분산분석(ANOVA : analysis of variance)\n",
    "- 시계열분석 : AR, ARMA, ARIMA, VAR 및 기타 모델\n",
    "- 비모수 기법 : 커널밀도추정, 커널회귀\n",
    "- 통계 모델 결과의 시각화"
   ]
  },
  {
   "cell_type": "code",
   "execution_count": null,
   "metadata": {},
   "outputs": [],
   "source": []
  },
  {
   "cell_type": "markdown",
   "metadata": {},
   "source": [
    "## 라이브러리 임포트 컨벤션\n",
    "- import numpy as np\n",
    "- import pandas as pd\n",
    "- import matplotlib.pyploy as plt\n",
    "- import seaborn as sns\n",
    "import statsmodels as sm"
   ]
  },
  {
   "cell_type": "code",
   "execution_count": null,
   "metadata": {},
   "outputs": [],
   "source": []
  }
 ],
 "metadata": {
  "kernelspec": {
   "display_name": "Python 3",
   "language": "python",
   "name": "python3"
  },
  "language_info": {
   "codemirror_mode": {
    "name": "ipython",
    "version": 3
   },
   "file_extension": ".py",
   "mimetype": "text/x-python",
   "name": "python",
   "nbconvert_exporter": "python",
   "pygments_lexer": "ipython3",
   "version": "3.7.6"
  }
 },
 "nbformat": 4,
 "nbformat_minor": 4
}

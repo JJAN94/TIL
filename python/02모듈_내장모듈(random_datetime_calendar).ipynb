{
 "cells": [
  {
   "cell_type": "markdown",
   "metadata": {},
   "source": [
    "# random\n",
    "- 난수 발생 모듈\n",
    "- Random variable generators"
   ]
  },
  {
   "cell_type": "code",
   "execution_count": 1,
   "metadata": {},
   "outputs": [],
   "source": [
    "import random # random 모듈 임포트"
   ]
  },
  {
   "cell_type": "code",
   "execution_count": 6,
   "metadata": {},
   "outputs": [],
   "source": [
    "# help(random)"
   ]
  },
  {
   "cell_type": "code",
   "execution_count": 8,
   "metadata": {},
   "outputs": [],
   "source": [
    "# dir(random)"
   ]
  },
  {
   "cell_type": "markdown",
   "metadata": {},
   "source": [
    "# dir(random)에 포함\n",
    "'betavariate',\n",
    " 'choice',\n",
    " 'choices',\n",
    " 'expovariate',\n",
    " 'gammavariate',\n",
    " 'gauss',\n",
    " 'getrandbits',\n",
    " 'getstate',\n",
    " 'lognormvariate',\n",
    " 'normalvariate',\n",
    " 'paretovariate',\n",
    " 'randint',\n",
    " 'random',\n",
    " 'randrange',\n",
    " 'sample',\n",
    " 'seed',\n",
    " 'setstate',\n",
    " 'shuffle',\n",
    " 'triangular',\n",
    " 'uniform',\n",
    " 'vonmisesvariate',\n",
    " 'weibullvariate'"
   ]
  },
  {
   "cell_type": "markdown",
   "metadata": {},
   "source": [
    "| random 모듈 함수 | 설명 | 사용 예 |\n",
    "| :-- | :-- | :-- |\n",
    "| random() | 0.0 ~  1.0까지 임의 실수 리턴(0,1미포함) | random.random() |\n",
    "| randint(a,b) | a ~ b 사이 임의 정수 리턴(a,b포함) | random.randint(1,6) |\n",
    "| randrange(start, stop, step) | start~stop 사이 step간격으로 임의 정수 리턴 | random.randrange(0,10,2) |\n",
    "| choice(seq) | 공백이 아닌 시퀀스에서 임의 항목 리턴 | random.choice([1,2,3]) |\n",
    "| sample(p, k) | 시퀀스로 이뤄진 모집단(population)에서 중복되지 않는 k개의 인자를 리턴 | random.sample([1,2,3,4,5], 2) |"
   ]
  },
  {
   "cell_type": "code",
   "execution_count": 9,
   "metadata": {},
   "outputs": [
    {
     "data": {
      "text/plain": [
       "0.6117832695480403"
      ]
     },
     "execution_count": 9,
     "metadata": {},
     "output_type": "execute_result"
    }
   ],
   "source": [
    "# random.random\n",
    "random.random()"
   ]
  },
  {
   "cell_type": "code",
   "execution_count": 10,
   "metadata": {},
   "outputs": [
    {
     "data": {
      "text/plain": [
       "3"
      ]
     },
     "execution_count": 10,
     "metadata": {},
     "output_type": "execute_result"
    }
   ],
   "source": [
    "# random.randint\n",
    "random.randint(1,10)"
   ]
  },
  {
   "cell_type": "code",
   "execution_count": 25,
   "metadata": {},
   "outputs": [
    {
     "data": {
      "text/plain": [
       "9"
      ]
     },
     "execution_count": 25,
     "metadata": {},
     "output_type": "execute_result"
    }
   ],
   "source": [
    "# random.randrange(a,b,c)\n",
    "random.randrange(0,12,3)"
   ]
  },
  {
   "cell_type": "code",
   "execution_count": 26,
   "metadata": {},
   "outputs": [
    {
     "data": {
      "text/plain": [
       "4"
      ]
     },
     "execution_count": 26,
     "metadata": {},
     "output_type": "execute_result"
    }
   ],
   "source": [
    "# random.choice(seq)\n",
    "random.choice([1,2,3,4,5])"
   ]
  },
  {
   "cell_type": "code",
   "execution_count": 31,
   "metadata": {},
   "outputs": [
    {
     "data": {
      "text/plain": [
       "[5, 4]"
      ]
     },
     "execution_count": 31,
     "metadata": {},
     "output_type": "execute_result"
    }
   ],
   "source": [
    "# random.sample()\n",
    "random.sample([1,2,3,4,5],2)"
   ]
  },
  {
   "cell_type": "code",
   "execution_count": null,
   "metadata": {},
   "outputs": [],
   "source": []
  },
  {
   "cell_type": "markdown",
   "metadata": {},
   "source": [
    "# datetime\n",
    "- date : 날짜\n",
    "- time : 시간\n",
    "- datetime : 날짜 시간\n",
    "- Fast implementation of the datetime type.(날짜/시간 유형의 빠른 구현.)"
   ]
  },
  {
   "cell_type": "code",
   "execution_count": 32,
   "metadata": {},
   "outputs": [],
   "source": [
    "import datetime # datetime 임포트"
   ]
  },
  {
   "cell_type": "code",
   "execution_count": 34,
   "metadata": {},
   "outputs": [],
   "source": [
    "# help(datetime)"
   ]
  },
  {
   "cell_type": "code",
   "execution_count": 36,
   "metadata": {},
   "outputs": [],
   "source": [
    "# dir(datetime)"
   ]
  },
  {
   "cell_type": "markdown",
   "metadata": {},
   "source": [
    "# dir(datetime)에 포함\n",
    " 'date',\n",
    " 'datetime',\n",
    " 'datetime_CAPI',\n",
    " 'sys',\n",
    " 'time',\n",
    " 'timedelta',\n",
    " 'timezone',\n",
    " 'tzinfo"
   ]
  },
  {
   "cell_type": "code",
   "execution_count": 52,
   "metadata": {},
   "outputs": [
    {
     "name": "stdout",
     "output_type": "stream",
     "text": [
      "1994-05-16\n",
      "16 5 1994\n"
     ]
    }
   ],
   "source": [
    "# datetime.date(year, month, day)\n",
    "day1 = datetime.date(1994, 5,16)\n",
    "print(day)\n",
    "print(day1.day, day1.month, day1.year)"
   ]
  },
  {
   "cell_type": "code",
   "execution_count": 54,
   "metadata": {},
   "outputs": [
    {
     "name": "stdout",
     "output_type": "stream",
     "text": [
      "17 days, 0:00:00\n"
     ]
    }
   ],
   "source": [
    "day2 = datetime.date(2021, 5, 22)\n",
    "day3 = datetime.date(2021, 5, 5)\n",
    "diff_day = day2 - day3\n",
    "print(diff_day) # 날짜(일수) 차이를 보여줌"
   ]
  },
  {
   "cell_type": "code",
   "execution_count": 57,
   "metadata": {},
   "outputs": [
    {
     "name": "stdout",
     "output_type": "stream",
     "text": [
      "2021-05-05\n"
     ]
    }
   ],
   "source": [
    "print(datetime.date.today()) # 오늘 날짜를 보여줌"
   ]
  },
  {
   "cell_type": "code",
   "execution_count": 61,
   "metadata": {},
   "outputs": [
    {
     "name": "stdout",
     "output_type": "stream",
     "text": [
      "시험일까지 남은 일수는 17 일 남았습니다.\n"
     ]
    }
   ],
   "source": [
    "# D-day계산기\n",
    "adsp_test_day = datetime.date(2021, 5, 22)\n",
    "today = datetime.date.today()\n",
    "d_day = (adsp_test_day-today).days\n",
    "print('시험일까지 남은 일수는 {} 일 남았습니다.'.format(d_day))"
   ]
  },
  {
   "cell_type": "code",
   "execution_count": 62,
   "metadata": {},
   "outputs": [
    {
     "name": "stdout",
     "output_type": "stream",
     "text": [
      "05:15:30\n"
     ]
    }
   ],
   "source": [
    "# datetime.time(hour, minute, second)\n",
    "print(datetime.time(5, 15, 30))"
   ]
  },
  {
   "cell_type": "code",
   "execution_count": 40,
   "metadata": {},
   "outputs": [],
   "source": [
    "# datetime.datetime(year, month, day, hour, minute, second)"
   ]
  },
  {
   "cell_type": "code",
   "execution_count": 66,
   "metadata": {},
   "outputs": [
    {
     "name": "stdout",
     "output_type": "stream",
     "text": [
      "현재시각은 2021-05-05 11:41:30\n"
     ]
    }
   ],
   "source": [
    "print('현재시각은 {}'.format(datetime.datetime(2021, 5, 5, 11, 41, 30)))"
   ]
  },
  {
   "cell_type": "code",
   "execution_count": 67,
   "metadata": {},
   "outputs": [
    {
     "name": "stdout",
     "output_type": "stream",
     "text": [
      "2021-05-05 23:42:17.747925\n"
     ]
    }
   ],
   "source": [
    "print(datetime.datetime.now())"
   ]
  },
  {
   "cell_type": "code",
   "execution_count": null,
   "metadata": {},
   "outputs": [],
   "source": []
  },
  {
   "cell_type": "markdown",
   "metadata": {},
   "source": [
    "# calendar\n",
    "- 다양한 형태로 달력을 생성해 출력하고 날짜와 관련된 정보(연도, 월, 주) 구함"
   ]
  },
  {
   "cell_type": "markdown",
   "metadata": {},
   "source": [
    "| calendar 모듈 함수 | 설명 | 사용 예 |\n",
    "| :-- | :-- | :-- |\n",
    "| calendar(year, [,m=3]) | 지정된 연도의 전체 달력을 문자열로 리턴(기본 형식은 3개열) | calendar.calendar(2021) |\n",
    "| month(year, month) | 지정된 연도와 월의 달력을 문자열로 반환 | calendar.month(2021,4) |\n",
    "| monthrange(year, month) | 지정된 연도와 월의 시작 요일과 일수 리턴, 요일의 경우 0\\~6 사이의 숫자로 반환 | calendar.monthrange(2021,1) |\n",
    "| firstweekday() | 달력에 표시되는 주의 첫번째 요일값을 리턴, 기본값은 0 | calendar.firstweekday() |\n",
    "| setfirstweekday(weekday) | 달력에 표시되는 주의 첫 번째 요일을 지정 | calendar.setfirstweekday(6) |\n",
    "| weekday(year, month, day) | 지정된 날짜(year, month, day)의 요일을 반환) | calendar.weekday(year, month, day) |\n",
    "| isleap(year) | 지정된 연도(year)가 윤년인지를 판단해 윤년이면 True, 아니면 False 리턴 | calendar.isleap(2021) |"
   ]
  },
  {
   "cell_type": "code",
   "execution_count": 68,
   "metadata": {},
   "outputs": [],
   "source": [
    "import calendar"
   ]
  },
  {
   "cell_type": "code",
   "execution_count": 87,
   "metadata": {},
   "outputs": [
    {
     "name": "stdout",
     "output_type": "stream",
     "text": [
      "월 : 0, 화 : 1, 수 : 2, 목 : 3, 금 : 4, 토 : 5, 일 : 6\n"
     ]
    }
   ],
   "source": [
    "# 월, 화, 수, 목, 금, 토, 일에 해당하는 상수들 리턴\n",
    "print('월 : {}, 화 : {}, 수 : {}, 목 : {}, 금 : {}, 토 : {}, 일 : {}'.format(calendar.MONDAY, calendar.TUESDAY, calendar.WEDNESDAY, calendar.THURSDAY, \n",
    "      calendar.FRIDAY, calendar.SATURDAY, calendar.SUNDAY))"
   ]
  },
  {
   "cell_type": "code",
   "execution_count": 84,
   "metadata": {},
   "outputs": [
    {
     "data": {
      "text/plain": [
       "2"
      ]
     },
     "execution_count": 84,
     "metadata": {},
     "output_type": "execute_result"
    }
   ],
   "source": []
  },
  {
   "cell_type": "code",
   "execution_count": null,
   "metadata": {},
   "outputs": [],
   "source": []
  }
 ],
 "metadata": {
  "kernelspec": {
   "display_name": "Python 3",
   "language": "python",
   "name": "python3"
  },
  "language_info": {
   "codemirror_mode": {
    "name": "ipython",
    "version": 3
   },
   "file_extension": ".py",
   "mimetype": "text/x-python",
   "name": "python",
   "nbconvert_exporter": "python",
   "pygments_lexer": "ipython3",
   "version": "3.8.3"
  }
 },
 "nbformat": 4,
 "nbformat_minor": 4
}

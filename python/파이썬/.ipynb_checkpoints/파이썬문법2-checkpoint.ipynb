{
 "cells": [
  {
   "cell_type": "markdown",
   "metadata": {},
   "source": [
    "## 조건문\n",
    "- 특정 조건에 따라서 코드를 실행하고자 할 때 사용\n",
    "- if, else, elif"
   ]
  },
  {
   "cell_type": "markdown",
   "metadata": {},
   "source": [
    "- 조건부분에 bool 데이터 타입 외에 데이터 타입이 오면 bool로 형변환 되어 판단"
   ]
  },
  {
   "cell_type": "code",
   "execution_count": 8,
   "metadata": {},
   "outputs": [
    {
     "name": "stdout",
     "output_type": "stream",
     "text": [
      "python\n",
      "done\n"
     ]
    }
   ],
   "source": [
    "if True :\n",
    "    print('python')\n",
    "    \n",
    "print('done')"
   ]
  },
  {
   "cell_type": "markdown",
   "metadata": {},
   "source": [
    "- int : 0을 제외한 나머지 값은 True"
   ]
  },
  {
   "cell_type": "code",
   "execution_count": 9,
   "metadata": {},
   "outputs": [
    {
     "data": {
      "text/plain": [
       "(False, True, True, True)"
      ]
     },
     "execution_count": 9,
     "metadata": {},
     "output_type": "execute_result"
    }
   ],
   "source": [
    "bool(0), bool(1), bool(-1), bool(100)"
   ]
  },
  {
   "cell_type": "code",
   "execution_count": 10,
   "metadata": {},
   "outputs": [
    {
     "name": "stdout",
     "output_type": "stream",
     "text": [
      "python2\n"
     ]
    }
   ],
   "source": [
    "num = 0\n",
    "if num :\n",
    "    print('python1')\n",
    "    \n",
    "num = 1\n",
    "if num :\n",
    "    print('python2')"
   ]
  },
  {
   "cell_type": "code",
   "execution_count": 11,
   "metadata": {},
   "outputs": [
    {
     "name": "stdout",
     "output_type": "stream",
     "text": [
      "홀수\n"
     ]
    }
   ],
   "source": [
    "number = 7\n",
    "if number & 2 : # 굳이 == 0 안써도 됨\n",
    "    print('홀수')"
   ]
  },
  {
   "cell_type": "markdown",
   "metadata": {},
   "source": [
    "- float : 0.0을 제외한 나머지 실수는 True\n",
    "- str : \"\"를 제외한 나머지 문자열은 True\n",
    "- list, tuple, dict : [], (), {}를 제외한 나머지는 True"
   ]
  },
  {
   "cell_type": "markdown",
   "metadata": {},
   "source": [
    "#### 예제\n",
    "- 지갑에 돈이 10000원 이상 있으면 택시를 탄다.\n",
    "- 2000원 이상, 10000원 미만 있으면 버스를 탄다.\n",
    "- 그렇지 않으면 걸어서 집에 간다."
   ]
  },
  {
   "cell_type": "code",
   "execution_count": 15,
   "metadata": {},
   "outputs": [
    {
     "name": "stdout",
     "output_type": "stream",
     "text": [
      "버스를 타고 집에 갑니다.\n"
     ]
    }
   ],
   "source": [
    "money = 9999\n",
    "\n",
    "if money >= 10000 :\n",
    "    print('택시를 타고 집에 갑니다.')\n",
    "elif money >= 2000 :\n",
    "    print('버스를 타고 집에 갑니다.')\n",
    "else :\n",
    "    print('걸어서 집에 갑니다.')"
   ]
  },
  {
   "cell_type": "markdown",
   "metadata": {},
   "source": [
    "#### 예제\n",
    "- 계좌에 10000원이 들어있습니다.\n",
    "- 인출 금액이 계좌에 있는 금액보다 크면 '인출이 불가능합니다.' 출력\n",
    "- 인출 금액이 계좌에 있는 금액보다 작으면 '인출 되었습니다.' 출력\n",
    "- 마지막 현재 계좌의 금액을 출력"
   ]
  },
  {
   "cell_type": "code",
   "execution_count": 3,
   "metadata": {},
   "outputs": [
    {
     "name": "stdout",
     "output_type": "stream",
     "text": [
      "draw money : 10000\n",
      "인출 되었습니다.\n",
      "현재 잔액 : 0\n"
     ]
    }
   ],
   "source": [
    "data = int(input('draw money : '))\n",
    "account = 10000 # 현재 잔액\n",
    "if data > account :\n",
    "    print('인출이 불가능합니다.')\n",
    "else : \n",
    "    print('인출 되었습니다.')\n",
    "    print('현재 잔액 : {}'.format(account-data))"
   ]
  },
  {
   "cell_type": "code",
   "execution_count": 8,
   "metadata": {},
   "outputs": [
    {
     "name": "stdout",
     "output_type": "stream",
     "text": [
      "insert draw money : 4000\n",
      "4000원이 인출 되었습니다.\n",
      "현재 잔액은 6000 원 입니다.\n"
     ]
    }
   ],
   "source": [
    "account = 10000\n",
    "\n",
    "draw_money = int(input('insert draw money : '))\n",
    "\n",
    "if account >= draw_money :\n",
    "    account -= draw_money\n",
    "    print(str(draw_money) + '원이 인출 되었습니다.')\n",
    "    \n",
    "else : \n",
    "    print('인출이 불가능합니다. ' + str(draw_money - account) + '원의 잔액이 부족합니다.')\n",
    "\n",
    "print('현재 잔액은 '+ str(account) + ' 원 입니다.')"
   ]
  },
  {
   "cell_type": "code",
   "execution_count": 9,
   "metadata": {},
   "outputs": [],
   "source": [
    "# string 데이터 타입의 format 함수\n",
    "# print('{}'.format())\n",
    "# print('{data1} ~~ {data2}'.format(data2=num1, data1=num2))  안에 식별자 넣어주면 순서대로 아니고 원하는대로 넣을 수 있음"
   ]
  },
  {
   "cell_type": "markdown",
   "metadata": {},
   "source": [
    "## 삼항연산자\n",
    "- 간단한 if, else 구문을 한줄의 코드로 표현할 수 있는 방법\n",
    "- (True) if (condition) else (False) "
   ]
  },
  {
   "cell_type": "code",
   "execution_count": 11,
   "metadata": {},
   "outputs": [
    {
     "name": "stdout",
     "output_type": "stream",
     "text": [
      "not zero\n"
     ]
    }
   ],
   "source": [
    "# data 변수에 0이면 'zero' 출력, 아니면 'not zero' 출력\n",
    "data = 1\n",
    "if data :\n",
    "    print('not zero')\n",
    "else : \n",
    "    print('zero')"
   ]
  },
  {
   "cell_type": "code",
   "execution_count": 13,
   "metadata": {},
   "outputs": [
    {
     "data": {
      "text/plain": [
       "'not zero'"
      ]
     },
     "execution_count": 13,
     "metadata": {},
     "output_type": "execute_result"
    }
   ],
   "source": [
    "data = 1\n",
    "'not zero' if data else 'zero'"
   ]
  },
  {
   "cell_type": "markdown",
   "metadata": {},
   "source": [
    "## 반복문\n",
    "- 반복되는 코드를 실행할 때 사용\n",
    "- while, for, break, continue\n",
    "- list comprehension"
   ]
  },
  {
   "cell_type": "markdown",
   "metadata": {},
   "source": [
    "## while 문 "
   ]
  },
  {
   "cell_type": "code",
   "execution_count": 14,
   "metadata": {},
   "outputs": [
    {
     "name": "stdout",
     "output_type": "stream",
     "text": [
      "3\n",
      "2\n",
      "1\n"
     ]
    }
   ],
   "source": [
    "data = 3\n",
    "\n",
    "while data: # 조건이 False가 될 때까지 구문의 코드를 실행\n",
    "    \n",
    "    # 반복되는 코드\n",
    "    print(data)\n",
    "    data -= 1"
   ]
  },
  {
   "cell_type": "markdown",
   "metadata": {},
   "source": [
    "#### 문제\n",
    "- 학생이 국어 : 80점, 영어 : 90점, 수학 : 100점\n",
    "- while 문을 이용해서 총점과 평균을 출력\n",
    "- 학생의 점수는 list, dict 표현\n",
    "- len, dict.values(), list.pop() 등등 방법"
   ]
  },
  {
   "cell_type": "code",
   "execution_count": 21,
   "metadata": {},
   "outputs": [
    {
     "data": {
      "text/plain": [
       "3"
      ]
     },
     "execution_count": 21,
     "metadata": {},
     "output_type": "execute_result"
    }
   ],
   "source": [
    "# score = {'Korean' : 80, 'English' : 90, 'Math' : 100}\n",
    "# score_value = dict.values(score)\n",
    "# l = len(score_value)\n",
    "# while l :\n",
    "    "
   ]
  },
  {
   "cell_type": "code",
   "execution_count": 22,
   "metadata": {},
   "outputs": [],
   "source": [
    "subjects_ls = ['korean', 'english', 'math']\n",
    "points_ls = [80, 90, 100]\n",
    "points_dict = {'korean' : 80, 'english' : 90, 'math' : 100}\n",
    "total, avg = 0, 0"
   ]
  },
  {
   "cell_type": "code",
   "execution_count": 24,
   "metadata": {},
   "outputs": [],
   "source": [
    "datas = points_ls.copy() # 깊은 복사를 해서 원본 데이터를 보존"
   ]
  },
  {
   "cell_type": "code",
   "execution_count": 25,
   "metadata": {},
   "outputs": [
    {
     "data": {
      "text/plain": [
       "(270, 90.0)"
      ]
     },
     "execution_count": 25,
     "metadata": {},
     "output_type": "execute_result"
    }
   ],
   "source": [
    "while datas :\n",
    "    total += datas.pop()\n",
    "\n",
    "avg = total/ len(points_ls)\n",
    "\n",
    "total, avg "
   ]
  },
  {
   "cell_type": "markdown",
   "metadata": {},
   "source": [
    "### 무한루프\n",
    "- 조심하자\n",
    "- break : 반복문을 중단 시킬 때 사용되는 예약어"
   ]
  },
  {
   "cell_type": "code",
   "execution_count": 26,
   "metadata": {},
   "outputs": [
    {
     "name": "stdout",
     "output_type": "stream",
     "text": [
      "10\n"
     ]
    }
   ],
   "source": [
    "result = 1\n",
    "while result :\n",
    "    result += 1\n",
    "    \n",
    "    if result >= 10 :\n",
    "        break        \n",
    "    \n",
    "print(result)"
   ]
  },
  {
   "cell_type": "markdown",
   "metadata": {},
   "source": [
    "## for 문\n",
    "- iterable한 값을 하나씩 꺼내서 value에 대입시킨 후 코드를 iterable 변수의 값 갯수 만큼 실행\n",
    "```\n",
    "for <variable> in <iterables> :\n",
    "    <code>\n",
    "```\n",
    "- continue : 조건부분으로 올라가서 코드를 실행"
   ]
  },
  {
   "cell_type": "code",
   "execution_count": 28,
   "metadata": {},
   "outputs": [
    {
     "name": "stdout",
     "output_type": "stream",
     "text": [
      "0 2 4 "
     ]
    }
   ],
   "source": [
    "ls = [0, 1, 2, 3, 4]\n",
    "for data in ls :\n",
    "    \n",
    "    if data % 2 : # 홀수가 되면 continue 실행\n",
    "        continue\n",
    "    \n",
    "    # data가 짝수이면 print를 실행\n",
    "    print(data, end=' ')"
   ]
  },
  {
   "cell_type": "markdown",
   "metadata": {},
   "source": [
    "- for를 이용해서 100번 실행\n",
    "- **range** 함수\n",
    "    - range(100) : 0부터 99까지의 100개의 숫자가 생성"
   ]
  },
  {
   "cell_type": "code",
   "execution_count": 29,
   "metadata": {},
   "outputs": [
    {
     "data": {
      "text/plain": [
       "4950"
      ]
     },
     "execution_count": 29,
     "metadata": {},
     "output_type": "execute_result"
    }
   ],
   "source": [
    "result = 0\n",
    "for data in range(100) :\n",
    "    result += data\n",
    "result"
   ]
  },
  {
   "cell_type": "code",
   "execution_count": 30,
   "metadata": {
    "scrolled": true
   },
   "outputs": [
    {
     "data": {
      "text/plain": [
       "[0,\n",
       " 1,\n",
       " 2,\n",
       " 3,\n",
       " 4,\n",
       " 5,\n",
       " 6,\n",
       " 7,\n",
       " 8,\n",
       " 9,\n",
       " 10,\n",
       " 11,\n",
       " 12,\n",
       " 13,\n",
       " 14,\n",
       " 15,\n",
       " 16,\n",
       " 17,\n",
       " 18,\n",
       " 19,\n",
       " 20,\n",
       " 21,\n",
       " 22,\n",
       " 23,\n",
       " 24,\n",
       " 25,\n",
       " 26,\n",
       " 27,\n",
       " 28,\n",
       " 29,\n",
       " 30,\n",
       " 31,\n",
       " 32,\n",
       " 33,\n",
       " 34,\n",
       " 35,\n",
       " 36,\n",
       " 37,\n",
       " 38,\n",
       " 39,\n",
       " 40,\n",
       " 41,\n",
       " 42,\n",
       " 43,\n",
       " 44,\n",
       " 45,\n",
       " 46,\n",
       " 47,\n",
       " 48,\n",
       " 49,\n",
       " 50,\n",
       " 51,\n",
       " 52,\n",
       " 53,\n",
       " 54,\n",
       " 55,\n",
       " 56,\n",
       " 57,\n",
       " 58,\n",
       " 59,\n",
       " 60,\n",
       " 61,\n",
       " 62,\n",
       " 63,\n",
       " 64,\n",
       " 65,\n",
       " 66,\n",
       " 67,\n",
       " 68,\n",
       " 69,\n",
       " 70,\n",
       " 71,\n",
       " 72,\n",
       " 73,\n",
       " 74,\n",
       " 75,\n",
       " 76,\n",
       " 77,\n",
       " 78,\n",
       " 79,\n",
       " 80,\n",
       " 81,\n",
       " 82,\n",
       " 83,\n",
       " 84,\n",
       " 85,\n",
       " 86,\n",
       " 87,\n",
       " 88,\n",
       " 89,\n",
       " 90,\n",
       " 91,\n",
       " 92,\n",
       " 93,\n",
       " 94,\n",
       " 95,\n",
       " 96,\n",
       " 97,\n",
       " 98,\n",
       " 99]"
      ]
     },
     "execution_count": 30,
     "metadata": {},
     "output_type": "execute_result"
    }
   ],
   "source": [
    "list(range(100))"
   ]
  },
  {
   "cell_type": "code",
   "execution_count": 34,
   "metadata": {},
   "outputs": [
    {
     "data": {
      "text/plain": [
       "([0, 1, 2, 3, 4], [5, 6, 7, 8, 9], [0, 2, 4, 6, 8], [10, 8, 6, 4, 2])"
      ]
     },
     "execution_count": 34,
     "metadata": {},
     "output_type": "execute_result"
    }
   ],
   "source": [
    "# offset index 개념과 비슷하게 사용\n",
    "list(range(5)), list(range(5, 10)), list(range(0, 10, 2)), list(range(10,0,-2))"
   ]
  },
  {
   "cell_type": "code",
   "execution_count": 35,
   "metadata": {},
   "outputs": [
    {
     "data": {
      "text/plain": [
       "30"
      ]
     },
     "execution_count": 35,
     "metadata": {},
     "output_type": "execute_result"
    }
   ],
   "source": [
    "# 0 ~ 10 까지 짝수를 더한 총합\n",
    "result = 0\n",
    "for number in range(0, 11, 2) :\n",
    "    result += number\n",
    "result"
   ]
  },
  {
   "cell_type": "code",
   "execution_count": 36,
   "metadata": {},
   "outputs": [],
   "source": [
    "points_dict = {'korean' : 80, 'english' : 90, 'math' : 100}"
   ]
  },
  {
   "cell_type": "code",
   "execution_count": 38,
   "metadata": {},
   "outputs": [
    {
     "data": {
      "text/plain": [
       "['korean', 'english', 'math']"
      ]
     },
     "execution_count": 38,
     "metadata": {},
     "output_type": "execute_result"
    }
   ],
   "source": [
    "list(points_dict.keys())"
   ]
  },
  {
   "cell_type": "code",
   "execution_count": 37,
   "metadata": {},
   "outputs": [
    {
     "name": "stdout",
     "output_type": "stream",
     "text": [
      "korean\n",
      "english\n",
      "math\n"
     ]
    }
   ],
   "source": [
    "for data in points_dict : # for문에 딕셔너리를 넣으면 키값만을 리스트로 만들어 for문에 사용한다.\n",
    "    print(data)"
   ]
  },
  {
   "cell_type": "code",
   "execution_count": 39,
   "metadata": {},
   "outputs": [
    {
     "data": {
      "text/plain": [
       "[('korean', 80), ('english', 90), ('math', 100)]"
      ]
     },
     "execution_count": 39,
     "metadata": {},
     "output_type": "execute_result"
    }
   ],
   "source": [
    "list(points_dict.items()) # key, value를 튜플로 만들어서 리스트로 만들어 준다."
   ]
  },
  {
   "cell_type": "code",
   "execution_count": 41,
   "metadata": {},
   "outputs": [
    {
     "name": "stdout",
     "output_type": "stream",
     "text": [
      "korean 80\n",
      "english 90\n",
      "math 100\n"
     ]
    }
   ],
   "source": [
    "for subject, point in points_dict.items() : # 두개의 변수(key, value)를 한번에 받아서 사용 가능\n",
    "    print(subject, point)"
   ]
  },
  {
   "cell_type": "code",
   "execution_count": 43,
   "metadata": {},
   "outputs": [
    {
     "name": "stdout",
     "output_type": "stream",
     "text": [
      "korean 80\n",
      "english 90\n",
      "math 100\n"
     ]
    }
   ],
   "source": [
    "# for 문에서 iterable 데이터가 tuple로 나오면 여러개의 변수로 받을 수 있다.\n",
    "subjects_ls = ['korean', 'english', 'math']\n",
    "points_ls = [80, 90, 100]\n",
    "for subject, point in zip(subjects_ls, points_ls) : # zip 함수를 사용해도 됨\n",
    "    print(subject, point)"
   ]
  },
  {
   "cell_type": "markdown",
   "metadata": {},
   "source": [
    "- 구구단 출력 (가로출력)\n",
    "    - 이중 for문 안에 for 문\n",
    "    - print : end='\\t'\n",
    "    - string : format 함수 이용\n",
    "```\n",
    "2*1=2   3*1=3   ...   9*1=9\n",
    "...\n",
    "2*9=18  3*9=27  ...   9*9=81\n",
    "```"
   ]
  },
  {
   "cell_type": "code",
   "execution_count": 4,
   "metadata": {},
   "outputs": [
    {
     "name": "stdout",
     "output_type": "stream",
     "text": [
      "2*1=2\t3*1=3\t4*1=4\t5*1=5\t6*1=6\t7*1=7\t8*1=8\t9*1=9\t\n",
      "2*2=4\t3*2=6\t4*2=8\t5*2=10\t6*2=12\t7*2=14\t8*2=16\t9*2=18\t\n",
      "2*3=6\t3*3=9\t4*3=12\t5*3=15\t6*3=18\t7*3=21\t8*3=24\t9*3=27\t\n",
      "2*4=8\t3*4=12\t4*4=16\t5*4=20\t6*4=24\t7*4=28\t8*4=32\t9*4=36\t\n",
      "2*5=10\t3*5=15\t4*5=20\t5*5=25\t6*5=30\t7*5=35\t8*5=40\t9*5=45\t\n",
      "2*6=12\t3*6=18\t4*6=24\t5*6=30\t6*6=36\t7*6=42\t8*6=48\t9*6=54\t\n",
      "2*7=14\t3*7=21\t4*7=28\t5*7=35\t6*7=42\t7*7=49\t8*7=56\t9*7=63\t\n",
      "2*8=16\t3*8=24\t4*8=32\t5*8=40\t6*8=48\t7*8=56\t8*8=64\t9*8=72\t\n",
      "2*9=18\t3*9=27\t4*9=36\t5*9=45\t6*9=54\t7*9=63\t8*9=72\t9*9=81\t\n"
     ]
    }
   ],
   "source": [
    "# for 문 예제\n",
    "# 구구단 출력 (가로 출력)\n",
    "# 이중 for문\n",
    "for i in range(1,10) :\n",
    "    for j in range(2,10) :\n",
    "        print('{}*{}={}'.format(j,i,j*i), end='\\t')\n",
    "    print()"
   ]
  },
  {
   "cell_type": "markdown",
   "metadata": {},
   "source": [
    "## List Comprehension\n",
    "- 리스트 데이터를 만들어주는 방법\n",
    "- for문보다 빠르게 동작합니다."
   ]
  },
  {
   "cell_type": "code",
   "execution_count": 1,
   "metadata": {},
   "outputs": [
    {
     "data": {
      "text/plain": [
       "[0, 1, 4, 9]"
      ]
     },
     "execution_count": 1,
     "metadata": {},
     "output_type": "execute_result"
    }
   ],
   "source": [
    "# 각각 값에 제곱한 결과 출력\n",
    "ls = [0, 1, 2, 3]\n",
    "result = []\n",
    "for data in ls :\n",
    "    result.append(data**2)\n",
    "    \n",
    "result"
   ]
  },
  {
   "cell_type": "code",
   "execution_count": 2,
   "metadata": {},
   "outputs": [
    {
     "data": {
      "text/plain": [
       "[0, 1, 4, 9]"
      ]
     },
     "execution_count": 2,
     "metadata": {},
     "output_type": "execute_result"
    }
   ],
   "source": [
    "result = [ data**2 for data in ls ]\n",
    "result"
   ]
  },
  {
   "cell_type": "code",
   "execution_count": 3,
   "metadata": {},
   "outputs": [
    {
     "data": {
      "text/plain": [
       "['짝수', '홀수', '짝수', '홀수']"
      ]
     },
     "execution_count": 3,
     "metadata": {},
     "output_type": "execute_result"
    }
   ],
   "source": [
    "# 리스트 컴프리헨션을 써서 홀수와 짝수를 리스트로 출력해주는 코드\n",
    "# 삼항 연산자도 쓰자\n",
    "ls = [0, 1, 2, 3]\n",
    "result = ['짝수', '홀수', '짝수', '홀수']\n",
    "\n",
    "result = [\n",
    "    '짝수' if data%2==0 else '홀수' for data in ls\n",
    "]\n",
    "result"
   ]
  },
  {
   "cell_type": "markdown",
   "metadata": {},
   "source": [
    "## 리스트 컴프리헨션 조건문"
   ]
  },
  {
   "cell_type": "code",
   "execution_count": 4,
   "metadata": {},
   "outputs": [
    {
     "data": {
      "text/plain": [
       "[1, 3, 5, 7, 9]"
      ]
     },
     "execution_count": 4,
     "metadata": {},
     "output_type": "execute_result"
    }
   ],
   "source": [
    "ls = range(10)\n",
    "[ data for data in ls if data%2 ] #리스트 컴프리헨션문 뒤쪽에 if를 배치"
   ]
  },
  {
   "cell_type": "code",
   "execution_count": 5,
   "metadata": {},
   "outputs": [
    {
     "data": {
      "text/plain": [
       "['clear', 'copy', 'count']"
      ]
     },
     "execution_count": 5,
     "metadata": {},
     "output_type": "execute_result"
    }
   ],
   "source": [
    "ls = [1,2,3] # 필터링 기능을 사용해보자.\n",
    "[ func for func in dir(ls) if func[:2] != '__' and func[0] == 'c']"
   ]
  },
  {
   "cell_type": "markdown",
   "metadata": {},
   "source": [
    "## for문과 list comprehension 성능 비교\n",
    "- for문보다 보통 1.5배정도 더 빠름"
   ]
  },
  {
   "cell_type": "code",
   "execution_count": 7,
   "metadata": {},
   "outputs": [
    {
     "name": "stdout",
     "output_type": "stream",
     "text": [
      "1.18 ms ± 139 µs per loop (mean ± std. dev. of 7 runs, 1000 loops each)\n"
     ]
    }
   ],
   "source": [
    "%%timeit\n",
    "ls = []\n",
    "for num in range(1, 10001) :\n",
    "    if num % 3 == 0:\n",
    "        ls.append(num)\n",
    "len(ls)"
   ]
  },
  {
   "cell_type": "code",
   "execution_count": 8,
   "metadata": {},
   "outputs": [
    {
     "name": "stdout",
     "output_type": "stream",
     "text": [
      "673 µs ± 43.4 µs per loop (mean ± std. dev. of 7 runs, 1000 loops each)\n"
     ]
    }
   ],
   "source": [
    "%%timeit\n",
    "ls = [num for num in range(1,10001) if num % 3 ==0 ]\n",
    "len(ls)"
   ]
  },
  {
   "cell_type": "code",
   "execution_count": null,
   "metadata": {},
   "outputs": [],
   "source": []
  },
  {
   "cell_type": "markdown",
   "metadata": {},
   "source": [
    "## 중간 Summary\n",
    "- 조건문 \n",
    "    - if, else, elif\n",
    "    - 특정 조건에 따라서 코드를 실행하고 싶을 때 사용\n",
    "- 반복문\n",
    "    - while, for\n",
    "    - 특정 코드를 반복적으로 실행 시키고 싶을 때 사용\n",
    "    - continue, break"
   ]
  },
  {
   "cell_type": "markdown",
   "metadata": {},
   "source": [
    "### 1번 문제. 문장을 입력받아서 문법에 맞도록 결과를 출력하는 코드를 작성\n",
    "``` python IS the best Language``` 또는 \\\n",
    "``` python IS the best Language.``` 을 \\\n",
    "``` Python is the best language.``` 으로 수정되게 고쳐보시오\n",
    "- 마지막 문자는 .이 있을 수도 있고 없을 수도 있다.\n",
    "- 논리적인 문제 해결 순서 -> 코드로 변경\n",
    "- str.upper(), str.lower(), offset index [], str.\\__add__(문자열 덧셈)"
   ]
  },
  {
   "cell_type": "code",
   "execution_count": 20,
   "metadata": {},
   "outputs": [
    {
     "name": "stdout",
     "output_type": "stream",
     "text": [
      "문장을 입력하시오 :python IS the best Language\n",
      "['P', 'y', 't', 'h', 'o', 'n', ' ', 'i', 's', ' ', 't', 'h', 'e', ' ', 'b', 'e', 's', 't', ' ', 'l', 'a', 'n', 'g', 'u', 'a', 'g', 'e', '.']\n"
     ]
    }
   ],
   "source": [
    "# 내 풀이\n",
    "string = input('문장을 입력하시오 :')\n",
    "string = string.lower()\n",
    "string = list(string)\n",
    "string[0] = string[0].upper()\n",
    "if string[-1] != '.' :\n",
    "    string.append('.')\n",
    "print(str(string)) # 음...."
   ]
  },
  {
   "cell_type": "code",
   "execution_count": 21,
   "metadata": {},
   "outputs": [
    {
     "name": "stdout",
     "output_type": "stream",
     "text": [
      "input sentencepython IS the best Language\n"
     ]
    },
    {
     "data": {
      "text/plain": [
       "'Python is the best language.'"
      ]
     },
     "execution_count": 21,
     "metadata": {},
     "output_type": "execute_result"
    }
   ],
   "source": [
    "# 강사 해설\n",
    "# 1. 문자열 입력 받기\n",
    "sentence = input('input sentence')\n",
    "\n",
    "# 2. 모두 소문자 변경\n",
    "result = sentence.lower() # lower은 return이 있음\n",
    "\n",
    "# 3. 가장 앞글자를 대문자로 변경\n",
    "result = result[0].upper() + result[1:]\n",
    "\n",
    "# 4. 마지막 문자가 . 인지 확인해서 .이 아니면 . 추가\n",
    "if result[-1] != '.' :\n",
    "    result += '.'\n",
    "\n",
    "result"
   ]
  },
  {
   "cell_type": "code",
   "execution_count": null,
   "metadata": {},
   "outputs": [],
   "source": []
  },
  {
   "cell_type": "markdown",
   "metadata": {},
   "source": [
    "### 2번 문제. 6자리의 로또번호를 생성하는 코드를 작성하세요.\n",
    "- 문자열, 숫자, 리스트 등으로 출력하세요\n",
    "- 6자리의 번호는 중복이 X\n",
    "- import random\n",
    "    - random.randint(1, 45)\n",
    "- while, not in, in, list.append(), break, len()\n",
    "- 문제가 복잡하면 간단한 기능부터 구현하고 업데이트를 하는 방법으로 해결\n",
    "- 랜덤한 숫자 6개 출력 -> 숫자가 중복되지 않는 코드를 추가"
   ]
  },
  {
   "cell_type": "code",
   "execution_count": 56,
   "metadata": {},
   "outputs": [
    {
     "data": {
      "text/plain": [
       "[23, 9, 26, 20, 41, 15]"
      ]
     },
     "execution_count": 56,
     "metadata": {},
     "output_type": "execute_result"
    }
   ],
   "source": [
    "# 내 풀이\n",
    "import random\n",
    "num = []\n",
    "rnum = random.randint(1,45)\n",
    "num.append(rnum)\n",
    "while 1 :\n",
    "    rnum = random.randint(1,45)\n",
    "    if rnum != num[len(num)-1] :\n",
    "        num.append(rnum)\n",
    "    \n",
    "    if len(num) == 6 :\n",
    "        break\n",
    "num"
   ]
  },
  {
   "cell_type": "code",
   "execution_count": 63,
   "metadata": {},
   "outputs": [
    {
     "data": {
      "text/plain": [
       "[5, 20, 22, 27, 34, 40]"
      ]
     },
     "execution_count": 63,
     "metadata": {},
     "output_type": "execute_result"
    }
   ],
   "source": [
    "# 강사 풀이\n",
    "lotto = []\n",
    "# 랜덤한 숫자 6개를 while문을 사용해서 작성\n",
    "while True :\n",
    "    number = random.randint(1,45)\n",
    "    \n",
    "    # 숫자를 추가할 때 lotto 리스트에 중복되는 숫자가 없으면 추가\n",
    "    if number not in lotto :\n",
    "        lotto.append(number)\n",
    "    \n",
    "    if len(lotto) >= 6:\n",
    "        lotto.sort()\n",
    "        break\n",
    "lotto"
   ]
  },
  {
   "cell_type": "code",
   "execution_count": 64,
   "metadata": {},
   "outputs": [],
   "source": [
    "# sort를 사용했음\n",
    "# not in 이라는 것을 사용해서 굳이 인덱스값(len-1)로 안해도 되는 것임"
   ]
  },
  {
   "cell_type": "code",
   "execution_count": null,
   "metadata": {},
   "outputs": [],
   "source": []
  }
 ],
 "metadata": {
  "kernelspec": {
   "display_name": "Python 3",
   "language": "python",
   "name": "python3"
  },
  "language_info": {
   "codemirror_mode": {
    "name": "ipython",
    "version": 3
   },
   "file_extension": ".py",
   "mimetype": "text/x-python",
   "name": "python",
   "nbconvert_exporter": "python",
   "pygments_lexer": "ipython3",
   "version": "3.8.3"
  }
 },
 "nbformat": 4,
 "nbformat_minor": 4
}

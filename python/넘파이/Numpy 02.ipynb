{
 "cells": [
  {
   "cell_type": "markdown",
   "metadata": {},
   "source": [
    "# 4.2 유니버설 함수 : 배열의 각 원소를 빠르게 처리하는 함수"
   ]
  },
  {
   "cell_type": "markdown",
   "metadata": {},
   "source": [
    "- ufunc 라고 불리는 유니버설 함수는 ndarray 안에 있는 데이터 원소별로 연산을 수행하는 함수이다.\n",
    "- 유니버설 함수는 하나 이상의 스칼라값을 받아서 하나 이상의 스칼라 결괏값을 반환하는 간단한 함수를 고속으로 수행할 수 있는 벡터화된 래퍼 함수라고 생각하면 된다"
   ]
  },
  {
   "cell_type": "code",
   "execution_count": 14,
   "metadata": {},
   "outputs": [],
   "source": [
    "import numpy as np"
   ]
  },
  {
   "cell_type": "markdown",
   "metadata": {},
   "source": [
    "- `단항 유니버설 함수`\n",
    "    - 예 : sqrt, exp 등"
   ]
  },
  {
   "cell_type": "code",
   "execution_count": 15,
   "metadata": {},
   "outputs": [
    {
     "data": {
      "text/plain": [
       "array([0, 1, 2, 3, 4, 5, 6, 7, 8, 9])"
      ]
     },
     "execution_count": 15,
     "metadata": {},
     "output_type": "execute_result"
    }
   ],
   "source": [
    "arr = np.arange(10)\n",
    "arr"
   ]
  },
  {
   "cell_type": "code",
   "execution_count": 16,
   "metadata": {},
   "outputs": [
    {
     "data": {
      "text/plain": [
       "array([0.        , 1.        , 1.41421356, 1.73205081, 2.        ,\n",
       "       2.23606798, 2.44948974, 2.64575131, 2.82842712, 3.        ])"
      ]
     },
     "execution_count": 16,
     "metadata": {},
     "output_type": "execute_result"
    }
   ],
   "source": [
    "np.sqrt(arr)"
   ]
  },
  {
   "cell_type": "code",
   "execution_count": 17,
   "metadata": {},
   "outputs": [
    {
     "data": {
      "text/plain": [
       "array([1.00000000e+00, 2.71828183e+00, 7.38905610e+00, 2.00855369e+01,\n",
       "       5.45981500e+01, 1.48413159e+02, 4.03428793e+02, 1.09663316e+03,\n",
       "       2.98095799e+03, 8.10308393e+03])"
      ]
     },
     "execution_count": 17,
     "metadata": {},
     "output_type": "execute_result"
    }
   ],
   "source": [
    "np.exp(arr)"
   ]
  },
  {
   "cell_type": "markdown",
   "metadata": {},
   "source": [
    "- `이항 유니버설 함수` : 두 개의 인자를 받아 단일 배열을 반환하는 함수\n",
    "    - 예 : add, maximum 등"
   ]
  },
  {
   "cell_type": "code",
   "execution_count": 18,
   "metadata": {},
   "outputs": [
    {
     "data": {
      "text/plain": [
       "array([ 1.10535806e+00, -8.04844767e-01,  1.26913921e+00,  1.07432977e+00,\n",
       "        1.03630243e-01, -1.64766405e+00,  1.26279968e+00,  5.68158740e-06])"
      ]
     },
     "execution_count": 18,
     "metadata": {},
     "output_type": "execute_result"
    }
   ],
   "source": [
    "x = np.random.randn(8)\n",
    "y = np.random.randn(8)\n",
    "np.maximum(x,y)"
   ]
  },
  {
   "cell_type": "markdown",
   "metadata": {},
   "source": [
    "- 여러 개의 배열을 반환하는 유니버설 함수\n",
    "    - 예 : modf(분수를 받아서 몫과 나머지 반환)"
   ]
  },
  {
   "cell_type": "code",
   "execution_count": 19,
   "metadata": {},
   "outputs": [
    {
     "name": "stdout",
     "output_type": "stream",
     "text": [
      "[ 0.04727782 -0.52164183 -0.786069   -0.09162248  0.87816928 -0.13656455\n",
      " -0.83187312]\n",
      "[ 3. -4. -0. -2.  4. -1. -8.]\n"
     ]
    }
   ],
   "source": [
    "arr = np.random.randn(7) * 5\n",
    "remainder, whole_part = np.modf(arr)\n",
    "print(remainder)\n",
    "print(whole_part)"
   ]
  },
  {
   "cell_type": "markdown",
   "metadata": {},
   "source": [
    "### Table 4-3 단항 유니버설 함수"
   ]
  },
  {
   "cell_type": "markdown",
   "metadata": {},
   "source": [
    "| 함수 | 설명 |\n",
    "| :-- | :-- |\n",
    "| abs, fabs | 각 원소(정수, 부동소수점, 복소수)의 절댓값을 출력, 복소수가 아닌 경우에는 빠른 연산을 위해서 fabs를 사용함 |\n",
    "| sqrt | 각 원소의 제곱근을 계산한다 (= arr ** 0.5 ) |\n",
    "| square | 각 원소의 제곱을 계산한다 (= arr ** 2) |\n",
    "| exp | 각 원소에서 지수 $ e^2 $을 계산|\n",
    "| log, log10, log2, log1p | 각각 자연로스, 로그10, 로그2, 로그(1+x) |\n",
    "| sign | 각 원소의 부호를 계산한다 (1=양수), (0=영), (-1=음수) |\n",
    "| ceil | 각 원소의 소수자를 올린다. 각 원소의 값보다 같거나 큰 정수 중 가장 작은 정수를 반환 |\n",
    "| floor | 각 원소의 소수자리를 내린다. 각 원소의 값보다 작거나 같은 정수 중 가장 작은수를 반환|\n",
    "| rint | 각 원소의 소수자리를 반올림한다. dtype은 유지됨 |\n",
    "| modf | 각 원소의 몫과 나머지를 각각의 배열로 출력 |\n",
    "| isnan | 각 원소가 숫자가 아닌지(NaN, Not a Number)를 나타내는 불리언 배열을 반환한다. |\n",
    "| isfinite, isinf | 각각 배열의 각 원소가 유한한지(non-inf, non-NaN) 무한한지 나타내는 불리언 배열을 반환한다. |\n",
    "| cos, cosh, sin, <br/> sinh, tan, tanh | 일반 삼각함수와 하이퍼볼릭 삼각함수 |\n",
    "| arccos, arccosh, arcsin, <br/> arcsinh, arctan, arctanh | 역삼각함수 |\n",
    "| logical_not | 각 원소의 논리 부정(not)값을 계산한다 (~arr 과 동일) |"
   ]
  },
  {
   "cell_type": "markdown",
   "metadata": {},
   "source": [
    "### Table 4-4 이항 유니버설 함수"
   ]
  },
  {
   "cell_type": "markdown",
   "metadata": {},
   "source": [
    "| 함수 | 설명 |\n",
    "| :-- | :-- |\n",
    "| add | 두 배열에서 같은 위치의 원소끼리 더한다. |\n",
    "| subtract | 첫 번째 배열의 원소에서 두 번째 배열의 원소를 뺀다. |\n",
    "| multiply | 배열의 원소끼리 곱한다. |\n",
    "| divide, floor_divide | 첫 번째 배열의 원소를 두 번째 배열의 원소로 나누다. floor_divide는 몫만 취한다. |\n",
    "| power | 첫 번째 배열의 원소를 두 번째 배열의 원소만큼 제곱한다. |\n",
    "| maximum, fmax | 각 배열의 두 원소 중 큰 값을 반환한다. fmax는 NaN을 무시 |\n",
    "| minimum, fmin | 각 배열의 두 원소 중 작은 값을 반환한다. fmin은 NaN을 무시 |\n",
    "| mod | 첫 번째 배열의 원소를 두 번째 배열의 원소로 나눈 나머지를 구한다. |\n",
    "| copysign | 첫 번째 배열의 원소의 기호를 두 번째 배열의 원소의 기호로 바꾼다. |\n",
    "| greater, greater_equal, less <br/> less_equal, equal, not_equal | 각각 두 원소 간의 >, >=, <, <=, ==, != 비교 연산 결과를 불리언 배열로 반환한다. |\n",
    "| logical_and, logical_or <br/> logical_xor | 각각 두 원소 간의 &, |, ^ 논리 연산 결과를 반환한다."
   ]
  },
  {
   "cell_type": "code",
   "execution_count": null,
   "metadata": {},
   "outputs": [],
   "source": []
  }
 ],
 "metadata": {
  "kernelspec": {
   "display_name": "Python 3",
   "language": "python",
   "name": "python3"
  },
  "language_info": {
   "codemirror_mode": {
    "name": "ipython",
    "version": 3
   },
   "file_extension": ".py",
   "mimetype": "text/x-python",
   "name": "python",
   "nbconvert_exporter": "python",
   "pygments_lexer": "ipython3",
   "version": "3.8.3"
  }
 },
 "nbformat": 4,
 "nbformat_minor": 4
}

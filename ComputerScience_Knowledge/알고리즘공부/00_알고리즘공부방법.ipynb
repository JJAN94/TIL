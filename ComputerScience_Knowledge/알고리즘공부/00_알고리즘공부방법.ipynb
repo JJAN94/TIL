{
 "cells": [
  {
   "cell_type": "markdown",
   "id": "481b5866-5413-48bb-88f3-f4a5421386a3",
   "metadata": {},
   "source": [
    "# 알고리즘 연습 방법\n",
    "1. 연습장과 펜을 준비하자.\n",
    "2. 알고리즘 문제를 읽고 분석한 후에,\n",
    "3. 간단하게 테스트용으로 매우 간단한 경우부터 복잡한 경우 순서대로 생각해보면서, 연습장과 펜을 이용하여 알고리즘을 생각해본다.\n",
    "4. 가능한 알고리즘이 보인다면, 구현할 알고리즘을 세부 항목으로 나누고, 문장으로 세부 항목을 나누어서 적어본다.\n",
    "5. 코드화하기 위해, 데이터 구조 또는 사용할 변수를 정리하고,\n",
    "6. 각 문장을 코드 레벨로 적는다.\n",
    "7. 데이터 구조 또는 사용할 변수가 코드에 따라 어떻게 변하는지를 손으로 적으면서, 임의 데이터로 코드가 정상 동작하는지를 연습장과 펜으로 검증한다."
   ]
  },
  {
   "cell_type": "code",
   "execution_count": null,
   "id": "19a54b7a-1c6e-465b-8c93-87d9a3927c4e",
   "metadata": {},
   "outputs": [],
   "source": []
  }
 ],
 "metadata": {
  "kernelspec": {
   "display_name": "Python 3",
   "language": "python",
   "name": "python3"
  },
  "language_info": {
   "codemirror_mode": {
    "name": "ipython",
    "version": 3
   },
   "file_extension": ".py",
   "mimetype": "text/x-python",
   "name": "python",
   "nbconvert_exporter": "python",
   "pygments_lexer": "ipython3",
   "version": "3.8.8"
  }
 },
 "nbformat": 4,
 "nbformat_minor": 5
}

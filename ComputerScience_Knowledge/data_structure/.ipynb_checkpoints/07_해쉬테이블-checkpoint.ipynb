{
 "cells": [
  {
   "cell_type": "markdown",
   "id": "25fc09d1-43d8-4a8a-8b70-6a391b103987",
   "metadata": {},
   "source": [
    "# 해쉬 테이블 (Hash Table)"
   ]
  },
  {
   "cell_type": "markdown",
   "id": "a1dd6d6d-3b2d-4368-8940-c4a9d010d528",
   "metadata": {},
   "source": [
    "## 1. 해쉬 구조\n",
    "- Hash Table : <font color='red'>키(Key)에 데이터(value)를 저장하는 데이터 구조</font>\n",
    "    - Key를 통해 바로 데이터를 받아올 수 있으므로, 속도가 획기적으로 빨라짐\n",
    "    - 파이썬 딕셔너리(Dictionary) 타입이 해쉬 테이블의 예 : key를 가지고 바로 데이터(value)를 꺼냄\n",
    "    - 보통 배열로 미리 Hash Table 사이즈만큼 생성 후 사용 (공간과 탐색 시간을 맞바꾸는 기법)\n",
    "    - <font color='red'>단, 파이썬에서는 해쉬를 별도 구현할 이유가 없음 - 딕셔너리 타입을 사용하면 됨</font>\n",
    "    \n",
    "## 2. 용어 정리\n",
    "- 해쉬(Hash) : 임의 값을 고정 길이로 변환하는 것\n",
    "- 해쉬 테이블(Hash Table) : 키 값의 연산에 의해 직접 접근이 가능한 데이터 구조\n",
    "- 해싱 함수(Hashing Function) : key에 대해 산술 연산을 이용해 데이터 위치를 찾을 수 있는 함수\n",
    "- 해쉬 값(Hash Value) 또는 해쉬 주소(Hash Address) : Key를 해싱 함수로 연산해서, 해쉬 값을 알아내고, 이를 기반으로 해쉬 테이블에서 해당 Key에 대한 데이터 위치를 찾을 수 있음\n",
    "- 슬롯(Slot) : 한 개의 데이터를 저장할 수 있는 공간\n",
    "- 저장할 데이터에 대해 key를 추출할 수 있는 별도 함수도 존재할 수 있음"
   ]
  },
  {
   "cell_type": "code",
   "execution_count": null,
   "id": "54f8e0a3-c62a-415e-b7b8-e554ba661d33",
   "metadata": {},
   "outputs": [],
   "source": []
  }
 ],
 "metadata": {
  "kernelspec": {
   "display_name": "Python 3",
   "language": "python",
   "name": "python3"
  },
  "language_info": {
   "codemirror_mode": {
    "name": "ipython",
    "version": 3
   },
   "file_extension": ".py",
   "mimetype": "text/x-python",
   "name": "python",
   "nbconvert_exporter": "python",
   "pygments_lexer": "ipython3",
   "version": "3.8.8"
  }
 },
 "nbformat": 4,
 "nbformat_minor": 5
}

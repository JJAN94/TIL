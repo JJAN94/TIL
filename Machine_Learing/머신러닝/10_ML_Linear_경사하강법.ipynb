{
 "cells": [
  {
   "cell_type": "markdown",
   "metadata": {},
   "source": [
    "## 선형회귀(Linear Regression) - 심화"
   ]
  },
  {
   "cell_type": "markdown",
   "metadata": {},
   "source": [
    "#### Linear Regression을 활용하여 섭씨온도(C, Celsius)를 화씨온도(F, Fahrenheit)로 변환해주는 공식을 만들수 있다. \n",
    "섭씨온도과 화씨온도의 관계는 앞에서 우리가 살펴보았던 선형회귀의 관계를 가지고 있다.\n",
    "#### <span style=\"color:red\"> H(x) = aX + b 에서처럼, F = C*1.8 +32  </span>\n",
    "이때, 1.8과 32라는 값을 모르고 있다고 가정하고, 머신러닝 알고리즘을 이용해서 주어진 섭씨 온도와 화씨온도 데이타 만으로 이 값들을 찾아내는 실습을 진행해보도록 하겠다.\n",
    "<u><span style=\"color:red\">[Chain Rule 증명](https://www.khanacademy.org/math/ap-calculus-ab/ab-differentiation-2-new/ab-3-1b/a/proving-the-chain-rule) </span></u>\n",
    "\n",
    "선형회귀는 쉽게 접근하면 쉽고, 어렵게 접근하면 매우 어려운 모델이다\\\n",
    "이 부분은 결국 2가지가 정의되어야 하는데,\\\n",
    "(1) 가장 기본적인 수식 Hypothesis Function\\\n",
    "(2) Cost Function\\\n",
    "(3) Learning rate\\\n",
    "Cost는 비용인데 Learning(학습)을 언제 멈출지를 결정하는 요인이 된다.\\\n",
    "비용이 적게 드는것이 좋고, 비용이 안들면 Best\\\n",
    "머신, 딥러닝에서도 학습을 하면서 모델이 멈춰야 하는 시점을 알야 하는데\\\n",
    "비용이 없을 때(0) 멈춰야 한다.\\\n",
    "이 수식이 바로 MSE Cost Function\n",
    "Cost함수를 이용해서 그래프 선상에서 어느 위치에 현재 있는지는 알 수 있다.\\\n",
    "그런데 그래프 선상에서 내려갈지/올라갈지 어느 쪽으로 이동할지는 알 수 없다.\\\n",
    "그래서 미분이 필요하다. (경사하강)\\\n",
    "Learning rate\\\n",
    "학습 속도와 관련있는 하이퍼파라미터\\\n",
    "하이퍼파라미터 튜닝한다라고 하면\\\n",
    "learning rate가 높으면 발산 (Overfittiong)\\\n",
    "learning rate가 낮으면 학습속도가 매우 느려진다.\\\n",
    "0.01~0.004 사이의 값을 권장한다."
   ]
  },
  {
   "cell_type": "markdown",
   "metadata": {},
   "source": [
    "### Configuration (or prerequisite)"
   ]
  },
  {
   "cell_type": "code",
   "execution_count": 1,
   "metadata": {},
   "outputs": [],
   "source": [
    "%matplotlib inline\n",
    "import numpy as np\n",
    "import pandas as pd\n",
    "import matplotlib.pyplot as plt"
   ]
  },
  {
   "cell_type": "code",
   "execution_count": 2,
   "metadata": {},
   "outputs": [],
   "source": [
    "import platform\n",
    "\n",
    "from matplotlib import font_manager, rc\n",
    "plt.rcParams['axes.unicode_minus'] = False\n",
    "\n",
    "if platform.system() == 'Darwin':\n",
    "    rc('font', family='AppleGothic')\n",
    "elif platform.system() == 'Windows':\n",
    "    path = \"c:/Windows/Fonts/malgun.ttf\"\n",
    "    font_name = font_manager.FontProperties(fname=path).get_name()\n",
    "    rc('font', family=font_name)\n",
    "else:\n",
    "    print('Unknown system!!')"
   ]
  },
  {
   "cell_type": "markdown",
   "metadata": {},
   "source": [
    "### Generate Dataset"
   ]
  },
  {
   "cell_type": "markdown",
   "metadata": {},
   "source": [
    "####  <span style=\"color:blue\">선형회귀 문제를 다루기 위한 학습용 데이타셋을 생성</span>\n",
    "0도에서 100도 사이의 값을 갖는 섭씨온도 데이타를 100개 만들어보자\n",
    "이 데이타가 해당 머신러닝 알고리즘에서 사실상 Feature가 될 것이다."
   ]
  },
  {
   "cell_type": "code",
   "execution_count": 3,
   "metadata": {},
   "outputs": [
    {
     "name": "stdout",
     "output_type": "stream",
     "text": [
      "(100,)\n"
     ]
    }
   ],
   "source": [
    "'''\n",
    "섭씨온도 데이터를 담고있는 C의 shape를 확인합니다. (100,)로 100개의 데이터가 있습니다.\n",
    "C의 첫 10개 값을 확인합니다. \n",
    "'''\n",
    "np.random.seed(0)\n",
    "C = np.random.randint(0,100,100)\n",
    "print(C.shape)\n",
    "C_ls = C[:10]"
   ]
  },
  {
   "cell_type": "code",
   "execution_count": 4,
   "metadata": {},
   "outputs": [
    {
     "data": {
      "text/plain": [
       "array([44, 47, 64, 67, 67,  9, 83, 21, 36, 87])"
      ]
     },
     "execution_count": 4,
     "metadata": {},
     "output_type": "execute_result"
    }
   ],
   "source": [
    "C_ls"
   ]
  },
  {
   "cell_type": "markdown",
   "metadata": {},
   "source": [
    "### 섭씨온도 데이타에 상응하는 화씨온도를 생성\n",
    "#### <span style=\"color:blue\">우리가 알고있던 기존의 섭씨-화씨변환 공식을 적용해서 위 섭씨온도 데이타에 대응하는 화씨온도 데이타를 생성.</span> \n",
    "이 데이타가 오늘 다룰 학습 모델 알고리즘의 Label이 될 것이다."
   ]
  },
  {
   "cell_type": "markdown",
   "metadata": {},
   "source": [
    "### Bias (편향 찾기) -- Weight는 1.8"
   ]
  },
  {
   "cell_type": "markdown",
   "metadata": {},
   "source": [
    "####  <span style=\"color:blue\">Weight는 1.8로 주고 Bias를 직관적으로 한번 찾아보겠다.</span>"
   ]
  },
  {
   "cell_type": "code",
   "execution_count": 5,
   "metadata": {},
   "outputs": [],
   "source": [
    "F = C*1.8 + 32"
   ]
  },
  {
   "cell_type": "code",
   "execution_count": 6,
   "metadata": {},
   "outputs": [
    {
     "name": "stdout",
     "output_type": "stream",
     "text": [
      "(100,)\n",
      "[111.2 116.6 147.2 152.6 152.6  48.2 181.4  69.8  96.8 188.6]\n"
     ]
    }
   ],
   "source": [
    "print(F.shape)\n",
    "print(F[:10])"
   ]
  },
  {
   "cell_type": "code",
   "execution_count": null,
   "metadata": {},
   "outputs": [],
   "source": []
  },
  {
   "cell_type": "markdown",
   "metadata": {},
   "source": [
    "### Visualization\n",
    "위에서 만든 섭씨, 화씨 온도를 Feature, Label이 되도록 그려본다."
   ]
  },
  {
   "cell_type": "code",
   "execution_count": 7,
   "metadata": {},
   "outputs": [
    {
     "data": {
      "image/png": "[encoded data removed]",
      "text/plain": [
       "<Figure size 432x288 with 1 Axes>"
      ]
     },
     "metadata": {
      "needs_background": "light"
     },
     "output_type": "display_data"
    }
   ],
   "source": [
    "plt.scatter(C, F)\n",
    "plt.plot(C, F, 'r')\n",
    "plt.xlabel('Celsius')\n",
    "plt.ylabel('Fahrenheit')\n",
    "plt.show()"
   ]
  },
  {
   "cell_type": "markdown",
   "metadata": {},
   "source": [
    "#### Bias(편향) 찾기 - weight는 1.8로 지정"
   ]
  },
  {
   "cell_type": "code",
   "execution_count": 8,
   "metadata": {},
   "outputs": [],
   "source": [
    "# 먼저 앞서 생성한 섭씨온도 X, 화씨온도 y 변수에 할당\n",
    "X = C\n",
    "y = F # 화씨온도가 라벨이기 때문에 ... 1차원으로밖에 나올 수 없다."
   ]
  },
  {
   "cell_type": "code",
   "execution_count": 9,
   "metadata": {},
   "outputs": [
    {
     "name": "stdout",
     "output_type": "stream",
     "text": [
      "1.8 -0.7236340973027724\n"
     ]
    }
   ],
   "source": [
    "w = 1.8\n",
    "# b 값은 랜덤하게 지정하자. 학습이 용이하게 될 수 있는 값으로..\n",
    "b = np.random.uniform(low=-1.0, high=1.0)\n",
    "\n",
    "print(w,b)"
   ]
  },
  {
   "cell_type": "code",
   "execution_count": 10,
   "metadata": {},
   "outputs": [
    {
     "name": "stdout",
     "output_type": "stream",
     "text": [
      "[ 78.4763659  83.8763659 114.4763659 119.8763659 119.8763659  15.4763659\n",
      " 148.6763659  37.0763659  64.0763659 155.8763659]\n"
     ]
    }
   ],
   "source": [
    "# 위에서 지정한 w(1.8), b(랜덤한 값)를 가지고 가설을 하나 세우자.\n",
    "y_predict = X*w + b\n",
    "print(y_predict[:10])"
   ]
  },
  {
   "cell_type": "code",
   "execution_count": 11,
   "metadata": {},
   "outputs": [
    {
     "data": {
      "image/png": "[encoded data removed]",
      "text/plain": [
       "<Figure size 432x288 with 1 Axes>"
      ]
     },
     "metadata": {
      "needs_background": "light"
     },
     "output_type": "display_data"
    }
   ],
   "source": [
    "plt.scatter(C, F)\n",
    "plt.plot(X, y_predict, 'r')\n",
    "plt.xlabel('Celsius')\n",
    "plt.ylabel('Fahrenheit')\n",
    "plt.show()"
   ]
  },
  {
   "cell_type": "code",
   "execution_count": 12,
   "metadata": {},
   "outputs": [
    {
     "data": {
      "text/plain": [
       "32.0"
      ]
     },
     "execution_count": 12,
     "metadata": {},
     "output_type": "execute_result"
    }
   ],
   "source": [
    "# (y_predict - y) 다시 말해서 오차\n",
    "# 오차만큼 다시 bias에 보정을 해주면 된다.\n",
    "b = (b - (y_predict-y)).mean()\n",
    "b"
   ]
  },
  {
   "cell_type": "code",
   "execution_count": 13,
   "metadata": {},
   "outputs": [
    {
     "data": {
      "text/plain": [
       "array([111.2, 116.6, 147.2, 152.6, 152.6,  48.2, 181.4,  69.8,  96.8,\n",
       "       188.6])"
      ]
     },
     "execution_count": 13,
     "metadata": {},
     "output_type": "execute_result"
    }
   ],
   "source": [
    "y_predict = w*X+b\n",
    "y_predict[:10]"
   ]
  },
  {
   "cell_type": "code",
   "execution_count": 14,
   "metadata": {},
   "outputs": [
    {
     "data": {
      "image/png": "[encoded data removed]",
      "text/plain": [
       "<Figure size 432x288 with 1 Axes>"
      ]
     },
     "metadata": {
      "needs_background": "light"
     },
     "output_type": "display_data"
    }
   ],
   "source": [
    "plt.scatter(C, F)\n",
    "plt.plot(X, y_predict, 'r')\n",
    "plt.xlabel('Celsius')\n",
    "plt.ylabel('Fahrenheit')\n",
    "plt.show()"
   ]
  },
  {
   "cell_type": "code",
   "execution_count": 15,
   "metadata": {},
   "outputs": [
    {
     "data": {
      "text/plain": [
       "0.0"
      ]
     },
     "execution_count": 15,
     "metadata": {},
     "output_type": "execute_result"
    }
   ],
   "source": [
    "sum((y_predict - y)**2)/100"
   ]
  },
  {
   "cell_type": "markdown",
   "metadata": {},
   "source": [
    "### w, b 모두 랜덤한 값으로 지정하기"
   ]
  },
  {
   "cell_type": "code",
   "execution_count": 16,
   "metadata": {},
   "outputs": [
    {
     "data": {
      "text/plain": [
       "(-0.606835276639893, -0.2625496586780718)"
      ]
     },
     "execution_count": 16,
     "metadata": {},
     "output_type": "execute_result"
    }
   ],
   "source": [
    "w = np.random.uniform(low=-1.0, high=1.0)\n",
    "b = np.random.uniform(low=-1.0, high=1.0)\n",
    "w, b"
   ]
  },
  {
   "cell_type": "code",
   "execution_count": 17,
   "metadata": {},
   "outputs": [
    {
     "data": {
      "text/plain": [
       "array([-26.96330183, -28.78380766, -39.10000736, -40.92051319,\n",
       "       -40.92051319,  -5.72406715, -50.62987762, -13.00609047,\n",
       "       -22.10861962, -53.05721873])"
      ]
     },
     "execution_count": 17,
     "metadata": {},
     "output_type": "execute_result"
    }
   ],
   "source": [
    "y_predict = w*X + b\n",
    "y_predict[:10]"
   ]
  },
  {
   "cell_type": "code",
   "execution_count": 18,
   "metadata": {},
   "outputs": [
    {
     "data": {
      "text/plain": [
       "[<matplotlib.lines.Line2D at 0x16ad2857430>]"
      ]
     },
     "execution_count": 18,
     "metadata": {},
     "output_type": "execute_result"
    },
    {
     "data": {
      "image/png": "[encoded data removed]",
      "text/plain": [
       "<Figure size 432x288 with 1 Axes>"
      ]
     },
     "metadata": {
      "needs_background": "light"
     },
     "output_type": "display_data"
    }
   ],
   "source": [
    "plt.scatter(C,F)\n",
    "plt.plot(X, y_predict, 'r')"
   ]
  },
  {
   "cell_type": "markdown",
   "metadata": {},
   "source": [
    "### Gradient Descent"
   ]
  },
  {
   "cell_type": "markdown",
   "metadata": {},
   "source": [
    "### 가중치(Weight, W), 편향(Bias, B) 찾기\n",
    "####  <span style=\"color:red\">이제 경사하강법(Gradient Descent)을 사용하여 섭씨온도를 화씨온도로 변환해줄 주 있는 공식을 찾아보겠다.</span>\n",
    "공식의 세부내용은 모른다치고, 두 변수(X,y)가 선형(Linear)과 관계있음을 가정(y=X * w + b)하여 가중치(weight)와 편차(bias)를 정의해 둔다. 그리고 경사하강법을 이용해서 선형회귀를 학습시킨다.\n",
    "학습이 완료되면, 얻어진 최적의 가중치와 편차로 섭씨온도를 화씨온도로 변환해주는 공식을 만들어 줄수 있다.\n",
    "학습은 모든 epoch이 끝날 때까지 반복할 수도 있지만, 여기선 오차(error)가 0.1 이하가 되면 학습을 종료하도록 한다."
   ]
  },
  {
   "cell_type": "code",
   "execution_count": 26,
   "metadata": {},
   "outputs": [
    {
     "name": "stdout",
     "output_type": "stream",
     "text": [
      "epoch :     0, w : 2.133056, b : -0.717450, error : 140.524047\n",
      "epoch : 10000, w : 2.035026, b : 16.782469, error : 6.364875\n",
      "epoch : 20000, w : 1.909324, b : 24.921451, error : 2.960670\n",
      "epoch : 30000, w : 1.850853, b : 28.707360, error : 1.377178\n",
      "epoch : 40000, w : 1.823655, b : 30.468404, error : 0.640605\n",
      "epoch : 50000, w : 1.811003, b : 31.287566, error : 0.297982\n",
      "epoch : 60000, w : 1.805118, b : 31.668606, error : 0.138609\n",
      "epoch : 70000, w : 1.802381, b : 31.845850, error : 0.064475\n",
      "epoch : 80000, w : 1.801107, b : 31.928296, error : 0.029991\n",
      "epoch : 90000, w : 1.800515, b : 31.966646, error : 0.013951\n",
      "epoch : 100000, w : 1.800240, b : 31.984485, error : 0.006489\n",
      "epoch : 110000, w : 1.800111, b : 31.992783, error : 0.003018\n",
      "epoch : 120000, w : 1.800052, b : 31.996643, error : 0.001404\n",
      "epoch : 130000, w : 1.800024, b : 31.998438, error : 0.000653\n",
      "epoch : 140000, w : 1.800011, b : 31.999274, error : 0.000304\n",
      "epoch : 150000, w : 1.800005, b : 31.999662, error : 0.000141\n",
      "****************************************************************************************************\n",
      "epoch : 154519, w : 1.800004, b : 31.999761, error : 0.000100\n"
     ]
    }
   ],
   "source": [
    "num_epoch = 1000000 # epoch : 한번 학습을 몇번 반복할지를 정하는 것(즉, 몇번의 for문을 돌릴지를 세팅한다.)\n",
    "learning_rate = 0.0003\n",
    "\n",
    "w = np.random.uniform(low=-1.0, high=1.0)\n",
    "b = np.random.uniform(low=-1.0, high=1.0)\n",
    "change_ls = []\n",
    "\n",
    "for epoch in range(num_epoch) :\n",
    "    y_predict = w*X+b\n",
    "    \n",
    "    error = np.abs(y_predict-y).mean()\n",
    "    if error < 0.0001 :\n",
    "        break\n",
    "    \n",
    "    w = w - learning_rate * ((y_predict - y) * X).mean()\n",
    "    b = b - learning_rate * (y_predict - y).mean()\n",
    "    change_ls.append((w, b))\n",
    "    \n",
    "    # 10000회마다 epoch, b, w error(cost)를 출력해서 확인..\n",
    "    if epoch % 10000 == 0 :\n",
    "        print(f'epoch : {epoch:5}, w : {w:.6f}, b : {b:.6f}, error : {error:.6f}')\n",
    "        \n",
    "print('*'*100)\n",
    "print(f'epoch : {epoch:5}, w : {w:.6f}, b : {b:.6f}, error : {error:.6f}')"
   ]
  },
  {
   "cell_type": "markdown",
   "metadata": {},
   "source": [
    "### Predict"
   ]
  },
  {
   "cell_type": "code",
   "execution_count": 27,
   "metadata": {},
   "outputs": [
    {
     "data": {
      "text/plain": [
       "array([111.19992338, 116.59993446, 147.19999724, 152.60000831,\n",
       "       152.60000831])"
      ]
     },
     "execution_count": 27,
     "metadata": {},
     "output_type": "execute_result"
    }
   ],
   "source": [
    "y_predict = w*C + b\n",
    "y_predict[:5]"
   ]
  },
  {
   "cell_type": "markdown",
   "metadata": {},
   "source": [
    "#### <span style=\"color:blue\">선형 회귀의 학습이 끝났으면, 이제 이 머신러닝 알고리즘을 활용하여 변환공식을 완성하고, 주어진 섭씨온도를 화씨온도로 변환(혹은 섭씨온도로 화씨온도를 예측)할 수 있습니다. 앞서 만들어준 데이터를 그대로 활용하여 주어진 섭씨온도(C)로 화씨온도를 예측해보겠습니다.</span>"
   ]
  },
  {
   "cell_type": "markdown",
   "metadata": {},
   "source": [
    "### DataFrame Visualization"
   ]
  },
  {
   "cell_type": "code",
   "execution_count": 29,
   "metadata": {},
   "outputs": [
    {
     "data": {
      "text/html": [
       "<div>\n",
       "<style scoped>\n",
       "    .dataframe tbody tr th:only-of-type {\n",
       "        vertical-align: middle;\n",
       "    }\n",
       "\n",
       "    .dataframe tbody tr th {\n",
       "        vertical-align: top;\n",
       "    }\n",
       "\n",
       "    .dataframe thead th {\n",
       "        text-align: right;\n",
       "    }\n",
       "</style>\n",
       "<table border=\"1\" class=\"dataframe\">\n",
       "  <thead>\n",
       "    <tr style=\"text-align: right;\">\n",
       "      <th></th>\n",
       "      <th>C</th>\n",
       "      <th>F</th>\n",
       "      <th>F(predict)</th>\n",
       "    </tr>\n",
       "  </thead>\n",
       "  <tbody>\n",
       "    <tr>\n",
       "      <th>0</th>\n",
       "      <td>44</td>\n",
       "      <td>111.2</td>\n",
       "      <td>111.199923</td>\n",
       "    </tr>\n",
       "    <tr>\n",
       "      <th>1</th>\n",
       "      <td>47</td>\n",
       "      <td>116.6</td>\n",
       "      <td>116.599934</td>\n",
       "    </tr>\n",
       "    <tr>\n",
       "      <th>2</th>\n",
       "      <td>64</td>\n",
       "      <td>147.2</td>\n",
       "      <td>147.199997</td>\n",
       "    </tr>\n",
       "    <tr>\n",
       "      <th>3</th>\n",
       "      <td>67</td>\n",
       "      <td>152.6</td>\n",
       "      <td>152.600008</td>\n",
       "    </tr>\n",
       "    <tr>\n",
       "      <th>4</th>\n",
       "      <td>67</td>\n",
       "      <td>152.6</td>\n",
       "      <td>152.600008</td>\n",
       "    </tr>\n",
       "    <tr>\n",
       "      <th>5</th>\n",
       "      <td>9</td>\n",
       "      <td>48.2</td>\n",
       "      <td>48.199794</td>\n",
       "    </tr>\n",
       "    <tr>\n",
       "      <th>6</th>\n",
       "      <td>83</td>\n",
       "      <td>181.4</td>\n",
       "      <td>181.400067</td>\n",
       "    </tr>\n",
       "    <tr>\n",
       "      <th>7</th>\n",
       "      <td>21</td>\n",
       "      <td>69.8</td>\n",
       "      <td>69.799838</td>\n",
       "    </tr>\n",
       "    <tr>\n",
       "      <th>8</th>\n",
       "      <td>36</td>\n",
       "      <td>96.8</td>\n",
       "      <td>96.799894</td>\n",
       "    </tr>\n",
       "    <tr>\n",
       "      <th>9</th>\n",
       "      <td>87</td>\n",
       "      <td>188.6</td>\n",
       "      <td>188.600082</td>\n",
       "    </tr>\n",
       "  </tbody>\n",
       "</table>\n",
       "</div>"
      ],
      "text/plain": [
       "    C      F  F(predict)\n",
       "0  44  111.2  111.199923\n",
       "1  47  116.6  116.599934\n",
       "2  64  147.2  147.199997\n",
       "3  67  152.6  152.600008\n",
       "4  67  152.6  152.600008\n",
       "5   9   48.2   48.199794\n",
       "6  83  181.4  181.400067\n",
       "7  21   69.8   69.799838\n",
       "8  36   96.8   96.799894\n",
       "9  87  188.6  188.600082"
      ]
     },
     "execution_count": 29,
     "metadata": {},
     "output_type": "execute_result"
    }
   ],
   "source": [
    "result = pd.DataFrame({'C' : C, 'F' : F, 'F(predict)' : y_predict})\n",
    "result.head(10)"
   ]
  },
  {
   "cell_type": "code",
   "execution_count": 30,
   "metadata": {},
   "outputs": [
    {
     "data": {
      "image/png": "[encoded data removed]",
      "text/plain": [
       "<Figure size 432x288 with 1 Axes>"
      ]
     },
     "metadata": {
      "needs_background": "light"
     },
     "output_type": "display_data"
    }
   ],
   "source": [
    "plt.scatter(C,F)\n",
    "plt.plot(C, y_predict, 'r')\n",
    "plt.show()"
   ]
  },
  {
   "cell_type": "code",
   "execution_count": null,
   "metadata": {},
   "outputs": [],
   "source": []
  }
 ],
 "metadata": {
  "kernelspec": {
   "display_name": "Python 3",
   "language": "python",
   "name": "python3"
  },
  "language_info": {
   "codemirror_mode": {
    "name": "ipython",
    "version": 3
   },
   "file_extension": ".py",
   "mimetype": "text/x-python",
   "name": "python",
   "nbconvert_exporter": "python",
   "pygments_lexer": "ipython3",
   "version": "3.8.8"
  }
 },
 "nbformat": 4,
 "nbformat_minor": 4
}

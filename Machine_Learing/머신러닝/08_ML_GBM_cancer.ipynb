{
 "cells": [
  {
   "cell_type": "markdown",
   "id": "2858a111-2acb-4820-8669-cef469e69b34",
   "metadata": {},
   "source": [
    "- Bagging\n",
    "    - 하나의 트레이닝 샘플로부터 여러개의 샘플을 만든다.\n",
    "    - 각각의 샘플들을 학습\n",
    "    - 각각의 예측결과가 도출, 그 값들을 평균낸다.\n",
    "\n",
    "- Boosting\n",
    "    - 하나의 트레이닝 모델이 있으면 그 모델을 학습시킨 결과로 예측값을 얻는다\n",
    "    - 나온 예측값을 바탕으로 성능을 평가할 수 있다.(오차)\n",
    "    - 오차가 점점 작아지는 방향으로 학습을 계속 진행\n",
    "    - 오차를 바탕으로 기존의 특성값의 가중치를 재분배\n",
    "    "
   ]
  },
  {
   "cell_type": "markdown",
   "id": "b331da08-0e57-41ef-8cf3-624bd99211c8",
   "metadata": {},
   "source": [
    "# GBM (GradientBoosting)\n",
    "\n",
    "- Boosting 알고리즘의 대표적인 모델\n",
    "- 모델을 학습 - 예측하면서 오차(Residual)를 구할 수 있다.\n",
    "- 도출된 오차를 기반으로 다시 기존 데이터의 weight를 수정(가중치 업데이트)하면서 재 학습한다.\n",
    "- 오차를 줄이는 방법으로 진행되며 모델학습이 된다.\n",
    "- Gradient Descent를 사용한다.\n",
    "- Learning rate(학습률) 조정을 필요로 한다"
   ]
  },
  {
   "cell_type": "code",
   "execution_count": 1,
   "id": "6c88e5cb-fc0f-42e1-893b-f38426303ed6",
   "metadata": {},
   "outputs": [],
   "source": [
    "from sklearn.datasets import load_breast_cancer\n",
    "from sklearn.ensemble import GradientBoostingClassifier\n",
    "from sklearn.model_selection import train_test_split\n",
    "import matplotlib.pyplot as plt\n",
    "import numpy as np"
   ]
  },
  {
   "cell_type": "code",
   "execution_count": 2,
   "id": "438a3023-33c8-4f4d-89ad-facf93555f0b",
   "metadata": {},
   "outputs": [],
   "source": [
    "cancer = load_breast_cancer()"
   ]
  },
  {
   "cell_type": "code",
   "execution_count": 3,
   "id": "8111b41f-9224-43b3-a877-ce80c5bd41cc",
   "metadata": {},
   "outputs": [],
   "source": [
    "X_train, X_test, y_train, y_test = train_test_split(cancer.data, cancer.target)"
   ]
  },
  {
   "cell_type": "code",
   "execution_count": 14,
   "id": "9e3e4272-1bae-4826-97df-613f64930043",
   "metadata": {},
   "outputs": [
    {
     "name": "stdout",
     "output_type": "stream",
     "text": [
      "학습 성능(accuracy) :  0.9906103286384976\n",
      "테스트 성능(accuracy) :  0.9370629370629371\n"
     ]
    }
   ],
   "source": [
    "# 모델 생성\n",
    "# gbm = GradientBoostingClassifier(random_state=0)\n",
    "# gbm = GradientBoostingClassifier(max_depth=2, random_state=0)\n",
    "gbm = GradientBoostingClassifier(learning_rate=0.01, random_state=0)\n",
    "# 모델 학습\n",
    "gbm.fit(X_train, y_train)\n",
    "\n",
    "train_score = gbm.score(X_train, y_train)\n",
    "print('학습 성능(accuracy) : ', train_score)\n",
    "test_score = gbm.score(X_test, y_test)\n",
    "print('테스트 성능(accuracy) : ',test_score)"
   ]
  },
  {
   "cell_type": "code",
   "execution_count": null,
   "id": "c920a436-c1f8-48ae-a454-7bafaf911604",
   "metadata": {},
   "outputs": [],
   "source": []
  },
  {
   "cell_type": "code",
   "execution_count": 16,
   "id": "d15c1d66-194f-4804-880e-11aa5f8ee672",
   "metadata": {},
   "outputs": [
    {
     "data": {
      "image/png": "[encoded data removed]",
      "text/plain": [
       "<Figure size 576x432 with 1 Axes>"
      ]
     },
     "metadata": {
      "needs_background": "light"
     },
     "output_type": "display_data"
    }
   ],
   "source": [
    "# 특성 중요도\n",
    "def plot_feature_importances(model) :\n",
    "    n_feature = cancer.data.shape[1]\n",
    "    plt.figure(figsize=(8,6))\n",
    "    plt.barh(range(n_feature), model.feature_importances_, align='center')\n",
    "    plt.yticks(np.arange(n_feature), cancer.feature_names)\n",
    "    plt.xlabel('Feature Importances')\n",
    "    plt.ylabel('Feature')\n",
    "    \n",
    "plot_feature_importances(gbm)"
   ]
  },
  {
   "cell_type": "markdown",
   "id": "f7028253-a33c-46b7-aed2-3fcd5e67eefb",
   "metadata": {},
   "source": [
    "## GridSearch Hyperparameter Tuning"
   ]
  },
  {
   "cell_type": "code",
   "execution_count": 17,
   "id": "353f8240-2424-47f1-a6fb-22482b0d7c1d",
   "metadata": {},
   "outputs": [],
   "source": [
    "from sklearn.model_selection import GridSearchCV"
   ]
  },
  {
   "cell_type": "code",
   "execution_count": 19,
   "id": "c54d518c-9dfc-4565-a2e1-9857ae466540",
   "metadata": {},
   "outputs": [
    {
     "data": {
      "text/plain": [
       "GridSearchCV(estimator=GradientBoostingClassifier(), n_jobs=-1,\n",
       "             param_grid={'learning_rate': [10, 1, 0.1, 0.01, 0.001, 0.0001],\n",
       "                         'max_depth': [4, 6, 9, 12],\n",
       "                         'n_estimators': [100, 150, 200, 250]})"
      ]
     },
     "execution_count": 19,
     "metadata": {},
     "output_type": "execute_result"
    }
   ],
   "source": [
    "# Boosting 에서 가장 많이 사용하는 하이퍼 파라미터\n",
    "# learning rate, max_depth, n_estimators...\n",
    "param = {\n",
    "    'n_estimators' : [100, 150, 200, 250],\n",
    "    'max_depth' : [4,6,9,12],\n",
    "    'learning_rate' : [10, 1, 0.1, 0.01, 0.001, 0.0001]\n",
    "}\n",
    "\n",
    "gmodel = GradientBoostingClassifier()\n",
    "grid_search = GridSearchCV(gmodel, param_grid=param, n_jobs=-1)\n",
    "grid_search.fit(X_train, y_train)"
   ]
  },
  {
   "cell_type": "code",
   "execution_count": 21,
   "id": "bc45cc2b-e0a6-440c-8a35-aec6adf63b07",
   "metadata": {},
   "outputs": [
    {
     "data": {
      "text/plain": [
       "GradientBoostingClassifier(learning_rate=1, max_depth=4, n_estimators=150)"
      ]
     },
     "execution_count": 21,
     "metadata": {},
     "output_type": "execute_result"
    }
   ],
   "source": [
    "grid_search.best_estimator_"
   ]
  },
  {
   "cell_type": "code",
   "execution_count": 20,
   "id": "211f87be-907e-4aa0-8832-b8c3adea5eaf",
   "metadata": {},
   "outputs": [
    {
     "data": {
      "text/plain": [
       "{'learning_rate': 1, 'max_depth': 4, 'n_estimators': 150}"
      ]
     },
     "execution_count": 20,
     "metadata": {},
     "output_type": "execute_result"
    }
   ],
   "source": [
    "grid_search.best_params_"
   ]
  },
  {
   "cell_type": "code",
   "execution_count": 22,
   "id": "201abdf9-5947-433b-a0b0-3b6dda6582ce",
   "metadata": {},
   "outputs": [
    {
     "name": "stdout",
     "output_type": "stream",
     "text": [
      "1.0\n",
      "0.951048951048951\n"
     ]
    }
   ],
   "source": [
    "gmodel = GradientBoostingClassifier(max_depth=4, n_estimators=150, learning_rate=1)\n",
    "gmodel.fit(X_train, y_train)\n",
    "print(gmodel.score(X_train, y_train))\n",
    "print(gmodel.score(X_test, y_test))"
   ]
  },
  {
   "cell_type": "code",
   "execution_count": null,
   "id": "12a01bc8-d2db-4ef5-b79b-4b862f0a8d1b",
   "metadata": {},
   "outputs": [],
   "source": [
    "\n"
   ]
  }
 ],
 "metadata": {
  "kernelspec": {
   "display_name": "Python 3",
   "language": "python",
   "name": "python3"
  },
  "language_info": {
   "codemirror_mode": {
    "name": "ipython",
    "version": 3
   },
   "file_extension": ".py",
   "mimetype": "text/x-python",
   "name": "python",
   "nbconvert_exporter": "python",
   "pygments_lexer": "ipython3",
   "version": "3.8.8"
  }
 },
 "nbformat": 4,
 "nbformat_minor": 5
}

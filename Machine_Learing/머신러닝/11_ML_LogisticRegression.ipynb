{
 "cells": [
  {
   "cell_type": "markdown",
   "metadata": {},
   "source": [
    "## 로지스틱 회귀(Logistic Regression) - 심화\n",
    "\n",
    "선형회귀(Linear Regression) 경우,<br>\n",
    "공부한 시간(2,3,6,9,11시간)과 기말고사 성적(60,65,70,80,90점)과의 관계를 학습한 결과로<br>\n",
    "새로운 데이타(13시간)가 들어왔을때 성적을 예측하는 모델로 사용됩니다.<br>\n",
    "\n",
    "반면에 로지스틱회귀(Rogistic Regression) 경우,<br>\n",
    "Classification(분류) 문제를 다루는 모델입니다.<br>\n",
    "맞다 / 틀리다, 살았다 /죽었다, 암이다 / 암이 아니다 ...경우처럼<br>\n",
    "Target의 카테고리가 2개인 이진 분류에서 주로 사용되는 회귀 모델입니다.<br>\n",
    "\n",
    "즉, Linear Regression은 연속적인 숫자 선상에 있는 값을 예측할때 사용하는 모델이고<br>\n",
    "Rogistic Regression은 둘중 하나르 선택할 때 사용하는 모델이라 할 수 있습니다."
   ]
  },
  {
   "cell_type": "markdown",
   "metadata": {},
   "source": [
    "### Configuration"
   ]
  },
  {
   "cell_type": "code",
   "execution_count": 1,
   "metadata": {},
   "outputs": [],
   "source": [
    "import numpy as np\n",
    "import pandas as pd\n",
    "import matplotlib.pyplot as plt"
   ]
  },
  {
   "cell_type": "markdown",
   "metadata": {},
   "source": [
    "### Generate Datasets\n",
    "로지스틱 회귀를 가장 잘 이해할 수 있는 데이타셋을 예시로 들어보겠습니다.<br>\n",
    "Feature 생성 - salaries, satisfactions<br>\n",
    "\n",
    "S전자 신입사원 10명의 (2년후) 연봉 정보를 가져옵니다.<br>\n",
    "이를 salaries라는 변수에 할당한 후, 행렬 연산을 편하게 하기 위해 Numpy의 배열로 변경해줍니다.<br>\n",
    "단 여기서 편의를 위해서 단위는 1,000만원으로 하겠습니다.(가령 5.0이면 연봉 5천만원)"
   ]
  },
  {
   "cell_type": "markdown",
   "metadata": {},
   "source": [
    "#### salaries"
   ]
  },
  {
   "cell_type": "code",
   "execution_count": 2,
   "metadata": {},
   "outputs": [
    {
     "data": {
      "text/plain": [
       "array([5.  , 5.5 , 5.3 , 6.2 , 5.25, 5.2 , 5.5 , 4.9 , 5.35, 5.25])"
      ]
     },
     "execution_count": 2,
     "metadata": {},
     "output_type": "execute_result"
    }
   ],
   "source": [
    "salaries = [5.0, 5.5, 5.3, 6.2, 5.25, 5.2, 5.5, 4.9, 5.35, 5.25]\n",
    "salaries = np.array(salaries)\n",
    "\n",
    "salaries"
   ]
  },
  {
   "cell_type": "markdown",
   "metadata": {},
   "source": [
    "#### satisfactions\n",
    "\n",
    "S전자 신입사원 10명의 업무 만족도 정보를 가져옵니다.<br>\n",
    "점수는 1점부터 10점으로 구성되어 있습니다. <br>\n",
    "이를 satisfactions 라는 변수에 할당한 뒤, 행렬 연산을 편하게 하기 위해서 역시 Numpy의 array() 함수를 사용하겠습니다."
   ]
  },
  {
   "cell_type": "code",
   "execution_count": 5,
   "metadata": {},
   "outputs": [
    {
     "data": {
      "text/plain": [
       "array([3, 7, 4, 9, 8, 6, 5, 4, 6, 7])"
      ]
     },
     "execution_count": 5,
     "metadata": {},
     "output_type": "execute_result"
    }
   ],
   "source": [
    "satisfactions = [3, 7, 4, 9, 8, 6, 5, 4, 6, 7]\n",
    "satisfactions = np.array(satisfactions)\n",
    "\n",
    "satisfactions"
   ]
  },
  {
   "cell_type": "markdown",
   "metadata": {},
   "source": [
    "#### Label생성  -   stay\n",
    "\n",
    "위에서 2개의 feature를 만들었습니다.<br>\n",
    "그리고 위 신입사원들의 이직 여부(회사 잔류여부)를 표현한 데이타를 생성합니다.<br>\n",
    "이 데이타가 오늘 다룰 머신러닝 알고리즘의 Label이 될 것입니다.<br>\n",
    "\n",
    "S전자 신입사원 10명의 이직 여부(회사 잔류여부)를 저장합니다.<br>\n",
    "이직하지 않고 회사에 남아있는 경우 True 값을 넣으며, 반대로 다른 회사로 이직했을 경우 False라는 값을 넣습니다.<br>\n",
    "이 값들을 stay라는 변수에 할당한 후<br>\n",
    "역시 행렬연산을 위해서 Numpy의 array()를 사용합니다."
   ]
  },
  {
   "cell_type": "code",
   "execution_count": 6,
   "metadata": {},
   "outputs": [
    {
     "data": {
      "text/plain": [
       "array([False,  True, False,  True,  True,  True,  True, False,  True,\n",
       "        True])"
      ]
     },
     "execution_count": 6,
     "metadata": {},
     "output_type": "execute_result"
    }
   ],
   "source": [
    "stay = [False, True, False, True, True, True, True, False, True, True]\n",
    "stay = np.array(stay)\n",
    "\n",
    "stay"
   ]
  },
  {
   "cell_type": "markdown",
   "metadata": {},
   "source": [
    "### Visualize - DataFrame\n",
    "\n",
    "앞서 생성한 데이타를 하나로 묶어서 표(Table) 로 표현합니다.<br>\n",
    "그리고 기 결과를 example 이라는 변수에 할당합니다."
   ]
  },
  {
   "cell_type": "code",
   "execution_count": 9,
   "metadata": {},
   "outputs": [
    {
     "data": {
      "text/html": [
       "<div>\n",
       "<style scoped>\n",
       "    .dataframe tbody tr th:only-of-type {\n",
       "        vertical-align: middle;\n",
       "    }\n",
       "\n",
       "    .dataframe tbody tr th {\n",
       "        vertical-align: top;\n",
       "    }\n",
       "\n",
       "    .dataframe thead th {\n",
       "        text-align: right;\n",
       "    }\n",
       "</style>\n",
       "<table border=\"1\" class=\"dataframe\">\n",
       "  <thead>\n",
       "    <tr style=\"text-align: right;\">\n",
       "      <th></th>\n",
       "      <th>연봉</th>\n",
       "      <th>업무만족도</th>\n",
       "      <th>잔류</th>\n",
       "    </tr>\n",
       "  </thead>\n",
       "  <tbody>\n",
       "    <tr>\n",
       "      <th>0</th>\n",
       "      <td>5.00</td>\n",
       "      <td>3</td>\n",
       "      <td>False</td>\n",
       "    </tr>\n",
       "    <tr>\n",
       "      <th>1</th>\n",
       "      <td>5.50</td>\n",
       "      <td>7</td>\n",
       "      <td>True</td>\n",
       "    </tr>\n",
       "    <tr>\n",
       "      <th>2</th>\n",
       "      <td>5.30</td>\n",
       "      <td>4</td>\n",
       "      <td>False</td>\n",
       "    </tr>\n",
       "    <tr>\n",
       "      <th>3</th>\n",
       "      <td>6.20</td>\n",
       "      <td>9</td>\n",
       "      <td>True</td>\n",
       "    </tr>\n",
       "    <tr>\n",
       "      <th>4</th>\n",
       "      <td>5.25</td>\n",
       "      <td>8</td>\n",
       "      <td>True</td>\n",
       "    </tr>\n",
       "    <tr>\n",
       "      <th>5</th>\n",
       "      <td>5.20</td>\n",
       "      <td>6</td>\n",
       "      <td>True</td>\n",
       "    </tr>\n",
       "    <tr>\n",
       "      <th>6</th>\n",
       "      <td>5.50</td>\n",
       "      <td>5</td>\n",
       "      <td>True</td>\n",
       "    </tr>\n",
       "    <tr>\n",
       "      <th>7</th>\n",
       "      <td>4.90</td>\n",
       "      <td>4</td>\n",
       "      <td>False</td>\n",
       "    </tr>\n",
       "    <tr>\n",
       "      <th>8</th>\n",
       "      <td>5.35</td>\n",
       "      <td>6</td>\n",
       "      <td>True</td>\n",
       "    </tr>\n",
       "    <tr>\n",
       "      <th>9</th>\n",
       "      <td>5.25</td>\n",
       "      <td>7</td>\n",
       "      <td>True</td>\n",
       "    </tr>\n",
       "  </tbody>\n",
       "</table>\n",
       "</div>"
      ],
      "text/plain": [
       "     연봉  업무만족도     잔류\n",
       "0  5.00      3  False\n",
       "1  5.50      7   True\n",
       "2  5.30      4  False\n",
       "3  6.20      9   True\n",
       "4  5.25      8   True\n",
       "5  5.20      6   True\n",
       "6  5.50      5   True\n",
       "7  4.90      4  False\n",
       "8  5.35      6   True\n",
       "9  5.25      7   True"
      ]
     },
     "execution_count": 9,
     "metadata": {},
     "output_type": "execute_result"
    }
   ],
   "source": [
    "example = pd.DataFrame({'연봉' : salaries, '업무만족도' : satisfactions, '잔류' : stay})\n",
    "example"
   ]
  },
  {
   "cell_type": "markdown",
   "metadata": {},
   "source": [
    "### Visualize - Matplotlib\n",
    "\n",
    "주어진 데이타를 바탕으로 연봉과 업무만족도가 이직에 얼마나 영향을 미치는지 시각화 할수 있습니다.<br>\n",
    "보라색은 퇴직한 사람.<br>\n",
    "c는 Color로 이직여부로 구분을 했습니다.<br>"
   ]
  },
  {
   "cell_type": "code",
   "execution_count": 11,
   "metadata": {},
   "outputs": [
    {
     "data": {
      "image/png": "[encoded data removed]",
      "text/plain": [
       "<Figure size 432x288 with 1 Axes>"
      ]
     },
     "metadata": {
      "needs_background": "light"
     },
     "output_type": "display_data"
    }
   ],
   "source": [
    "plt.scatter(salaries, satisfactions, c=stay)\n",
    "plt.show()"
   ]
  },
  {
   "cell_type": "markdown",
   "metadata": {},
   "source": [
    "### Define Sigmoid\n",
    "\n",
    "\n",
    "RogisticRegression 모델에는 Sigmoid 함수를 사용합니다.<br>\n",
    "\n",
    "\n",
    "이제 로지스틱 회귀(Logistic Regression)를 돌리기 위해 필요한 기능을 구현하겠습니다. 먼저 스쿼싱 함수(Squashing Function)로 사용할 시그모이드(Sigmpod)를 직접 구현해 보겠습니다. 시그모이드 함수의 공식은 다음과 같습니다.\n",
    "\n",
    "$$\\text{sigmoid(x)}  = \\frac{1}{1+ e^{-x}} $$\n",
    "\n",
    "이 공식을 그래프로 시각화 하면 다음과 같이 나올 것입니다.\n",
    "![pic.jpg](https://upload.wikimedia.org/wikipedia/commons/thumb/8/88/Logistic-curve.svg/320px-Logistic-curve.svg.png)\n",
    "\n",
    "이제 위에서 설명한 내용을 바탕으로 시그모이드 함수를 직접 구현해보겠습니다. 시그모이드 함수를 구현하기 위해서는 넘파이(Numpy)에서 지수 함수(exponential fucntion)를 계산하는 ```np.exp```를 사용해야 합니다."
   ]
  },
  {
   "cell_type": "code",
   "execution_count": 12,
   "metadata": {},
   "outputs": [],
   "source": [
    "def sigmoid(x) :\n",
    "    return 1 / (1+np.exp(-x))"
   ]
  },
  {
   "cell_type": "code",
   "execution_count": 13,
   "metadata": {},
   "outputs": [
    {
     "data": {
      "text/plain": [
       "0.5"
      ]
     },
     "execution_count": 13,
     "metadata": {},
     "output_type": "execute_result"
    }
   ],
   "source": [
    "sigmoid(0)"
   ]
  },
  {
   "cell_type": "code",
   "execution_count": 17,
   "metadata": {},
   "outputs": [
    {
     "data": {
      "image/png": "[encoded data removed]",
      "text/plain": [
       "<Figure size 432x288 with 1 Axes>"
      ]
     },
     "metadata": {
      "needs_background": "light"
     },
     "output_type": "display_data"
    }
   ],
   "source": [
    "# 균일한 간격을 가지는 1차원 배열 생성\n",
    "xx = np.linspace(-10, 10)\n",
    "yy = sigmoid(xx)\n",
    "\n",
    "plt.plot(xx,yy)\n",
    "plt.grid()\n",
    "plt.show()"
   ]
  },
  {
   "cell_type": "code",
   "execution_count": null,
   "metadata": {},
   "outputs": [],
   "source": []
  },
  {
   "cell_type": "markdown",
   "metadata": {},
   "source": [
    "### Gradient Descent - 경사하강법"
   ]
  },
  {
   "cell_type": "markdown",
   "metadata": {},
   "source": [
    "이제 본격적으로 로지스틱 회귀 알고리즘을 학습시켜 보겠습니다. <br>\n",
    "먼저 앞서 생성한 두개의 Feature(salaries, satisfactions)를 편의상 각각 x1, x2 라는 변수에 할당합니다.\n",
    "\n",
    "$\n",
    "H(x) = w_1x_1 + w_2x_2 + b\n",
    "$"
   ]
  },
  {
   "cell_type": "code",
   "execution_count": 18,
   "metadata": {},
   "outputs": [
    {
     "data": {
      "text/plain": [
       "(array([5.  , 5.5 , 5.3 , 6.2 , 5.25, 5.2 , 5.5 , 4.9 , 5.35, 5.25]),\n",
       " array([3, 7, 4, 9, 8, 6, 5, 4, 6, 7]))"
      ]
     },
     "execution_count": 18,
     "metadata": {},
     "output_type": "execute_result"
    }
   ],
   "source": [
    "x1 = salaries\n",
    "x2 = satisfactions\n",
    "\n",
    "x1, x2"
   ]
  },
  {
   "cell_type": "markdown",
   "metadata": {},
   "source": [
    "회사의 잔류 여부를 나타내는 stay를 Label로 간주하고 y변수에 할당"
   ]
  },
  {
   "cell_type": "code",
   "execution_count": 19,
   "metadata": {},
   "outputs": [
    {
     "data": {
      "text/plain": [
       "array([False,  True, False,  True,  True,  True,  True, False,  True,\n",
       "        True])"
      ]
     },
     "execution_count": 19,
     "metadata": {},
     "output_type": "execute_result"
    }
   ],
   "source": [
    "y = stay\n",
    "y"
   ]
  },
  {
   "cell_type": "markdown",
   "metadata": {},
   "source": [
    "이제 본격적으로 학습을 시작해봅시다. <br>\n",
    "두 개의 변수 x1과 x2를 가지고 있으니 총 세 개의 값 <br>\n",
    "바로 가중치(weight) w1, w2과, bias인 b를 학습해야 합니다.<br>\n",
    "세 개를 변수로 정의한 뒤, 경사 하강법(Gradient Descent)을 이용해 로지스틱 회귀를 학습시켜줍니다.<br>\n",
    "\n",
    "학습은 모든 epoch이 끝날 때까지 반복할 수도 있지만, <br>\n",
    "여기서는 굳이 그럴 필요없이 정확도(accuracy)가 1.0에 도달하면 학습을 종료하도록 하겠습니다.<br>"
   ]
  },
  {
   "cell_type": "code",
   "execution_count": 33,
   "metadata": {},
   "outputs": [
    {
     "name": "stdout",
     "output_type": "stream",
     "text": [
      "### Accuracy :  0.8\n",
      "0, accuracy : 0.8000\n",
      "### Accuracy :  0.7\n",
      "### Accuracy :  0.7\n",
      "### Accuracy :  1.0\n",
      "[0.19548961 0.9562132  0.39366401 0.99309238 0.98914384 0.89098659\n",
      " 0.6529166  0.47307263 0.87860785 0.96395322]\n"
     ]
    }
   ],
   "source": [
    "num_epoch = 100\n",
    "learning_rate = 1.0\n",
    "\n",
    "w1 = np.random.uniform(-1, 1)\n",
    "w2 = np.random.uniform(-1, 1)\n",
    "b = np.random.uniform(-1, 1)\n",
    "for epoch in range(num_epoch) :\n",
    "    y_predict = w1*x1+w2*x2+b\n",
    "    \n",
    "    y_predict = sigmoid(y_predict)\n",
    "    \n",
    "    predict = y_predict > 0.5\n",
    "#         predict = 1 # 임계값이 해당 값을 넘어가면 1로 보자\n",
    "        \n",
    "    accuracy = (predict == y).mean()\n",
    "    \n",
    "    print('### Accuracy : ',accuracy)\n",
    "    \n",
    "    if epoch % 10 == 0 :\n",
    "        print(f'{epoch}, accuracy : {accudlrracy:.4f}')\n",
    "    \n",
    "    if accuracy == 1.0 :\n",
    "        break\n",
    "        \n",
    "    w1 = w1 - learning_rate*((y_predict - y) * x1).mean()\n",
    "    w2 = w2 - learning_rate*((y_predict - y) * x2).mean()\n",
    "    b = b - learning_rate*(y_predict - y).mean()\n",
    "    \n",
    "print(y_predict)"
   ]
  },
  {
   "cell_type": "code",
   "execution_count": null,
   "metadata": {},
   "outputs": [],
   "source": []
  },
  {
   "cell_type": "markdown",
   "metadata": {},
   "source": [
    "### Predict - 결과 예측하기\n",
    "\n",
    "로지스틱 회귀의 학습이 끝났으면,<br>\n",
    "이 머신러닝 알고리즘을 활용하여 원하는 결과를 예측할 수 있습니다.<br>\n",
    "앞선 데이터를 그대로 활용하여,<br>\n",
    "S전자의 신입 데이터 사이언티스트들이 2년 후에 이직할 것인지 여부를 예측해 보도록 하겠습니다.<br>"
   ]
  },
  {
   "cell_type": "code",
   "execution_count": 26,
   "metadata": {},
   "outputs": [
    {
     "data": {
      "text/plain": [
       "array([-5.46005859, 12.56088742, -1.65594219, 19.76848016, 18.56852415,\n",
       "        8.75677102,  2.54881426, -0.05338196,  8.15581093, 13.56248757])"
      ]
     },
     "execution_count": 26,
     "metadata": {},
     "output_type": "execute_result"
    }
   ],
   "source": [
    "pred = w1*x1 + w2*x2 + b\n",
    "pred"
   ]
  },
  {
   "cell_type": "code",
   "execution_count": 28,
   "metadata": {},
   "outputs": [],
   "source": [
    "pred = sigmoid(pred)\n",
    "predict = y_predict>0.5"
   ]
  },
  {
   "cell_type": "code",
   "execution_count": 32,
   "metadata": {},
   "outputs": [
    {
     "data": {
      "text/html": [
       "<div>\n",
       "<style scoped>\n",
       "    .dataframe tbody tr th:only-of-type {\n",
       "        vertical-align: middle;\n",
       "    }\n",
       "\n",
       "    .dataframe tbody tr th {\n",
       "        vertical-align: top;\n",
       "    }\n",
       "\n",
       "    .dataframe thead th {\n",
       "        text-align: right;\n",
       "    }\n",
       "</style>\n",
       "<table border=\"1\" class=\"dataframe\">\n",
       "  <thead>\n",
       "    <tr style=\"text-align: right;\">\n",
       "      <th></th>\n",
       "      <th>연봉</th>\n",
       "      <th>업무만족도</th>\n",
       "      <th>잔류</th>\n",
       "      <th>잔류(예측)</th>\n",
       "      <th>잔류(확률)</th>\n",
       "    </tr>\n",
       "  </thead>\n",
       "  <tbody>\n",
       "    <tr>\n",
       "      <th>0</th>\n",
       "      <td>5.00</td>\n",
       "      <td>3</td>\n",
       "      <td>False</td>\n",
       "      <td>False</td>\n",
       "      <td>0.004235</td>\n",
       "    </tr>\n",
       "    <tr>\n",
       "      <th>1</th>\n",
       "      <td>5.50</td>\n",
       "      <td>7</td>\n",
       "      <td>True</td>\n",
       "      <td>True</td>\n",
       "      <td>0.999996</td>\n",
       "    </tr>\n",
       "    <tr>\n",
       "      <th>2</th>\n",
       "      <td>5.30</td>\n",
       "      <td>4</td>\n",
       "      <td>False</td>\n",
       "      <td>False</td>\n",
       "      <td>0.160307</td>\n",
       "    </tr>\n",
       "    <tr>\n",
       "      <th>3</th>\n",
       "      <td>6.20</td>\n",
       "      <td>9</td>\n",
       "      <td>True</td>\n",
       "      <td>True</td>\n",
       "      <td>1.000000</td>\n",
       "    </tr>\n",
       "    <tr>\n",
       "      <th>4</th>\n",
       "      <td>5.25</td>\n",
       "      <td>8</td>\n",
       "      <td>True</td>\n",
       "      <td>True</td>\n",
       "      <td>1.000000</td>\n",
       "    </tr>\n",
       "    <tr>\n",
       "      <th>5</th>\n",
       "      <td>5.20</td>\n",
       "      <td>6</td>\n",
       "      <td>True</td>\n",
       "      <td>True</td>\n",
       "      <td>0.999843</td>\n",
       "    </tr>\n",
       "    <tr>\n",
       "      <th>6</th>\n",
       "      <td>5.50</td>\n",
       "      <td>5</td>\n",
       "      <td>True</td>\n",
       "      <td>True</td>\n",
       "      <td>0.927494</td>\n",
       "    </tr>\n",
       "    <tr>\n",
       "      <th>7</th>\n",
       "      <td>4.90</td>\n",
       "      <td>4</td>\n",
       "      <td>False</td>\n",
       "      <td>False</td>\n",
       "      <td>0.486658</td>\n",
       "    </tr>\n",
       "    <tr>\n",
       "      <th>8</th>\n",
       "      <td>5.35</td>\n",
       "      <td>6</td>\n",
       "      <td>True</td>\n",
       "      <td>True</td>\n",
       "      <td>0.999713</td>\n",
       "    </tr>\n",
       "    <tr>\n",
       "      <th>9</th>\n",
       "      <td>5.25</td>\n",
       "      <td>7</td>\n",
       "      <td>True</td>\n",
       "      <td>True</td>\n",
       "      <td>0.999999</td>\n",
       "    </tr>\n",
       "  </tbody>\n",
       "</table>\n",
       "</div>"
      ],
      "text/plain": [
       "     연봉  업무만족도     잔류  잔류(예측)    잔류(확률)\n",
       "0  5.00      3  False   False  0.004235\n",
       "1  5.50      7   True    True  0.999996\n",
       "2  5.30      4  False   False  0.160307\n",
       "3  6.20      9   True    True  1.000000\n",
       "4  5.25      8   True    True  1.000000\n",
       "5  5.20      6   True    True  0.999843\n",
       "6  5.50      5   True    True  0.927494\n",
       "7  4.90      4  False   False  0.486658\n",
       "8  5.35      6   True    True  0.999713\n",
       "9  5.25      7   True    True  0.999999"
      ]
     },
     "execution_count": 32,
     "metadata": {},
     "output_type": "execute_result"
    }
   ],
   "source": [
    "result = example.copy()\n",
    "result['잔류(예측)'] = predict\n",
    "result['잔류(확률)'] = pred\n",
    "result"
   ]
  },
  {
   "cell_type": "code",
   "execution_count": null,
   "metadata": {},
   "outputs": [],
   "source": []
  }
 ],
 "metadata": {
  "kernelspec": {
   "display_name": "Python 3",
   "language": "python",
   "name": "python3"
  },
  "language_info": {
   "codemirror_mode": {
    "name": "ipython",
    "version": 3
   },
   "file_extension": ".py",
   "mimetype": "text/x-python",
   "name": "python",
   "nbconvert_exporter": "python",
   "pygments_lexer": "ipython3",
   "version": "3.8.8"
  }
 },
 "nbformat": 4,
 "nbformat_minor": 4
}

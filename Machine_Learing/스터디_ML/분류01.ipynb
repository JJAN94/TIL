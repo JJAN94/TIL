{
 "cells": [
  {
   "cell_type": "markdown",
   "id": "e5a43f97-afe9-4890-ae4b-c15cd4980821",
   "metadata": {},
   "source": [
    "# 분류 알고리즘"
   ]
  },
  {
   "cell_type": "markdown",
   "id": "fc611aff-fa98-48b1-939d-29e5c65b7077",
   "metadata": {},
   "source": [
    "## Classification\n",
    "- 학습 데이터로 주어지는 데이터의 피처와 레이블값(결정 값, 클래스 값)을 ML 알고리즘으로 학습해 모델을 생성\n",
    "- 모델에 새로운 데이터를 줬을 때 미지의 레이블 값을 예측하는 작업"
   ]
  },
  {
   "cell_type": "markdown",
   "id": "7c5f47d6-e6ed-4cd0-9545-a7463446dc1a",
   "metadata": {},
   "source": [
    "## 대표 알고리즘\n",
    "- 나이브 베이즈\n",
    "- 로지스틱 회귀\n",
    "- 결정 트리\n",
    "- 서포트 벡터 머신\n",
    "- 최근접 알고리즘\n",
    "- 심층 연결 신경망\n",
    "- 앙상블"
   ]
  },
  {
   "cell_type": "markdown",
   "id": "67fa037e-3a8f-44e8-883a-398bf77e4f16",
   "metadata": {},
   "source": [
    "## 결정 트리와 앙상블\n",
    "- 결정 트리는 매우 쉽고 유연하게 적용이 가능한 알고리즘\n",
    "- 데이터 스케일링, 정규화 등 사전 가공의 영향이 매우 적다.\n",
    "- 단, 예측 성능을 향상시키기 위해 복잡한 규칙 구조를 가져야 하며, 이로 인한 과적합(overfitting)이 발생해 반대로 성능 저하가 나타날 수 있다.\n",
    "\n",
    "<br>\n",
    "\n",
    "- 앙상블기법에선 결정트리의 단점이 장점으로 적용된다.\n",
    "- 앙상블은 매우 많은 여러개의 약한 학습기(즉, 예측 성능이 상대적으로 떨어지는 학습 알고리즘)를 결합해 확률적 보완과 오류가 발생한 부분에 대한 가중치를 계속 업데이트하면서 예측 성능을 향상시키는데, 결정 트리가 좋은 약한 학습기가 되기 때문이다.(GBM, XGBoost, LightGBM 등)"
   ]
  },
  {
   "cell_type": "markdown",
   "id": "e4903334-b627-48ec-9587-bc6a3e0dec05",
   "metadata": {},
   "source": [
    "## 결정트리\n",
    "- 데이터의 규칙을 학습을 통해 자동으로 찾아내 트리(Tree) 기반의 분류 규칙을 만든다. (If-Else기반 규칙)\n",
    "- 그러므로, 데이터의 어떤 기준을 바탕으로 규칙을 만들어야 가장 효율적인 분류가 될것이냐가 문제다."
   ]
  },
  {
   "cell_type": "markdown",
   "id": "6249a49e-dbc3-4157-99b7-427ccb8b5089",
   "metadata": {},
   "source": [
    "## 결정트리에서의 정보 균일도 측정 방법\n",
    "\n",
    "1. 정보 이득(Information Gain)\n",
    "    - **엔트로피** 라는 개념을 기반으로 한다. 주어진 데이터 집합의 혼잡도를 의미하는 엔트로피는 서로 다른 값이 섞여있으면 높아지고, 같은 값이 많으면 낮아진다.\n",
    "    - 정보 이득 지수는 \"1-엔트로피지수\"이다.\n",
    "    - 결정 트리는 이 정보 이득 지수로 분할 기준을 정한다. 정보 이득이 높은 속성을 기준으로 분할한다.\n",
    "2. 지니 계수\n",
    "    - 불평등 지수를 나타낸다.\n",
    "    - 0이 가장 평등, 1이 가장 불평등.\n",
    "    - 지니 계수가 낮을 수록 데이터 균일도가 높은 것으로 해석되어 계수가 낮은 속성을 기준으로 분할한다."
   ]
  },
  {
   "cell_type": "markdown",
   "id": "69c2e5d2-7969-44f3-8f24-611e061b25ed",
   "metadata": {},
   "source": [
    "## 결정 트리 특징\n",
    "\n",
    "| 결정 트리 장점 | 결정 트리 단점 |\n",
    "| :-- | :-- |\n",
    "|- 쉽다, 직관적이다 <br>- 피처의 스케일링이나 정규화 등의 사전 가공 영향도가 크지 않다. |- 과적합으로 알고리즘 성능이 떨어진다. 이를 극복하기 위해 트리의 크기를 사전에 제한하는 튜닝 필요 | \n"
   ]
  },
  {
   "cell_type": "code",
   "execution_count": null,
   "id": "dc23ed50-b63d-4597-8d59-1af63dfc4864",
   "metadata": {},
   "outputs": [],
   "source": []
  }
 ],
 "metadata": {
  "kernelspec": {
   "display_name": "Python 3",
   "language": "python",
   "name": "python3"
  },
  "language_info": {
   "codemirror_mode": {
    "name": "ipython",
    "version": 3
   },
   "file_extension": ".py",
   "mimetype": "text/x-python",
   "name": "python",
   "nbconvert_exporter": "python",
   "pygments_lexer": "ipython3",
   "version": "3.8.8"
  }
 },
 "nbformat": 4,
 "nbformat_minor": 5
}

{
 "cells": [
  {
   "cell_type": "markdown",
   "id": "05742973-e246-40c7-aadc-d1ee93822760",
   "metadata": {},
   "source": [
    "# 모델 성능 평가\n",
    "- 성능 평가지표(Evaluation Metric)은 일반적으로 모델이 분류냐 회귀냐에 따라 종류가 나뉜다."
   ]
  },
  {
   "cell_type": "markdown",
   "id": "8c9ace52-9c85-4105-b07e-05323ac940d0",
   "metadata": {},
   "source": [
    "# 분류(classification) 성능 평가 지표"
   ]
  },
  {
   "cell_type": "markdown",
   "id": "ee1bacfd-5c84-49c3-9b1a-3d82bb7989d4",
   "metadata": {},
   "source": [
    "- 정확도(Accuracy)\n",
    "- 오차행렬(Confusion Matrix)\n",
    "- 정밀도(Precision)\n",
    "- 재현율(Recall)\n",
    "- F1 score\n",
    "- ROC AUC"
   ]
  },
  {
   "cell_type": "markdown",
   "id": "367055e8-26c7-48e6-b6ea-20744f3ff9e4",
   "metadata": {},
   "source": [
    "### 정확도(Accuracy)\n",
    "### $Accuracy = {\\frac{정확히 예측된 것의 수}{전체 예측 데이터 건수}}  $\n",
    "- 실제 데이터에서 예측 데이터가 얼마나 같은지를 판단하는 지표, 직관적으로 모델 예측 성능을 나타내는 평가 지표다.\n",
    "- 이진 분류의 경우 모델 성능을 왜곡할 수 있기 때문에 정확도 외에도 다른 평가 지표를 활용한다."
   ]
  },
  {
   "cell_type": "markdown",
   "id": "3a5a29d2-50bd-4558-b922-41c166a370c0",
   "metadata": {},
   "source": []
  },
  {
   "cell_type": "code",
   "execution_count": null,
   "id": "64eaae92-b316-4204-8645-a2bd393c640d",
   "metadata": {},
   "outputs": [],
   "source": []
  },
  {
   "cell_type": "markdown",
   "id": "f3f31541-4606-4b8a-88f0-e439fa816bb7",
   "metadata": {},
   "source": [
    "### 오차행렬(Confusion matrix, 혼동행렬)"
   ]
  },
  {
   "cell_type": "code",
   "execution_count": null,
   "id": "e11ac3ec-3832-435e-970f-76aef5877b5d",
   "metadata": {},
   "outputs": [],
   "source": []
  },
  {
   "cell_type": "markdown",
   "id": "26a78f29-4fed-4de4-8c6d-443fc40db60e",
   "metadata": {},
   "source": [
    "이진분류에서는 정확도보다는 다른 성능 평가 지표가 더 중요시되는 경우가 많다.\\\n",
    "분류 => 이진분류 or 멀티 분류"
   ]
  },
  {
   "cell_type": "code",
   "execution_count": null,
   "id": "085102ed-1cd4-4ad5-be63-bdc3df2a0e65",
   "metadata": {},
   "outputs": [],
   "source": []
  }
 ],
 "metadata": {
  "kernelspec": {
   "display_name": "Python 3",
   "language": "python",
   "name": "python3"
  },
  "language_info": {
   "codemirror_mode": {
    "name": "ipython",
    "version": 3
   },
   "file_extension": ".py",
   "mimetype": "text/x-python",
   "name": "python",
   "nbconvert_exporter": "python",
   "pygments_lexer": "ipython3",
   "version": "3.8.8"
  }
 },
 "nbformat": 4,
 "nbformat_minor": 5
}

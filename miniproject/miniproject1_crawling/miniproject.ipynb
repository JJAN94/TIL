{
 "cells": [
  {
   "cell_type": "markdown",
   "metadata": {},
   "source": [
    "# 필요 모듈, 라이브러리 임포트"
   ]
  },
  {
   "cell_type": "code",
   "execution_count": 1,
   "metadata": {},
   "outputs": [],
   "source": [
    "# 웹 스크레이핑 관련 라이브러리 임포트\n",
    "from bs4 import BeautifulSoup\n",
    "import urllib.request\n",
    "from selenium.webdriver.common.keys import Keys\n",
    "from selenium import webdriver\n",
    "import time\n",
    "from collections import Counter\n",
    "\n",
    "# 시각화 라이브러리 임포트\n",
    "from wordcloud import WordCloud\n",
    "import matplotlib.pyplot as plt\n",
    "%matplotlib inline\n",
    "\n",
    "# datetime 모듈 임포트\n",
    "import datetime"
   ]
  },
  {
   "cell_type": "markdown",
   "metadata": {},
   "source": [
    "# 이미지 검색시 url과 검색어를 받아오는 함수"
   ]
  },
  {
   "cell_type": "code",
   "execution_count": 2,
   "metadata": {},
   "outputs": [],
   "source": [
    "# url을 받아오는 함수를 만들자.\n",
    "\n",
    "def url_input() :\n",
    "    # 오늘 날자를 찾고 원하는 날짜 form 으로 변환\n",
    "    day1 = str(datetime.datetime.now())[:10].split('-')\n",
    "    today = day1[0] + day1[1] + day1[2]\n",
    "    \n",
    "    # 원하는 검색어를 입력받자.\n",
    "    search_name = input('검색하고 싶은것은? : ')\n",
    "    \n",
    "    # 원하는 검색 기간을 입력받자.\n",
    "    print('원하는 검색기간을 입력하세요. 예시 : 20210111')\n",
    "    search_date1 = input('원하는 검색 기간은? (start) : ')\n",
    "    search_date2 = input('원하는 검색 기간은? (end) : ')\n",
    "    \n",
    "    \n",
    "    \n",
    "    if (int(search_date2) <= int(today)) and (int(search_date1) >= 19900101) : \n",
    "        url_form = 'https://search.naver.com/search.naver?where=image&section=image&query=\\\n",
    "&res_fr=0&res_to=0&sm=tab_opt&color=&ccl=0&nso=so\\\n",
    "%3Ar%2Cp%3Afrom{}to{}&recent=0&datetype=6'.format(search_date1,search_date2)\n",
    "    else :\n",
    "        print('기간을 다시 확인해주세요. (검색 가능 기간 범위 초과)')\n",
    "\n",
    "    return [search_name ,url_form]"
   ]
  },
  {
   "cell_type": "markdown",
   "metadata": {},
   "source": [
    "# 이미지를 검색하고 다운받아오는 함수"
   ]
  },
  {
   "cell_type": "code",
   "execution_count": 3,
   "metadata": {},
   "outputs": [],
   "source": [
    "# 이미지 함수\n",
    "def image_searching() :\n",
    "    binary = 'c:\\\\chromedriver\\\\chromedriver.exe'\n",
    "    # 브라우저를 인스턴스화 하자.\n",
    "    browser = webdriver.Chrome(binary)\n",
    "    urll = url_input()\n",
    "    url = urll[1]\n",
    "    search_name = urll[0]\n",
    "    browser.get(url)\n",
    "    elem = browser.find_element_by_class_name(\"box_window\")\n",
    "    \n",
    "    elem.send_keys(search_name) # 스크롤링 하고 싶은 검색어\n",
    "    elem.submit()\n",
    "    \n",
    "    for i in range(1,3) : # 5번 스크롤 내려가는 상태\n",
    "        browser.find_element_by_xpath(\"//body\").send_keys(Keys.END)\n",
    "        time.sleep(3) # END 키 누르고 내려가는데 시간이 걸려서 sleep 해줌. 키보드에서 END키를 총 5번 누르니까 End1번 누르고 10초 쉰다.\n",
    "\n",
    "    time.sleep(5) # 네트워크 느릴까봐 안정성을 위해 sleep을 해줌. # 이거 안하면 이미지 안뜰 수 도 있음.\n",
    "    html = browser.page_source # 크롬창 닫히기 전에 소스코드를 리턴받는다.\n",
    "    soup = BeautifulSoup(html, \"lxml\")\n",
    "    # 그림파일 저장\n",
    "    # print(soup.find_all(\"img\", class_=\"rg_i Q4LuWd\"))\n",
    "    return soup"
   ]
  },
  {
   "cell_type": "code",
   "execution_count": 4,
   "metadata": {},
   "outputs": [],
   "source": [
    "# 이미지 상세 url 가져오기\n",
    "def fetch_list_url() :\n",
    "    params = []\n",
    "    soup=image_searching()\n",
    "    imgList = soup.find_all(\"img\", class_=\"_image _listImage\")\n",
    "    for im in imgList :\n",
    "        try :\n",
    "            params.append(im[\"src\"])\n",
    "        except KeyError :\n",
    "            params.append(im[\"data-src\"])\n",
    "    return params\n",
    "\n",
    "# 파일 저장하는 코드를 만들자.\n",
    "def fetch_detail_url() :\n",
    "    params = fetch_list_url()\n",
    "\n",
    "    for idx, p in enumerate(params, 1) :\n",
    "        # 다운 받을 폴더 경로 입력\n",
    "        urllib.request.urlretrieve(p, \"c:/image/\" + str(idx) + \"_google.jpg\")"
   ]
  },
  {
   "cell_type": "markdown",
   "metadata": {},
   "source": [
    "# 텍스트 검색시 url과 검색어 받아오는 함수 "
   ]
  },
  {
   "cell_type": "code",
   "execution_count": null,
   "metadata": {},
   "outputs": [],
   "source": [
    "# url을 받아오는 함수를 만들자.\n",
    "\n",
    "def url_input2() :\n",
    "    # 오늘 날자를 찾고 원하는 날짜 form 으로 변환\n",
    "    day1 = str(datetime.datetime.now())[:10].split('-')\n",
    "    today = day1[0] + day1[1] + day1[2]\n",
    "    \n",
    "    # 원하는 검색어를 입력받자.\n",
    "    search_name = input('검색하고 싶은것은? : ')\n",
    "    \n",
    "    # 원하는 검색 기간을 입력받자.\n",
    "    print('원하는 검색기간을 입력하세요. 예시 : 20210111')\n",
    "    search_date1 = input('원하는 검색 기간은? (start) : ')\n",
    "    search_date2 = input('원하는 검색 기간은? (end) : ')\n",
    "    \n",
    "    if (int(search_date2) <= int(today)) and (int(search_date1) >= 19900101) : \n",
    "        list_url = 'https://search.naver.com/search.naver?where=kin&kin_display=10&qt=\\\n",
    "        &title=0&&answer=0&grade=0&choice=0&sec=0&nso=so%3Ar%2Ca%3Aall%2Cp%3Afrom{}to{}\\\n",
    "        &query={}&c_id=&c_name=&sm=tab_pge&kin_start='.format(search_date1, search_date2, search_name)    \n",
    "        \n",
    "    else :\n",
    "        print('기간을 다시 확인해주세요. (검색 가능 기간 범위 초과)')\n",
    "\n",
    "    return list_url"
   ]
  },
  {
   "cell_type": "code",
   "execution_count": null,
   "metadata": {},
   "outputs": [
    {
     "name": "stdout",
     "output_type": "stream",
     "text": [
      "검색하고 싶은것은? : 이오스안과\n",
      "원하는 검색기간을 입력하세요. 예시 : 20210111\n",
      "원하는 검색 기간은? (start) : 20210303\n",
      "원하는 검색 기간은? (end) : 20210404\n"
     ]
    }
   ],
   "source": [
    "print(url_input2())"
   ]
  },
  {
   "cell_type": "code",
   "execution_count": 10,
   "metadata": {},
   "outputs": [],
   "source": [
    "def text_searching() :\n",
    "    list_res01 = [] # 날짜\n",
    "    list_res02 = [] # 내용\n",
    "    \n",
    "    #url 만들기\n",
    "    urll = url_input2()\n",
    "\n",
    "    i=0\n",
    "    # 파일 만들기\n",
    "    f = open('C:\\\\Users\\\\JAY\\\\Desktop\\\\TIL\\\\miniproject\\\\miniproject1_crawling\\\\kinkin.txt', 'w', encoding='utf-8')\n",
    "    \n",
    "    return list_url\n",
    "    print(list_url)\n",
    "#     while True :\n",
    "#         # url 가져오기\n",
    "#         cnt = 10*i + 1\n",
    "#         i += 1\n",
    "#         list_url2 = list_url+str(cnt)\n",
    "#         url = urllib.request.Request(list_url2)\n",
    "        \n",
    "#         result = urllib.request.urlopen(url).read().decode('utf-8')\n",
    "#         soup = BeautifulSoup(result, 'html.parser')\n",
    "        \n",
    "#         # 게시판 날짜와 제목의 내용을 가져온다.\n",
    "#         result01 = soup.find_all('span', class_='desc') # 날짜\n",
    "#         result02 = soup.find_all('a', class_='api_txt_lines question_text')\n",
    "        \n",
    "#         for ii in result01 :\n",
    "#             list_res01.append(i.get_text(' ', strip=True))\n",
    "#         for jj in result02 :\n",
    "#             list_res02.append(jj.get_text(' ', strip=True))\n",
    "        \n",
    "#         if soup.find_all('a', class_='btn') == None :\n",
    "#             break\n",
    "        \n",
    "#     for k, h in zip(list_res01, list_res02) :\n",
    "#         f.write(k+ ' ' + h+'\\n')\n",
    "#     f.close()\n",
    "        "
   ]
  },
  {
   "cell_type": "code",
   "execution_count": 13,
   "metadata": {},
   "outputs": [
    {
     "name": "stdout",
     "output_type": "stream",
     "text": [
      "검색하고 싶은것은? : 이오스안과\n",
      "원하는 검색기간을 입력하세요. 예시 : 20210111\n",
      "원하는 검색 기간은? (start) : 20210303\n",
      "원하는 검색 기간은? (end) : 20210404\n"
     ]
    },
    {
     "ename": "KeyboardInterrupt",
     "evalue": "Interrupted by user",
     "output_type": "error",
     "traceback": [
      "\u001b[1;31m---------------------------------------------------------------------------\u001b[0m",
      "\u001b[1;31mKeyboardInterrupt\u001b[0m                         Traceback (most recent call last)",
      "\u001b[1;32m<ipython-input-13-8ef0e7b757cf>\u001b[0m in \u001b[0;36m<module>\u001b[1;34m\u001b[0m\n\u001b[1;32m----> 1\u001b[1;33m \u001b[0mtext_searching\u001b[0m\u001b[1;33m(\u001b[0m\u001b[1;33m)\u001b[0m\u001b[1;33m\u001b[0m\u001b[1;33m\u001b[0m\u001b[0m\n\u001b[0m",
      "\u001b[1;32m<ipython-input-11-622f74faf46e>\u001b[0m in \u001b[0;36mtext_searching\u001b[1;34m()\u001b[0m\n\u001b[0;32m      2\u001b[0m     \u001b[0mlist_res01\u001b[0m \u001b[1;33m=\u001b[0m \u001b[1;33m[\u001b[0m\u001b[1;33m]\u001b[0m \u001b[1;31m# 날짜\u001b[0m\u001b[1;33m\u001b[0m\u001b[1;33m\u001b[0m\u001b[0m\n\u001b[0;32m      3\u001b[0m     \u001b[0mlist_res02\u001b[0m \u001b[1;33m=\u001b[0m \u001b[1;33m[\u001b[0m\u001b[1;33m]\u001b[0m \u001b[1;31m# 내용\u001b[0m\u001b[1;33m\u001b[0m\u001b[1;33m\u001b[0m\u001b[0m\n\u001b[1;32m----> 4\u001b[1;33m     \u001b[0murll\u001b[0m \u001b[1;33m=\u001b[0m \u001b[0murl_input2\u001b[0m\u001b[1;33m(\u001b[0m\u001b[1;33m)\u001b[0m\u001b[1;33m\u001b[0m\u001b[1;33m\u001b[0m\u001b[0m\n\u001b[0m\u001b[0;32m      5\u001b[0m     \u001b[0mname\u001b[0m \u001b[1;33m=\u001b[0m \u001b[0murll\u001b[0m\u001b[1;33m[\u001b[0m\u001b[1;36m0\u001b[0m\u001b[1;33m]\u001b[0m\u001b[1;33m\u001b[0m\u001b[1;33m\u001b[0m\u001b[0m\n\u001b[0;32m      6\u001b[0m     \u001b[0mstartdate\u001b[0m \u001b[1;33m=\u001b[0m \u001b[0murll\u001b[0m\u001b[1;33m[\u001b[0m\u001b[1;36m1\u001b[0m\u001b[1;33m]\u001b[0m\u001b[1;33m\u001b[0m\u001b[1;33m\u001b[0m\u001b[0m\n",
      "\u001b[1;32m<ipython-input-6-454ca2f80949>\u001b[0m in \u001b[0;36murl_input2\u001b[1;34m()\u001b[0m\n\u001b[0;32m     15\u001b[0m \u001b[1;33m\u001b[0m\u001b[0m\n\u001b[0;32m     16\u001b[0m     \u001b[1;32mif\u001b[0m \u001b[1;33m(\u001b[0m\u001b[0mint\u001b[0m\u001b[1;33m(\u001b[0m\u001b[0msearch_date2\u001b[0m\u001b[1;33m)\u001b[0m \u001b[1;33m<=\u001b[0m \u001b[0mint\u001b[0m\u001b[1;33m(\u001b[0m\u001b[0mtoday\u001b[0m\u001b[1;33m)\u001b[0m\u001b[1;33m)\u001b[0m \u001b[1;32mand\u001b[0m \u001b[1;33m(\u001b[0m\u001b[0mint\u001b[0m\u001b[1;33m(\u001b[0m\u001b[0msearch_date1\u001b[0m\u001b[1;33m)\u001b[0m \u001b[1;33m>=\u001b[0m \u001b[1;36m19900101\u001b[0m\u001b[1;33m)\u001b[0m \u001b[1;33m:\u001b[0m\u001b[1;33m\u001b[0m\u001b[1;33m\u001b[0m\u001b[0m\n\u001b[1;32m---> 17\u001b[1;33m         \u001b[0mtext_searching\u001b[0m\u001b[1;33m(\u001b[0m\u001b[1;33m)\u001b[0m\u001b[1;33m\u001b[0m\u001b[1;33m\u001b[0m\u001b[0m\n\u001b[0m\u001b[0;32m     18\u001b[0m \u001b[1;33m\u001b[0m\u001b[0m\n\u001b[0;32m     19\u001b[0m     \u001b[1;32melse\u001b[0m \u001b[1;33m:\u001b[0m\u001b[1;33m\u001b[0m\u001b[1;33m\u001b[0m\u001b[0m\n",
      "\u001b[1;32m<ipython-input-11-622f74faf46e>\u001b[0m in \u001b[0;36mtext_searching\u001b[1;34m()\u001b[0m\n\u001b[0;32m      2\u001b[0m     \u001b[0mlist_res01\u001b[0m \u001b[1;33m=\u001b[0m \u001b[1;33m[\u001b[0m\u001b[1;33m]\u001b[0m \u001b[1;31m# 날짜\u001b[0m\u001b[1;33m\u001b[0m\u001b[1;33m\u001b[0m\u001b[0m\n\u001b[0;32m      3\u001b[0m     \u001b[0mlist_res02\u001b[0m \u001b[1;33m=\u001b[0m \u001b[1;33m[\u001b[0m\u001b[1;33m]\u001b[0m \u001b[1;31m# 내용\u001b[0m\u001b[1;33m\u001b[0m\u001b[1;33m\u001b[0m\u001b[0m\n\u001b[1;32m----> 4\u001b[1;33m     \u001b[0murll\u001b[0m \u001b[1;33m=\u001b[0m \u001b[0murl_input2\u001b[0m\u001b[1;33m(\u001b[0m\u001b[1;33m)\u001b[0m\u001b[1;33m\u001b[0m\u001b[1;33m\u001b[0m\u001b[0m\n\u001b[0m\u001b[0;32m      5\u001b[0m     \u001b[0mname\u001b[0m \u001b[1;33m=\u001b[0m \u001b[0murll\u001b[0m\u001b[1;33m[\u001b[0m\u001b[1;36m0\u001b[0m\u001b[1;33m]\u001b[0m\u001b[1;33m\u001b[0m\u001b[1;33m\u001b[0m\u001b[0m\n\u001b[0;32m      6\u001b[0m     \u001b[0mstartdate\u001b[0m \u001b[1;33m=\u001b[0m \u001b[0murll\u001b[0m\u001b[1;33m[\u001b[0m\u001b[1;36m1\u001b[0m\u001b[1;33m]\u001b[0m\u001b[1;33m\u001b[0m\u001b[1;33m\u001b[0m\u001b[0m\n",
      "\u001b[1;32m<ipython-input-6-454ca2f80949>\u001b[0m in \u001b[0;36murl_input2\u001b[1;34m()\u001b[0m\n\u001b[0;32m      7\u001b[0m \u001b[1;33m\u001b[0m\u001b[0m\n\u001b[0;32m      8\u001b[0m     \u001b[1;31m# 원하는 검색어를 입력받자.\u001b[0m\u001b[1;33m\u001b[0m\u001b[1;33m\u001b[0m\u001b[1;33m\u001b[0m\u001b[0m\n\u001b[1;32m----> 9\u001b[1;33m     \u001b[0msearch_name\u001b[0m \u001b[1;33m=\u001b[0m \u001b[0minput\u001b[0m\u001b[1;33m(\u001b[0m\u001b[1;34m'검색하고 싶은것은? : '\u001b[0m\u001b[1;33m)\u001b[0m\u001b[1;33m\u001b[0m\u001b[1;33m\u001b[0m\u001b[0m\n\u001b[0m\u001b[0;32m     10\u001b[0m \u001b[1;33m\u001b[0m\u001b[0m\n\u001b[0;32m     11\u001b[0m     \u001b[1;31m# 원하는 검색 기간을 입력받자.\u001b[0m\u001b[1;33m\u001b[0m\u001b[1;33m\u001b[0m\u001b[1;33m\u001b[0m\u001b[0m\n",
      "\u001b[1;32m~\\anaconda3\\lib\\site-packages\\ipykernel\\kernelbase.py\u001b[0m in \u001b[0;36mraw_input\u001b[1;34m(self, prompt)\u001b[0m\n\u001b[0;32m    858\u001b[0m                 \u001b[1;34m\"raw_input was called, but this frontend does not support input requests.\"\u001b[0m\u001b[1;33m\u001b[0m\u001b[1;33m\u001b[0m\u001b[0m\n\u001b[0;32m    859\u001b[0m             )\n\u001b[1;32m--> 860\u001b[1;33m         return self._input_request(str(prompt),\n\u001b[0m\u001b[0;32m    861\u001b[0m             \u001b[0mself\u001b[0m\u001b[1;33m.\u001b[0m\u001b[0m_parent_ident\u001b[0m\u001b[1;33m,\u001b[0m\u001b[1;33m\u001b[0m\u001b[1;33m\u001b[0m\u001b[0m\n\u001b[0;32m    862\u001b[0m             \u001b[0mself\u001b[0m\u001b[1;33m.\u001b[0m\u001b[0m_parent_header\u001b[0m\u001b[1;33m,\u001b[0m\u001b[1;33m\u001b[0m\u001b[1;33m\u001b[0m\u001b[0m\n",
      "\u001b[1;32m~\\anaconda3\\lib\\site-packages\\ipykernel\\kernelbase.py\u001b[0m in \u001b[0;36m_input_request\u001b[1;34m(self, prompt, ident, parent, password)\u001b[0m\n\u001b[0;32m    902\u001b[0m             \u001b[1;32mexcept\u001b[0m \u001b[0mKeyboardInterrupt\u001b[0m\u001b[1;33m:\u001b[0m\u001b[1;33m\u001b[0m\u001b[1;33m\u001b[0m\u001b[0m\n\u001b[0;32m    903\u001b[0m                 \u001b[1;31m# re-raise KeyboardInterrupt, to truncate traceback\u001b[0m\u001b[1;33m\u001b[0m\u001b[1;33m\u001b[0m\u001b[1;33m\u001b[0m\u001b[0m\n\u001b[1;32m--> 904\u001b[1;33m                 \u001b[1;32mraise\u001b[0m \u001b[0mKeyboardInterrupt\u001b[0m\u001b[1;33m(\u001b[0m\u001b[1;34m\"Interrupted by user\"\u001b[0m\u001b[1;33m)\u001b[0m \u001b[1;32mfrom\u001b[0m \u001b[1;32mNone\u001b[0m\u001b[1;33m\u001b[0m\u001b[1;33m\u001b[0m\u001b[0m\n\u001b[0m\u001b[0;32m    905\u001b[0m             \u001b[1;32mexcept\u001b[0m \u001b[0mException\u001b[0m \u001b[1;32mas\u001b[0m \u001b[0me\u001b[0m\u001b[1;33m:\u001b[0m\u001b[1;33m\u001b[0m\u001b[1;33m\u001b[0m\u001b[0m\n\u001b[0;32m    906\u001b[0m                 \u001b[0mself\u001b[0m\u001b[1;33m.\u001b[0m\u001b[0mlog\u001b[0m\u001b[1;33m.\u001b[0m\u001b[0mwarning\u001b[0m\u001b[1;33m(\u001b[0m\u001b[1;34m\"Invalid Message:\"\u001b[0m\u001b[1;33m,\u001b[0m \u001b[0mexc_info\u001b[0m\u001b[1;33m=\u001b[0m\u001b[1;32mTrue\u001b[0m\u001b[1;33m)\u001b[0m\u001b[1;33m\u001b[0m\u001b[1;33m\u001b[0m\u001b[0m\n",
      "\u001b[1;31mKeyboardInterrupt\u001b[0m: Interrupted by user"
     ]
    }
   ],
   "source": [
    "text_searching()"
   ]
  },
  {
   "cell_type": "markdown",
   "metadata": {},
   "source": [
    "# 검색하고자 하는게 이미지인지 텍스트인지 결정하는 함수"
   ]
  },
  {
   "cell_type": "code",
   "execution_count": null,
   "metadata": {},
   "outputs": [],
   "source": [
    "def select_img_or_txt() :\n",
    "    selection = input('원하는 검색을 선택하세요. (1 : 이미지, 2 : 텍스트) ')\n",
    "    return selection"
   ]
  },
  {
   "cell_type": "code",
   "execution_count": null,
   "metadata": {},
   "outputs": [],
   "source": [
    "# 최종 실행 함수\n"
   ]
  },
  {
   "cell_type": "code",
   "execution_count": 14,
   "metadata": {},
   "outputs": [
    {
     "name": "stdout",
     "output_type": "stream",
     "text": [
      "검색하고 싶은것은? : 바나나\n",
      "원하는 검색기간을 입력하세요. 예시 : 20210111\n",
      "원하는 검색 기간은? (start) : 20210401\n",
      "원하는 검색 기간은? (end) : 20210505\n"
     ]
    }
   ],
   "source": [
    "if __name__ =='__main__' :\n",
    "    fetch_detail_url()"
   ]
  },
  {
   "cell_type": "code",
   "execution_count": null,
   "metadata": {},
   "outputs": [],
   "source": []
  },
  {
   "cell_type": "markdown",
   "metadata": {},
   "source": [
    "https://search.naver.com/search.naver?where=kin&kin_display=10&qt=&title=0&&answer=0&grade=0&choice=0&sec=0&nso=so%3Ar%2Ca%3Aall%2Cp%3Afrom20210312to20210512&query=&c_id=&c_name=&sm=tab_pge&kin_start=41&kin_age=0\n",
    "\n",
    "https://search.naver.com/search.naver?where=kin&kin_display=10&qt=&title=0&&answer=0&grade=0&choice=0&sec=0&nso=so%3Ar%2Ca%3Aall%2Cp%3Afrom20210312to20210512&query=&c_id=&c_name=&sm=tab_pge&kin_start=31&kin_age=0\n",
    "\n",
    "https://search.naver.com/search.naver?where=kin&kin_display=10&qt=&title=0&&answer=0&grade=0&choice=0&sec=0&nso=so%3Ar%2Ca%3Aall%2Cp%3Afrom20210312to20210512&query=&c_id=&c_name=&sm=tab_pge&kin_start=52"
   ]
  },
  {
   "cell_type": "code",
   "execution_count": null,
   "metadata": {},
   "outputs": [],
   "source": []
  },
  {
   "cell_type": "code",
   "execution_count": null,
   "metadata": {},
   "outputs": [],
   "source": []
  },
  {
   "cell_type": "markdown",
   "metadata": {},
   "source": [
    "<input type=\"text\" id=\"nx_query\" name=\"query\" class=\"box_window\" maxlength=\"255\" accesskey=\"s\" value=\"\" autocomplete=\"off\" placeholder=\"검색어를 입력해 주세요.\" data-atcmp-element=\"\">"
   ]
  },
  {
   "cell_type": "code",
   "execution_count": 29,
   "metadata": {},
   "outputs": [
    {
     "name": "stdout",
     "output_type": "stream",
     "text": [
      "Help on function find_element_by_class_name in module selenium.webdriver.remote.webdriver:\n",
      "\n",
      "find_element_by_class_name(self, name)\n",
      "    Finds an element by class name.\n",
      "    \n",
      "    :Args:\n",
      "     - name: The class name of the element to find.\n",
      "    \n",
      "    :Returns:\n",
      "     - WebElement - the element if it was found\n",
      "    \n",
      "    :Raises:\n",
      "     - NoSuchElementException - if the element wasn't found\n",
      "    \n",
      "    :Usage:\n",
      "        element = driver.find_element_by_class_name('foo')\n",
      "\n"
     ]
    }
   ],
   "source": [
    "help(webdriver.Chrome.find_element_by_class_name)"
   ]
  },
  {
   "cell_type": "code",
   "execution_count": 25,
   "metadata": {},
   "outputs": [
    {
     "name": "stdout",
     "output_type": "stream",
     "text": [
      "검색하고 싶은것은? : 사과\n",
      "원하는 검색기간을 입력하세요. 예시 : 20210111\n",
      "원하는 검색 기간은? (start) : 20210303\n",
      "원하는 검색 기간은? (end) : 20210404\n",
      "https://search.naver.com/search.naver?where=image&section=image&query=사과&res_fr=0&res_to=0&sm=tab_opt&color=&ccl=0&nso=so%3Ar%2Cp%3Afrom20210303to20210404&recent=0&datetype=6\n"
     ]
    },
    {
     "data": {
      "text/plain": [
       "['사과',\n",
       " 'https://search.naver.com/search.naver?where=image&section=image&query=사과&res_fr=0&res_to=0&sm=tab_opt&color=&ccl=0&nso=so%3Ar%2Cp%3Afrom20210303to20210404&recent=0&datetype=6']"
      ]
     },
     "execution_count": 25,
     "metadata": {},
     "output_type": "execute_result"
    }
   ],
   "source": [
    "url_input()"
   ]
  },
  {
   "cell_type": "code",
   "execution_count": 17,
   "metadata": {},
   "outputs": [
    {
     "data": {
      "text/plain": [
       "<function __main__.url_input()>"
      ]
     },
     "execution_count": 17,
     "metadata": {},
     "output_type": "execute_result"
    }
   ],
   "source": []
  },
  {
   "cell_type": "code",
   "execution_count": 14,
   "metadata": {},
   "outputs": [
    {
     "name": "stdout",
     "output_type": "stream",
     "text": [
      "<function url_input at 0x0000027EB55A9160>\n"
     ]
    }
   ],
   "source": [
    "print(url_input)"
   ]
  },
  {
   "cell_type": "markdown",
   "metadata": {},
   "source": [
    "https://search.naver.com/search.naver?where=image&section=image&query=%EC%9D%B4%EB%AF%B8%EC%A7%80&res_fr=0&res_to=0&sm=tab_opt&color=&ccl=0&nso=so%3Ar%2Cp%3Afrom20210212to20210512&recent=0&datetype=6&startdate=2021.02.12&enddate=2021.05.12&gif=0&optStr=d&nso_open=1\n",
    "\n",
    "\n",
    "https://search.naver.com/search.naver?where=image&section=image&query=%EB%B0%94%EB%82%98%EB%82%98&res_fr=0&res_to=0&sm=tab_opt&color=&ccl=0&nso=so%3Ar%2Cp%3Afrom20180212to20210512&recent=0&datetype=6&startdate=2018.02.12&enddate=2021.05.12&gif=0&optStr=d&nso_open=1\n",
    "\n",
    "https://search.naver.com/search.naver?where=image&section=image&query=%EB%B0%94%EB%82%98%EB%82%98&res_fr=0&res_to=0&sm=tab_opt&color=&ccl=0&nso=so%3Ar%2Cp%3Afrom20180212to20210512&recent=0&datetype=6&startdate=2018.02.12&enddate=2021.05.12&gif=0&optStr=d&nso_open=1\n",
    "\n",
    "https://search.naver.com/search.naver?where=image&section=image&query=바나나&res_fr=0&res_to=0&sm=tab_opt&color=&ccl=0&nso=so%3Ar%2Cp%3Afrom20210311to20210512&recent=0&datetype=6&startdate=2021.03.11&enddate=2021.05.12&gif=0&optStr=d&nso_open=1"
   ]
  }
 ],
 "metadata": {
  "kernelspec": {
   "display_name": "Python 3",
   "language": "python",
   "name": "python3"
  },
  "language_info": {
   "codemirror_mode": {
    "name": "ipython",
    "version": 3
   },
   "file_extension": ".py",
   "mimetype": "text/x-python",
   "name": "python",
   "nbconvert_exporter": "python",
   "pygments_lexer": "ipython3",
   "version": "3.8.3"
  }
 },
 "nbformat": 4,
 "nbformat_minor": 4
}

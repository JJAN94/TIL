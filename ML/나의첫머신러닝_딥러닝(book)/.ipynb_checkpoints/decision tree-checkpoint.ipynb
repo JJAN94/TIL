{
 "cells": [
  {
   "cell_type": "markdown",
   "metadata": {},
   "source": [
    "### 데이터 만들기\n",
    "- district : 행정 구역(서초구, 송파구 등, 서울의 단위 지역 분류)\n",
    "- dong : 구(district)보다 작은 행정구역(대치동, 도곡동 등)\n",
    "- latitude : 위도\n",
    "- longitude : 경도\n",
    "- label : 한강 기준으로 동, 서, 남, 북으로 구분한 지역 명칭(강동, 강서, 강남, 강북)"
   ]
  },
  {
   "cell_type": "markdown",
   "metadata": {},
   "source": [
    "데이터는 csv로 만들어서 불러오겠음."
   ]
  },
  {
   "cell_type": "code",
   "execution_count": 2,
   "metadata": {},
   "outputs": [],
   "source": [
    "import numpy as np\n",
    "import pandas as pd"
   ]
  },
  {
   "cell_type": "code",
   "execution_count": 3,
   "metadata": {},
   "outputs": [],
   "source": [
    "train = pd.read_csv('../algorithm/decision_tree_data1.csv')"
   ]
  },
  {
   "cell_type": "code",
   "execution_count": 4,
   "metadata": {},
   "outputs": [
    {
     "data": {
      "text/html": [
       "<div>\n",
       "<style scoped>\n",
       "    .dataframe tbody tr th:only-of-type {\n",
       "        vertical-align: middle;\n",
       "    }\n",
       "\n",
       "    .dataframe tbody tr th {\n",
       "        vertical-align: top;\n",
       "    }\n",
       "\n",
       "    .dataframe thead th {\n",
       "        text-align: right;\n",
       "    }\n",
       "</style>\n",
       "<table border=\"1\" class=\"dataframe\">\n",
       "  <thead>\n",
       "    <tr style=\"text-align: right;\">\n",
       "      <th></th>\n",
       "      <th>district</th>\n",
       "      <th>latitude</th>\n",
       "      <th>longitude</th>\n",
       "      <th>label</th>\n",
       "    </tr>\n",
       "  </thead>\n",
       "  <tbody>\n",
       "    <tr>\n",
       "      <th>15</th>\n",
       "      <td>Seongdong-gu</td>\n",
       "      <td>37.557340</td>\n",
       "      <td>127.041667</td>\n",
       "      <td>Gangdong</td>\n",
       "    </tr>\n",
       "    <tr>\n",
       "      <th>16</th>\n",
       "      <td>Dongdaemun-gu</td>\n",
       "      <td>37.575759</td>\n",
       "      <td>127.025288</td>\n",
       "      <td>Gangdong</td>\n",
       "    </tr>\n",
       "    <tr>\n",
       "      <th>17</th>\n",
       "      <td>Gwangjin-gu</td>\n",
       "      <td>37.557562</td>\n",
       "      <td>127.083467</td>\n",
       "      <td>Gangdong</td>\n",
       "    </tr>\n",
       "    <tr>\n",
       "      <th>18</th>\n",
       "      <td>Gangdong-gu</td>\n",
       "      <td>37.554194</td>\n",
       "      <td>127.151405</td>\n",
       "      <td>Gangdong</td>\n",
       "    </tr>\n",
       "    <tr>\n",
       "      <th>19</th>\n",
       "      <td>Jungrang-gu</td>\n",
       "      <td>37.593684</td>\n",
       "      <td>127.090384</td>\n",
       "      <td>Gangdong</td>\n",
       "    </tr>\n",
       "  </tbody>\n",
       "</table>\n",
       "</div>"
      ],
      "text/plain": [
       "         district   latitude   longitude     label\n",
       "15   Seongdong-gu  37.557340  127.041667  Gangdong\n",
       "16  Dongdaemun-gu  37.575759  127.025288  Gangdong\n",
       "17    Gwangjin-gu  37.557562  127.083467  Gangdong\n",
       "18    Gangdong-gu  37.554194  127.151405  Gangdong\n",
       "19    Jungrang-gu  37.593684  127.090384  Gangdong"
      ]
     },
     "execution_count": 4,
     "metadata": {},
     "output_type": "execute_result"
    }
   ],
   "source": [
    "train.tail()"
   ]
  },
  {
   "cell_type": "code",
   "execution_count": 5,
   "metadata": {},
   "outputs": [],
   "source": [
    "test = pd.read_csv('../algorithm/decision_tree_data2.csv')"
   ]
  },
  {
   "cell_type": "code",
   "execution_count": 6,
   "metadata": {},
   "outputs": [
    {
     "data": {
      "text/html": [
       "<div>\n",
       "<style scoped>\n",
       "    .dataframe tbody tr th:only-of-type {\n",
       "        vertical-align: middle;\n",
       "    }\n",
       "\n",
       "    .dataframe tbody tr th {\n",
       "        vertical-align: top;\n",
       "    }\n",
       "\n",
       "    .dataframe thead th {\n",
       "        text-align: right;\n",
       "    }\n",
       "</style>\n",
       "<table border=\"1\" class=\"dataframe\">\n",
       "  <thead>\n",
       "    <tr style=\"text-align: right;\">\n",
       "      <th></th>\n",
       "      <th>dong</th>\n",
       "      <th>latitude</th>\n",
       "      <th>longitude</th>\n",
       "      <th>label</th>\n",
       "    </tr>\n",
       "  </thead>\n",
       "  <tbody>\n",
       "    <tr>\n",
       "      <th>15</th>\n",
       "      <td>Hwayang-dong</td>\n",
       "      <td>37.544234</td>\n",
       "      <td>127.071648</td>\n",
       "      <td>Gangdong</td>\n",
       "    </tr>\n",
       "    <tr>\n",
       "      <th>16</th>\n",
       "      <td>Gui-dong</td>\n",
       "      <td>37.543757</td>\n",
       "      <td>127.086803</td>\n",
       "      <td>Gangdong</td>\n",
       "    </tr>\n",
       "    <tr>\n",
       "      <th>17</th>\n",
       "      <td>Neung-dong</td>\n",
       "      <td>37.553102</td>\n",
       "      <td>127.080248</td>\n",
       "      <td>Gangdong</td>\n",
       "    </tr>\n",
       "    <tr>\n",
       "      <th>18</th>\n",
       "      <td>Amsa-dong</td>\n",
       "      <td>37.552370</td>\n",
       "      <td>127.127124</td>\n",
       "      <td>Gangdong</td>\n",
       "    </tr>\n",
       "    <tr>\n",
       "      <th>19</th>\n",
       "      <td>Chunho-dong</td>\n",
       "      <td>37.547436</td>\n",
       "      <td>127.137382</td>\n",
       "      <td>Gangdong</td>\n",
       "    </tr>\n",
       "  </tbody>\n",
       "</table>\n",
       "</div>"
      ],
      "text/plain": [
       "            dong   latitude   longitude     label\n",
       "15  Hwayang-dong  37.544234  127.071648  Gangdong\n",
       "16      Gui-dong  37.543757  127.086803  Gangdong\n",
       "17    Neung-dong  37.553102  127.080248  Gangdong\n",
       "18     Amsa-dong  37.552370  127.127124  Gangdong\n",
       "19   Chunho-dong  37.547436  127.137382  Gangdong"
      ]
     },
     "execution_count": 6,
     "metadata": {},
     "output_type": "execute_result"
    }
   ],
   "source": [
    "test.tail()"
   ]
  },
  {
   "cell_type": "code",
   "execution_count": 7,
   "metadata": {},
   "outputs": [
    {
     "data": {
      "text/plain": [
       "Gangbuk     5\n",
       "Gangnam     5\n",
       "Gangseo     5\n",
       "Gangdong    5\n",
       "Name: label, dtype: int64"
      ]
     },
     "execution_count": 7,
     "metadata": {},
     "output_type": "execute_result"
    }
   ],
   "source": [
    "train.label.value_counts()"
   ]
  },
  {
   "cell_type": "code",
   "execution_count": 8,
   "metadata": {},
   "outputs": [
    {
     "data": {
      "text/plain": [
       "Gangbuk     5\n",
       "Gangnam     5\n",
       "Gangseo     5\n",
       "Gangdong    5\n",
       "Name: label, dtype: int64"
      ]
     },
     "execution_count": 8,
     "metadata": {},
     "output_type": "execute_result"
    }
   ],
   "source": [
    "test.label.value_counts()"
   ]
  },
  {
   "cell_type": "markdown",
   "metadata": {},
   "source": [
    "### 데이터 시각화"
   ]
  },
  {
   "cell_type": "code",
   "execution_count": 9,
   "metadata": {},
   "outputs": [],
   "source": [
    "import matplotlib.pyplot as plt\n",
    "import seaborn as sns\n",
    "%matplotlib inline"
   ]
  },
  {
   "cell_type": "code",
   "execution_count": 10,
   "metadata": {
    "scrolled": false
   },
   "outputs": [
    {
     "data": {
      "text/plain": [
       "Text(0.5, 1.0, 'district visualization in 2d plane')"
      ]
     },
     "execution_count": 10,
     "metadata": {},
     "output_type": "execute_result"
    },
    {
     "data": {
      "image/png": "[encoded data removed]",
      "text/plain": [
       "<Figure size 447.75x360 with 1 Axes>"
      ]
     },
     "metadata": {
      "needs_background": "light"
     },
     "output_type": "display_data"
    }
   ],
   "source": [
    "sns.lmplot('longitude', 'latitude', data=train, fit_reg=False, \n",
    "           scatter_kws = {'s' : 150}, \n",
    "           markers = [\"o\", \"x\", \"+\", \"*\"],\n",
    "           hue ='label')\n",
    "# title\n",
    "plt.title('district visualization in 2d plane')"
   ]
  },
  {
   "cell_type": "markdown",
   "metadata": {},
   "source": [
    "### 데이터 다듬기"
   ]
  },
  {
   "cell_type": "code",
   "execution_count": 11,
   "metadata": {},
   "outputs": [],
   "source": [
    "train.drop(['district'], axis=1, inplace=True)\n",
    "test.drop(['dong'], axis=1, inplace=True)"
   ]
  },
  {
   "cell_type": "code",
   "execution_count": 12,
   "metadata": {},
   "outputs": [],
   "source": [
    "x_train = train[['longitude', 'latitude']]\n",
    "y_train = train[['label']]\n",
    "\n",
    "x_test = test[['longitude', 'latitude']]\n",
    "y_test = test[['label']]"
   ]
  },
  {
   "cell_type": "markdown",
   "metadata": {},
   "source": [
    "### 모델학습\n",
    "- 사이킷런의 의사결정 트리 (sklearn_dicision_tree)"
   ]
  },
  {
   "cell_type": "code",
   "execution_count": 13,
   "metadata": {},
   "outputs": [],
   "source": [
    "from sklearn import tree\n",
    "from sklearn import preprocessing"
   ]
  },
  {
   "cell_type": "code",
   "execution_count": 14,
   "metadata": {},
   "outputs": [
    {
     "name": "stderr",
     "output_type": "stream",
     "text": [
      "C:\\Users\\JAY\\anaconda3\\lib\\site-packages\\sklearn\\utils\\validation.py:73: DataConversionWarning: A column-vector y was passed when a 1d array was expected. Please change the shape of y to (n_samples, ), for example using ravel().\n",
      "  return f(**kwargs)\n"
     ]
    }
   ],
   "source": [
    "le = preprocessing.LabelEncoder()\n",
    "y_encoded = le.fit_transform(y_train)\n",
    "clf = tree.DecisionTreeClassifier(random_state=35).fit(x_train, y_encoded)"
   ]
  },
  {
   "cell_type": "code",
   "execution_count": 15,
   "metadata": {},
   "outputs": [],
   "source": [
    "def display_decision_surface(clf, x, y):\n",
    "    x_min = x.longitude.min() - 0.01\n",
    "    x_max = x.longitude.max() + 0.01\n",
    "    y_min = x.latitude.min() - 0.01\n",
    "    y_max = x.latitude.max() + 0.01\n",
    "    \n",
    "    n_classes = len(le.classes_)\n",
    "    plot_colors = 'rywb'\n",
    "    plot_step = 0.001\n",
    "    \n",
    "    xx, yy = np.meshgrid(np.arange(x_min, x_max, plot_step),\n",
    "                          np.arange(y_min, y_max, plot_step))\n",
    "    \n",
    "    z = clf.predict(np.c_[xx.ravel(), yy.ravel()])\n",
    "    z = z.reshape(xx.shape)\n",
    "    cs = plt.contourf(xx, yy, z, cmap=plt.cm.RdYlBu)\n",
    "    \n",
    "    for i, color in zip(range(n_classes), plot_colors) :\n",
    "        idx = np.where(y == i)\n",
    "        plt.scatter(x.loc[idx].longitude, x.loc[idx].latitude,\n",
    "                   c = color, label=le.classes_[i],\n",
    "                   cmap=plt.cm.RdYlBu, edgecolor='black', s=200)\n",
    "    \n",
    "    plt.title('Decision surface of a decision tree', fontsize=16)\n",
    "    plt.legend(bbox_to_anchor=(1.05, 1), loc =2, borderaxespad=0, fontsize=14)\n",
    "    plt.xlabel('longitude', fontsize=16)\n",
    "    plt.ylabel('latitude', fontsize=16)\n",
    "    plt.rcParams['figure.figsize'] = [7,5]\n",
    "    plt.rcParams['font.size'] = 14\n",
    "    plt.rcParams['xtick.labelsize'] = 14\n",
    "    plt.rcParams['ytick.labelsize'] = 14\n",
    "    plt.show()\n",
    "    "
   ]
  },
  {
   "cell_type": "code",
   "execution_count": 16,
   "metadata": {},
   "outputs": [
    {
     "data": {
      "image/png": "[encoded data removed]",
      "text/plain": [
       "<Figure size 432x288 with 1 Axes>"
      ]
     },
     "metadata": {
      "needs_background": "light"
     },
     "output_type": "display_data"
    }
   ],
   "source": [
    "display_decision_surface(clf, x_train, y_encoded) # overfiting을 보여줌"
   ]
  },
  {
   "cell_type": "markdown",
   "metadata": {},
   "source": [
    "### 과대적합 피하기"
   ]
  },
  {
   "cell_type": "markdown",
   "metadata": {},
   "source": [
    "- max_depth : 트리의 최대 한도 깊이\n",
    "- min_samples_split : 자식 노드를 갖기 위한 최소한의 데이터 개수\n",
    "- min_samples_leaf : 리프 노드의 최소 데이터 개수\n",
    "- randomm_state : 동일한 정수를 입력했을 때 학습 결과를 항상 같게 만들어주는 파라미터"
   ]
  },
  {
   "cell_type": "code",
   "execution_count": 17,
   "metadata": {},
   "outputs": [
    {
     "data": {
      "image/png": "[encoded data removed]",
      "text/plain": [
       "<Figure size 504x360 with 1 Axes>"
      ]
     },
     "metadata": {
      "needs_background": "light"
     },
     "output_type": "display_data"
    }
   ],
   "source": [
    "clf = tree.DecisionTreeClassifier(max_depth=4,\n",
    "                                  min_samples_split=2,\n",
    "                                  min_samples_leaf=2,\n",
    "                                  random_state=70).fit(x_train, y_encoded.ravel())\n",
    "display_decision_surface(clf, x_train, y_encoded)"
   ]
  },
  {
   "cell_type": "markdown",
   "metadata": {},
   "source": [
    "### 의사결정 트리 시각화\n",
    "- 장점 : 예측이 이뤄진 과정을 쉽게 시각화해서 데이터 분석가들이 특별한 수학적 지식이 없어도 이해하기 쉽다"
   ]
  },
  {
   "cell_type": "code",
   "execution_count": 1,
   "metadata": {},
   "outputs": [],
   "source": [
    "# import graphviz\n",
    "# dot_data = tree.export_graphviz(clf, out_file=None)\n",
    "# graph = graphviz.Source(dot_data)\n",
    "# graph.render('seoul')\n",
    "# dot_data = tree.export_graphviz(clf, out_file=None,\n",
    "#                                 feature_names=['longitude', 'latitude'],\n",
    "#                                 class_names=['Gangbuk', 'Gangdong', 'Gangnam', 'Gangseo'],\n",
    "#                                 filled=True, \n",
    "#                                 rounded=True,\n",
    "#                                 special_characters=True)\n",
    "\n",
    "# graph = graphviz.Source(dot_data)\n",
    "# graph"
   ]
  },
  {
   "cell_type": "code",
   "execution_count": null,
   "metadata": {},
   "outputs": [],
   "source": []
  }
 ],
 "metadata": {
  "kernelspec": {
   "display_name": "Python 3",
   "language": "python",
   "name": "python3"
  },
  "language_info": {
   "codemirror_mode": {
    "name": "ipython",
    "version": 3
   },
   "file_extension": ".py",
   "mimetype": "text/x-python",
   "name": "python",
   "nbconvert_exporter": "python",
   "pygments_lexer": "ipython3",
   "version": "3.8.3"
  }
 },
 "nbformat": 4,
 "nbformat_minor": 4
}

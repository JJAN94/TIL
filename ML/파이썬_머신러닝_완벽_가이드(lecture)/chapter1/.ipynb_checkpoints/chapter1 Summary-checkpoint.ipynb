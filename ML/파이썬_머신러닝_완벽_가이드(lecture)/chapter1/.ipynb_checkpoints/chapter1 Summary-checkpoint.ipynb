{
 "cells": [
  {
   "cell_type": "markdown",
   "metadata": {},
   "source": [
    "# 1장 Summary"
   ]
  },
  {
   "cell_type": "markdown",
   "metadata": {},
   "source": [
    "- 머신러닝이란 애플리케이션을 수정하지 않고도 데이터를 기반으로 패턴을 학습하고 결과를 추론하는 알고리즘 기법을 통칭합니다.\n",
    "- 직관적인 문법, 많은 라이브러리, 뛰어난 생산성을 가지는 파이썬 언어를 기반으로 한 머신러닝 애플리케이션은 유연성, 통합성 등의 많은 장접을 사용자에게 제공해 줍니다.\n",
    "- 파이썬 기반의 머신러닝을 익히기 위해서는 비단 머신러닝 패키지 뿐만 아니라, 넘파이, 판다스, 시각화등의 다양한 지원 패키지들도 같이 학습되어야 합니다. 단 이들 지원 패키지를 익히기 위해서 많은 시간을 투자할 필요는 없습니다. 기본 내용은 숙지하되, 상세한 사용법은 머신러닝 애플리케이션을 작성하면서 인터넷 등을 통해 찾아가면서 구현하는 것이 이들 지원 패키지를 빨리 익히는데 도움이 더 도리 것입니다."
   ]
  },
  {
   "cell_type": "code",
   "execution_count": null,
   "metadata": {},
   "outputs": [],
   "source": []
  }
 ],
 "metadata": {
  "kernelspec": {
   "display_name": "Python 3",
   "language": "python",
   "name": "python3"
  },
  "language_info": {
   "codemirror_mode": {
    "name": "ipython",
    "version": 3
   },
   "file_extension": ".py",
   "mimetype": "text/x-python",
   "name": "python",
   "nbconvert_exporter": "python",
   "pygments_lexer": "ipython3",
   "version": "3.8.3"
  }
 },
 "nbformat": 4,
 "nbformat_minor": 4
}

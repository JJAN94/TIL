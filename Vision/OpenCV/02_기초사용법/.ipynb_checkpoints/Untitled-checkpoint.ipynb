{
 "cells": [
  {
   "cell_type": "code",
   "execution_count": 3,
   "id": "30dba8c4-3f8d-4b3a-96f4-760668348144",
   "metadata": {},
   "outputs": [],
   "source": [
    "import json\n",
    "import pickle\n",
    "import sys\n",
    "import os"
   ]
  },
  {
   "cell_type": "code",
   "execution_count": 8,
   "id": "9f026e91-d2c5-4dbd-9fec-97702ea99197",
   "metadata": {},
   "outputs": [
    {
     "data": {
      "text/plain": [
       "'C:\\\\Users\\\\JAY\\\\anaconda3\\\\lib\\\\site-packages\\\\ipykernel_launcher.py'"
      ]
     },
     "execution_count": 8,
     "metadata": {},
     "output_type": "execute_result"
    }
   ],
   "source": [
    "sys.argv[0]"
   ]
  },
  {
   "cell_type": "code",
   "execution_count": 11,
   "id": "39f64957-e07c-4d87-ac79-c511ebd1ed2d",
   "metadata": {},
   "outputs": [],
   "source": [
    "# open pickle file\n",
    "path = 'mu_index.pickle'\n",
    "with open(path, 'rb') as infile:\n",
    "    obj = pickle.load(infile)\n",
    "\n",
    "# convert pickle object to json object\n",
    "json_obj = json.loads(json.dumps(obj, default=str))\n",
    "\n",
    "# write the json file\n",
    "with open(\n",
    "        os.path.splitext(path)[0] + '.json',\n",
    "        'w',\n",
    "        encoding='utf-8'\n",
    "    ) as outfile:\n",
    "    json.dump(json_obj, outfile, ensure_ascii=False, indent=4)"
   ]
  },
  {
   "cell_type": "code",
   "execution_count": 9,
   "id": "91701a7e-4e14-450f-b391-1faede718635",
   "metadata": {},
   "outputs": [],
   "source": [
    "with open('mu_index.pickle', 'rb') as infile:\n",
    "    obj = pickle.load(infile)"
   ]
  },
  {
   "cell_type": "code",
   "execution_count": null,
   "id": "c475bb53-a849-4c0d-8d06-52ba12a17ded",
   "metadata": {},
   "outputs": [],
   "source": []
  }
 ],
 "metadata": {
  "kernelspec": {
   "display_name": "Python 3",
   "language": "python",
   "name": "python3"
  },
  "language_info": {
   "codemirror_mode": {
    "name": "ipython",
    "version": 3
   },
   "file_extension": ".py",
   "mimetype": "text/x-python",
   "name": "python",
   "nbconvert_exporter": "python",
   "pygments_lexer": "ipython3",
   "version": "3.8.8"
  }
 },
 "nbformat": 4,
 "nbformat_minor": 5
}

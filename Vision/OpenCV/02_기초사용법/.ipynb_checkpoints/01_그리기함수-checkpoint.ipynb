{
 "cells": [
  {
   "cell_type": "code",
   "execution_count": 7,
   "id": "3bae8ea6-572d-4aac-adb3-900242931979",
   "metadata": {},
   "outputs": [],
   "source": [
    "import numpy as np\n",
    "import cv2\n",
    "import matplotlib.pyplot as plt"
   ]
  },
  {
   "cell_type": "markdown",
   "id": "9c71c449-cfcf-4b85-a644-d780c62a7a3c",
   "metadata": {},
   "source": [
    "# OpenCV 그리기 함수"
   ]
  },
  {
   "cell_type": "markdown",
   "id": "aea38b64-72f4-44c4-ba39-ec6b7a3e5abf",
   "metadata": {},
   "source": [
    "- OpenCV 그리기 함수\n",
    "    - OpenCV는 영상에 선, 도형, 문자열을 출력하는 그리기 함수를 제공\n",
    "    - 선 그리기 : 직선, 화살표, 마커 등\n",
    "    - 도형 그리기 : 사각형, 원, 타원, 다각형 등\n",
    "    - 문자열 출력\n",
    "    \n",
    "- 그리기 함수 사용시 주의할 점\n",
    "    - 그리기 알고리즘을 이용하여 영상의 픽셀 값 자체를 변경\n",
    "        - 원본 영상이 필요하면 복사본을 만들어서 그리기 & 출력\n",
    "    - 그레이스케일 영상에는 컬러로 그리기가 안 됨\n",
    "        - cv2.cvtColor() 함수로 BGR 컬러 영상으로 변환 후 그리기 함수 호출"
   ]
  },
  {
   "cell_type": "markdown",
   "id": "af25b697-4425-4035-97b4-d6e01db36ec8",
   "metadata": {},
   "source": [
    "## 1. 직선그리그 함수"
   ]
  },
  {
   "cell_type": "markdown",
   "id": "6f0240f6-1610-4040-98d1-cb72ea933ddb",
   "metadata": {},
   "source": [
    "```\n",
    "cv2.line(img, pt1, pt2, color, thickness=None, lineType=None, shift=None)\n",
    "```\n",
    "자체적으로 변환됨 (inplace=True와 같음) \n",
    "- img : 그림을 그릴 영상\n",
    "- pt1, pt2 : 직선의 시작점과 끝점\n",
    "- color : 선 색상 또는 밝기 (B, G, R) 튜플 또는 정수값\n",
    "- thickness : 선 두께 (default=1)\n",
    "- lineType : 선 타입, cv2.LINE_4, cv2.LINE_8, cv2.LINE_AA 중 선택 (default=cv2.LINE_8)\n",
    "- shift : 그리기 좌표 값의 축소 비율 (default=0)\n",
    "\n",
    "AA - Anti-Aliasing (안티에일리어싱)\\\n",
    "높은 해상도의 신호를 낮은 해상도에서 나타낼 때 생기는 계단 현상(깨진 패턴)을 최소화하는 방법이다."
   ]
  },
  {
   "cell_type": "code",
   "execution_count": 14,
   "id": "849ec530-c8b7-4c66-83c0-0fb8b46a2e2c",
   "metadata": {},
   "outputs": [],
   "source": [
    "img = np.full((700, 700, 3), 255, np.uint8)\n",
    "\n",
    "cv2.line(img, (50, 50), (200, 50), (0, 0, 255), 5)\n",
    "cv2.line(img, (50, 60), (150, 160), (0, 0, 128))\n",
    "\n",
    "cv2.imshow('img', img)\n",
    "cv2.waitKey()\n",
    "cv2.destroyAllWindows()\n",
    "\n",
    "# plt.imshow(img)\n",
    "# plt.show()"
   ]
  },
  {
   "cell_type": "markdown",
   "id": "2321a4cb-a5ce-4102-b6af-3fec2e183f8c",
   "metadata": {},
   "source": [
    "## 2. 사각형 그리기"
   ]
  },
  {
   "cell_type": "markdown",
   "id": "a3e5cac2-f4cb-49fe-94be-5487a23c4fe7",
   "metadata": {},
   "source": [
    "```\n",
    "cv2.retangle(img, pt1, pt2, color, thickness=None, lineType=None, shift=None)\n",
    "\n",
    "cv2.rectangle(img, rec, color, thickness=None, lineType=None, shift=None)\n",
    "```\n",
    "\n",
    "- img : 그림을 그릴 영상\n",
    "- pt1, pt2 : 사각형의 두 꼭지점 좌표 (x1, y1) 튜플\n",
    "- rec : 사각형 위치 정보 (x, y, w, h) 튜플\n",
    "- color : 선 색상 또는 밝기 (B, G, R) 튜플 또는 정수값\n",
    "- thickness : 선 두께, (default=1 / if -1을 주면 내부를 채움)\n",
    "- lineType : 선 타입. cv2.LINE_4, cv2.LINE_8, cv2.LINE_AA 중 선택 (default=cv2.LINE_8)\n",
    "- shift : 그리기 좌표 값의 축소 비율 (default=0)"
   ]
  },
  {
   "cell_type": "code",
   "execution_count": 3,
   "id": "c85ce021-709f-4a5d-9e18-d25e819582b7",
   "metadata": {},
   "outputs": [],
   "source": [
    "# img = np.full((400, 300, 3), 255, np.uint8)\n",
    "\n",
    "cv2.rectangle(img, (50, 200, 150, 100), (0, 255, 0), 2)\n",
    "cv2.rectangle(img, (70, 220), (180, 280), (0, 128, 0), -1)\n",
    "\n",
    "cv2.imshow('img', img)\n",
    "cv2.waitKey()\n",
    "cv2.destroyAllWindows()"
   ]
  },
  {
   "cell_type": "markdown",
   "id": "b492d798-bff4-4145-b0e6-fbf5b7aed528",
   "metadata": {},
   "source": [
    "## 3. 원 그리기\n",
    "```\n",
    "cv2.circle(img, center, radius, color, thickness=None, lineType=None, shift=None)\n",
    "```\n",
    "\n",
    "- img : 그림을 그릴 영상\n",
    "- center : 원의 중심 좌표 (x,y) 튜플\n",
    "- radius : 원의 반지름\n",
    "- color : 선 색상 또는 밝기 (B, G, R) 튜플 또는 정수값\n",
    "- thickness : 선 두께, (default=1 / if -1을 주면 내부를 채움)\n",
    "- lineType : 선 타입. cv2.LINE_4, cv2.LINE_8, cv2.LINE_AA 중 선택(default=cv2.LINE_8)\n",
    "- shift : 그리기 좌표 값의 축소 비율, (default=0)"
   ]
  },
  {
   "cell_type": "code",
   "execution_count": 4,
   "id": "ea525fb5-c08f-4837-854b-956a1a36f83e",
   "metadata": {},
   "outputs": [],
   "source": [
    "# 원을 그릴 때는 lineType을 주는 게 좋다\n",
    "cv2.circle(img, (300, 100), 30, (255, 255, 0), -1, cv2.LINE_AA)\n",
    "cv2.circle(img, (300, 100), 60, (255, 0 ,0), 3, cv2.LINE_AA)\n",
    "\n",
    "cv2.imshow('img', img)\n",
    "cv2.waitKey()\n",
    "cv2.destroyAllWindows()"
   ]
  },
  {
   "cell_type": "markdown",
   "id": "6b250263-5637-4b19-a36e-8f86c9e731b7",
   "metadata": {},
   "source": [
    "## 4. 다각형 그리기\n",
    "```\n",
    "cv2.polylines(img, pts, isClosed, color, thickness=None, lineType=None, shift=None)\n",
    "```\n",
    "\n",
    "- img : 그림을 그릴 영상\n",
    "- pts : 다각형 외각 점들의 좌표 배열. numpy.ndarray의 리스트\n",
    "    - e.g) [np.array([[10, 10], [50, 50], [10, 50]], dtype=np.ing32)]\n",
    "- inClosed : 폐곡선 여부. True 또는 False 지정\n",
    "- color : 선 색상 또는 밝기. (B ,G, R) 튜플 또는 정수값\n",
    "- thickness : 선 두께, (default=1 / if -1을 주면 내부를 채움)\n",
    "- lineType : 선 타입. cv2.LINE_4, cv2.LINE_8, cv2.LINE_AA 중 선택(default=cv2.LINE_8)\n",
    "- shift : 그리기 좌표 값의 축소 비율, (default=0)"
   ]
  },
  {
   "cell_type": "code",
   "execution_count": 5,
   "id": "be750ee0-e98e-463a-983b-4fb138e42898",
   "metadata": {},
   "outputs": [],
   "source": [
    "pts = np.array([[250, 200], [300, 200], [350, 300], [250, 300]])\n",
    "cv2.polylines(img, [pts], True, (255, 0 , 255), 2)\n",
    "# 넘파이 배열을 [] 리스트로 감싸서 인자로 줘야한다.\n",
    "\n",
    "cv2.imshow('img', img)\n",
    "cv2.waitKey()\n",
    "cv2.destroyAllWindows()"
   ]
  },
  {
   "cell_type": "markdown",
   "id": "ed199a1a-18d5-4049-962a-6c55513fc789",
   "metadata": {},
   "source": [
    "## 5. 문자열 출력\n",
    "```\n",
    "cv2.putText(img, text, org, fontFace, fontScale, color, thickness=None, lineType=None, bottomLeftOrigin=None)\n",
    "```\n",
    "\n",
    "- img : 그림을 그릴 영상\n",
    "- text : 출력할 문자열\n",
    "- org : 영상에서 문자열을 출력할 위치의 좌측 하단 좌표\n",
    "- fontFace : 폰트 종류. cv2.FONT_HERSHEY_로 시작하는 상수 중 선택/ 한글 지원x\n",
    "- fontScale : 폰트 크기 확대/축소 비율\n",
    "- color : 선 색상 또는 밝기. (B ,G, R) 튜플 또는 정수값\n",
    "- thickness : 선 두께, (default=1 / if -1을 주면 내부를 채움)\n",
    "- lineType : 선 타입. cv2.LINE_4, cv2.LINE_8, cv2.LINE_AA 중 선택\n",
    "- bottomLestOrigin : True이면 영사의 좌측 하단을 원점으로 간주 (default=False)\n"
   ]
  },
  {
   "cell_type": "code",
   "execution_count": 6,
   "id": "e9cd3af6-49fd-4d69-84db-fdf7d51ac77c",
   "metadata": {},
   "outputs": [],
   "source": [
    "text = \"OpenCV Tutorial and Version\" + cv2.__version__\n",
    "cv2.putText(img, text, (50, 350), cv2.FONT_HERSHEY_SIMPLEX, 0.8,\n",
    "           (0,0,255), 1, cv2.LINE_AA)\n",
    "\n",
    "cv2.imshow('img', img)\n",
    "cv2.waitKey()\n",
    "cv2.destroyAllWindows()"
   ]
  }
 ],
 "metadata": {
  "kernelspec": {
   "display_name": "Python 3",
   "language": "python",
   "name": "python3"
  },
  "language_info": {
   "codemirror_mode": {
    "name": "ipython",
    "version": 3
   },
   "file_extension": ".py",
   "mimetype": "text/x-python",
   "name": "python",
   "nbconvert_exporter": "python",
   "pygments_lexer": "ipython3",
   "version": "3.8.8"
  }
 },
 "nbformat": 4,
 "nbformat_minor": 5
}

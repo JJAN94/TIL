{
 "cells": [
  {
   "cell_type": "markdown",
   "id": "7ded3b77-06fa-424b-9c9a-b4f765eeabc0",
   "metadata": {},
   "source": [
    "# 파이몽고"
   ]
  },
  {
   "cell_type": "code",
   "execution_count": 13,
   "id": "ad36d905-eaf9-4296-911b-534e5522844d",
   "metadata": {},
   "outputs": [],
   "source": [
    "import pymongo"
   ]
  },
  {
   "cell_type": "code",
   "execution_count": 14,
   "id": "4de236cb-32ca-4dc5-9651-1c1ce235311f",
   "metadata": {},
   "outputs": [],
   "source": [
    "con = pymongo.MongoClient()"
   ]
  },
  {
   "cell_type": "code",
   "execution_count": 15,
   "id": "d29cec72-1b90-4089-8b88-4a55d74634e9",
   "metadata": {},
   "outputs": [],
   "source": [
    "db = con.test1"
   ]
  },
  {
   "cell_type": "code",
   "execution_count": 16,
   "id": "2bb9a939-9ece-40cb-9b29-b8920057aaf9",
   "metadata": {},
   "outputs": [
    {
     "name": "stdout",
     "output_type": "stream",
     "text": [
      "['_BaseObject__codec_options', '_BaseObject__read_concern', '_BaseObject__read_preference', '_BaseObject__write_concern', '_Database__client', '_Database__incoming_copying_manipulators', '_Database__incoming_manipulators', '_Database__name', '_Database__outgoing_copying_manipulators', '_Database__outgoing_manipulators', '__call__', '__class__', '__delattr__', '__dict__', '__dir__', '__doc__', '__eq__', '__format__', '__ge__', '__getattr__', '__getattribute__', '__getitem__', '__gt__', '__hash__', '__init__', '__init_subclass__', '__iter__', '__le__', '__lt__', '__module__', '__ne__', '__new__', '__next__', '__reduce__', '__reduce_ex__', '__repr__', '__setattr__', '__sizeof__', '__str__', '__subclasshook__', '__weakref__', '_apply_incoming_copying_manipulators', '_apply_incoming_manipulators', '_command', '_create_or_update_user', '_current_op', '_default_role', '_fix_incoming', '_fix_outgoing', '_list_collections', '_read_preference_for', '_retryable_read_command', '_write_concern_for', 'add_son_manipulator', 'add_user', 'aggregate', 'authenticate', 'client', 'codec_options', 'collection_names', 'command', 'create_collection', 'current_op', 'dereference', 'drop_collection', 'error', 'eval', 'get_collection', 'incoming_copying_manipulators', 'incoming_manipulators', 'last_status', 'list_collection_names', 'list_collections', 'logout', 'name', 'next', 'outgoing_copying_manipulators', 'outgoing_manipulators', 'previous_error', 'profiling_info', 'profiling_level', 'read_concern', 'read_preference', 'remove_user', 'reset_error_history', 'set_profiling_level', 'system_js', 'validate_collection', 'watch', 'with_options', 'write_concern']\n"
     ]
    }
   ],
   "source": [
    "print(dir(db))"
   ]
  },
  {
   "cell_type": "code",
   "execution_count": 17,
   "id": "e9afb6ef-d4b6-4208-9b44-118154c4a2c1",
   "metadata": {},
   "outputs": [
    {
     "name": "stdout",
     "output_type": "stream",
     "text": [
      "test1\n"
     ]
    }
   ],
   "source": [
    "print(db.name)"
   ]
  },
  {
   "cell_type": "code",
   "execution_count": 18,
   "id": "2db4e9e8-e9fc-40f0-b0f4-b934fb260fd3",
   "metadata": {},
   "outputs": [],
   "source": [
    "test_collection1 = db.test_collection1"
   ]
  },
  {
   "cell_type": "code",
   "execution_count": 19,
   "id": "e2767ed7-1315-4fa5-8997-fe48fc024184",
   "metadata": {},
   "outputs": [],
   "source": [
    "import datetime\n",
    "post = {\"author\": \"Mike\", \"text\": \"My first blog post!\",\"tags\": [\"mongodb\", \"python\", \"pymongo\"],\"date\": datetime.datetime.utcnow()}"
   ]
  },
  {
   "cell_type": "code",
   "execution_count": 20,
   "id": "64fc7fe9-0885-4df4-9c7a-3a2aa323e6d0",
   "metadata": {},
   "outputs": [],
   "source": [
    "posts = db.posts"
   ]
  },
  {
   "cell_type": "code",
   "execution_count": 21,
   "id": "2288afa4-6cf0-4e20-8ef1-8ccc070b5fa2",
   "metadata": {},
   "outputs": [],
   "source": [
    "post_id = posts.insert_one(post).inserted_id"
   ]
  },
  {
   "cell_type": "code",
   "execution_count": 22,
   "id": "c0b8aa8f-4f5c-430d-b4a6-b0953709cf0f",
   "metadata": {},
   "outputs": [
    {
     "data": {
      "text/plain": [
       "ObjectId('60cbed4740f2509157a34bd8')"
      ]
     },
     "execution_count": 22,
     "metadata": {},
     "output_type": "execute_result"
    }
   ],
   "source": [
    "post_id"
   ]
  },
  {
   "cell_type": "code",
   "execution_count": 25,
   "id": "90298d7d-1ddd-4398-bb03-12e7915dcfc8",
   "metadata": {},
   "outputs": [
    {
     "data": {
      "text/plain": [
       "['posts']"
      ]
     },
     "execution_count": 25,
     "metadata": {},
     "output_type": "execute_result"
    }
   ],
   "source": [
    "db.list_collection_names()"
   ]
  },
  {
   "cell_type": "code",
   "execution_count": 31,
   "id": "2aaf46e8-755a-4d2c-b914-2cd9220f0643",
   "metadata": {},
   "outputs": [
    {
     "name": "stdout",
     "output_type": "stream",
     "text": [
      "{'_id': ObjectId('60cbed4740f2509157a34bd8'), 'author': 'Mike', 'text': 'My first blog post!', 'tags': ['mongodb', 'python', 'pymongo'], 'date': datetime.datetime(2021, 6, 18, 0, 48, 6, 293000)}\n"
     ]
    }
   ],
   "source": [
    "for document in posts.find():\n",
    "    print(document)"
   ]
  },
  {
   "cell_type": "code",
   "execution_count": 33,
   "id": "b794720d-b3be-4f86-aff5-c1693bb8afdb",
   "metadata": {},
   "outputs": [
    {
     "name": "stdout",
     "output_type": "stream",
     "text": [
      "1\n"
     ]
    }
   ],
   "source": [
    "count = db.posts.count_documents({})\n",
    "print(count)"
   ]
  },
  {
   "cell_type": "markdown",
   "id": "9b85e3b1-ab48-4d28-b924-23c9472ecfcb",
   "metadata": {},
   "source": [
    "# document 삽입\n",
    "1. db.posts.insert_one({내용})\n",
    "2. db.posts.insert_one([{1}, {2}, {3}, ...]) ## 리스트로 넣으면 insertMany랑 같은 것"
   ]
  },
  {
   "cell_type": "code",
   "execution_count": 35,
   "id": "9445198d-b964-48f5-8b58-fa68620a7e1c",
   "metadata": {},
   "outputs": [
    {
     "ename": "SyntaxError",
     "evalue": "invalid syntax (<ipython-input-35-57f4cc8b5c7c>, line 1)",
     "output_type": "error",
     "traceback": [
      "\u001b[1;36m  File \u001b[1;32m\"<ipython-input-35-57f4cc8b5c7c>\"\u001b[1;36m, line \u001b[1;32m1\u001b[0m\n\u001b[1;33m    for document in posts.find({\"tags:{$in:{\"mongodb\"}}})\u001b[0m\n\u001b[1;37m                                             ^\u001b[0m\n\u001b[1;31mSyntaxError\u001b[0m\u001b[1;31m:\u001b[0m invalid syntax\n"
     ]
    }
   ],
   "source": [
    "for document in posts.find({\"tags:{$in:{\"mongodb\"}}})"
   ]
  },
  {
   "cell_type": "code",
   "execution_count": null,
   "id": "f5e59854-c657-4bf3-8b5c-80bd53dd92a4",
   "metadata": {},
   "outputs": [],
   "source": []
  }
 ],
 "metadata": {
  "kernelspec": {
   "display_name": "Python 3",
   "language": "python",
   "name": "python3"
  },
  "language_info": {
   "codemirror_mode": {
    "name": "ipython",
    "version": 3
   },
   "file_extension": ".py",
   "mimetype": "text/x-python",
   "name": "python",
   "nbconvert_exporter": "python",
   "pygments_lexer": "ipython3",
   "version": "3.8.8"
  }
 },
 "nbformat": 4,
 "nbformat_minor": 5
}

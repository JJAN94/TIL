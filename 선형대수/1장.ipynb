{
 "cells": [
  {
   "cell_type": "markdown",
   "id": "3a73c4cb-ad83-451e-a8c9-f9cf256d9ab9",
   "metadata": {},
   "source": [
    "# Linear Algebra and Optimization for Machine Learning"
   ]
  },
  {
   "cell_type": "markdown",
   "id": "b394d1c3-f971-4e57-8276-a09e9cedfae1",
   "metadata": {},
   "source": [
    "## Chapter 1. 선형대수와 최적화 : 서론"
   ]
  },
  {
   "cell_type": "markdown",
   "id": "21875c88-287b-4eba-90b3-b152438c251d",
   "metadata": {},
   "source": [
    "### 1.2 스칼라, 벡터, 행렬"
   ]
  },
  {
   "cell_type": "markdown",
   "id": "0cedb1ea-3bd4-4a0f-ab7c-318685334a03",
   "metadata": {},
   "source": [
    "1. 스칼라(scalar)\n",
    "    - 개별 숫자 (1x1 size)\n",
    "2. 벡터(vector)\n",
    "    - 스칼라의 배열\n",
    "    - 벡터의 각 숫자를 벡터의 **성분(element)** 이라 하며, 성분의 개수를 벡터의 **차원(dimension)** 이라한다.\n",
    "3. 행렬(matrix)\n",
    "    - 행(row)과 열(column)을 가진 직사각형 모양의 배열\n",
    "    - n x d (n by d)로 크기를 포현한다.\n",
    "    - 행과 열의 크기가 같으면 **정방행렬** , 아닌건 **비정방행렬** 이라고 한다.\n",
    "    - 행 > 열 : 세로 행렬, 행 < 열 : 가로 행렬\n",
    "    - 세로행렬이 데이터 분석에 더 적합한 행렬 모양이다."
   ]
  },
  {
   "cell_type": "markdown",
   "id": "b412a6e5-6c5d-4a29-ae67-576fecd98d70",
   "metadata": {},
   "source": [
    "#### < 참고 >\n",
    "\\*선형대수 벡터에선 기본적으로 열벡터를 default로 본다.\\\n",
    "\\*선형대수에서는 꼬리가 원점에 위차하는 벡터만을 고려한다.(모든 벡터, 연산, 공간 등에서 원점이 중요한 기준점으로 사용됨)"
   ]
  },
  {
   "cell_type": "markdown",
   "id": "0d10658c-165d-4b7c-9f28-06e87d4ee856",
   "metadata": {},
   "source": [
    "### 1.2.1 스칼라와 벡터 기본 연산"
   ]
  },
  {
   "cell_type": "markdown",
   "id": "defd593b-10c0-4ef5-b26a-9c21e39129bf",
   "metadata": {},
   "source": [
    "x, y 벡터를 다음과 같다고 할때\n",
    "\n",
    "$$\n",
    "\\bar{x} = [x_1 ... x_d]\\\\\n",
    "\\bar{y} = [y_1 ... y_d]\\\\\n",
    "$$"
   ]
  },
  {
   "cell_type": "markdown",
   "id": "048efe05-9f26-4c6f-a71d-0e9221b33dfe",
   "metadata": {},
   "source": [
    "#### 덧셈, 뺄셈\n",
    "원소별 연산을 진행한다."
   ]
  },
  {
   "cell_type": "markdown",
   "id": "935082e0-6f9e-48f8-8444-7d751fdcc974",
   "metadata": {},
   "source": [
    "$$\n",
    "\\bar{x} + \\bar{y} = [x_1+y_1 ... x_d+y_d]\\\\\n",
    "\\bar{x} - \\bar{y} = [x_1-y_1 ... x_d-y_d]\n",
    "$$"
   ]
  },
  {
   "cell_type": "markdown",
   "id": "c0e163c6-a72c-4672-88b9-a5b8643a93dd",
   "metadata": {},
   "source": [
    "#### 스칼라곱"
   ]
  },
  {
   "cell_type": "markdown",
   "id": "ef023284-5e79-4aef-87c9-fe6d8bf2487e",
   "metadata": {},
   "source": [
    "$$\n",
    "a\\bar{x} = [ax_1 ... ax_d]\\\\\n",
    "$$\n",
    "스칼라 곱셈은 벡터의 **길이**만 변경하며 **방향**을 변경하지는 않는다"
   ]
  },
  {
   "cell_type": "markdown",
   "id": "27ce23dd-e495-4953-999e-e4631124c9d0",
   "metadata": {},
   "source": [
    "#### 벡터의 길이 - 노옴(norm)\n",
    "벡터간 곱셈\n",
    "- 점곱(dot product) 개념 적용\n",
    "- 원소간 곱하고 다 더해주는 것"
   ]
  },
  {
   "cell_type": "markdown",
   "id": "4dc5b451-886a-44d1-97ab-dc79dc727821",
   "metadata": {},
   "source": [
    "$$\n",
    "\\bar{x}\\cdot\\bar{y} = \\sum_{i=1}^{d}{x_i}{y_i}\n",
    "$$"
   ]
  },
  {
   "cell_type": "markdown",
   "id": "8389681f-0b92-42de-b378-6dc579cee674",
   "metadata": {},
   "source": [
    "- 교환법칙도 성립한다.\n",
    "$$\n",
    "\\bar{x}\\cdot\\bar{y} = \\sum_{i=1}^{d}{x_i}{y_i} = \\sum_{i=1}^{d}{y_i}{x_i} = \\bar{y}\\cdot\\bar{x}\n",
    "$$"
   ]
  },
  {
   "cell_type": "markdown",
   "id": "72abe535-74f7-4e8d-bc0c-3e4b301de30f",
   "metadata": {},
   "source": [
    "- 벡터 자신과의 점곱을 **노옴 제곱** or **유클리드 노옴 제곱**이라고 한다.\n",
    "$$\n",
    "{\\lVert \\bar{x} \\rVert}^2 = \\bar{x}\\cdot\\bar{x} = \\sum_{i=1}^{d}{x_i}^2\n",
    "$$"
   ]
  },
  {
   "cell_type": "markdown",
   "id": "94bfd7f5-cb70-47c2-9217-06561e87a1a1",
   "metadata": {},
   "source": [
    "- 벡터의 **노옴**은 원점에서 벡터 좌표까지의 유클리드 거리다.\n",
    "$$\n",
    "{\\lVert \\bar{x} \\rVert} = \\sqrt{\\bar{x}\\cdot\\bar{x}} = \\sqrt{\\sum_{i=1}^{d}{x_i}^2}\n",
    "$$"
   ]
  },
  {
   "cell_type": "markdown",
   "id": "ab149f87-9ed4-402c-91a1-ae81f0d2f83b",
   "metadata": {},
   "source": [
    "- 단위벡터\n",
    "    - 벡터의 정규화(벡터를 단위 길이로 나누는 것) 시킨 것\n",
    "$$\n",
    "\\bar{x}^\\prime = \\frac{\\bar{x}}{\\lVert \\bar{x} \\rVert} = \\frac{\\bar{x}}{\\sqrt{\\bar{x}\\cdot\\bar{x}}}\n",
    "$$"
   ]
  },
  {
   "cell_type": "markdown",
   "id": "eee7431a-0b4a-41c1-88ee-a8971f8d934b",
   "metadata": {},
   "source": [
    "- 유클리드 노옴의 일반화는 $L_p - norm$ 이며 ${\\lVert \\cdot \\rVert}_p$ 으로 표현한다\n",
    "    - 프로베니우스 노옴이라고도 한다.\n",
    "    - $L_1-norm$ 은 맨해튼 노옴이라고 한다.\n",
    "    \n",
    "$$\n",
    "{\\lVert \\bar{x} \\rVert}_p = (\\sum_{i=1}^{d}{\\left\\vert x_i \\right\\vert}^p)^{(\\frac{1}{p})}\n",
    "$$"
   ]
  },
  {
   "cell_type": "markdown",
   "id": "c06f8076-197e-40d9-9bd8-362183800d56",
   "metadata": {},
   "source": []
  },
  {
   "cell_type": "markdown",
   "id": "99ec861e-00ee-4c8d-82ad-a7d4e66e8be5",
   "metadata": {},
   "source": []
  },
  {
   "cell_type": "markdown",
   "id": "a10111b2-ab5c-40a5-9047-c949dc8a748f",
   "metadata": {},
   "source": []
  },
  {
   "cell_type": "markdown",
   "id": "af343beb-966c-45a0-8262-1ac33a8cae6c",
   "metadata": {},
   "source": []
  },
  {
   "cell_type": "markdown",
   "id": "8dff3626-194e-4843-a1bb-bd450b7099f9",
   "metadata": {},
   "source": []
  },
  {
   "cell_type": "markdown",
   "id": "c6658a73-2d93-47df-bcc4-b0179c24459a",
   "metadata": {},
   "source": []
  },
  {
   "cell_type": "markdown",
   "id": "fe3a8b95-0084-4dd6-ba5b-c4965436db55",
   "metadata": {},
   "source": []
  },
  {
   "cell_type": "markdown",
   "id": "8e7b98d0-d514-4949-ab66-fbe1b3b60c8b",
   "metadata": {},
   "source": []
  },
  {
   "cell_type": "markdown",
   "id": "2a331bdd-85f7-44e7-858b-d09f936215d3",
   "metadata": {},
   "source": []
  },
  {
   "cell_type": "markdown",
   "id": "6f234e08-23b1-474f-bca6-068f38e8fb3c",
   "metadata": {},
   "source": []
  },
  {
   "cell_type": "markdown",
   "id": "cd921c78-559e-4212-8b9c-4000620f479c",
   "metadata": {},
   "source": []
  },
  {
   "cell_type": "markdown",
   "id": "2a192850-95c7-456d-a941-ed8791183461",
   "metadata": {},
   "source": []
  }
 ],
 "metadata": {
  "kernelspec": {
   "display_name": "Python 3",
   "language": "python",
   "name": "python3"
  },
  "language_info": {
   "codemirror_mode": {
    "name": "ipython",
    "version": 3
   },
   "file_extension": ".py",
   "mimetype": "text/x-python",
   "name": "python",
   "nbconvert_exporter": "python",
   "pygments_lexer": "ipython3",
   "version": "3.8.8"
  }
 },
 "nbformat": 4,
 "nbformat_minor": 5
}

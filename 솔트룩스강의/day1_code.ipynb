{
 "cells": [
  {
   "cell_type": "code",
   "execution_count": 4,
   "metadata": {},
   "outputs": [
    {
     "name": "stdout",
     "output_type": "stream",
     "text": [
      "hello\n"
     ]
    }
   ],
   "source": [
    "print('hello') # shift + enter / ctrl + enter"
   ]
  },
  {
   "cell_type": "markdown",
   "metadata": {},
   "source": [
    "파이썬 데이터분석"
   ]
  },
  {
   "cell_type": "code",
   "execution_count": 5,
   "metadata": {},
   "outputs": [
    {
     "ename": "SyntaxError",
     "evalue": "invalid syntax (<ipython-input-5-9fbd646de93c>, line 1)",
     "output_type": "error",
     "traceback": [
      "\u001b[1;36m  File \u001b[1;32m\"<ipython-input-5-9fbd646de93c>\"\u001b[1;36m, line \u001b[1;32m1\u001b[0m\n\u001b[1;33m    파이썬 데이터분석\u001b[0m\n\u001b[1;37m        ^\u001b[0m\n\u001b[1;31mSyntaxError\u001b[0m\u001b[1;31m:\u001b[0m invalid syntax\n"
     ]
    }
   ],
   "source": [
    "파이썬 데이터분석"
   ]
  },
  {
   "cell_type": "markdown",
   "metadata": {},
   "source": [
    "# Hello markdown1\n",
    "## Hello markdown2\n",
    "### Hello markdown3\n",
    "#### Hello markdown4\n",
    "* python 2.7\n",
    "* python 3.9\n",
    "\n",
    "```python\n",
    "s = \"Python syntax highlighting\"\n",
    "print s\n",
    "def add(a, b):\n",
    "    return a + b\n",
    "```\n",
    "\n",
    "> Blockquotes starts\n",
    "\n",
    "\n",
    "This is **Python**\n",
    "\n",
    "\n",
    "__webpage 호환__\n",
    "- [python webwage](https://www.python.org/)\n",
    "- [naver](https://www.naver.com/)\n",
    "- [주요 기사](https://news.naver.com/main/read.naver?mode=LSD&mid=shm&sid1=100&oid=003&aid=0010877005)"
   ]
  },
  {
   "cell_type": "markdown",
   "metadata": {},
   "source": [
    "# 마크다운 주요 단축키 설명\n",
    " - 셀을 실행시키는 단축키: shift+enter, ctrl+enter\n",
    " - a: 위에 셀을 생성\n",
    " - b: 밑에 셀을 생성\n",
    " - dd: 셀을 삭제\n",
    " - z: 잘못 삭제했을 경우에 되돌리는 법\n",
    " - m: markdown 형태로 바뀜\n",
    " - y: code 형태로 바뀜"
   ]
  },
  {
   "cell_type": "code",
   "execution_count": 6,
   "metadata": {},
   "outputs": [
    {
     "name": "stdout",
     "output_type": "stream",
     "text": [
      "10\n"
     ]
    }
   ],
   "source": [
    "a = 10 # '=' 같다로 해석하지 말 것\n",
    "print(a)"
   ]
  },
  {
   "cell_type": "code",
   "execution_count": 7,
   "metadata": {},
   "outputs": [
    {
     "name": "stdout",
     "output_type": "stream",
     "text": [
      "30\n"
     ]
    }
   ],
   "source": [
    "a = 10\n",
    "b = 20\n",
    "c = a + b\n",
    "print(c)"
   ]
  },
  {
   "cell_type": "code",
   "execution_count": 8,
   "metadata": {},
   "outputs": [
    {
     "name": "stdout",
     "output_type": "stream",
     "text": [
      "9\n"
     ]
    }
   ],
   "source": [
    "def add(a,b):\n",
    "    return a+b\n",
    "\n",
    "c = add(4,5) #add 함수 실행결과를 c에 저장\n",
    "print(c)"
   ]
  },
  {
   "cell_type": "code",
   "execution_count": 9,
   "metadata": {},
   "outputs": [],
   "source": [
    "from sklearn.linear_model import LinearRegression\n",
    "\n",
    "model = LinearRegression() # model이라는 변수에 머신러닝 기법을 저장"
   ]
  },
  {
   "cell_type": "code",
   "execution_count": 10,
   "metadata": {},
   "outputs": [
    {
     "name": "stdout",
     "output_type": "stream",
     "text": [
      "한 달은 31 입니다.\n"
     ]
    }
   ],
   "source": [
    "days = 31\n",
    "print('한 달은', days, '입니다.')"
   ]
  },
  {
   "cell_type": "code",
   "execution_count": 11,
   "metadata": {},
   "outputs": [
    {
     "name": "stdout",
     "output_type": "stream",
     "text": [
      "한 달은 30 입니다.\n",
      "한 달은 31 일 이기도 합니다..\n"
     ]
    }
   ],
   "source": [
    "days = 30\n",
    "print('한 달은', days, '입니다.')\n",
    "days = 31\n",
    "print('한 달은', days, '일 이기도 합니다..')"
   ]
  },
  {
   "cell_type": "markdown",
   "metadata": {},
   "source": [
    "**변수명 규칙**\n",
    " - 한글문자 또는 언저바(숫자)로 시작 불가\n",
    " - 대소문자 구분\n",
    " - 특수문자도 사용 불가"
   ]
  },
  {
   "cell_type": "markdown",
   "metadata": {},
   "source": [
    "__데이터 타입__\n",
    " - 정수형(int)\n",
    " - 실수형(float)\n",
    " - 문자형(str)"
   ]
  },
  {
   "cell_type": "code",
   "execution_count": 17,
   "metadata": {},
   "outputs": [
    {
     "name": "stdout",
     "output_type": "stream",
     "text": [
      "1.875\n"
     ]
    }
   ],
   "source": [
    "# 연산 문제\n",
    "x = (2+4) * 5 / (2*2)**2\n",
    "print(x)"
   ]
  },
  {
   "cell_type": "markdown",
   "metadata": {},
   "source": [
    "# 문자형이란?"
   ]
  },
  {
   "cell_type": "markdown",
   "metadata": {},
   "source": [
    " - '' or \"\" 붙여서 사용됨\n",
    " - '안녕하세요', \"안녕하세요\""
   ]
  },
  {
   "cell_type": "code",
   "execution_count": 18,
   "metadata": {},
   "outputs": [
    {
     "name": "stdout",
     "output_type": "stream",
     "text": [
      "apple\n"
     ]
    }
   ],
   "source": [
    "word = 'apple'\n",
    "print(word)"
   ]
  },
  {
   "cell_type": "code",
   "execution_count": 20,
   "metadata": {},
   "outputs": [
    {
     "name": "stdout",
     "output_type": "stream",
     "text": [
      "apple\n"
     ]
    }
   ],
   "source": [
    "word = \"apple\"\n",
    "print(word)"
   ]
  },
  {
   "cell_type": "code",
   "execution_count": 22,
   "metadata": {},
   "outputs": [
    {
     "name": "stdout",
     "output_type": "stream",
     "text": [
      "10\n",
      "<class 'int'>\n"
     ]
    }
   ],
   "source": [
    "# 정수형\n",
    "a = 10\n",
    "print(a)\n",
    "print(type(a))"
   ]
  },
  {
   "cell_type": "code",
   "execution_count": 23,
   "metadata": {},
   "outputs": [
    {
     "name": "stdout",
     "output_type": "stream",
     "text": [
      "23.1\n",
      "<class 'float'>\n"
     ]
    }
   ],
   "source": [
    "# 실수형\n",
    "a = 23.1\n",
    "print(a)\n",
    "print(type(a))"
   ]
  },
  {
   "cell_type": "code",
   "execution_count": 24,
   "metadata": {},
   "outputs": [
    {
     "name": "stdout",
     "output_type": "stream",
     "text": [
      "jongwoo\n",
      "<class 'str'>\n"
     ]
    }
   ],
   "source": [
    "a = 'jongwoo'\n",
    "print(a)\n",
    "print(type(a))"
   ]
  },
  {
   "cell_type": "code",
   "execution_count": 26,
   "metadata": {},
   "outputs": [
    {
     "data": {
      "text/plain": [
       "40"
      ]
     },
     "execution_count": 26,
     "metadata": {},
     "output_type": "execute_result"
    }
   ],
   "source": [
    "a = 10\n",
    "b = 30\n",
    "\n",
    "a+b"
   ]
  },
  {
   "cell_type": "code",
   "execution_count": 28,
   "metadata": {},
   "outputs": [
    {
     "name": "stdout",
     "output_type": "stream",
     "text": [
      "i like python\n",
      "i need python\n"
     ]
    }
   ],
   "source": [
    "# 여러줄인 경우에 문자 (\\n: 이스케이프 코드)\n",
    "\n",
    "day = 'i like python\\ni need python'\n",
    "print(day)"
   ]
  },
  {
   "cell_type": "code",
   "execution_count": 30,
   "metadata": {},
   "outputs": [
    {
     "name": "stdout",
     "output_type": "stream",
     "text": [
      "i like python\n",
      "i need python\n"
     ]
    }
   ],
   "source": [
    "multi = \"\"\"i like python\n",
    "i need python\"\"\"\n",
    "\n",
    "print(multi)"
   ]
  },
  {
   "cell_type": "code",
   "execution_count": 31,
   "metadata": {},
   "outputs": [
    {
     "name": "stdout",
     "output_type": "stream",
     "text": [
      "안재진\n"
     ]
    }
   ],
   "source": [
    "name = '안재진'\n",
    "print(name)"
   ]
  },
  {
   "cell_type": "code",
   "execution_count": 35,
   "metadata": {},
   "outputs": [
    {
     "name": "stdout",
     "output_type": "stream",
     "text": [
      "안재진님 안녕하세요.\n"
     ]
    }
   ],
   "source": [
    "greet = '안녕하세요.'\n",
    "print(name + '님 ' + greet)"
   ]
  },
  {
   "cell_type": "code",
   "execution_count": 36,
   "metadata": {},
   "outputs": [
    {
     "name": "stdout",
     "output_type": "stream",
     "text": [
      "blueblueblueblueblue\n"
     ]
    }
   ],
   "source": [
    "a = 'blue' * 5\n",
    "print(a)"
   ]
  },
  {
   "cell_type": "markdown",
   "metadata": {},
   "source": [
    "# 인덱싱(Indexing), 슬라이싱(Slicing)\n",
    " - 인덱싱: 무엇인가를 '가리킨다'\n",
    " - 슬라이싱: 무엇인가를 '잘라낸다'"
   ]
  },
  {
   "cell_type": "code",
   "execution_count": 38,
   "metadata": {},
   "outputs": [
    {
     "name": "stdout",
     "output_type": "stream",
     "text": [
      "Hello World!\n"
     ]
    }
   ],
   "source": [
    "a = 'Hello World!'\n",
    "print(a)"
   ]
  },
  {
   "cell_type": "code",
   "execution_count": 39,
   "metadata": {},
   "outputs": [
    {
     "name": "stdout",
     "output_type": "stream",
     "text": [
      "o\n"
     ]
    }
   ],
   "source": [
    "# 문자열 인덱싱\n",
    "print(a[4])"
   ]
  },
  {
   "cell_type": "code",
   "execution_count": 40,
   "metadata": {},
   "outputs": [
    {
     "name": "stdout",
     "output_type": "stream",
     "text": [
      "H\n"
     ]
    }
   ],
   "source": [
    "print(a[0])"
   ]
  },
  {
   "cell_type": "code",
   "execution_count": 41,
   "metadata": {},
   "outputs": [
    {
     "name": "stdout",
     "output_type": "stream",
     "text": [
      "!\n"
     ]
    }
   ],
   "source": [
    "print(a[-1])"
   ]
  },
  {
   "cell_type": "code",
   "execution_count": 42,
   "metadata": {},
   "outputs": [
    {
     "name": "stdout",
     "output_type": "stream",
     "text": [
      "d\n"
     ]
    }
   ],
   "source": [
    "print(a[-2])"
   ]
  },
  {
   "cell_type": "code",
   "execution_count": 44,
   "metadata": {},
   "outputs": [
    {
     "name": "stdout",
     "output_type": "stream",
     "text": [
      "Hello\n"
     ]
    }
   ],
   "source": [
    "# 문자열 슬라이싱\n",
    "b = a[0:5]\n",
    "print(b)"
   ]
  },
  {
   "cell_type": "code",
   "execution_count": 49,
   "metadata": {},
   "outputs": [
    {
     "name": "stdout",
     "output_type": "stream",
     "text": [
      "World\n"
     ]
    }
   ],
   "source": [
    "c = a[6:11]\n",
    "print(c)"
   ]
  },
  {
   "cell_type": "code",
   "execution_count": 50,
   "metadata": {},
   "outputs": [
    {
     "data": {
      "text/plain": [
       "'Hello'"
      ]
     },
     "execution_count": 50,
     "metadata": {},
     "output_type": "execute_result"
    }
   ],
   "source": [
    "a[0] + a[1] + a[2] + a[3] + a[4]"
   ]
  },
  {
   "cell_type": "markdown",
   "metadata": {},
   "source": [
    "변수명[시작번호:끝번호]와 같은 형식으로 쓰이며, 끝번호는 포함하지 않는다."
   ]
  },
  {
   "cell_type": "code",
   "execution_count": 51,
   "metadata": {},
   "outputs": [
    {
     "data": {
      "text/plain": [
       "'Hello'"
      ]
     },
     "execution_count": 51,
     "metadata": {},
     "output_type": "execute_result"
    }
   ],
   "source": [
    "a[:5]"
   ]
  },
  {
   "cell_type": "code",
   "execution_count": 52,
   "metadata": {},
   "outputs": [
    {
     "data": {
      "text/plain": [
       "'World!'"
      ]
     },
     "execution_count": 52,
     "metadata": {},
     "output_type": "execute_result"
    }
   ],
   "source": [
    "a[6:]"
   ]
  },
  {
   "cell_type": "code",
   "execution_count": 53,
   "metadata": {},
   "outputs": [
    {
     "data": {
      "text/plain": [
       "'2021-12-08 PM14:27'"
      ]
     },
     "execution_count": 53,
     "metadata": {},
     "output_type": "execute_result"
    }
   ],
   "source": [
    "a = '2021-12-08 PM14:27'\n",
    "a"
   ]
  },
  {
   "cell_type": "code",
   "execution_count": 60,
   "metadata": {},
   "outputs": [],
   "source": [
    "year = a[:4]\n",
    "month = a[5:7]\n",
    "day = a[9:11]"
   ]
  },
  {
   "cell_type": "code",
   "execution_count": 61,
   "metadata": {},
   "outputs": [
    {
     "data": {
      "text/plain": [
       "('2021', '12', '8 ')"
      ]
     },
     "execution_count": 61,
     "metadata": {},
     "output_type": "execute_result"
    }
   ],
   "source": [
    "year, month, day"
   ]
  },
  {
   "cell_type": "markdown",
   "metadata": {},
   "source": [
    "문자열 포맷팅  \n",
    ": 문자열 안에 어떤 값을 삽입하는 방법"
   ]
  },
  {
   "cell_type": "code",
   "execution_count": 63,
   "metadata": {},
   "outputs": [
    {
     "name": "stdout",
     "output_type": "stream",
     "text": [
      "나는 파랑을 좋아합니다.\n",
      "나는 초록을 좋아합니다.\n"
     ]
    }
   ],
   "source": [
    "color = '파랑'\n",
    "s = '나는 %s을 좋아합니다.'%color # %에 color 값을 넣겠다.\n",
    "print(s)\n",
    "color = '초록'\n",
    "s = '나는 %s을 좋아합니다.'%color\n",
    "print(s)"
   ]
  },
  {
   "cell_type": "code",
   "execution_count": 64,
   "metadata": {},
   "outputs": [
    {
     "name": "stdout",
     "output_type": "stream",
     "text": [
      "합계: 275, 평균: 91.67\n"
     ]
    }
   ],
   "source": [
    "kor = 90\n",
    "eng = 100\n",
    "math = 85\n",
    "\n",
    "sum = kor+eng+math\n",
    "avg = sum/3\n",
    "\n",
    "print('합계: %d, 평균: %.2f'%(sum,avg))"
   ]
  },
  {
   "cell_type": "code",
   "execution_count": 66,
   "metadata": {},
   "outputs": [
    {
     "name": "stdout",
     "output_type": "stream",
     "text": [
      "hi        \n"
     ]
    }
   ],
   "source": [
    "# 포백코드와 숫자 사용\n",
    "a = '%-10s' %'hi'\n",
    "print(a)"
   ]
  },
  {
   "cell_type": "code",
   "execution_count": 68,
   "metadata": {},
   "outputs": [
    {
     "name": "stdout",
     "output_type": "stream",
     "text": [
      "3.4213\n"
     ]
    }
   ],
   "source": [
    "a = '%.4f' %3.42134234\n",
    "print(a)"
   ]
  },
  {
   "cell_type": "markdown",
   "metadata": {},
   "source": [
    "format함수를 이용한 포맷팅\n",
    "- {}괄호를 이용한 포맷팅 방법"
   ]
  },
  {
   "cell_type": "code",
   "execution_count": 72,
   "metadata": {},
   "outputs": [
    {
     "name": "stdout",
     "output_type": "stream",
     "text": [
      "i want 5 eggs\n"
     ]
    }
   ],
   "source": [
    "number = 5\n",
    "a = 'i want {} eggs'.format(number)\n",
    "print(a)"
   ]
  },
  {
   "cell_type": "code",
   "execution_count": 73,
   "metadata": {},
   "outputs": [],
   "source": [
    "color = 'white'"
   ]
  },
  {
   "cell_type": "code",
   "execution_count": 74,
   "metadata": {},
   "outputs": [],
   "source": [
    "day = 'ten'"
   ]
  },
  {
   "cell_type": "code",
   "execution_count": 75,
   "metadata": {},
   "outputs": [],
   "source": [
    "a = 'i like {} eggs. so i ate them for {} days'.format(color, day)"
   ]
  },
  {
   "cell_type": "code",
   "execution_count": 76,
   "metadata": {},
   "outputs": [
    {
     "data": {
      "text/plain": [
       "'i like white eggs. so i ate them for ten days'"
      ]
     },
     "execution_count": 76,
     "metadata": {},
     "output_type": "execute_result"
    }
   ],
   "source": [
    "a"
   ]
  },
  {
   "cell_type": "code",
   "execution_count": 80,
   "metadata": {},
   "outputs": [
    {
     "name": "stdout",
     "output_type": "stream",
     "text": [
      "데이터 분석 열심히 해봅시다.\n"
     ]
    }
   ],
   "source": [
    "print('데이터 분석%s 해봅시다.'%' 열심히')"
   ]
  },
  {
   "cell_type": "markdown",
   "metadata": {},
   "source": [
    "**글자를 진하게 써봅시다.**  \n",
    "__글자를 진하게 써봅시다.__  \n",
    "___글자를 진하게 써봅시다.___"
   ]
  },
  {
   "cell_type": "markdown",
   "metadata": {},
   "source": [
    "# 여러가지 문자열 함수"
   ]
  },
  {
   "cell_type": "code",
   "execution_count": 88,
   "metadata": {},
   "outputs": [
    {
     "name": "stdout",
     "output_type": "stream",
     "text": [
      "문자열의 길이: 17\n"
     ]
    }
   ],
   "source": [
    "# 문자열의 길이를 구하는 함수\n",
    "message = '안녕하세요 오늘은 수요일입니다.'\n",
    "str_len = len(message)\n",
    "a = str(str_len)\n",
    "print('문자열의 길이: ' + a)"
   ]
  },
  {
   "cell_type": "code",
   "execution_count": 89,
   "metadata": {},
   "outputs": [
    {
     "name": "stdout",
     "output_type": "stream",
     "text": [
      "2\n"
     ]
    }
   ],
   "source": [
    "# 문자열의 개수\n",
    "a = 'happy'\n",
    "b = a.count('p')\n",
    "print(b)"
   ]
  },
  {
   "cell_type": "code",
   "execution_count": 98,
   "metadata": {},
   "outputs": [
    {
     "name": "stdout",
     "output_type": "stream",
     "text": [
      "5\n"
     ]
    }
   ],
   "source": [
    "# 문자열의 위치 반환\n",
    "a = 'i like egg'\n",
    "f = a.find('e')\n",
    "print(f)"
   ]
  },
  {
   "cell_type": "code",
   "execution_count": 95,
   "metadata": {},
   "outputs": [],
   "source": [
    "# 문자열 삽입\n",
    "j = ','.join('abcd')"
   ]
  },
  {
   "cell_type": "code",
   "execution_count": 97,
   "metadata": {},
   "outputs": [
    {
     "name": "stdout",
     "output_type": "stream",
     "text": [
      "a,b,c,d\n"
     ]
    }
   ],
   "source": [
    "print(j)"
   ]
  },
  {
   "cell_type": "code",
   "execution_count": 100,
   "metadata": {},
   "outputs": [
    {
     "data": {
      "text/plain": [
       "'HI MY NAME IS JONGWOO'"
      ]
     },
     "execution_count": 100,
     "metadata": {},
     "output_type": "execute_result"
    }
   ],
   "source": [
    "# upper / lower\n",
    "\n",
    "a = 'HI'\n",
    "b = 'hi'\n",
    "c = 'Hi my name is Jongwoo'\n",
    "c.upper()"
   ]
  },
  {
   "cell_type": "markdown",
   "metadata": {},
   "source": [
    "공백에 대한 함수(strip)"
   ]
  },
  {
   "cell_type": "code",
   "execution_count": 101,
   "metadata": {},
   "outputs": [
    {
     "name": "stdout",
     "output_type": "stream",
     "text": [
      "            hi   \n"
     ]
    }
   ],
   "source": [
    "a = '            hi   '\n",
    "print(a)"
   ]
  },
  {
   "cell_type": "code",
   "execution_count": 102,
   "metadata": {},
   "outputs": [
    {
     "name": "stdout",
     "output_type": "stream",
     "text": [
      "hi   \n"
     ]
    }
   ],
   "source": [
    "l = a.lstrip()\n",
    "print(l)"
   ]
  },
  {
   "cell_type": "code",
   "execution_count": 104,
   "metadata": {},
   "outputs": [
    {
     "data": {
      "text/plain": [
       "'hi'"
      ]
     },
     "execution_count": 104,
     "metadata": {},
     "output_type": "execute_result"
    }
   ],
   "source": [
    "a.strip()"
   ]
  },
  {
   "cell_type": "code",
   "execution_count": 105,
   "metadata": {},
   "outputs": [
    {
     "data": {
      "text/plain": [
       "'hello python'"
      ]
     },
     "execution_count": 105,
     "metadata": {},
     "output_type": "execute_result"
    }
   ],
   "source": [
    "a = '--------hello python-------'\n",
    "s = a.strip('-')\n",
    "s"
   ]
  },
  {
   "cell_type": "code",
   "execution_count": 106,
   "metadata": {},
   "outputs": [
    {
     "name": "stdout",
     "output_type": "stream",
     "text": [
      "Life is good\n"
     ]
    }
   ],
   "source": [
    "# 문자열 바꾸기\n",
    "a = 'Life is bad'\n",
    "s = a.replace('bad','good')\n",
    "print(s)"
   ]
  },
  {
   "cell_type": "markdown",
   "metadata": {},
   "source": [
    "# replace, split, strip"
   ]
  },
  {
   "cell_type": "code",
   "execution_count": 109,
   "metadata": {},
   "outputs": [
    {
     "name": "stdout",
     "output_type": "stream",
     "text": [
      "['Life', 'is', 'good']\n"
     ]
    }
   ],
   "source": [
    "# 문자열 나누기(split)\n",
    "dat = s.split()\n",
    "print(dat)"
   ]
  },
  {
   "cell_type": "code",
   "execution_count": 110,
   "metadata": {},
   "outputs": [
    {
     "name": "stdout",
     "output_type": "stream",
     "text": [
      "['a', 'b', 'c', 'd']\n"
     ]
    }
   ],
   "source": [
    "b = 'a:b:c:d'\n",
    "s = b.split(':') # ':'값을 구분자로 문자열을 나누겠다.\n",
    "print(s)"
   ]
  },
  {
   "cell_type": "markdown",
   "metadata": {},
   "source": [
    "복수의 데이터를 담는 그릇을 복합자료형이라고 생각해보자."
   ]
  },
  {
   "cell_type": "markdown",
   "metadata": {},
   "source": [
    "# 복합자료형\n",
    "- 리스트(list) +++++\n",
    "- 튜플(tuple) ++\n",
    "- 셋(set)+\n",
    "- 딕셔너리(dictionary) +++++"
   ]
  },
  {
   "cell_type": "markdown",
   "metadata": {},
   "source": [
    "여러 개의 데이터를 다룰 때, 하나의 변수에 많은 값들을 집어넣기 위하여...!"
   ]
  },
  {
   "cell_type": "code",
   "execution_count": 111,
   "metadata": {},
   "outputs": [
    {
     "name": "stdout",
     "output_type": "stream",
     "text": [
      "[90, 89, 77, 95, 67]\n",
      "['apple', 'banna', 'white']\n"
     ]
    }
   ],
   "source": [
    "score = [90,89,77,95,67]\n",
    "fruit = ['apple','banna','white']\n",
    "\n",
    "print(score)\n",
    "print(fruit)"
   ]
  },
  {
   "cell_type": "code",
   "execution_count": 120,
   "metadata": {},
   "outputs": [
    {
     "data": {
      "text/plain": [
       "[1, 2, 3, ['a', 'b', 'c'], 4, 5]"
      ]
     },
     "execution_count": 120,
     "metadata": {},
     "output_type": "execute_result"
    }
   ],
   "source": [
    "a = [1,2,3,['a','b','c'],4,5]\n",
    "a"
   ]
  },
  {
   "cell_type": "code",
   "execution_count": 122,
   "metadata": {},
   "outputs": [
    {
     "data": {
      "text/plain": [
       "['a', 'b']"
      ]
     },
     "execution_count": 122,
     "metadata": {},
     "output_type": "execute_result"
    }
   ],
   "source": [
    "a[3][:2]"
   ]
  },
  {
   "cell_type": "code",
   "execution_count": 124,
   "metadata": {},
   "outputs": [
    {
     "name": "stdout",
     "output_type": "stream",
     "text": [
      "[1, 3, 5, 7, 9, 11, 13, 15, 17, 19]\n",
      "[7, 9, 11, 13]\n"
     ]
    }
   ],
   "source": [
    "num = list(range(1,21,2)) # 1부터 20까지 2씩 증가하는 데이터 생성\n",
    "print(num)\n",
    "print(num[3:7])"
   ]
  },
  {
   "cell_type": "code",
   "execution_count": 126,
   "metadata": {},
   "outputs": [
    {
     "data": {
      "text/plain": [
       "6"
      ]
     },
     "execution_count": 126,
     "metadata": {},
     "output_type": "execute_result"
    }
   ],
   "source": [
    "a = [1,2,3]\n",
    "b = [4,5,6]\n",
    "c = a+b\n",
    "len(c)"
   ]
  },
  {
   "cell_type": "code",
   "execution_count": 127,
   "metadata": {},
   "outputs": [
    {
     "name": "stdout",
     "output_type": "stream",
     "text": [
      "[1, 2, 4]\n"
     ]
    }
   ],
   "source": [
    "# 리스트에서 값 수정\n",
    "a = [1,2,3]\n",
    "a[2] = 4\n",
    "\n",
    "print(a)"
   ]
  },
  {
   "cell_type": "code",
   "execution_count": 128,
   "metadata": {},
   "outputs": [
    {
     "name": "stdout",
     "output_type": "stream",
     "text": [
      "[1, 2]\n"
     ]
    }
   ],
   "source": [
    "del a[2]\n",
    "print(a)"
   ]
  },
  {
   "cell_type": "code",
   "execution_count": 129,
   "metadata": {},
   "outputs": [
    {
     "name": "stdout",
     "output_type": "stream",
     "text": [
      "[1, 2]\n"
     ]
    }
   ],
   "source": [
    "a = [1,2,3,4,5]\n",
    "del a[2:]\n",
    "print(a)"
   ]
  },
  {
   "cell_type": "code",
   "execution_count": 138,
   "metadata": {},
   "outputs": [
    {
     "data": {
      "text/plain": [
       "5"
      ]
     },
     "execution_count": 138,
     "metadata": {},
     "output_type": "execute_result"
    }
   ],
   "source": [
    "a = 'i like egg'\n",
    "a.find('e')"
   ]
  },
  {
   "cell_type": "code",
   "execution_count": 140,
   "metadata": {},
   "outputs": [
    {
     "data": {
      "text/plain": [
       "7"
      ]
     },
     "execution_count": 140,
     "metadata": {},
     "output_type": "execute_result"
    }
   ],
   "source": [
    "a.find('e', 6)"
   ]
  },
  {
   "cell_type": "code",
   "execution_count": 141,
   "metadata": {},
   "outputs": [
    {
     "data": {
      "text/plain": [
       "'i want eggs'"
      ]
     },
     "execution_count": 141,
     "metadata": {},
     "output_type": "execute_result"
    }
   ],
   "source": [
    "b = 'i @@want eggs!!'\n",
    "b.replace('@@','').replace('!!','')"
   ]
  },
  {
   "cell_type": "code",
   "execution_count": 142,
   "metadata": {},
   "outputs": [],
   "source": [
    "# 리스트에 요소를 추가하는 법\n",
    "a = [1,2,3]\n",
    "a.append(4)"
   ]
  },
  {
   "cell_type": "code",
   "execution_count": 144,
   "metadata": {},
   "outputs": [
    {
     "data": {
      "text/plain": [
       "[1, 2, 3, 4, [5, 6]]"
      ]
     },
     "execution_count": 144,
     "metadata": {},
     "output_type": "execute_result"
    }
   ],
   "source": [
    "a.append([5,6])\n",
    "a"
   ]
  },
  {
   "cell_type": "code",
   "execution_count": 145,
   "metadata": {},
   "outputs": [
    {
     "data": {
      "text/plain": [
       "[4, 1, 2, 3]"
      ]
     },
     "execution_count": 145,
     "metadata": {},
     "output_type": "execute_result"
    }
   ],
   "source": [
    "# 리스트 안에 요소 삽입\n",
    "a = [1,2,3]\n",
    "a.insert(0, 4)\n",
    "a"
   ]
  },
  {
   "cell_type": "code",
   "execution_count": 146,
   "metadata": {},
   "outputs": [],
   "source": [
    "# 리스트 안에 요소 제거\n",
    "a = [1,2,3,1,2,3]\n",
    "a.remove(3)"
   ]
  },
  {
   "cell_type": "code",
   "execution_count": 148,
   "metadata": {},
   "outputs": [
    {
     "data": {
      "text/plain": [
       "['국어', '수학', '과학', '영어']"
      ]
     },
     "execution_count": 148,
     "metadata": {},
     "output_type": "execute_result"
    }
   ],
   "source": [
    "sub = ['국어','수학','과학','영어']\n",
    "sub"
   ]
  },
  {
   "cell_type": "code",
   "execution_count": 150,
   "metadata": {},
   "outputs": [],
   "source": [
    "sub.remove('수학')"
   ]
  },
  {
   "cell_type": "code",
   "execution_count": 152,
   "metadata": {},
   "outputs": [
    {
     "data": {
      "text/plain": [
       "['국어', '과학', '영어']"
      ]
     },
     "execution_count": 152,
     "metadata": {},
     "output_type": "execute_result"
    }
   ],
   "source": [
    "sub"
   ]
  },
  {
   "cell_type": "markdown",
   "metadata": {},
   "source": [
    "# 딕셔너리(dictionary)\n",
    " - KEY, VALUE PAIR 형태로 이루어짐\n",
    " - KEY값은 중복을 허락하지 않음"
   ]
  },
  {
   "cell_type": "code",
   "execution_count": 155,
   "metadata": {},
   "outputs": [
    {
     "name": "stdout",
     "output_type": "stream",
     "text": [
      "{'A': 100, 'B': 200, 'C': 300}\n",
      "<class 'dict'>\n"
     ]
    }
   ],
   "source": [
    "D = {'A': 100, 'B':200, 'C':300}\n",
    "print(D)\n",
    "print(type(D))"
   ]
  },
  {
   "cell_type": "code",
   "execution_count": 156,
   "metadata": {},
   "outputs": [
    {
     "data": {
      "text/plain": [
       "{'이름': '구은혜', '소속': '빅데이터 그룹', '층수': 30}"
      ]
     },
     "execution_count": 156,
     "metadata": {},
     "output_type": "execute_result"
    }
   ],
   "source": [
    "dict1 = {'이름': '구은혜', '소속':'빅데이터 그룹', '층수':30}\n",
    "dict1"
   ]
  },
  {
   "cell_type": "code",
   "execution_count": 159,
   "metadata": {},
   "outputs": [
    {
     "data": {
      "text/plain": [
       "dict_keys(['이름', '소속', '층수'])"
      ]
     },
     "execution_count": 159,
     "metadata": {},
     "output_type": "execute_result"
    }
   ],
   "source": [
    "dict1.keys()"
   ]
  },
  {
   "cell_type": "code",
   "execution_count": 160,
   "metadata": {},
   "outputs": [
    {
     "data": {
      "text/plain": [
       "dict_values(['구은혜', '빅데이터 그룹', 30])"
      ]
     },
     "execution_count": 160,
     "metadata": {},
     "output_type": "execute_result"
    }
   ],
   "source": [
    "dict1.values()"
   ]
  },
  {
   "cell_type": "code",
   "execution_count": 162,
   "metadata": {},
   "outputs": [
    {
     "data": {
      "text/plain": [
       "{'이름': ['구은혜', '안재진'], '소속': ['빅데이터 그룹', '경영지원팀'], '월 수익': [5000, 6000]}"
      ]
     },
     "execution_count": 162,
     "metadata": {},
     "output_type": "execute_result"
    }
   ],
   "source": [
    "name = ['구은혜','안재진']\n",
    "group = ['빅데이터 그룹', '경영지원팀']\n",
    "income = [5000, 6000]\n",
    "\n",
    "dict3 = {'이름':name, '소속':group, '월 수익':income}\n",
    "dict3"
   ]
  },
  {
   "cell_type": "code",
   "execution_count": 171,
   "metadata": {},
   "outputs": [
    {
     "data": {
      "text/plain": [
       "{'이름': ['구은혜', '안재진', '임채범', '임채범'],\n",
       " '소속': ['빅데이터 그룹', '경영지원팀', 'AI팀', 'AI팀'],\n",
       " '월 수익': [5000, 6000, 5000, 5000]}"
      ]
     },
     "execution_count": 171,
     "metadata": {},
     "output_type": "execute_result"
    }
   ],
   "source": [
    "name.append('임채범')\n",
    "group.append('AI팀')\n",
    "income.append(5000)\n",
    "\n",
    "dict3 = {'이름':name, '소속':group, '월 수익':income}\n",
    "dict3"
   ]
  },
  {
   "cell_type": "code",
   "execution_count": 172,
   "metadata": {},
   "outputs": [],
   "source": [
    "del dict3['소속'][0]"
   ]
  },
  {
   "cell_type": "code",
   "execution_count": 173,
   "metadata": {},
   "outputs": [
    {
     "data": {
      "text/plain": [
       "{'이름': ['구은혜', '안재진', '임채범', '임채범'],\n",
       " '소속': ['경영지원팀', 'AI팀', 'AI팀'],\n",
       " '월 수익': [5000, 6000, 5000, 5000]}"
      ]
     },
     "execution_count": 173,
     "metadata": {},
     "output_type": "execute_result"
    }
   ],
   "source": [
    "dict3"
   ]
  },
  {
   "cell_type": "code",
   "execution_count": 169,
   "metadata": {},
   "outputs": [
    {
     "data": {
      "text/plain": [
       "6000"
      ]
     },
     "execution_count": 169,
     "metadata": {},
     "output_type": "execute_result"
    }
   ],
   "source": [
    "dict3['월 수익'][1]"
   ]
  },
  {
   "cell_type": "markdown",
   "metadata": {},
   "source": [
    "# 입력문"
   ]
  },
  {
   "cell_type": "markdown",
   "metadata": {},
   "source": [
    "- 사용자에게 데이터를 입력 받기 위한 함수\n",
    "- input() 함수로 입력을 받을 경우에 저희는 __문자열__ 타입으로 받기 때문에 목적에 따라 변환 필요\n",
    "- input() 함수를 통해 입력받은 값을 할당할 수 있는 변수가 필요"
   ]
  },
  {
   "cell_type": "code",
   "execution_count": 182,
   "metadata": {},
   "outputs": [
    {
     "name": "stdout",
     "output_type": "stream",
     "text": [
      "당신의 키는?177\n"
     ]
    }
   ],
   "source": [
    "height = int(input('당신의 키는?'))"
   ]
  },
  {
   "cell_type": "code",
   "execution_count": 183,
   "metadata": {},
   "outputs": [
    {
     "data": {
      "text/plain": [
       "int"
      ]
     },
     "execution_count": 183,
     "metadata": {},
     "output_type": "execute_result"
    }
   ],
   "source": [
    "type(height)"
   ]
  },
  {
   "cell_type": "code",
   "execution_count": 185,
   "metadata": {},
   "outputs": [
    {
     "name": "stdout",
     "output_type": "stream",
     "text": [
      "정사각형 한 변의 길이는?10\n",
      "정사각형의 넓이:  100\n"
     ]
    }
   ],
   "source": [
    "a = input('정사각형 한 변의 길이는?')\n",
    "area = int(a) ** 2\n",
    "print('정사각형의 넓이: ', area)"
   ]
  },
  {
   "cell_type": "code",
   "execution_count": 189,
   "metadata": {},
   "outputs": [
    {
     "name": "stdout",
     "output_type": "stream",
     "text": [
      "i like you "
     ]
    }
   ],
   "source": [
    "print('i', end = ' ')\n",
    "print('like', end = ' ')\n",
    "print('you', end = ' ')"
   ]
  },
  {
   "cell_type": "code",
   "execution_count": 190,
   "metadata": {},
   "outputs": [
    {
     "name": "stdout",
     "output_type": "stream",
     "text": [
      "Hello, jongwoo!\n"
     ]
    }
   ],
   "source": [
    "# 문자열 형식 지정 출력\n",
    "name = 'jongwoo'\n",
    "print('Hello, %s!' % name)"
   ]
  },
  {
   "cell_type": "code",
   "execution_count": 191,
   "metadata": {},
   "outputs": [
    {
     "name": "stdout",
     "output_type": "stream",
     "text": [
      "jongwoo는 29 살 입니다.\n"
     ]
    }
   ],
   "source": [
    "name = 'jongwoo'\n",
    "age = 29\n",
    "\n",
    "print('%s는 %d 살 입니다.' % (name,age))"
   ]
  },
  {
   "cell_type": "markdown",
   "metadata": {},
   "source": [
    "구매하려는 상품의 가격을 입력하고 구매을 위해 낼 금액 입력하면 거스름돈 출력"
   ]
  },
  {
   "cell_type": "code",
   "execution_count": 198,
   "metadata": {},
   "outputs": [
    {
     "name": "stdout",
     "output_type": "stream",
     "text": [
      "상품의 가격을 입력해주세요: 2000\n",
      "지불 금액을 입력해주세요: 3000\n",
      "상품은2000원이고, 잔돈은1000원입니다.\n"
     ]
    }
   ],
   "source": [
    "cost = input('상품의 가격을 입력해주세요: ')\n",
    "pay = input('지불 금액을 입력해주세요: ')\n",
    "\n",
    "rest = int(pay) - int(cost)\n",
    "print('상품은' + cost + '원이고, 잔돈은' + str(rest) + '원입니다.')"
   ]
  },
  {
   "cell_type": "code",
   "execution_count": 200,
   "metadata": {},
   "outputs": [
    {
     "name": "stdout",
     "output_type": "stream",
     "text": [
      "Na 는 10 살 입니다\n"
     ]
    }
   ],
   "source": [
    "name = 'Na'\n",
    "age = 10\n",
    "\n",
    "print('%s 는 %d 살 입니다' % (name,age))"
   ]
  },
  {
   "cell_type": "code",
   "execution_count": null,
   "metadata": {},
   "outputs": [],
   "source": []
  }
 ],
 "metadata": {
  "kernelspec": {
   "display_name": "Python 3",
   "language": "python",
   "name": "python3"
  },
  "language_info": {
   "codemirror_mode": {
    "name": "ipython",
    "version": 3
   },
   "file_extension": ".py",
   "mimetype": "text/x-python",
   "name": "python",
   "nbconvert_exporter": "python",
   "pygments_lexer": "ipython3",
   "version": "3.8.5"
  }
 },
 "nbformat": 4,
 "nbformat_minor": 4
}

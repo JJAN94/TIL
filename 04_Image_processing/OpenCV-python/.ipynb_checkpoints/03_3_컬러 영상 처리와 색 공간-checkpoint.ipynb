{
 "cells": [
  {
   "cell_type": "markdown",
   "id": "4ab05bc9-5c7c-4d58-baa4-7cb3e44d8ecb",
   "metadata": {},
   "source": [
    "# 컬러 영상과 색 공간"
   ]
  },
  {
   "cell_type": "markdown",
   "id": "a8242b13-38b8-496d-a921-4b611a910180",
   "metadata": {},
   "source": [
    "- 컬러는 ndarray로 표현됨\n",
    "- img.shape = (h, w, 3)\n",
    "- BGR로 read"
   ]
  },
  {
   "cell_type": "code",
   "execution_count": null,
   "id": "26d58643-77d2-4b21-b5c0-999899808a09",
   "metadata": {},
   "outputs": [],
   "source": []
  }
 ],
 "metadata": {
  "kernelspec": {
   "display_name": "py38",
   "language": "python",
   "name": "py38"
  },
  "language_info": {
   "codemirror_mode": {
    "name": "ipython",
    "version": 3
   },
   "file_extension": ".py",
   "mimetype": "text/x-python",
   "name": "python",
   "nbconvert_exporter": "python",
   "pygments_lexer": "ipython3",
   "version": "3.8.12"
  }
 },
 "nbformat": 4,
 "nbformat_minor": 5
}

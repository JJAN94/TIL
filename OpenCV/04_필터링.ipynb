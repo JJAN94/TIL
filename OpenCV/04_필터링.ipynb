{
 "cells": [
  {
   "cell_type": "markdown",
   "id": "218091f5-6d72-4907-8248-e0eb1a5513a4",
   "metadata": {},
   "source": [
    "# 필터링\n",
    "- 영상의 필터링(image filtering)\n",
    "    - 영상에서 필요한 정보만 통과시키고 원치 않는 정보는 걸러내는 작업"
   ]
  },
  {
   "cell_type": "markdown",
   "id": "00a5d6b6-187f-411f-a252-5ea9a0625583",
   "metadata": {},
   "source": [
    "- 주파수 공간에서의 필터링(Frequency domain filtering)\n",
    "    - 퓨리에 트랜스폼를 이용한 변환\n",
    "    - 저주파(영상의 부드러운 부분), 고주파(날카로운 부분, 픽셀값이 급격히 바뀌는 부분) 부분으로 변환하는 방법\n",
    "- 공간적 필터링 (spatial domain filtering)\n",
    "    - 영상의 픽셀 값을 직접 이용하는 필터링 방법\n",
    "        - 대상 좌표의 픽셀 값과 주변 픽셀 값을 동시에 사용\n",
    "    - 주로 마스크(mask) 연산을 이용함 (마스크=커널(kernel)=윈도우(window)=템플릿(template))"
   ]
  },
  {
   "cell_type": "markdown",
   "id": "bc50ef84-6f8a-4eee-a54d-ccca395572e0",
   "metadata": {},
   "source": [
    "# 필터링 : 마스크 연산\n",
    "- 다양한 모양과 크기의 마스크\n",
    "- 마스크의 형태와 값에 따라 필터의 역할이 결정됨\n",
    "    - 영상 부드럽게 만들기\n",
    "    - 영상 날카롭게 만들기\n",
    "    - 에지(edge) 검출\n",
    "    - 잡음 제거\n",
    "- CNN의 Correlation (Convolution) 연산하고 방식이 같음\n",
    "    - 원래는 Correlation이 맞는말인데 관습적으로 Convolution이라 씀\n",
    "    - CNN은 최외각 픽셀 처리할 때 제로패딩을 하는데 opencv는 마지막을 기준으로 대칭으로 처리한다.\n",
    "    \n",
    "- OpenCV 필터링에서 지원하는 가장자리 픽셀 확장 방법\n",
    "| BorderTypes 열거형 상수 | 설명 |\n",
    "| :-- | :-- |\n",
    "| BORDER_CONSTANT | 외각을 0으로 채움(zero-padding) |\n",
    "| BORDER_REPLICATE | 최외각 픽셀값으로 채움 |\n",
    "| BORDER_REFLECT | 최외각을 기준으로 최외각 픽셀부터 그 다음 픽셀들로 대칭처리함 |\n",
    "| BORDER_REFLECT_101 | 최외각을 기준으로 그 다음 픽셀들로 대칭처리함 |\n",
    "| BORDER_REFLECT101 | BORDER_REFLECT_101과 같음 |\n",
    "| BORDER_DEFAULT | BORDER_REFLECT_101과 같음 |"
   ]
  },
  {
   "cell_type": "markdown",
   "id": "a157fcb5-ec2e-4736-b17a-03eefb03af1c",
   "metadata": {},
   "source": [
    "# OpenCV API"
   ]
  },
  {
   "cell_type": "markdown",
   "id": "24e34df8-bf69-4d05-8d83-d5c2e402c03e",
   "metadata": {},
   "source": [
    "## 기본적인 2D 필터링\n",
    "```python\n",
    "cv2.filter2D(src, ddepth, kernel, dst=None, anchor=None, delta=None, borderType=None)\n",
    "```\n",
    "\n",
    "- src : 입력 영상\n",
    "- ddepth : 출력 영상 데이터 타입 (e.g) cv2.CV_8U, cv2.CV_32F, cv2.CV_64F, \n",
    "    - -1을 지정하면 src와 같은 타입의 dst 영상으 생성\n",
    "- kerenl : 필터 마스크 행렬, (실수형)\n",
    "- anchor : 고정점 위치. (-1, -1) 이면 필터 중앙을 고정점으로 사용\n",
    "- delta : 추가적으로 더할 값\n",
    "- borderType : 가장자리 픽셀 확장 방식\n",
    "- dst : 출력 영상"
   ]
  },
  {
   "cell_type": "markdown",
   "id": "75208493-e73a-4ef6-b32e-4bb23ffddfcd",
   "metadata": {},
   "source": [
    "# 블러링\n",
    "- 영상을 부드럽게 만들어준다."
   ]
  },
  {
   "cell_type": "markdown",
   "id": "9461abed-0819-4bfa-bdab-f58de88c9983",
   "metadata": {},
   "source": [
    "## 평균 값 필터(mean filter)\n",
    "- 영상의 특정 좌표 값을 주변 픽셀 값들의 산술 평균으로 설정\n",
    "- 픽셀들 간의 그레이스케일 값 변화가 줄어들어 날카로운 에지가 무뎌지고, 영상에 있는 잡음의 영향이 사라지는 효과\n",
    "- 필터 크기가 커질수록 연산량이 많아져서 성능저하 있을 수 있음\n",
    "- 평균값의 필터는 커질수록 필터링의 화질이나 성능이 떨어짐을 볼 수 있다.\n",
    "\n",
    "**평균 값 필터링 함수**\n",
    "```python\n",
    "cv2.blur(src, ksize, dst=None, anchor=None, borderType=None)\n",
    "```\n",
    "- src : 입력 영상\n",
    "- ksize : 평균값 필터 크기. (width, height) 형태의 튜플\n",
    "- dst : 결과 영상. 입력 영상과 같은 크기 & 같은 타입"
   ]
  },
  {
   "cell_type": "code",
   "execution_count": 1,
   "id": "bb41d488-12fc-410a-b38d-f28e1a240778",
   "metadata": {},
   "outputs": [],
   "source": [
    "import sys\n",
    "import numpy as np\n",
    "import cv2\n",
    "\n",
    "src = cv2.imread('data/ch04/rose.bmp', cv2.IMREAD_GRAYSCALE)\n",
    "\n",
    "if src is None:\n",
    "    print('Image load failed!')\n",
    "    sys.exit()\n",
    "    \n",
    "\n",
    "# 평균값 필터 생성 3x3\n",
    "kernel = np.array([[1/9, 1/9, 1/9],\n",
    "                             [1/9, 1/9, 1/9],\n",
    "                             [1/9, 1/9, 1/9]], dtype=np.float32)\n",
    "\n",
    "kernel2 = np.ones((3,3), np.float32) / 9\n",
    "\n",
    "cv2.imshow('kernel', cv2.filter2D(src, -1, kernel))\n",
    "cv2.imshow('kernel2', cv2.filter2D(src, -1, kernel))\n",
    "\n",
    "cv2.imshow('src', src)\n",
    "cv2.waitKey()\n",
    "cv2.destroyAllWindows()"
   ]
  },
  {
   "cell_type": "code",
   "execution_count": 2,
   "id": "13ec2355-a6b0-49e6-a7bc-93fa7dcfa7ea",
   "metadata": {},
   "outputs": [],
   "source": [
    "src = cv2.imread('data/ch04/rose.bmp', cv2.IMREAD_GRAYSCALE)\n",
    "\n",
    "if src is None:\n",
    "    print('Image load failed!')\n",
    "    sys.exit()\n",
    "\n",
    "\n",
    "dst = cv2.blur(src, (3,3))\n",
    "cv2.imshow('dst', dst)\n",
    "\n",
    "cv2.imshow('src', src)\n",
    "cv2.waitKey()\n",
    "cv2.destroyAllWindows()"
   ]
  },
  {
   "cell_type": "code",
   "execution_count": 3,
   "id": "8649aac8-f7c0-47e9-ba93-29d9750c23b8",
   "metadata": {},
   "outputs": [],
   "source": [
    "src = cv2.imread('data/ch04/rose.bmp', cv2.IMREAD_GRAYSCALE)\n",
    "\n",
    "for ksize in (3, 5, 7):\n",
    "    dst = cv2.blur(src, (ksize, ksize))\n",
    "    desc = 'Mean : {} x {}'.format(ksize, ksize)\n",
    "    cv2.putText(dst, desc, (10, 30), cv2.FONT_HERSHEY_SIMPLEX, 1.0, 255, 1, cv2.LINE_AA)\n",
    "    \n",
    "    cv2.imshow('dst', dst)\n",
    "    cv2.waitKey()\n",
    "    \n",
    "cv2.destroyAllWindows()"
   ]
  },
  {
   "cell_type": "markdown",
   "id": "62788bfc-3352-477a-9746-a189734ce99b",
   "metadata": {},
   "source": [
    "## 가우시안 필터\n",
    "- 평균값 필터에 의한 블러링의 단점\n",
    "    - 필터링 대상 위치에서 가까이 있는 픽셀과 멀리 있는 픽셀이 모두 같은 가중치를 사용하여 평균을 계싼\n",
    "    - 멀리 있는 픽셀의 영향을 많이 받을 수 있음\n",
    "<br>\n",
    "<br>\n",
    "    \n",
    "- 가우시안 필터\n",
    "    - 가까운 픽셀은 큰 가중치를, 멀리 있는 픽셀은 작은 가중치를 사용하여 평균 계산\n",
    "    - 1차원 가우시안 함수(Gaussian Function) - 정규분포\n",
    "        - $G_{\\mu, \\sigma}(x) = \\frac{1}{\\sqrt{2\\pi} \\sigma} e^{-\\frac{(x-\\mu)^2}{2{\\sigma}^2}}$\n",
    "        - 좌우대칭\n",
    "        - mean=median=mode\n",
    "        - 68%(1$\\sigma$), 95%(2$\\sigma$), 99.7%(3$\\sigma$)\n",
    "    - 2차원 가우시안($\\mu_x=\\mu_y=0, \\sigma_x=\\sigma_y=\\sigma$)\n",
    "        - $ G_{\\sigma})x,y) = \\frac{1}{2\\pi{\\sigma}^2} e^{(-\\frac{x^2+y^2}{2{\\sigma}^2})}$\n",
    "        - 2차원 가우시안 필터 마스크($\\sigma=1.0$)\n",
    "            - 필터 마스크 크기 : ($8\\sigma+1$)(float) 또는 ($6\\sigma + 1$)(uint)"
   ]
  },
  {
   "cell_type": "markdown",
   "id": "71792e1e-997f-40d6-ac18-a07dbd4b0306",
   "metadata": {},
   "source": [
    "가우시안 필터링 함수\n",
    "```python\n",
    "cv2.GaussianBlur(src, ksize, sigmaX, dst=None, sigmaY=None, borderType=None)\n",
    "```\n",
    "- src : 입력 영상. 각 채널 별로 처리됨\n",
    "- dst : 출력 영상. src와 같은 크기, 같은 타입\n",
    "- ksize : 가우시안 커널 크기. (0, 0)을 지정하면 sigma 값에 의해 자동 결정됨(강제값 안주는게 좋음->(0,0)주자)\n",
    "- sigmaX : X방향 sigma\n",
    "- sigmaY : Y방향 sigma. 0이면 sigmaX와 같에 설정\n",
    "- borderType : 가장자리 픽셀 확장 방식"
   ]
  },
  {
   "cell_type": "code",
   "execution_count": 7,
   "id": "70578cd9-8dc8-4cbe-9636-db7cfd391072",
   "metadata": {},
   "outputs": [],
   "source": [
    "src = cv2.imread('data/ch04/rose.bmp', cv2.IMREAD_GRAYSCALE)\n",
    "\n",
    "dst = cv2.GaussianBlur(src, (0,0), 2)\n",
    "dst2 = cv2.blur(src, (7,7))\n",
    "\n",
    "cv2.imshow('src', src)\n",
    "cv2.imshow('dst', dst)\n",
    "cv2.imshow('dst2', dst2)\n",
    "\n",
    "cv2.waitKey()\n",
    "cv2.destroyAllWindows()"
   ]
  },
  {
   "cell_type": "code",
   "execution_count": 10,
   "id": "9fb2d3ec-b5d6-43a5-96ba-103ca3d90833",
   "metadata": {},
   "outputs": [],
   "source": [
    "src = cv2.imread('data/ch04/rose.bmp', cv2.IMREAD_GRAYSCALE)\n",
    "\n",
    "for sigmaX in (1,2,3):\n",
    "    dst = cv2.GaussianBlur(src, (0,0), sigmaX)\n",
    "    desc = f'sigma : {sigmaX}'\n",
    "    cv2.putText(dst, desc, (10, 30), cv2.FONT_HERSHEY_SIMPLEX, 1.0, 255, 1, cv2.LINE_AA)\n",
    "    \n",
    "    cv2.imshow('dst', dst)\n",
    "    cv2.waitKey()\n",
    "    \n",
    "cv2.destroyAllWindows()"
   ]
  },
  {
   "cell_type": "markdown",
   "id": "1e03b724-2667-4702-826f-31e8d3598517",
   "metadata": {},
   "source": [
    "# 샤프닝"
   ]
  },
  {
   "cell_type": "markdown",
   "id": "8750cfd4-9c18-4edb-b69f-3924dc459dda",
   "metadata": {},
   "source": [
    "## 언샤프 마스크 필터링 (Unsharp mask filtering)\n",
    "- 날카롭지 않은(unsharp) 영상, 즉, 부드러워진 영상을 이용하여 날카로운 영상을 생성\n",
    "- 엣지부분에서 contrast를 변화함\n",
    "- 이건 opencv에 함수로 구현이 안되어 있음(직접만들어야한다.)"
   ]
  },
  {
   "cell_type": "code",
   "execution_count": 93,
   "id": "89291017-9f12-4010-bf7f-ba991d5cc23f",
   "metadata": {},
   "outputs": [],
   "source": [
    "src = cv2.imread('data/ch04/rose.bmp', cv2.IMREAD_GRAYSCALE)\n",
    "\n",
    "# 블러 한 영상\n",
    "blr = cv2.GaussianBlur(src, (0,0), 2)\n",
    "# 언샤프닝 2f - g\n",
    "# dst = cv2.addWeighted(src, 2, blr, -1, 0)\n",
    "dst = np.clip(2.0 *src - blr, 0, 255).astype(np.uint8)\n",
    "\n",
    "cv2.imshow('dst', dst)\n",
    "cv2.waitKey()    \n",
    "cv2.destroyAllWindows()"
   ]
  },
  {
   "cell_type": "markdown",
   "id": "e0884ba6-f3ba-4db6-980e-0d01e7eb2745",
   "metadata": {},
   "source": [
    "언샤프 마스크 필터 구현하기\n",
    "- 샤프닝 정도를 조절할 수 있도록 수식 변경\n",
    "- $h(x,y) = f(x,y) + \\alpha \\cdot g(x,y)$\n",
    "    - -> $h(x,y) = f(x,y) + \\alpha\\cdot (f(x,y) - \\bar{f}(x,y)) = (1+\\alpha)\\cdot f(x,y) - \\alpha \\cdot \\bar{f}(x,y)$\n",
    "    - -> $h(x,y) = (1+\\alpha)\\cdot f(x,y) - \\alpha \\cdot G_{\\sigma}(f(x,y))$"
   ]
  },
  {
   "cell_type": "code",
   "execution_count": 41,
   "id": "7150ba63-8d8e-4e79-a179-1657ab3ab186",
   "metadata": {},
   "outputs": [],
   "source": [
    "from tqdm import tqdm"
   ]
  },
  {
   "cell_type": "code",
   "execution_count": 70,
   "id": "f5aa6935-6378-4093-b1ec-42c61e1916d9",
   "metadata": {},
   "outputs": [
    {
     "name": "stderr",
     "output_type": "stream",
     "text": [
      "  0%|          | 0/4 [00:00<?, ?it/s]"
     ]
    },
    {
     "name": "stdout",
     "output_type": "stream",
     "text": [
      "[[50 52 59 ... 25 24 23]\n",
      " [51 54 61 ... 26 24 24]\n",
      " [55 58 65 ... 27 26 25]\n",
      " ...\n",
      " [43 43 43 ... 54 53 53]\n",
      " [43 43 43 ... 50 50 50]\n",
      " [43 43 43 ... 48 48 48]]\n"
     ]
    },
    {
     "name": "stderr",
     "output_type": "stream",
     "text": [
      " 25%|██▌       | 1/4 [01:18<03:55, 78.48s/it]"
     ]
    },
    {
     "name": "stdout",
     "output_type": "stream",
     "text": [
      "[[50 52 59 ... 25 24 23]\n",
      " [51 54 61 ... 26 24 24]\n",
      " [55 58 65 ... 27 26 25]\n",
      " ...\n",
      " [43 43 43 ... 54 53 53]\n",
      " [43 43 43 ... 50 50 50]\n",
      " [43 43 43 ... 48 48 48]]\n"
     ]
    },
    {
     "name": "stderr",
     "output_type": "stream",
     "text": [
      " 50%|█████     | 2/4 [01:18<01:04, 32.48s/it]"
     ]
    },
    {
     "name": "stdout",
     "output_type": "stream",
     "text": [
      "[[50 52 59 ... 25 24 23]\n",
      " [51 54 61 ... 26 24 24]\n",
      " [55 58 65 ... 27 26 25]\n",
      " ...\n",
      " [43 43 43 ... 54 53 53]\n",
      " [43 43 43 ... 50 50 50]\n",
      " [43 43 43 ... 48 48 48]]\n"
     ]
    },
    {
     "name": "stderr",
     "output_type": "stream",
     "text": [
      " 75%|███████▌  | 3/4 [01:19<00:17, 17.79s/it]"
     ]
    },
    {
     "name": "stdout",
     "output_type": "stream",
     "text": [
      "[[50 52 59 ... 25 24 23]\n",
      " [51 54 61 ... 26 24 24]\n",
      " [55 58 65 ... 27 26 25]\n",
      " ...\n",
      " [43 43 43 ... 54 53 53]\n",
      " [43 43 43 ... 50 50 50]\n",
      " [43 43 43 ... 48 48 48]]\n"
     ]
    },
    {
     "name": "stderr",
     "output_type": "stream",
     "text": [
      "100%|██████████| 4/4 [01:19<00:00, 19.84s/it]\n"
     ]
    }
   ],
   "source": [
    "src = cv2.imread('data/ch04/rose.bmp', cv2.IMREAD_GRAYSCALE)# .astype(np.float32)\n",
    "blr = cv2.GaussianBlur(src, (0,0), 2)\n",
    "for alpha in tqdm(range(1,5)):\n",
    "    # float(alpha)*\n",
    "    # 왜 차이가 나는거지??\n",
    "    print(blr)\n",
    "    dst2 = np.clip(np.float32((1+alpha)*src - blr), 0, 255).astype(np.uint8)\n",
    "    dst3 = np.clip((float(1+alpha)*src - float(alpha)*blr), 0, 255).astype(np.uint8)\n",
    "    cv2.imshow('dst2', dst2)\n",
    "    cv2.imshow('dst3', dst3)\n",
    "    dst4 = np.clip(np.float32((1+alpha)*src - (alpha)*blr), 0, 255).astype(np.uint8)\n",
    "    cv2.imshow('dst4', dst4)\n",
    "    cv2.waitKey()\n",
    "cv2.destroyAllWindows()"
   ]
  },
  {
   "cell_type": "markdown",
   "id": "2ac667e5-51ad-4733-a686-922b6d1e8152",
   "metadata": {},
   "source": [
    "### 컬러 영상에 대한 언샤프 마스크 필터 구현"
   ]
  },
  {
   "cell_type": "code",
   "execution_count": 61,
   "id": "d7abd51b-bde5-422c-ad2c-87b14da50f35",
   "metadata": {},
   "outputs": [],
   "source": [
    "src = cv2.imread('data/ch04/rose.bmp')\n",
    "\n",
    "src_ycrcb = cv2.cvtColor(src, cv2.COLOR_BGR2YCrCb)\n",
    "\n",
    "# 밝기 성분만 조절\n",
    "src_f = src_ycrcb[:, :, 0].astype(np.float32) # 여기서 float32으로 바꿈.\n",
    "# blur 결과는 src의 타입과 같기때문에 uint로 넣으면 실수부가 다 짤림. 미세한 변화가 사라짐\n",
    "blr = cv2.GaussianBlur(src_f, (0,0), 2)\n",
    "src_ycrcb[:, :, 0] = np.clip(2. * src_f - blr, 0, 255).astype(np.uint8)\n",
    "\n",
    "dst = cv2.cvtColor(src_ycrcb, cv2.COLOR_YCrCb2BGR)\n",
    "cv2.imshow('dst', dst)\n",
    "cv2.waitKey()\n",
    "cv2.destroyAllWindows()"
   ]
  },
  {
   "cell_type": "markdown",
   "id": "3638094b-d243-424c-83c5-5afe8f914189",
   "metadata": {},
   "source": [
    "# 잡음 제거"
   ]
  },
  {
   "cell_type": "markdown",
   "id": "dfef789d-f064-4496-9379-f15f746a45ce",
   "metadata": {},
   "source": [
    "## 영상의 잡음\n",
    "- 영상의 잡음(Noise)\n",
    "    - 영상의 픽셀 값에 추가되는 원치 않는 형태의 신호\n",
    "    - $ f(x,y) = s(x,y) + n(x,y) $\n",
    "        - f : 획득된 영상\n",
    "        - s : 원본 신호\n",
    "        - n : 잡음\n",
    "- 잡음의 종류 : 카메라, 센서의 노이즈, 아날로그-디지털 변환 사이의 잡음 등\n",
    "    - 가우시안 잡음(Gaussian noise)\n",
    "    - 소금&후추 잡음(Salt&Pepper) (요즘엔 보기 힘듦)"
   ]
  },
  {
   "cell_type": "markdown",
   "id": "f08d7330-6145-4d56-864b-97b8e8a3ae05",
   "metadata": {},
   "source": [
    "## 미디언 필터(Median filter)\n",
    "- 주변 픽셀들의 값들을 정렬하여 그 중앙값(median)으로 픽셀 값을 대체\n",
    "- 소금-후추 잡음 제거에 효과적(요즘엔 별로 안씀)"
   ]
  },
  {
   "cell_type": "markdown",
   "id": "7a929fc8-1d57-478a-8a9a-c2986c956d5d",
   "metadata": {},
   "source": [
    "미디언 필터링 함수\n",
    "```python\n",
    "cv2.medianBlur(src, ksize, dst=None)\n",
    "```\n",
    "\n",
    "- src : 입력 영상. 각 채널 별로 처리됨\n",
    "- ksize : 커널 크기. 1보다 큰 홀수를 지정\n",
    "- dst : 출력 영상. src와 같은 크기, 같은 타입"
   ]
  },
  {
   "cell_type": "code",
   "execution_count": 83,
   "id": "e380705a-a735-4a3e-9402-3c70162ef771",
   "metadata": {},
   "outputs": [],
   "source": [
    "src = cv2.imread('data/ch04/noise.bmp', cv2.IMREAD_GRAYSCALE)\n",
    "\n",
    "dst = cv2.medianBlur(src, 3)\n",
    "cv2.imshow('src', src)\n",
    "cv2.imshow('dst', dst)\n",
    "cv2.waitKey()\n",
    "cv2.destroyAllWindows()"
   ]
  },
  {
   "cell_type": "markdown",
   "id": "501174e1-7067-453e-86df-04257d8c741f",
   "metadata": {},
   "source": [
    "## 양방향 필터"
   ]
  },
  {
   "cell_type": "markdown",
   "id": "3155c46f-3ae5-460b-8fd2-ec333d343097",
   "metadata": {},
   "source": [
    "### 가우시안 필터\n",
    "- 가우시안 잡음 제거에는 가우시안 필터가 효과적\n",
    "- 너무 하면 엣지가 모호해짐"
   ]
  },
  {
   "cell_type": "markdown",
   "id": "288bbc14-5f6e-4d97-b149-84c9b01a7827",
   "metadata": {},
   "source": [
    "### 양방향 필터(Bilateral filter)\n",
    "- 에지 보전 잡음 제거 필터(edge-preserving noise removal filter)의 하나\n",
    "- 평균 값 필터 또는 가우시안 필터는 에지 부근에서도 픽셀 값을 평탄하게 만드는 단점이 있음\n",
    "- 기준 픽셀과 이웃 픽셀과의 거리, 그리고 픽셀 값의 차이를 함께 고려하여 블러링 정도를 조절\n",
    "\n",
    "$$ BF[I]_p = \\frac{1}{W_p} \\sum_{q\\in S} G_{\\sigma_s} (\\vert\\vert p -q \\vert\\vert) G_{\\sigma_r}(\\vert I_p - I_q \\vert)I_q$$\n",
    "- p, q : 픽셀의 좌표값\n",
    "- I : 이미지의 픽셀값\n",
    "- 픽셀의 가우시안 함수 값과 픽셀좌표의 p2놈 가우시안 함의 결합 꼴"
   ]
  },
  {
   "cell_type": "markdown",
   "id": "75c48601-880c-4321-bc2c-e6b1459c0d5e",
   "metadata": {},
   "source": [
    "양방향 필터링 함수\n",
    "```python\n",
    "cv2.bilateralFilter(src, d, sigmaColor, sigmaSpace, dst=None, borderType=None)\n",
    "```\n",
    "- src : 입력 영상, 8비트 또는 실수형, 1채널 또는 3채널\n",
    "- d : 필터링에 사용될 이웃 픽셀의 거리(지름). 음수(-1)를 입력하면 sigmaSpace 값에 의해 자동 결정됨\n",
    "- sigmaColor : 색 공간에서 필터의 표준 편차(픽셀간 편차보다 커지면 에지라고 판단하는 기준)\n",
    "- sigmaSpace : 좌표 공간에서 필터의 표준 편차\n",
    "- dst : 출력 영상. src와 같은 크기, 같은 타입\n",
    "- borderType : 가장자리 픽셀 처리 방식"
   ]
  },
  {
   "cell_type": "code",
   "execution_count": 113,
   "id": "6186307d-a547-451e-b03f-56c20b0c037c",
   "metadata": {},
   "outputs": [
    {
     "name": "stdout",
     "output_type": "stream",
     "text": [
      "0.05 sec\n"
     ]
    }
   ],
   "source": [
    "import time\n",
    "start = time.time()\n",
    "src = cv2.imread('data/ch04/lenna.bmp', cv2.IMREAD_GRAYSCALE)\n",
    "\n",
    "dst = cv2.bilateralFilter(src, -1, 10, 5)\n",
    "\n",
    "cv2.imshow('src', src)\n",
    "cv2.imshow('dst', dst)\n",
    "\n",
    "print(round(time.time() - start, 2), 'sec')\n",
    "cv2.waitKey()\n",
    "cv2.destroyAllWindows()"
   ]
  },
  {
   "cell_type": "markdown",
   "id": "7ffb2f24-effe-4531-8640-5f5603c31128",
   "metadata": {},
   "source": [
    "# 카툰 필터 카메라"
   ]
  },
  {
   "cell_type": "code",
   "execution_count": null,
   "id": "25a14bd8-b14d-4951-bee3-f0e17af42f30",
   "metadata": {},
   "outputs": [],
   "source": []
  }
 ],
 "metadata": {
  "kernelspec": {
   "display_name": "pytorch",
   "language": "python",
   "name": "pytorch"
  },
  "language_info": {
   "codemirror_mode": {
    "name": "ipython",
    "version": 3
   },
   "file_extension": ".py",
   "mimetype": "text/x-python",
   "name": "python",
   "nbconvert_exporter": "python",
   "pygments_lexer": "ipython3",
   "version": "3.8.12"
  }
 },
 "nbformat": 4,
 "nbformat_minor": 5
}

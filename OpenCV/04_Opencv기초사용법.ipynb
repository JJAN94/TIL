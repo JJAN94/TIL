{
 "cells": [
  {
   "cell_type": "markdown",
   "metadata": {},
   "source": [
    "# 영상의 생성, 복사, 부분 영상 추출"
   ]
  },
  {
   "cell_type": "code",
   "execution_count": 1,
   "metadata": {},
   "outputs": [],
   "source": [
    "import cv2\n",
    "import numpy as np\n",
    "import matplotlib.pyplot as plt"
   ]
  },
  {
   "cell_type": "markdown",
   "metadata": {},
   "source": [
    "## 지정한 크기로 새 영상 생성"
   ]
  },
  {
   "cell_type": "markdown",
   "metadata": {},
   "source": [
    "- np.empty(shape, dtype=float, ...) -> arr\n",
    "- np.zeors(shape, dtype=float, ...) -> arr\n",
    "- np.ones(shape, dtype=None, ...) -> arr\n",
    "- np.full(shape, fill_value, dtype=None, ...) -> arr\n",
    "    - shape : 각 차원의 크기. (h,w) 또는 (h,w,3)\n",
    "    - dtype : 원소의 데이터 타입. 일반적인 영상이면 np.uint8 지정\n",
    "    - arr : 생성된 영상(np.ndarray)\n",
    "    - 참고)\n",
    "        - np.empty() : 임의의 값으로 초기화된 배열을 생성\n",
    "        - np.zeros() : 0으로 초기화된 배열을 생성\n",
    "        - np.ones() : 1로 초기화된 배열을 생성\n",
    "        - np.full() : fill_value로 초기화된 배열을 생성"
   ]
  },
  {
   "cell_type": "code",
   "execution_count": 12,
   "metadata": {},
   "outputs": [],
   "source": [
    "# 새 영상 생성학시\n",
    "img1 = np.empty((240, 320), dtype=np.uint8) # grayscale image\n",
    "img2 = np.zeros((240, 320, 3), dtype=np.uint8)\n",
    "img3 = np.ones((240, 320, 3), dtype=np.uint8)\n",
    "img4 = np.full((240, 320), 128, dtype=np.uint8)\n",
    "img5 = np.full((240, 320, 3), [128, 255, 240], dtype=np.uint8) # list로 써되 되기는 하나봄. 튜플로 쓰자.\n",
    "img6 = np.full((240, 320, 3), (0, 255, 255), dtype=np.uint8) # yellow"
   ]
  },
  {
   "cell_type": "code",
   "execution_count": 14,
   "metadata": {},
   "outputs": [],
   "source": [
    "cv2.imshow('img1', img1)\n",
    "cv2.imshow('img2', img2)\n",
    "cv2.imshow('img3', img3)\n",
    "cv2.imshow('img4', img4)\n",
    "cv2.imshow('img5', img5)\n",
    "cv2.imshow('img6', img6)\n",
    "cv2.waitKey()\n",
    "cv2.destroyAllWindows()"
   ]
  },
  {
   "cell_type": "markdown",
   "metadata": {},
   "source": [
    "## 영상 복사하기"
   ]
  },
  {
   "cell_type": "code",
   "execution_count": 26,
   "metadata": {},
   "outputs": [],
   "source": [
    "img1 = cv2.imread('./cv/ch02/HappyFish.jpg')\n",
    "# img2 = img1   --> 참조 개념이라서 복사가 아님\n",
    "img3 = img1.copy()"
   ]
  },
  {
   "cell_type": "code",
   "execution_count": 19,
   "metadata": {},
   "outputs": [],
   "source": [
    "cv2.imshow('img3', img3)\n",
    "cv2.waitKey()\n",
    "cv2.destroyAllWindows()"
   ]
  },
  {
   "cell_type": "markdown",
   "metadata": {},
   "source": [
    "## 부분 영상 추출"
   ]
  },
  {
   "cell_type": "code",
   "execution_count": 28,
   "metadata": {},
   "outputs": [],
   "source": [
    "img2 = img1[40:120, 30:150] # np.ndarray 슬라이싱 기법\n",
    "img3 = img1[40:120, 30:150].copy()\n",
    "\n",
    "# img1[:, :] = (0, 255, 255)\n",
    "\n",
    "cv2.circle(img2, (50, 50), 20, color=(0, 0, 255), thickness=2)\n",
    "# img2에 (50, 50)중심에 반지름20짜리 컬러, 두께로 그린다\n",
    "\n",
    "cv2.imshow('img3', img3)\n",
    "cv2.imshow('img2', img2)\n",
    "cv2.waitKey()\n",
    "cv2.destroyAllWindows()"
   ]
  },
  {
   "cell_type": "code",
   "execution_count": null,
   "metadata": {},
   "outputs": [],
   "source": []
  }
 ],
 "metadata": {
  "kernelspec": {
   "display_name": "Python 3",
   "language": "python",
   "name": "python3"
  },
  "language_info": {
   "codemirror_mode": {
    "name": "ipython",
    "version": 3
   },
   "file_extension": ".py",
   "mimetype": "text/x-python",
   "name": "python",
   "nbconvert_exporter": "python",
   "pygments_lexer": "ipython3",
   "version": "3.8.3"
  }
 },
 "nbformat": 4,
 "nbformat_minor": 4
}

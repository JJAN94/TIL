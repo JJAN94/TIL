{
 "cells": [
  {
   "cell_type": "code",
   "execution_count": 1,
   "id": "c56577b4-1bdf-4b84-85f2-18fb6a5e1f43",
   "metadata": {},
   "outputs": [],
   "source": [
    "import cv2\n",
    "import numpy as np"
   ]
  },
  {
   "cell_type": "markdown",
   "id": "ffddfb27-598b-4df0-a87e-35d19dcfab6a",
   "metadata": {},
   "source": [
    "## 영상의 화소 처리 기법\n",
    "- 화소 처리(Point Processing)\n",
    "    - 입력 영상의 특정 좌표 픽셀 값을 변경하여 출력 영상의 해당 좌표 픽셀 값으로 설정하는 연산\n",
    "    - 변환 함수(transfer function)\n",
    "    \n",
    "        - $ dst(x, y) = f(src(x,y)) $\n",
    "        - 입력 픽셀값(src(x,y))를 f를 통해 dst(x,y)로 바꾸겠다.\n",
    "    <br><br>\n",
    "    \n",
    "    \n",
    "    - 결과 영상의 픽셀 값이 정해진 범위(e.g 그레이스케일)에 있어야 한다.\n",
    "    - 반전, 밝기 조절, 명암비 조절 등"
   ]
  },
  {
   "cell_type": "markdown",
   "id": "746e4ff6-4fa1-4535-9ecc-d59fcc49c271",
   "metadata": {},
   "source": [
    "## 영상의 밝기 조절\n",
    "- 밝기 조절이란?\n",
    "    - 영상을 전체적으로 더욱 밝거나 어둡게 만드는 연산\n",
    "    \n",
    "- 밝기 조절 수식\n",
    "    - $ dst(x, y) = src(x, y) ± n $\n",
    "    - 선형식\n",
    "    - saturate(limit) 연산 : 음수값을 가질 수는 없으니 0 or 255 min, max값을 가짐 \n",
    "    "
   ]
  },
  {
   "cell_type": "markdown",
   "id": "ff2d7b40-487e-4b41-aad9-212e3c2711d3",
   "metadata": {},
   "source": [
    "- 영상의 밝기 조절을 위한 영상의 덧셈 연산\n",
    "```\n",
    "cv2.add(src1, src2, dst=None, mask=None, dtype=None)\n",
    "```\n",
    "- src1 : (입력) 첫 번째 영상 또는 스칼라\n",
    "- src2 : (입력) 두 번째 영상 또는 스칼라\n",
    "- dst : (출력) 덧셈 연산의 결과 영상\n",
    "- mask : 마스크 영상\n",
    "- dtype : 출력 영상(dst)의 타입. (e.g) cv2.CV_8U, cv2.CV_32F 등\n",
    "- 참고사항\n",
    "    - 스칼라(scalar)는 실수 값 하나 또는 실수 값 네 개로 구성된 튜플\n",
    "    - dst를 함수 인자로 전달하려면 dst의 크기가 src1, src2와 같아야 하며, 타입이 적절해야 함"
   ]
  },
  {
   "cell_type": "code",
   "execution_count": null,
   "id": "2804de86-9281-4975-9d05-4e73568b9052",
   "metadata": {},
   "outputs": [],
   "source": []
  }
 ],
 "metadata": {
  "kernelspec": {
   "display_name": "Python 3",
   "language": "python",
   "name": "python3"
  },
  "language_info": {
   "codemirror_mode": {
    "name": "ipython",
    "version": 3
   },
   "file_extension": ".py",
   "mimetype": "text/x-python",
   "name": "python",
   "nbconvert_exporter": "python",
   "pygments_lexer": "ipython3",
   "version": "3.8.8"
  }
 },
 "nbformat": 4,
 "nbformat_minor": 5
}

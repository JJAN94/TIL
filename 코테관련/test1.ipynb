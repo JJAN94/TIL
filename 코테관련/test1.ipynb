{
 "cells": [
  {
   "cell_type": "markdown",
   "id": "a96ddc1f",
   "metadata": {},
   "source": [
    "# 1번문제"
   ]
  },
  {
   "cell_type": "code",
   "execution_count": 48,
   "id": "4efbf5d9",
   "metadata": {},
   "outputs": [
    {
     "name": "stdout",
     "output_type": "stream",
     "text": [
      "test\n"
     ]
    }
   ],
   "source": [
    "code ='abcdefghijklmnopqrstuvwxyz'\n",
    "# message = 'test'\n",
    "message = '20051920'\n",
    "\n",
    "# 정답을 담을 문자열, 리스트\n",
    "\n",
    "sol = ''\n",
    "\n",
    "# message가 문자인지 숫자인지 판별\n",
    "# 문자열일 때\n",
    "if message.isalpha() == True :\n",
    "    \n",
    "    for i in message :\n",
    "        idx = code.find(i)\n",
    "        idx += 1\n",
    "        if len(str(idx)) == 1 :\n",
    "            idx = '0'+str(idx)\n",
    "        else :\n",
    "            idx = str(idx)\n",
    "        sol += idx\n",
    "    \n",
    "else :\n",
    "    lst = [message[i:i+2] for i in range(0, len(message), 2)]\n",
    "    for i in lst :\n",
    "        string = code[int(i)-1]\n",
    "        sol += string\n",
    "    print(sol)\n",
    "            \n",
    "    \n",
    "    \n",
    "    \n",
    "        \n",
    "# print(sol2)"
   ]
  },
  {
   "cell_type": "code",
   "execution_count": 19,
   "id": "217a9183",
   "metadata": {},
   "outputs": [],
   "source": [
    "#핵심 소스코드의 설명을 주석으로 작성하면 평가에 큰 도움이 됩니다.\n",
    "class Solution:\n",
    "    def solution(self, code, message):\n",
    "        self.code = code\n",
    "        self.message = message\n",
    "        \n",
    "        # 정답을 담을 문자열\n",
    "        sol = ''\n",
    "        \n",
    "        # message가 문자인지 숫자인지 판별\n",
    "        # 문자열일 때\n",
    "        if message.isalpha() == True :\n",
    "            \n",
    "            for i in message :\n",
    "                idx = code.find(i)\n",
    "                idx += 1\n",
    "                \n",
    "                if len(str(idx)) == 1 :\n",
    "                    idx = '0'+str(idx)\n",
    "                else :\n",
    "                    idx = str(idx)\n",
    "                sol += idx\n",
    "            \n",
    "            \n",
    "        else :\n",
    "            pass\n",
    "            \n",
    "            \n",
    "            \n",
    "        \n",
    "        \n",
    "        \n",
    "        return sol"
   ]
  },
  {
   "cell_type": "code",
   "execution_count": 21,
   "id": "f0a14d0e",
   "metadata": {},
   "outputs": [
    {
     "ename": "TypeError",
     "evalue": "solution() missing 3 required positional arguments: 'self', 'code', and 'message'",
     "output_type": "error",
     "traceback": [
      "\u001b[1;31m---------------------------------------------------------------------------\u001b[0m",
      "\u001b[1;31mTypeError\u001b[0m                                 Traceback (most recent call last)",
      "\u001b[1;32m<ipython-input-21-3e199cf09538>\u001b[0m in \u001b[0;36m<module>\u001b[1;34m\u001b[0m\n\u001b[0;32m      1\u001b[0m \u001b[0ma\u001b[0m \u001b[1;33m=\u001b[0m \u001b[0mSolution\u001b[0m\u001b[1;33m\u001b[0m\u001b[1;33m\u001b[0m\u001b[0m\n\u001b[1;32m----> 2\u001b[1;33m \u001b[0ma\u001b[0m\u001b[1;33m.\u001b[0m\u001b[0msolution\u001b[0m\u001b[1;33m(\u001b[0m\u001b[1;33m)\u001b[0m\u001b[1;31m#'abcdefghijklmnopqrstuvwxyz', 'test')\u001b[0m\u001b[1;33m\u001b[0m\u001b[1;33m\u001b[0m\u001b[0m\n\u001b[0m",
      "\u001b[1;31mTypeError\u001b[0m: solution() missing 3 required positional arguments: 'self', 'code', and 'message'"
     ]
    }
   ],
   "source": [
    "a = Solution\n",
    "a.solution()#'abcdefghijklmnopqrstuvwxyz', 'test')"
   ]
  },
  {
   "cell_type": "markdown",
   "id": "882e5153",
   "metadata": {},
   "source": [
    "# 2번문제"
   ]
  },
  {
   "cell_type": "code",
   "execution_count": 91,
   "id": "f6928b2e",
   "metadata": {},
   "outputs": [
    {
     "name": "stdout",
     "output_type": "stream",
     "text": [
      "180\n"
     ]
    }
   ],
   "source": [
    "# instructions = [\"LEFT\",\"LEFT\",\"TURN AROUND\"]\n",
    "# instructions = [\"LEFT 5\",\"RIGHT 10\",\"LEFT 15\",\"RIGHT 20\",\n",
    "#                 \"LEFT 25\",\"RIGHT 30\",\"LEFT 35\",\"RIGHT 40\", 'RIGHT', \"TURN AROUND\"]\n",
    "instructions = [\"TURN AROUND\",\"HALT\",\"LEFT 5\",\"HALT\",\"LEFT 5\",\"HALT\"]\n",
    "\n",
    "degree = 0\n",
    "\n",
    "for i in instructions :\n",
    "    if i.isalpha() == True:\n",
    "        if i == 'RIGHT' :\n",
    "            degree += 90\n",
    "        elif i == 'LEFT' :\n",
    "            degree -= 90\n",
    "        elif i =='HALT' :\n",
    "            break\n",
    "            \n",
    "    elif i == 'TURN AROUND' :\n",
    "        degree += 180\n",
    "        \n",
    "    else :\n",
    "        ls = i.split(' ')\n",
    "        if ls[0] == 'LEFT' :\n",
    "            degree -= int(ls[1])\n",
    "        else :\n",
    "            degree += int(ls[1])\n",
    "\n",
    "if (degree >= 360) & (degree < 0) :\n",
    "    n = degree//360\n",
    "    degree = degree - (n*360)\n",
    "\n",
    "    \n",
    "#     print(i)\n",
    "print(degree)\n",
    "\n",
    "\n",
    "\n",
    "\n"
   ]
  },
  {
   "cell_type": "code",
   "execution_count": 90,
   "id": "be6a223b",
   "metadata": {},
   "outputs": [
    {
     "name": "stdout",
     "output_type": "stream",
     "text": [
      "-1\n"
     ]
    },
    {
     "data": {
      "text/plain": [
       "90"
      ]
     },
     "execution_count": 90,
     "metadata": {},
     "output_type": "execute_result"
    }
   ],
   "source": [
    "d = -270\n",
    "n = d//360\n",
    "print(n)\n",
    "d-(n*360)"
   ]
  },
  {
   "cell_type": "markdown",
   "id": "bb1cea5f",
   "metadata": {},
   "source": [
    "# 3번문제"
   ]
  },
  {
   "cell_type": "code",
   "execution_count": 105,
   "id": "6a07aab8",
   "metadata": {},
   "outputs": [
    {
     "data": {
      "text/plain": [
       "[1, 2, 3, 4, 5, 6, 4]"
      ]
     },
     "execution_count": 105,
     "metadata": {},
     "output_type": "execute_result"
    }
   ],
   "source": [
    "candles = [1,2,3,4,5,6]\n",
    "candles"
   ]
  },
  {
   "cell_type": "code",
   "execution_count": 196,
   "id": "64e70ec2",
   "metadata": {},
   "outputs": [
    {
     "name": "stdout",
     "output_type": "stream",
     "text": [
      "3\n"
     ]
    }
   ],
   "source": [
    "candles = [5,2,2,1]\n",
    "# candles = [2,2,2,4]\n",
    "# candles = [4,5,2]\n",
    "candles = sorted(candles)\n",
    "candles.reverse()\n",
    "\n",
    "cnt = 0\n",
    "cnt2 = 0\n",
    "\n",
    "for i in range(len(candles)) :\n",
    "\n",
    "    ones = [1]*(i+1)\n",
    "\n",
    "#     if i == 0 :\n",
    "#         candles[i] = candles[i] - ones[i]\n",
    "        \n",
    "    if i > 0 :\n",
    "        for j in range(i) :\n",
    "            candles[j] = candles[j] - ones[i]\n",
    "#     print(candles)\n",
    "    cnt += 1\n",
    "    \n",
    "    for k in range(cnt) :\n",
    "        if candles[k] == 0 :\n",
    "            cnt2 += 1\n",
    "\n",
    "\n",
    "\n",
    "\n",
    "cnt = cnt - cnt2\n",
    "\n",
    "\n",
    "    \n",
    "\n",
    "\n",
    "# candles\n",
    "print(cnt)\n",
    "    "
   ]
  },
  {
   "cell_type": "code",
   "execution_count": 201,
   "id": "b40e770f",
   "metadata": {},
   "outputs": [
    {
     "name": "stdout",
     "output_type": "stream",
     "text": [
      "[5, 2, 2, 1]\n",
      "[4, 2, 2, 1]\n",
      "[3, 1, 2, 1]\n",
      "[2, 0, 1, 1]\n"
     ]
    },
    {
     "data": {
      "text/plain": [
       "4"
      ]
     },
     "execution_count": 201,
     "metadata": {},
     "output_type": "execute_result"
    }
   ],
   "source": [
    "#핵심 소스코드의 설명을 주석으로 작성하면 평가에 큰 도움이 됩니다.\n",
    "\n",
    "candles = [5,2,2,1]\n",
    "# candles = [2,2,2,4]\n",
    "candles = sorted(candles)\n",
    "candles.reverse()\n",
    "\n",
    "cnt = 0\n",
    "\n",
    "for i in range(len(candles)) :\n",
    "    ones = [1]*(i+1)\n",
    "\n",
    "    if i > 0 :\n",
    "        for j in range(i) :\n",
    "            candles[j] = candles[j] - ones[i]\n",
    "\n",
    "    cnt += 1\n",
    "    print(candles)\n",
    "cnt"
   ]
  },
  {
   "cell_type": "code",
   "execution_count": 123,
   "id": "5cd757ff",
   "metadata": {},
   "outputs": [
    {
     "ename": "TypeError",
     "evalue": "unsupported operand type(s) for -: 'list' and 'list'",
     "output_type": "error",
     "traceback": [
      "\u001b[1;31m---------------------------------------------------------------------------\u001b[0m",
      "\u001b[1;31mTypeError\u001b[0m                                 Traceback (most recent call last)",
      "\u001b[1;32m<ipython-input-123-bfb0a3a27658>\u001b[0m in \u001b[0;36m<module>\u001b[1;34m\u001b[0m\n\u001b[1;32m----> 1\u001b[1;33m \u001b[0mcandles\u001b[0m \u001b[1;33m-\u001b[0m \u001b[1;33m[\u001b[0m\u001b[1;36m1\u001b[0m\u001b[1;33m,\u001b[0m\u001b[1;36m2\u001b[0m\u001b[1;33m,\u001b[0m\u001b[1;36m3\u001b[0m\u001b[1;33m]\u001b[0m\u001b[1;33m\u001b[0m\u001b[1;33m\u001b[0m\u001b[0m\n\u001b[0m\u001b[0;32m      2\u001b[0m \u001b[1;33m\u001b[0m\u001b[0m\n\u001b[0;32m      3\u001b[0m \u001b[1;33m\u001b[0m\u001b[0m\n\u001b[0;32m      4\u001b[0m \u001b[1;33m\u001b[0m\u001b[0m\n\u001b[0;32m      5\u001b[0m \u001b[1;33m\u001b[0m\u001b[0m\n",
      "\u001b[1;31mTypeError\u001b[0m: unsupported operand type(s) for -: 'list' and 'list'"
     ]
    }
   ],
   "source": [
    "\n",
    "        for i in range(len(candles)) :\n",
    "            ones = [1]*(i+1)\n",
    "            if i > 0 :\n",
    "                for j in range(i) :\n",
    "                    candles[j] = candles[j] - ones[i]\n",
    "        \n",
    "            print(candles)\n",
    "            cnt += 1\n",
    "            if sum(candles) == len(candles) :\n",
    "                break\n",
    "\n",
    "\n",
    "\n",
    "\n",
    "\n",
    "\n"
   ]
  },
  {
   "cell_type": "code",
   "execution_count": null,
   "id": "67e42ede",
   "metadata": {},
   "outputs": [],
   "source": [
    "\n",
    "#핵심 소스코드의 설명을 주석으로 작성하면 평가에 큰 도움이 됩니다.\n",
    "class Solution:\n",
    "    def solution(self, candles):\n",
    "        \n",
    "        self.candles = candles\n",
    "        \n",
    "        candles = sorted(candles)\n",
    "        candles.reverse()\n",
    "        \n",
    "        cnt = 0\n",
    "\n",
    "        for i in range(len(candles)) :\n",
    "            ones = [1]*(i+1)\n",
    "        \n",
    "            if i > 0 :\n",
    "                for j in range(i) :\n",
    "                    candles[j] = candles[j] - ones[i]\n",
    "            \n",
    "            cnt += 1\n",
    "\n",
    "        return cnt\n"
   ]
  },
  {
   "cell_type": "code",
   "execution_count": null,
   "id": "e8eec59a",
   "metadata": {},
   "outputs": [],
   "source": [
    "#핵심 소스코드의 설명을 주석으로 작성하면 평가에 큰 도움이 됩니다.\n",
    "class Solution:\n",
    "    def solution(self, instructions):\n",
    "        \n",
    "        self.instructions = instructions\n",
    "        \n",
    "        degree = 0\n",
    "        for i in instructions :\n",
    "\n",
    "            if i.isalpha() == True:\n",
    "                if i == 'RIGHT' :\n",
    "                    degree += 90\n",
    "                elif i == 'LEFT' :\n",
    "                    degree -= 90\n",
    "                elif i =='HALT' :\n",
    "                    break\n",
    "                    \n",
    "            elif i == 'TURN AROUND' :\n",
    "                degree += 180\n",
    "                \n",
    "            else :\n",
    "                ls = i.split(' ')\n",
    "                if ls[0] == 'LEFT' :\n",
    "                    degree -= int(ls[1])\n",
    "                else :\n",
    "                    degree += int(ls[1])\n",
    "                    \n",
    "        if (degree >= 360) & (degree < 0) :\n",
    "            n = degree//360\n",
    "            degree = degree - (n*360)\n",
    "        \n",
    "        \n",
    "        \n",
    "        return degree"
   ]
  },
  {
   "cell_type": "code",
   "execution_count": null,
   "id": "200115a4",
   "metadata": {},
   "outputs": [],
   "source": []
  },
  {
   "cell_type": "code",
   "execution_count": null,
   "id": "d8f1b58e",
   "metadata": {},
   "outputs": [],
   "source": []
  },
  {
   "cell_type": "markdown",
   "id": "772c7595",
   "metadata": {},
   "source": [
    "# 4번"
   ]
  },
  {
   "cell_type": "code",
   "execution_count": 194,
   "id": "cc7e72d6",
   "metadata": {},
   "outputs": [
    {
     "data": {
      "text/plain": [
       "['1', '?2', '4??']"
      ]
     },
     "execution_count": 194,
     "metadata": {},
     "output_type": "execute_result"
    }
   ],
   "source": [
    "tri = [\"4??\",\"?2\",\"1\"]\n",
    "\n",
    "tri = tri[::-1]\n",
    "tri\n"
   ]
  },
  {
   "cell_type": "code",
   "execution_count": null,
   "id": "25891d33",
   "metadata": {},
   "outputs": [],
   "source": []
  }
 ],
 "metadata": {
  "kernelspec": {
   "display_name": "Python 3",
   "language": "python",
   "name": "python3"
  },
  "language_info": {
   "codemirror_mode": {
    "name": "ipython",
    "version": 3
   },
   "file_extension": ".py",
   "mimetype": "text/x-python",
   "name": "python",
   "nbconvert_exporter": "python",
   "pygments_lexer": "ipython3",
   "version": "3.8.8"
  }
 },
 "nbformat": 4,
 "nbformat_minor": 5
}

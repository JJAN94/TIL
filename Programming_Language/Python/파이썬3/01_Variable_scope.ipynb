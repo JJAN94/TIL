{
 "cells": [
  {
   "cell_type": "markdown",
   "id": "92c1d749-cac6-44b8-b16d-1ce843939164",
   "metadata": {},
   "source": [
    "# Keyword\n",
    "- Scope\n",
    "- Global\n",
    "- Nonlocal\n",
    "- Locals\n",
    "- Globals"
   ]
  },
  {
   "cell_type": "code",
   "execution_count": null,
   "id": "90735848-2956-4536-b933-8fd45c9eeb10",
   "metadata": {},
   "outputs": [],
   "source": []
  },
  {
   "cell_type": "markdown",
   "id": "c1ed7b1d-126b-4216-a696-19127512c0d2",
   "metadata": {},
   "source": [
    "## 전역변수"
   ]
  },
  {
   "cell_type": "code",
   "execution_count": 1,
   "id": "6edeae0d-8e30-44f8-ac94-a93e79e5ee51",
   "metadata": {},
   "outputs": [
    {
     "name": "stdout",
     "output_type": "stream",
     "text": [
      "ex1 :  10\n"
     ]
    }
   ],
   "source": [
    "# ex1\n",
    "a = 10 # global variable\n",
    "\n",
    "def foo() :\n",
    "    # Read global variable\n",
    "    print('ex1 : ', a)\n",
    "    \n",
    "foo()"
   ]
  },
  {
   "cell_type": "code",
   "execution_count": null,
   "id": "8938178d-aa63-4ed7-b8a5-740f4e651b4b",
   "metadata": {},
   "outputs": [],
   "source": []
  }
 ],
 "metadata": {
  "kernelspec": {
   "display_name": "Python 3",
   "language": "python",
   "name": "python3"
  },
  "language_info": {
   "codemirror_mode": {
    "name": "ipython",
    "version": 3
   },
   "file_extension": ".py",
   "mimetype": "text/x-python",
   "name": "python",
   "nbconvert_exporter": "python",
   "pygments_lexer": "ipython3",
   "version": "3.8.8"
  }
 },
 "nbformat": 4,
 "nbformat_minor": 5
}

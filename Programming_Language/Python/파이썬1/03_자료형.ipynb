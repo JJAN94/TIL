{
 "cells": [
  {
   "cell_type": "markdown",
   "id": "f81aa3b9-4f36-44ae-9c98-734416878f45",
   "metadata": {},
   "source": [
    "# 자료형\n",
    "## 1. 숫자형\n",
    "- 파이썬 모든 자료형\n",
    "- 데이터 타입 선언\n",
    "- 연산자 활용\n",
    "- 형변환\n",
    "- 외부 모듈 사용"
   ]
  },
  {
   "cell_type": "markdown",
   "id": "867c77e4-399e-4568-9d89-dc79cefd5ebe",
   "metadata": {},
   "source": [
    "- int : 정수\n",
    "- float : 실수\n",
    "- complex : 복소수\n",
    "- bool : 불린\n",
    "- str : 문자열(시퀀스)\n",
    "- list : 리스트(시퀀스\n",
    "- tuple : 튜플(시퀀스)\n",
    "- set : 집합\n",
    "- dict : 사전"
   ]
  },
  {
   "cell_type": "code",
   "execution_count": 2,
   "id": "d7c7ba5c-b4dd-40a1-bb13-75a0bba628ec",
   "metadata": {},
   "outputs": [
    {
     "name": "stdout",
     "output_type": "stream",
     "text": [
      "12 4\n",
      "12\n",
      "4\n"
     ]
    }
   ],
   "source": [
    "# 몫과 나머지로 할당\n",
    "x, y = divmod(100, 8)\n",
    "print(x, y)\n",
    "print(100//8)\n",
    "print(100%8)"
   ]
  },
  {
   "cell_type": "code",
   "execution_count": 3,
   "id": "25a40116-2c37-4070-9882-4f0cadab492a",
   "metadata": {},
   "outputs": [],
   "source": [
    "# 외부 모듈\n",
    "import math"
   ]
  },
  {
   "cell_type": "code",
   "execution_count": 4,
   "id": "2f3bef7b-c785-4c74-99df-b855f4805765",
   "metadata": {},
   "outputs": [
    {
     "name": "stdout",
     "output_type": "stream",
     "text": [
      "3.141592653589793\n"
     ]
    }
   ],
   "source": [
    "print(math.pi)"
   ]
  },
  {
   "cell_type": "code",
   "execution_count": 5,
   "id": "5b899c04-7e04-4f1c-b7be-c0cdc73a73bb",
   "metadata": {},
   "outputs": [
    {
     "data": {
      "text/plain": [
       "['__doc__',\n",
       " '__loader__',\n",
       " '__name__',\n",
       " '__package__',\n",
       " '__spec__',\n",
       " 'acos',\n",
       " 'acosh',\n",
       " 'asin',\n",
       " 'asinh',\n",
       " 'atan',\n",
       " 'atan2',\n",
       " 'atanh',\n",
       " 'ceil',\n",
       " 'comb',\n",
       " 'copysign',\n",
       " 'cos',\n",
       " 'cosh',\n",
       " 'degrees',\n",
       " 'dist',\n",
       " 'e',\n",
       " 'erf',\n",
       " 'erfc',\n",
       " 'exp',\n",
       " 'expm1',\n",
       " 'fabs',\n",
       " 'factorial',\n",
       " 'floor',\n",
       " 'fmod',\n",
       " 'frexp',\n",
       " 'fsum',\n",
       " 'gamma',\n",
       " 'gcd',\n",
       " 'hypot',\n",
       " 'inf',\n",
       " 'isclose',\n",
       " 'isfinite',\n",
       " 'isinf',\n",
       " 'isnan',\n",
       " 'isqrt',\n",
       " 'ldexp',\n",
       " 'lgamma',\n",
       " 'log',\n",
       " 'log10',\n",
       " 'log1p',\n",
       " 'log2',\n",
       " 'modf',\n",
       " 'nan',\n",
       " 'perm',\n",
       " 'pi',\n",
       " 'pow',\n",
       " 'prod',\n",
       " 'radians',\n",
       " 'remainder',\n",
       " 'sin',\n",
       " 'sinh',\n",
       " 'sqrt',\n",
       " 'tan',\n",
       " 'tanh',\n",
       " 'tau',\n",
       " 'trunc']"
      ]
     },
     "execution_count": 5,
     "metadata": {},
     "output_type": "execute_result"
    }
   ],
   "source": [
    "dir(math)"
   ]
  },
  {
   "cell_type": "markdown",
   "id": "c41fb433-3725-469a-9c1a-a015f46f7fb5",
   "metadata": {},
   "source": [
    "## 2. 문자형\n",
    "- 문자형 중요성\n",
    "- 문자형 출력\n",
    "- 이스케이프\n",
    "- 멀티 라인\n",
    "- 문자형 연산\n",
    "- 문자형 형 변환\n",
    "- 인덱싱\n",
    "- 문자열 함수\n",
    "- 슬라이싱"
   ]
  },
  {
   "cell_type": "code",
   "execution_count": 8,
   "id": "bdd4c9da-ca71-44b2-9171-5174121e2907",
   "metadata": {},
   "outputs": [
    {
     "name": "stdout",
     "output_type": "stream",
     "text": [
      "\u000011\n"
     ]
    }
   ],
   "source": [
    "print('\\000') # 널 문자"
   ]
  },
  {
   "cell_type": "code",
   "execution_count": 10,
   "id": "6b8b56ee-d378-4bc2-a828-6db9112f529b",
   "metadata": {},
   "outputs": [
    {
     "name": "stdout",
     "output_type": "stream",
     "text": [
      "D:\\tpython\\test\n"
     ]
    }
   ],
   "source": [
    "# Raw String \\를 전혀 신경쓰지 않음.\n",
    "raw_s1 = r'D:\\tpython\\test'\n",
    "print(raw_s1)"
   ]
  },
  {
   "cell_type": "code",
   "execution_count": null,
   "id": "d4ce6701-6872-4068-8655-f96f91cac80a",
   "metadata": {},
   "outputs": [],
   "source": []
  }
 ],
 "metadata": {
  "kernelspec": {
   "display_name": "Python 3",
   "language": "python",
   "name": "python3"
  },
  "language_info": {
   "codemirror_mode": {
    "name": "ipython",
    "version": 3
   },
   "file_extension": ".py",
   "mimetype": "text/x-python",
   "name": "python",
   "nbconvert_exporter": "python",
   "pygments_lexer": "ipython3",
   "version": "3.8.8"
  }
 },
 "nbformat": 4,
 "nbformat_minor": 5
}

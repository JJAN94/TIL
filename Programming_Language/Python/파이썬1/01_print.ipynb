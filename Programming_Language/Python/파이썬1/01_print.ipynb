{
 "cells": [
  {
   "cell_type": "markdown",
   "id": "d1955333-10e9-4794-853a-8d8a5a749170",
   "metadata": {},
   "source": [
    "# 다양한 print 출력\n",
    "- separator 사용\n",
    "- end 사용\n",
    "- python format 사용"
   ]
  },
  {
   "cell_type": "code",
   "execution_count": 7,
   "id": "8eaab2c9-9850-414b-9c12-4d02d154368b",
   "metadata": {},
   "outputs": [
    {
     "name": "stdout",
     "output_type": "stream",
     "text": [
      "hi!hello!world\n"
     ]
    }
   ],
   "source": [
    "print('hi', 'hello',  'world', sep='!')"
   ]
  },
  {
   "cell_type": "code",
   "execution_count": 8,
   "id": "0b161e0c-8029-446b-a113-f8403e2f6877",
   "metadata": {},
   "outputs": [
    {
     "name": "stdout",
     "output_type": "stream",
     "text": [
      "learn python\n"
     ]
    }
   ],
   "source": [
    "import sys\n",
    "print('learn python', file=sys.stdout)"
   ]
  },
  {
   "cell_type": "markdown",
   "id": "1b7a520e-93d7-49d9-aa92-00ee229402d4",
   "metadata": {},
   "source": [
    "## f-string"
   ]
  },
  {
   "cell_type": "code",
   "execution_count": 20,
   "id": "6b3edd9f-e2f0-4c9e-b138-bb87dc1cdda1",
   "metadata": {},
   "outputs": [
    {
     "name": "stdout",
     "output_type": "stream",
     "text": [
      "0.146\n"
     ]
    }
   ],
   "source": [
    "num = 0.14628\n",
    "print(f'{num:.03}')"
   ]
  },
  {
   "cell_type": "code",
   "execution_count": null,
   "id": "0e2d3255-0e40-4101-82e9-5d60b306f87a",
   "metadata": {},
   "outputs": [],
   "source": []
  }
 ],
 "metadata": {
  "kernelspec": {
   "display_name": "Python 3",
   "language": "python",
   "name": "python3"
  },
  "language_info": {
   "codemirror_mode": {
    "name": "ipython",
    "version": 3
   },
   "file_extension": ".py",
   "mimetype": "text/x-python",
   "name": "python",
   "nbconvert_exporter": "python",
   "pygments_lexer": "ipython3",
   "version": "3.8.8"
  }
 },
 "nbformat": 4,
 "nbformat_minor": 5
}

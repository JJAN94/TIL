{
 "cells": [
  {
   "cell_type": "markdown",
   "id": "a99bb384-130b-4888-b539-cbdc82e41126",
   "metadata": {},
   "source": [
    "# 파이썬 변수\n",
    "- 변수 할당 설명\n",
    "- Object Identity\n",
    "- 변수 네이밍 규칙\n",
    "- 예약어"
   ]
  },
  {
   "cell_type": "code",
   "execution_count": null,
   "id": "34c0310a-2187-4098-8490-4b5fd0101eca",
   "metadata": {},
   "outputs": [],
   "source": [
    "# 기본 선언\n",
    "n = 700"
   ]
  },
  {
   "cell_type": "markdown",
   "id": "d3a0760c-ae35-4637-b7ac-a80b606cbd12",
   "metadata": {},
   "source": [
    "## object identity"
   ]
  },
  {
   "cell_type": "code",
   "execution_count": 2,
   "id": "4528bd99-d524-4174-9b9d-38a820da2c03",
   "metadata": {},
   "outputs": [
    {
     "name": "stdout",
     "output_type": "stream",
     "text": [
      "1733557183280\n",
      "1733557182928\n"
     ]
    }
   ],
   "source": [
    "# id(identity) 확인 : 객체의 고유값 확인\n",
    "m = 800\n",
    "n = 655\n",
    "\n",
    "print(id(m))\n",
    "print(id(n))"
   ]
  },
  {
   "cell_type": "code",
   "execution_count": 3,
   "id": "dab1fccc-4e3e-41c0-a2a7-0a8943b44ef6",
   "metadata": {},
   "outputs": [
    {
     "name": "stdout",
     "output_type": "stream",
     "text": [
      "140734553076624\n",
      "140734553076624\n",
      "True\n"
     ]
    }
   ],
   "source": [
    "# 같은 오브젝트 참조\n",
    "# 값이 같으면 같은곳을 참조한다. (메모리 절약)\n",
    "m = 100\n",
    "n = 100\n",
    "print(id(m))\n",
    "print(id(n))\n",
    "print(id(n) == id(m))"
   ]
  },
  {
   "cell_type": "markdown",
   "id": "fa26b0e5-9158-405c-b380-b92081d4a8b5",
   "metadata": {},
   "source": [
    "## 다양한 변수 선언"
   ]
  },
  {
   "cell_type": "markdown",
   "id": "7a3dd97f-1f9f-4651-b243-1a13405a2786",
   "metadata": {},
   "source": [
    "- Camel Case : numberOfCollegeGraduates -> method (맨앞이 소문자)\n",
    "- Pascal Case : NumberOfCollegeGraduates -> class (맨앞이 대문자)\n",
    "- Snake Case : number_of_college_graduates -> variable"
   ]
  },
  {
   "cell_type": "markdown",
   "id": "c22fd3db-7544-40be-9a33-8f694b24ccdf",
   "metadata": {},
   "source": [
    "## 예약어"
   ]
  },
  {
   "cell_type": "markdown",
   "id": "aef1005b-c1f6-48c2-a255-2a7cb96b40d6",
   "metadata": {},
   "source": [
    "예약어는 변수명으로 불가능"
   ]
  },
  {
   "cell_type": "code",
   "execution_count": null,
   "id": "4ec3a7df-0ece-4cc0-8f37-12c34b33cbe7",
   "metadata": {},
   "outputs": [],
   "source": []
  }
 ],
 "metadata": {
  "kernelspec": {
   "display_name": "Python 3",
   "language": "python",
   "name": "python3"
  },
  "language_info": {
   "codemirror_mode": {
    "name": "ipython",
    "version": 3
   },
   "file_extension": ".py",
   "mimetype": "text/x-python",
   "name": "python",
   "nbconvert_exporter": "python",
   "pygments_lexer": "ipython3",
   "version": "3.8.8"
  }
 },
 "nbformat": 4,
 "nbformat_minor": 5
}

{
 "cells": [
  {
   "cell_type": "markdown",
   "id": "4fab0158-bec9-49af-ab7e-572724ec546b",
   "metadata": {},
   "source": [
    "파이썬 클래스\\\n",
    "OOP(객체 지향 프로그래밍), self, 인스턴스 메소드, 인스턴스 변수\\\n",
    "클래스 and 인스턴스 차이 이해"
   ]
  },
  {
   "cell_type": "code",
   "execution_count": 2,
   "id": "ba37cb3c-dd5a-4deb-8e06-8e14c78e7b6a",
   "metadata": {},
   "outputs": [],
   "source": [
    "# class Dog(object):\n",
    "class Dog: # 모든 클래스는 object를 상속받는다.\n",
    "    # 클래스 속성\n",
    "    species = 'firstdog'\n",
    "    \n",
    "    # 초기화/인스턴스 속성\n",
    "    def __init__(self, name, age):\n",
    "        self.name = name\n",
    "        self.age = age"
   ]
  },
  {
   "cell_type": "markdown",
   "id": "229797d7-004e-488b-bc0a-874b90ec0a84",
   "metadata": {},
   "source": [
    "- 클래스 변수 : 직접 접근 가능\n",
    "- 인스턴스 변수 : 객체마다 별도 존재"
   ]
  },
  {
   "cell_type": "code",
   "execution_count": 3,
   "id": "c9e1f6c3-b029-42a0-8030-0a4e90f4bf7b",
   "metadata": {},
   "outputs": [
    {
     "name": "stdout",
     "output_type": "stream",
     "text": [
      "<class '__main__.Dog'>\n"
     ]
    }
   ],
   "source": [
    "# 클래스 정보\n",
    "print(Dog)"
   ]
  },
  {
   "cell_type": "code",
   "execution_count": 4,
   "id": "ea69a365-a317-4e15-8c8a-836c21fc7a84",
   "metadata": {},
   "outputs": [],
   "source": [
    "# 인스턴스화\n",
    "# 설계도를 바탕으로 구현된 것을 인스턴스화라고 한다.\n",
    "a = Dog('mikky', 2)\n",
    "b = Dog('baby', 3)"
   ]
  },
  {
   "cell_type": "code",
   "execution_count": 6,
   "id": "091f24ac-0714-4901-b677-bd71ce860347",
   "metadata": {},
   "outputs": [
    {
     "name": "stdout",
     "output_type": "stream",
     "text": [
      "False 2907179686496 2907179685920\n"
     ]
    }
   ],
   "source": [
    "# 비교\n",
    "print(a==b, id(a), id(b))"
   ]
  },
  {
   "cell_type": "code",
   "execution_count": 7,
   "id": "12438e9e-4a84-466e-809e-de32be73b67c",
   "metadata": {},
   "outputs": [
    {
     "name": "stdout",
     "output_type": "stream",
     "text": [
      "dog1 {'name': 'mikky', 'age': 2}\n",
      "dog2 {'name': 'baby', 'age': 3}\n"
     ]
    }
   ],
   "source": [
    "# 네임스페이스\n",
    "# = 객체를 인스턴스화 할 때 저장된 공간\n",
    "print('dog1', a.__dict__)\n",
    "print('dog2', b.__dict__)"
   ]
  },
  {
   "cell_type": "code",
   "execution_count": 8,
   "id": "9a805e76-5c01-4513-9ac5-0943888767ca",
   "metadata": {},
   "outputs": [
    {
     "name": "stdout",
     "output_type": "stream",
     "text": [
      "mikky is 2 and baby is 3\n"
     ]
    }
   ],
   "source": [
    "# 인스턴스 속성 확인\n",
    "print('{} is {} and {} is {}'.format(a.name, a.age, b.name, b.age))"
   ]
  },
  {
   "cell_type": "code",
   "execution_count": 11,
   "id": "3b1fbe57-5241-4811-8d3b-a66c9743c198",
   "metadata": {},
   "outputs": [
    {
     "name": "stdout",
     "output_type": "stream",
     "text": [
      "mikky is a firstdog\n",
      "firstdog\n"
     ]
    }
   ],
   "source": [
    "if a.species == 'firstdog':\n",
    "    print('{} is a {}'.format(a.name, a.species))\n",
    "\n",
    "# 직접 접근 (클래스변수니까)\n",
    "print(Dog.species)"
   ]
  },
  {
   "cell_type": "code",
   "execution_count": null,
   "id": "e3cff05f-1620-4ff3-ac77-ec9668a8417e",
   "metadata": {},
   "outputs": [],
   "source": []
  }
 ],
 "metadata": {
  "kernelspec": {
   "display_name": "Python 3",
   "language": "python",
   "name": "python3"
  },
  "language_info": {
   "codemirror_mode": {
    "name": "ipython",
    "version": 3
   },
   "file_extension": ".py",
   "mimetype": "text/x-python",
   "name": "python",
   "nbconvert_exporter": "python",
   "pygments_lexer": "ipython3",
   "version": "3.8.8"
  }
 },
 "nbformat": 4,
 "nbformat_minor": 5
}

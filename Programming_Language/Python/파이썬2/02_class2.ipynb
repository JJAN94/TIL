{
 "cells": [
  {
   "cell_type": "markdown",
   "id": "bf4b271e-ed73-4dae-ae39-f131e34cc1c4",
   "metadata": {},
   "source": [
    "- 객체 지향 프로그래밍(OOP) - 코드의 재사용, 코드 중복 방지, 대형프로젝트\n",
    "- 규모가  큰 프로젝트(프로그램) -> 함수 중심의 프로그램은 데이터가 방대해짐  -> 문제가 복잡해짐\n",
    "- 클래스 중심 -> 데이터 중심 -> 객체로 관리되어 코드의 재사용, 중복 방지, 유지보수가 간편해짐"
   ]
  },
  {
   "cell_type": "code",
   "execution_count": 2,
   "id": "2a94ba99-0059-4f7d-beac-774145b08d60",
   "metadata": {},
   "outputs": [],
   "source": [
    "class Car():\n",
    "    '''\n",
    "    Car class\n",
    "    author : An\n",
    "    Date :2021.11.22\n",
    "    '''\n",
    "    def __init__(self, company, details):\n",
    "        self._company = company\n",
    "        self._details = details\n",
    "        \n",
    "    def __str__(self):\n",
    "        return 'str : {} - {}'.format(self._company, self._details)\n",
    "\n",
    "    def __repr__(self):\n",
    "        return 'repr : {} - {}'.format(self._company, self._details)\n",
    "    \n",
    "car1 = Car('Ferrari', {'color' : 'White', 'horsepower' : 400, 'price' : 8000})\n",
    "car2 = Car('BMW', {'color' : 'Black', 'horsepower' : 270, 'price' : 5000})\n",
    "car3 = Car('Audi', {'color' : 'Silver', 'horsepower' : 300, 'price' : 6000})\n"
   ]
  },
  {
   "cell_type": "code",
   "execution_count": 5,
   "id": "779da60f-50dc-4752-ba60-47e03675e02a",
   "metadata": {},
   "outputs": [
    {
     "name": "stdout",
     "output_type": "stream",
     "text": [
      "1534090179680\n",
      "1534090179776\n",
      "1534090179728\n",
      "False\n",
      "False\n"
     ]
    }
   ],
   "source": [
    "# self의 의미\n",
    "\n",
    "\n",
    "print(id(car1))\n",
    "print(id(car2))\n",
    "print(id(car3))\n",
    "\n",
    "print(car1._company == car2._company)\n",
    "print(car1 is car2)"
   ]
  },
  {
   "cell_type": "code",
   "execution_count": null,
   "id": "47c4f9bc-adf1-405f-9530-8176bcc15d74",
   "metadata": {},
   "outputs": [],
   "source": []
  }
 ],
 "metadata": {
  "kernelspec": {
   "display_name": "Python 3",
   "language": "python",
   "name": "python3"
  },
  "language_info": {
   "codemirror_mode": {
    "name": "ipython",
    "version": 3
   },
   "file_extension": ".py",
   "mimetype": "text/x-python",
   "name": "python",
   "nbconvert_exporter": "python",
   "pygments_lexer": "ipython3",
   "version": "3.8.8"
  }
 },
 "nbformat": 4,
 "nbformat_minor": 5
}

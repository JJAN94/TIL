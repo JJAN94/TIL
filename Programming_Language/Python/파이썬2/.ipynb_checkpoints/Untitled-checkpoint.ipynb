{
 "cells": [
  {
   "cell_type": "markdown",
   "id": "f4706042-9799-4e04-b8a1-086dd1dac84d",
   "metadata": {},
   "source": [
    "## 클래스 기반 개발 설명\n",
    "- 절차 지향 vs 객체 지향\n",
    "- 객체지향 프로그래밍 장점\n",
    "- 클래스 기반 코딩 실습"
   ]
  },
  {
   "cell_type": "markdown",
   "id": "dc167d50-e61e-45a7-b4af-3f21a6b110f3",
   "metadata": {},
   "source": [
    "- 객체 지향 프로그래밍(OOP) - 코드의 재사용, 코드 중복 방지, 대형프로젝트\n",
    "- 규모가  큰 프로젝트(프로그램) -> 함수 중심의 프로그램은 데이터가 방대해짐  -> 문제가 복잡해짐\n",
    "- 클래스 중심 -> 데이터 중심 -> 객체로 관리되어 코드의 재사용, 중복 방지, 유지보수가 간편해짐"
   ]
  },
  {
   "cell_type": "code",
   "execution_count": 1,
   "id": "d8bfc0e8-25e4-4958-9f60-b1836215491a",
   "metadata": {},
   "outputs": [],
   "source": [
    "# 일반적인 코딩\n",
    "# 차량 1\n",
    "car_company_1 = 'Ferrari'\n",
    "car_detail_1 = [\n",
    "    {'color' : 'White'},\n",
    "    {'horsepower' : 400},\n",
    "    {'price' : 8000}\n",
    "]\n",
    "\n",
    "# 차량 2\n",
    "car_company_1 = 'BMW'\n",
    "car_detail_1 = [\n",
    "    {'color' : 'Black'},\n",
    "    {'horsepower' : 270},\n",
    "    {'price' : 5000}\n",
    "]\n",
    "\n",
    "# 차량 3\n",
    "car_company_1 = 'Audi'\n",
    "car_detail_1 = [\n",
    "    {'color' : 'silver'},\n",
    "    {'horsepower' : 300},\n",
    "    {'price' : 6000}\n",
    "]"
   ]
  },
  {
   "cell_type": "code",
   "execution_count": 2,
   "id": "9bc8fc72-8cd8-406f-9a6d-d84eb31d1efd",
   "metadata": {},
   "outputs": [],
   "source": [
    "# 리스트 구조\n",
    "# 관리하기 불편\n",
    "# 인덱스 접근 시 실수 가능성, 삭제 불편\n",
    "car_company_list = ['Ferrari', 'BMW', 'Audi']\n",
    "car_detail_list = [\n",
    "    {'color' : 'White', 'horsepower' : 400, 'price' : 8000},\n",
    "    {'color' : 'Black', 'horsepower' : 270, 'price' : 5000},\n",
    "    {'color' : 'Silver', 'horsepower' : 300, 'price' : 6000}\n",
    "]"
   ]
  },
  {
   "cell_type": "code",
   "execution_count": 3,
   "id": "05daf3e7-fa75-4253-9936-e4f4d64f4b0c",
   "metadata": {},
   "outputs": [],
   "source": [
    "del car_company_list[1]\n",
    "del car_detail_list[1]"
   ]
  },
  {
   "cell_type": "code",
   "execution_count": 4,
   "id": "daf6d13d-a1bb-4ddf-a49e-f7039efe7752",
   "metadata": {},
   "outputs": [
    {
     "name": "stdout",
     "output_type": "stream",
     "text": [
      "['Ferrari', 'Audi']\n",
      "[{'color': 'White', 'horsepower': 400, 'price': 8000}, {'color': 'Silver', 'horsepower': 300, 'price': 6000}]\n"
     ]
    }
   ],
   "source": [
    "print(car_company_list)\n",
    "print(car_detail_list)"
   ]
  },
  {
   "cell_type": "code",
   "execution_count": 5,
   "id": "e3dd3107-6c68-4b3f-a423-1deb981c1097",
   "metadata": {},
   "outputs": [
    {
     "name": "stdout",
     "output_type": "stream",
     "text": [
      "[{'car_company': 'Ferrari', 'car_detail': {'color': 'White', 'horsepower': 400, 'price': 8000}}, {'car_company': 'BMW', 'car_detail': {'color': 'Black', 'horsepower': 270, 'price': 5000}}, {'car_company': 'Audi', 'car_detail': {'color': 'Silver', 'horsepower': 300, 'price': 6000}}]\n"
     ]
    }
   ],
   "source": [
    "# 딕셔너리 구조\n",
    "# 코드 반복 지속, 중첩 문제(키는 유일), 키로 조회시 예외 처리 등\n",
    "\n",
    "car_dicts = [\n",
    "    {'car_company' : 'Ferrari', 'car_detail' : {'color' : 'White', 'horsepower' : 400, 'price' : 8000}},\n",
    "    {'car_company' : 'BMW', 'car_detail' : {'color' : 'Black', 'horsepower' : 270, 'price' : 5000}},\n",
    "    {'car_company' : 'Audi', 'car_detail' : {'color' : 'Silver', 'horsepower' : 300, 'price' : 6000}}\n",
    "]\n",
    "\n",
    "print(car_dicts)"
   ]
  },
  {
   "cell_type": "code",
   "execution_count": 16,
   "id": "4b085187-9316-4066-9207-84346e6aeb80",
   "metadata": {},
   "outputs": [
    {
     "name": "stdout",
     "output_type": "stream",
     "text": [
      "repr : Ferrari - {'color': 'White', 'horsepower': 400, 'price': 8000}\n",
      "repr : BMW - {'color': 'Black', 'horsepower': 270, 'price': 5000}\n",
      "repr : Audi - {'color': 'Silver', 'horsepower': 300, 'price': 6000}\n",
      "{'_company': 'Ferrari', '_details': {'color': 'White', 'horsepower': 400, 'price': 8000}}\n",
      "{'_company': 'BMW', '_details': {'color': 'Black', 'horsepower': 270, 'price': 5000}}\n",
      "{'_company': 'Audi', '_details': {'color': 'Silver', 'horsepower': 300, 'price': 6000}}\n"
     ]
    }
   ],
   "source": [
    "# 클래스 구조\n",
    "# 구조 설계 후 재사용성 증가, 코드 반복 최소화, 메소드 활용\n",
    "\n",
    "class Car():\n",
    "    def __init__(self, company, details):\n",
    "        self._company = company\n",
    "        self._details = details\n",
    "        \n",
    "    # 비공식적인, 프린트문으로 사용자가 출력할 때는 __str__을 사용\n",
    "#     def __str__(self):\n",
    "#         return 'str : {} - {}'.format(self._company, self._details)\n",
    "    \n",
    "    # 객체, 자료형의 타입에 따른 객체를 출력할 떄는 __repr__ / 개발자가 쓰자.\n",
    "    # __str__과 __repr__이 같이 있으면 __str__을 출력함\n",
    "    def __repr__(self):\n",
    "        return 'repr : {} - {}'.format(self._company, self._details)\n",
    "        \n",
    "car1 = Car('Ferrari', {'color' : 'White', 'horsepower' : 400, 'price' : 8000})\n",
    "car2 = Car('BMW', {'color' : 'Black', 'horsepower' : 270, 'price' : 5000})\n",
    "car3 = Car('Audi', {'color' : 'Silver', 'horsepower' : 300, 'price' : 6000})\n",
    "\n",
    "print(car1)\n",
    "print(car2)\n",
    "print(car3)\n",
    "\n",
    "print(car1.__dict__)\n",
    "print(car2.__dict__)\n",
    "print(car3.__dict__)"
   ]
  },
  {
   "cell_type": "code",
   "execution_count": 17,
   "id": "b2a63826-15a8-4381-ad2a-a8e532e9ba83",
   "metadata": {},
   "outputs": [
    {
     "name": "stdout",
     "output_type": "stream",
     "text": [
      "['__class__', '__delattr__', '__dict__', '__dir__', '__doc__', '__eq__', '__format__', '__ge__', '__getattribute__', '__gt__', '__hash__', '__init__', '__init_subclass__', '__le__', '__lt__', '__module__', '__ne__', '__new__', '__reduce__', '__reduce_ex__', '__repr__', '__setattr__', '__sizeof__', '__str__', '__subclasshook__', '__weakref__', '_company', '_details']\n"
     ]
    }
   ],
   "source": [
    "print(dir(car1))"
   ]
  },
  {
   "cell_type": "code",
   "execution_count": 18,
   "id": "a20afb74-5ce4-48c1-adb2-74d81a8fbc9d",
   "metadata": {},
   "outputs": [
    {
     "name": "stdout",
     "output_type": "stream",
     "text": [
      "[repr : Ferrari - {'color': 'White', 'horsepower': 400, 'price': 8000}, repr : BMW - {'color': 'Black', 'horsepower': 270, 'price': 5000}, repr : Audi - {'color': 'Silver', 'horsepower': 300, 'price': 6000}]\n"
     ]
    }
   ],
   "source": [
    "car_list = []\n",
    "car_list.append(car1)\n",
    "car_list.append(car2)\n",
    "car_list.append(car3)\n",
    "print(car_list)"
   ]
  },
  {
   "cell_type": "code",
   "execution_count": 19,
   "id": "6d8c3f07-ca7c-4d41-8137-bbf0d9192838",
   "metadata": {},
   "outputs": [
    {
     "name": "stdout",
     "output_type": "stream",
     "text": [
      "repr : Ferrari - {'color': 'White', 'horsepower': 400, 'price': 8000}\n",
      "repr : BMW - {'color': 'Black', 'horsepower': 270, 'price': 5000}\n",
      "repr : Audi - {'color': 'Silver', 'horsepower': 300, 'price': 6000}\n"
     ]
    }
   ],
   "source": [
    "for x in car_list:\n",
    "    print(x)"
   ]
  },
  {
   "cell_type": "code",
   "execution_count": null,
   "id": "29757892-2eb0-4a43-859f-c0dd4fa83ea1",
   "metadata": {},
   "outputs": [],
   "source": []
  }
 ],
 "metadata": {
  "kernelspec": {
   "display_name": "Python 3",
   "language": "python",
   "name": "python3"
  },
  "language_info": {
   "codemirror_mode": {
    "name": "ipython",
    "version": 3
   },
   "file_extension": ".py",
   "mimetype": "text/x-python",
   "name": "python",
   "nbconvert_exporter": "python",
   "pygments_lexer": "ipython3",
   "version": "3.8.8"
  }
 },
 "nbformat": 4,
 "nbformat_minor": 5
}

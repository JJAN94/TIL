{
 "cells": [
  {
   "cell_type": "markdown",
   "id": "28a141c8-9bfa-4d7b-ab15-38723a14d8f6",
   "metadata": {},
   "source": [
    "# 4.6 딕셔너리 - 키와 값의 세트를 다룸\n",
    "딕셔너리(dictionary)란 키와 값을 세트로 다루는 데이터 타입으로 해시(hash), 맵(map), 연상 배열 등으로 불린다.\\\n",
    "키를 인덱스로 이용해서 저장된 값을 빠르게 추출할 수 있다.\\\n",
    "파이썬에서는 dict타입으로 제공한다."
   ]
  },
  {
   "cell_type": "markdown",
   "id": "ecd81364-4486-4243-b158-796b83133581",
   "metadata": {},
   "source": [
    "## 4.6.1 dict 타입 - 딕셔너리를 다루는 타입"
   ]
  },
  {
   "cell_type": "markdown",
   "id": "38d006d3-c465-4e12-b040-6edc1d4692ba",
   "metadata": {},
   "source": [
    "방법 1"
   ]
  },
  {
   "cell_type": "code",
   "execution_count": 2,
   "id": "8e30b118-18ad-44f8-99f1-dbf0e74a36f1",
   "metadata": {},
   "outputs": [
    {
     "name": "stdout",
     "output_type": "stream",
     "text": [
      "<class 'dict'>\n",
      "{'note': 1, 'notebook': 2, 'sketchbook': 3}\n"
     ]
    }
   ],
   "source": [
    "items = {'note' : 1, 'notebook' : 2, 'sketchbook': 3}\n",
    "print(type(items))\n",
    "print(items)"
   ]
  },
  {
   "cell_type": "markdown",
   "id": "184e7518-4969-4519-9720-42dc990afb1d",
   "metadata": {},
   "source": [
    "방법 2"
   ]
  },
  {
   "cell_type": "code",
   "execution_count": 3,
   "id": "2bc5579c-53d0-4f8b-bdee-bcf55619abe0",
   "metadata": {},
   "outputs": [
    {
     "data": {
      "text/plain": [
       "{'note': 1, 'notebook': 2, 'sketchbook': 3}"
      ]
     },
     "execution_count": 3,
     "metadata": {},
     "output_type": "execute_result"
    }
   ],
   "source": [
    "items2 = dict(note=1, notebook=2, sketchbook=3)\n",
    "items2"
   ]
  },
  {
   "cell_type": "markdown",
   "id": "6991c531-eb3a-4b0e-be00-95fe9c30c7dc",
   "metadata": {},
   "source": [
    "## 4.6.2 엘리먼트 추가와 삭제\n",
    "- 새로운 키를 지정해 대입하면 엘리먼트 추가\n",
    "- dict.pop() 메소드 또는 del로 객체 삭제"
   ]
  },
  {
   "cell_type": "code",
   "execution_count": 9,
   "id": "bc5f9b9e-81c5-4628-a683-1554e46c5439",
   "metadata": {},
   "outputs": [
    {
     "data": {
      "text/plain": [
       "{'note': 1, 'notebook': 2, 'sketchbook': 3, 'book': 4}"
      ]
     },
     "execution_count": 9,
     "metadata": {},
     "output_type": "execute_result"
    }
   ],
   "source": [
    "items = {'note' : 1, 'notebook' : 2, 'sketchbook': 3}\n",
    "items['book'] = 4 # 엘리먼트 추가\n",
    "items"
   ]
  },
  {
   "cell_type": "code",
   "execution_count": 10,
   "id": "2e94bb3a-8047-4eee-a809-0be927ece874",
   "metadata": {},
   "outputs": [
    {
     "data": {
      "text/plain": [
       "{'note': 1, 'sketchbook': 3, 'book': 4}"
      ]
     },
     "execution_count": 10,
     "metadata": {},
     "output_type": "execute_result"
    }
   ],
   "source": [
    "items.pop('notebook') # 엘리먼트를 꺼내 딕셔너리에서 삭제\n",
    "items"
   ]
  },
  {
   "cell_type": "code",
   "execution_count": 11,
   "id": "0040873b-4973-43ae-bdfc-5a98cfaae6a8",
   "metadata": {},
   "outputs": [
    {
     "data": {
      "text/plain": [
       "{'note': 1, 'book': 4}"
      ]
     },
     "execution_count": 11,
     "metadata": {},
     "output_type": "execute_result"
    }
   ],
   "source": [
    "del items['sketchbook'] # 엘리먼트 삭제\n",
    "items"
   ]
  },
  {
   "cell_type": "code",
   "execution_count": null,
   "id": "83a3a0c5-7cf3-4e3f-8efd-72022636b11a",
   "metadata": {},
   "outputs": [],
   "source": []
  }
 ],
 "metadata": {
  "kernelspec": {
   "display_name": "py38_normal",
   "language": "python",
   "name": "py38_normal"
  },
  "language_info": {
   "codemirror_mode": {
    "name": "ipython",
    "version": 3
   },
   "file_extension": ".py",
   "mimetype": "text/x-python",
   "name": "python",
   "nbconvert_exporter": "python",
   "pygments_lexer": "ipython3",
   "version": "3.8.12"
  }
 },
 "nbformat": 4,
 "nbformat_minor": 5
}

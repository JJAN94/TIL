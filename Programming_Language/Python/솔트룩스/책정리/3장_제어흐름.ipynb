{
 "cells": [
  {
   "cell_type": "markdown",
   "id": "8e47f239-d6a0-46e9-8587-ae41d4fd2626",
   "metadata": {
    "tags": []
   },
   "source": [
    "# 3.1 기본 문법"
   ]
  },
  {
   "cell_type": "markdown",
   "id": "efe88310-8167-4593-a076-432f210787b4",
   "metadata": {
    "tags": [],
    "toc-hr-collapsed": true
   },
   "source": [
    "## 3.1.1 들여쓰기를 사용한 블록 표현\n",
    "- 기본 들여쓰기 : 스페이스 4칸 (PEP 8)\n",
    "\n",
    "- pass 문 : pass를 치면 pass를 타고 아무 동작안하고 실행 종료"
   ]
  },
  {
   "cell_type": "markdown",
   "id": "0ffce5ee-b2dc-4e1a-9087-103c2c0bb32b",
   "metadata": {},
   "source": [
    "## 3.1.2 변수 이용\n",
    "- C나 자바처럼 변수 타입을 선언해주지 않아도 된다.\n",
    "- 새로운 변수는 대입문만으로 정의되며 즉시 사용할 수 있다."
   ]
  },
  {
   "cell_type": "code",
   "execution_count": 1,
   "id": "82d1a739-589a-4601-aae1-dcab4a687827",
   "metadata": {},
   "outputs": [
    {
     "data": {
      "text/plain": [
       "3"
      ]
     },
     "execution_count": 1,
     "metadata": {},
     "output_type": "execute_result"
    }
   ],
   "source": [
    "num = 3\n",
    "num"
   ]
  },
  {
   "cell_type": "markdown",
   "id": "980fd8ff-0dd3-4cb3-a380-d98e043936fc",
   "metadata": {},
   "source": [
    "변수를 콤마(,)로 구분해 여러 값을 한 번에 대입할 수 있다."
   ]
  },
  {
   "cell_type": "code",
   "execution_count": 2,
   "id": "e54640ee-343f-4ec8-9385-724c50410d47",
   "metadata": {},
   "outputs": [
    {
     "name": "stdout",
     "output_type": "stream",
     "text": [
      "1 2 3\n"
     ]
    }
   ],
   "source": [
    "x, y, z = 1,2,3\n",
    "print(x, y, z)"
   ]
  },
  {
   "cell_type": "markdown",
   "id": "39bf7af3-dae6-4eae-8ac0-820e9400e832",
   "metadata": {},
   "source": [
    "▣ 타입 선언이 필요 없는 이유\n",
    "- 파이썬이 동적 타입 언어이기 때문이다.\n",
    "- 동적 타입 언어는 프로그램 실행 중에 자동으로 타입을 판정하면서 처리를 수행한다.\n",
    "- 그렇기에 타입을 명시하지 않아도 실행 시 타입이 결정된다."
   ]
  },
  {
   "cell_type": "markdown",
   "id": "1d06e4d8-1211-43ac-85e7-c56ae74807fe",
   "metadata": {},
   "source": [
    "▣ 동적 타입 언어와 정적 타입 언어의 특징\n",
    "- 동적 타입 언어\n",
    "    - 코드 작성량이 적어 가볍게 코드를 쓸 수 있고, 컴파일이 필요하지 않아 곧바로 실행할 수 있기 때문에 테스트 해보기 쉬운 장점 있음\n",
    "    - 대신, 실행 시에 오버헤드가 발생하므로 정적 타입 언어에 비해 실행 중 처리 속도가 느림"
   ]
  },
  {
   "cell_type": "markdown",
   "id": "6ae0b935-6468-4ccd-be5d-44e8beffe8a7",
   "metadata": {
    "tags": []
   },
   "source": [
    "## 3.1.3 주석\n",
    "- 코드 라인에서 `#`를 쓰고 내용을 적으면 된다.\n",
    "- 독스트링 vs 주석 \n",
    "    - 독스트링은 주석과 달리 다양한 도구에서도 참조할 수 있는 문서\n",
    "    - 독스트링을 쓸 수 있는 상황이면 독스를 쓰고 아니면 주석으로 쓰자."
   ]
  },
  {
   "cell_type": "markdown",
   "id": "589fee6d-e9e2-4b8b-90a1-eb7a06cf3c3c",
   "metadata": {},
   "source": [
    "# 3.2 조건 분기"
   ]
  },
  {
   "cell_type": "markdown",
   "id": "2a32452f-908d-4372-bef6-7271190ab9b0",
   "metadata": {},
   "source": [
    "## 3.2.1 if문 - 조건을 지정해 처리를 분기함"
   ]
  },
  {
   "cell_type": "markdown",
   "id": "1a26c8d5-7936-437c-91e5-a895ca851c70",
   "metadata": {},
   "source": [
    "### ▣기본 Form\n",
    "```python\n",
    "if 조건식 1:\n",
    "    조건식 1이  참일 때 실행할 처리\n",
    "elif 조건식 2:\n",
    "    조건식 1이 거짓이고 조건식 2가 참일 때 실행 처리\n",
    "else:\n",
    "    모든 조건식이 거짓일 때 실행할 처리\n",
    "```"
   ]
  },
  {
   "cell_type": "code",
   "execution_count": 4,
   "id": "555df9c5-1baf-4cb6-8b48-c9072cf6a10e",
   "metadata": {},
   "outputs": [
    {
     "data": {
      "text/plain": [
       "'Python 3'"
      ]
     },
     "execution_count": 4,
     "metadata": {},
     "output_type": "execute_result"
    }
   ],
   "source": [
    "import sys\n",
    "def py2_or_py3():\n",
    "    major = sys.version_info.major\n",
    "    if major == 2:\n",
    "        return 'Python 2'\n",
    "    elif major == 3:\n",
    "        return 'Python 3'\n",
    "    else:\n",
    "        return 'Neither'\n",
    "    \n",
    "py2_or_py3()"
   ]
  },
  {
   "cell_type": "markdown",
   "id": "bc5781bf-db5d-4866-b795-134ecd6c8dbc",
   "metadata": {},
   "source": [
    "### ▣ 참이 되는 값\n",
    "다음을 빼고 나머지 객체는 모두 참으로 판단한다.\n",
    "- None\n",
    "- False\n",
    "- 숫자값 타입 : 0 / 0.0 / 0j\n",
    "- 문자열, 리스트, 딕셔너리, 셋 등 컨테이너 객체의 빈 객체\n",
    "- 메서드 `__bool__()`이 False를 반환하는 객체\n",
    "- 메서드 `__bool__()`을 정의하지 않고, 메서드 `__len__()`이 0을 반환하는 객체"
   ]
  },
  {
   "cell_type": "code",
   "execution_count": 5,
   "id": "7c455ccf-d511-4660-a053-1364a2e6f7da",
   "metadata": {},
   "outputs": [
    {
     "data": {
      "text/plain": [
       "'book'"
      ]
     },
     "execution_count": 5,
     "metadata": {},
     "output_type": "execute_result"
    }
   ],
   "source": [
    "def first_item(items):\n",
    "    if len(items) > 0: # 엘리먼트 수를 사용해 비어있는지 판정함\n",
    "        return items[0]\n",
    "    else:\n",
    "        return None\n",
    "\n",
    "first_item(['book'])"
   ]
  },
  {
   "cell_type": "code",
   "execution_count": 7,
   "id": "82683ec6-d6ec-42af-9ae3-cd3db9446dc7",
   "metadata": {},
   "outputs": [],
   "source": [
    "first_item([]) # None이면 아무것도 표시하지 않음"
   ]
  },
  {
   "cell_type": "code",
   "execution_count": 9,
   "id": "f6a84937-fb74-4267-ab6b-6b2fdf608e13",
   "metadata": {},
   "outputs": [
    {
     "data": {
      "text/plain": [
       "'book'"
      ]
     },
     "execution_count": 9,
     "metadata": {},
     "output_type": "execute_result"
    }
   ],
   "source": [
    "# 빈 객체가 거짓이라는 점을 이용해 위 코드를 이렇게 적는다\n",
    "def first_item(items):\n",
    "    if items : # 빈 컨테이너 객체는 거짓으로 판정함\n",
    "        return items[0]\n",
    "    else:\n",
    "        return None\n",
    "    \n",
    "first_item(['book'])"
   ]
  },
  {
   "cell_type": "code",
   "execution_count": 11,
   "id": "6eb4e92a-e751-40d2-8516-9aaba3c4e230",
   "metadata": {},
   "outputs": [],
   "source": [
    "first_item([]) # None이면 아무것도 표시하지 않음"
   ]
  },
  {
   "cell_type": "markdown",
   "id": "f2762ccb-a56d-4336-baeb-bb6f0bc72862",
   "metadata": {},
   "source": [
    "### ▣ if문에서 자주 이용하는 숫자값 비교"
   ]
  },
  {
   "cell_type": "code",
   "execution_count": 12,
   "id": "14b29029-cbab-4c16-a116-17405322af87",
   "metadata": {},
   "outputs": [
    {
     "name": "stdout",
     "output_type": "stream",
     "text": [
      "True\n",
      "False\n",
      "True\n",
      "False\n",
      "True\n",
      "False\n"
     ]
    }
   ],
   "source": [
    "print(1 == 1) # 값이 같으면 True\n",
    "print(1 != 1) # 값이 다르면 True\n",
    "print(1 > 0) # 좌변이 크면 True\n",
    "print(1 < 0) # 우변이 크면 True\n",
    "print(1 >= 0) # 좌변이 같거나 크면 True\n",
    "print(1 <= 0) # 우변이 크거나 같으면 True"
   ]
  },
  {
   "cell_type": "markdown",
   "id": "71fbc975-40f3-4c36-a902-1413c2c2019a",
   "metadata": {},
   "source": [
    "# p49까지 정리함"
   ]
  },
  {
   "cell_type": "code",
   "execution_count": null,
   "id": "7689e390-3d38-424e-8712-3f67523bc7e6",
   "metadata": {},
   "outputs": [],
   "source": []
  }
 ],
 "metadata": {
  "kernelspec": {
   "display_name": "py38_normal",
   "language": "python",
   "name": "py38_normal"
  },
  "language_info": {
   "codemirror_mode": {
    "name": "ipython",
    "version": 3
   },
   "file_extension": ".py",
   "mimetype": "text/x-python",
   "name": "python",
   "nbconvert_exporter": "python",
   "pygments_lexer": "ipython3",
   "version": "3.8.12"
  }
 },
 "nbformat": 4,
 "nbformat_minor": 5
}

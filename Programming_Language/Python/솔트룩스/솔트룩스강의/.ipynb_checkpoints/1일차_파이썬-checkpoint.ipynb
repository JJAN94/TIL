{
 "cells": [
  {
   "cell_type": "code",
   "execution_count": 1,
   "id": "dba6e995-b6e9-4806-9f9b-1071a49bd473",
   "metadata": {},
   "outputs": [
    {
     "name": "stdout",
     "output_type": "stream",
     "text": [
      "Hello World\n"
     ]
    }
   ],
   "source": [
    "print('Hello World') # shift + enter / ctrl + enter"
   ]
  },
  {
   "cell_type": "markdown",
   "id": "6ecab9dc-c08d-4e4b-a9d2-9f15fa9eaaa7",
   "metadata": {
    "tags": []
   },
   "source": [
    "# Hello markdown1\n",
    "## Hello markdown2\n",
    "### Hello markdown3\n",
    "### Hello markdown4\n",
    "* python 2.7\n",
    "* python 3.8\n",
    "```python\n",
    "s = \"Python systax highlighting\"\n",
    "print(s)\n",
    "def add(a, b):\n",
    "    return a + b\n",
    "```\n",
    "> Blockquotes starts\n",
    "\n",
    "This is **python**\n"
   ]
  },
  {
   "cell_type": "markdown",
   "id": "8f0636e7-a58a-4881-8120-52b9f9d64de9",
   "metadata": {},
   "source": [
    "webpage 호환\n",
    "[Python Homepage](https://www.python.org/)"
   ]
  },
  {
   "cell_type": "markdown",
   "id": "e401a056-08fa-4edb-9b97-38be01fabf72",
   "metadata": {},
   "source": [
    "# 마크다운 주요 단축키\n",
    "- 셀을 실행시키는 단축키 : shift+enter / ctrl+enter\n",
    "- 셀 추가 : a, b\n",
    "- 셀 삭제 : x\n",
    "- 셀 되돌리기 : z\n",
    "- 마크다운으로 전환 : m\n",
    "- 코드셀로 전환 : y"
   ]
  },
  {
   "cell_type": "markdown",
   "id": "840b89f6-9d63-4465-a22c-30d13ac0514d",
   "metadata": {},
   "source": [
    "# 기본 문법"
   ]
  },
  {
   "cell_type": "markdown",
   "id": "91708684-fe5a-4220-b2bd-2f4e90bcd819",
   "metadata": {},
   "source": [
    "## 상수와 변수"
   ]
  },
  {
   "cell_type": "code",
   "execution_count": 2,
   "id": "1fa36acf-5e0f-4632-93f3-3f38c336dbdf",
   "metadata": {},
   "outputs": [
    {
     "name": "stdout",
     "output_type": "stream",
     "text": [
      "30\n"
     ]
    }
   ],
   "source": [
    "a = 10\n",
    "b = 20\n",
    "c = a + b\n",
    "print(c)"
   ]
  },
  {
   "cell_type": "code",
   "execution_count": 3,
   "id": "ef848255-c914-4d7d-a081-b534d37baffe",
   "metadata": {},
   "outputs": [
    {
     "name": "stdout",
     "output_type": "stream",
     "text": [
      "9\n"
     ]
    }
   ],
   "source": [
    "def add(a,b):\n",
    "    return a+b\n",
    "c = add(4,5)\n",
    "print(c)"
   ]
  },
  {
   "cell_type": "code",
   "execution_count": 4,
   "id": "e93d62ee-2daa-48e9-86ac-8c204f8df7bc",
   "metadata": {},
   "outputs": [],
   "source": [
    "from sklearn.linear_model import LinearRegression\n",
    "\n",
    "model = LinearRegression() # model이라는 변수에 머신러닝 기법을 저장"
   ]
  },
  {
   "cell_type": "code",
   "execution_count": 5,
   "id": "340ec8ab-54bd-44f8-900a-e1dfdd4605a8",
   "metadata": {},
   "outputs": [
    {
     "name": "stdout",
     "output_type": "stream",
     "text": [
      "한 달은  30 입니다.\n",
      "한 달은  31 일 이기도 합니다.\n"
     ]
    }
   ],
   "source": [
    "days = 30\n",
    "print('한 달은 ', days, '입니다.')\n",
    "days = 31\n",
    "print('한 달은 ', days, '일 이기도 합니다.')"
   ]
  },
  {
   "cell_type": "markdown",
   "id": "66229b63-25ab-4080-b260-29169f757aaa",
   "metadata": {},
   "source": [
    "변수명 규칙\n",
    "- 문자 또는 언더바, 숫자 사용가능\n",
    "- 숫자로 시작 불가\n",
    "- 대소문자 구분"
   ]
  },
  {
   "cell_type": "code",
   "execution_count": null,
   "id": "3022fb41-0d5c-4b66-96a0-4f41ef3e38e2",
   "metadata": {},
   "outputs": [],
   "source": []
  }
 ],
 "metadata": {
  "kernelspec": {
   "display_name": "py38_normal",
   "language": "python",
   "name": "py38_normal"
  },
  "language_info": {
   "codemirror_mode": {
    "name": "ipython",
    "version": 3
   },
   "file_extension": ".py",
   "mimetype": "text/x-python",
   "name": "python",
   "nbconvert_exporter": "python",
   "pygments_lexer": "ipython3",
   "version": "3.8.12"
  }
 },
 "nbformat": 4,
 "nbformat_minor": 5
}

{
 "cells": [
  {
   "cell_type": "markdown",
   "id": "3c07b127-9b7a-4dad-b4be-2476286bd435",
   "metadata": {},
   "source": [
    "1. 어떤 회원이 생년월일 입력란에 890724를 입력했을 때, 해당 문자를 연/월/일로 각각 나누어 출력"
   ]
  },
  {
   "cell_type": "code",
   "execution_count": 1,
   "id": "fab56327-509c-4cb8-83a0-9c318a74f4ff",
   "metadata": {},
   "outputs": [
    {
     "name": "stdout",
     "output_type": "stream",
     "text": [
      "열/월/일 : 1989/07/24\n"
     ]
    }
   ],
   "source": [
    "# 입력값은 그냥 int라 하겠음\n",
    "birth = 890724\n",
    "print(f'열/월/일 : 19{str(birth)[0:2]}/{str(birth)[2:4]}/{str(birth)[4:]}')"
   ]
  },
  {
   "cell_type": "markdown",
   "id": "fbb6b5e8-1b50-4e70-beb5-88ec47827b91",
   "metadata": {},
   "source": [
    "2. 어떤 유통회사의 유통일자가 20190603으로 입력되었을 때, 해당 문자를 2019-06-03으로 출력하기"
   ]
  },
  {
   "cell_type": "code",
   "execution_count": 2,
   "id": "bf592f19-e714-4e0e-b649-728e0814b889",
   "metadata": {},
   "outputs": [
    {
     "name": "stdout",
     "output_type": "stream",
     "text": [
      "2019-06-03\n"
     ]
    }
   ],
   "source": [
    "# 입력값은 그냥 int라 하겠음\n",
    "date = 20190603\n",
    "date = str(date)\n",
    "print(f'{date[0:4]}-{date[4:6]}-{date[6:]}')"
   ]
  },
  {
   "cell_type": "markdown",
   "id": "e3f590ed-7cc4-47ab-8f3d-4f3a1c3732e1",
   "metadata": {},
   "source": [
    "3. 어떤 고객이 휴대전화번호를 010-1234-5678으로 입력했을 때, 해당 문자를 010123456789로 출력하기"
   ]
  },
  {
   "cell_type": "code",
   "execution_count": 4,
   "id": "cf8ec92c-dc06-4b36-9fcd-2259336d5ecd",
   "metadata": {},
   "outputs": [
    {
     "name": "stdout",
     "output_type": "stream",
     "text": [
      "01012345678\n"
     ]
    }
   ],
   "source": [
    "number = '010-1234-5678'\n",
    "number = number.replace('-','')\n",
    "print(number)"
   ]
  },
  {
   "cell_type": "markdown",
   "id": "9b2ece01-30d5-48ca-8a4c-0a3209308394",
   "metadata": {},
   "source": [
    "4. 매장의 물품 명단 중 하나가 \"DAILY ESSENTIALS REFRESHING TONER REVIES\"로 되어 있을 때, 해당 품명을 소문자로 바꾸기"
   ]
  },
  {
   "cell_type": "code",
   "execution_count": 5,
   "id": "75900b62-af7c-4b87-9d9c-5dce245c6c99",
   "metadata": {},
   "outputs": [
    {
     "name": "stdout",
     "output_type": "stream",
     "text": [
      "daily essentials refreshing toner revies\n"
     ]
    }
   ],
   "source": [
    "sentence = \"DAILY ESSENTIALS REFRESHING TONER REVIES\"\n",
    "sentence = sentence.lower()\n",
    "print(sentence)"
   ]
  },
  {
   "cell_type": "code",
   "execution_count": null,
   "id": "ec8f8fb6-6e52-41c7-b69f-c7a74e6f522c",
   "metadata": {},
   "outputs": [],
   "source": []
  }
 ],
 "metadata": {
  "kernelspec": {
   "display_name": "py38_normal",
   "language": "python",
   "name": "py38_normal"
  },
  "language_info": {
   "codemirror_mode": {
    "name": "ipython",
    "version": 3
   },
   "file_extension": ".py",
   "mimetype": "text/x-python",
   "name": "python",
   "nbconvert_exporter": "python",
   "pygments_lexer": "ipython3",
   "version": "3.8.12"
  }
 },
 "nbformat": 4,
 "nbformat_minor": 5
}

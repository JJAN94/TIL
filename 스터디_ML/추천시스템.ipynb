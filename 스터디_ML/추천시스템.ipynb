{
 "cells": [
  {
   "cell_type": "markdown",
   "id": "11fb8e2b-0631-41a7-acd7-a648471790db",
   "metadata": {},
   "source": [
    "# 추천시스템"
   ]
  },
  {
   "cell_type": "markdown",
   "id": "1a940a81-e5f6-49dc-9f9e-aa81fa61a9ed",
   "metadata": {},
   "source": [
    "### 추천 시스템 유형\n",
    "- 콘텐츠 기반 필터링(Content based filtering)\n",
    "- 협업 필터링(Collaborative filtering)\n",
    "    - 최근접 이웃 협업 필터링(Nearest Neighbor Collaborative filtering)\n",
    "    - 잠재 요인 협업 필터링(Latent Factor Collaborative filtering)"
   ]
  },
  {
   "cell_type": "markdown",
   "id": "74700b1d-75a8-4497-b73f-c41cdd449a25",
   "metadata": {},
   "source": [
    "초창기에는 콘텐츠 기반 필터링이나 최근접 이웃 기반 협업 필터링을 주로 사용했으나, 현재는 잠재 요인 협업 필터링 기반 추천 시스템을 적용하고 있다.\\\n",
    "하지만 서비스하는 아이템 특성에 따라 추천 시스템 유형을 선택하는 것이 옳다."
   ]
  },
  {
   "cell_type": "markdown",
   "id": "0a6bd958-a3d2-462c-9dd8-3c4b198e0c79",
   "metadata": {},
   "source": []
  },
  {
   "cell_type": "markdown",
   "id": "5140ef4d-af7b-46d4-8ebd-d68de404048a",
   "metadata": {},
   "source": [
    "### 콘텐츠 기반 필터링 추천 시스템"
   ]
  },
  {
   "cell_type": "markdown",
   "id": "76e3b324-c777-45ad-9841-9bfa79b402bd",
   "metadata": {},
   "source": [
    "- 사용자가 특정 아이템을 선호하는 경우, 그 아이템과 비슷한 콘텐츠를 가진 다른 아이템을 추천하는 방식\n",
    "- 예) 특정 영화에 높은 평점을 부여 -> 장르, 출연 배우, 감독, 영화 키워드 등 콘텐츠와 유사한 다른 영화를 추천"
   ]
  },
  {
   "cell_type": "markdown",
   "id": "52589286-d9d3-43b5-b395-f004573b0f33",
   "metadata": {},
   "source": []
  },
  {
   "cell_type": "markdown",
   "id": "2ffae008-d9ea-4f6a-a40b-5cc9a91fb84d",
   "metadata": {},
   "source": [
    "### 협업 필터링"
   ]
  },
  {
   "cell_type": "markdown",
   "id": "412224b8-f423-4676-8ed5-5f4ef29d1ff1",
   "metadata": {},
   "source": [
    "사용자가 아이템에 매긴 평점 정보나 상품 구매 이력과 같은 사용자 행동 양식(User Behavior)만을 기반으,로 추천을 수행하는 것이 협업필터링 방식(Collaborative filtering)"
   ]
  },
  {
   "cell_type": "markdown",
   "id": "22d6b52a-8983-45b8-ae77-9ed75f2d28ed",
   "metadata": {},
   "source": [
    "### 최근접 이웃 협업 필터링"
   ]
  },
  {
   "cell_type": "markdown",
   "id": "78935476-2668-4b1c-99c6-93fe8b528a9b",
   "metadata": {},
   "source": [
    "- 최근접 이웃 협업 필터링은 메모리(Memory)협업 필터링이라고 하며, 일반적으로 사용자 기반과 아이템 기반으로 다시 나눈다.\n",
    "    - 사용자 기반(User-User) : 당신과 비슷한 고객들이 다음 상품도 구매했다.(Customers like you also bought there items.)\n",
    "    - 아이템 기반(Item-Item) : 이 상품을 선택한 다른 고객들은 다음 상품도 구매했다.(Customers who bought this item also bought these items.)"
   ]
  },
  {
   "cell_type": "code",
   "execution_count": null,
   "id": "bd90f974-afdd-45bc-8fe9-7b425f2d6f6d",
   "metadata": {},
   "outputs": [],
   "source": []
  }
 ],
 "metadata": {
  "kernelspec": {
   "display_name": "Python 3",
   "language": "python",
   "name": "python3"
  },
  "language_info": {
   "codemirror_mode": {
    "name": "ipython",
    "version": 3
   },
   "file_extension": ".py",
   "mimetype": "text/x-python",
   "name": "python",
   "nbconvert_exporter": "python",
   "pygments_lexer": "ipython3",
   "version": "3.8.8"
  }
 },
 "nbformat": 4,
 "nbformat_minor": 5
}

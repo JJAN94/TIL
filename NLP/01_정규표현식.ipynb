{
 "cells": [
  {
   "cell_type": "markdown",
   "id": "e2f94e5e-48a2-4aeb-b1e4-09c93713cf08",
   "metadata": {},
   "source": [
    "# Regular Expression\n",
    "- 정규표현식\n",
    "- 텍스트에 퐇마된 특정 문자열을 검색하는 것"
   ]
  },
  {
   "cell_type": "markdown",
   "id": "f71c393d-c46d-44f7-9cf6-0c743204c4af",
   "metadata": {},
   "source": [
    "## re 모듈 - 파이썬 정규표현식\n",
    "- find 계열\n",
    "- match 계열\n",
    "\n",
    "기본적으로는 compile을 해준다"
   ]
  },
  {
   "cell_type": "code",
   "execution_count": 4,
   "id": "5f3d64e2-4239-4ce3-bb04-2cada7a58f0d",
   "metadata": {},
   "outputs": [
    {
     "data": {
      "text/plain": [
       "<re.Match object; span=(0, 6), match='python'>"
      ]
     },
     "execution_count": 4,
     "metadata": {},
     "output_type": "execute_result"
    }
   ],
   "source": [
    "import re # 정규표현식 모듈\n",
    "\n",
    "p = re.compile('[a-z]+') # re 내장 모듈 내 compile 메소드 사용\n",
    "# compile 메소드는 '패턴 객체'를 반환한다.\n",
    "# [a-z] : a~z까지 \n",
    "# + : 하나 이상\n",
    "\n",
    "m = p.match('python')\n",
    "m"
   ]
  },
  {
   "cell_type": "markdown",
   "id": "c4f511f6-1847-4509-9fef-a0403268870e",
   "metadata": {},
   "source": [
    "**re.compile()**\n",
    "- 정규식 패턴을 파이썬이 사용할 수 있는 정규식 객체로 컴파일\n",
    "- match(), search() 와 같은 메소드를 통해 사용됨\n",
    "\n",
    "\n",
    "- 검색, 반환, 위치, 변경, 분리 관련 된 작업을 지원"
   ]
  },
  {
   "cell_type": "code",
   "execution_count": 5,
   "id": "004ebc2d-e591-4c6e-b4be-bcdbe4a037fd",
   "metadata": {},
   "outputs": [
    {
     "name": "stdout",
     "output_type": "stream",
     "text": [
      "['__class__', '__copy__', '__deepcopy__', '__delattr__', '__dir__', '__doc__', '__eq__', '__format__', '__ge__', '__getattribute__', '__gt__', '__hash__', '__init__', '__init_subclass__', '__le__', '__lt__', '__ne__', '__new__', '__reduce__', '__reduce_ex__', '__repr__', '__setattr__', '__sizeof__', '__str__', '__subclasshook__', 'findall', 'finditer', 'flags', 'fullmatch', 'groupindex', 'groups', 'match', 'pattern', 'scanner', 'search', 'split', 'sub', 'subn']\n"
     ]
    }
   ],
   "source": [
    "print(dir(p))"
   ]
  },
  {
   "cell_type": "markdown",
   "id": "646cf123-2315-4d74-9bd4-7a74711a7ec0",
   "metadata": {},
   "source": [
    "## 메타 문자\n",
    "- 메타문자란 원래 그 문자가 가진 뜻이 아닌 특별한 용도로 사용되는 문자\n",
    "- `.`, `^`, `+`, `?`, `{ }`, `[ ]`, `\\`, `|`, `( )`"
   ]
  },
  {
   "cell_type": "markdown",
   "id": "dbf52196-95ce-4ae2-861c-1c92ea200464",
   "metadata": {},
   "source": [
    "## [ , ]\n",
    "- character class\n",
    "- <font color=\"red\">어떤 내용</font>이든지 들어갈 수 있다\n",
    "- \\[ , \\]에 포함 된 내용들은 or로 연결된다.\n",
    "    - 하이픈`-` 사용 가능, 예) [a-z]는 a부터 z까지, [0-9]는 0부터 9까지\n",
    "    - 두 문자 사이의 범위 (From ~ To)\n",
    "- [abc]의 의미는 'a' or 'b' or 'c'의 의미\n",
    "    - 즉, 'a', 'b', 'c' 중에서 **한 개**의 문자와 매칭"
   ]
  },
  {
   "cell_type": "markdown",
   "id": "73a7093f-4eb6-464b-8e11-9704dc9abfec",
   "metadata": {},
   "source": [
    "예제\n",
    "\n",
    "1. 정규표현식 [abc]가 있다. 다음 중 매칭 되는 것은?\n",
    "    1. a\n",
    "    2. before\n",
    "    3. dude\n",
    "    - 답 1\n",
    "\n",
    "\n",
    "2. 정규표현식 [a-c]가 있다. 다음 중 같은 의미는?\n",
    "    1. a 또는 c\n",
    "    2. a 또는 b 또는 c\n",
    "    3. [abc]\n",
    "    4. a 그리고 b 그리고 c\n",
    "    - 답 2,3\n",
    "\n",
    "\n",
    "3. 정규 표현식 a[a-z0-9]z가 있다. 다음 중 매칭 되는 것은?\n",
    "    1. a!012z\n",
    "    2. aBz\n",
    "    3. a999z\n",
    "    4. azX09z\n",
    "    5. a9z\n",
    "    - 답 5"
   ]
  },
  {
   "cell_type": "markdown",
   "id": "c734c1a7-fef3-4265-9027-2e6effba4ce6",
   "metadata": {},
   "source": [
    "## .\n",
    "- `.`은 하나의 문자 하나를 의미\n",
    "    - 도트 두개는 문자 두개를 의미\n",
    "    - 문자는 숫자(0\\~9)나 특수문자(\\~\\!\\@\\#\\$\\%\\^\\&)을 포함"
   ]
  },
  {
   "cell_type": "markdown",
   "id": "e75c0c64-0b75-4e8f-8137-5060ef2aa67f",
   "metadata": {},
   "source": [
    "## *, +\n",
    "\n",
    "- * : 바로 앞 문자가 0번 이상 반복\n",
    "- + : 바로 앞 문자가 1번 이상 반복"
   ]
  },
  {
   "cell_type": "code",
   "execution_count": 6,
   "id": "84debe21-c175-4e0d-86f1-667fb90c8d36",
   "metadata": {},
   "outputs": [
    {
     "name": "stdout",
     "output_type": "stream",
     "text": [
      "m1 :  ['L', 'u', 'k', 'e', 'S', 'k', 'y', 'w', 'a', 'r', 'k', 'e', 'r', '0', '2', '1', '2', '3', '4', '5', '6', '7', 'l', 'u', 'k', 'e', 'd', 'a', 'u', 'm', 'n', 'e', 't']\n",
      "m2 :  ['Luke', 'Skywarker', '02', '123', '4567', 'luke', 'daum', 'net']\n"
     ]
    }
   ],
   "source": [
    "source = \"Luke Skywarker 02-123-4567 luke@daum.net\" # \\w와 \\w+ 의 차이\n",
    "\n",
    "m1 = re.findall('\\w', source) # 단어가 아니라 문자 단위로 출력\n",
    "m2 = re.findall('\\w+', source) # 단어 단위로 출력\n",
    "print('m1 : ',m1)\n",
    "print('m2 : ',m2)"
   ]
  },
  {
   "cell_type": "code",
   "execution_count": null,
   "id": "3f17ad4b-12e5-4537-a66b-137fc401ea82",
   "metadata": {},
   "outputs": [],
   "source": []
  }
 ],
 "metadata": {
  "kernelspec": {
   "display_name": "mlpy38",
   "language": "python",
   "name": "mlpy38"
  },
  "language_info": {
   "codemirror_mode": {
    "name": "ipython",
    "version": 3
   },
   "file_extension": ".py",
   "mimetype": "text/x-python",
   "name": "python",
   "nbconvert_exporter": "python",
   "pygments_lexer": "ipython3",
   "version": "3.8.12"
  }
 },
 "nbformat": 4,
 "nbformat_minor": 5
}

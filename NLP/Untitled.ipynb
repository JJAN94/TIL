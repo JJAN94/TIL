{
 "cells": [
  {
   "cell_type": "markdown",
   "id": "938983f6-12a5-4fd6-a8b6-ce9d4d5849bb",
   "metadata": {},
   "source": [
    "# 말뭉치, 토큰, 타입"
   ]
  },
  {
   "cell_type": "markdown",
   "id": "e86b6888-49cd-46cb-a104-4661a3c788f7",
   "metadata": {},
   "source": [
    "## 말뭉치(corpus)\n",
    "- 말뭉치(corpus)는 자연어 분석 작업을 위해 만든 샘플 문서 집합을 말한다.\n",
    "- 단순히 소설, 신문 등의 문서를 모아놓은 것도 있지만 품사. 형태소, 등의 보조적 의미를 추가하고 쉬운 분석을 위해 구조적인 형태로 정리해 놓은 것을 포함한다.\n",
    "- 일반적으로 원시 텍스트(ASCII나 UTF-8 형태)와 이 텍스트에 연관된 메타데이터(metadata)를 포함한다. 원시 텍스트는 문자(바이트) 시퀀스지만 일반적으로 문자를 토큰(token)이라는 연속된 단위로 묶었을 때 유용하다. 영어에서 토큰은 공백 문자나 구두점으로 구분되는 단어와 숫자에 해당한다."
   ]
  },
  {
   "cell_type": "markdown",
   "id": "d204cc98-4b85-4720-a523-eaeb2353212e",
   "metadata": {},
   "source": [
    "메타데이터는 식별자, 레이블, 타임스탬프 등 텍스트와 관련된 어떤 부가 정보도 될 수 있다. 머신러닝 분야에서는 메타데이터가 붙은 텍스트를 **샘플(sample)** 또는 **데이터 포인트(data point)** 라고부른다. 샘플의 모음인 말뭉치는 **데이터셋(dataset)** 이라고 부른다. "
   ]
  },
  {
   "cell_type": "markdown",
   "id": "84988b21-82fa-467f-ac30-d2725a3d6d78",
   "metadata": {},
   "source": [
    "### NLTK 패키지 corpus 서브 패키지\n",
    "- 다양한 연구용 말뭉치를 제공\n",
    "- 말뭉치 자료는 설치시에 제공되지 않고 download 명령으로 사용자가 받아야 한다."
   ]
  },
  {
   "cell_type": "code",
   "execution_count": 2,
   "id": "73fd43e4-f513-4c7f-b62e-4157c69c26fe",
   "metadata": {},
   "outputs": [
    {
     "name": "stdout",
     "output_type": "stream",
     "text": [
      "*** Introductory Examples for the NLTK Book ***\n",
      "Loading text1, ..., text9 and sent1, ..., sent9\n",
      "Type the name of the text or sentence to view it.\n",
      "Type: 'texts()' or 'sents()' to list the materials.\n",
      "text1: Moby Dick by Herman Melville 1851\n",
      "text2: Sense and Sensibility by Jane Austen 1811\n",
      "text3: The Book of Genesis\n",
      "text4: Inaugural Address Corpus\n",
      "text5: Chat Corpus\n",
      "text6: Monty Python and the Holy Grail\n",
      "text7: Wall Street Journal\n",
      "text8: Personals Corpus\n",
      "text9: The Man Who Was Thursday by G . K . Chesterton 1908\n"
     ]
    }
   ],
   "source": [
    "# nltk.download('book') : NLTK 패키지 사용자 설명서에서 요구하는 대부분 말뭉치를 다운로드 받아준다.\n",
    "import nltk\n",
    "nltk.download('book', quiet=True)\n",
    "from nltk.book import *"
   ]
  },
  {
   "cell_type": "code",
   "execution_count": 3,
   "id": "aa5d396b-410a-4af4-9d4c-d05af4240fff",
   "metadata": {},
   "outputs": [
    {
     "data": {
      "text/plain": [
       "['austen-emma.txt',\n",
       " 'austen-persuasion.txt',\n",
       " 'austen-sense.txt',\n",
       " 'bible-kjv.txt',\n",
       " 'blake-poems.txt',\n",
       " 'bryant-stories.txt',\n",
       " 'burgess-busterbrown.txt',\n",
       " 'carroll-alice.txt',\n",
       " 'chesterton-ball.txt',\n",
       " 'chesterton-brown.txt',\n",
       " 'chesterton-thursday.txt',\n",
       " 'edgeworth-parents.txt',\n",
       " 'melville-moby_dick.txt',\n",
       " 'milton-paradise.txt',\n",
       " 'shakespeare-caesar.txt',\n",
       " 'shakespeare-hamlet.txt',\n",
       " 'shakespeare-macbeth.txt',\n",
       " 'whitman-leaves.txt']"
      ]
     },
     "execution_count": 3,
     "metadata": {},
     "output_type": "execute_result"
    }
   ],
   "source": [
    "# 저작권 말소된 문학작품 포함하는 gutenberg 말뭉치\n",
    "nltk.corpus.gutenberg.fileids()"
   ]
  },
  {
   "cell_type": "code",
   "execution_count": 5,
   "id": "42582202-a659-4df5-85aa-ce27b8d7c98b",
   "metadata": {},
   "outputs": [
    {
     "name": "stdout",
     "output_type": "stream",
     "text": [
      "[Emma by Jane Austen 1816]\n",
      "\n",
      "VOLUME I\n",
      "\n",
      "CHAPTER I\n",
      "\n",
      "\n",
      "Emma Woodhouse, handsome, clever, and rich, with a comfortable home\n",
      "and happy disposition, seemed to unite some of the best blessings\n",
      "of existence; and had lived nearly twenty-one years in the world\n",
      "with very little to distress or vex her.\n",
      "\n",
      "She was the youngest of the two daughters of a most affectionate,\n",
      "indulgent father; and had, in consequence of her sister's marriage,\n",
      "been mistress of his house from a very early period.  Her mother\n",
      "had died too long ago for her to have more than an indistinct\n",
      "remembrance of her caresses; and her place had been supplied\n",
      "by an excellent woman as governess, who had fallen little short\n",
      "of a mother in affection.\n",
      "\n",
      "Sixteen years had Miss Taylor been in Mr. Woodhouse's family,\n",
      "less as a governess than a friend, very fond of both daughters,\n",
      "but particularly of Emma.  Between _them_ it was more the intimacy\n",
      "of sisters.  Even before Miss Taylor had ceased to hold the nominal\n",
      "office of governess, the mildness of her temper had hardly allowed\n",
      "her to impose any restraint; and the shadow of authority being\n",
      "now long passed away, they had been living together as friend and\n",
      "friend very mutually attached, and Emma doing just what she liked;\n",
      "highly esteeming Miss Taylor's judgment, but directed chiefly by\n",
      "her own.\n",
      "\n",
      "문서 총 길이 :  887071\n"
     ]
    }
   ],
   "source": [
    "# 제인 오스틴의 엠마 문서\n",
    "emma_raw = nltk.corpus.gutenberg.raw('austen-emma.txt')\n",
    "print(emma_raw[:1302])\n",
    "print('문서 총 길이 : ', len(emma_raw))"
   ]
  },
  {
   "cell_type": "markdown",
   "id": "c67688d1-4c9f-4cef-94f8-02dd1a5a1803",
   "metadata": {},
   "source": [
    "## 토큰(token) - 토큰 생성(tokenizing)"
   ]
  },
  {
   "cell_type": "markdown",
   "id": "170de029-5791-4b40-a038-0d918e983aaa",
   "metadata": {},
   "source": [
    "자연어 문서를 분석하기 위해서는 우선 긴 문자열을 분석을 위한 작은 단위로 나누어야 한다.\\\n",
    "이 문자열 단위를 토큰(token)이라고 하고 이렇게 문자열을 토큰으로 나누는 작업을 토큰 생성(tokenizing)이라고 한다.\\\n",
    "영문의 경우에는 문장, 단어 등을 토큰으로 사용하거나 정규 표현식을 쓸 수 있다."
   ]
  },
  {
   "cell_type": "markdown",
   "id": "b74b75e4-2524-4963-9260-af4d1bbbf6bd",
   "metadata": {},
   "source": [
    "문자열을 토큰으로 분리하는 함수를 토큰 생성 함수(tokenizer)라고 한다. 토큰 생성 함수는 만주열을 입력받아 토큰 문자열의 리스트를 출력한다."
   ]
  },
  {
   "cell_type": "code",
   "execution_count": 6,
   "id": "5770a619-747b-455d-a3b9-b0c9ea92ad63",
   "metadata": {},
   "outputs": [
    {
     "name": "stdout",
     "output_type": "stream",
     "text": [
      "Sixteen years had Miss Taylor been in Mr. Woodhouse's family,\n",
      "less as a governess than a friend, very fond of both daughters,\n",
      "but particularly of Emma.\n"
     ]
    }
   ],
   "source": [
    "from nltk.tokenize import sent_tokenize\n",
    "print(sent_tokenize(emma_raw[:1000])[3])"
   ]
  },
  {
   "cell_type": "code",
   "execution_count": null,
   "id": "da21029c-5c1e-40e5-a78b-6e0397581cd5",
   "metadata": {},
   "outputs": [],
   "source": []
  },
  {
   "cell_type": "code",
   "execution_count": null,
   "id": "2cee0fc0-31ad-484f-8fb2-c5d714d01d13",
   "metadata": {},
   "outputs": [],
   "source": []
  },
  {
   "cell_type": "code",
   "execution_count": null,
   "id": "c2268c91-9b3b-49f8-ac12-b650970e49a5",
   "metadata": {},
   "outputs": [],
   "source": []
  },
  {
   "cell_type": "code",
   "execution_count": null,
   "id": "52f19663-0930-4d7e-a3ca-9d45c29eaed3",
   "metadata": {},
   "outputs": [],
   "source": []
  }
 ],
 "metadata": {
  "kernelspec": {
   "display_name": "mlpy38",
   "language": "python",
   "name": "mlpy38"
  },
  "language_info": {
   "codemirror_mode": {
    "name": "ipython",
    "version": 3
   },
   "file_extension": ".py",
   "mimetype": "text/x-python",
   "name": "python",
   "nbconvert_exporter": "python",
   "pygments_lexer": "ipython3",
   "version": "3.8.12"
  }
 },
 "nbformat": 4,
 "nbformat_minor": 5
}

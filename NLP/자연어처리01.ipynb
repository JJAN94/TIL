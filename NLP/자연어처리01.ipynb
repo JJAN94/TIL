{
 "cells": [
  {
   "cell_type": "markdown",
   "id": "ef0370f6-0d8e-4f6a-abf4-ffe4c8e64ac4",
   "metadata": {},
   "source": [
    "## 전처리(Preprocessing)\n",
    "- Bag of Words Meets Bags of Popcorn - <a href=\"https://www.kaggle.com/c/word2vec-nlp-tutorial/data?select=labeledTrainData.tsv.zip\">Kaggle</a>"
   ]
  },
  {
   "cell_type": "code",
   "execution_count": 1,
   "id": "c8bc4672-89d3-41b5-a9be-f2effd8dd7e6",
   "metadata": {},
   "outputs": [],
   "source": [
    "import re\n",
    "from bs4 import BeautifulSoup\n",
    "import pandas as pd"
   ]
  },
  {
   "cell_type": "markdown",
   "id": "085d769a-49f2-42dd-820b-291507fedf31",
   "metadata": {},
   "source": [
    "### 데이터 로드"
   ]
  },
  {
   "cell_type": "code",
   "execution_count": 2,
   "id": "4054855a-7651-4dbe-bd77-74783a27b876",
   "metadata": {},
   "outputs": [],
   "source": [
    "train = pd.read_csv('C:/Users/Jay/Desktop/git/TIL/data_src/nlp/labeledTrainData.tsv', header=0, delimiter='\\t', quoting=3)"
   ]
  },
  {
   "cell_type": "code",
   "execution_count": 3,
   "id": "e17f9911-b908-4d56-a425-17dc0b3f8ce8",
   "metadata": {},
   "outputs": [
    {
     "data": {
      "text/plain": [
       "(25000, 3)"
      ]
     },
     "execution_count": 3,
     "metadata": {},
     "output_type": "execute_result"
    }
   ],
   "source": [
    "train.shape"
   ]
  },
  {
   "cell_type": "code",
   "execution_count": 4,
   "id": "1d9455c1-08dc-4774-83da-e069078d76a4",
   "metadata": {},
   "outputs": [
    {
     "data": {
      "text/html": [
       "<div>\n",
       "<style scoped>\n",
       "    .dataframe tbody tr th:only-of-type {\n",
       "        vertical-align: middle;\n",
       "    }\n",
       "\n",
       "    .dataframe tbody tr th {\n",
       "        vertical-align: top;\n",
       "    }\n",
       "\n",
       "    .dataframe thead th {\n",
       "        text-align: right;\n",
       "    }\n",
       "</style>\n",
       "<table border=\"1\" class=\"dataframe\">\n",
       "  <thead>\n",
       "    <tr style=\"text-align: right;\">\n",
       "      <th></th>\n",
       "      <th>id</th>\n",
       "      <th>sentiment</th>\n",
       "      <th>review</th>\n",
       "    </tr>\n",
       "  </thead>\n",
       "  <tbody>\n",
       "    <tr>\n",
       "      <th>0</th>\n",
       "      <td>\"5814_8\"</td>\n",
       "      <td>1</td>\n",
       "      <td>\"With all this stuff going down at the moment ...</td>\n",
       "    </tr>\n",
       "    <tr>\n",
       "      <th>1</th>\n",
       "      <td>\"2381_9\"</td>\n",
       "      <td>1</td>\n",
       "      <td>\"\\\"The Classic War of the Worlds\\\" by Timothy ...</td>\n",
       "    </tr>\n",
       "    <tr>\n",
       "      <th>2</th>\n",
       "      <td>\"7759_3\"</td>\n",
       "      <td>0</td>\n",
       "      <td>\"The film starts with a manager (Nicholas Bell...</td>\n",
       "    </tr>\n",
       "    <tr>\n",
       "      <th>3</th>\n",
       "      <td>\"3630_4\"</td>\n",
       "      <td>0</td>\n",
       "      <td>\"It must be assumed that those who praised thi...</td>\n",
       "    </tr>\n",
       "    <tr>\n",
       "      <th>4</th>\n",
       "      <td>\"9495_8\"</td>\n",
       "      <td>1</td>\n",
       "      <td>\"Superbly trashy and wondrously unpretentious ...</td>\n",
       "    </tr>\n",
       "  </tbody>\n",
       "</table>\n",
       "</div>"
      ],
      "text/plain": [
       "         id  sentiment                                             review\n",
       "0  \"5814_8\"          1  \"With all this stuff going down at the moment ...\n",
       "1  \"2381_9\"          1  \"\\\"The Classic War of the Worlds\\\" by Timothy ...\n",
       "2  \"7759_3\"          0  \"The film starts with a manager (Nicholas Bell...\n",
       "3  \"3630_4\"          0  \"It must be assumed that those who praised thi...\n",
       "4  \"9495_8\"          1  \"Superbly trashy and wondrously unpretentious ..."
      ]
     },
     "execution_count": 4,
     "metadata": {},
     "output_type": "execute_result"
    }
   ],
   "source": [
    "train.head()"
   ]
  },
  {
   "cell_type": "code",
   "execution_count": 5,
   "id": "7d3eab4f-d6d3-4ed7-bcae-d681aac29e73",
   "metadata": {},
   "outputs": [
    {
     "name": "stdout",
     "output_type": "stream",
     "text": [
      "<class 'pandas.core.frame.DataFrame'>\n",
      "RangeIndex: 25000 entries, 0 to 24999\n",
      "Data columns (total 3 columns):\n",
      " #   Column     Non-Null Count  Dtype \n",
      "---  ------     --------------  ----- \n",
      " 0   id         25000 non-null  object\n",
      " 1   sentiment  25000 non-null  int64 \n",
      " 2   review     25000 non-null  object\n",
      "dtypes: int64(1), object(2)\n",
      "memory usage: 586.1+ KB\n"
     ]
    }
   ],
   "source": [
    "train.info()"
   ]
  },
  {
   "cell_type": "code",
   "execution_count": 6,
   "id": "b9cf58b3-bf1c-445d-9819-0d9a84264839",
   "metadata": {},
   "outputs": [
    {
     "data": {
      "text/plain": [
       "1    12500\n",
       "0    12500\n",
       "Name: sentiment, dtype: int64"
      ]
     },
     "execution_count": 6,
     "metadata": {},
     "output_type": "execute_result"
    }
   ],
   "source": [
    "train['sentiment'].value_counts()"
   ]
  },
  {
   "cell_type": "code",
   "execution_count": 7,
   "id": "860deead-7185-4059-bda5-eed73a245353",
   "metadata": {},
   "outputs": [
    {
     "data": {
      "text/plain": [
       "'\"With all this stuff going down at the moment with MJ i\\'ve started listening to his , watching the odd docummusicentary here and there, watched The Wiz and watched Moonwalker again. Maybe i just want to get a certain insight into this guy who i thought was really cool in the eighties just to maybe make up my mind whether he is guilty or innocent. Moonwalker is part biography, part feature film which i remember going to see at the cinema when it was originally released. Some of it has subtle messages about MJ\\'s feeling towards the press and also the obvious message of drugs are bad m\\'kay.<br /><br />Visually impressive but of course this is all about Michael Jackson so unless you remotely like MJ in anyway then you are going to hate this and find it boring. Some may call MJ an egotist for consenting to the making of this movie BUT MJ and most of his fans would say that he made it for the fans which if true is really nice of him.<br /><br />The actual feature film bit when it finally starts is only on for 20 minutes or so excluding the Smooth Criminal sequence and Joe Pesci is convincing as a psychopathic all powerful drug lord. Why he wants MJ dead so bad is beyond me. Because MJ overheard his plans? Nah, Joe Pesci\\'s character ranted that he wanted people to know it is he who is supplying drugs etc so i dunno, maybe he just hates MJ\\'s music.<br /><br />Lots of cool things in this like MJ turning into a car and a robot and the whole Speed Demon sequence. Also, the director must have had the patience of a saint when it came to filming the kiddy Bad sequence as usually directors hate working with one kid let alone a whole bunch of them performing a complex dance scene.<br /><br />Bottom line, this movie is for people who like MJ on one level or another (which i think is most people). If not, then stay away. It does try and give off a wholesome message and ironically MJ\\'s bestest buddy in this movie is a girl! Michael Jackson is truly one of the most talented people ever to grace this planet but is he guilty? Well, with all the attention i\\'ve gave this subject....hmmm well i don\\'t know because people can be different behind closed doors, i know this for a fact. He is either an extremely nice but stupid guy or one of the most sickest liars. I hope he is not the latter.\"'"
      ]
     },
     "execution_count": 7,
     "metadata": {},
     "output_type": "execute_result"
    }
   ],
   "source": [
    "train['review'][0]"
   ]
  },
  {
   "cell_type": "markdown",
   "id": "3aad6780-612d-4d1a-a92b-b8b80fca1677",
   "metadata": {},
   "source": [
    "### HTML tag 삭제"
   ]
  },
  {
   "cell_type": "code",
   "execution_count": 8,
   "id": "4ef27ac6-45b7-4842-90d7-26f2fcac965c",
   "metadata": {},
   "outputs": [],
   "source": [
    "# remove html tag\n",
    "rows = []\n",
    "for t in train['review']:\n",
    "    soup = BeautifulSoup(t, 'html.parser') # html.parser -> tag들을 문자말고 html tag로 해석\n",
    "    for s in soup.select('br'): # <br>들만 추출해서\n",
    "        s.extract()\n",
    "    rows.append(soup.get_text()) # br 뺀것들만 원래 데이터에 저장\n",
    "    \n",
    "train['review'] = rows\n"
   ]
  },
  {
   "cell_type": "code",
   "execution_count": 9,
   "id": "37540fdc-551a-41ae-90e3-aa660233192e",
   "metadata": {},
   "outputs": [],
   "source": [
    "example1 = train['review'][0] # <br>이 사라졌다."
   ]
  },
  {
   "cell_type": "markdown",
   "id": "8576d890-a734-4793-b109-19ecd9bf205c",
   "metadata": {},
   "source": [
    "### 문자아닌것들을 공백으로 치환"
   ]
  },
  {
   "cell_type": "code",
   "execution_count": 10,
   "id": "d5bc0524-ff93-4842-a6dc-104255862ef6",
   "metadata": {},
   "outputs": [
    {
     "data": {
      "text/plain": [
       "' With all this stuff going down at the moment with MJ i ve started listening to his   watching the odd docummusicentary here and there  watched The Wiz and watched Moonwalker again  Maybe i just want to get a certain insight into this guy who i thought was really cool in the eighties just to maybe make up my mind whether he is guilty or innocent  Moonwalker is part biography  part feature film which i remember going to see at the cinema when it was originally released  Some of it has subtle messages about MJ s feeling towards the press and also the obvious message of drugs are bad m kay Visually impressive but of course this is all about Michael Jackson so unless you remotely like MJ in anyway then you are going to hate this and find it boring  Some may call MJ an egotist for consenting to the making of this movie BUT MJ and most of his fans would say that he made it for the fans which if true is really nice of him The actual feature film bit when it finally starts is only on for    minutes or so excluding the Smooth Criminal sequence and Joe Pesci is convincing as a psychopathic all powerful drug lord  Why he wants MJ dead so bad is beyond me  Because MJ overheard his plans  Nah  Joe Pesci s character ranted that he wanted people to know it is he who is supplying drugs etc so i dunno  maybe he just hates MJ s music Lots of cool things in this like MJ turning into a car and a robot and the whole Speed Demon sequence  Also  the director must have had the patience of a saint when it came to filming the kiddy Bad sequence as usually directors hate working with one kid let alone a whole bunch of them performing a complex dance scene Bottom line  this movie is for people who like MJ on one level or another  which i think is most people   If not  then stay away  It does try and give off a wholesome message and ironically MJ s bestest buddy in this movie is a girl  Michael Jackson is truly one of the most talented people ever to grace this planet but is he guilty  Well  with all the attention i ve gave this subject    hmmm well i don t know because people can be different behind closed doors  i know this for a fact  He is either an extremely nice but stupid guy or one of the most sickest liars  I hope he is not the latter  '"
      ]
     },
     "execution_count": 10,
     "metadata": {},
     "output_type": "execute_result"
    }
   ],
   "source": [
    "letters_only = re.sub('[^a-zA-Z]', ' ', example1) # 문자가 아닌것들 다 제거\n",
    "letters_only"
   ]
  },
  {
   "cell_type": "markdown",
   "id": "e36f8ded-65f2-41d7-a886-bd20a0e0287f",
   "metadata": {},
   "source": [
    "### 모든 문자를 소문자로 치환"
   ]
  },
  {
   "cell_type": "code",
   "execution_count": 11,
   "id": "4b7a4386-c5a6-4487-bac3-2cec6867e776",
   "metadata": {},
   "outputs": [
    {
     "data": {
      "text/plain": [
       "' with all this stuff going down at the moment with mj i ve started listening to his   watching the odd docummusicentary here and there  watched the wiz and watched moonwalker again  maybe i just want to get a certain insight into this guy who i thought was really cool in the eighties just to maybe make up my mind whether he is guilty or innocent  moonwalker is part biography  part feature film which i remember going to see at the cinema when it was originally released  some of it has subtle messages about mj s feeling towards the press and also the obvious message of drugs are bad m kay visually impressive but of course this is all about michael jackson so unless you remotely like mj in anyway then you are going to hate this and find it boring  some may call mj an egotist for consenting to the making of this movie but mj and most of his fans would say that he made it for the fans which if true is really nice of him the actual feature film bit when it finally starts is only on for    minutes or so excluding the smooth criminal sequence and joe pesci is convincing as a psychopathic all powerful drug lord  why he wants mj dead so bad is beyond me  because mj overheard his plans  nah  joe pesci s character ranted that he wanted people to know it is he who is supplying drugs etc so i dunno  maybe he just hates mj s music lots of cool things in this like mj turning into a car and a robot and the whole speed demon sequence  also  the director must have had the patience of a saint when it came to filming the kiddy bad sequence as usually directors hate working with one kid let alone a whole bunch of them performing a complex dance scene bottom line  this movie is for people who like mj on one level or another  which i think is most people   if not  then stay away  it does try and give off a wholesome message and ironically mj s bestest buddy in this movie is a girl  michael jackson is truly one of the most talented people ever to grace this planet but is he guilty  well  with all the attention i ve gave this subject    hmmm well i don t know because people can be different behind closed doors  i know this for a fact  he is either an extremely nice but stupid guy or one of the most sickest liars  i hope he is not the latter  '"
      ]
     },
     "execution_count": 11,
     "metadata": {},
     "output_type": "execute_result"
    }
   ],
   "source": [
    "lower_case = letters_only.lower()\n",
    "lower_case"
   ]
  },
  {
   "cell_type": "markdown",
   "id": "7e79b6f6-9761-43cb-ab35-63bcc403de63",
   "metadata": {},
   "source": [
    "### 문장의 각 단어들을 split"
   ]
  },
  {
   "cell_type": "code",
   "execution_count": 12,
   "id": "b57858b0-b191-4c78-96ae-c7b59dbaefbe",
   "metadata": {},
   "outputs": [
    {
     "name": "stdout",
     "output_type": "stream",
     "text": [
      "['with', 'all', 'this', 'stuff', 'going', 'down', 'at', 'the', 'moment', 'with', 'mj', 'i', 've', 'started', 'listening', 'to', 'his', 'watching', 'the', 'odd', 'docummusicentary', 'here', 'and', 'there', 'watched', 'the', 'wiz', 'and', 'watched', 'moonwalker', 'again', 'maybe', 'i', 'just', 'want', 'to', 'get', 'a', 'certain', 'insight', 'into', 'this', 'guy', 'who', 'i', 'thought', 'was', 'really', 'cool', 'in', 'the', 'eighties', 'just', 'to', 'maybe', 'make', 'up', 'my', 'mind', 'whether', 'he', 'is', 'guilty', 'or', 'innocent', 'moonwalker', 'is', 'part', 'biography', 'part', 'feature', 'film', 'which', 'i', 'remember', 'going', 'to', 'see', 'at', 'the', 'cinema', 'when', 'it', 'was', 'originally', 'released', 'some', 'of', 'it', 'has', 'subtle', 'messages', 'about', 'mj', 's', 'feeling', 'towards', 'the', 'press', 'and', 'also', 'the', 'obvious', 'message', 'of', 'drugs', 'are', 'bad', 'm', 'kay', 'visually', 'impressive', 'but', 'of', 'course', 'this', 'is', 'all', 'about', 'michael', 'jackson', 'so', 'unless', 'you', 'remotely', 'like', 'mj', 'in', 'anyway', 'then', 'you', 'are', 'going', 'to', 'hate', 'this', 'and', 'find', 'it', 'boring', 'some', 'may', 'call', 'mj', 'an', 'egotist', 'for', 'consenting', 'to', 'the', 'making', 'of', 'this', 'movie', 'but', 'mj', 'and', 'most', 'of', 'his', 'fans', 'would', 'say', 'that', 'he', 'made', 'it', 'for', 'the', 'fans', 'which', 'if', 'true', 'is', 'really', 'nice', 'of', 'him', 'the', 'actual', 'feature', 'film', 'bit', 'when', 'it', 'finally', 'starts', 'is', 'only', 'on', 'for', 'minutes', 'or', 'so', 'excluding', 'the', 'smooth', 'criminal', 'sequence', 'and', 'joe', 'pesci', 'is', 'convincing', 'as', 'a', 'psychopathic', 'all', 'powerful', 'drug', 'lord', 'why', 'he', 'wants', 'mj', 'dead', 'so', 'bad', 'is', 'beyond', 'me', 'because', 'mj', 'overheard', 'his', 'plans', 'nah', 'joe', 'pesci', 's', 'character', 'ranted', 'that', 'he', 'wanted', 'people', 'to', 'know', 'it', 'is', 'he', 'who', 'is', 'supplying', 'drugs', 'etc', 'so', 'i', 'dunno', 'maybe', 'he', 'just', 'hates', 'mj', 's', 'music', 'lots', 'of', 'cool', 'things', 'in', 'this', 'like', 'mj', 'turning', 'into', 'a', 'car', 'and', 'a', 'robot', 'and', 'the', 'whole', 'speed', 'demon', 'sequence', 'also', 'the', 'director', 'must', 'have', 'had', 'the', 'patience', 'of', 'a', 'saint', 'when', 'it', 'came', 'to', 'filming', 'the', 'kiddy', 'bad', 'sequence', 'as', 'usually', 'directors', 'hate', 'working', 'with', 'one', 'kid', 'let', 'alone', 'a', 'whole', 'bunch', 'of', 'them', 'performing', 'a', 'complex', 'dance', 'scene', 'bottom', 'line', 'this', 'movie', 'is', 'for', 'people', 'who', 'like', 'mj', 'on', 'one', 'level', 'or', 'another', 'which', 'i', 'think', 'is', 'most', 'people', 'if', 'not', 'then', 'stay', 'away', 'it', 'does', 'try', 'and', 'give', 'off', 'a', 'wholesome', 'message', 'and', 'ironically', 'mj', 's', 'bestest', 'buddy', 'in', 'this', 'movie', 'is', 'a', 'girl', 'michael', 'jackson', 'is', 'truly', 'one', 'of', 'the', 'most', 'talented', 'people', 'ever', 'to', 'grace', 'this', 'planet', 'but', 'is', 'he', 'guilty', 'well', 'with', 'all', 'the', 'attention', 'i', 've', 'gave', 'this', 'subject', 'hmmm', 'well', 'i', 'don', 't', 'know', 'because', 'people', 'can', 'be', 'different', 'behind', 'closed', 'doors', 'i', 'know', 'this', 'for', 'a', 'fact', 'he', 'is', 'either', 'an', 'extremely', 'nice', 'but', 'stupid', 'guy', 'or', 'one', 'of', 'the', 'most', 'sickest', 'liars', 'i', 'hope', 'he', 'is', 'not', 'the', 'latter']\n"
     ]
    }
   ],
   "source": [
    "words = lower_case.split()\n",
    "print(words)"
   ]
  },
  {
   "cell_type": "markdown",
   "id": "cd020bd9-553b-4338-a22c-abc137c10ce3",
   "metadata": {},
   "source": [
    "### 불용어 제거"
   ]
  },
  {
   "cell_type": "code",
   "execution_count": 13,
   "id": "a707d6c1-df53-4e58-ab91-0f1582d87bc2",
   "metadata": {},
   "outputs": [
    {
     "name": "stderr",
     "output_type": "stream",
     "text": [
      "[nltk_data] Downloading package stopwords to\n",
      "[nltk_data]     C:\\Users\\Jay\\AppData\\Roaming\\nltk_data...\n",
      "[nltk_data]   Package stopwords is already up-to-date!\n",
      "[nltk_data] Downloading package wordnet to\n",
      "[nltk_data]     C:\\Users\\Jay\\AppData\\Roaming\\nltk_data...\n",
      "[nltk_data]   Package wordnet is already up-to-date!\n"
     ]
    }
   ],
   "source": [
    "import nltk\n",
    "nltk.download('stopwords')\n",
    "nltk.download('wordnet') # 온톨로지 (보고 들은 모든 것)\n",
    "from nltk.corpus import stopwords\n",
    "from nltk.corpus import wordnet"
   ]
  },
  {
   "cell_type": "code",
   "execution_count": 14,
   "id": "4d355fae-4edf-499c-932f-40ad1f8f1257",
   "metadata": {},
   "outputs": [
    {
     "data": {
      "text/plain": [
       "['i', 'me', 'my', 'myself', 'we', 'our', 'ours', 'ourselves', 'you', \"you're\"]"
      ]
     },
     "execution_count": 14,
     "metadata": {},
     "output_type": "execute_result"
    }
   ],
   "source": [
    "stopwords.words('english')[:10]"
   ]
  },
  {
   "cell_type": "code",
   "execution_count": 15,
   "id": "1ea8352f-4591-4c78-b245-ac3dff34e45e",
   "metadata": {},
   "outputs": [
    {
     "name": "stdout",
     "output_type": "stream",
     "text": [
      "['stuff', 'going', 'moment', 'mj', 'started', 'listening', 'watching', 'odd', 'docummusicentary', 'watched', 'wiz', 'watched', 'moonwalker', 'maybe', 'want', 'get', 'certain', 'insight', 'guy', 'thought', 'really', 'cool', 'eighties', 'maybe', 'make', 'mind', 'whether', 'guilty', 'innocent', 'moonwalker', 'part', 'biography', 'part', 'feature', 'film', 'remember', 'going', 'see', 'cinema', 'originally', 'released', 'subtle', 'messages', 'mj', 'feeling', 'towards', 'press', 'also', 'obvious', 'message', 'drugs', 'bad', 'kay', 'visually', 'impressive', 'course', 'michael', 'jackson', 'unless', 'remotely', 'like', 'mj', 'anyway', 'going', 'hate', 'find', 'boring', 'may', 'call', 'mj', 'egotist', 'consenting', 'making', 'movie', 'mj', 'fans', 'would', 'say', 'made', 'fans', 'true', 'really', 'nice', 'actual', 'feature', 'film', 'bit', 'finally', 'starts', 'minutes', 'excluding', 'smooth', 'criminal', 'sequence', 'joe', 'pesci', 'convincing', 'psychopathic', 'powerful', 'drug', 'lord', 'wants', 'mj', 'dead', 'bad', 'beyond', 'mj', 'overheard', 'plans', 'nah', 'joe', 'pesci', 'character', 'ranted', 'wanted', 'people', 'know', 'supplying', 'drugs', 'etc', 'dunno', 'maybe', 'hates', 'mj', 'music', 'lots', 'cool', 'things', 'like', 'mj', 'turning', 'car', 'robot', 'whole', 'speed', 'demon', 'sequence', 'also', 'director', 'must', 'patience', 'saint', 'came', 'filming', 'kiddy', 'bad', 'sequence', 'usually', 'directors', 'hate', 'working', 'one', 'kid', 'let', 'alone', 'whole', 'bunch', 'performing', 'complex', 'dance', 'scene', 'bottom', 'line', 'movie', 'people', 'like', 'mj', 'one', 'level', 'another', 'think', 'people', 'stay', 'away', 'try', 'give', 'wholesome', 'message', 'ironically', 'mj', 'bestest', 'buddy', 'movie', 'girl', 'michael', 'jackson', 'truly', 'one', 'talented', 'people', 'ever', 'grace', 'planet', 'guilty', 'well', 'attention', 'gave', 'subject', 'hmmm', 'well', 'know', 'people', 'different', 'behind', 'closed', 'doors', 'know', 'fact', 'either', 'extremely', 'nice', 'stupid', 'guy', 'one', 'sickest', 'liars', 'hope', 'latter']\n"
     ]
    }
   ],
   "source": [
    "words = [w for w in words if not w in stopwords.words('english')]\n",
    "print(words)"
   ]
  },
  {
   "cell_type": "markdown",
   "id": "d608a64d-33a1-44fe-bacb-d87d594b0618",
   "metadata": {},
   "source": [
    "### 어간 추출"
   ]
  },
  {
   "cell_type": "code",
   "execution_count": 16,
   "id": "cc80243e-56f8-46df-a2a5-d46c6a5c7adf",
   "metadata": {},
   "outputs": [],
   "source": [
    "from nltk.stem.snowball import SnowballStemmer"
   ]
  },
  {
   "cell_type": "code",
   "execution_count": 17,
   "id": "80c5f50e-43ae-4041-8569-6fbcdea19108",
   "metadata": {},
   "outputs": [],
   "source": [
    "stemmer = SnowballStemmer('english') # 단어의 원형으로 돌려버림 (어간 추출)"
   ]
  },
  {
   "cell_type": "code",
   "execution_count": 18,
   "id": "34918504-2ca4-4f1b-a959-39246c07e5ce",
   "metadata": {},
   "outputs": [],
   "source": [
    "words = [stemmer.stem(w) for w in words]"
   ]
  },
  {
   "cell_type": "markdown",
   "id": "d0eab775-ff91-4cd1-9c29-44ebe7edc523",
   "metadata": {},
   "source": [
    "### 함수화"
   ]
  },
  {
   "cell_type": "code",
   "execution_count": 19,
   "id": "801bc1f7-0bb0-4b17-a049-759f9ee69b4c",
   "metadata": {},
   "outputs": [],
   "source": [
    "def review_to_word(raw_review):\n",
    "    # 1. HTML 제거\n",
    "    review_text = BeautifulSoup(raw_review).get_text()\n",
    "    # 2. 영문자 아닌 문자 제거 (공백)\n",
    "    letters_only = re.sub('[^a-zA-Z]', ' ', review_text)\n",
    "    # 3. 소문자 변환\n",
    "    words = letters_only.lower().split()\n",
    "    # 4. 불용어 제거\n",
    "    stops = set(stopwords.words('english'))\n",
    "    meaningful_words = [w for w in words if not w in stops]\n",
    "    # 5. 어간 추출 (stemming)\n",
    "    stemming_words = [stemmer.stem(w) for w in meaningful_words]\n",
    "    \n",
    "    return (' '.join(meaningful_words))"
   ]
  },
  {
   "cell_type": "code",
   "execution_count": 20,
   "id": "cc5b3d5f-d411-4112-ac7d-03e1cc940ee8",
   "metadata": {},
   "outputs": [
    {
     "data": {
      "text/plain": [
       "'stuff going moment mj started listening watching odd docummusicentary watched wiz watched moonwalker maybe want get certain insight guy thought really cool eighties maybe make mind whether guilty innocent moonwalker part biography part feature film remember going see cinema originally released subtle messages mj feeling towards press also obvious message drugs bad kay visually impressive course michael jackson unless remotely like mj anyway going hate find boring may call mj egotist consenting making movie mj fans would say made fans true really nice actual feature film bit finally starts minutes excluding smooth criminal sequence joe pesci convincing psychopathic powerful drug lord wants mj dead bad beyond mj overheard plans nah joe pesci character ranted wanted people know supplying drugs etc dunno maybe hates mj music lots cool things like mj turning car robot whole speed demon sequence also director must patience saint came filming kiddy bad sequence usually directors hate working one kid let alone whole bunch performing complex dance scene bottom line movie people like mj one level another think people stay away try give wholesome message ironically mj bestest buddy movie girl michael jackson truly one talented people ever grace planet guilty well attention gave subject hmmm well know people different behind closed doors know fact either extremely nice stupid guy one sickest liars hope latter'"
      ]
     },
     "execution_count": 20,
     "metadata": {},
     "output_type": "execute_result"
    }
   ],
   "source": [
    "clean_review = review_to_word(train['review'][0])\n",
    "clean_review"
   ]
  },
  {
   "cell_type": "markdown",
   "id": "f0b5c683-8475-41f7-bec7-a80f99ecc2d4",
   "metadata": {},
   "source": [
    "## bag of words의 문제점"
   ]
  },
  {
   "cell_type": "markdown",
   "id": "e3a4032a-ac00-4df8-bda1-f97fe4b6184d",
   "metadata": {},
   "source": [
    "단어의 빈도를 가지고 순위를 정하니 단어의 순서를 고려하지 못한다.\\\n",
    "`Dog toy` VS `Toy dog` 에서의 차이는 크다. 이를 구분하지 못한다\n",
    "--> sequence 데이터를 고려하자"
   ]
  },
  {
   "cell_type": "markdown",
   "id": "00ad4f63-feb8-406a-8f80-96cf2edcd446",
   "metadata": {},
   "source": []
  },
  {
   "cell_type": "code",
   "execution_count": null,
   "id": "619ff217-5986-471f-a5a9-e64c511db33f",
   "metadata": {},
   "outputs": [],
   "source": []
  },
  {
   "cell_type": "markdown",
   "id": "1658b4c2-31ac-46da-a9c7-53076afb76af",
   "metadata": {},
   "source": [
    "## time series 예제"
   ]
  },
  {
   "cell_type": "code",
   "execution_count": 21,
   "id": "eb9fffd7-1f71-4538-bd83-920e9603585b",
   "metadata": {},
   "outputs": [],
   "source": [
    "import numpy as np\n",
    "import matplotlib.pyplot as plt"
   ]
  },
  {
   "cell_type": "code",
   "execution_count": 22,
   "id": "7b0aa965-500c-4a7e-9b42-616e8bc57868",
   "metadata": {},
   "outputs": [
    {
     "data": {
      "image/png": "[encoded data removed]",
      "text/plain": [
       "<Figure size 432x288 with 1 Axes>"
      ]
     },
     "metadata": {
      "needs_background": "light"
     },
     "output_type": "display_data"
    }
   ],
   "source": [
    "# make the original data\n",
    "series = np.sin(0.1 * np.arange(200)) #\n",
    "\n",
    "# plot it\n",
    "plt.plot(series)\n",
    "plt.show()"
   ]
  },
  {
   "cell_type": "code",
   "execution_count": 23,
   "id": "3140f5ab-b85c-4976-b7a7-0a449efa67f6",
   "metadata": {},
   "outputs": [
    {
     "name": "stdout",
     "output_type": "stream",
     "text": [
      "X.shape :  (190, 10) , Y.shape :  (190,)\n"
     ]
    }
   ],
   "source": [
    "# build the dataset\n",
    "# let's see if we can use T pas values to predict the next value\n",
    "T = 10\n",
    "X = []\n",
    "Y = []\n",
    "for t in range(len(series)-T):\n",
    "    x = series[t:t+T]\n",
    "    X.append(x)\n",
    "    y = series[t+T]\n",
    "    Y.append(y)\n",
    "    \n",
    "X = np.array(X).reshape(-1, T)\n",
    "Y = np.array(Y)\n",
    "N = len(X)\n",
    "print('X.shape : ', X.shape, ',', 'Y.shape : ', Y.shape)"
   ]
  },
  {
   "cell_type": "code",
   "execution_count": null,
   "id": "f8280bd1-c7a8-4373-aea2-eb51f66473ec",
   "metadata": {},
   "outputs": [],
   "source": []
  },
  {
   "cell_type": "code",
   "execution_count": 24,
   "id": "22d0d014-3e82-48c9-8c00-5d02f8c3e1b0",
   "metadata": {},
   "outputs": [
    {
     "name": "stdout",
     "output_type": "stream",
     "text": [
      "2.7.0\n"
     ]
    }
   ],
   "source": [
    "import tensorflow as tf\n",
    "print(tf.__version__)\n",
    "\n",
    "from tensorflow.keras.layers import Input, Dense\n",
    "from tensorflow.keras.models import Model\n",
    "from tensorflow.keras.optimizers import SGD, Adam"
   ]
  },
  {
   "cell_type": "code",
   "execution_count": 25,
   "id": "6026c481-f90f-4e6a-af48-49caa702a434",
   "metadata": {},
   "outputs": [
    {
     "name": "stdout",
     "output_type": "stream",
     "text": [
      "Model: \"model\"\n",
      "_________________________________________________________________\n",
      " Layer (type)                Output Shape              Param #   \n",
      "=================================================================\n",
      " input_1 (InputLayer)        [(None, 10)]              0         \n",
      "                                                                 \n",
      " dense (Dense)               (None, 1)                 11        \n",
      "                                                                 \n",
      "=================================================================\n",
      "Total params: 11\n",
      "Trainable params: 11\n",
      "Non-trainable params: 0\n",
      "_________________________________________________________________\n"
     ]
    }
   ],
   "source": [
    "# linear model\n",
    "i = Input(shape=(T, ))\n",
    "x = Dense(1)(i)\n",
    "\n",
    "model = Model(i, x)\n",
    "model.summary()"
   ]
  },
  {
   "cell_type": "code",
   "execution_count": 32,
   "id": "5837799f-95ff-44f8-a143-8679795282f0",
   "metadata": {},
   "outputs": [
    {
     "name": "stdout",
     "output_type": "stream",
     "text": [
      "Epoch 1/80\n",
      "3/3 [==============================] - 0s 45ms/step - loss: 1.2228e-04 - val_loss: 2.3246e-04\n",
      "Epoch 2/80\n",
      "3/3 [==============================] - 0s 13ms/step - loss: 3.5605e-04 - val_loss: 1.3474e-04\n",
      "Epoch 3/80\n",
      "3/3 [==============================] - 0s 12ms/step - loss: 9.9928e-05 - val_loss: 6.3027e-05\n",
      "Epoch 4/80\n",
      "3/3 [==============================] - 0s 11ms/step - loss: 6.7343e-05 - val_loss: 6.9193e-05\n",
      "Epoch 5/80\n",
      "3/3 [==============================] - 0s 12ms/step - loss: 5.5659e-05 - val_loss: 1.2349e-04\n",
      "Epoch 6/80\n",
      "3/3 [==============================] - 0s 12ms/step - loss: 4.8505e-05 - val_loss: 3.7157e-05\n",
      "Epoch 7/80\n",
      "3/3 [==============================] - 0s 12ms/step - loss: 2.3641e-05 - val_loss: 1.9282e-05\n",
      "Epoch 8/80\n",
      "3/3 [==============================] - 0s 12ms/step - loss: 2.4254e-05 - val_loss: 5.6187e-05\n",
      "Epoch 9/80\n",
      "3/3 [==============================] - 0s 14ms/step - loss: 2.0425e-05 - val_loss: 1.8174e-05\n",
      "Epoch 10/80\n",
      "3/3 [==============================] - 0s 13ms/step - loss: 1.0387e-05 - val_loss: 1.0099e-05\n",
      "Epoch 11/80\n",
      "3/3 [==============================] - 0s 12ms/step - loss: 8.7214e-06 - val_loss: 1.0944e-05\n",
      "Epoch 12/80\n",
      "3/3 [==============================] - 0s 11ms/step - loss: 1.0724e-05 - val_loss: 1.2326e-05\n",
      "Epoch 13/80\n",
      "3/3 [==============================] - 0s 12ms/step - loss: 7.2698e-06 - val_loss: 1.9251e-06\n",
      "Epoch 14/80\n",
      "3/3 [==============================] - 0s 12ms/step - loss: 3.0345e-06 - val_loss: 2.5374e-06\n",
      "Epoch 15/80\n",
      "3/3 [==============================] - 0s 12ms/step - loss: 2.3883e-06 - val_loss: 2.8949e-06\n",
      "Epoch 16/80\n",
      "3/3 [==============================] - 0s 13ms/step - loss: 1.9237e-06 - val_loss: 1.5821e-06\n",
      "Epoch 17/80\n",
      "3/3 [==============================] - 0s 12ms/step - loss: 9.9240e-07 - val_loss: 6.8244e-07\n",
      "Epoch 18/80\n",
      "3/3 [==============================] - 0s 12ms/step - loss: 1.1380e-06 - val_loss: 1.4863e-06\n",
      "Epoch 19/80\n",
      "3/3 [==============================] - 0s 12ms/step - loss: 1.0262e-06 - val_loss: 3.4877e-07\n",
      "Epoch 20/80\n",
      "3/3 [==============================] - 0s 11ms/step - loss: 7.9789e-07 - val_loss: 1.1886e-06\n",
      "Epoch 21/80\n",
      "3/3 [==============================] - 0s 13ms/step - loss: 5.1651e-07 - val_loss: 1.3004e-06\n",
      "Epoch 22/80\n",
      "3/3 [==============================] - 0s 13ms/step - loss: 6.2278e-07 - val_loss: 1.7332e-07\n",
      "Epoch 23/80\n",
      "3/3 [==============================] - 0s 12ms/step - loss: 2.6045e-07 - val_loss: 3.1393e-07\n",
      "Epoch 24/80\n",
      "3/3 [==============================] - 0s 12ms/step - loss: 2.0568e-07 - val_loss: 1.4992e-07\n",
      "Epoch 25/80\n",
      "3/3 [==============================] - 0s 14ms/step - loss: 1.2657e-07 - val_loss: 1.2067e-07\n",
      "Epoch 26/80\n",
      "3/3 [==============================] - 0s 13ms/step - loss: 5.8412e-08 - val_loss: 5.3357e-08\n",
      "Epoch 27/80\n",
      "3/3 [==============================] - 0s 12ms/step - loss: 7.3078e-08 - val_loss: 6.6190e-08\n",
      "Epoch 28/80\n",
      "3/3 [==============================] - 0s 13ms/step - loss: 5.2539e-08 - val_loss: 4.3931e-08\n",
      "Epoch 29/80\n",
      "3/3 [==============================] - 0s 12ms/step - loss: 5.2678e-08 - val_loss: 3.8031e-08\n",
      "Epoch 30/80\n",
      "3/3 [==============================] - 0s 14ms/step - loss: 4.4144e-08 - val_loss: 2.9971e-08\n",
      "Epoch 31/80\n",
      "3/3 [==============================] - 0s 12ms/step - loss: 4.9816e-08 - val_loss: 1.1007e-07\n",
      "Epoch 32/80\n",
      "3/3 [==============================] - 0s 12ms/step - loss: 7.2785e-08 - val_loss: 1.1798e-08\n",
      "Epoch 33/80\n",
      "3/3 [==============================] - 0s 12ms/step - loss: 3.2615e-08 - val_loss: 1.3676e-07\n",
      "Epoch 34/80\n",
      "3/3 [==============================] - 0s 12ms/step - loss: 5.1607e-08 - val_loss: 8.4980e-10\n",
      "Epoch 35/80\n",
      "3/3 [==============================] - 0s 12ms/step - loss: 2.0274e-08 - val_loss: 4.3494e-08\n",
      "Epoch 36/80\n",
      "3/3 [==============================] - 0s 12ms/step - loss: 1.5958e-08 - val_loss: 1.7756e-08\n",
      "Epoch 37/80\n",
      "3/3 [==============================] - 0s 12ms/step - loss: 1.8510e-08 - val_loss: 3.0019e-08\n",
      "Epoch 38/80\n",
      "3/3 [==============================] - 0s 13ms/step - loss: 3.0801e-08 - val_loss: 4.2085e-08\n",
      "Epoch 39/80\n",
      "3/3 [==============================] - 0s 12ms/step - loss: 3.0315e-08 - val_loss: 3.0794e-08\n",
      "Epoch 40/80\n",
      "3/3 [==============================] - 0s 12ms/step - loss: 3.4564e-08 - val_loss: 2.9581e-09\n",
      "Epoch 41/80\n",
      "3/3 [==============================] - 0s 13ms/step - loss: 1.3910e-08 - val_loss: 1.8432e-08\n",
      "Epoch 42/80\n",
      "3/3 [==============================] - 0s 12ms/step - loss: 2.2222e-08 - val_loss: 3.8395e-08\n",
      "Epoch 43/80\n",
      "3/3 [==============================] - 0s 12ms/step - loss: 3.1446e-08 - val_loss: 2.7198e-09\n",
      "Epoch 44/80\n",
      "3/3 [==============================] - 0s 12ms/step - loss: 1.0321e-08 - val_loss: 2.7582e-08\n",
      "Epoch 45/80\n",
      "3/3 [==============================] - 0s 13ms/step - loss: 1.2466e-08 - val_loss: 1.1854e-08\n",
      "Epoch 46/80\n",
      "3/3 [==============================] - 0s 12ms/step - loss: 1.4364e-08 - val_loss: 6.6090e-09\n",
      "Epoch 47/80\n",
      "3/3 [==============================] - 0s 11ms/step - loss: 1.0451e-08 - val_loss: 1.0399e-09\n",
      "Epoch 48/80\n",
      "3/3 [==============================] - 0s 12ms/step - loss: 5.3551e-09 - val_loss: 5.4326e-09\n",
      "Epoch 49/80\n",
      "3/3 [==============================] - 0s 12ms/step - loss: 4.8082e-09 - val_loss: 4.9907e-09\n",
      "Epoch 50/80\n",
      "3/3 [==============================] - 0s 12ms/step - loss: 4.7584e-09 - val_loss: 1.4343e-09\n",
      "Epoch 51/80\n",
      "3/3 [==============================] - 0s 12ms/step - loss: 3.6422e-09 - val_loss: 2.1124e-10\n",
      "Epoch 52/80\n",
      "3/3 [==============================] - 0s 12ms/step - loss: 2.0696e-09 - val_loss: 6.2872e-09\n",
      "Epoch 53/80\n",
      "3/3 [==============================] - 0s 13ms/step - loss: 2.0646e-09 - val_loss: 2.4899e-09\n",
      "Epoch 54/80\n",
      "3/3 [==============================] - 0s 12ms/step - loss: 2.7529e-09 - val_loss: 1.2743e-09\n",
      "Epoch 55/80\n",
      "3/3 [==============================] - 0s 12ms/step - loss: 3.9740e-09 - val_loss: 5.6664e-10\n",
      "Epoch 56/80\n",
      "3/3 [==============================] - 0s 12ms/step - loss: 5.2596e-09 - val_loss: 9.5464e-10\n",
      "Epoch 57/80\n",
      "3/3 [==============================] - 0s 13ms/step - loss: 4.7987e-09 - val_loss: 2.0705e-09\n",
      "Epoch 58/80\n",
      "3/3 [==============================] - 0s 12ms/step - loss: 1.8565e-09 - val_loss: 6.1551e-09\n",
      "Epoch 59/80\n",
      "3/3 [==============================] - 0s 13ms/step - loss: 3.0157e-09 - val_loss: 1.2312e-09\n",
      "Epoch 60/80\n",
      "3/3 [==============================] - 0s 11ms/step - loss: 1.2471e-09 - val_loss: 4.3617e-10\n",
      "Epoch 61/80\n",
      "3/3 [==============================] - 0s 12ms/step - loss: 1.0881e-09 - val_loss: 3.3569e-10\n",
      "Epoch 62/80\n",
      "3/3 [==============================] - 0s 12ms/step - loss: 1.5539e-09 - val_loss: 3.8831e-10\n",
      "Epoch 63/80\n",
      "3/3 [==============================] - 0s 12ms/step - loss: 1.2954e-09 - val_loss: 3.4524e-10\n",
      "Epoch 64/80\n",
      "3/3 [==============================] - 0s 12ms/step - loss: 1.2451e-09 - val_loss: 2.1731e-10\n",
      "Epoch 65/80\n",
      "3/3 [==============================] - 0s 12ms/step - loss: 7.9700e-10 - val_loss: 1.0787e-10\n",
      "Epoch 66/80\n",
      "3/3 [==============================] - 0s 12ms/step - loss: 5.9261e-10 - val_loss: 3.1951e-10\n",
      "Epoch 67/80\n",
      "3/3 [==============================] - 0s 12ms/step - loss: 4.5081e-10 - val_loss: 1.4331e-09\n",
      "Epoch 68/80\n",
      "3/3 [==============================] - 0s 12ms/step - loss: 7.7203e-10 - val_loss: 1.0164e-09\n",
      "Epoch 69/80\n",
      "3/3 [==============================] - 0s 19ms/step - loss: 4.7672e-10 - val_loss: 1.9590e-10\n",
      "Epoch 70/80\n",
      "3/3 [==============================] - 0s 13ms/step - loss: 1.5283e-10 - val_loss: 1.7455e-10\n",
      "Epoch 71/80\n",
      "3/3 [==============================] - 0s 12ms/step - loss: 1.5259e-10 - val_loss: 1.5425e-10\n",
      "Epoch 72/80\n",
      "3/3 [==============================] - 0s 11ms/step - loss: 1.6087e-10 - val_loss: 4.1431e-11\n",
      "Epoch 73/80\n",
      "3/3 [==============================] - 0s 11ms/step - loss: 2.1911e-10 - val_loss: 1.5773e-10\n",
      "Epoch 74/80\n",
      "3/3 [==============================] - 0s 13ms/step - loss: 1.2334e-10 - val_loss: 1.6657e-11\n",
      "Epoch 75/80\n",
      "3/3 [==============================] - 0s 13ms/step - loss: 2.0499e-10 - val_loss: 3.7956e-10\n",
      "Epoch 76/80\n",
      "3/3 [==============================] - 0s 12ms/step - loss: 1.7001e-10 - val_loss: 2.7234e-11\n",
      "Epoch 77/80\n",
      "3/3 [==============================] - 0s 12ms/step - loss: 3.1166e-11 - val_loss: 2.2308e-11\n",
      "Epoch 78/80\n",
      "3/3 [==============================] - 0s 12ms/step - loss: 5.9024e-11 - val_loss: 7.8060e-11\n",
      "Epoch 79/80\n",
      "3/3 [==============================] - 0s 12ms/step - loss: 7.6911e-11 - val_loss: 1.1701e-10\n",
      "Epoch 80/80\n",
      "3/3 [==============================] - 0s 11ms/step - loss: 6.9700e-11 - val_loss: 1.7615e-10\n"
     ]
    }
   ],
   "source": [
    "model.compile(loss='mse', optimizer=Adam(lr=0.01))\n",
    "# X : 학습데이터, Y : 정답데이터,  epochs=80, validation_data : 검증 데이터\n",
    "r = model.fit(X[:-N//2], Y[:-N//2], epochs=80, validation_data=(X[-N//2:], Y[-N//2:]))"
   ]
  },
  {
   "cell_type": "code",
   "execution_count": 33,
   "id": "a29685f8-9315-4642-986e-b5d325bb2a39",
   "metadata": {},
   "outputs": [
    {
     "data": {
      "text/plain": [
       "<matplotlib.legend.Legend at 0x162702e05b0>"
      ]
     },
     "execution_count": 33,
     "metadata": {},
     "output_type": "execute_result"
    },
    {
     "data": {
      "image/png": "[encoded data removed]",
      "text/plain": [
       "<Figure size 432x288 with 1 Axes>"
      ]
     },
     "metadata": {
      "needs_background": "light"
     },
     "output_type": "display_data"
    }
   ],
   "source": [
    "plt.plot(r.history['loss'], label='loss')\n",
    "plt.plot(r.history['val_loss'], label='val_loss')\n",
    "plt.legend()"
   ]
  },
  {
   "cell_type": "markdown",
   "id": "1ebf1619-5780-40d9-8787-7898ea742be8",
   "metadata": {},
   "source": [
    "### 'Wrong' forecaset using true targets"
   ]
  },
  {
   "cell_type": "code",
   "execution_count": 34,
   "id": "d0fe6377-47a5-4cb5-a45e-66c29d2ed308",
   "metadata": {},
   "outputs": [],
   "source": [
    "validation_target = Y[-N//2:]\n",
    "validation_predictions = []\n",
    "\n",
    "i = -N//2 \n",
    "while len(validation_predictions) < len(validation_target):\n",
    "    p = model.predict(X[i].reshape(1, -1))[0,0] # 1x1 array -> scalar\n",
    "    i += 1\n",
    "    \n",
    "    validation_predictions.append(p)"
   ]
  },
  {
   "cell_type": "code",
   "execution_count": 35,
   "id": "589aa970-5e58-4bbe-803d-9c99e874e65a",
   "metadata": {},
   "outputs": [
    {
     "data": {
      "text/plain": [
       "<matplotlib.legend.Legend at 0x1626f2d7f40>"
      ]
     },
     "execution_count": 35,
     "metadata": {},
     "output_type": "execute_result"
    },
    {
     "data": {
      "image/png": "[encoded data removed]",
      "text/plain": [
       "<Figure size 432x288 with 1 Axes>"
      ]
     },
     "metadata": {
      "needs_background": "light"
     },
     "output_type": "display_data"
    }
   ],
   "source": [
    "plt.plot(validation_target, label='forecast_target')\n",
    "plt.plot(validation_predictions, label='forecast_prediction')\n",
    "plt.legend()"
   ]
  },
  {
   "cell_type": "code",
   "execution_count": 36,
   "id": "54e344fe-22ce-428b-985b-f0ff2411d08d",
   "metadata": {},
   "outputs": [],
   "source": [
    "validation_target = Y[-N//2:]\n",
    "validation_predictions = []\n",
    "\n",
    "# last train input \n",
    "last_x = X[-N//2]"
   ]
  },
  {
   "cell_type": "code",
   "execution_count": 37,
   "id": "c3ad5deb-ecbc-4bfb-814e-47ae26a7e802",
   "metadata": {},
   "outputs": [
    {
     "name": "stdout",
     "output_type": "stream",
     "text": [
      "95\n",
      "[-0.07515112 -0.17432678 -0.27176063 -0.36647913 -0.45753589 -0.54402111\n",
      " -0.62507065 -0.69987469 -0.76768581 -0.82782647]\n"
     ]
    }
   ],
   "source": [
    "print(len(validation_target))\n",
    "print(last_x)"
   ]
  },
  {
   "cell_type": "code",
   "execution_count": 38,
   "id": "96c75caa-c7d1-48d5-9916-cc9902ba5718",
   "metadata": {},
   "outputs": [
    {
     "name": "stdout",
     "output_type": "stream",
     "text": [
      "[[-0.07515112 -0.17432678 -0.27176063 -0.36647913 -0.45753589 -0.54402111\n",
      "  -0.62507065 -0.69987469 -0.76768581 -0.82782647]]\n"
     ]
    }
   ],
   "source": [
    "print(last_x.reshape(1, -1))"
   ]
  },
  {
   "cell_type": "code",
   "execution_count": 39,
   "id": "b3174ae1-a62e-4ff6-84e0-33988ed64106",
   "metadata": {},
   "outputs": [
    {
     "name": "stdout",
     "output_type": "stream",
     "text": [
      "-0.87970537\n"
     ]
    }
   ],
   "source": [
    "print(model.predict(last_x.reshape(1, -1))[0,0])"
   ]
  },
  {
   "cell_type": "code",
   "execution_count": 40,
   "id": "638fadee-b690-43b1-b80d-8df63914c6c0",
   "metadata": {},
   "outputs": [],
   "source": [
    "while len(validation_predictions) < len(validation_target):\n",
    "    p = model.predict(last_x.reshape(1, -1))[0,0] # 1x1 array -> scalar\n",
    "    validation_predictions.append(p)\n",
    "    \n",
    "    last_x = np.roll(last_x, -1)\n",
    "    last_x[-1] = p"
   ]
  },
  {
   "cell_type": "code",
   "execution_count": 41,
   "id": "39d1bad3-37be-4aad-830f-1ee008e1ef5c",
   "metadata": {},
   "outputs": [
    {
     "data": {
      "text/plain": [
       "<matplotlib.legend.Legend at 0x16267c37430>"
      ]
     },
     "execution_count": 41,
     "metadata": {},
     "output_type": "execute_result"
    },
    {
     "data": {
      "image/png": "[encoded data removed]",
      "text/plain": [
       "<Figure size 432x288 with 1 Axes>"
      ]
     },
     "metadata": {
      "needs_background": "light"
     },
     "output_type": "display_data"
    }
   ],
   "source": [
    "plt.plot(validation_target, label='forecast_target')\n",
    "plt.plot(validation_predictions, label='forecast_prediction')\n",
    "plt.legend()"
   ]
  },
  {
   "cell_type": "code",
   "execution_count": 42,
   "id": "93c596a6-0f65-40c3-ae8a-f02d33d7ecf7",
   "metadata": {},
   "outputs": [
    {
     "data": {
      "image/png": "[encoded data removed]",
      "text/plain": [
       "<Figure size 432x288 with 1 Axes>"
      ]
     },
     "metadata": {
      "needs_background": "light"
     },
     "output_type": "display_data"
    }
   ],
   "source": [
    "# make the original data\n",
    "series = np.sin(0.1 * np.arange(200)) + np.random.randn(200)*0.1\n",
    "\n",
    "# plot it\n",
    "plt.plot(series)\n",
    "plt.show()"
   ]
  },
  {
   "cell_type": "code",
   "execution_count": 43,
   "id": "53af7846-8e74-4f48-a8a4-e4c8364de8b6",
   "metadata": {},
   "outputs": [
    {
     "name": "stdout",
     "output_type": "stream",
     "text": [
      "X.shape :  (190, 10) , Y.shape :  (190,)\n"
     ]
    }
   ],
   "source": [
    "# build the dataset\n",
    "# let's see if we can use T pas values to predict the next value\n",
    "T = 10\n",
    "X = []\n",
    "Y = []\n",
    "for t in range(len(series)-T):\n",
    "    x = series[t:t+T]\n",
    "    X.append(x)\n",
    "    y = series[t+T]\n",
    "    Y.append(y)\n",
    "    \n",
    "X = np.array(X).reshape(-1, T)\n",
    "Y = np.array(Y)\n",
    "N = len(X)\n",
    "print('X.shape : ', X.shape, ',', 'Y.shape : ', Y.shape)"
   ]
  },
  {
   "cell_type": "code",
   "execution_count": 44,
   "id": "113becb1-eb63-4755-a373-75f2ab989a18",
   "metadata": {},
   "outputs": [
    {
     "name": "stdout",
     "output_type": "stream",
     "text": [
      "Model: \"model_1\"\n",
      "_________________________________________________________________\n",
      " Layer (type)                Output Shape              Param #   \n",
      "=================================================================\n",
      " input_2 (InputLayer)        [(None, 10)]              0         \n",
      "                                                                 \n",
      " dense_1 (Dense)             (None, 1)                 11        \n",
      "                                                                 \n",
      "=================================================================\n",
      "Total params: 11\n",
      "Trainable params: 11\n",
      "Non-trainable params: 0\n",
      "_________________________________________________________________\n",
      "Epoch 1/80\n"
     ]
    },
    {
     "name": "stderr",
     "output_type": "stream",
     "text": [
      "C:\\Users\\Jay\\anaconda3\\envs\\mlpy38\\lib\\site-packages\\keras\\optimizer_v2\\adam.py:105: UserWarning: The `lr` argument is deprecated, use `learning_rate` instead.\n",
      "  super(Adam, self).__init__(name, **kwargs)\n"
     ]
    },
    {
     "name": "stdout",
     "output_type": "stream",
     "text": [
      "3/3 [==============================] - 0s 44ms/step - loss: 1.5851 - val_loss: 1.3303\n",
      "Epoch 2/80\n",
      "3/3 [==============================] - 0s 12ms/step - loss: 1.1071 - val_loss: 0.9474\n",
      "Epoch 3/80\n",
      "3/3 [==============================] - 0s 12ms/step - loss: 0.7519 - val_loss: 0.6455\n",
      "Epoch 4/80\n",
      "3/3 [==============================] - 0s 12ms/step - loss: 0.4763 - val_loss: 0.4255\n",
      "Epoch 5/80\n",
      "3/3 [==============================] - 0s 13ms/step - loss: 0.2903 - val_loss: 0.2789\n",
      "Epoch 6/80\n",
      "3/3 [==============================] - 0s 12ms/step - loss: 0.1766 - val_loss: 0.1940\n",
      "Epoch 7/80\n",
      "3/3 [==============================] - 0s 12ms/step - loss: 0.1309 - val_loss: 0.1525\n",
      "Epoch 8/80\n",
      "3/3 [==============================] - 0s 12ms/step - loss: 0.1151 - val_loss: 0.1379\n",
      "Epoch 9/80\n",
      "3/3 [==============================] - 0s 11ms/step - loss: 0.1194 - val_loss: 0.1344\n",
      "Epoch 10/80\n",
      "3/3 [==============================] - 0s 11ms/step - loss: 0.1288 - val_loss: 0.1322\n",
      "Epoch 11/80\n",
      "3/3 [==============================] - 0s 12ms/step - loss: 0.1298 - val_loss: 0.1260\n",
      "Epoch 12/80\n",
      "3/3 [==============================] - 0s 13ms/step - loss: 0.1237 - val_loss: 0.1154\n",
      "Epoch 13/80\n",
      "3/3 [==============================] - 0s 12ms/step - loss: 0.1106 - val_loss: 0.1031\n",
      "Epoch 14/80\n",
      "3/3 [==============================] - 0s 12ms/step - loss: 0.0974 - val_loss: 0.0908\n",
      "Epoch 15/80\n",
      "3/3 [==============================] - 0s 13ms/step - loss: 0.0830 - val_loss: 0.0811\n",
      "Epoch 16/80\n",
      "3/3 [==============================] - 0s 12ms/step - loss: 0.0749 - val_loss: 0.0739\n",
      "Epoch 17/80\n",
      "3/3 [==============================] - 0s 12ms/step - loss: 0.0685 - val_loss: 0.0690\n",
      "Epoch 18/80\n",
      "3/3 [==============================] - 0s 11ms/step - loss: 0.0637 - val_loss: 0.0654\n",
      "Epoch 19/80\n",
      "3/3 [==============================] - 0s 10ms/step - loss: 0.0621 - val_loss: 0.0623\n",
      "Epoch 20/80\n",
      "3/3 [==============================] - 0s 11ms/step - loss: 0.0592 - val_loss: 0.0590\n",
      "Epoch 21/80\n",
      "3/3 [==============================] - 0s 12ms/step - loss: 0.0562 - val_loss: 0.0554\n",
      "Epoch 22/80\n",
      "3/3 [==============================] - 0s 13ms/step - loss: 0.0530 - val_loss: 0.0515\n",
      "Epoch 23/80\n",
      "3/3 [==============================] - 0s 12ms/step - loss: 0.0494 - val_loss: 0.0480\n",
      "Epoch 24/80\n",
      "3/3 [==============================] - 0s 12ms/step - loss: 0.0463 - val_loss: 0.0450\n",
      "Epoch 25/80\n",
      "3/3 [==============================] - 0s 12ms/step - loss: 0.0433 - val_loss: 0.0425\n",
      "Epoch 26/80\n",
      "3/3 [==============================] - 0s 13ms/step - loss: 0.0412 - val_loss: 0.0402\n",
      "Epoch 27/80\n",
      "3/3 [==============================] - 0s 11ms/step - loss: 0.0391 - val_loss: 0.0382\n",
      "Epoch 28/80\n",
      "3/3 [==============================] - 0s 12ms/step - loss: 0.0373 - val_loss: 0.0363\n",
      "Epoch 29/80\n",
      "3/3 [==============================] - 0s 11ms/step - loss: 0.0355 - val_loss: 0.0346\n",
      "Epoch 30/80\n",
      "3/3 [==============================] - 0s 11ms/step - loss: 0.0339 - val_loss: 0.0330\n",
      "Epoch 31/80\n",
      "3/3 [==============================] - 0s 12ms/step - loss: 0.0325 - val_loss: 0.0316\n",
      "Epoch 32/80\n",
      "3/3 [==============================] - 0s 13ms/step - loss: 0.0312 - val_loss: 0.0303\n",
      "Epoch 33/80\n",
      "3/3 [==============================] - 0s 12ms/step - loss: 0.0300 - val_loss: 0.0292\n",
      "Epoch 34/80\n",
      "3/3 [==============================] - 0s 12ms/step - loss: 0.0289 - val_loss: 0.0281\n",
      "Epoch 35/80\n",
      "3/3 [==============================] - 0s 12ms/step - loss: 0.0280 - val_loss: 0.0271\n",
      "Epoch 36/80\n",
      "3/3 [==============================] - 0s 13ms/step - loss: 0.0271 - val_loss: 0.0263\n",
      "Epoch 37/80\n",
      "3/3 [==============================] - 0s 12ms/step - loss: 0.0263 - val_loss: 0.0254\n",
      "Epoch 38/80\n",
      "3/3 [==============================] - 0s 12ms/step - loss: 0.0256 - val_loss: 0.0247\n",
      "Epoch 39/80\n",
      "3/3 [==============================] - 0s 12ms/step - loss: 0.0250 - val_loss: 0.0240\n",
      "Epoch 40/80\n",
      "3/3 [==============================] - 0s 11ms/step - loss: 0.0245 - val_loss: 0.0235\n",
      "Epoch 41/80\n",
      "3/3 [==============================] - 0s 12ms/step - loss: 0.0239 - val_loss: 0.0230\n",
      "Epoch 42/80\n",
      "3/3 [==============================] - 0s 12ms/step - loss: 0.0235 - val_loss: 0.0226\n",
      "Epoch 43/80\n",
      "3/3 [==============================] - 0s 12ms/step - loss: 0.0231 - val_loss: 0.0222\n",
      "Epoch 44/80\n",
      "3/3 [==============================] - 0s 12ms/step - loss: 0.0228 - val_loss: 0.0219\n",
      "Epoch 45/80\n",
      "3/3 [==============================] - 0s 13ms/step - loss: 0.0225 - val_loss: 0.0216\n",
      "Epoch 46/80\n",
      "3/3 [==============================] - 0s 12ms/step - loss: 0.0222 - val_loss: 0.0214\n",
      "Epoch 47/80\n",
      "3/3 [==============================] - 0s 11ms/step - loss: 0.0220 - val_loss: 0.0211\n",
      "Epoch 48/80\n",
      "3/3 [==============================] - 0s 13ms/step - loss: 0.0219 - val_loss: 0.0210\n",
      "Epoch 49/80\n",
      "3/3 [==============================] - 0s 13ms/step - loss: 0.0217 - val_loss: 0.0208\n",
      "Epoch 50/80\n",
      "3/3 [==============================] - 0s 13ms/step - loss: 0.0215 - val_loss: 0.0207\n",
      "Epoch 51/80\n",
      "3/3 [==============================] - 0s 12ms/step - loss: 0.0213 - val_loss: 0.0205\n",
      "Epoch 52/80\n",
      "3/3 [==============================] - 0s 11ms/step - loss: 0.0213 - val_loss: 0.0204\n",
      "Epoch 53/80\n",
      "3/3 [==============================] - 0s 12ms/step - loss: 0.0211 - val_loss: 0.0203\n",
      "Epoch 54/80\n",
      "3/3 [==============================] - 0s 12ms/step - loss: 0.0210 - val_loss: 0.0203\n",
      "Epoch 55/80\n",
      "3/3 [==============================] - 0s 13ms/step - loss: 0.0209 - val_loss: 0.0202\n",
      "Epoch 56/80\n",
      "3/3 [==============================] - 0s 12ms/step - loss: 0.0209 - val_loss: 0.0201\n",
      "Epoch 57/80\n",
      "3/3 [==============================] - 0s 13ms/step - loss: 0.0208 - val_loss: 0.0201\n",
      "Epoch 58/80\n",
      "3/3 [==============================] - 0s 13ms/step - loss: 0.0207 - val_loss: 0.0200\n",
      "Epoch 59/80\n",
      "3/3 [==============================] - 0s 13ms/step - loss: 0.0207 - val_loss: 0.0200\n",
      "Epoch 60/80\n",
      "3/3 [==============================] - 0s 12ms/step - loss: 0.0207 - val_loss: 0.0200\n",
      "Epoch 61/80\n",
      "3/3 [==============================] - 0s 13ms/step - loss: 0.0206 - val_loss: 0.0199\n",
      "Epoch 62/80\n",
      "3/3 [==============================] - 0s 12ms/step - loss: 0.0206 - val_loss: 0.0199\n",
      "Epoch 63/80\n",
      "3/3 [==============================] - 0s 12ms/step - loss: 0.0205 - val_loss: 0.0199\n",
      "Epoch 64/80\n",
      "3/3 [==============================] - 0s 12ms/step - loss: 0.0205 - val_loss: 0.0198\n",
      "Epoch 65/80\n",
      "3/3 [==============================] - 0s 11ms/step - loss: 0.0205 - val_loss: 0.0198\n",
      "Epoch 66/80\n",
      "3/3 [==============================] - 0s 11ms/step - loss: 0.0205 - val_loss: 0.0198\n",
      "Epoch 67/80\n",
      "3/3 [==============================] - 0s 12ms/step - loss: 0.0204 - val_loss: 0.0197\n",
      "Epoch 68/80\n",
      "3/3 [==============================] - 0s 12ms/step - loss: 0.0204 - val_loss: 0.0197\n",
      "Epoch 69/80\n",
      "3/3 [==============================] - 0s 12ms/step - loss: 0.0203 - val_loss: 0.0197\n",
      "Epoch 70/80\n",
      "3/3 [==============================] - 0s 11ms/step - loss: 0.0203 - val_loss: 0.0197\n",
      "Epoch 71/80\n",
      "3/3 [==============================] - 0s 11ms/step - loss: 0.0202 - val_loss: 0.0196\n",
      "Epoch 72/80\n",
      "3/3 [==============================] - 0s 13ms/step - loss: 0.0203 - val_loss: 0.0196\n",
      "Epoch 73/80\n",
      "3/3 [==============================] - 0s 12ms/step - loss: 0.0202 - val_loss: 0.0196\n",
      "Epoch 74/80\n",
      "3/3 [==============================] - 0s 12ms/step - loss: 0.0202 - val_loss: 0.0196\n",
      "Epoch 75/80\n",
      "3/3 [==============================] - 0s 12ms/step - loss: 0.0202 - val_loss: 0.0196\n",
      "Epoch 76/80\n",
      "3/3 [==============================] - 0s 12ms/step - loss: 0.0201 - val_loss: 0.0196\n",
      "Epoch 77/80\n",
      "3/3 [==============================] - 0s 13ms/step - loss: 0.0201 - val_loss: 0.0195\n",
      "Epoch 78/80\n",
      "3/3 [==============================] - 0s 11ms/step - loss: 0.0201 - val_loss: 0.0195\n",
      "Epoch 79/80\n",
      "3/3 [==============================] - 0s 11ms/step - loss: 0.0200 - val_loss: 0.0195\n",
      "Epoch 80/80\n",
      "3/3 [==============================] - 0s 11ms/step - loss: 0.0200 - val_loss: 0.0194\n"
     ]
    }
   ],
   "source": [
    "# linear model\n",
    "i = Input(shape=(T, ))\n",
    "x = Dense(1)(i)\n",
    "\n",
    "model = Model(i, x)\n",
    "model.summary()\n",
    "\n",
    "model.compile(loss='mse', optimizer=Adam(lr=0.01))\n",
    "# X : 학습데이터, Y : 정답데이터,  epochs=80, validation_data : 검증 데이터\n",
    "r = model.fit(X[:-N//2], Y[:-N//2], epochs=80, validation_data=(X[-N//2:], Y[-N//2:]))"
   ]
  },
  {
   "cell_type": "code",
   "execution_count": 45,
   "id": "489538c1-8b4d-41a4-9fe0-7c79802e0d46",
   "metadata": {},
   "outputs": [
    {
     "data": {
      "text/plain": [
       "<matplotlib.legend.Legend at 0x162706e9400>"
      ]
     },
     "execution_count": 45,
     "metadata": {},
     "output_type": "execute_result"
    },
    {
     "data": {
      "image/png": "[encoded data removed]",
      "text/plain": [
       "<Figure size 432x288 with 1 Axes>"
      ]
     },
     "metadata": {
      "needs_background": "light"
     },
     "output_type": "display_data"
    }
   ],
   "source": [
    "plt.plot(r.history['loss'], label='loss')\n",
    "plt.plot(r.history['val_loss'], label='val_loss')\n",
    "plt.legend()"
   ]
  },
  {
   "cell_type": "code",
   "execution_count": 46,
   "id": "ef402b73-1b94-4cab-8a83-c3243ef5032a",
   "metadata": {},
   "outputs": [
    {
     "data": {
      "text/plain": [
       "<matplotlib.legend.Legend at 0x162717734f0>"
      ]
     },
     "execution_count": 46,
     "metadata": {},
     "output_type": "execute_result"
    },
    {
     "data": {
      "image/png": "[encoded data removed]",
      "text/plain": [
       "<Figure size 432x288 with 1 Axes>"
      ]
     },
     "metadata": {
      "needs_background": "light"
     },
     "output_type": "display_data"
    }
   ],
   "source": [
    "validation_target = Y[-N//2:]\n",
    "validation_predictions = []\n",
    "\n",
    "i = -N//2 \n",
    "while len(validation_predictions) < len(validation_target):\n",
    "    p = model.predict(X[i].reshape(1, -1))[0,0] # 1x1 array -> scalar\n",
    "    i += 1\n",
    "    \n",
    "    validation_predictions.append(p)\n",
    "    \n",
    "plt.plot(validation_target, label='forecast_target')\n",
    "plt.plot(validation_predictions, label='forecast_prediction')\n",
    "plt.legend()"
   ]
  },
  {
   "cell_type": "code",
   "execution_count": 47,
   "id": "7fe46276-093b-4935-ab27-2882825fd30a",
   "metadata": {},
   "outputs": [],
   "source": [
    "validation_target = Y[-N//2:]\n",
    "validation_predictions = []\n",
    "\n",
    "# last train input \n",
    "last_x = X[-N//2]"
   ]
  },
  {
   "cell_type": "code",
   "execution_count": 48,
   "id": "45f2d4ab-7f6b-474c-8597-745dc14fae7d",
   "metadata": {},
   "outputs": [
    {
     "name": "stdout",
     "output_type": "stream",
     "text": [
      "95\n",
      "[-0.06487855 -0.17870359 -0.29518282 -0.35499403 -0.34138979 -0.41921551\n",
      " -0.61984734 -0.58984641 -0.65663928 -0.94261715]\n"
     ]
    }
   ],
   "source": [
    "print(len(validation_target))\n",
    "print(last_x)"
   ]
  },
  {
   "cell_type": "code",
   "execution_count": 49,
   "id": "4e76d7b0-0eca-4acc-8c28-5061657777b5",
   "metadata": {},
   "outputs": [
    {
     "name": "stdout",
     "output_type": "stream",
     "text": [
      "[[-0.06487855 -0.17870359 -0.29518282 -0.35499403 -0.34138979 -0.41921551\n",
      "  -0.61984734 -0.58984641 -0.65663928 -0.94261715]]\n"
     ]
    }
   ],
   "source": [
    "print(last_x.reshape(1, -1))"
   ]
  },
  {
   "cell_type": "code",
   "execution_count": 50,
   "id": "5108f737-7ccc-4153-ab95-e9ecd174ebf6",
   "metadata": {},
   "outputs": [
    {
     "name": "stdout",
     "output_type": "stream",
     "text": [
      "-0.79495114\n"
     ]
    }
   ],
   "source": [
    "print(model.predict(last_x.reshape(1, -1))[0,0])"
   ]
  },
  {
   "cell_type": "code",
   "execution_count": 51,
   "id": "607212f7-6e15-45b5-83fd-081a34700ad7",
   "metadata": {},
   "outputs": [],
   "source": [
    "while len(validation_predictions) < len(validation_target):\n",
    "    p = model.predict(last_x.reshape(1, -1))[0,0] # 1x1 array -> scalar\n",
    "    validation_predictions.append(p)\n",
    "    \n",
    "    last_x = np.roll(last_x, -1)\n",
    "    last_x[-1] = p"
   ]
  },
  {
   "cell_type": "code",
   "execution_count": 52,
   "id": "a12f1516-b8c7-4061-93b2-e9397af6a624",
   "metadata": {},
   "outputs": [
    {
     "data": {
      "text/plain": [
       "<matplotlib.legend.Legend at 0x16271944910>"
      ]
     },
     "execution_count": 52,
     "metadata": {},
     "output_type": "execute_result"
    },
    {
     "data": {
      "image/png": "[encoded data removed]",
      "text/plain": [
       "<Figure size 432x288 with 1 Axes>"
      ]
     },
     "metadata": {
      "needs_background": "light"
     },
     "output_type": "display_data"
    }
   ],
   "source": [
    "plt.plot(validation_target, label='forecast_target')\n",
    "plt.plot(validation_predictions, label='forecast_prediction')\n",
    "plt.legend()"
   ]
  },
  {
   "cell_type": "code",
   "execution_count": null,
   "id": "310b167d-b534-457c-9d1e-21db8502206f",
   "metadata": {},
   "outputs": [],
   "source": []
  },
  {
   "cell_type": "code",
   "execution_count": null,
   "id": "546e637e-44ec-4245-a43a-968a2a1aa5a6",
   "metadata": {},
   "outputs": [],
   "source": []
  }
 ],
 "metadata": {
  "kernelspec": {
   "display_name": "mlpy38",
   "language": "python",
   "name": "mlpy38"
  },
  "language_info": {
   "codemirror_mode": {
    "name": "ipython",
    "version": 3
   },
   "file_extension": ".py",
   "mimetype": "text/x-python",
   "name": "python",
   "nbconvert_exporter": "python",
   "pygments_lexer": "ipython3",
   "version": "3.8.12"
  }
 },
 "nbformat": 4,
 "nbformat_minor": 5
}

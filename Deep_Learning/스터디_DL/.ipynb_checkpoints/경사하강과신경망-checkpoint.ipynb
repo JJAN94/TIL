{
 "cells": [
  {
   "cell_type": "markdown",
   "id": "27bfdbe5-b3ee-4354-9829-d84159cc09e6",
   "metadata": {},
   "source": [
    "# 경사 하강법을 이용한 얕은 신경망 학습"
   ]
  },
  {
   "cell_type": "code",
   "execution_count": 55,
   "id": "7447717d-16a2-45cf-be64-1bb470eaa9ec",
   "metadata": {},
   "outputs": [],
   "source": [
    "import tensorflow as tf\n",
    "import numpy as np"
   ]
  },
  {
   "cell_type": "markdown",
   "id": "fe81feb6-2131-4adb-bc74-4527bbd31661",
   "metadata": {},
   "source": [
    "### 하이퍼 파라미터 설정"
   ]
  },
  {
   "cell_type": "code",
   "execution_count": 56,
   "id": "5b29b835-aac8-4aa6-9632-c5d07d16faf8",
   "metadata": {},
   "outputs": [],
   "source": [
    "EPOCHS = 100"
   ]
  },
  {
   "cell_type": "markdown",
   "id": "504ade34-61a3-43ef-be92-d69e4e1ee5f0",
   "metadata": {},
   "source": [
    "### 네트워크 구조 정의\n",
    "- 얕은 신경망\n",
    "- 입력 계층 : 2, 은닉 계층 : 128(sigmoid activation), 출력 계층 : 10 (Softmax activation)"
   ]
  },
  {
   "cell_type": "code",
   "execution_count": 57,
   "id": "7247f54b-e709-424f-bb4d-2c01ab136d62",
   "metadata": {},
   "outputs": [],
   "source": [
    "class MyModel(tf.keras.Model) :\n",
    "    def __init__(self) :\n",
    "        super(MyModel, self).__init__()\n",
    "        self.d1 = tf.keras.layers.Dense(128, input_dim=2, activation='sigmoid')\n",
    "        self.d2 = tf.keras.layers.Dense(10, input_dim=2, activation='softmax')\n",
    "        \n",
    "    def call(self, x, training=None, mask=None) :\n",
    "        x = self.d1(x)\n",
    "        return self.d2(x)"
   ]
  },
  {
   "cell_type": "markdown",
   "id": "01d8cfaa-56a4-4bb5-acc1-90f7e6153a16",
   "metadata": {},
   "source": [
    "### 학습 루프 정의"
   ]
  },
  {
   "cell_type": "code",
   "execution_count": 58,
   "id": "92b07542-52f1-4ed8-8238-9c464841a2bb",
   "metadata": {},
   "outputs": [],
   "source": [
    "@tf.function\n",
    "def train_step(model, inputs, labels, loss_object, optimizer, train_loss, train_metric) :\n",
    "    with tf.GradientTape() as tape :\n",
    "        predictions = model(inputs)\n",
    "        loss = loss_object(labels, predictions)\n",
    "    gradients = tape.gradient(loss, model.trainable_variables) #df(x)/dx\n",
    "    \n",
    "    optimizer.apply_gradients(zip(gradients, model.trainable_variables))\n",
    "    train_loss(loss)\n",
    "    train_metric(labels, predictions)\n",
    "    \n",
    "# @tf.function\n",
    "# def train_step(model, inputs, labels, loss_object, optimizer, train_loss, train_metric):\n",
    "#     with tf.GradientTape() as tape:\n",
    "#         predictions = model(inputs)\n",
    "#         loss = loss_object(labels, predictions)\n",
    "#     gradients = tape.gradient(loss, model.trainable_variables) # df(x)/dx\n",
    "    \n",
    "#     optimizer.apply_gradients(zip(gradients, model.trainable_variables))\n",
    "#     train_loss(loss)\n",
    "#     train_metric(labels, predictions)"
   ]
  },
  {
   "cell_type": "markdown",
   "id": "20aa4b1f-458b-46cb-a15f-6fedaa201def",
   "metadata": {},
   "source": [
    "### 데이터셋 생성, 전처리"
   ]
  },
  {
   "cell_type": "code",
   "execution_count": 59,
   "id": "5b9908bd-e44f-4345-ac1a-69394e7483d5",
   "metadata": {},
   "outputs": [],
   "source": [
    "np.random.seed(0)\n",
    "\n",
    "pts = list()\n",
    "labels = list()\n",
    "center_pts = np.random.uniform(-8.0, 8.0, (10,2))\n",
    "for label, center_pt in enumerate(center_pts) :\n",
    "    for _ in range(100) :\n",
    "        pts.append(center_pt + np.random.rand(*center_pt.shape))\n",
    "        labels.append(label)\n",
    "        \n",
    "pts = np.stack(pts, axis=0).astype(np.float32)\n",
    "labels = np.stack(labels, axis=0)\n",
    "\n",
    "train_ds = tf.data.Dataset.from_tensor_slices((pts, labels)).shuffle(1000).batch(32)"
   ]
  },
  {
   "cell_type": "markdown",
   "id": "5daa912d-b66c-48cb-af8b-6808a6bc3d97",
   "metadata": {},
   "source": [
    "### 모델 생성"
   ]
  },
  {
   "cell_type": "code",
   "execution_count": 60,
   "id": "029ed399-b254-4dd3-b12e-a54c9cae7d89",
   "metadata": {},
   "outputs": [],
   "source": [
    "model = MyModel()"
   ]
  },
  {
   "cell_type": "markdown",
   "id": "16d108b4-cbce-4ecf-9d92-2761015ec0df",
   "metadata": {},
   "source": [
    "### 손실 함수 및 최적화 알고리즘 설정\n",
    "- CrossEntropy, Adam Optimizer"
   ]
  },
  {
   "cell_type": "code",
   "execution_count": 61,
   "id": "b233898b-ca28-4c49-a7f4-f472af5034d5",
   "metadata": {},
   "outputs": [],
   "source": [
    "loss_object = tf.keras.losses.SparseCategoricalCrossentropy()\n",
    "optimizer = tf.keras.optimizers.Adam()"
   ]
  },
  {
   "cell_type": "markdown",
   "id": "0284c795-649b-4c86-bf85-f97a0e5b8d09",
   "metadata": {},
   "source": [
    "### 평가 지표 설정\n",
    "- Accuracy"
   ]
  },
  {
   "cell_type": "code",
   "execution_count": 62,
   "id": "317fef5c-7cf5-46db-9214-0ecf1692fd26",
   "metadata": {},
   "outputs": [],
   "source": [
    "train_loss = tf.keras.metrics.Mean(name='train_loss')\n",
    "train_accuracy = tf.keras.metrics.SparseCategoricalAccuracy(name='train_accuracy')"
   ]
  },
  {
   "cell_type": "markdown",
   "id": "713e033f-b6ca-410a-9c09-fa3c6fff53a5",
   "metadata": {},
   "source": [
    "### 학습 루프"
   ]
  },
  {
   "cell_type": "code",
   "execution_count": 63,
   "id": "6cc58f7d-319f-46bb-b177-c7b778712d28",
   "metadata": {},
   "outputs": [
    {
     "name": "stdout",
     "output_type": "stream",
     "text": [
      "Epoch : 1, Loss : 2.2030646800994873, Accuracy : 30.89999771118164\n",
      "Epoch : 2, Loss : 1.837672233581543, Accuracy : 46.39999771118164\n",
      "Epoch : 3, Loss : 1.5876739025115967, Accuracy : 57.5\n",
      "Epoch : 4, Loss : 1.4245270490646362, Accuracy : 65.5\n",
      "Epoch : 5, Loss : 1.3007673025131226, Accuracy : 73.0999984741211\n",
      "Epoch : 6, Loss : 1.1895177364349365, Accuracy : 89.20000457763672\n",
      "Epoch : 7, Loss : 1.089059829711914, Accuracy : 87.0\n",
      "Epoch : 8, Loss : 1.0112677812576294, Accuracy : 90.0\n",
      "Epoch : 9, Loss : 0.9473810195922852, Accuracy : 95.80000305175781\n",
      "Epoch : 10, Loss : 0.8717984557151794, Accuracy : 97.0999984741211\n",
      "Epoch : 11, Loss : 0.8181965947151184, Accuracy : 95.0999984741211\n",
      "Epoch : 12, Loss : 0.7685077786445618, Accuracy : 98.5\n",
      "Epoch : 13, Loss : 0.7191131711006165, Accuracy : 98.9000015258789\n",
      "Epoch : 14, Loss : 0.6813620924949646, Accuracy : 99.9000015258789\n",
      "Epoch : 15, Loss : 0.6363794803619385, Accuracy : 100.0\n",
      "Epoch : 16, Loss : 0.5943858623504639, Accuracy : 100.0\n",
      "Epoch : 17, Loss : 0.5673797130584717, Accuracy : 99.80000305175781\n",
      "Epoch : 18, Loss : 0.5355364084243774, Accuracy : 100.0\n",
      "Epoch : 19, Loss : 0.5039849281311035, Accuracy : 98.79999542236328\n",
      "Epoch : 20, Loss : 0.47577619552612305, Accuracy : 100.0\n",
      "Epoch : 21, Loss : 0.43800660967826843, Accuracy : 100.0\n",
      "Epoch : 22, Loss : 0.42194467782974243, Accuracy : 100.0\n",
      "Epoch : 23, Loss : 0.3944970369338989, Accuracy : 100.0\n",
      "Epoch : 24, Loss : 0.37364351749420166, Accuracy : 100.0\n",
      "Epoch : 25, Loss : 0.35107553005218506, Accuracy : 100.0\n",
      "Epoch : 26, Loss : 0.3326692283153534, Accuracy : 100.0\n",
      "Epoch : 27, Loss : 0.31916072964668274, Accuracy : 100.0\n",
      "Epoch : 28, Loss : 0.3011024594306946, Accuracy : 100.0\n",
      "Epoch : 29, Loss : 0.2816784679889679, Accuracy : 100.0\n",
      "Epoch : 30, Loss : 0.269477903842926, Accuracy : 100.0\n",
      "Epoch : 31, Loss : 0.25605809688568115, Accuracy : 100.0\n",
      "Epoch : 32, Loss : 0.2391984611749649, Accuracy : 100.0\n",
      "Epoch : 33, Loss : 0.22783610224723816, Accuracy : 100.0\n",
      "Epoch : 34, Loss : 0.21460570394992828, Accuracy : 100.0\n",
      "Epoch : 35, Loss : 0.20619991421699524, Accuracy : 100.0\n",
      "Epoch : 36, Loss : 0.19659394025802612, Accuracy : 100.0\n",
      "Epoch : 37, Loss : 0.1860801726579666, Accuracy : 100.0\n",
      "Epoch : 38, Loss : 0.17852190136909485, Accuracy : 100.0\n",
      "Epoch : 39, Loss : 0.16850654780864716, Accuracy : 100.0\n",
      "Epoch : 40, Loss : 0.16110192239284515, Accuracy : 100.0\n",
      "Epoch : 41, Loss : 0.15368354320526123, Accuracy : 100.0\n",
      "Epoch : 42, Loss : 0.14839786291122437, Accuracy : 100.0\n",
      "Epoch : 43, Loss : 0.1402578204870224, Accuracy : 100.0\n",
      "Epoch : 44, Loss : 0.13422426581382751, Accuracy : 100.0\n",
      "Epoch : 45, Loss : 0.12685836851596832, Accuracy : 100.0\n",
      "Epoch : 46, Loss : 0.1235755980014801, Accuracy : 100.0\n",
      "Epoch : 47, Loss : 0.11749635636806488, Accuracy : 100.0\n",
      "Epoch : 48, Loss : 0.11233769357204437, Accuracy : 100.0\n",
      "Epoch : 49, Loss : 0.10771192610263824, Accuracy : 100.0\n",
      "Epoch : 50, Loss : 0.10353145003318787, Accuracy : 100.0\n",
      "Epoch : 51, Loss : 0.09895267337560654, Accuracy : 100.0\n",
      "Epoch : 52, Loss : 0.095633365213871, Accuracy : 100.0\n",
      "Epoch : 53, Loss : 0.09165912866592407, Accuracy : 100.0\n",
      "Epoch : 54, Loss : 0.08838993310928345, Accuracy : 100.0\n",
      "Epoch : 55, Loss : 0.08475583046674728, Accuracy : 100.0\n",
      "Epoch : 56, Loss : 0.08142681419849396, Accuracy : 100.0\n",
      "Epoch : 57, Loss : 0.07912254333496094, Accuracy : 100.0\n",
      "Epoch : 58, Loss : 0.07673665136098862, Accuracy : 100.0\n",
      "Epoch : 59, Loss : 0.07343188673257828, Accuracy : 100.0\n",
      "Epoch : 60, Loss : 0.07053542137145996, Accuracy : 100.0\n",
      "Epoch : 61, Loss : 0.06863697618246078, Accuracy : 100.0\n",
      "Epoch : 62, Loss : 0.0651991218328476, Accuracy : 100.0\n",
      "Epoch : 63, Loss : 0.06361458450555801, Accuracy : 100.0\n",
      "Epoch : 64, Loss : 0.061831578612327576, Accuracy : 100.0\n",
      "Epoch : 65, Loss : 0.05902360752224922, Accuracy : 100.0\n",
      "Epoch : 66, Loss : 0.05687272921204567, Accuracy : 100.0\n",
      "Epoch : 67, Loss : 0.05533668398857117, Accuracy : 100.0\n",
      "Epoch : 68, Loss : 0.05352092534303665, Accuracy : 100.0\n",
      "Epoch : 69, Loss : 0.051385343074798584, Accuracy : 100.0\n",
      "Epoch : 70, Loss : 0.04994798079133034, Accuracy : 100.0\n",
      "Epoch : 71, Loss : 0.04917226731777191, Accuracy : 100.0\n",
      "Epoch : 72, Loss : 0.04721192270517349, Accuracy : 100.0\n",
      "Epoch : 73, Loss : 0.04567757248878479, Accuracy : 100.0\n",
      "Epoch : 74, Loss : 0.04348652437329292, Accuracy : 100.0\n",
      "Epoch : 75, Loss : 0.04242560267448425, Accuracy : 100.0\n",
      "Epoch : 76, Loss : 0.04204374551773071, Accuracy : 100.0\n",
      "Epoch : 77, Loss : 0.04009858891367912, Accuracy : 100.0\n",
      "Epoch : 78, Loss : 0.03892097622156143, Accuracy : 100.0\n",
      "Epoch : 79, Loss : 0.03786060959100723, Accuracy : 100.0\n",
      "Epoch : 80, Loss : 0.0373028889298439, Accuracy : 100.0\n",
      "Epoch : 81, Loss : 0.03572601079940796, Accuracy : 100.0\n",
      "Epoch : 82, Loss : 0.034535013139247894, Accuracy : 100.0\n",
      "Epoch : 83, Loss : 0.03337812051177025, Accuracy : 100.0\n",
      "Epoch : 84, Loss : 0.03234139457345009, Accuracy : 100.0\n",
      "Epoch : 85, Loss : 0.03160737827420235, Accuracy : 100.0\n",
      "Epoch : 86, Loss : 0.031121227890253067, Accuracy : 100.0\n",
      "Epoch : 87, Loss : 0.02984657511115074, Accuracy : 100.0\n",
      "Epoch : 88, Loss : 0.02914479933679104, Accuracy : 100.0\n",
      "Epoch : 89, Loss : 0.028145531192421913, Accuracy : 100.0\n",
      "Epoch : 90, Loss : 0.027416612952947617, Accuracy : 100.0\n",
      "Epoch : 91, Loss : 0.026671476662158966, Accuracy : 100.0\n",
      "Epoch : 92, Loss : 0.0259009450674057, Accuracy : 100.0\n",
      "Epoch : 93, Loss : 0.025260377675294876, Accuracy : 100.0\n",
      "Epoch : 94, Loss : 0.024562375620007515, Accuracy : 100.0\n",
      "Epoch : 95, Loss : 0.02389594167470932, Accuracy : 100.0\n",
      "Epoch : 96, Loss : 0.023539401590824127, Accuracy : 100.0\n",
      "Epoch : 97, Loss : 0.022599466145038605, Accuracy : 100.0\n",
      "Epoch : 98, Loss : 0.022075125947594643, Accuracy : 100.0\n",
      "Epoch : 99, Loss : 0.021966366097331047, Accuracy : 100.0\n",
      "Epoch : 100, Loss : 0.0214422307908535, Accuracy : 100.0\n"
     ]
    }
   ],
   "source": [
    "for epoch in range(EPOCHS) :\n",
    "    for x, label in train_ds :\n",
    "        train_step(model, x, label, loss_object, optimizer, train_loss, train_accuracy)\n",
    "        \n",
    "    template = 'Epoch : {}, Loss : {}, Accuracy : {}'\n",
    "    print(template.format(epoch+1, train_loss.result(), train_accuracy.result()*100))\n",
    "        \n",
    "    train_loss.reset_states()\n",
    "    train_accuracy.reset_states()"
   ]
  },
  {
   "cell_type": "markdown",
   "id": "c3916d80-20d5-4fbd-85a6-3d863a10addf",
   "metadata": {},
   "source": [
    "### 데이터셋"
   ]
  },
  {
   "cell_type": "code",
   "execution_count": 64,
   "id": "531f192d-02e5-4acc-a856-847d32874142",
   "metadata": {},
   "outputs": [],
   "source": [
    "np.savez_compressed('ch2_dataset.npz', inputs=pts, labels=labels)\n",
    "\n",
    "w_h, b_h = model.d1.get_weights() \n",
    "w_o, b_o = model.d2.get_weights()\n",
    "w_h = w_h.T\n",
    "w_o = w_o.T\n",
    "np.savez_compressed('ch2_parameters.npz', w_h=w_h, b_h=b_h\n",
    "                   , w_o = w_o, b_o = b_o)"
   ]
  },
  {
   "cell_type": "code",
   "execution_count": null,
   "id": "60a70a84-b6a3-467a-b77f-91ba6805fdea",
   "metadata": {},
   "outputs": [],
   "source": []
  },
  {
   "cell_type": "code",
   "execution_count": null,
   "id": "4923b96c-2977-4ce6-ad74-4eb5b5582706",
   "metadata": {},
   "outputs": [],
   "source": []
  }
 ],
 "metadata": {
  "kernelspec": {
   "display_name": "Python 3",
   "language": "python",
   "name": "python3"
  },
  "language_info": {
   "codemirror_mode": {
    "name": "ipython",
    "version": 3
   },
   "file_extension": ".py",
   "mimetype": "text/x-python",
   "name": "python",
   "nbconvert_exporter": "python",
   "pygments_lexer": "ipython3",
   "version": "3.8.8"
  }
 },
 "nbformat": 4,
 "nbformat_minor": 5
}

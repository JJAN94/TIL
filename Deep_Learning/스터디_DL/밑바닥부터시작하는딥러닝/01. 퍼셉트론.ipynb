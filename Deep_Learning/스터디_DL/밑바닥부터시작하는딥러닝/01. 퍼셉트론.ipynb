{
 "cells": [
  {
   "cell_type": "markdown",
   "metadata": {},
   "source": [
    "## 퍼셉트론\n",
    "- 프랑크 로젠블라트가 1957년에 고안한 알고리즘\n",
    "- 신경망의 기원이 되는 알고리즘"
   ]
  },
  {
   "cell_type": "markdown",
   "metadata": {},
   "source": [
    "#### 입력으로 2개 신호를 받는 퍼셉트론의 예\n",
    "- x1, x2 : 입력신호\n",
    "- y : 출력신호\n",
    "- w1, w2 : 가중치(weight)"
   ]
  },
  {
   "cell_type": "markdown",
   "metadata": {},
   "source": [
    "$$ \n",
    "\\begin{align}\n",
    "\\text{y} \n",
    "=\n",
    "\\begin{cases} \n",
    "0 & (w_1x_1+w_2x_2 \\le \\theta) \\\\  \n",
    "1 & (w_1x_1+w_2x_2 > \\theta)\n",
    "\\end{cases} \n",
    "\\end{align}\n",
    "$$\n",
    "\n",
    "- 뉴런에서 보내온 신호의 총합이 정해진 한계를 넘어설 때만 1을 출력 (뉴런의 활성화)\n",
    "- 그 한계를 임계값이라 하고 $ \\theta $ 로 표기함"
   ]
  },
  {
   "cell_type": "markdown",
   "metadata": {},
   "source": [
    "## 단순한 논리 회로\n",
    "### AND 게이트"
   ]
  },
  {
   "cell_type": "markdown",
   "metadata": {},
   "source": [
    "- 진리표 \n",
    "\n",
    "| $ x_1 $ | $ x_2 $ | $y$ |\n",
    "| :-:     | :-:     | :-: |\n",
    "| 0       | 0       | 0   |\n",
    "| 1       | 0       | 0   |\n",
    "| 0       | 1       | 0   |\n",
    "| 1       | 1       | 1   |"
   ]
  },
  {
   "cell_type": "code",
   "execution_count": null,
   "metadata": {},
   "outputs": [],
   "source": []
  }
 ],
 "metadata": {
  "kernelspec": {
   "display_name": "Python 3",
   "language": "python",
   "name": "python3"
  },
  "language_info": {
   "codemirror_mode": {
    "name": "ipython",
    "version": 3
   },
   "file_extension": ".py",
   "mimetype": "text/x-python",
   "name": "python",
   "nbconvert_exporter": "python",
   "pygments_lexer": "ipython3",
   "version": "3.8.3"
  }
 },
 "nbformat": 4,
 "nbformat_minor": 4
}

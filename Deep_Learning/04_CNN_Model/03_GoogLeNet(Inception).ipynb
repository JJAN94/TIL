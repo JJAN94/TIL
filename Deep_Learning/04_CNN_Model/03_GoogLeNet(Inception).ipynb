{
 "cells": [
  {
   "cell_type": "markdown",
   "id": "3a3146b5-c82f-41a8-bbdb-7158b8afc4ef",
   "metadata": {},
   "source": [
    "# GoogLeNet"
   ]
  },
  {
   "cell_type": "markdown",
   "id": "4c211549-7115-4c11-9825-19902758def1",
   "metadata": {},
   "source": [
    "## 특징\n",
    "- 큰 사이즈의 Receptive Field가 제공하는 장점은 수용하면서 Weight 파라미터의 수를 줄일 수 있는 네트워크 구성\n",
    "- 적절한 커널의 필터 사이즈와 Pooling을 고민해서 찾아내기 보다는 여러가지 사이즈의 필터들을 한꺼번에 결합하는 방식 제공(논문에선 이를 Inception module이라 함)\n",
    "- GoogLeNet은 이들 Inception module들을 연속적으로 이어서 구성\n",
    "- 여러 사이즈의 필터들이 서로 다른 공간 기반으로 Feature들을 추출하고 이를 결합하면서 보다 풍부한 Feature Extractor layer 구성이 가능함"
   ]
  },
  {
   "cell_type": "markdown",
   "id": "7ceb2eb2-b250-4a71-b654-ee24fd7d348d",
   "metadata": {},
   "source": [
    "## 구조\n",
    "- 여러 사이즈의 커널을 겹합하지만 3x3, 5x5 사이즈 커널의 Convolution 연산을 수행 시 많은 파라미터 수가 증가되고 연산량이 늘어남\n",
    "- 많은 파라미터 수는 오버피팅을 더 악화 시킬 수 있음\n",
    "- 1x1 Convolution 적용하여 파라미터 수를 감소 시킴\n",
    "- 3x3, 5x5 Convolution 연산을 수행하기 전에 먼저 1x1 Convolution을 적용하여 파라미터 수를 획기적으로 감소시킴\n",
    "- 1x1 Convolution은 선행 layer의 특징을 함축적으로 표현하면서 파라미터 수를 줄이는 차원 축소 역할을 수행"
   ]
  },
  {
   "cell_type": "code",
   "execution_count": null,
   "id": "c4fc154f-bd1e-41dd-b0a4-5a791e373d40",
   "metadata": {},
   "outputs": [],
   "source": []
  }
 ],
 "metadata": {
  "kernelspec": {
   "display_name": "tensor",
   "language": "python",
   "name": "tensor"
  },
  "language_info": {
   "codemirror_mode": {
    "name": "ipython",
    "version": 3
   },
   "file_extension": ".py",
   "mimetype": "text/x-python",
   "name": "python",
   "nbconvert_exporter": "python",
   "pygments_lexer": "ipython3",
   "version": "3.8.11"
  }
 },
 "nbformat": 4,
 "nbformat_minor": 5
}

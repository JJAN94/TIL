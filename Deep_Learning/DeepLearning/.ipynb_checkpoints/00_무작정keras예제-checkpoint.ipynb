{
 "cells": [
  {
   "cell_type": "code",
   "execution_count": 1,
   "id": "b546b9bc-340d-4fff-b0d6-559d5145169d",
   "metadata": {},
   "outputs": [],
   "source": [
    "import matplotlib.pyplot as plt\n",
    "import tensorflow\n",
    "from tensorflow import keras"
   ]
  },
  {
   "cell_type": "markdown",
   "id": "4ae13444-f336-4844-9271-2ab3d820587e",
   "metadata": {},
   "source": [
    "# 처음시작은 그냥 따라해보기! Keras "
   ]
  },
  {
   "cell_type": "markdown",
   "id": "70034a23-ef37-4e28-8ac8-f54416124cd7",
   "metadata": {},
   "source": [
    "## MNIST 데이터셋 로드\n",
    "- 데이터 로드\n",
    "- 데이터 구성 확인"
   ]
  },
  {
   "cell_type": "code",
   "execution_count": 2,
   "id": "87d96eb3-7d28-43b0-821e-a42275c5339a",
   "metadata": {},
   "outputs": [],
   "source": [
    "from keras.datasets import mnist\n",
    "(train_images, train_labels), (test_images, test_labels) = mnist.load_data()"
   ]
  },
  {
   "cell_type": "code",
   "execution_count": 3,
   "id": "16395d1d-f699-4b7e-b0fc-a19e6ea4bbc7",
   "metadata": {},
   "outputs": [
    {
     "name": "stdout",
     "output_type": "stream",
     "text": [
      "(60000, 28, 28) (60000,) (10000, 28, 28) (10000,)\n"
     ]
    }
   ],
   "source": [
    "print(train_images.shape, train_labels.shape, test_images.shape, test_labels.shape)"
   ]
  },
  {
   "cell_type": "markdown",
   "id": "d1c3f5cc-b85d-461b-98ee-99da6f14c578",
   "metadata": {},
   "source": [
    "## 신경망 구조 갖추기"
   ]
  },
  {
   "cell_type": "markdown",
   "id": "9c290c91-86f1-473d-abc0-37c7cd38ee20",
   "metadata": {},
   "source": [
    "- Fully connect layer(전결합계층) 또는 Dense layer\n",
    "- 활성함수 : ReLU, Softmax"
   ]
  },
  {
   "cell_type": "code",
   "execution_count": 4,
   "id": "d4630b98-2e9a-4410-858b-cd6e9b23c406",
   "metadata": {},
   "outputs": [],
   "source": [
    "from keras import models\n",
    "from keras import layers\n",
    "\n",
    "model = models.Sequential()\n",
    "model.add(layers.Dense(512, activation='relu', input_shape=(28*28,)))\n",
    "model.add(layers.Dense(10, activation='softmax'))"
   ]
  },
  {
   "cell_type": "markdown",
   "id": "fba67036-1410-4599-a9c4-0ebc660a74f7",
   "metadata": {},
   "source": [
    "## 모델 컴파일\n",
    "- 옵티마이저 : rmsprop\n",
    "- 손실함수 : 크로스엔트로피\n",
    "- accurcay"
   ]
  },
  {
   "cell_type": "code",
   "execution_count": 10,
   "id": "74a53ba0-cde1-4eb0-952d-fbb72ead4959",
   "metadata": {},
   "outputs": [],
   "source": [
    "model.compile(optimizer='rmsprop',\n",
    "                         loss='categorical_crossentropy',\n",
    "                         metrics=['accuracy'])"
   ]
  },
  {
   "cell_type": "markdown",
   "id": "1b7cd0eb-26d8-4173-9693-abf50dac914c",
   "metadata": {},
   "source": [
    "## 데이터 가공\n",
    "- scaling\n",
    "- categoricalization"
   ]
  },
  {
   "cell_type": "code",
   "execution_count": 6,
   "id": "9b9f0e40-7edb-42ca-b84e-cc84461f77b7",
   "metadata": {},
   "outputs": [],
   "source": [
    "train_images = train_images.reshape((60000, 28 * 28))\n",
    "train_images = train_images.astype('float32') / 255\n",
    "\n",
    "test_images = test_images.reshape((10000, 28*28))\n",
    "test_images = test_images.astype('float32') / 255"
   ]
  },
  {
   "cell_type": "code",
   "execution_count": 7,
   "id": "45dc25dc-d42b-4488-ae8a-5b4910ec150e",
   "metadata": {},
   "outputs": [],
   "source": [
    "# from keras.utils import np_utils\n",
    "# 범주화 : 원-핫 인코딩\n",
    "train_labels = tensorflow.keras.utils.to_categorical(train_labels)\n",
    "test_labels = tensorflow.keras.utils.to_categorical(test_labels)"
   ]
  },
  {
   "cell_type": "markdown",
   "id": "b8fbb94b-45db-4132-b28e-d4ff8642b360",
   "metadata": {},
   "source": [
    "## 모델 학습"
   ]
  },
  {
   "cell_type": "code",
   "execution_count": 11,
   "id": "8b39740e-3053-4218-8553-8290b96fc510",
   "metadata": {},
   "outputs": [
    {
     "name": "stdout",
     "output_type": "stream",
     "text": [
      "Epoch 1/5\n",
      "469/469 [==============================] - 10s 3ms/step - loss: 0.4329 - accuracy: 0.8787\n",
      "Epoch 2/5\n",
      "469/469 [==============================] - 1s 3ms/step - loss: 0.1105 - accuracy: 0.9673\n",
      "Epoch 3/5\n",
      "469/469 [==============================] - 1s 3ms/step - loss: 0.0713 - accuracy: 0.9788\n",
      "Epoch 4/5\n",
      "469/469 [==============================] - 1s 3ms/step - loss: 0.0493 - accuracy: 0.9850\n",
      "Epoch 5/5\n",
      "469/469 [==============================] - 2s 3ms/step - loss: 0.0362 - accuracy: 0.9892\n"
     ]
    },
    {
     "data": {
      "text/plain": [
       "<keras.callbacks.History at 0x1edb68d3160>"
      ]
     },
     "execution_count": 11,
     "metadata": {},
     "output_type": "execute_result"
    }
   ],
   "source": [
    "model.fit(train_images, train_labels, epochs=5, batch_size=128)"
   ]
  },
  {
   "cell_type": "markdown",
   "id": "f50ef0e6-6228-4877-8f77-007befc0fcbe",
   "metadata": {},
   "source": [
    "## 모델 테스트"
   ]
  },
  {
   "cell_type": "code",
   "execution_count": 12,
   "id": "2e6bcb89-08d7-4d21-8881-485f0f9c6eb4",
   "metadata": {},
   "outputs": [
    {
     "name": "stdout",
     "output_type": "stream",
     "text": [
      "313/313 [==============================] - 1s 2ms/step - loss: 0.0609 - accuracy: 0.9809\n"
     ]
    }
   ],
   "source": [
    "test_loss, test_acc = model.evaluate(test_images, test_labels)"
   ]
  },
  {
   "cell_type": "code",
   "execution_count": 13,
   "id": "0e8988df-acbc-438c-b4b6-2f85d01511d0",
   "metadata": {},
   "outputs": [
    {
     "name": "stdout",
     "output_type": "stream",
     "text": [
      "0.98089998960495\n"
     ]
    }
   ],
   "source": [
    "print(test_acc)"
   ]
  },
  {
   "cell_type": "code",
   "execution_count": null,
   "id": "9986a2e6-4ed7-42a3-8e30-ce2b32389cad",
   "metadata": {},
   "outputs": [],
   "source": []
  }
 ],
 "metadata": {
  "kernelspec": {
   "display_name": "tensor",
   "language": "python",
   "name": "tensor"
  },
  "language_info": {
   "codemirror_mode": {
    "name": "ipython",
    "version": 3
   },
   "file_extension": ".py",
   "mimetype": "text/x-python",
   "name": "python",
   "nbconvert_exporter": "python",
   "pygments_lexer": "ipython3",
   "version": "3.8.11"
  }
 },
 "nbformat": 4,
 "nbformat_minor": 5
}

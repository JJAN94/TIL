{
 "cells": [
  {
   "cell_type": "markdown",
   "id": "3d24cb82-6169-4d37-b579-25fdd1bb9e62",
   "metadata": {},
   "source": [
    "# 딥러닝 함수 정리"
   ]
  },
  {
   "cell_type": "markdown",
   "id": "e0af0f94-e24f-43e0-ba23-0e40be51e51d",
   "metadata": {},
   "source": [
    "## 시그모이드(Sigmoid Function)"
   ]
  },
  {
   "cell_type": "code",
   "execution_count": null,
   "id": "8e7beb68-7c6a-4ede-8866-5ced3999cc67",
   "metadata": {},
   "outputs": [],
   "source": []
  }
 ],
 "metadata": {
  "kernelspec": {
   "display_name": "tensor",
   "language": "python",
   "name": "tensor"
  },
  "language_info": {
   "codemirror_mode": {
    "name": "ipython",
    "version": 3
   },
   "file_extension": ".py",
   "mimetype": "text/x-python",
   "name": "python",
   "nbconvert_exporter": "python",
   "pygments_lexer": "ipython3",
   "version": "3.8.11"
  }
 },
 "nbformat": 4,
 "nbformat_minor": 5
}

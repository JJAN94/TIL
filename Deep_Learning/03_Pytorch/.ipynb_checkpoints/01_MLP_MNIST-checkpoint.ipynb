{
 "cells": [
  {
   "cell_type": "markdown",
   "id": "5c91bcdd-8167-4aae-8338-46860a0c537b",
   "metadata": {},
   "source": [
    "## 1. 모듈 임포트 (Module Import)"
   ]
  },
  {
   "cell_type": "code",
   "execution_count": 13,
   "id": "e04c0f38-c41d-4030-ac61-45d7851e6684",
   "metadata": {},
   "outputs": [],
   "source": [
    "import numpy as np\n",
    "import matplotlib.pyplot as plt\n",
    "import torch\n",
    "import torch.nn as nn\n",
    "import torch.nn.functional as F\n",
    "from torchvision import transforms, datasets\n",
    "%matplotlib inline"
   ]
  },
  {
   "cell_type": "markdown",
   "id": "7ac635e5-b482-4ba9-8fe0-fcd2913497f6",
   "metadata": {},
   "source": [
    "- torch. : 파이토치의 기본 모듈\n",
    "- torch.nn : 인공신경망 모델을 설계할 때 필요한 함수를 모아 놓은 모듈\n",
    "- torch.nn.functional : 자주 이용되는 함수를 F로 지정\n",
    "- Computer Vision 연구 분야에서 자주 이용하는 torchvision 모듈 내 transforms, datasets 함수 임포트"
   ]
  },
  {
   "cell_type": "markdown",
   "id": "965af0b6-7f1a-4756-9401-40c9ae26f4a7",
   "metadata": {},
   "source": [
    "## 2. 딥러닝 모델 설계할 때 쓰일 장비 확인"
   ]
  },
  {
   "cell_type": "code",
   "execution_count": 2,
   "id": "10bcf1ab-b204-44d1-a1c7-5d1c8db4afb3",
   "metadata": {},
   "outputs": [
    {
     "name": "stdout",
     "output_type": "stream",
     "text": [
      "Using PyTorch version :  1.9.0 Device :  cuda\n"
     ]
    }
   ],
   "source": [
    "if torch.cuda.is_available():\n",
    "    DEVICE = torch.device('cuda')\n",
    "else:\n",
    "    DEVICE = torch.device('cpu')\n",
    "    \n",
    "print('Using PyTorch version : ', torch.__version__, 'Device : ', DEVICE)"
   ]
  },
  {
   "cell_type": "code",
   "execution_count": 3,
   "id": "3f69114a-2a43-47b4-9efa-b9d66f314a9b",
   "metadata": {},
   "outputs": [],
   "source": [
    "# 파이썬 코드 내 하이퍼파라미터를 지정할 때 보통 대문자로 쓴다.\n",
    "BATCH_SIZE = 32\n",
    "EPOCHS = 10"
   ]
  },
  {
   "cell_type": "markdown",
   "id": "d7071de6-1332-419a-a12d-bca4d82b916c",
   "metadata": {},
   "source": [
    "- BATCH_SIZE (미니배치 사이즈)\n",
    "    - MLP 모델을 학습할 때 필요한 데이터 개수의 단위\n",
    "    - Mini-Batch 1개 단위에 대해 데이터가 32개로 구성되어 있는 것을 의미\n",
    "    - 총 데이터 수에 대해 미니배치로 한번 학습하는 것을 1 Iteration이라 함\n",
    "- EPOCHS\n",
    "    - 전체 데이터를 이용해 학습을 진행한 횟수"
   ]
  },
  {
   "cell_type": "markdown",
   "id": "7fd79580-ef6c-4cd8-bf23-6da2aea4b069",
   "metadata": {},
   "source": [
    "## 3. MNIST 데이터 다운로드(train set, test set 분리)"
   ]
  },
  {
   "cell_type": "code",
   "execution_count": 4,
   "id": "d3dd66fd-6266-47b0-a86e-62f1dd1dad39",
   "metadata": {},
   "outputs": [
    {
     "name": "stdout",
     "output_type": "stream",
     "text": [
      "Downloading http://yann.lecun.com/exdb/mnist/train-images-idx3-ubyte.gz\n",
      "Downloading http://yann.lecun.com/exdb/mnist/train-images-idx3-ubyte.gz to ./data/MNIST\\MNIST\\raw\\train-images-idx3-ubyte.gz\n"
     ]
    },
    {
     "data": {
      "application/vnd.jupyter.widget-view+json": {
       "model_id": "d5c18530b4184c47bbb5ad7c7038f356",
       "version_major": 2,
       "version_minor": 0
      },
      "text/plain": [
       "  0%|          | 0/9912422 [00:00<?, ?it/s]"
      ]
     },
     "metadata": {},
     "output_type": "display_data"
    },
    {
     "name": "stdout",
     "output_type": "stream",
     "text": [
      "Extracting ./data/MNIST\\MNIST\\raw\\train-images-idx3-ubyte.gz to ./data/MNIST\\MNIST\\raw\n",
      "\n",
      "Downloading http://yann.lecun.com/exdb/mnist/train-labels-idx1-ubyte.gz\n",
      "Downloading http://yann.lecun.com/exdb/mnist/train-labels-idx1-ubyte.gz to ./data/MNIST\\MNIST\\raw\\train-labels-idx1-ubyte.gz\n"
     ]
    },
    {
     "data": {
      "application/vnd.jupyter.widget-view+json": {
       "model_id": "88258dd742f1495b8eac61c02cffeb92",
       "version_major": 2,
       "version_minor": 0
      },
      "text/plain": [
       "  0%|          | 0/28881 [00:00<?, ?it/s]"
      ]
     },
     "metadata": {},
     "output_type": "display_data"
    },
    {
     "name": "stdout",
     "output_type": "stream",
     "text": [
      "Extracting ./data/MNIST\\MNIST\\raw\\train-labels-idx1-ubyte.gz to ./data/MNIST\\MNIST\\raw\n",
      "\n",
      "Downloading http://yann.lecun.com/exdb/mnist/t10k-images-idx3-ubyte.gz\n",
      "Downloading http://yann.lecun.com/exdb/mnist/t10k-images-idx3-ubyte.gz to ./data/MNIST\\MNIST\\raw\\t10k-images-idx3-ubyte.gz\n"
     ]
    },
    {
     "data": {
      "application/vnd.jupyter.widget-view+json": {
       "model_id": "1ea674a3932840118dae0b4093ec096a",
       "version_major": 2,
       "version_minor": 0
      },
      "text/plain": [
       "  0%|          | 0/1648877 [00:00<?, ?it/s]"
      ]
     },
     "metadata": {},
     "output_type": "display_data"
    },
    {
     "name": "stdout",
     "output_type": "stream",
     "text": [
      "Extracting ./data/MNIST\\MNIST\\raw\\t10k-images-idx3-ubyte.gz to ./data/MNIST\\MNIST\\raw\n",
      "\n",
      "Downloading http://yann.lecun.com/exdb/mnist/t10k-labels-idx1-ubyte.gz\n",
      "Downloading http://yann.lecun.com/exdb/mnist/t10k-labels-idx1-ubyte.gz to ./data/MNIST\\MNIST\\raw\\t10k-labels-idx1-ubyte.gz\n"
     ]
    },
    {
     "data": {
      "application/vnd.jupyter.widget-view+json": {
       "model_id": "0dbdacf8992843198f20b1b60083edc5",
       "version_major": 2,
       "version_minor": 0
      },
      "text/plain": [
       "  0%|          | 0/4542 [00:00<?, ?it/s]"
      ]
     },
     "metadata": {},
     "output_type": "display_data"
    },
    {
     "name": "stdout",
     "output_type": "stream",
     "text": [
      "Extracting ./data/MNIST\\MNIST\\raw\\t10k-labels-idx1-ubyte.gz to ./data/MNIST\\MNIST\\raw\n",
      "\n"
     ]
    },
    {
     "name": "stderr",
     "output_type": "stream",
     "text": [
      "C:\\Users\\JAY\\anaconda3\\envs\\torch_p38\\lib\\site-packages\\torchvision\\datasets\\mnist.py:498: UserWarning: The given NumPy array is not writeable, and PyTorch does not support non-writeable tensors. This means you can write to the underlying (supposedly non-writeable) NumPy array using the tensor. You may want to copy the array to protect its data or make it writeable before converting it to a tensor. This type of warning will be suppressed for the rest of this program. (Triggered internally at  ..\\torch\\csrc\\utils\\tensor_numpy.cpp:180.)\n",
      "  return torch.from_numpy(parsed.astype(m[2], copy=False)).view(*s)\n"
     ]
    }
   ],
   "source": [
    "train_dataset = datasets.MNIST(root='./data/MNIST', train = True, download=True, transform=transforms.ToTensor())\n",
    "test_dataset = datasets.MNIST(root='./data/MNIST', train=False, download=True, transform=transforms.ToTensor())\n",
    "\n",
    "train_loader = torch.utils.data.DataLoader(dataset=train_dataset, batch_size=BATCH_SIZE, shuffle=True)\n",
    "test_loader = torch.utils.data.DataLoader(dataset=test_dataset, batch_size=BATCH_SIZE, shuffle=False)"
   ]
  },
  {
   "cell_type": "markdown",
   "id": "2cd6939d-fa95-4336-b61d-1524658ca3fa",
   "metadata": {},
   "source": [
    "- transform\n",
    "    - 이미지 데이터를 전처리 해준다.\n",
    "    - ToTensor() 메서드를 통해 tensor로 변환해준다.\n",
    "    - 0\\~255 픽셀값을 0~1 범위로 정규화 해준다.\n",
    "        - MLP 모델이 포함된 인공신경망 모델은 Input 데이터 값의 크기가 커질수록 불안정하거나 과적합되는 방향으로 학습이 진행될 우려가 있기 때문에 정규화 과정을 이용해 Input으로 이용하는 것을 권장\n",
    "- DataLoader\n",
    "    - Mini-Batch를 구성하게 해주는 함수\n",
    "    - shuffle\n",
    "        - MLP 모델이 학습을 진행할 때 Label 정보의 순서를 암기해 학습을 진행 할 수도 있다.\n",
    "        - 즉, 특정 Label에 매칭된 이미지 데이터의 특징을 보고 학습하는 것이 아니라 특정 이미지 데이터에 매칭된 Label값만 집중적으로 학습하는 문제가 발생할 수 있다.\n",
    "        - 잘못된 학습을 막기위해 데이터를 섞어 준다."
   ]
  },
  {
   "cell_type": "markdown",
   "id": "a1b6cb28-2d07-4529-b4ac-e4b80289340a",
   "metadata": {},
   "source": [
    "## 4. 데이터 확인"
   ]
  },
  {
   "cell_type": "code",
   "execution_count": 10,
   "id": "6e5f27b1-bcfc-46d8-b804-8c3234490c7c",
   "metadata": {},
   "outputs": [
    {
     "name": "stdout",
     "output_type": "stream",
     "text": [
      "X_train : torch.Size([32, 1, 28, 28]), type : torch.FloatTensor\n",
      "y_train : torch.Size([32]), type : torch.LongTensor\n"
     ]
    }
   ],
   "source": [
    "for X_train, y_train in train_loader:\n",
    "    print(f'X_train : {X_train.size()}, type : {X_train.type()}')\n",
    "    print(f'y_train : {y_train.size()}, type : {y_train.type()}')\n",
    "    break\n",
    "# 32개로 구성된 미니배치에 28x28이미지 크기, 1채널(grayscale)"
   ]
  },
  {
   "cell_type": "code",
   "execution_count": 16,
   "id": "c7397baa-76e3-477b-b8a8-37b86f0fd1d5",
   "metadata": {},
   "outputs": [
    {
     "data": {
      "image/png": "[encoded data removed]",
      "text/plain": [
       "<Figure size 1080x216 with 10 Axes>"
      ]
     },
     "metadata": {
      "needs_background": "light"
     },
     "output_type": "display_data"
    }
   ],
   "source": [
    "plt.figure(figsize=(15,3))\n",
    "for i in range(10):\n",
    "    plt.subplot(1, 10, i+1)\n",
    "    plt.axis('off')\n",
    "    plt.imshow(X_train[i, :, :, :].numpy().reshape(28, 28), cmap='gray_r')\n",
    "    plt.title('Class '+str(y_train[i].item()))"
   ]
  },
  {
   "cell_type": "markdown",
   "id": "abcf9ee4-0da3-46f5-8af6-802d6d74ceeb",
   "metadata": {},
   "source": [
    "## 5. MLP(Multi Layer Perceptron) 모델 설계하기"
   ]
  },
  {
   "cell_type": "code",
   "execution_count": 18,
   "id": "838bdadf-49f2-4475-a16f-e85e839de6ed",
   "metadata": {},
   "outputs": [],
   "source": [
    "class Net(nn.Module):\n",
    "    def __init__(self):\n",
    "        super(Net, self).__init__()\n",
    "        self.fc1 = nn.Linear(28 * 28, 512)\n",
    "        self.fc2 = nn.Linear(512, 256)\n",
    "        self.fc3 = nn.Linear(256, 10)\n",
    "    def forward(self, x):\n",
    "        x = x.view(-1, 28 * 28)\n",
    "        x. self.fc1(x)\n",
    "        x = F.sigmoid(x)\n",
    "        x = self.fc2(x)\n",
    "        x = F.sigmoid(x)\n",
    "        x = self.fc3(x)\n",
    "        x = F.log_softmax(x, dim=1)\n",
    "        return x"
   ]
  },
  {
   "cell_type": "code",
   "execution_count": null,
   "id": "b347caed-c8ac-4868-baa4-03786ffa6efe",
   "metadata": {},
   "outputs": [],
   "source": []
  }
 ],
 "metadata": {
  "kernelspec": {
   "display_name": "torch_p38",
   "language": "python",
   "name": "torch_p38"
  },
  "language_info": {
   "codemirror_mode": {
    "name": "ipython",
    "version": 3
   },
   "file_extension": ".py",
   "mimetype": "text/x-python",
   "name": "python",
   "nbconvert_exporter": "python",
   "pygments_lexer": "ipython3",
   "version": "3.8.11"
  }
 },
 "nbformat": 4,
 "nbformat_minor": 5
}

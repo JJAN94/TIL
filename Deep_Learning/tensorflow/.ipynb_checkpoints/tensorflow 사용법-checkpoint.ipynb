{
 "cells": [
  {
   "cell_type": "markdown",
   "id": "a7ea52be",
   "metadata": {},
   "source": [
    "# TensorFlow 2.0"
   ]
  },
  {
   "cell_type": "markdown",
   "id": "629f67d1",
   "metadata": {},
   "source": [
    "### 특징\n",
    "1. 1.x에 비해 정말 쉬워졌다.\n",
    "2. Numpy Array와 호환이 쉬움\n",
    "3. TensorBoard, TFLite, TPU\n",
    "4. 여전히 많은 사용자들이 사용"
   ]
  },
  {
   "cell_type": "markdown",
   "id": "f7d146e6",
   "metadata": {},
   "source": [
    "### tensorflow 임포트"
   ]
  },
  {
   "cell_type": "code",
   "execution_count": 1,
   "id": "f5ccc287",
   "metadata": {},
   "outputs": [],
   "source": [
    "import numpy as np\n",
    "import tensorflow as tf"
   ]
  },
  {
   "cell_type": "markdown",
   "id": "f85be567",
   "metadata": {},
   "source": [
    "### Tensor 생성"
   ]
  },
  {
   "cell_type": "markdown",
   "id": "3f5b61f3",
   "metadata": {},
   "source": [
    "- []\n",
    "    - List 생성"
   ]
  },
  {
   "cell_type": "code",
   "execution_count": null,
   "id": "9350ac36",
   "metadata": {},
   "outputs": [],
   "source": []
  },
  {
   "cell_type": "markdown",
   "id": "519cf65d",
   "metadata": {},
   "source": [
    "### Array 생성"
   ]
  },
  {
   "cell_type": "markdown",
   "id": "50bef225",
   "metadata": {},
   "source": [
    "- tuple이나 list 둘 다 np.array()로 씌어서 array를 만들 수 있음"
   ]
  },
  {
   "cell_type": "code",
   "execution_count": null,
   "id": "409cdffe",
   "metadata": {},
   "outputs": [],
   "source": []
  }
 ],
 "metadata": {
  "kernelspec": {
   "display_name": "Python 3",
   "language": "python",
   "name": "python3"
  },
  "language_info": {
   "codemirror_mode": {
    "name": "ipython",
    "version": 3
   },
   "file_extension": ".py",
   "mimetype": "text/x-python",
   "name": "python",
   "nbconvert_exporter": "python",
   "pygments_lexer": "ipython3",
   "version": "3.8.8"
  }
 },
 "nbformat": 4,
 "nbformat_minor": 5
}

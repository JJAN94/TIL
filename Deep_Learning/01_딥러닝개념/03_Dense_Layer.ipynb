{
 "cells": [
  {
   "cell_type": "markdown",
   "id": "1d53b684-a467-4155-b84b-bd93bed1ba87",
   "metadata": {},
   "source": [
    "## Dense Layers"
   ]
  },
  {
   "cell_type": "markdown",
   "id": "92222b45-da89-435a-8768-fccde3cc87e0",
   "metadata": {},
   "source": [
    "### Shapes of Dense Layers"
   ]
  },
  {
   "cell_type": "code",
   "execution_count": 4,
   "id": "3a198731-7eff-49b0-92e1-a2bc7f5285c8",
   "metadata": {},
   "outputs": [
    {
     "name": "stdout",
     "output_type": "stream",
     "text": [
      "***** Input/Weight/Bias *****\n",
      "X :  (8, 10)\n",
      "W :  (10, 3)\n",
      "B :  (3,)\n",
      "Y :  (8, 3)\n"
     ]
    }
   ],
   "source": [
    "import tensorflow as tf\n",
    "from tensorflow.keras.layers import Dense\n",
    "\n",
    "N, n_feature = 8, 10\n",
    "X = tf.random.normal(shape=(N, n_feature)) # X는 X.transpose를 의미\n",
    "\n",
    "n_neuron = 3\n",
    "dense = Dense(units=n_neuron, activation='sigmoid') # 한개의 layer에 3개의 뉴런을 가짐\n",
    "Y = dense(X)\n",
    "\n",
    "W, B = dense.get_weights()\n",
    "\n",
    "print('***** Input/Weight/Bias *****')\n",
    "print('X : ', X.shape)\n",
    "print('W : ', W.shape)\n",
    "print('B : ', B.shape)\n",
    "print('Y : ', Y.shape)"
   ]
  },
  {
   "cell_type": "markdown",
   "id": "9da35e8c-bd33-408d-89e7-8e881567f12a",
   "metadata": {},
   "source": [
    "### Output Calculations"
   ]
  },
  {
   "cell_type": "code",
   "execution_count": 7,
   "id": "53eee5da-2c3c-4c5b-ad88-9c92683c02fb",
   "metadata": {},
   "outputs": [
    {
     "name": "stdout",
     "output_type": "stream",
     "text": [
      "Y(tensorflow) \n",
      " [[0.5354668  0.280311   0.29505935]\n",
      " [0.1262378  0.26131862 0.24623986]\n",
      " [0.73066247 0.90359235 0.5680011 ]\n",
      " [0.31405592 0.20042019 0.59765637]]\n",
      "Y(manual) \n",
      " [[0.5354668  0.280311   0.29505935]\n",
      " [0.1262378  0.26131862 0.24623986]\n",
      " [0.73066247 0.90359235 0.5680011 ]\n",
      " [0.31405592 0.20042019 0.59765637]]\n",
      "Y(with dot products)\n",
      "  [[0.53558732 0.28043956 0.29501842]\n",
      " [0.12619491 0.26130881 0.24628956]\n",
      " [0.73062652 0.90354253 0.56791106]\n",
      " [0.31397478 0.2004457  0.59775943]]\n"
     ]
    }
   ],
   "source": [
    "import numpy as np\n",
    "import tensorflow as tf\n",
    "from tensorflow.math import exp\n",
    "from tensorflow.linalg import matmul\n",
    "from tensorflow.keras.layers import Dense\n",
    "\n",
    "N, n_feature = 4, 10\n",
    "X = tf.random.normal(shape=(N, n_feature))\n",
    "\n",
    "n_neuron = 3\n",
    "dense = Dense(units=n_neuron, activation='sigmoid') # 한개의 layer에 3개의 뉴런을 가짐\n",
    "Y_tf = dense(X)\n",
    "\n",
    "W, B = dense.get_weights()\n",
    "print('Y(tensorflow) \\n', Y_tf.numpy())\n",
    "\n",
    "# calculate with matrix multiplication\n",
    "z = matmul(X, W) + B\n",
    "y_man = 1 / (1 + exp(-z))\n",
    "print('Y(manual) \\n', y_man.numpy())\n",
    "\n",
    "# calculate with dot products\n",
    "Y_man_vec = np.zeros(shape=(N, n_neuron))\n",
    "for x_idx in range(N):\n",
    "    x = X[x_idx]\n",
    "    \n",
    "    for nu_idx in range(n_neuron):\n",
    "        w, b = W[:, nu_idx], B[nu_idx]\n",
    "        \n",
    "        z = tf.reduce_sum(x*w) + b\n",
    "        a = 1/(1 + np.exp(-z))\n",
    "        Y_man_vec[x_idx, nu_idx] = a\n",
    "        \n",
    "print('Y(with dot products)\\n ', Y_man_vec)"
   ]
  },
  {
   "cell_type": "markdown",
   "id": "222d7013-ff0c-4dba-b3b1-fef2ca6662ca",
   "metadata": {},
   "source": [
    "## Cascaded Dense  Layers"
   ]
  },
  {
   "cell_type": "markdown",
   "id": "92067934-7487-41fe-9e72-fe00da42c94c",
   "metadata": {},
   "source": [
    "### Shapes of Cascaded Dense Layers"
   ]
  },
  {
   "cell_type": "code",
   "execution_count": 13,
   "id": "dcbfd81f-4180-4d9a-9ede-8afeba31f710",
   "metadata": {},
   "outputs": [
    {
     "name": "stdout",
     "output_type": "stream",
     "text": [
      "X : (4, 10)\n",
      "\n",
      "W1 :  (10, 3)\n",
      "B1 :  (3,)\n",
      "A1 : (4, 3)\n",
      "\n",
      "W2 :  (3, 5)\n",
      "B2 :  (5,)\n",
      "Y : (4, 5)\n"
     ]
    }
   ],
   "source": [
    "import tensorflow as tf\n",
    "\n",
    "from tensorflow.keras.layers import Dense\n",
    "\n",
    "N, n_feature = 4, 10\n",
    "\n",
    "X = tf.random.normal(shape=(N, n_feature))\n",
    "\n",
    "n_neurons = [3,5]\n",
    "dense1 = Dense(units=n_neurons[0], activation='sigmoid')\n",
    "dense2 = Dense(units=n_neurons[1], activation='sigmoid')\n",
    "\n",
    "# forward propagation\n",
    "A1 = dense1(X)\n",
    "Y = dense2(A1)\n",
    "\n",
    "# get weight/bias\n",
    "W1, B1 = dense1.get_weights()\n",
    "W2, B2 = dense2.get_weights()\n",
    "\n",
    "print('X : {}\\n'.format(X.shape))\n",
    "\n",
    "print('W1 : ', W1.shape)\n",
    "print('B1 : ', B1.shape)\n",
    "print('A1 : {}\\n'.format(A1.shape))\n",
    "\n",
    "print('W2 : ', W2.shape)\n",
    "print('B2 : ',B2.shape)\n",
    "print('Y : {}'.format(Y.shape))"
   ]
  },
  {
   "cell_type": "markdown",
   "id": "7750efdc-b35d-4183-b541-a2a243cd2166",
   "metadata": {},
   "source": [
    "### Dense Layers with Python List"
   ]
  },
  {
   "cell_type": "code",
   "execution_count": 15,
   "id": "b8ecc831-3442-449c-a04a-37f52aeba5d8",
   "metadata": {},
   "outputs": [
    {
     "name": "stdout",
     "output_type": "stream",
     "text": [
      "Input :  (4, 10)\n",
      "After dense layer :  1\n",
      "(4, 10) \n",
      "\n",
      "After dense layer :  2\n",
      "(4, 20) \n",
      "\n",
      "After dense layer :  3\n",
      "(4, 30) \n",
      "\n",
      "After dense layer :  4\n",
      "(4, 40) \n",
      "\n",
      "After dense layer :  5\n",
      "(4, 50) \n",
      "\n",
      "After dense layer :  6\n",
      "(4, 60) \n",
      "\n",
      "After dense layer :  7\n",
      "(4, 70) \n",
      "\n",
      "After dense layer :  8\n",
      "(4, 80) \n",
      "\n",
      "After dense layer :  9\n",
      "(4, 90) \n",
      "\n",
      "After dense layer :  10\n",
      "(4, 100) \n",
      "\n"
     ]
    }
   ],
   "source": [
    "import tensorflow as tf\n",
    "\n",
    "from tensorflow.keras.layers import Dense\n",
    "\n",
    "N, n_feature = 4, 10\n",
    "\n",
    "X = tf.random.normal(shape=(N, n_feature))\n",
    "\n",
    "n_neurons = [10, 20 ,30, 40, 50, 60, 70, 80, 90, 100]\n",
    "\n",
    "dense_layers = []\n",
    "\n",
    "for n_neuron in n_neurons:\n",
    "#     print(n_neuron)\n",
    "    dense = Dense(units=n_neuron, activation='relu')\n",
    "    dense_layers.append(dense)\n",
    "\n",
    "print('Input : ', X.shape)\n",
    "for dense_idx, dense in enumerate(dense_layers):\n",
    "    X = dense(X)\n",
    "    print(\"After dense layer : \", dense_idx+1)\n",
    "    print(X.shape, '\\n')\n",
    "\n",
    "Y = X"
   ]
  },
  {
   "cell_type": "markdown",
   "id": "402281a0-5238-4d65-b960-60195907995a",
   "metadata": {},
   "source": [
    "### Output Calculations"
   ]
  },
  {
   "cell_type": "code",
   "execution_count": 3,
   "id": "227597db-56ed-40d4-b8a2-9c2c1187b385",
   "metadata": {},
   "outputs": [
    {
     "name": "stdout",
     "output_type": "stream",
     "text": [
      "Input :  (4, 10)\n",
      "Y(tensorflow) \n",
      " [[0.7111392  0.18692735 0.7255024  0.5854922  0.4544989 ]\n",
      " [0.70149904 0.20888393 0.7072701  0.56515443 0.46334806]\n",
      " [0.7224216  0.18283015 0.7312375  0.57106686 0.46023956]\n",
      " [0.7127534  0.19622679 0.7193955  0.56708086 0.4614766 ]]\n",
      "Y(manual) : \n",
      " [[0.7111392  0.18692735 0.7255024  0.5854922  0.4544989 ]\n",
      " [0.70149904 0.20888393 0.7072701  0.56515443 0.46334806]\n",
      " [0.7224216  0.18283015 0.7312375  0.57106686 0.46023956]\n",
      " [0.7127534  0.19622679 0.7193955  0.56708086 0.4614766 ]]\n"
     ]
    }
   ],
   "source": [
    "import tensorflow as tf\n",
    "\n",
    "from tensorflow.keras.layers import Dense\n",
    "from tensorflow.math import exp\n",
    "from tensorflow.linalg import matmul\n",
    "\n",
    "N, n_feature = 4, 10\n",
    "X = tf.random.normal(shape=(N, n_feature))\n",
    "X_cp = tf.identity(X) # X를 copy (깊은복사)\n",
    "\n",
    "n_neurons = [3, 4, 5]\n",
    "\n",
    "dense_layers = []\n",
    "for n_neuron in n_neurons:\n",
    "    dense = Dense(units=n_neuron, activation='sigmoid')\n",
    "    dense_layers.append(dense)\n",
    "\n",
    "print('Input : ', X.shape)\n",
    "\n",
    "# forward propagation (tensorflow)\n",
    "W, B = [], []\n",
    "for dense_idx, dense in enumerate(dense_layers):\n",
    "    X = dense(X)\n",
    "    w, b = dense.get_weights()\n",
    "    W.append(w)\n",
    "    B.append(b)\n",
    "    \n",
    "print('Y(tensorflow) \\n', X.numpy())\n",
    "    \n",
    "# forward propagation (manual)\n",
    "for layer_idx in range(len(n_neurons)):\n",
    "    w, b = W[layer_idx], B[layer_idx]\n",
    "    \n",
    "    X_cp = matmul(X_cp, w) + b\n",
    "    X_cp = 1/(1+ exp(-X_cp))\n",
    "print('Y(manual) : \\n', X_cp.numpy())"
   ]
  },
  {
   "cell_type": "code",
   "execution_count": null,
   "id": "fcecf1c7-2b84-49ad-9007-dabe3ce8d590",
   "metadata": {},
   "outputs": [],
   "source": []
  }
 ],
 "metadata": {
  "kernelspec": {
   "display_name": "tensor",
   "language": "python",
   "name": "tensor"
  },
  "language_info": {
   "codemirror_mode": {
    "name": "ipython",
    "version": 3
   },
   "file_extension": ".py",
   "mimetype": "text/x-python",
   "name": "python",
   "nbconvert_exporter": "python",
   "pygments_lexer": "ipython3",
   "version": "3.8.11"
  }
 },
 "nbformat": 4,
 "nbformat_minor": 5
}

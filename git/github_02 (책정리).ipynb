{
 "cells": [
  {
   "cell_type": "markdown",
   "metadata": {},
   "source": [
    "'Do it! 깃&깃허브 입문' 책 참고해서 정리함"
   ]
  },
  {
   "cell_type": "markdown",
   "metadata": {},
   "source": [
    "# Do it! 지옥에서 온 문서 관리자 깃&깃허브 입문\n",
    "#### 책 목차\n",
    "1. 깃 시작하기\n",
    "2. 깃으로 버전 관리하기\n",
    "3. 깃과 브랜치\n",
    "4. 깃허브로 백업하기\n",
    "5. 깃허브로 협업하기\n",
    "6. 깃허브에서 개발자와 소통하기"
   ]
  },
  {
   "cell_type": "markdown",
   "metadata": {},
   "source": [
    "### git의 기능\n",
    "- `버전관리(Version Control)`\n",
    "- `백업(Backup)`\n",
    "- `협업(Collaboration)`"
   ]
  },
  {
   "cell_type": "markdown",
   "metadata": {},
   "source": [
    "- 공부 순서 : 버전관리 > 백업 > 협업"
   ]
  },
  {
   "cell_type": "markdown",
   "metadata": {},
   "source": [
    "# 1. 깃 시작하기"
   ]
  },
  {
   "cell_type": "markdown",
   "metadata": {},
   "source": [
    "- 깃에서 쓸 수 있는 여러 옵션이 나열\n",
    "```shell\n",
    "$ git```\n"
   ]
  },
  {
   "cell_type": "markdown",
   "metadata": {},
   "source": [
    "- 깃 환경 설정\n",
    "    - 버전을 저장할 때 마다 버전을 만든 사용자 정보도 같이 저장\n",
    "```shell\n",
    "$ git config --global user.name 'JJAN94'\n",
    "$ git config --global user.email '###@naver.com'\n",
    "```"
   ]
  },
  {
   "cell_type": "markdown",
   "metadata": {},
   "source": [
    "#### 리눅스 명령 연습"
   ]
  },
  {
   "cell_type": "markdown",
   "metadata": {},
   "source": [
    "1. 현재 경로 살피기\n",
    "    - `pwd`\n",
    "2. 현재 디렉토리에 어떤 파일이나 디렉토리가 있는지 확인\n",
    "    - `ls`\n",
    "    - 옵션추가 하기 : 리눅스의 옵션을 뜻하는 -(붙임표)를 원하는 글자와 함께 입력\n",
    "        - `-a` : 숨김 파일과 디렉토리도 함께 표시\n",
    "        - `-l` : 파일이나 디렉토리의 상세 정보를 함께 표시\n",
    "        - `-r` : 파일의 정렬 순서를 거꾸로 표시함\n",
    "        - `-t` : 파일 작성 시간 순으로 (내림차순) 표시\n",
    "            - 예) `$ ls -la` 또는 `$ ls -al` >> la나 al이나 순서는 상관없음"
   ]
  },
  {
   "cell_type": "markdown",
   "metadata": {},
   "source": [
    "3. 디렉토리 이동하기\n",
    "    - 상위 디렉토리로 이동\n",
    "        - `cd ..` , cd : change directory\n",
    "    - 특정 디렉토리로 이동\n",
    "        - `cd [name]`\n",
    "    - 홈 디렉토리로 이동\n",
    "        - `cd ~`"
   ]
  },
  {
   "cell_type": "code",
   "execution_count": null,
   "metadata": {},
   "outputs": [],
   "source": []
  }
 ],
 "metadata": {
  "kernelspec": {
   "display_name": "Python 3",
   "language": "python",
   "name": "python3"
  },
  "language_info": {
   "codemirror_mode": {
    "name": "ipython",
    "version": 3
   },
   "file_extension": ".py",
   "mimetype": "text/x-python",
   "name": "python",
   "nbconvert_exporter": "python",
   "pygments_lexer": "ipython3",
   "version": "3.8.3"
  }
 },
 "nbformat": 4,
 "nbformat_minor": 4
}

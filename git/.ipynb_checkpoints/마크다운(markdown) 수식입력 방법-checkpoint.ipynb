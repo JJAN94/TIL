{
 "cells": [
  {
   "cell_type": "markdown",
   "metadata": {},
   "source": [
    "$$ \n",
    "\\begin{align}\n",
    "\\text{sgn}(x) \n",
    "=\n",
    "\\begin{cases} \n",
    "1, & x > 0, \\\\ \n",
    "0, & x = 0, \\\\ \n",
    "-1, & x < 0 \n",
    "\\end{cases} \n",
    "\\tag{4.1.6}\n",
    "\\end{align}\n",
    "$$"
   ]
  },
  {
   "cell_type": "markdown",
   "metadata": {},
   "source": [
    "### 크거나 같다, 작거나 같다"
   ]
  },
  {
   "cell_type": "markdown",
   "metadata": {},
   "source": [
    "- eq - equal ( = )\n",
    "- ne - not equal ( <> )\n",
    "- lt - little ( < )\n",
    "- le - little or equal ( <= )\n",
    "- gt - greater ( > )\n",
    "- ge - greater or equal ( >= )\n",
    "\n",
    "\n",
    "출처: https://88240.tistory.com/493 [shaking blog]"
   ]
  },
  {
   "cell_type": "markdown",
   "metadata": {},
   "source": [
    "$ \\ge, \\gt, \\lt, \\ne, \\le $"
   ]
  },
  {
   "cell_type": "code",
   "execution_count": null,
   "metadata": {},
   "outputs": [],
   "source": []
  }
 ],
 "metadata": {
  "kernelspec": {
   "display_name": "Python 3",
   "language": "python",
   "name": "python3"
  },
  "language_info": {
   "codemirror_mode": {
    "name": "ipython",
    "version": 3
   },
   "file_extension": ".py",
   "mimetype": "text/x-python",
   "name": "python",
   "nbconvert_exporter": "python",
   "pygments_lexer": "ipython3",
   "version": "3.8.3"
  }
 },
 "nbformat": 4,
 "nbformat_minor": 4
}

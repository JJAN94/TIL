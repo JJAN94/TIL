{
 "cells": [
  {
   "cell_type": "code",
   "execution_count": 1,
   "metadata": {},
   "outputs": [],
   "source": [
    "import cv2"
   ]
  },
  {
   "cell_type": "markdown",
   "metadata": {},
   "source": [
    "# OepnCV 함수 설명"
   ]
  },
  {
   "cell_type": "markdown",
   "metadata": {},
   "source": [
    "### 1. 영상 파일 불러오기"
   ]
  },
  {
   "cell_type": "markdown",
   "metadata": {},
   "source": [
    "- **cv2.imread(filename, flags=None)**\n",
    "    - filename : 불러올 영상 파일 이름(문자열)\n",
    "    - flags : 영상 파일 불러오기 옵션 플래그 \n",
    "        - cv2.IMREAD_COLOR : RGB 컬러 영상으로 읽기(기본값) / shape = (rows, cols, 3)\n",
    "        - cv2.IMREAD_GRAYSCALE : 그레이스케일 영상으로 읽기 / shape = (rows, cols)\n",
    "        - cv2.IMREAD_UNCHANGED : 영상 파일 속성 그대로 읽기 / shape = (rows, cols, 4) - 투명한 PNG 파일\n",
    "    - retval : 불러온 영상 데이터(numpy.ndarray)"
   ]
  },
  {
   "cell_type": "markdown",
   "metadata": {},
   "source": [
    "### 2. 영상 파일 저장하기"
   ]
  },
  {
   "cell_type": "markdown",
   "metadata": {},
   "source": [
    "- **cv2.imwrite(filename, img, params=None)**\n",
    "    - filename : 저장할 영상 파일 이름\n",
    "    - img : 저장할 영상 데이터(numpy.ndarray)\n",
    "    - params : 파일 저장 옵션 지정(속성&값의 정수 쌍)\n",
    "        - 예) cv2.IMWRITE_JPEG_QUALITY, 90 : JPG 파일 압축률을 90%로 지정\n",
    "    - retval : 정상적으로 저장하면 True, 실패하면 False"
   ]
  },
  {
   "cell_type": "code",
   "execution_count": null,
   "metadata": {},
   "outputs": [],
   "source": []
  }
 ],
 "metadata": {
  "kernelspec": {
   "display_name": "Python 3",
   "language": "python",
   "name": "python3"
  },
  "language_info": {
   "codemirror_mode": {
    "name": "ipython",
    "version": 3
   },
   "file_extension": ".py",
   "mimetype": "text/x-python",
   "name": "python",
   "nbconvert_exporter": "python",
   "pygments_lexer": "ipython3",
   "version": "3.8.3"
  }
 },
 "nbformat": 4,
 "nbformat_minor": 4
}

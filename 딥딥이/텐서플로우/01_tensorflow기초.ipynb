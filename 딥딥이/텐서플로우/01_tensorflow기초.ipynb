{
 "cells": [
  {
   "cell_type": "code",
   "execution_count": 1,
   "id": "36a494f8-c1e5-4e9c-acaa-faaf3868e237",
   "metadata": {},
   "outputs": [],
   "source": [
    "import tensorflow as tf\n",
    "import numpy as np\n",
    "import matplotlib.pyplot as plt"
   ]
  },
  {
   "cell_type": "code",
   "execution_count": 18,
   "id": "5207b726-7a22-404d-88b7-7f8a48628bc5",
   "metadata": {},
   "outputs": [],
   "source": [
    "np.set_printoptions(precision=3)"
   ]
  },
  {
   "cell_type": "markdown",
   "id": "596c8717-8891-4615-99e3-e10b461f0f61",
   "metadata": {},
   "source": [
    "# 텐서 생성 및 사용법"
   ]
  },
  {
   "cell_type": "markdown",
   "id": "fc938fa5-9188-485a-9adb-6beadc9f8b26",
   "metadata": {},
   "source": [
    "## Tensor"
   ]
  },
  {
   "cell_type": "markdown",
   "id": "7004e1f9-aea3-4d19-be18-62fec6eecbbf",
   "metadata": {},
   "source": [
    "### 1. 스칼라(Scalar)\n",
    "- 랭크(rank)-0 텐서"
   ]
  },
  {
   "cell_type": "markdown",
   "id": "78bca520-b321-4990-be61-5c82e6859fd0",
   "metadata": {},
   "source": [
    "#### 스칼라 텐서 생성"
   ]
  },
  {
   "cell_type": "code",
   "execution_count": 3,
   "id": "7ec69e2c-b21c-4e40-9ec9-f393db65921b",
   "metadata": {},
   "outputs": [
    {
     "name": "stdout",
     "output_type": "stream",
     "text": [
      "a :  tf.Tensor(1, shape=(), dtype=int32)\n",
      "b :  tf.Tensor(2, shape=(), dtype=int32)\n"
     ]
    }
   ],
   "source": [
    "a = tf.constant(1)\n",
    "b = tf.constant(2)\n",
    "print(\"a : \", a)\n",
    "print('b : ', b)"
   ]
  },
  {
   "cell_type": "markdown",
   "id": "12e6a292-6726-4611-8dbc-e9c117e426c1",
   "metadata": {},
   "source": [
    "#### 랭크 확인"
   ]
  },
  {
   "cell_type": "code",
   "execution_count": 4,
   "id": "20b84ed2-b5a8-4a02-aad3-3aded2a136a0",
   "metadata": {},
   "outputs": [
    {
     "name": "stdout",
     "output_type": "stream",
     "text": [
      "tf.Tensor(0, shape=(), dtype=int32)\n"
     ]
    }
   ],
   "source": [
    "print(tf.rank(a))"
   ]
  },
  {
   "cell_type": "markdown",
   "id": "0e17a444-84b4-4a41-9411-6cbf418fa903",
   "metadata": {},
   "source": [
    "#### 자료형 캐스팅"
   ]
  },
  {
   "cell_type": "code",
   "execution_count": 10,
   "id": "3b00463a-e9f4-443d-b44f-3d7305d1a50d",
   "metadata": {},
   "outputs": [
    {
     "name": "stdout",
     "output_type": "stream",
     "text": [
      "<dtype: 'float32'>\n",
      "<dtype: 'float32'>\n"
     ]
    }
   ],
   "source": [
    "a = tf.cast(a, tf.float32)\n",
    "b = tf.cast(b, tf.float32)\n",
    "print(a.dtype)\n",
    "print(b.dtype)"
   ]
  },
  {
   "cell_type": "markdown",
   "id": "4037b26b-bc73-4d08-9f5a-562d81048845",
   "metadata": {},
   "source": [
    "#### [tip] float32\n",
    "텐서플로우는 딥러닝 연산시 float32를 숫자형 데이터를 나타내는 기본 자료형으로 사용한다."
   ]
  },
  {
   "cell_type": "code",
   "execution_count": 8,
   "id": "1c5d79ac-22c7-4b22-9c9a-3fcd857e3f54",
   "metadata": {},
   "outputs": [
    {
     "name": "stdout",
     "output_type": "stream",
     "text": [
      "['DType', 'QUANTIZED_DTYPES', '__builtins__', '__cached__', '__doc__', '__file__', '__loader__', '__name__', '__package__', '__path__', '__spec__', '_sys', 'as_dtype', 'bfloat16', 'bool', 'cast', 'complex', 'complex128', 'complex64', 'double', 'float16', 'float32', 'float64', 'half', 'int16', 'int32', 'int64', 'int8', 'qint16', 'qint32', 'qint8', 'quint16', 'quint8', 'resource', 'saturate_cast', 'string', 'uint16', 'uint32', 'uint64', 'uint8', 'variant']\n"
     ]
    }
   ],
   "source": [
    "# tensorflow data dtypes\n",
    "print(dir(tf.dtypes))"
   ]
  },
  {
   "cell_type": "markdown",
   "id": "8530f3f6-669d-4625-bdaf-fec46edab574",
   "metadata": {},
   "source": [
    "#### 연산\n",
    "tf.math docs https://www.tensorflow.org/api_docs/python/tf/math \\\n",
    "tf.linalg docs https://www.tensorflow.org/api_docs/python/tf/linalg"
   ]
  },
  {
   "cell_type": "code",
   "execution_count": 11,
   "id": "7a97b33c-7c0a-48d1-8d25-741e54175b2b",
   "metadata": {},
   "outputs": [
    {
     "name": "stdout",
     "output_type": "stream",
     "text": [
      "result :  tf.Tensor(3.0, shape=(), dtype=float32)\n",
      "rank :  tf.Tensor(0, shape=(), dtype=int32)\n"
     ]
    }
   ],
   "source": [
    "# 덧셈\n",
    "c = tf.math.add(a,b)\n",
    "print('result : ', c)\n",
    "print('rank : ', tf.rank(c))"
   ]
  },
  {
   "cell_type": "code",
   "execution_count": 12,
   "id": "fc694eec-0bfb-4c23-b80a-31f26e6fb8ca",
   "metadata": {},
   "outputs": [
    {
     "name": "stdout",
     "output_type": "stream",
     "text": [
      "tf.Tensor(-1.0, shape=(), dtype=float32)\n"
     ]
    }
   ],
   "source": [
    "# 뺄셈\n",
    "print(tf.math.subtract(a,b))"
   ]
  },
  {
   "cell_type": "code",
   "execution_count": 13,
   "id": "78885994-0fa8-4150-a3b7-9537fc6bbd45",
   "metadata": {},
   "outputs": [
    {
     "name": "stdout",
     "output_type": "stream",
     "text": [
      "tf.Tensor(2.0, shape=(), dtype=float32)\n"
     ]
    }
   ],
   "source": [
    "# 곱셈\n",
    "print(tf.math.multiply(a,b))"
   ]
  },
  {
   "cell_type": "code",
   "execution_count": 14,
   "id": "30750f3f-cfb2-458b-bf3b-26308b1a2b8c",
   "metadata": {},
   "outputs": [
    {
     "name": "stdout",
     "output_type": "stream",
     "text": [
      "tf.Tensor(0.5, shape=(), dtype=float32)\n"
     ]
    }
   ],
   "source": [
    "# 나눗셈\n",
    "print(tf.math.divide(a,b))"
   ]
  },
  {
   "cell_type": "code",
   "execution_count": 15,
   "id": "303d2650-5c10-4d35-8709-b014c450f02a",
   "metadata": {},
   "outputs": [
    {
     "name": "stdout",
     "output_type": "stream",
     "text": [
      "tf.Tensor(1.0, shape=(), dtype=float32)\n"
     ]
    }
   ],
   "source": [
    "# 나머지\n",
    "print(tf.math.mod(a,b))"
   ]
  },
  {
   "cell_type": "code",
   "execution_count": 17,
   "id": "e71a1c90-d601-47a3-80af-d4abdec31075",
   "metadata": {},
   "outputs": [
    {
     "name": "stdout",
     "output_type": "stream",
     "text": [
      "tf.Tensor(0.0, shape=(), dtype=float32)\n"
     ]
    }
   ],
   "source": [
    "# 몫\n",
    "print(tf.math.floordiv(a,b))"
   ]
  },
  {
   "cell_type": "markdown",
   "id": "91aa8f08-fee4-4b96-bc71-5b66c77ba616",
   "metadata": {},
   "source": [
    "### 2. 벡터(Vector)\n",
    "- rank-1 텐서"
   ]
  },
  {
   "cell_type": "code",
   "execution_count": 19,
   "id": "5c60fc5f-b40b-425a-9fe0-480a185b4aab",
   "metadata": {},
   "outputs": [],
   "source": [
    "ls = [10., 20., 30.] # float\n",
    "arr = np.array([10., 20., 30.])"
   ]
  },
  {
   "cell_type": "markdown",
   "id": "d0fbca7a-4a6e-4984-8e61-6a2494c80c78",
   "metadata": {},
   "source": [
    "#### 벡터 텐서 생성 "
   ]
  },
  {
   "cell_type": "code",
   "execution_count": 29,
   "id": "64e4bee1-7cd2-4774-834e-4a95bb2b9f78",
   "metadata": {},
   "outputs": [
    {
     "name": "stdout",
     "output_type": "stream",
     "text": [
      "vec1 :  tf.Tensor([10. 20. 30.], shape=(3,), dtype=float32)\n",
      "vec2 :  tf.Tensor([10. 20. 30.], shape=(3,), dtype=float32)\n"
     ]
    }
   ],
   "source": [
    "# tf.constant를 이용해 생성\n",
    "vec1 = tf.constant(ls, dtype=tf.float32)\n",
    "vec2 = tf.constant(arr, dtype=tf.float32) \n",
    "# 타입지정 안해주니까 float64로 들어간다.\n",
    "# arr의 기본타입이 float64 -> 넘파이 배열타입을 따라가나보다.\n",
    "\n",
    "print('vec1 : ', vec1)\n",
    "print('vec2 : ', vec2)"
   ]
  },
  {
   "cell_type": "code",
   "execution_count": 31,
   "id": "46002ad1-2917-4783-968a-5b0ac2f9848e",
   "metadata": {},
   "outputs": [
    {
     "name": "stdout",
     "output_type": "stream",
     "text": [
      "vec3 :  tf.Tensor([10. 20. 30.], shape=(3,), dtype=float32)\n",
      "vec4 :  tf.Tensor([10. 20. 30.], shape=(3,), dtype=float32)\n"
     ]
    }
   ],
   "source": [
    "# tf.convert_to_tensor를 이용해 생성\n",
    "vec3 = tf.convert_to_tensor(ls, dtype=tf.float32)\n",
    "vec4 = tf.convert_to_tensor(arr, dtype=tf.float32)\n",
    "print('vec3 : ', vec3)\n",
    "print('vec4 : ', vec4)"
   ]
  },
  {
   "cell_type": "markdown",
   "id": "726e4427-edea-4458-bb12-0009546c74fc",
   "metadata": {},
   "source": [
    "#### 랭크 확인"
   ]
  },
  {
   "cell_type": "code",
   "execution_count": 32,
   "id": "5e6f352e-89db-42d8-b63c-2e7be494302f",
   "metadata": {},
   "outputs": [
    {
     "name": "stdout",
     "output_type": "stream",
     "text": [
      "tf.Tensor(1, shape=(), dtype=int32)\n",
      "tf.Tensor(1, shape=(), dtype=int32)\n",
      "tf.Tensor(1, shape=(), dtype=int32)\n",
      "tf.Tensor(1, shape=(), dtype=int32)\n"
     ]
    }
   ],
   "source": [
    "print(tf.rank(vec1))\n",
    "print(tf.rank(vec2))\n",
    "print(tf.rank(vec3))\n",
    "print(tf.rank(vec4))"
   ]
  },
  {
   "cell_type": "markdown",
   "id": "94c198cc-13b8-4496-a8e2-2e4f603c8625",
   "metadata": {},
   "source": [
    "#### 연산\n",
    "element-wise 계산"
   ]
  },
  {
   "cell_type": "code",
   "execution_count": 34,
   "id": "7093c30a-c9a5-40be-a382-1503435d6347",
   "metadata": {},
   "outputs": [
    {
     "name": "stdout",
     "output_type": "stream",
     "text": [
      "result :  tf.Tensor([20. 40. 60.], shape=(3,), dtype=float32)\n",
      "rank :  tf.Tensor(1, shape=(), dtype=int32)\n"
     ]
    }
   ],
   "source": [
    "# 덧셈1\n",
    "add1 = tf.math.add(vec1, vec2)\n",
    "print('result : ', add1)\n",
    "print('rank : ', tf.rank(add1))"
   ]
  },
  {
   "cell_type": "code",
   "execution_count": 35,
   "id": "ca55f74f-9961-4606-b8a0-3ff44581600e",
   "metadata": {},
   "outputs": [
    {
     "name": "stdout",
     "output_type": "stream",
     "text": [
      "result :  tf.Tensor([20. 40. 60.], shape=(3,), dtype=float32)\n",
      "rank :  tf.Tensor(1, shape=(), dtype=int32)\n"
     ]
    }
   ],
   "source": [
    "# 덧셈2 : 파이썬의 연산자를 사용해도 된다.\n",
    "add2 = vec1 + vec2\n",
    "print('result : ', add2)\n",
    "print('rank : ', tf.rank(add2))"
   ]
  },
  {
   "cell_type": "code",
   "execution_count": 36,
   "id": "3a65706f-4f58-4c39-883b-6087774951c1",
   "metadata": {},
   "outputs": [
    {
     "name": "stdout",
     "output_type": "stream",
     "text": [
      "tf.Tensor([0. 0. 0.], shape=(3,), dtype=float32)\n",
      "tf.Tensor([100. 400. 900.], shape=(3,), dtype=float32)\n",
      "tf.Tensor([1. 1. 1.], shape=(3,), dtype=float32)\n",
      "tf.Tensor([0. 0. 0.], shape=(3,), dtype=float32)\n",
      "tf.Tensor([1. 1. 1.], shape=(3,), dtype=float32)\n"
     ]
    }
   ],
   "source": [
    "# 사칙연산1\n",
    "print(tf.math.subtract(vec1, vec2))\n",
    "print(tf.math.multiply(vec1, vec2))\n",
    "print(tf.math.divide(vec1, vec2))\n",
    "print(tf.math.mod(vec1, vec2))\n",
    "print(tf.math.floordiv(vec1, vec2))"
   ]
  },
  {
   "cell_type": "code",
   "execution_count": 37,
   "id": "5b90a0db-b5b8-4ed9-a107-152916a3da05",
   "metadata": {},
   "outputs": [
    {
     "name": "stdout",
     "output_type": "stream",
     "text": [
      "tf.Tensor([0. 0. 0.], shape=(3,), dtype=float32)\n",
      "tf.Tensor([100. 400. 900.], shape=(3,), dtype=float32)\n",
      "tf.Tensor([1. 1. 1.], shape=(3,), dtype=float32)\n",
      "tf.Tensor([0. 0. 0.], shape=(3,), dtype=float32)\n",
      "tf.Tensor([1. 1. 1.], shape=(3,), dtype=float32)\n"
     ]
    }
   ],
   "source": [
    "# 사칙연산2\n",
    "print(vec1 - vec2)\n",
    "print(vec1 * vec2)\n",
    "print(vec1 / vec2)\n",
    "print(vec1 % vec2)\n",
    "print(vec1 // vec2)"
   ]
  },
  {
   "cell_type": "code",
   "execution_count": 38,
   "id": "72bc34db-c493-4dc6-bb03-dfa033358796",
   "metadata": {},
   "outputs": [
    {
     "name": "stdout",
     "output_type": "stream",
     "text": [
      "tf.Tensor(60.0, shape=(), dtype=float32)\n",
      "tf.Tensor(60.0, shape=(), dtype=float32)\n"
     ]
    }
   ],
   "source": [
    "# 합계 구하기 - reduce_sum()\n",
    "print(tf.reduce_sum(vec1))\n",
    "print(tf.reduce_sum(vec2))"
   ]
  },
  {
   "cell_type": "code",
   "execution_count": 39,
   "id": "8e9cfd10-0586-4ef7-96b3-d9c32937e249",
   "metadata": {},
   "outputs": [
    {
     "name": "stdout",
     "output_type": "stream",
     "text": [
      "tf.Tensor([100. 400. 900.], shape=(3,), dtype=float32)\n"
     ]
    }
   ],
   "source": [
    "# 거듭제곱1 - tf.math.square()\n",
    "print(tf.math.square(vec1))"
   ]
  },
  {
   "cell_type": "code",
   "execution_count": 40,
   "id": "0e9c1a30-0aed-4979-a667-0f1942e56761",
   "metadata": {},
   "outputs": [
    {
     "name": "stdout",
     "output_type": "stream",
     "text": [
      "tf.Tensor([100. 400. 900.], shape=(3,), dtype=float32)\n"
     ]
    }
   ],
   "source": [
    "# 거듭제곱2 - **\n",
    "print(vec1**2)"
   ]
  },
  {
   "cell_type": "code",
   "execution_count": 41,
   "id": "a5db83ea-ca40-4a4a-bf5b-ad6d059c303e",
   "metadata": {},
   "outputs": [
    {
     "name": "stdout",
     "output_type": "stream",
     "text": [
      "tf.Tensor([3.162 4.472 5.477], shape=(3,), dtype=float32)\n"
     ]
    }
   ],
   "source": [
    "# 제곱근1 - tf.math.sqrt\n",
    "print(tf.math.sqrt(vec1))"
   ]
  },
  {
   "cell_type": "code",
   "execution_count": 42,
   "id": "c6b45c11-0a3d-42f4-a739-357a305e4796",
   "metadata": {},
   "outputs": [
    {
     "name": "stdout",
     "output_type": "stream",
     "text": [
      "tf.Tensor([3.162 4.472 5.477], shape=(3,), dtype=float32)\n"
     ]
    }
   ],
   "source": [
    "# 제곱근2 - **0.5\n",
    "print(vec1**0.5)"
   ]
  },
  {
   "cell_type": "code",
   "execution_count": 43,
   "id": "2de0360b-0f58-4352-93ff-14ee5fa73d22",
   "metadata": {},
   "outputs": [
    {
     "name": "stdout",
     "output_type": "stream",
     "text": [
      "tf.Tensor([20. 30. 40.], shape=(3,), dtype=float32)\n"
     ]
    }
   ],
   "source": [
    "# broadcasting\n",
    "print(vec1 + 10)"
   ]
  },
  {
   "cell_type": "markdown",
   "id": "4db115cf-68e6-4075-87da-83839c065abb",
   "metadata": {},
   "source": [
    "### 3. 행렬(Matrix)\n",
    "- rank-2 텐서"
   ]
  },
  {
   "cell_type": "markdown",
   "id": "ee4cd181-b0a8-40d1-8a54-bcb1e0223654",
   "metadata": {},
   "source": [
    "#### 행렬 텐서 생성"
   ]
  },
  {
   "cell_type": "code",
   "execution_count": 46,
   "id": "b3288b9a-69e9-4256-bf09-910dc33feeb8",
   "metadata": {},
   "outputs": [
    {
     "name": "stdout",
     "output_type": "stream",
     "text": [
      "[[10, 20], [30, 40]]\n"
     ]
    }
   ],
   "source": [
    "# 2차원 배열 정의\n",
    "ls2 = [[10, 20], [30,40]]\n",
    "print(ls2)"
   ]
  },
  {
   "cell_type": "code",
   "execution_count": 48,
   "id": "eb01c932-42a5-471c-995f-f560e0c2e668",
   "metadata": {},
   "outputs": [
    {
     "name": "stdout",
     "output_type": "stream",
     "text": [
      "mat1 : tf.Tensor(\n",
      "[[10 20]\n",
      " [30 40]], shape=(2, 2), dtype=int32)\n",
      "tf.Tensor(2, shape=(), dtype=int32) \n",
      "\n",
      "mat2 :  tf.Tensor(\n",
      "[[10 20]\n",
      " [30 40]], shape=(2, 2), dtype=int32)\n",
      "tf.Tensor(2, shape=(), dtype=int32)\n"
     ]
    }
   ],
   "source": [
    "mat1 = tf.constant(ls2)\n",
    "mat2 = tf.convert_to_tensor(ls2)\n",
    "print('mat1 :', mat1)\n",
    "print(tf.rank(mat1), '\\n')\n",
    "print('mat2 : ',mat2)\n",
    "print(tf.rank(mat2))"
   ]
  },
  {
   "cell_type": "markdown",
   "id": "8ec39947-d214-4256-a07b-d26ba2a39238",
   "metadata": {},
   "source": [
    "#### 벡터를 이용해 행렬 만들기\n",
    "벡터를 쌓거나 붙여서 행렬을 만들 수 있다."
   ]
  },
  {
   "cell_type": "code",
   "execution_count": 52,
   "id": "e8ace0c2-57f9-4d24-9c88-7a4a76c28b79",
   "metadata": {},
   "outputs": [
    {
     "name": "stdout",
     "output_type": "stream",
     "text": [
      "tf.Tensor(\n",
      "[[ 1  0]\n",
      " [-1  2]], shape=(2, 2), dtype=int32)\n"
     ]
    }
   ],
   "source": [
    "vec1 = tf.constant([1, 0])\n",
    "vec2 = tf.constant([-1, 2])\n",
    "\n",
    "# 위 아래로 쌓기 - stack\n",
    "mat3 = tf.stack([vec1, vec2])\n",
    "print(mat3)"
   ]
  },
  {
   "cell_type": "code",
   "execution_count": 53,
   "id": "70d24c9a-b9b5-4445-ac6d-08b1933e68a9",
   "metadata": {},
   "outputs": [
    {
     "name": "stdout",
     "output_type": "stream",
     "text": [
      "tf.Tensor(\n",
      "[[ 1 -1]\n",
      " [ 0  2]], shape=(2, 2), dtype=int32)\n"
     ]
    }
   ],
   "source": [
    "# vec1를 열벡터로 해서 2개를 붙이는 것\n",
    "print(tf.stack([vec1, vec2], axis=1))"
   ]
  },
  {
   "cell_type": "markdown",
   "id": "0755ae1a-c81d-4016-b5b1-c7614acd4bb5",
   "metadata": {},
   "source": [
    "#### 연산\n",
    "기본 연산은 다 element-wise"
   ]
  },
  {
   "cell_type": "code",
   "execution_count": 55,
   "id": "c10d03c7-cf9b-45f5-9fab-ff98b9db46f1",
   "metadata": {},
   "outputs": [
    {
     "name": "stdout",
     "output_type": "stream",
     "text": [
      "result :  tf.Tensor(\n",
      "[[ 10   0]\n",
      " [-30  80]], shape=(2, 2), dtype=int32)\n",
      "rank :  tf.Tensor(2, shape=(), dtype=int32)\n"
     ]
    }
   ],
   "source": [
    "# 요소 곱\n",
    "mul = tf.math.multiply(mat1, mat3)\n",
    "print('result : ', mul)\n",
    "print('rank : ', tf.rank(mul))"
   ]
  },
  {
   "cell_type": "code",
   "execution_count": 56,
   "id": "931b161e-2b8c-491e-9a16-cdc9c8a88ec5",
   "metadata": {},
   "outputs": [
    {
     "name": "stdout",
     "output_type": "stream",
     "text": [
      "result :  tf.Tensor(\n",
      "[[-10  40]\n",
      " [-10  80]], shape=(2, 2), dtype=int32)\n",
      "rank :  tf.Tensor(2, shape=(), dtype=int32)\n"
     ]
    }
   ],
   "source": [
    "# 일반 행렬 곱\n",
    "mat_mul = tf.matmul(mat1, mat3)\n",
    "print('result : ', mat_mul)\n",
    "print('rank : ', tf.rank(mat_mul))"
   ]
  },
  {
   "cell_type": "code",
   "execution_count": 58,
   "id": "5bb9d2b7-c000-4de0-b111-94d8587ee08a",
   "metadata": {},
   "outputs": [
    {
     "name": "stdout",
     "output_type": "stream",
     "text": [
      "result :  tf.Tensor(\n",
      "[[ 30  60]\n",
      " [ 90 120]], shape=(2, 2), dtype=int32)\n",
      "rank :  tf.Tensor(2, shape=(), dtype=int32)\n"
     ]
    }
   ],
   "source": [
    "# broadcasting\n",
    "bc = tf.math.multiply(mat1, 3)\n",
    "print('result : ', bc)\n",
    "print('rank : ', tf.rank(bc))"
   ]
  },
  {
   "cell_type": "code",
   "execution_count": 59,
   "id": "c4902aea-44b7-4afb-8f30-9dcbf7e3c01d",
   "metadata": {},
   "outputs": [
    {
     "name": "stdout",
     "output_type": "stream",
     "text": [
      "tf.Tensor(\n",
      "[[11 20]\n",
      " [29 42]], shape=(2, 2), dtype=int32)\n",
      "tf.Tensor(2, shape=(), dtype=int32)\n"
     ]
    }
   ],
   "source": [
    "# 덧셈1\n",
    "add1 = tf.math.add(mat1, mat3)\n",
    "print(add1)\n",
    "print(tf.rank(add1))"
   ]
  },
  {
   "cell_type": "code",
   "execution_count": 60,
   "id": "4f897560-5ef1-4de9-8e1a-ac360093323a",
   "metadata": {},
   "outputs": [
    {
     "name": "stdout",
     "output_type": "stream",
     "text": [
      "tf.Tensor(\n",
      "[[11 20]\n",
      " [29 42]], shape=(2, 2), dtype=int32)\n",
      "tf.Tensor(2, shape=(), dtype=int32)\n"
     ]
    }
   ],
   "source": [
    "# 덧셈2\n",
    "add2 = mat1 + mat3\n",
    "print(add2)\n",
    "print(tf.rank(add2))"
   ]
  },
  {
   "cell_type": "markdown",
   "id": "b8f6aa55-d599-443a-b6f1-a3421bcfda0c",
   "metadata": {},
   "source": [
    "#### 텐서를 넘파이로 바꾸기\n",
    "Tensor.numpy()를 쓰면된다."
   ]
  },
  {
   "cell_type": "code",
   "execution_count": 61,
   "id": "89388c8d-5f17-45b9-a954-2b008c435996",
   "metadata": {},
   "outputs": [
    {
     "name": "stdout",
     "output_type": "stream",
     "text": [
      "<class 'numpy.ndarray'>\n",
      "[[10 20]\n",
      " [30 40]]\n"
     ]
    }
   ],
   "source": [
    "np_arr = mat1.numpy()\n",
    "print(type(np_arr))\n",
    "print(np_arr)"
   ]
  },
  {
   "cell_type": "markdown",
   "id": "ff3bb44b-9b07-4192-a317-c5a785f44b17",
   "metadata": {},
   "source": [
    "#### 특수 행렬 생성\n",
    "tf.ones(), tf.zeros(), tf.fill()"
   ]
  },
  {
   "cell_type": "code",
   "execution_count": 66,
   "id": "f977824c-37a4-4066-b62a-d557c5a9d757",
   "metadata": {},
   "outputs": [
    {
     "name": "stdout",
     "output_type": "stream",
     "text": [
      "(2, 3)\n",
      "tf.Tensor(\n",
      "[[1. 1. 1.]\n",
      " [1. 1. 1.]], shape=(2, 3), dtype=float32)\n"
     ]
    }
   ],
   "source": [
    "# 일행렬 만들기\n",
    "t_ones = tf.ones((2,3))\n",
    "print(t_ones.shape)\n",
    "print(t_ones)"
   ]
  },
  {
   "cell_type": "code",
   "execution_count": 67,
   "id": "cfa1349c-aacc-4a89-9d71-eaf25923da3d",
   "metadata": {},
   "outputs": [
    {
     "name": "stdout",
     "output_type": "stream",
     "text": [
      "(2, 3)\n",
      "tf.Tensor(\n",
      "[[0. 0. 0.]\n",
      " [0. 0. 0.]], shape=(2, 3), dtype=float32)\n"
     ]
    }
   ],
   "source": [
    "# 영행렬 만들기\n",
    "t_zeros = tf.zeros((2,3))\n",
    "print(t_zeros.shape)\n",
    "print(t_zeros)"
   ]
  },
  {
   "cell_type": "code",
   "execution_count": 68,
   "id": "596bef86-cfa7-4ea0-b3c4-fdbd047cd819",
   "metadata": {},
   "outputs": [
    {
     "name": "stdout",
     "output_type": "stream",
     "text": [
      "tf.Tensor(\n",
      "[[7 7 7]\n",
      " [7 7 7]], shape=(2, 3), dtype=int32)\n"
     ]
    }
   ],
   "source": [
    "# tf.fill()\n",
    "# 큰 사이즈의 텐서를 만들 때는 tf.fill이 tf.ones보다 효율적이다\n",
    "\n",
    "t_fill = tf.fill((2,3), 7)\n",
    "print(t_fill)"
   ]
  },
  {
   "cell_type": "code",
   "execution_count": 69,
   "id": "3c40a8e0-3638-49a5-a165-dffda511403f",
   "metadata": {},
   "outputs": [
    {
     "data": {
      "text/plain": [
       "<tf.Tensor: shape=(4, 4), dtype=float32, numpy=\n",
       "array([[1., 0., 0., 0.],\n",
       "       [0., 1., 0., 0.],\n",
       "       [0., 0., 0., 1.],\n",
       "       [0., 0., 1., 0.]], dtype=float32)>"
      ]
     },
     "execution_count": 69,
     "metadata": {},
     "output_type": "execute_result"
    }
   ],
   "source": [
    "# 원-핫 인코딩 행렬\n",
    "# tf.one_hot()\n",
    "\n",
    "# 첫번째 매개변수는 원-핫 인코딩 위치 인덱스\n",
    "# 두번째 매개변수는 원-핫 인코딩 벡터의 길이 전달\n",
    "tf.one_hot([0,1,3,2], 4)\n",
    "# 행렬의 크기는 첫번째 매개변수의 길이 x 두번째 매개변수의 크기)"
   ]
  },
  {
   "cell_type": "markdown",
   "id": "25cb9d68-8f7f-41df-b206-289ea504ae0d",
   "metadata": {},
   "source": [
    "### 4. 고차원 텐서(Tensor)\n",
    "rank-3 텐서"
   ]
  },
  {
   "cell_type": "markdown",
   "id": "139014de-3a18-4cd2-8427-78cf5a7d94da",
   "metadata": {},
   "source": [
    "#### 텐서 생성"
   ]
  },
  {
   "cell_type": "code",
   "execution_count": 64,
   "id": "76408dbd-fff1-48f8-b335-532bea613898",
   "metadata": {},
   "outputs": [
    {
     "name": "stdout",
     "output_type": "stream",
     "text": [
      "rank :  tf.Tensor(3, shape=(), dtype=int32)\n",
      "tensor1 :  tf.Tensor(\n",
      "[[[ 1  2  3  4]\n",
      "  [ 5  6  7  8]]\n",
      "\n",
      " [[ 9 10 11 12]\n",
      "  [13 14 15 16]]\n",
      "\n",
      " [[17 18 19 20]\n",
      "  [21 22 23 24]]], shape=(3, 2, 4), dtype=int32)\n"
     ]
    }
   ],
   "source": [
    "# 2차원 배열 정의\n",
    "mat1 = [[1,2,3,4], [5,6,7,8]]\n",
    "mat2 = [[9,10,11,12], [13,14,15,16]]\n",
    "mat3 = [[17,18,19,20], [21,22,23,24]]\n",
    "\n",
    "tensor1 = tf.constant([mat1, mat2, mat3])\n",
    "\n",
    "print('rank : ', tf.rank(tensor1))\n",
    "\n",
    "print('tensor1 : ', tensor1)\n",
    "# shape=(3,2,4)에서 앞에 3이 channel개념"
   ]
  },
  {
   "cell_type": "markdown",
   "id": "ecf1d21a-07fb-4ff5-b645-8dcd0424ede2",
   "metadata": {},
   "source": [
    "#### stack으로 쌓아 만들기"
   ]
  },
  {
   "cell_type": "code",
   "execution_count": 65,
   "id": "ba716825-5bd6-4436-8f6e-d06267b4365c",
   "metadata": {},
   "outputs": [
    {
     "name": "stdout",
     "output_type": "stream",
     "text": [
      "rank :  tf.Tensor(3, shape=(), dtype=int32)\n",
      "tensor2 :  tf.Tensor(\n",
      "[[[ 1  2  3  4]\n",
      "  [ 5  6  7  8]]\n",
      "\n",
      " [[ 9 10 11 12]\n",
      "  [13 14 15 16]]\n",
      "\n",
      " [[17 18 19 20]\n",
      "  [21 22 23 24]]], shape=(3, 2, 4), dtype=int32)\n"
     ]
    }
   ],
   "source": [
    "tensor2 = tf.stack([mat1, mat2, mat3])\n",
    "print('rank : ', tf.rank(tensor2))\n",
    "print('tensor2 : ', tensor2)"
   ]
  },
  {
   "cell_type": "markdown",
   "id": "db2d97cb-f86e-4400-a5f3-3192f40e74cf",
   "metadata": {},
   "source": [
    "### 5. 텐서의 인덱싱, 슬라이싱\n",
    "텐서도 파이썬 리스트, 넘파이 배열의 인덱싱, 슬라이싱과 방법이 비슷하다."
   ]
  },
  {
   "cell_type": "markdown",
   "id": "2f84b822-1bd3-4b38-96cf-386c431fe950",
   "metadata": {},
   "source": [
    "벡터"
   ]
  },
  {
   "cell_type": "code",
   "execution_count": 70,
   "id": "d0225521-3248-4da4-9e1e-1ad13c90b268",
   "metadata": {},
   "outputs": [
    {
     "name": "stdout",
     "output_type": "stream",
     "text": [
      "tf.Tensor([10 20 30 40 50], shape=(5,), dtype=int32)\n"
     ]
    }
   ],
   "source": [
    "vec = tf.constant([10, 20, 30, 40, 50])\n",
    "print(vec)"
   ]
  },
  {
   "cell_type": "code",
   "execution_count": 71,
   "id": "cdfedfd0-ea2b-4778-bbe6-6158b558ac16",
   "metadata": {},
   "outputs": [
    {
     "name": "stdout",
     "output_type": "stream",
     "text": [
      "tf.Tensor(10, shape=(), dtype=int32)\n"
     ]
    }
   ],
   "source": [
    "print(vec[0])"
   ]
  },
  {
   "cell_type": "code",
   "execution_count": 72,
   "id": "dc183ba5-1eb9-434a-81b6-8a95eafb6d74",
   "metadata": {},
   "outputs": [
    {
     "name": "stdout",
     "output_type": "stream",
     "text": [
      "tf.Tensor(50, shape=(), dtype=int32)\n"
     ]
    }
   ],
   "source": [
    "print(vec[-1])"
   ]
  },
  {
   "cell_type": "code",
   "execution_count": 73,
   "id": "98b4e6b5-8076-4932-9356-303326487331",
   "metadata": {},
   "outputs": [
    {
     "name": "stdout",
     "output_type": "stream",
     "text": [
      "tf.Tensor([10 20 30], shape=(3,), dtype=int32)\n"
     ]
    }
   ],
   "source": [
    "print(vec[:3])"
   ]
  },
  {
   "cell_type": "markdown",
   "id": "aaf01875-3826-4d04-9b54-af4a197deb62",
   "metadata": {},
   "source": [
    "행렬"
   ]
  },
  {
   "cell_type": "code",
   "execution_count": 75,
   "id": "4b82c44f-e30a-40cf-bf3a-e85a2608b869",
   "metadata": {},
   "outputs": [
    {
     "name": "stdout",
     "output_type": "stream",
     "text": [
      "tf.Tensor(\n",
      "[[1 2 3 4]\n",
      " [5 6 7 8]], shape=(2, 4), dtype=int32)\n"
     ]
    }
   ],
   "source": [
    "mat = tf.constant([[1,2,3,4], [5,6,7,8]])\n",
    "print(mat)"
   ]
  },
  {
   "cell_type": "code",
   "execution_count": 76,
   "id": "0614d740-983b-4816-98dc-5950483224ac",
   "metadata": {},
   "outputs": [
    {
     "name": "stdout",
     "output_type": "stream",
     "text": [
      "tf.Tensor(3, shape=(), dtype=int32)\n"
     ]
    }
   ],
   "source": [
    "print(mat[0,2])"
   ]
  },
  {
   "cell_type": "code",
   "execution_count": 77,
   "id": "591428f4-435a-4b62-8c00-301f45a28150",
   "metadata": {},
   "outputs": [
    {
     "name": "stdout",
     "output_type": "stream",
     "text": [
      "tf.Tensor([1 2 3 4], shape=(4,), dtype=int32)\n"
     ]
    }
   ],
   "source": [
    "print(mat[0, :])"
   ]
  },
  {
   "cell_type": "code",
   "execution_count": 78,
   "id": "136644c7-cc28-4cf7-a0f6-3e0435105e9d",
   "metadata": {},
   "outputs": [
    {
     "name": "stdout",
     "output_type": "stream",
     "text": [
      "tf.Tensor([2 6], shape=(2,), dtype=int32)\n"
     ]
    }
   ],
   "source": [
    "print(mat[:, 1])"
   ]
  },
  {
   "cell_type": "markdown",
   "id": "ce81985d-5e0a-4de7-a65b-a681df5e02d8",
   "metadata": {},
   "source": [
    "텐서"
   ]
  },
  {
   "cell_type": "code",
   "execution_count": 79,
   "id": "4534dea0-786a-47cc-9704-a163d294c9fd",
   "metadata": {},
   "outputs": [
    {
     "name": "stdout",
     "output_type": "stream",
     "text": [
      "tf.Tensor(\n",
      "[[[ 1  2  3]\n",
      "  [ 4  5  6]]\n",
      "\n",
      " [[ 7  8  9]\n",
      "  [10 11 12]]], shape=(2, 2, 3), dtype=int32)\n"
     ]
    }
   ],
   "source": [
    "tensor = tf.constant([\n",
    "    [[1,2,3],\n",
    "     [4,5,6]],\n",
    "    [[7,8,9],\n",
    "     [10, 11, 12]]\n",
    "])\n",
    "print(tensor)"
   ]
  },
  {
   "cell_type": "code",
   "execution_count": 80,
   "id": "ac7d955a-fa31-4dec-ab51-d02af99b46a7",
   "metadata": {},
   "outputs": [
    {
     "name": "stdout",
     "output_type": "stream",
     "text": [
      "tf.Tensor(\n",
      "[[1 2 3]\n",
      " [4 5 6]], shape=(2, 3), dtype=int32)\n"
     ]
    }
   ],
   "source": [
    "print(tensor[0, :, :])"
   ]
  },
  {
   "cell_type": "code",
   "execution_count": 81,
   "id": "adb15713-994d-4668-b144-c4b7b6ddbb45",
   "metadata": {},
   "outputs": [
    {
     "name": "stdout",
     "output_type": "stream",
     "text": [
      "tf.Tensor(\n",
      "[[[ 1  2]\n",
      "  [ 4  5]]\n",
      "\n",
      " [[ 7  8]\n",
      "  [10 11]]], shape=(2, 2, 2), dtype=int32)\n"
     ]
    }
   ],
   "source": [
    "print(tensor[:, :2, :2])"
   ]
  },
  {
   "cell_type": "markdown",
   "id": "3736d8f0-41aa-49dc-ad0f-0f603203e34f",
   "metadata": {},
   "source": [
    "### 6. 텐서의 차원 조작\n",
    "실제 모델(예 : CNN)을 만들고 데이터를 모델에 넣어야할 때 데이터의 텐서 크기가 안맞으면 실행 자체가 불가하다. 이를 피하기 위해 차원이 다를 경우 맞춰서 넣어줘야 한다.\n",
    "- reshape\n",
    "- transpose\n",
    "- squeeze\n",
    "- split"
   ]
  },
  {
   "cell_type": "markdown",
   "id": "b44dc892-23f4-42d4-b359-82fc03f31509",
   "metadata": {},
   "source": [
    "#### transpose"
   ]
  },
  {
   "cell_type": "code",
   "execution_count": 89,
   "id": "ea768ec5-9b42-4bd9-853a-1d22eb557a9c",
   "metadata": {},
   "outputs": [
    {
     "name": "stdout",
     "output_type": "stream",
     "text": [
      "tf.Tensor(\n",
      "[[4 4 4 4 4 4]\n",
      " [4 4 4 4 4 4]\n",
      " [4 4 4 4 4 4]], shape=(3, 6), dtype=int32)\n"
     ]
    }
   ],
   "source": [
    "mat = tf.constant(tf.fill((3,6), 4))\n",
    "print(mat)"
   ]
  },
  {
   "cell_type": "code",
   "execution_count": 90,
   "id": "845eea6e-684f-436c-91d8-28e9857c180b",
   "metadata": {},
   "outputs": [
    {
     "name": "stdout",
     "output_type": "stream",
     "text": [
      "tf.Tensor(\n",
      "[[4 4 4]\n",
      " [4 4 4]\n",
      " [4 4 4]\n",
      " [4 4 4]\n",
      " [4 4 4]\n",
      " [4 4 4]], shape=(6, 3), dtype=int32)\n"
     ]
    }
   ],
   "source": [
    "# 전치1\n",
    "mat_tr = tf.transpose(mat)\n",
    "print(mat_tr)"
   ]
  },
  {
   "cell_type": "code",
   "execution_count": 91,
   "id": "40cac183-7332-4deb-9478-9c4d76db8d0e",
   "metadata": {},
   "outputs": [
    {
     "name": "stdout",
     "output_type": "stream",
     "text": [
      "[[4 4 4]\n",
      " [4 4 4]\n",
      " [4 4 4]\n",
      " [4 4 4]\n",
      " [4 4 4]\n",
      " [4 4 4]]\n",
      "[[4 4 4]\n",
      " [4 4 4]\n",
      " [4 4 4]\n",
      " [4 4 4]\n",
      " [4 4 4]\n",
      " [4 4 4]]\n"
     ]
    }
   ],
   "source": [
    "# 전치2\n",
    "print(mat.numpy().T)\n",
    "print(np.transpose(mat))"
   ]
  },
  {
   "cell_type": "markdown",
   "id": "69b5ef9c-75d6-4a4a-9f6c-db30dfd148e0",
   "metadata": {},
   "source": [
    "#### reshape"
   ]
  },
  {
   "cell_type": "code",
   "execution_count": 94,
   "id": "d8c0fec6-f8e2-41ca-af99-9183a5f9d103",
   "metadata": {},
   "outputs": [
    {
     "name": "stdout",
     "output_type": "stream",
     "text": [
      "tf.Tensor(\n",
      "[[[4 4 4]\n",
      "  [4 4 4]\n",
      "  [4 4 4]]\n",
      "\n",
      " [[4 4 4]\n",
      "  [4 4 4]\n",
      "  [4 4 4]]], shape=(2, 3, 3), dtype=int32)\n"
     ]
    }
   ],
   "source": [
    "# 고차원 텐서로도 변경가능\n",
    "mat_reshape = tf.reshape(mat, shape=(2,3,3)) \n",
    "print(mat_reshape)"
   ]
  },
  {
   "cell_type": "code",
   "execution_count": 95,
   "id": "d74ad43e-bd0b-46c1-b80b-f7fb10f7290b",
   "metadata": {},
   "outputs": [
    {
     "name": "stdout",
     "output_type": "stream",
     "text": [
      "tf.Tensor(\n",
      "[[4 4]\n",
      " [4 4]\n",
      " [4 4]\n",
      " [4 4]\n",
      " [4 4]\n",
      " [4 4]\n",
      " [4 4]\n",
      " [4 4]\n",
      " [4 4]], shape=(9, 2), dtype=int32)\n"
     ]
    }
   ],
   "source": [
    "mat_reshape = tf.reshape(mat, shape=(9,2))\n",
    "print(mat_reshape)"
   ]
  },
  {
   "cell_type": "code",
   "execution_count": 96,
   "id": "f8bda790-79f4-45ba-acfa-1713ef47e02f",
   "metadata": {},
   "outputs": [
    {
     "name": "stdout",
     "output_type": "stream",
     "text": [
      "tf.Tensor([4 4 4 4 4 4 4 4 4 4 4 4 4 4 4 4 4 4], shape=(18,), dtype=int32)\n",
      "(18,)\n"
     ]
    }
   ],
   "source": [
    "# -1을 넣으면 벡터로 바꿔준다.\n",
    "mat_reshape = tf.reshape(mat, shape=(-1))\n",
    "print(mat_reshape)\n",
    "print(mat_reshape.shape)"
   ]
  },
  {
   "cell_type": "markdown",
   "id": "068f3998-9aaa-4fda-921e-f09f3c7e2ae7",
   "metadata": {},
   "source": [
    "#### squeeze\n",
    "불필요한 차원을 없애준다. (차원 크기가 1짜리인 것은 필요없다)"
   ]
  },
  {
   "cell_type": "code",
   "execution_count": 97,
   "id": "7868de4f-896a-4890-a04a-b7817b7538d9",
   "metadata": {},
   "outputs": [
    {
     "name": "stdout",
     "output_type": "stream",
     "text": [
      "(1, 2, 1, 4, 1) ----------- (1, 2, 4)\n"
     ]
    }
   ],
   "source": [
    "# 1,2,1,4,1 차원의 영행렬 생성\n",
    "t = tf.zeros((1,2,1,4,1)) # 2,4인덱스를 삭제\n",
    "t_sqz = tf.squeeze(t, axis=(2,4))\n",
    "print(t.shape, '-----------', t_sqz.shape)"
   ]
  },
  {
   "cell_type": "markdown",
   "id": "45231ada-8181-432c-83ab-7e7eed00b1e9",
   "metadata": {},
   "source": [
    "#### split\n",
    "- 텐서를 쪼갤 수 있다."
   ]
  },
  {
   "cell_type": "code",
   "execution_count": 133,
   "id": "ecacadce-309d-445a-b1f2-628290fd8ead",
   "metadata": {},
   "outputs": [
    {
     "name": "stdout",
     "output_type": "stream",
     "text": [
      "[0.165 0.901 0.631 0.435 0.292 0.643]\n"
     ]
    }
   ],
   "source": [
    "tf.random.set_seed(1)\n",
    "t = tf.random.uniform((6,))\n",
    "\n",
    "print(t.numpy())"
   ]
  },
  {
   "cell_type": "code",
   "execution_count": 134,
   "id": "73ba676a-daeb-4029-9b8d-b11b77e6c4d7",
   "metadata": {},
   "outputs": [
    {
     "data": {
      "text/plain": [
       "[array([0.165, 0.901], dtype=float32),\n",
       " array([0.631, 0.435], dtype=float32),\n",
       " array([0.292, 0.643], dtype=float32)]"
      ]
     },
     "execution_count": 134,
     "metadata": {},
     "output_type": "execute_result"
    }
   ],
   "source": [
    "t_splits = tf.split(t, num_or_size_splits=3) # num_or_size_splits : 나눌 개수 , 나눌 크기(서로 다르게 지정가능)\n",
    "[item.numpy() for item in t_splits]"
   ]
  },
  {
   "cell_type": "code",
   "execution_count": 135,
   "id": "f8fc8390-bc2e-4f8c-b59d-b1bb62d47f9c",
   "metadata": {},
   "outputs": [
    {
     "name": "stdout",
     "output_type": "stream",
     "text": [
      "[0.51  0.444 0.409 0.992 0.689]\n"
     ]
    },
    {
     "data": {
      "text/plain": [
       "[<tf.Tensor: shape=(3,), dtype=float32, numpy=array([0.51 , 0.444, 0.409], dtype=float32)>,\n",
       " <tf.Tensor: shape=(2,), dtype=float32, numpy=array([0.992, 0.689], dtype=float32)>]"
      ]
     },
     "execution_count": 135,
     "metadata": {},
     "output_type": "execute_result"
    }
   ],
   "source": [
    "t = tf.random.uniform((5,))\n",
    "print(t.numpy())\n",
    "t_splits = tf.split(t, num_or_size_splits=[3,2]) # 3개, 2개 리스트로 전달한다\n",
    "t_splits"
   ]
  },
  {
   "cell_type": "code",
   "execution_count": 136,
   "id": "78c818a8-76b1-4693-ac68-aa5f2533335a",
   "metadata": {},
   "outputs": [
    {
     "data": {
      "text/plain": [
       "[array([0.51 , 0.444, 0.409], dtype=float32),\n",
       " array([0.992, 0.689], dtype=float32)]"
      ]
     },
     "execution_count": 136,
     "metadata": {},
     "output_type": "execute_result"
    }
   ],
   "source": [
    "[item.numpy() for item in t_splits]"
   ]
  },
  {
   "cell_type": "markdown",
   "id": "fcd20d75-8ed8-45dc-a6a9-8aa60161b7b2",
   "metadata": {},
   "source": [
    "### 7. 변수(variable)\n",
    "딥러닝 모델을 만들 때 변수를 활용하면 정교하게 연산을 제어할 수 있다.\\\n",
    "특히, 가중치와 학습률(lr)처럼 모델 학습 및 추론 과정에서 값이 변경되는 경우 변수를 활용한다.\n",
    "- 역전파를 할 때 그래프 구조를 이용해 미분 연산을 하는데, 이 때 중간 연산 결과인 미분계수들을 저장할 때 변수를 이용한다. 업데이트 할 때 마다 변수값이 변한다.\n",
    "- 최적화 알고리즘을 적용할 때 모델이 학습하는 속도를 정하는 학습률도 변수로 저장된다."
   ]
  },
  {
   "cell_type": "markdown",
   "id": "6c75c8e0-e46e-4cd1-a07c-e88a72ea30f7",
   "metadata": {},
   "source": [
    "#### 변수생성"
   ]
  },
  {
   "cell_type": "code",
   "execution_count": 98,
   "id": "1e028fbb-72b9-43bd-9a5a-b79e9a520258",
   "metadata": {},
   "outputs": [
    {
     "name": "stdout",
     "output_type": "stream",
     "text": [
      "tf.Tensor(\n",
      "[[0 1 2]\n",
      " [3 4 5]], shape=(2, 3), dtype=int32)\n"
     ]
    }
   ],
   "source": [
    "tensor = tf.constant([[0,1,2], [3,4,5]])\n",
    "print(tensor)"
   ]
  },
  {
   "cell_type": "markdown",
   "id": "e187b996-ca83-48b0-90a1-3bc2d55629c8",
   "metadata": {},
   "source": [
    "텐서를 Variable 함수에 넣으면 텐서플로우 변수가 생성된다. 여기서 텐서의 입력값은 변수의 초기값으로 설정된다. 업데이트 시마다 값이 변경될 수 있다."
   ]
  },
  {
   "cell_type": "code",
   "execution_count": 99,
   "id": "cb56cb2f-7de4-401d-b298-a1edb15d7afd",
   "metadata": {},
   "outputs": [
    {
     "name": "stdout",
     "output_type": "stream",
     "text": [
      "<tf.Variable 'Variable:0' shape=(2, 3) dtype=int32, numpy=\n",
      "array([[0, 1, 2],\n",
      "       [3, 4, 5]])>\n"
     ]
    }
   ],
   "source": [
    "tensor_var = tf.Variable(tensor)\n",
    "print(tensor_var)"
   ]
  },
  {
   "cell_type": "code",
   "execution_count": 106,
   "id": "4e495cc2-e517-4d7c-b9df-989ebbd34513",
   "metadata": {},
   "outputs": [
    {
     "name": "stdout",
     "output_type": "stream",
     "text": [
      "<tf.Variable 'my_var:0' shape=(2, 3) dtype=int32, numpy=\n",
      "array([[0, 1, 2],\n",
      "       [3, 4, 5]])>\n"
     ]
    }
   ],
   "source": [
    "# 변수 이름도 지정가능하다.\n",
    "tensor_var = tf.Variable(tensor, name=\"my_var\")\n",
    "print(tensor_var)"
   ]
  },
  {
   "cell_type": "markdown",
   "id": "b850678a-0874-41c9-af90-a9beffca247e",
   "metadata": {},
   "source": [
    "변수는 텐서 구조에 저장되어 있는 값이 달라질 수 있다는 점에서 값을 변경할 수 없는 상수 형태의 텐서를 만드는 constant 함수와 구별된다."
   ]
  },
  {
   "cell_type": "markdown",
   "id": "75f0a416-19ba-497a-b04f-7cc362dae37e",
   "metadata": {},
   "source": [
    "#### 변수속성\n",
    "변수의 속성값들을 확인해보자."
   ]
  },
  {
   "cell_type": "code",
   "execution_count": 101,
   "id": "f7e113c6-5c2f-429c-8444-903952f0f3f1",
   "metadata": {},
   "outputs": [
    {
     "name": "stdout",
     "output_type": "stream",
     "text": [
      "['SaveSliceInfo', 'aggregation', 'assign', 'assign_add', 'assign_sub', 'batch_scatter_update', 'constraint', 'count_up_to', 'create', 'device', 'dtype', 'eval', 'experimental_ref', 'from_proto', 'gather_nd', 'get_shape', 'graph', 'handle', 'initial_value', 'initialized_value', 'initializer', 'is_initialized', 'load', 'name', 'numpy', 'op', 'read_value', 'ref', 'scatter_add', 'scatter_div', 'scatter_max', 'scatter_min', 'scatter_mul', 'scatter_nd_add', 'scatter_nd_max', 'scatter_nd_min', 'scatter_nd_sub', 'scatter_nd_update', 'scatter_sub', 'scatter_update', 'set_shape', 'shape', 'sparse_read', 'synchronization', 'to_proto', 'trainable', 'value']\n"
     ]
    }
   ],
   "source": [
    "print([name for name in dir(tensor_var) if name[0]!='_'])"
   ]
  },
  {
   "cell_type": "code",
   "execution_count": 107,
   "id": "ace7ef5f-9a69-4451-82f9-579e07331fea",
   "metadata": {},
   "outputs": [
    {
     "name": "stdout",
     "output_type": "stream",
     "text": [
      "이름 :  my_var:0\n",
      "크기 :  (2, 3)\n",
      "자료형 :  <dtype: 'int32'>\n",
      "배열 :  [[0 1 2]\n",
      " [3 4 5]]\n"
     ]
    }
   ],
   "source": [
    "print('이름 : ', tensor_var.name)\n",
    "print('크기 : ', tensor_var.shape)\n",
    "print('자료형 : ', tensor_var.dtype)\n",
    "print('배열 : ', tensor_var.numpy())"
   ]
  },
  {
   "cell_type": "markdown",
   "id": "59d8aa88-eea9-4bae-b613-7a514dd7d93b",
   "metadata": {},
   "source": [
    "#### 변수변경(값 업데이트)\n",
    "- assign() 메소드를 이용하면 변수에 새로운 값을 할당할 수 있다. \n",
    "- 단, 입력 차원과 데이터 타입이 같아야 한다."
   ]
  },
  {
   "cell_type": "code",
   "execution_count": 108,
   "id": "41727cd4-9d18-49b5-8b5f-652789a5994f",
   "metadata": {},
   "outputs": [
    {
     "name": "stdout",
     "output_type": "stream",
     "text": [
      "<tf.Variable 'my_var:0' shape=(2, 3) dtype=int32, numpy=\n",
      "array([[0, 1, 2],\n",
      "       [3, 4, 5]])>\n",
      "<tf.Variable 'my_var:0' shape=(2, 3) dtype=int32, numpy=\n",
      "array([[1, 1, 1],\n",
      "       [2, 2, 2]])>\n"
     ]
    }
   ],
   "source": [
    "print(tensor_var)\n",
    "tensor_var.assign([[1,1,1], [2,2,2]])\n",
    "print(tensor_var)"
   ]
  },
  {
   "cell_type": "markdown",
   "id": "3f7bda5d-8635-4a5e-a737-61af3935d935",
   "metadata": {},
   "source": [
    "#### 변수를 텐서로 변환\n",
    "- convert_to_tensor() 함수를 이용하면, 변수를 텐서로 변경할 수 있다.\n",
    "- 텐서로 변경하면 크기와 값을 변경할 수 없다."
   ]
  },
  {
   "cell_type": "code",
   "execution_count": 109,
   "id": "699b1e72-5c8f-4704-a61d-424a19ff1516",
   "metadata": {},
   "outputs": [
    {
     "name": "stdout",
     "output_type": "stream",
     "text": [
      "tf.Tensor(\n",
      "[[1 1 1]\n",
      " [2 2 2]], shape=(2, 3), dtype=int32)\n"
     ]
    }
   ],
   "source": [
    "tensor2 = tf.convert_to_tensor(tensor_var)\n",
    "print(tensor2)"
   ]
  },
  {
   "cell_type": "markdown",
   "id": "272d8007-af23-4720-a738-2197f5383f83",
   "metadata": {},
   "source": [
    "텐서플로우 변수도 텐서 연산과 동일하게 연산자 또는 함수를 사용하여 연산할 수 있다."
   ]
  },
  {
   "cell_type": "markdown",
   "id": "7d57c08f-e2f4-4d9b-a1cb-2dc972f6c342",
   "metadata": {},
   "source": [
    "### 8. 자동미분(autodiff)\n",
    "- Automatic Differentiation 또는 autodiff"
   ]
  },
  {
   "cell_type": "code",
   "execution_count": 113,
   "id": "3355b3f4-83b3-4f5d-8dcb-9e0b2a7391d9",
   "metadata": {},
   "outputs": [
    {
     "name": "stdout",
     "output_type": "stream",
     "text": [
      "X :  [ 0.438 -0.534 -0.077  1.566 -0.101 -0.274  1.42   1.261 -0.436 -1.963]\n",
      "y :  [-0.685 -3.603 -2.231  2.697 -2.304 -2.823  2.261  1.783 -3.309 -7.89 ]\n"
     ]
    }
   ],
   "source": [
    "g = tf.random.Generator.from_seed(1)\n",
    "X = g.normal(shape=(10, ))\n",
    "y = 3*X - 2\n",
    "print('X : ', X.numpy())\n",
    "print('y : ', y.numpy())"
   ]
  },
  {
   "cell_type": "code",
   "execution_count": 119,
   "id": "9949c5e8-2a50-4048-a499-904d3ca85008",
   "metadata": {},
   "outputs": [],
   "source": [
    "# MSE 함수 정의\n",
    "def loss_mse(X, y, a, b):\n",
    "    y_pred = a*X + b\n",
    "    squared_error = (y_pred - y) ** 2\n",
    "    mean_squared_error = tf.reduce_mean(squared_error)\n",
    "    \n",
    "    return mean_squared_error"
   ]
  },
  {
   "cell_type": "markdown",
   "id": "f4c00e49-ec7a-4586-8a95-5b975fe664f7",
   "metadata": {},
   "source": [
    "#### tf.GradientTape\n",
    "- 텐서플로우가 자동 미분하는 중간 과정을 모두 기록할 수 있다."
   ]
  },
  {
   "cell_type": "markdown",
   "id": "4a189e5c-484b-49fd-93a8-bf19380d2b62",
   "metadata": {},
   "source": [
    "- a,b를 값이 0.0으로 초기화 해준다.\n",
    "- 자동미분을 200번 진행하고 20번마다 중간 계산 결과를 출력해보자."
   ]
  },
  {
   "cell_type": "code",
   "execution_count": 132,
   "id": "14d647ed-eb4a-4639-aac4-ada74502d2bc",
   "metadata": {},
   "outputs": [
    {
     "name": "stdout",
     "output_type": "stream",
     "text": [
      "EPOCH 20 - MSE : 0.3061 --- a : 2.6068 --- b : -1.6483\n",
      "EPOCH 40 - MSE : 0.0068 --- a : 2.9455 --- b : -1.9426\n",
      "EPOCH 60 - MSE : 0.0002 --- a : 2.9922 --- b : -1.9910\n",
      "EPOCH 80 - MSE : 0.0000 --- a : 2.9988 --- b : -1.9986\n",
      "EPOCH 100 - MSE : 0.0000 --- a : 2.9998 --- b : -1.9998\n",
      "EPOCH 120 - MSE : 0.0000 --- a : 3.0000 --- b : -2.0000\n",
      "EPOCH 140 - MSE : 0.0000 --- a : 3.0000 --- b : -2.0000\n",
      "EPOCH 160 - MSE : 0.0000 --- a : 3.0000 --- b : -2.0000\n",
      "EPOCH 180 - MSE : 0.0000 --- a : 3.0000 --- b : -2.0000\n",
      "EPOCH 200 - MSE : 0.0000 --- a : 3.0000 --- b : -2.0000\n"
     ]
    }
   ],
   "source": [
    "a = tf.Variable(0.0)\n",
    "b = tf.Variable(0.0)\n",
    "\n",
    "EPOCHS = 200\n",
    "\n",
    "for epoch in range(1, EPOCHS+1):\n",
    "    with tf.GradientTape() as tape:\n",
    "        mse = loss_mse(X, y, a, b)\n",
    "    \n",
    "    grad = tape.gradient(mse, {'a' : a, 'b' : b})\n",
    "    d_a, d_b = grad['a'], grad['b']\n",
    "    \n",
    "    a.assign_sub(d_a * 0.05)\n",
    "    b.assign_sub(d_b * 0.05)\n",
    "    \n",
    "    if epoch % 20 == 0:\n",
    "        print(f'EPOCH {epoch} - MSE : {mse:.4f} --- a : {a.numpy():.4f} --- b : {b.numpy():.4f}')"
   ]
  },
  {
   "cell_type": "markdown",
   "id": "16cd038e-cf78-4e16-94f1-df721873a145",
   "metadata": {},
   "source": [
    "$ y = 3x-2$ 에 근사하는 것을 볼 수 있다."
   ]
  },
  {
   "cell_type": "markdown",
   "id": "f37d9ef1-a9be-4f4c-ba05-0d7250a1333e",
   "metadata": {},
   "source": [
    "#### tf.random에 대한 팁\n",
    "텐서플로우는 2개의 난수 생성 프로세스를 제공한다. https://www.tensorflow.org/guide/random_numbers?hl=ko\n",
    "1. tf.random.Generator 객체 사용해서 생성\n",
    "2. tf.random.stateless_uniform와 같은 순수-함수형으로 상태가 없는 랜덤 함수를 통한 방식. 같은 디바이스에서 동일한 인수를 (시드값 포함) 통해 해당 함수를 호출 하면 항상 같은 결과를 출력 합니다.\n",
    "3. tf.random.uniform, tf.random.normal 같은 RNG들. TF 1.x에서 쓰이던 구시대의 유물같은것. 사용을 권장하지 않는다."
   ]
  },
  {
   "cell_type": "code",
   "execution_count": null,
   "id": "39482869-b391-4a22-901a-98d01bb86001",
   "metadata": {},
   "outputs": [],
   "source": []
  },
  {
   "cell_type": "code",
   "execution_count": null,
   "id": "865549e4-fe52-4280-a4e3-b22be86b6d34",
   "metadata": {},
   "outputs": [],
   "source": []
  },
  {
   "cell_type": "code",
   "execution_count": null,
   "id": "36e0f125-c75b-477f-98bb-27b86a46a713",
   "metadata": {},
   "outputs": [],
   "source": []
  },
  {
   "cell_type": "markdown",
   "id": "ad28bc6e-e0be-4662-8bc3-7aa4f8ffb4b8",
   "metadata": {},
   "source": [
    "## 헷갈리는 것 정리\n",
    "1. stack은 인자를 []로 받는다\n",
    "2. 영행렬, 1행렬은 인자를 튜플로 받는다"
   ]
  },
  {
   "cell_type": "code",
   "execution_count": null,
   "id": "4e3ba9e2-ea74-4c55-a5db-af0bf9ebfee7",
   "metadata": {},
   "outputs": [],
   "source": []
  }
 ],
 "metadata": {
  "kernelspec": {
   "display_name": "py-tensor",
   "language": "python",
   "name": "py-tensor"
  },
  "language_info": {
   "codemirror_mode": {
    "name": "ipython",
    "version": 3
   },
   "file_extension": ".py",
   "mimetype": "text/x-python",
   "name": "python",
   "nbconvert_exporter": "python",
   "pygments_lexer": "ipython3",
   "version": "3.8.12"
  }
 },
 "nbformat": 4,
 "nbformat_minor": 5
}

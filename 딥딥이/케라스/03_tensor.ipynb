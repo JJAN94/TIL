{
 "cells": [
  {
   "cell_type": "markdown",
   "id": "d347cc49-6dab-4909-b244-19dbdb648257",
   "metadata": {},
   "source": [
    "# 텐서(tensor)란?\n",
    "- 데이터를 위한 컨테이너(container)"
   ]
  },
  {
   "cell_type": "code",
   "execution_count": 1,
   "id": "0af8e751-d82a-42d6-a329-943409dba015",
   "metadata": {},
   "outputs": [],
   "source": [
    "import numpy as np"
   ]
  },
  {
   "cell_type": "markdown",
   "id": "dd19716a-ebb3-4f19-a496-cd2686a95583",
   "metadata": {},
   "source": [
    "## 1. 0D tensor (스칼라)\n",
    "- 한개의 숫자값을 가짐.\n",
    "- numpy에서는 float32, float64가 스칼라 텐서\n",
    "- ndim 속성을 사용하면 넘파이 배열의 축 개수를 확인 할 수 있다. (ndim==0)\n",
    "- 텐서의 축 개수를 랭크(rank)라고 부른다."
   ]
  },
  {
   "cell_type": "code",
   "execution_count": 2,
   "id": "f2b80fc3-5d63-4383-8803-c203b84747f2",
   "metadata": {},
   "outputs": [
    {
     "data": {
      "text/plain": [
       "array(12)"
      ]
     },
     "execution_count": 2,
     "metadata": {},
     "output_type": "execute_result"
    }
   ],
   "source": [
    "x = np.array(12)\n",
    "x"
   ]
  },
  {
   "cell_type": "code",
   "execution_count": 3,
   "id": "07b6c8c9-126a-4798-9365-0618c9978a74",
   "metadata": {},
   "outputs": [
    {
     "data": {
      "text/plain": [
       "0"
      ]
     },
     "execution_count": 3,
     "metadata": {},
     "output_type": "execute_result"
    }
   ],
   "source": [
    "x.ndim"
   ]
  },
  {
   "cell_type": "markdown",
   "id": "179d2a84-f813-4f5c-85ba-7639132be713",
   "metadata": {},
   "source": [
    "## 2. 1D tensor (벡터)\n",
    "- 한 개의 축을 가지는 배열"
   ]
  },
  {
   "cell_type": "code",
   "execution_count": 4,
   "id": "b56041e4-41a3-4837-ab63-953bc6eee81a",
   "metadata": {},
   "outputs": [
    {
     "data": {
      "text/plain": [
       "array([12,  3,  6,  1,  3])"
      ]
     },
     "execution_count": 4,
     "metadata": {},
     "output_type": "execute_result"
    }
   ],
   "source": [
    "# 5개의 값을 가지므로 5차원 벡터라고 한다.\n",
    "x = np.array([12, 3, 6, 1, 3])\n",
    "x"
   ]
  },
  {
   "cell_type": "code",
   "execution_count": 5,
   "id": "01850c3d-8361-4080-847f-db4ca36f1b6e",
   "metadata": {},
   "outputs": [
    {
     "data": {
      "text/plain": [
       "1"
      ]
     },
     "execution_count": 5,
     "metadata": {},
     "output_type": "execute_result"
    }
   ],
   "source": [
    "x.ndim"
   ]
  },
  {
   "cell_type": "markdown",
   "id": "00eed513-45fb-4960-93fe-45ed8e089a0c",
   "metadata": {},
   "source": [
    "## 3. 2D tensor (행렬)"
   ]
  },
  {
   "cell_type": "code",
   "execution_count": 8,
   "id": "8647f097-23df-4a88-aac0-8917e8f12a31",
   "metadata": {},
   "outputs": [
    {
     "data": {
      "text/plain": [
       "array([[ 5, 78,  2, 34,  0],\n",
       "       [ 6, 79,  3, 35,  1],\n",
       "       [ 7, 80,  4, 36,  2]])"
      ]
     },
     "execution_count": 8,
     "metadata": {},
     "output_type": "execute_result"
    }
   ],
   "source": [
    "x = np.array([[5, 78, 2, 34, 0],\n",
    "                  [6, 79, 3, 35, 1],\n",
    "                  [7, 80, 4, 36, 2]])\n",
    "x"
   ]
  },
  {
   "cell_type": "code",
   "execution_count": 7,
   "id": "9f12a8d8-e36e-43f5-bc34-3130a1c9fddc",
   "metadata": {},
   "outputs": [
    {
     "data": {
      "text/plain": [
       "2"
      ]
     },
     "execution_count": 7,
     "metadata": {},
     "output_type": "execute_result"
    }
   ],
   "source": [
    "x.ndim"
   ]
  },
  {
   "cell_type": "markdown",
   "id": "6e9b07cd-f5f5-4bd8-aafa-c05a6c6151ba",
   "metadata": {},
   "source": [
    "## 4. 3D tensor 또는 고차원 tensor"
   ]
  },
  {
   "cell_type": "code",
   "execution_count": 9,
   "id": "f859c0bd-0f1d-420a-91f9-eb84330825cf",
   "metadata": {},
   "outputs": [
    {
     "data": {
      "text/plain": [
       "array([[[ 5, 79,  2, 34,  0],\n",
       "        [ 6, 79,  3, 35,  1],\n",
       "        [ 7, 80,  4, 36,  2]],\n",
       "\n",
       "       [[ 5, 78,  2, 34,  0],\n",
       "        [ 6, 79,  3, 35,  1],\n",
       "        [ 7, 80,  4, 36,  2]],\n",
       "\n",
       "       [[ 5, 78,  2, 34,  0],\n",
       "        [ 6, 79,  3, 35,  1],\n",
       "        [ 7, 80,  4, 36,  2]]])"
      ]
     },
     "execution_count": 9,
     "metadata": {},
     "output_type": "execute_result"
    }
   ],
   "source": [
    "x = np.array([[[5, 79, 2, 34, 0],\n",
    "                  [6, 79, 3, 35, 1],\n",
    "                  [7, 80, 4, 36, 2]],\n",
    "                 [[5, 78, 2, 34, 0],\n",
    "                  [6, 79, 3, 35, 1],\n",
    "                  [7, 80, 4, 36, 2]],\n",
    "                 [[5, 78, 2, 34, 0],\n",
    "                  [6, 79, 3, 35, 1],\n",
    "                  [7, 80, 4, 36, 2]]])\n",
    "x"
   ]
  },
  {
   "cell_type": "code",
   "execution_count": 10,
   "id": "f98cd97e-9049-4878-836a-1ce5b3ed7f9d",
   "metadata": {},
   "outputs": [
    {
     "data": {
      "text/plain": [
       "3"
      ]
     },
     "execution_count": 10,
     "metadata": {},
     "output_type": "execute_result"
    }
   ],
   "source": [
    "x.ndim"
   ]
  },
  {
   "cell_type": "markdown",
   "id": "73f31c7f-7c8a-456a-b959-cf918aba9eaf",
   "metadata": {},
   "source": [
    "3D 텐서들을 하나의 배열로 합치면 4D 텐서\\\n",
    "딥러닝에서는 보통 0D에서 4D까지의 텐서를 사용한다.\\\n",
    "동영상인 경우 5D 텐서까지 가기도 한다."
   ]
  },
  {
   "cell_type": "code",
   "execution_count": null,
   "id": "a78bdf73-77ad-4b06-9705-d102b8d7173c",
   "metadata": {},
   "outputs": [],
   "source": []
  },
  {
   "cell_type": "markdown",
   "id": "5bf6ea53-bcaf-4c75-b28b-cb24593deefb",
   "metadata": {},
   "source": [
    "# 텐서 속성"
   ]
  },
  {
   "cell_type": "markdown",
   "id": "0cd94bdc-c75c-4153-b494-c6b3ff48e42d",
   "metadata": {},
   "source": [
    "- 축의 개수(랭크) : 3D->3개 축, 2D->2개 축, `ndim`으로 확인\n",
    "- 크기(shape) : 텐서의 크기, 튜플로 나타냄\n",
    "- 데이터 타입 : 사전 정의되어 메모리 할당할 때 사용될 타입을 지정해야함"
   ]
  },
  {
   "cell_type": "code",
   "execution_count": 11,
   "id": "a7d85fdc-8987-4581-9dc4-042182269ea3",
   "metadata": {},
   "outputs": [],
   "source": [
    "from tensorflow.keras.datasets import mnist"
   ]
  },
  {
   "cell_type": "code",
   "execution_count": 12,
   "id": "298493ab-c6c7-44b4-94b7-c0b229993960",
   "metadata": {},
   "outputs": [],
   "source": [
    "(train_images, train_labels), (test_images, test_labels) = mnist.load_data()"
   ]
  },
  {
   "cell_type": "code",
   "execution_count": 13,
   "id": "cd738586-cda5-4cf5-a5a9-e9b689fd220e",
   "metadata": {},
   "outputs": [
    {
     "name": "stdout",
     "output_type": "stream",
     "text": [
      "3\n"
     ]
    }
   ],
   "source": [
    "# rank 확인\n",
    "print(train_images.ndim)"
   ]
  },
  {
   "cell_type": "code",
   "execution_count": 14,
   "id": "9c3c9a5b-7f9a-4ebe-b5fe-25114637b38d",
   "metadata": {},
   "outputs": [
    {
     "name": "stdout",
     "output_type": "stream",
     "text": [
      "(60000, 28, 28)\n"
     ]
    }
   ],
   "source": [
    "# 크기 확인\n",
    "print(train_images.shape)"
   ]
  },
  {
   "cell_type": "code",
   "execution_count": 15,
   "id": "57e2af82-62cb-4eb2-aed8-041c8e0a7e92",
   "metadata": {},
   "outputs": [
    {
     "name": "stdout",
     "output_type": "stream",
     "text": [
      "uint8\n"
     ]
    }
   ],
   "source": [
    "# 타입 확인\n",
    "print(train_images.dtype)"
   ]
  },
  {
   "cell_type": "code",
   "execution_count": 16,
   "id": "986f63d4-869e-42a9-93d4-beceeb1d2552",
   "metadata": {},
   "outputs": [
    {
     "data": {
      "image/png": "[encoded data removed]",
      "text/plain": [
       "<Figure size 432x288 with 1 Axes>"
      ]
     },
     "metadata": {
      "needs_background": "light"
     },
     "output_type": "display_data"
    }
   ],
   "source": [
    "digit = train_images[4]\n",
    "\n",
    "import matplotlib.pyplot as plt\n",
    "plt.imshow(digit, cmap=plt.cm.binary)\n",
    "plt.show()"
   ]
  },
  {
   "cell_type": "markdown",
   "id": "2f167bb7-becb-4b09-8ccc-8fc91a205d24",
   "metadata": {},
   "source": [
    "# 넘파이로 텐서 조작\n",
    "- 슬라이싱"
   ]
  },
  {
   "cell_type": "code",
   "execution_count": 17,
   "id": "1e0dd967-972a-4c9c-a067-2d2ca46779d2",
   "metadata": {},
   "outputs": [
    {
     "name": "stdout",
     "output_type": "stream",
     "text": [
      "(90, 28, 28)\n"
     ]
    }
   ],
   "source": [
    "my_slice = train_images[10:100]\n",
    "print(my_slice.shape)"
   ]
  },
  {
   "cell_type": "code",
   "execution_count": 20,
   "id": "1d977a2a-535e-44f6-83d4-937933107703",
   "metadata": {},
   "outputs": [
    {
     "name": "stdout",
     "output_type": "stream",
     "text": [
      "(90, 28, 28)\n",
      "(90, 28, 28)\n"
     ]
    }
   ],
   "source": [
    "# 전체 배열에서 크기 슬라이싱\n",
    "my_slice = train_images[10:100, :, :]\n",
    "print(my_slice.shape)\n",
    "\n",
    "my_slice2 = train_images[10:100, 0:28, 0:28]\n",
    "print(my_slice2.shape)"
   ]
  },
  {
   "cell_type": "code",
   "execution_count": 26,
   "id": "c51049ad-a5c5-4f0a-9769-a319964dd626",
   "metadata": {},
   "outputs": [
    {
     "name": "stdout",
     "output_type": "stream",
     "text": [
      "(60000, 14, 14)\n"
     ]
    }
   ],
   "source": [
    "# 이미지의 오른쪽 아래 픽셀 14 x 14만 선택?\n",
    "my_slice = train_images[:, 14:, 14:]\n",
    "print(my_slice.shape)"
   ]
  },
  {
   "cell_type": "markdown",
   "id": "1c381f00-49be-4876-aceb-806fc2f7491a",
   "metadata": {},
   "source": [
    "# 미니 배치(mini batch)"
   ]
  },
  {
   "cell_type": "markdown",
   "id": "b194d710-bae5-49a6-af90-0ce6248b0a8b",
   "metadata": {},
   "source": [
    "딥러닝은 minst를 예로 60000 개 데이터를 한번에 처리하지 않는다. BATCH_SIZE = 128로 주면 60000개에서 128개씩 데이터를 잘라서 쓰겠다는 의미"
   ]
  },
  {
   "cell_type": "markdown",
   "id": "7868c413-d380-4bbd-bc27-7156b5bbaacc",
   "metadata": {},
   "source": [
    "# 텐서 사례\n",
    "- 벡터데이터 : (samples, fatures) 크기의 2D 텐서\n",
    "- 시계열 or 시퀀스 데이터 : (samples, timesteps, features) 크기의 3D 텐서\n",
    "- **이미지** : (samples, height, width, channels) or (samples, channels, height, width) 크기의 4D 텐서\n",
    "- 동영상 : (samples, frames, height, width, channels) or (samples, frames, channels, height, width) 크기의 5D 텐서"
   ]
  },
  {
   "cell_type": "markdown",
   "id": "15d2d60f-8f6e-4174-b21a-425a2dc69c43",
   "metadata": {},
   "source": [
    "## 이미지 데이터\n",
    "예: batch_size=128, 256x256 사이즈\n",
    "- grayscale : (128, 256, 256, 1)\n",
    "- color : (128, 256, 256, 3)\n",
    "\n",
    "텐서플로우는 채널 마지막(channel-last)방식을 사용한다.\n",
    "- (samples, height, width, color_depth) 방식"
   ]
  },
  {
   "cell_type": "markdown",
   "id": "6591a815-07a3-4e9c-a100-1cfc9547b68b",
   "metadata": {},
   "source": [
    "# 텐서 연산"
   ]
  },
  {
   "cell_type": "markdown",
   "id": "f33c2d82-470a-404b-a9f7-c4ac51cbfe0a",
   "metadata": {},
   "source": [
    "## element-wise opearation"
   ]
  },
  {
   "cell_type": "code",
   "execution_count": 28,
   "id": "8b5579fd-dc8f-4598-b06b-ae57c7b32bfd",
   "metadata": {},
   "outputs": [],
   "source": [
    "def naive_relu(x):\n",
    "    # assert : 가정 설정문 (true면 실행, false면 에러를 발생)\n",
    "    assert len(x.shape) == 2\n",
    "    \n",
    "    x = x.copy()\n",
    "    for i in range(x.shape[0]):\n",
    "        for j in range(x.shape[1]):\n",
    "            x[i, j] = max(x[i, j], 0)\n",
    "            \n",
    "    return x"
   ]
  },
  {
   "cell_type": "code",
   "execution_count": 29,
   "id": "4b317fb4-2d55-4f1b-869d-e2bb8a2a0404",
   "metadata": {},
   "outputs": [],
   "source": [
    "def naive_add(x, y):\n",
    "    assert len(x.shape) == 2\n",
    "    assert x.shape == y.shape\n",
    "    \n",
    "    x = x.copy()\n",
    "    for i in range(x.shape[0]):\n",
    "        for j in range(x.shape[1]):\n",
    "            x[i, j] += y[i, j]\n",
    "    return x"
   ]
  },
  {
   "cell_type": "markdown",
   "id": "e47c4b80-4722-4c72-aa6a-6d010f9add9a",
   "metadata": {},
   "source": [
    "numpy에서 연산을 제공\n",
    "```python\n",
    "z = x + y\n",
    "z = np.maximum(z, 0.)\n",
    "```"
   ]
  },
  {
   "cell_type": "code",
   "execution_count": null,
   "id": "ea281f22-3a65-40f2-b556-ef27554673bd",
   "metadata": {},
   "outputs": [],
   "source": []
  }
 ],
 "metadata": {
  "kernelspec": {
   "display_name": "py-tensor",
   "language": "python",
   "name": "py-tensor"
  },
  "language_info": {
   "codemirror_mode": {
    "name": "ipython",
    "version": 3
   },
   "file_extension": ".py",
   "mimetype": "text/x-python",
   "name": "python",
   "nbconvert_exporter": "python",
   "pygments_lexer": "ipython3",
   "version": "3.8.12"
  }
 },
 "nbformat": 4,
 "nbformat_minor": 5
}

{
 "cells": [
  {
   "cell_type": "markdown",
   "id": "c054baf9-791b-4408-82b6-2c075531c165",
   "metadata": {},
   "source": [
    "# 텐서(tensor)\n",
    "- tensor는 배열(array)이나 행렬(matrix)과 매우 유사한 특수한 자료구조\n",
    "- "
   ]
  },
  {
   "cell_type": "code",
   "execution_count": null,
   "id": "97654979-7bcb-4018-8b61-a48bbf2245ff",
   "metadata": {},
   "outputs": [],
   "source": []
  }
 ],
 "metadata": {
  "kernelspec": {
   "display_name": "mlpy38",
   "language": "python",
   "name": "mlpy38"
  },
  "language_info": {
   "codemirror_mode": {
    "name": "ipython",
    "version": 3
   },
   "file_extension": ".py",
   "mimetype": "text/x-python",
   "name": "python",
   "nbconvert_exporter": "python",
   "pygments_lexer": "ipython3",
   "version": "3.8.12"
  }
 },
 "nbformat": 4,
 "nbformat_minor": 5
}

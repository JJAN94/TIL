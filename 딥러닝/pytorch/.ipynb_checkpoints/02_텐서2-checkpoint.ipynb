{
 "cells": [
  {
   "cell_type": "markdown",
   "id": "911c617f-969d-4253-aa77-90ebd729fa22",
   "metadata": {},
   "source": [
    "파이토치는 테이프(tape)기반 자동 미분 방식을 구현한다. 이 방식은 계산 그래프를 동적으로 정의하고 실행할 수 있다. 디버깅이 아주 편리하며 복잡한 모델을 손쉽게 만들게 해준다."
   ]
  },
  {
   "cell_type": "markdown",
   "id": "81a54c5b-c709-4f91-869a-6c30e20ed053",
   "metadata": {},
   "source": [
    "# 동적 계산 그래프와 정적 계산 그래프\n",
    "씨아노, 카페, 텐서플로와 같은 정적 프레임워크는 먼저 계산 그래프를 정의하고 컴파일한 다음 실행해야 한다. 이 방식은 제품 시스템과 모바일 환경에서 매우 효율적이지만 연구나 개발을 할 땐 꽤 번거로울 수 있다.\\\n",
    "체이너, 다이넷, 파이토치같은 최신 프레임워크는 동적 계산 그래프를 구현하여 좀 더 유연한 명령형 스타일의 개발을 지원하며 실행할 때마다 모델을 컴파일하지 않아도 된다. 동적 계산 그래프는 특히 입력마다 다른 그래프 구조가 만들어질 수 있는 NLP 모델링 작업에 잘 맞는다."
   ]
  },
  {
   "cell_type": "markdown",
   "id": "eedded52-074a-49d7-b0e0-4426eea9497f",
   "metadata": {},
   "source": [
    "# 텐서 만들고 조작하기"
   ]
  },
  {
   "cell_type": "markdown",
   "id": "09d88f11-e830-4210-86a3-810b6c577997",
   "metadata": {},
   "source": [
    "## 헬퍼 함수 정의"
   ]
  },
  {
   "cell_type": "code",
   "execution_count": 7,
   "id": "ec2e26a6-18ed-41da-ad70-3669d629e7ae",
   "metadata": {},
   "outputs": [],
   "source": [
    "def describe(x):\n",
    "    print('타입 : {}'.format(x.type()))\n",
    "    print('크기 : {}'.format(x.shape))\n",
    "    print('값 : \\n{}'.format(x))"
   ]
  },
  {
   "cell_type": "markdown",
   "id": "c41317ac-979f-4f22-970a-81bb858ac266",
   "metadata": {},
   "source": [
    "## 텐서\n",
    "torch.Tensor <-> tf.constant"
   ]
  },
  {
   "cell_type": "code",
   "execution_count": 23,
   "id": "9f388d61-3c96-4e6b-80f6-1af954dbe330",
   "metadata": {},
   "outputs": [
    {
     "name": "stdout",
     "output_type": "stream",
     "text": [
      "타입 : torch.FloatTensor\n",
      "크기 : torch.Size([2, 3])\n",
      "값 : \n",
      "tensor([[8.1275e-44, 7.0065e-44, 7.4269e-44],\n",
      "        [6.4460e-44, 7.2868e-44, 7.4269e-44]])\n"
     ]
    }
   ],
   "source": [
    "import torch\n",
    "describe(torch.Tensor(2,3))"
   ]
  },
  {
   "cell_type": "markdown",
   "id": "32e2405d-11b0-468d-9c95-c3a5dc6938f3",
   "metadata": {},
   "source": [
    "### Scalar"
   ]
  },
  {
   "cell_type": "markdown",
   "id": "91fa1065-d35a-4d91-995a-4eb07c154751",
   "metadata": {},
   "source": [
    "#### 텐서만들기"
   ]
  },
  {
   "cell_type": "code",
   "execution_count": 13,
   "id": "b0879ed9-7581-4249-a555-436976451d74",
   "metadata": {},
   "outputs": [
    {
     "name": "stdout",
     "output_type": "stream",
     "text": [
      "타입 : torch.FloatTensor\n",
      "크기 : torch.Size([1])\n",
      "값 : \n",
      "tensor([1.])\n"
     ]
    }
   ],
   "source": [
    "sc = torch.Tensor([1.])\n",
    "describe(sc)"
   ]
  },
  {
   "cell_type": "code",
   "execution_count": 14,
   "id": "ebc0f341-06de-46a8-a7e2-854f76fff839",
   "metadata": {},
   "outputs": [
    {
     "name": "stdout",
     "output_type": "stream",
     "text": [
      "타입 : torch.FloatTensor\n",
      "크기 : torch.Size([1])\n",
      "값 : \n",
      "tensor([3.])\n"
     ]
    }
   ],
   "source": [
    "sc1 = torch.Tensor([3.])\n",
    "describe(sc1)"
   ]
  },
  {
   "cell_type": "markdown",
   "id": "fd016d12-90fb-4271-8ccf-611bbcde51f5",
   "metadata": {},
   "source": [
    "#### 연산 "
   ]
  },
  {
   "cell_type": "code",
   "execution_count": 16,
   "id": "6b1a9d14-8f6d-4c73-845d-7c7e87b7ffde",
   "metadata": {},
   "outputs": [
    {
     "name": "stdout",
     "output_type": "stream",
     "text": [
      "타입 : torch.FloatTensor\n",
      "크기 : torch.Size([1])\n",
      "값 : \n",
      "tensor([4.])\n"
     ]
    }
   ],
   "source": [
    "# 덧셈\n",
    "sc_add = sc + sc1\n",
    "describe(sc_add)"
   ]
  },
  {
   "cell_type": "code",
   "execution_count": 17,
   "id": "bcb7e66b-9080-43f2-b5f0-3a523f1c24a2",
   "metadata": {},
   "outputs": [
    {
     "name": "stdout",
     "output_type": "stream",
     "text": [
      "타입 : torch.FloatTensor\n",
      "크기 : torch.Size([1])\n",
      "값 : \n",
      "tensor([-2.])\n"
     ]
    }
   ],
   "source": [
    "# 뺄셈\n",
    "sc_sub = sc - sc1\n",
    "describe(sc_sub)"
   ]
  },
  {
   "cell_type": "code",
   "execution_count": 18,
   "id": "8aa16934-8f51-4484-9cac-e2bc84e21238",
   "metadata": {},
   "outputs": [
    {
     "name": "stdout",
     "output_type": "stream",
     "text": [
      "타입 : torch.FloatTensor\n",
      "크기 : torch.Size([1])\n",
      "값 : \n",
      "tensor([3.])\n"
     ]
    }
   ],
   "source": [
    "# 곱셈(아다마르 곱)\n",
    "sc_mul = sc * sc1\n",
    "describe(sc_mul)"
   ]
  },
  {
   "cell_type": "code",
   "execution_count": 20,
   "id": "d1fcd16d-bd86-4bdc-9997-1d28031af21f",
   "metadata": {},
   "outputs": [
    {
     "name": "stdout",
     "output_type": "stream",
     "text": [
      "타입 : torch.FloatTensor\n",
      "크기 : torch.Size([1])\n",
      "값 : \n",
      "tensor([0.3333])\n"
     ]
    }
   ],
   "source": [
    "# 나눗셈\n",
    "sc_div = sc / sc1\n",
    "describe(sc_div)"
   ]
  },
  {
   "cell_type": "code",
   "execution_count": 21,
   "id": "667bb6fa-f2dc-436e-8353-d19f93fe1258",
   "metadata": {},
   "outputs": [
    {
     "name": "stdout",
     "output_type": "stream",
     "text": [
      "타입 : torch.FloatTensor\n",
      "크기 : torch.Size([1])\n",
      "값 : \n",
      "tensor([4.])\n",
      "타입 : torch.FloatTensor\n",
      "크기 : torch.Size([1])\n",
      "값 : \n",
      "tensor([-2.])\n",
      "타입 : torch.FloatTensor\n",
      "크기 : torch.Size([1])\n",
      "값 : \n",
      "tensor([3.])\n",
      "타입 : torch.FloatTensor\n",
      "크기 : torch.Size([1])\n",
      "값 : \n",
      "tensor([0.3333])\n"
     ]
    }
   ],
   "source": [
    "# torch 내장 메소드 이용도 가능\n",
    "describe(torch.add(sc, sc1))\n",
    "describe(torch.sub(sc, sc1))\n",
    "describe(torch.mul(sc, sc1))\n",
    "describe(torch.div(sc, sc1))"
   ]
  },
  {
   "cell_type": "markdown",
   "id": "0f5f2568-e3d3-49c5-bc6c-c97bd5f4ac10",
   "metadata": {},
   "source": [
    "### Vector"
   ]
  },
  {
   "cell_type": "markdown",
   "id": "b9495c93-c894-4bfa-bdaf-4f960daa4857",
   "metadata": {},
   "source": [
    "#### 텐서 만들기"
   ]
  },
  {
   "cell_type": "code",
   "execution_count": 24,
   "id": "3558fed2-c2b8-4829-b16e-aec9e6e22659",
   "metadata": {},
   "outputs": [
    {
     "name": "stdout",
     "output_type": "stream",
     "text": [
      "타입 : torch.FloatTensor\n",
      "크기 : torch.Size([3])\n",
      "값 : \n",
      "tensor([1., 2., 3.])\n"
     ]
    }
   ],
   "source": [
    "vec1 = torch.tensor([1., 2., 3.])\n",
    "describe(vec1)"
   ]
  },
  {
   "cell_type": "code",
   "execution_count": 26,
   "id": "cbf25c4f-014d-4ca8-bb1c-84edcc4a50e2",
   "metadata": {},
   "outputs": [
    {
     "ename": "NameError",
     "evalue": "name 'int32' is not defined",
     "output_type": "error",
     "traceback": [
      "\u001b[1;31m---------------------------------------------------------------------------\u001b[0m",
      "\u001b[1;31mNameError\u001b[0m                                 Traceback (most recent call last)",
      "\u001b[1;32m~\\AppData\\Local\\Temp/ipykernel_13132/1340257531.py\u001b[0m in \u001b[0;36m<module>\u001b[1;34m\u001b[0m\n\u001b[1;32m----> 1\u001b[1;33m \u001b[0mvec2\u001b[0m \u001b[1;33m=\u001b[0m \u001b[0mtorch\u001b[0m\u001b[1;33m.\u001b[0m\u001b[0mtensor\u001b[0m\u001b[1;33m(\u001b[0m\u001b[1;33m[\u001b[0m\u001b[1;36m1\u001b[0m\u001b[1;33m,\u001b[0m\u001b[1;36m2\u001b[0m\u001b[1;33m,\u001b[0m\u001b[1;36m3\u001b[0m\u001b[1;33m]\u001b[0m\u001b[1;33m,\u001b[0m \u001b[0mdtype\u001b[0m\u001b[1;33m=\u001b[0m\u001b[0mint32\u001b[0m\u001b[1;33m)\u001b[0m\u001b[1;33m\u001b[0m\u001b[1;33m\u001b[0m\u001b[0m\n\u001b[0m\u001b[0;32m      2\u001b[0m \u001b[0mdescribe\u001b[0m\u001b[1;33m(\u001b[0m\u001b[0mvec2\u001b[0m\u001b[1;33m)\u001b[0m\u001b[1;33m\u001b[0m\u001b[1;33m\u001b[0m\u001b[0m\n",
      "\u001b[1;31mNameError\u001b[0m: name 'int32' is not defined"
     ]
    }
   ],
   "source": [
    "vec2 = torch.tensor([1,2,3], dtype=int32)\n",
    "describe(vec2)"
   ]
  },
  {
   "cell_type": "code",
   "execution_count": null,
   "id": "6d2cf1f8-bec5-40ea-921a-aa6c4027966e",
   "metadata": {},
   "outputs": [],
   "source": []
  }
 ],
 "metadata": {
  "kernelspec": {
   "display_name": "torch18_py38",
   "language": "python",
   "name": "torch18_py38"
  },
  "language_info": {
   "codemirror_mode": {
    "name": "ipython",
    "version": 3
   },
   "file_extension": ".py",
   "mimetype": "text/x-python",
   "name": "python",
   "nbconvert_exporter": "python",
   "pygments_lexer": "ipython3",
   "version": "3.8.12"
  }
 },
 "nbformat": 4,
 "nbformat_minor": 5
}

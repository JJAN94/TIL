{
 "cells": [
  {
   "cell_type": "code",
   "execution_count": 1,
   "id": "e6b00596-d24e-43a3-984c-8809f5dff79f",
   "metadata": {},
   "outputs": [],
   "source": [
    "def add(a,b):\n",
    "    print('ADDING {} + {}'.format(a,b))\n",
    "    return a+b"
   ]
  },
  {
   "cell_type": "code",
   "execution_count": 2,
   "id": "8615f8f2-9e93-4b31-9630-cd06a9cd2b44",
   "metadata": {},
   "outputs": [],
   "source": [
    "def subtract(a,b) :\n",
    "    print('SUBTRACTING %d - %d'%(a,b))\n",
    "    return a - b"
   ]
  },
  {
   "cell_type": "code",
   "execution_count": 3,
   "id": "eda2a5eb-9362-4f9a-add9-5982c0461218",
   "metadata": {},
   "outputs": [],
   "source": [
    "def multiply(a,b) :\n",
    "    print('MULTIPLYING %d x %d'%(a*b))\n",
    "    return a*b"
   ]
  },
  {
   "cell_type": "code",
   "execution_count": 4,
   "id": "d94699b2-fd2a-41e0-8d00-98c1b7a279d6",
   "metadata": {},
   "outputs": [],
   "source": [
    "def divide(a,b) :\n",
    "    print('DIVIDING %d / %d'%(a/b))\n",
    "    return a/b"
   ]
  },
  {
   "cell_type": "code",
   "execution_count": 5,
   "id": "1e099278-35d4-4536-af33-4aa0b2e16b62",
   "metadata": {},
   "outputs": [],
   "source": [
    "def choose_menu() :\n",
    "    print('input?')\n",
    "    print('add, sub, mul, div, quit')\n",
    "    return input('choice : ')"
   ]
  },
  {
   "cell_type": "code",
   "execution_count": null,
   "id": "31d4d70f-0686-4d06-a6d4-5140159da5f3",
   "metadata": {},
   "outputs": [
    {
     "name": "stdout",
     "output_type": "stream",
     "text": [
      "input?\n",
      "add, sub, mul, div, quit\n"
     ]
    },
    {
     "name": "stdin",
     "output_type": "stream",
     "text": [
      "choice :  add\n",
      "first value :  10\n",
      "second value :  4\n"
     ]
    },
    {
     "name": "stdout",
     "output_type": "stream",
     "text": [
      "ADDING 10 + 4\n",
      "14\n",
      "input?\n",
      "add, sub, mul, div, quit\n"
     ]
    },
    {
     "name": "stdin",
     "output_type": "stream",
     "text": [
      "choice :  \n"
     ]
    }
   ],
   "source": [
    "if __name__ == '__main__' :\n",
    "    menu = {'add' : add, 'sub' : subtract, 'mul'  : multiply, 'div' : divide}\n",
    "    choice = choose_menu()\n",
    "    while choice != 'quit' :\n",
    "        if menu.get(choice):\n",
    "            x = input('first value : ')\n",
    "            y = input('second value : ')\n",
    "            print(menu[choice](int(x), int(y)))\n",
    "            choice = choose_menu()"
   ]
  },
  {
   "cell_type": "code",
   "execution_count": null,
   "id": "c87ab599-a09d-462e-ac22-8260658992fa",
   "metadata": {},
   "outputs": [],
   "source": []
  }
 ],
 "metadata": {
  "kernelspec": {
   "display_name": "py38",
   "language": "python",
   "name": "py38"
  },
  "language_info": {
   "codemirror_mode": {
    "name": "ipython",
    "version": 3
   },
   "file_extension": ".py",
   "mimetype": "text/x-python",
   "name": "python",
   "nbconvert_exporter": "python",
   "pygments_lexer": "ipython3",
   "version": "3.8.12"
  }
 },
 "nbformat": 4,
 "nbformat_minor": 5
}

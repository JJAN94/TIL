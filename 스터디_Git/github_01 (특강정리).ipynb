{
 "cells": [
  {
   "cell_type": "markdown",
   "metadata": {},
   "source": [
    "### Github\n",
    "- 깃허브 특강 들은 내용 정리"
   ]
  },
  {
   "cell_type": "markdown",
   "metadata": {},
   "source": [
    "### git 프로그램 종류\n",
    "- `GUI` : Graphic User Interface (그래픽)\n",
    "- `CLI` : Command Line Interface (명령어)\n",
    "    - CLI는 유저가 컴퓨터에게 끊임 없이 명령을 해야함"
   ]
  },
  {
   "cell_type": "markdown",
   "metadata": {},
   "source": [
    "### CLI 기본 명령어 정리\n",
    "- $ git --version : 버전확인\n",
    "- `pwd` : print working directory 현재 위치를 절대 경로로 표시\n",
    "- `ls` : list 현재 폴더(디렉토리)의 내용물을 표시\n",
    "  - `ls -a` : 숨김 파일도 표시\n",
    "\n",
    "- `cd[폴더명/경로]` : change directory 폴더를 이동\n",
    "  - `cd ..` : 상위폴더로 이동\n",
    "  - `..` : 상위폴더\n",
    "  - `.` : 현재 폴더\n",
    "- `mkdir [폴더명]` : make directory 폴더를 생성\n",
    "- `rm -r [폴더명]` : remove : 폴더를 제거\n",
    "- `touch [파일명]` : 파일을 생성 예) touch a.txt\n",
    "- `rm [파일명]` : 파일을 삭제\n",
    "- `cat [파일명]`: 파일 내용을 출력\n",
    "\n",
    "- `cp [파일명][경로명]` : 파일 복사붙여넣기 예) cp. a.txt git/\n",
    "  - `cp` : copy 파일 또는 폴더(recursively, -r)를 이동\n",
    "\n",
    "- `mv [파일명][경로명]` : 파일 또는 폴더를 이동\n",
    "\n",
    "  - 예) mv b.txt .. : 상위폴더로 이동\n",
    "\n",
    "  - 예) mv a.txt /c/Users/JAY/anaconda3/ 상위의 아나콘다 폴더로 이동(절대 경로)"
   ]
  },
  {
   "cell_type": "markdown",
   "metadata": {},
   "source": [
    "### Git - git은 터뜨리며 배우는 것"
   ]
  },
  {
   "cell_type": "markdown",
   "metadata": {},
   "source": [
    "### SCM & VCS\n",
    "\n",
    "- Source Code Management(SCM) : 코드 관리 도구\n",
    "- Version Control System(VCS) : 버전 관리 시스템\n",
    "- 코드 관리 도구\n",
    "- how? **버전** 관리( **commit**, 해당 폴더의 특정 시점의 사진/스냅샷)"
   ]
  },
  {
   "cell_type": "markdown",
   "metadata": {},
   "source": [
    "### `git`의 역할\n",
    "\n",
    "1. 코드 관리 도구\n",
    "2. 코드 저장 도구\n",
    "3. 협업 도구\n",
    "4. 배포 도구"
   ]
  },
  {
   "cell_type": "markdown",
   "metadata": {},
   "source": [
    "### 명령어들\n",
    "\n",
    "> git은 `폴더 단위`로 코드를 관리 한다. \n",
    "\n",
    "> git 저장소(repository) == git으로 관리되는 폴더\n",
    "\n",
    "> git 저장소 상위 폴더에서 git을 시작하지 않는다."
   ]
  },
  {
   "cell_type": "markdown",
   "metadata": {},
   "source": [
    "### (1) git init\n",
    "\n",
    "- git 저장소를 시작한다 == 현재 폴더를 git 저장소로 만든다. == git으로 관리되는 프로젝트 생성\n",
    "\n",
    "```shell\n",
    "$ git init\n",
    "Initialized empty Git repository in C:/Users/JAY/git/.git/\n",
    "```\n",
    "\n",
    "- (master)라는 표시가 프롬프트에 뜬다.\n",
    "- `.git`폴더가 생성된다.\n",
    "  - `.git`폴더를 삭제하면 git 관리가 끝난다."
   ]
  },
  {
   "cell_type": "markdown",
   "metadata": {},
   "source": [
    "### (2) `git status`\n",
    "\n",
    "- git의 현재상태를 알려준다.\n",
    "- 최초 상태\n",
    "\n",
    "```shell\n",
    "$ touch a.txt\n",
    "on branch master\n",
    "   -> master라는 branch에 있다.\n",
    "No commits yet\n",
    "   -> commit(버전, 스냅샷) 아직 없다.\n",
    "nothing to commit (create/copy files and use \"git add\" to track)\n",
    "   -> commit 할게 없다. (파일 만들어서, git add해줘)\n",
    "```\n",
    "\n",
    "- 파일 생성 후 상태\n",
    "\n",
    "```shell\n",
    "$ git status\n",
    "On branch master\n",
    "\n",
    "No commits yet\n",
    "\n",
    "Untracked files: (추적되지 않은 파일들)\n",
    "  (use \"git add <file>...\" to include in what will be committed)\n",
    "        a.txt <- \"git add 파일명\"을 사용하세요. 포함하기 위해서.\n",
    "\n",
    "nothing added to commit but untracked files present (use \"git add\" to track)\n",
    "```\n",
    "\n"
   ]
  },
  {
   "cell_type": "markdown",
   "metadata": {},
   "source": [
    "### (3) `git add [파일명/폴더명]`\n",
    "\n",
    "- 스냅샷을 찍기(commit 하기, 버전생성을) 위해 파일을 추가\n",
    "\n",
    "- git add 후, status\n",
    "\n",
    "```shell\n",
    "$ git add a.txt\n",
    "On branch master\n",
    "\n",
    "No commits yet\n",
    "\n",
    "Changes to be committed:\n",
    "  (use \"git rm --cached <file>...\" to unstage)\n",
    "        new file:   a.txt\n",
    "```\n",
    "\n"
   ]
  },
  {
   "cell_type": "markdown",
   "metadata": {},
   "source": [
    "### (4) `git commit -m '커밋 메시지'`\n",
    "\n",
    "- git 설치 후 최초로 commit을 하면,\n",
    "\n",
    "```shell\n",
    "*** Please tell me who you are.\n",
    "\n",
    "Run\n",
    "\n",
    "  git config --global user.email \"you@example.com\"\n",
    "  git config --global user.name \"Your Name\"\n",
    "-->> 이메일하고 이름을 넣어줘\n",
    "to set your account's default identity.\n",
    "Omit --global to set the identity only in this repository.\n",
    "\n",
    "fatal: unable to auto-detect email address (got 'JAY@DESKTOP-VCQ555G.(none)')\n",
    "```\n",
    "\n",
    "- git 초기 설정 명령어 물어본다.\n",
    "  - git config --global user.email \"내 이메일주소\"\n",
    "  - git config --global user.name \"내 이름\"\n",
    "\n",
    "- 이메일, 이름이 설정 되면 git commit 뭔가 새로운 창이 뜨는데, esc 연타하고 :q!누르면 나옴. 이거 쓸일은 당분간 없다. (들어가지 말자)\n",
    "\n",
    "- git commit -m '메시지' 로 쓰자"
   ]
  },
  {
   "cell_type": "markdown",
   "metadata": {},
   "source": [
    "### (5) `git log`\n",
    "\n",
    "현재까지의 버전(commit,스냅샷)을 모두 출력\n",
    "\n",
    "- `git log` : 전체를 다 보여줌 \n",
    "\n",
    "- `git log --oneline` : 한줄로 표시\n",
    "- `git log --oneline -숫자` : 특정 개수만 출력 (최근거에서 숫자개만큼)"
   ]
  },
  {
   "cell_type": "markdown",
   "metadata": {},
   "source": [
    "### (6) `git checkout [커밋해시]`\n",
    "\n",
    "- 특정 시점의 커밋을 체크\n",
    "- 돌아가 보고 싶은 시기의 해시를 넣어서 git checkout 커밋해서 로 쓴다.\n",
    "\n",
    "```sh\n",
    "$ git checkout 720eec96b\n",
    "Note: switching to '720eec96b'.\n",
    "\n",
    "You are in 'detached HEAD' state. You can look around, make experimental\n",
    "changes and commit them, and you can discard any commits you make in this\n",
    "state without impacting any branches by switching back to a branch.\n",
    "\n",
    "If you want to create a new branch to retain commits you create, you may\n",
    "do so (now or later) by using -c with the switch command. Example:\n",
    "\n",
    "  git switch -c <new-branch-name>\n",
    "\n",
    "Or undo this operation with:\n",
    "\n",
    "  git switch -\n",
    "\n",
    "Turn off this advice by setting config variable advice.detachedHead to false\n",
    "\n",
    "HEAD is now at 720eec9 First commit\n",
    "```\n",
    "\n",
    "- 돌아갈 땐 git checkout master"
   ]
  },
  {
   "cell_type": "markdown",
   "metadata": {},
   "source": [
    "### 코드 저장 도구\n",
    "\n",
    "집, 캠퍼스 동시 작업시, "
   ]
  },
  {
   "cell_type": "markdown",
   "metadata": {},
   "source": [
    "### (1) github 원격 저장소 생성\n",
    "\n",
    "`'https://github.com/[유저네임]/[원격저장소이름].git'`"
   ]
  },
  {
   "cell_type": "markdown",
   "metadata": {},
   "source": [
    "### (2) `git remote`\n",
    "\n",
    "현재 등록된 원격저장소들의 목록"
   ]
  },
  {
   "cell_type": "markdown",
   "metadata": {},
   "source": [
    "### (3) `git remote add[저장소이름][저장소주소url]`\n",
    "\n",
    "- 새로운 원격저장소를 추가\n",
    "\n",
    "- 첫번째(원본) 원격저장소의 이름은 `origin`으로 하는게 관례(convention)\n",
    "- git remote -v (저장소 위치표시)"
   ]
  },
  {
   "cell_type": "markdown",
   "metadata": {},
   "source": [
    "### (4) `git push [저장소이름][브랜치이름]`\n",
    "\n",
    "- origin\n",
    "- git push origin master\n",
    "\n"
   ]
  },
  {
   "cell_type": "markdown",
   "metadata": {},
   "source": []
  },
  {
   "cell_type": "markdown",
   "metadata": {},
   "source": [
    "----------------"
   ]
  },
  {
   "cell_type": "markdown",
   "metadata": {},
   "source": [
    "## Github TIL"
   ]
  },
  {
   "cell_type": "markdown",
   "metadata": {},
   "source": [
    "## 1. TIL?\n",
    "\n",
    "> - TIL은 **Today** **I** **Learned**의 줄임말로 개발자 사이에서 매일 자신이 학습한 내용을 commit(기록)하는 것\n",
    "> - github, bitbucket, gitlab과 같은 원격 저장소에서 제공하는 1 commit-1 grass의 흥미 요소 제공\n",
    "> - 잔디심기"
   ]
  },
  {
   "cell_type": "markdown",
   "metadata": {},
   "source": [
    "## 2. TIL 세팅\n",
    "\n",
    "### (1) Git으로 프로젝트 관리 시작 : `git init`\n",
    "\n",
    "- 자신이 앞으로 학습한 내용을 기록할 `TIL` 폴더를 하나 생성한다. 이때 해당 폴더는 최상단에 생성한다.\n",
    "- `git bash` 에서 `TIL` 폴더로 이동한 이후에 아래의 명령어로 `git`관리를 시작한다.\n",
    "\n",
    "```shell\n",
    "$ git init\n",
    "```"
   ]
  },
  {
   "cell_type": "markdown",
   "metadata": {},
   "source": [
    "### (2) Commit을 위한 Staging : `git add`\n",
    "\n",
    "- 현재 코드 상태의 스냅샷을 찍기 위한 파일 선택 (== Staging Area에 파일 추가)\n",
    "\n",
    "```shell\n",
    "$ git add [파일 이름] # .은 모든 변경 사항을 staging area로 올림\n",
    "```\n",
    "\n"
   ]
  },
  {
   "cell_type": "markdown",
   "metadata": {},
   "source": [
    "### (3) 버전 관리를 위한 스냅샷 저장 : `git commit`\n",
    "\n",
    "- 현재 상태에 대한 스냅샷을 `commit`하여, 버전 관리를 진행한다.\n",
    "\n",
    "```shell\n",
    "$ git commit -m \"커밋 메시지\"\n",
    "```\n",
    "\n"
   ]
  },
  {
   "cell_type": "markdown",
   "metadata": {},
   "source": [
    "### (4) 원격 저장소 정보 추가 : `git remote`\n",
    "\n",
    "- Github 원격(remote) 저장소(repository)를 생성하고 `TIL` 폴더와 연결한다.\n",
    "- 새로운 원격 저장소가 추가될 때만 입력한다.\n",
    "\n",
    "```shell\n",
    "$ git remote add origin [ github 원격 저장소 주소 ]\n",
    "```\n",
    "\n"
   ]
  },
  {
   "cell_type": "markdown",
   "metadata": {},
   "source": [
    "### (5) 원격 저장소로 코드 `git push`\n",
    "\n",
    "- 최종적으로 Github 원격 저장소에 push한다.\n",
    "\n",
    "```shell\n",
    "$ git push origin master\n",
    "```\n",
    "\n"
   ]
  },
  {
   "cell_type": "markdown",
   "metadata": {},
   "source": [
    "### (6) 그 외 명령어\n",
    "\n",
    "- 현재 `git`의 상태를 조회 `git status`\n",
    "\n",
    "```shell\n",
    "$ git status\n",
    "```\n",
    "\n",
    "- 버전 관리 이력을 조회\n",
    "\n",
    "```shell\n",
    "$ git log\n",
    "```\n",
    "\n",
    "- `git` 설정 (user.name & user.email) : 최초 1회 설정\n",
    "\n",
    "```shell\n",
    "$ git config --global user.name \"John Kang\"\n",
    "$ git config --global user.email \"hphk.john@gmail.com\"\n",
    "```\n",
    "\n"
   ]
  },
  {
   "cell_type": "markdown",
   "metadata": {},
   "source": [
    "## 3. `README.md`\n",
    "\n",
    "> 원격(remote) 저장소(repository)에 대한 정보를 기록하는 마크다운 문서. 일반적으로 해당 프로젝트를 사용하기 위한 방법 등을 기재한다.\n",
    "\n"
   ]
  },
  {
   "cell_type": "markdown",
   "metadata": {},
   "source": [
    "### (1) `README.md` 파일 생성\n",
    "\n",
    "- `README.md` 파일을 `TIL` 폴더(최상단)에 생성한다. 이름은 반드시 **README.md**로 설정한다.\n",
    "\n",
    "```shell\n",
    "$ touch README.md\n",
    "```\n",
    "\n"
   ]
  },
  {
   "cell_type": "markdown",
   "metadata": {},
   "source": [
    "### (2) (자신만의) TIL 원칙에 대한 간단한 내용 추가\n",
    "\n",
    "- 마크다운 작성법 pdf에서 배우고 실습한 내용을 토대로 `README.md` 파일을 작성한다.\n",
    "- 형식은 자유롭게 작성하되 마크다운 문법(의미론적)을 지켜서 작성한다.\n",
    "\n"
   ]
  },
  {
   "cell_type": "markdown",
   "metadata": {},
   "source": [
    "### (3) 저장 후 버전 관리 : `add`, `commit`, `push`\n",
    "\n",
    "- 작성이 완료되면 아래의 명령어를 통해 commit 이력을 남기고 원격 저장소로 push 한다.\n",
    "\n",
    "```shell\n",
    "$ git add README.md\n",
    "$ git commit -m \"add README.md\"\n",
    "$ git push origin master\n",
    "```\n",
    "\n"
   ]
  },
  {
   "cell_type": "markdown",
   "metadata": {},
   "source": [
    "## (4) 추가 학습 내용 관리\n",
    "\n",
    "### (1) 추가 내용 관리\n",
    "\n",
    "- `TIL` 폴더 내에서 학습을 원하는 내용의 폴더를 생성하고 파일들을 생성한 후 작업을 진행한다.\n",
    "\n",
    "```python\n",
    "$ mkdir python\n",
    "```\n",
    "\n"
   ]
  },
  {
   "cell_type": "markdown",
   "metadata": {},
   "source": [
    "### (2) 변경 사항을 저장하고, 원격저장소로 옮긴다.\n",
    "\n",
    "- 업데이트가 완료되면 아래의 명령어를 통해 commit 이력을 남기고 원격 저장소로 push 한다.\n",
    "\n",
    "```shell\n",
    "$ git add .\n",
    "$ git commit -m \"학습 내용 추가\"\n",
    "$ git push origin master\n",
    "```\n",
    "\n"
   ]
  },
  {
   "cell_type": "markdown",
   "metadata": {},
   "source": []
  }
 ],
 "metadata": {
  "kernelspec": {
   "display_name": "Python 3",
   "language": "python",
   "name": "python3"
  },
  "language_info": {
   "codemirror_mode": {
    "name": "ipython",
    "version": 3
   },
   "file_extension": ".py",
   "mimetype": "text/x-python",
   "name": "python",
   "nbconvert_exporter": "python",
   "pygments_lexer": "ipython3",
   "version": "3.8.8"
  }
 },
 "nbformat": 4,
 "nbformat_minor": 4
}

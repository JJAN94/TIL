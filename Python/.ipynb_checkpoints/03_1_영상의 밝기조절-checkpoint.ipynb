{
 "cells": [
  {
   "cell_type": "markdown",
   "id": "d30aec55-ca01-4c11-a7fb-8b06bb57cc3c",
   "metadata": {},
   "source": [
    "# 영상의 밝기 조절"
   ]
  },
  {
   "cell_type": "code",
   "execution_count": 2,
   "id": "67d49edc-390c-433c-af57-cb61b066ac8a",
   "metadata": {},
   "outputs": [],
   "source": [
    "import cv2\n",
    "import sys\n",
    "import numpy as np"
   ]
  },
  {
   "cell_type": "markdown",
   "id": "3f657816-ce1c-4f30-9ca3-80c012e45805",
   "metadata": {},
   "source": [
    "### add 함수\n",
    "```python\n",
    "cv2.add(src1, src2, dst=None, mask=None, dtype=None)\n",
    "```\n",
    "- src1 : 첫 번째 영상 또는 스칼라\n",
    "- src2 : 두 번째 영상 또는 스칼라\n",
    "- dst : 덧셈 연산의 결과 영상\n",
    "- mask : 마스크 영상\n",
    "- dtype : 출력 영상(dst)의 타입"
   ]
  },
  {
   "cell_type": "code",
   "execution_count": 9,
   "id": "a6d75d83-e76c-409f-ac1f-f52e6a9588cc",
   "metadata": {},
   "outputs": [],
   "source": [
    "# 그레이 스케일 영상일 경우\n",
    "src = cv2.imread('../src/ch03/lenna.bmp', cv2.IMREAD_GRAYSCALE)\n",
    "\n",
    "# 방법1. add 함수 사용\n",
    "# dst = cv2.add(src, 100)\n",
    "\n",
    "# 방법2. 브로드캐스팅과 넘파이를 이용한 casting 방법\n",
    "dst = src + 100 # 브로드캐스팅\n",
    "# -> 그냥 덧셈 연산시 255값이 넘어가면 값을 표현못한다\n",
    "# 256=0, 257=1, 258=2.... 로 값을 다 변환해서 저장한다.\n",
    "dst = np.clip(src + 100., 0 ,255).astype(np.uint8)\n",
    "\n",
    "cv2.imshow('src', src)\n",
    "cv2.imshow('dst', dst)\n",
    "cv2.waitKey()\n",
    "\n",
    "cv2.destroyAllWindows()"
   ]
  },
  {
   "cell_type": "markdown",
   "id": "ba3aec8d-0e3a-42a8-8cd6-1500e2d76842",
   "metadata": {},
   "source": [
    "### np.clip(array, min, max)\n",
    "- array 내의 element들에 대해서 min값 보다 작은 값들을 min값으로 바꿔주고, max값 보다 큰 값들을 max값으로 바꿔주는 함수"
   ]
  },
  {
   "cell_type": "code",
   "execution_count": 10,
   "id": "ac2002e3-6e51-4a13-8ee2-d5fa1f246f7e",
   "metadata": {},
   "outputs": [],
   "source": [
    "# 컬러 영상인 경우\n",
    "src = cv2.imread('../src/ch03/lenna.bmp')\n",
    "\n",
    "dst = cv2.add(src, (100, 100, 100, 0))\n",
    "# dst = np.clip(src + 100., 0 ,255).astype(np.uint8)\n",
    "\n",
    "cv2.imshow('src', src)\n",
    "cv2.imshow('dst', dst)\n",
    "cv2.waitKey()\n",
    "\n",
    "cv2.destroyAllWindows()"
   ]
  },
  {
   "cell_type": "code",
   "execution_count": null,
   "id": "bdbed5f4-7d9e-47f5-85f1-fa35a3dcf92d",
   "metadata": {},
   "outputs": [],
   "source": []
  }
 ],
 "metadata": {
  "kernelspec": {
   "display_name": "py38",
   "language": "python",
   "name": "py38"
  },
  "language_info": {
   "codemirror_mode": {
    "name": "ipython",
    "version": 3
   },
   "file_extension": ".py",
   "mimetype": "text/x-python",
   "name": "python",
   "nbconvert_exporter": "python",
   "pygments_lexer": "ipython3",
   "version": "3.8.12"
  }
 },
 "nbformat": 4,
 "nbformat_minor": 5
}

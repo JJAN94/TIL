{
 "cells": [
  {
   "cell_type": "code",
   "execution_count": 1,
   "id": "805c323e-f1e2-46d6-a677-e7714264d320",
   "metadata": {},
   "outputs": [],
   "source": [
    "import matplotlib.pyplot as plt\n",
    "import seaborn as sns\n",
    "%matplotlib inline"
   ]
  },
  {
   "cell_type": "markdown",
   "id": "45a532ab-c5b6-4e7a-ae8d-f843bcf981f1",
   "metadata": {},
   "source": [
    "# 시각화"
   ]
  },
  {
   "cell_type": "markdown",
   "id": "8cd455f9-7b98-44ca-8a64-da9304addb39",
   "metadata": {},
   "source": [
    "### 예제 데이터 불러오기\n",
    "- anscombe 데이터셋\n",
    "    - 카테고리가 I, II, III, IV, 4개로 나눠져있는 데이터셋"
   ]
  },
  {
   "cell_type": "code",
   "execution_count": 2,
   "id": "b81f80b9-5814-46ee-b945-e5765f4cd60e",
   "metadata": {},
   "outputs": [
    {
     "data": {
      "text/html": [
       "<div>\n",
       "<style scoped>\n",
       "    .dataframe tbody tr th:only-of-type {\n",
       "        vertical-align: middle;\n",
       "    }\n",
       "\n",
       "    .dataframe tbody tr th {\n",
       "        vertical-align: top;\n",
       "    }\n",
       "\n",
       "    .dataframe thead th {\n",
       "        text-align: right;\n",
       "    }\n",
       "</style>\n",
       "<table border=\"1\" class=\"dataframe\">\n",
       "  <thead>\n",
       "    <tr style=\"text-align: right;\">\n",
       "      <th></th>\n",
       "      <th>dataset</th>\n",
       "      <th>x</th>\n",
       "      <th>y</th>\n",
       "    </tr>\n",
       "  </thead>\n",
       "  <tbody>\n",
       "    <tr>\n",
       "      <th>0</th>\n",
       "      <td>I</td>\n",
       "      <td>10.0</td>\n",
       "      <td>8.04</td>\n",
       "    </tr>\n",
       "    <tr>\n",
       "      <th>1</th>\n",
       "      <td>I</td>\n",
       "      <td>8.0</td>\n",
       "      <td>6.95</td>\n",
       "    </tr>\n",
       "    <tr>\n",
       "      <th>2</th>\n",
       "      <td>I</td>\n",
       "      <td>13.0</td>\n",
       "      <td>7.58</td>\n",
       "    </tr>\n",
       "    <tr>\n",
       "      <th>3</th>\n",
       "      <td>I</td>\n",
       "      <td>9.0</td>\n",
       "      <td>8.81</td>\n",
       "    </tr>\n",
       "    <tr>\n",
       "      <th>4</th>\n",
       "      <td>I</td>\n",
       "      <td>11.0</td>\n",
       "      <td>8.33</td>\n",
       "    </tr>\n",
       "  </tbody>\n",
       "</table>\n",
       "</div>"
      ],
      "text/plain": [
       "  dataset     x     y\n",
       "0       I  10.0  8.04\n",
       "1       I   8.0  6.95\n",
       "2       I  13.0  7.58\n",
       "3       I   9.0  8.81\n",
       "4       I  11.0  8.33"
      ]
     },
     "execution_count": 2,
     "metadata": {},
     "output_type": "execute_result"
    }
   ],
   "source": [
    "anscombe = sns.load_dataset('anscombe')\n",
    "anscombe.head()"
   ]
  },
  {
   "cell_type": "code",
   "execution_count": 3,
   "id": "3457dc9e-29c7-4700-87a2-ad74564a0d64",
   "metadata": {},
   "outputs": [
    {
     "data": {
      "text/plain": [
       "pandas.core.frame.DataFrame"
      ]
     },
     "execution_count": 3,
     "metadata": {},
     "output_type": "execute_result"
    }
   ],
   "source": [
    "type(anscombe)"
   ]
  },
  {
   "cell_type": "markdown",
   "id": "c011d460-b60d-45e8-b0ef-9d00c38872dd",
   "metadata": {},
   "source": [
    "### matplotlib 이용\n",
    "1. 전체 그래프가 위치할 기본 틀 만들기\n",
    "2. 그래프 그려 넣을 그래프 격자 만들기\n",
    "3. 격자마다 그래프 추가\n",
    "4. matlab의 subplot 그리는 순서와 같다"
   ]
  },
  {
   "cell_type": "code",
   "execution_count": 4,
   "id": "d4641f77-3c3c-4240-8f94-2a4e80135ae4",
   "metadata": {},
   "outputs": [],
   "source": [
    "# 4개의 카테고리로 데이터 분할\n",
    "dt1 = anscombe[anscombe['dataset'] == 'I']\n",
    "dt2 = anscombe[anscombe['dataset'] == 'II']\n",
    "dt3 = anscombe[anscombe['dataset'] == 'III']\n",
    "dt4 = anscombe[anscombe['dataset'] == 'IV']"
   ]
  },
  {
   "cell_type": "code",
   "execution_count": 5,
   "id": "3878fdb2-e365-4549-b4c4-57b89068c880",
   "metadata": {},
   "outputs": [
    {
     "data": {
      "text/plain": [
       "<Figure size 432x288 with 0 Axes>"
      ]
     },
     "metadata": {},
     "output_type": "display_data"
    }
   ],
   "source": [
    "# 1. 격자만들기\n",
    "fig = plt.figure()"
   ]
  },
  {
   "cell_type": "code",
   "execution_count": 6,
   "id": "6981b70b-9fe5-446d-ab30-3a4d6211d73e",
   "metadata": {},
   "outputs": [],
   "source": [
    "# 2. subplot만들기\n",
    "axes1 = fig.add_subplot(2,2,1)\n",
    "axes2 = fig.add_subplot(2,2,2)\n",
    "axes3 = fig.add_subplot(2,2,3)\n",
    "axes4 = fig.add_subplot(2,2,4)"
   ]
  },
  {
   "cell_type": "code",
   "execution_count": 7,
   "id": "fd952bfa-3ac9-46c5-812d-0e9c84ab9c71",
   "metadata": {},
   "outputs": [
    {
     "data": {
      "text/plain": [
       "[<matplotlib.lines.Line2D at 0x197c586a9d0>]"
      ]
     },
     "execution_count": 7,
     "metadata": {},
     "output_type": "execute_result"
    }
   ],
   "source": [
    "# 3. plot 그리기\n",
    "axes1.plot(dt1['x'], dt1['y'], 'o')\n",
    "axes2.plot(dt2['x'], dt2['y'], 'o')\n",
    "axes3.plot(dt3['x'], dt3['y'], 'o')\n",
    "axes4.plot(dt4['x'], dt4['y'], 'o')"
   ]
  },
  {
   "cell_type": "code",
   "execution_count": 9,
   "id": "57302613-fd60-4898-88ae-6c7c6fcdcf9e",
   "metadata": {},
   "outputs": [
    {
     "data": {
      "text/plain": [
       "Text(0.5, 1.0, 'dt4')"
      ]
     },
     "execution_count": 9,
     "metadata": {},
     "output_type": "execute_result"
    }
   ],
   "source": [
    "# 4. plot에 title주기\n",
    "axes1.set_title('dt1')\n",
    "axes2.set_title('dt2')\n",
    "axes3.set_title('dt3')\n",
    "axes4.set_title('dt4')"
   ]
  },
  {
   "cell_type": "code",
   "execution_count": 12,
   "id": "a3402552-7228-4d11-a3f9-e45a1f7ab7bb",
   "metadata": {},
   "outputs": [
    {
     "data": {
      "text/plain": [
       "Text(0.5, 0.98, 'Anscombe Data')"
      ]
     },
     "execution_count": 12,
     "metadata": {},
     "output_type": "execute_result"
    }
   ],
   "source": [
    "# 5. 전체 figure에 타이틀 주기\n",
    "fig.suptitle('Anscombe Data')"
   ]
  },
  {
   "cell_type": "code",
   "execution_count": 13,
   "id": "38959fd4-f7ca-4891-b479-ac14ac026583",
   "metadata": {},
   "outputs": [
    {
     "data": {
      "image/png": "[encoded data removed]",
      "text/plain": [
       "<Figure size 432x288 with 4 Axes>"
      ]
     },
     "execution_count": 13,
     "metadata": {},
     "output_type": "execute_result"
    }
   ],
   "source": [
    "fig"
   ]
  },
  {
   "cell_type": "code",
   "execution_count": 14,
   "id": "d5a8e424-3d26-41e0-a8a2-39756b3bf980",
   "metadata": {},
   "outputs": [
    {
     "data": {
      "image/png": "[encoded data removed]",
      "text/plain": [
       "<Figure size 432x288 with 4 Axes>"
      ]
     },
     "execution_count": 14,
     "metadata": {},
     "output_type": "execute_result"
    }
   ],
   "source": [
    "# 6. 레이아웃 조절\n",
    "fig.tight_layout()\n",
    "fig"
   ]
  },
  {
   "cell_type": "code",
   "execution_count": null,
   "id": "ddca12a2-7fcc-40cf-95bd-b99bdf40387f",
   "metadata": {},
   "outputs": [],
   "source": []
  }
 ],
 "metadata": {
  "kernelspec": {
   "display_name": "Python 3 (ipykernel)",
   "language": "python",
   "name": "python3"
  },
  "language_info": {
   "codemirror_mode": {
    "name": "ipython",
    "version": 3
   },
   "file_extension": ".py",
   "mimetype": "text/x-python",
   "name": "python",
   "nbconvert_exporter": "python",
   "pygments_lexer": "ipython3",
   "version": "3.9.7"
  }
 },
 "nbformat": 4,
 "nbformat_minor": 5
}

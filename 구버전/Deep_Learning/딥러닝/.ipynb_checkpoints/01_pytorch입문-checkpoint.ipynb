{
 "cells": [
  {
   "cell_type": "markdown",
   "id": "c5537d8e-0033-4182-bf14-09662df36cc7",
   "metadata": {},
   "source": [
    "# MNIST and Pytorch MLP Example"
   ]
  },
  {
   "cell_type": "markdown",
   "id": "9b5482f8-699a-49f3-90b0-6cbed54c56a1",
   "metadata": {},
   "source": [
    "## Module 임포트"
   ]
  },
  {
   "cell_type": "code",
   "execution_count": 1,
   "id": "1f793bd0-bda4-4a2f-9506-5454df8c6353",
   "metadata": {},
   "outputs": [],
   "source": [
    "import numpy as np\n",
    "import matplotlib.pyplot as plt\n",
    "import torch\n",
    "import torch.nn as nn\n",
    "import torch.nn.functional as F\n",
    "from torchvision import transforms, datasets"
   ]
  },
  {
   "cell_type": "markdown",
   "id": "216fc521-c6c8-498c-9802-dfb46dbba7d5",
   "metadata": {},
   "source": [
    "## 장비확인"
   ]
  },
  {
   "cell_type": "code",
   "execution_count": 2,
   "id": "c9be9dd0-08de-47aa-8d24-de19482b166f",
   "metadata": {},
   "outputs": [
    {
     "name": "stdout",
     "output_type": "stream",
     "text": [
      "Using Pytorch Version :  1.9.0 Device :  cuda\n"
     ]
    }
   ],
   "source": [
    "if torch.cuda.is_available():\n",
    "    device = torch.device('cuda')\n",
    "else:\n",
    "    device = torch.device('cpu')\n",
    "    \n",
    "print(\"Using Pytorch Version : \", torch.__version__, 'Device : ',device)"
   ]
  },
  {
   "cell_type": "markdown",
   "id": "bb243073-1e70-460b-94b4-95408704aa3b",
   "metadata": {},
   "source": [
    "## 데이터 다운로드"
   ]
  },
  {
   "cell_type": "code",
   "execution_count": null,
   "id": "14a27c96-a97a-4678-9738-1d9fc7640f34",
   "metadata": {},
   "outputs": [],
   "source": [
    "train__data = datasets.MNIST(root = './data/MNIST',\n",
    "                                                train = True,\n",
    "                                                download = True,\n",
    "                                                transform = transforms.ToTensor())\n",
    "\n",
    "\n",
    "test_x"
   ]
  }
 ],
 "metadata": {
  "kernelspec": {
   "display_name": "torch_p38",
   "language": "python",
   "name": "torch_p38"
  },
  "language_info": {
   "codemirror_mode": {
    "name": "ipython",
    "version": 3
   },
   "file_extension": ".py",
   "mimetype": "text/x-python",
   "name": "python",
   "nbconvert_exporter": "python",
   "pygments_lexer": "ipython3",
   "version": "3.8.11"
  }
 },
 "nbformat": 4,
 "nbformat_minor": 5
}

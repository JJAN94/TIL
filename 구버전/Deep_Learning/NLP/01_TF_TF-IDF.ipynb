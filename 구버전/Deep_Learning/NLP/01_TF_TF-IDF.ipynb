{
 "cells": [
  {
   "cell_type": "markdown",
   "id": "7d192584-b8c2-44eb-8371-996ecc2a2ee4",
   "metadata": {},
   "source": [
    "# 문서빈도(Term-Frequency, TF)\n",
    "- 문장에서 각 단어가 몇번 사용되었는지를 원-핫으로 표현\n",
    "예시)\n",
    "```\n",
    "corpus = ['Time flies like an arrow.',\n",
    "                'Fruit flies like a banana.']\n",
    "```\n",
    "\n",
    "에서 2번째 문장을 TF로 표현하면 [1, 2, 2, 1, 1, 0, 0, 0] 이다.\n",
    "\n",
    "# TF-IDF(Term-Frequency-Inverse-Document-Frequency)\n",
    "- 흔한 토큰의 점수를 낮추고 드문 토큰의 점수를 높인다.\n",
    "- $ IDF(w) = log\\frac{N}{n_w} $\n",
    "- $ n_w $ 는 단어 $w$를 포함한 문서의 개수, $N$은 전체 문서 개수\n",
    "- TF-IDF점수 = $TF(w)xIDF(w)$\n",
    "\n",
    "> TF, TF-IDF는 정보검색(Information retrieval, IR) 분야에서 역사가 깊으며 요즘 상용 NLP 시스템에서도 활발히 사용됨"
   ]
  },
  {
   "cell_type": "code",
   "execution_count": 3,
   "id": "2d26c591-e77e-4217-be06-9eeab3e1aed6",
   "metadata": {},
   "outputs": [],
   "source": [
    "from sklearn.feature_extraction.text import CountVectorizer\n",
    "import seaborn as sns\n",
    "import matplotlib.pyplot as plt"
   ]
  },
  {
   "cell_type": "code",
   "execution_count": 5,
   "id": "086e6fa4-3a01-4090-8651-c70122236c4b",
   "metadata": {},
   "outputs": [
    {
     "data": {
      "text/plain": [
       "<AxesSubplot:>"
      ]
     },
     "execution_count": 5,
     "metadata": {},
     "output_type": "execute_result"
    },
    {
     "data": {
      "image/png": "[encoded data removed]",
      "text/plain": [
       "<Figure size 720x360 with 1 Axes>"
      ]
     },
     "metadata": {
      "needs_background": "light"
     },
     "output_type": "display_data"
    }
   ],
   "source": [
    "corpus = ['Time flies like an arrow.',\n",
    "                'Fruit flies like a banana.']\n",
    "one_hot_vectorizer = CountVectorizer(binary=True)\n",
    "one_hot = one_hot_vectorizer.fit_transform(corpus).toarray()\n",
    "vocab = one_hot_vectorizer.get_feature_names()\n",
    "plt.figure(figsize=(10,5))\n",
    "sns.heatmap(one_hot, annot=True, cbar=False, xticklabels=vocab,\n",
    "                       yticklabels=['Sentence1', 'Sentence2'])"
   ]
  },
  {
   "cell_type": "code",
   "execution_count": 6,
   "id": "29b32af0-f4d5-40f8-8571-ab3bdd44fca7",
   "metadata": {},
   "outputs": [
    {
     "data": {
      "text/plain": [
       "<AxesSubplot:>"
      ]
     },
     "execution_count": 6,
     "metadata": {},
     "output_type": "execute_result"
    },
    {
     "data": {
      "image/png": "[encoded data removed]",
      "text/plain": [
       "<Figure size 720x360 with 1 Axes>"
      ]
     },
     "metadata": {
      "needs_background": "light"
     },
     "output_type": "display_data"
    }
   ],
   "source": [
    "from sklearn.feature_extraction.text import TfidfVectorizer\n",
    "\n",
    "tfidf_vectorizer = TfidfVectorizer()\n",
    "tfidf = tfidf_vectorizer.fit_transform(corpus).toarray()\n",
    "plt.figure(figsize=(10,5))\n",
    "sns.heatmap(tfidf, annot=True, cbar=False, xticklabels=vocab, yticklabels=['Sentence1', 'Sentence2'])"
   ]
  },
  {
   "cell_type": "code",
   "execution_count": null,
   "id": "63688ca5-ea6c-4938-8d26-2890578df318",
   "metadata": {},
   "outputs": [],
   "source": []
  }
 ],
 "metadata": {
  "kernelspec": {
   "display_name": "Python 3",
   "language": "python",
   "name": "python3"
  },
  "language_info": {
   "codemirror_mode": {
    "name": "ipython",
    "version": 3
   },
   "file_extension": ".py",
   "mimetype": "text/x-python",
   "name": "python",
   "nbconvert_exporter": "python",
   "pygments_lexer": "ipython3",
   "version": "3.8.8"
  }
 },
 "nbformat": 4,
 "nbformat_minor": 5
}

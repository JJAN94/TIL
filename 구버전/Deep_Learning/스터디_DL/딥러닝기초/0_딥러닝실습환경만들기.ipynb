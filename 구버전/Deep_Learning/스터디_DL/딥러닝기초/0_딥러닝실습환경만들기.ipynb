{
 "cells": [
  {
   "cell_type": "code",
   "execution_count": 1,
   "id": "161e13be",
   "metadata": {},
   "outputs": [],
   "source": [
    "import tensorflow as tf"
   ]
  },
  {
   "cell_type": "markdown",
   "id": "7581c34d",
   "metadata": {},
   "source": [
    "## 하이퍼 파라미터 설정"
   ]
  },
  {
   "cell_type": "code",
   "execution_count": 2,
   "id": "fa70db7b",
   "metadata": {},
   "outputs": [],
   "source": [
    "# Specify hyperparameters\n",
    "EPOCHS = 5"
   ]
  },
  {
   "cell_type": "markdown",
   "id": "86ea2104",
   "metadata": {},
   "source": [
    "## 네트워크 구조 정의"
   ]
  },
  {
   "cell_type": "code",
   "execution_count": 26,
   "id": "0425ec5c",
   "metadata": {},
   "outputs": [],
   "source": [
    "# Define network architecture\n",
    "class Mymodel(tf.keras.Model) :\n",
    "    def __init__(self) :\n",
    "        super(Mymodel, self).__init__()\n",
    "        self.flatten = tf.keras.layers.Flatten(input_shape=(28,28))\n",
    "        self.d1 = tf.keras.layers.Dense(128, activation='sigmoid')\n",
    "        self.d2 = tf.keras.layers.Dense(10, activation='softmax')\n",
    "        \n",
    "    def call(self, x) :\n",
    "        x = self.flatten(x)\n",
    "        x = self.d1(x)\n",
    "        return self.d2(x)"
   ]
  },
  {
   "cell_type": "markdown",
   "id": "fdff3575",
   "metadata": {},
   "source": [
    "## 학습 루프 정의"
   ]
  },
  {
   "cell_type": "code",
   "execution_count": 35,
   "id": "e3e975f5",
   "metadata": {},
   "outputs": [],
   "source": [
    "# Implement training loop\n",
    "@tf.function\n",
    "def train_step(model, images, labels, loss_object, optimizer, train_loss, train_accuracy) :\n",
    "    with tf.GradientTape() as tape :\n",
    "        predictions = model(images)\n",
    "        loss = loss_object(labels, predictions)\n",
    "    gradients = tape.gradient(loss, model.trainable_variables)\n",
    "    \n",
    "    optimizer.apply_gradients(zip(gradients, model.trainable_variables))\n",
    "    train_loss(loss)\n",
    "    train_accuracy(labels, predictions)"
   ]
  },
  {
   "cell_type": "markdown",
   "id": "5c0e57d8",
   "metadata": {},
   "source": [
    "## 테스트 루프 정의"
   ]
  },
  {
   "cell_type": "code",
   "execution_count": 36,
   "id": "f155f561",
   "metadata": {},
   "outputs": [],
   "source": [
    "# Implement alogorithm test\n",
    "@tf.function\n",
    "def test_step(model, images, labels, loss_object, test_loss, test_accuracy) :\n",
    "    predictions = model(images)\n",
    "    t_loss = loss_object(labels, predictions)\n",
    "    test_loss(t_loss)\n",
    "    test_accuracy(labels, predictions)"
   ]
  },
  {
   "cell_type": "markdown",
   "id": "389d2c1b",
   "metadata": {},
   "source": [
    "## 데이터셋 가져오고, 정리"
   ]
  },
  {
   "cell_type": "code",
   "execution_count": 37,
   "id": "b05cc1ef",
   "metadata": {},
   "outputs": [],
   "source": [
    "# Import and organize dataset\n",
    "mnist = tf.keras.datasets.mnist\n",
    "\n",
    "(x_train, y_train), (x_test, y_test) = mnist.load_data()\n",
    "x_train, x_test = x_train/255.0, x_test/255.0\n",
    "\n",
    "x_train = x_train[..., tf.newaxis]\n",
    "x_test = x_test[..., tf.newaxis]\n",
    "\n",
    "train_ds = tf.data.Dataset.from_tensor_slices((x_train, y_train)).shuffle(10000).batch(32)\n",
    "test_ds = tf.data.Dataset.from_tensor_slices((x_test, y_test)).batch(32)"
   ]
  },
  {
   "cell_type": "markdown",
   "id": "b591e96e",
   "metadata": {},
   "source": [
    "## 네트워크 생성"
   ]
  },
  {
   "cell_type": "code",
   "execution_count": 38,
   "id": "9f987f62",
   "metadata": {},
   "outputs": [],
   "source": [
    "# Create model\n",
    "model = Mymodel()"
   ]
  },
  {
   "cell_type": "markdown",
   "id": "919cd773",
   "metadata": {},
   "source": [
    "## 손실함수, 최적화 알고리즘 정의"
   ]
  },
  {
   "cell_type": "code",
   "execution_count": 39,
   "id": "fb195b3f",
   "metadata": {},
   "outputs": [],
   "source": [
    "# Define loss and optimizer\n",
    "loss_object = tf.keras.losses.SparseCategoricalCrossentropy()\n",
    "optimizer = tf.keras.optimizers.Adam()"
   ]
  },
  {
   "cell_type": "markdown",
   "id": "b58ae8d5",
   "metadata": {},
   "source": [
    "## 알고리즘 평가지표 설정"
   ]
  },
  {
   "cell_type": "code",
   "execution_count": 40,
   "id": "7f08baf2",
   "metadata": {},
   "outputs": [],
   "source": [
    "# Define performance metrics\n",
    "train_loss = tf.keras.metrics.Mean(name='train_loss')\n",
    "train_accuracy = tf.keras.metrics.SparseCategoricalAccuracy(name='train_accuracy')\n",
    "\n",
    "test_loss = tf.keras.metrics.Mean(name='test_loss')\n",
    "test_accuracy = tf.keras.metrics.SparseCategoricalAccuracy(name='test_accuracy')"
   ]
  },
  {
   "cell_type": "markdown",
   "id": "a3b1aafa",
   "metadata": {},
   "source": [
    "## 알고리즘 학습, 테스트 루프"
   ]
  },
  {
   "cell_type": "code",
   "execution_count": 42,
   "id": "990ede0e",
   "metadata": {},
   "outputs": [
    {
     "name": "stdout",
     "output_type": "stream",
     "text": [
      "Epoch 1, Loss : 0.29748085141181946. Accuracy : 92.01333618164062, Test Loss : 0.19183921813964844, Test Accuracy : 94.41000366210938\n",
      "Epoch 2, Loss : 0.24617715179920197. Accuracy : 93.30110931396484, Test Loss : 0.1712360680103302, Test Accuracy : 95.00333404541016\n",
      "Epoch 3, Loss : 0.21243755519390106. Accuracy : 94.17625427246094, Test Loss : 0.15616659820079803, Test Accuracy : 95.40750122070312\n",
      "Epoch 4, Loss : 0.1878129094839096. Accuracy : 94.83666229248047, Test Loss : 0.14479175209999084, Test Accuracy : 95.72200012207031\n",
      "Epoch 5, Loss : 0.168656125664711. Accuracy : 95.3647232055664, Test Loss : 0.13501843810081482, Test Accuracy : 95.98500061035156\n"
     ]
    }
   ],
   "source": [
    "# Do training loop and test\n",
    "for epoch in range(EPOCHS) :\n",
    "    for images, labels in train_ds :\n",
    "        train_step(model, images, labels, loss_object, optimizer, train_loss, train_accuracy)\n",
    "        \n",
    "    for test_images, test_labels in test_ds :\n",
    "        test_step(model, test_images, test_labels, loss_object, test_loss, test_accuracy)\n",
    "        \n",
    "    template = 'Epoch {}, Loss : {}. Accuracy : {}, Test Loss : {}, Test Accuracy : {}'\n",
    "    print(template.format(epoch+1, \\\n",
    "                                          train_loss.result(), \\\n",
    "                                          train_accuracy.result()*100, \\\n",
    "                                          test_loss.result(), \\\n",
    "                                          test_accuracy.result()*100))"
   ]
  },
  {
   "cell_type": "code",
   "execution_count": null,
   "id": "54aa5caa",
   "metadata": {},
   "outputs": [],
   "source": []
  }
 ],
 "metadata": {
  "kernelspec": {
   "display_name": "Python 3",
   "language": "python",
   "name": "python3"
  },
  "language_info": {
   "codemirror_mode": {
    "name": "ipython",
    "version": 3
   },
   "file_extension": ".py",
   "mimetype": "text/x-python",
   "name": "python",
   "nbconvert_exporter": "python",
   "pygments_lexer": "ipython3",
   "version": "3.8.8"
  }
 },
 "nbformat": 4,
 "nbformat_minor": 5
}

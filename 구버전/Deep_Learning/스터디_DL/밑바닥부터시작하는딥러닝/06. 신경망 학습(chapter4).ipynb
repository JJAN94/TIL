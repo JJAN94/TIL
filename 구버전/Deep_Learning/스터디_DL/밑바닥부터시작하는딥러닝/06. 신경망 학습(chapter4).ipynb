{
 "cells": [
  {
   "cell_type": "code",
   "execution_count": 14,
   "metadata": {},
   "outputs": [],
   "source": [
    "import numpy as np\n",
    "import matplotlib.pyplot as plt\n",
    "%matplotlib inline"
   ]
  },
  {
   "cell_type": "markdown",
   "metadata": {},
   "source": [
    "- 학습 : 훈련 데이터로부터 가중치 매개변수의 최적값을 자동으로 획득하는 것\n",
    "- 신경망이 학습할 수 있도록 해주는 지표인 **손실함수**\n",
    "- 손실함수를 **최소**로 하는 가중치를 찾는 것이 목적"
   ]
  },
  {
   "cell_type": "markdown",
   "metadata": {},
   "source": [
    "# 데이터로부터의 학습\n",
    "- weight parameter 값을 데이터를 보고 자동으로 결정"
   ]
  },
  {
   "cell_type": "markdown",
   "metadata": {},
   "source": [
    "기계학습의 생명은 데이터, 데이터에서 패턴을 발견하고 데이터로 부터 결과를 이끌어 내는게 기계학습. "
   ]
  },
  {
   "cell_type": "markdown",
   "metadata": {},
   "source": [
    "### 사람\n",
    "- 문제를 해결하려 할 때, 특정 패턴을 찾아내야 한다. 패턴을 찾을 때 사람이 이것저것 생각을 하고 답을 내는게 일반적이다. try and error를 하며 답을 찾아내는게 보통인 방법이다."
   ]
  },
  {
   "cell_type": "markdown",
   "metadata": {},
   "source": [
    "### 기계학습\n",
    "- 사람의 개입을 최소화, 수집한 데이터로부터 학습 알고리즘을 통해 패턴을 찾으려 시도한다.\n",
    "- 데이터로부터 특징(feature)를 추출하고 그 특징의 패턴을 기계학습 기술로 학습하는 방법이 있다. \n",
    "- 특징(feature)란, 입력데이터에서 본질적인 데이터를 정확하게 추출 할 수 있도록 설계된 변환기를 뜻함.\n",
    "- 이미지의 특징은 보통 벡터로 기술하고, 컴퓨터 비전 분야에서는 SIFT, SURF, HOG 등의 특징을 많이 사용한다. 특징을 사용하여 이미지 데이터를 벡터로 변환, 변환된 벡터를 가지고 알고리즘(SVM, KNN 등)을 적용해 학습(특징만 넣어주면 학습은 기계가 알아서 한다) 할 수 있다. (단점은 특징을 사람이 넣어줘야한한다.)"
   ]
  },
  {
   "cell_type": "markdown",
   "metadata": {},
   "source": [
    "- 신경망(딥러닝)은 특징부터 학습까지 처음부터 끝까지 기계가 스스로 학습한다. (종단간 기계학습(end-to-end machine learning)이라고도 한다.)\n",
    "- 입력부터 결과까지 사람 개입 없이 결과를 얻을 수 있다."
   ]
  },
  {
   "cell_type": "code",
   "execution_count": null,
   "metadata": {},
   "outputs": [],
   "source": []
  },
  {
   "cell_type": "markdown",
   "metadata": {},
   "source": [
    "### 훈련 데이터와 시험 데이터"
   ]
  },
  {
   "cell_type": "markdown",
   "metadata": {},
   "source": [
    "- 기계학습 문제를 풀 때 **훈련데이터(training data)** 와 **시험데이터(test data)** 로 나눠 학습과 실험을 수행하는 것이 일반적이다.\n",
    "- training set을 이용해 학습을 수행하며 최적의 파라미터를 찾고, test set으 이용해 훈련한 모델의 성능을 평가"
   ]
  },
  {
   "cell_type": "markdown",
   "metadata": {},
   "source": [
    "그렇다면 왜 데이터를 나눠서 학습과 평가를 수행하는 걸까?\\\n",
    "-> 범용성 때문에 그렇다. 우리가 보통 사용하는 모델은 새롭게 생성되거나 들어온 데이터를 이용해 결과를 얻어내야 하기떄문이다."
   ]
  },
  {
   "cell_type": "markdown",
   "metadata": {},
   "source": [
    "범용성을 생각하지 않고 모델을 만들게 되면 모델을 만들때에 넣은 데이터에서만 정확도가 높은 모델이 나오게 된다. 너무 한 데이터셋에만 치우친 최적화된 상태를 **오버피팅(overfitting)** (과적합) 이라고 한다."
   ]
  },
  {
   "cell_type": "code",
   "execution_count": null,
   "metadata": {},
   "outputs": [],
   "source": []
  },
  {
   "cell_type": "markdown",
   "metadata": {},
   "source": [
    "### Loss Function\n",
    "- 신경망 학습에서 사용되는 지표\n",
    "- 임의의 함수를 사용할 수 도 있지만 일반적으로 오차제곱합과 교차엔트로피 오차를 사용한다."
   ]
  },
  {
   "cell_type": "markdown",
   "metadata": {},
   "source": [
    "### SSE (Sum of squares for errer) 오차제곱합"
   ]
  },
  {
   "cell_type": "markdown",
   "metadata": {},
   "source": [
    "$$\n",
    "E = {\\frac{1}{2}}{\\sum_{k}} {(y_k - t_k)^2}\n",
    "$$"
   ]
  },
  {
   "cell_type": "markdown",
   "metadata": {},
   "source": [
    "여기서 $y_k$는 모델학습 후 나온 결과, $t_k$는 레이블값"
   ]
  },
  {
   "cell_type": "markdown",
   "metadata": {},
   "source": [
    "> 원-핫 인코딩(one-hot encoding)\n",
    "결과 레이블에 해당하는 값만 1이고 나머지는 다 0으로 표현하는 방법"
   ]
  },
  {
   "cell_type": "code",
   "execution_count": 4,
   "metadata": {},
   "outputs": [],
   "source": [
    "def sum_squares_error(y, t) :\n",
    "    return 0.5*np.sum((y-t)**2)"
   ]
  },
  {
   "cell_type": "code",
   "execution_count": 10,
   "metadata": {},
   "outputs": [
    {
     "data": {
      "text/plain": [
       "0.5975"
      ]
     },
     "execution_count": 10,
     "metadata": {},
     "output_type": "execute_result"
    }
   ],
   "source": [
    "# 정답은 '2', 원-핫 인코딩\n",
    "t = [0, 0, 1, 0, 0, 0, 0, 0, 0 ,0]\n",
    "\n",
    "# 경우1 : 2일 가능이 제일 크다고 추청함.\n",
    "y = [0.1, 0.05, 0.6, 0.0, 0.05, 0.1, 0.0, 0.1, 0.0, 0.0]\n",
    "# np.sum(y) = 1.0\n",
    "\n",
    "sum_squares_error(np.array(y), np.array(t))\n",
    "# 0.09750000000000003\n",
    "\n",
    "# 경우2 : 7이라면?\n",
    "y = [0.1, 0.05, 0.1, 0.0, 0.05, 0.1, 0.0, 0.6, 0.0, 0.0]\n",
    "sum_squares_error(np.array(y), np.array(t))\n",
    "# 0.5975"
   ]
  },
  {
   "cell_type": "markdown",
   "metadata": {},
   "source": [
    "일단, 정답은 2이다. 첫번째인 경우 SSE의 값은 0.09750000000000003 이고 두번째인 경우 SSE는 0.5975이다. 첫번째 경우의 값이 두번째 결과값보다 확연히 작다. 즉, 오차제곱합 기준으로 번 추정 결과가 더 정답에 가까울 것으로 판단 할 수 있다."
   ]
  },
  {
   "cell_type": "markdown",
   "metadata": {},
   "source": [
    "### CEE (Cross entropy error) 교차 엔트로피 오차"
   ]
  },
  {
   "cell_type": "markdown",
   "metadata": {},
   "source": [
    "$$\n",
    "E = -{\\sum_k}{t_k}{\\log y_k}\n",
    "$$"
   ]
  },
  {
   "cell_type": "markdown",
   "metadata": {},
   "source": [
    "밑수는 자연로그인 e이고 $t_k$는 정답레이블, $y_k$는 신경망 출력값"
   ]
  },
  {
   "cell_type": "code",
   "execution_count": 25,
   "metadata": {},
   "outputs": [
    {
     "data": {
      "text/plain": [
       "(-0.01, 1.0)"
      ]
     },
     "execution_count": 25,
     "metadata": {},
     "output_type": "execute_result"
    },
    {
     "data": {
      "image/png": "[encoded data removed]",
      "text/plain": [
       "<Figure size 432x288 with 1 Axes>"
      ]
     },
     "metadata": {
      "needs_background": "light"
     },
     "output_type": "display_data"
    }
   ],
   "source": [
    "# 로그함수\n",
    "x = np.arange(0.001, 1, 0.01)\n",
    "y = np.log(x)\n",
    "plt.plot(x,y)\n",
    "plt.xlim(-0.01 , 1.0)"
   ]
  },
  {
   "cell_type": "code",
   "execution_count": 26,
   "metadata": {},
   "outputs": [],
   "source": [
    "def cross_entropy_error(y,t):\n",
    "    delta = 1e-7\n",
    "    return -np.sum(t*np.log(y+delta))"
   ]
  },
  {
   "cell_type": "code",
   "execution_count": 27,
   "metadata": {},
   "outputs": [
    {
     "data": {
      "text/plain": [
       "0.510825457099338"
      ]
     },
     "execution_count": 27,
     "metadata": {},
     "output_type": "execute_result"
    }
   ],
   "source": [
    "t = [0, 0, 1, 0, 0, 0, 0, 0, 0, 0]\n",
    "y = [0.1 , 0.05, 0.6, 0.0, 0.05, 0.1, 0.0, 0.1, 0.0, 0.0]\n",
    "cross_entropy_error(np.array(y), np.array(t))"
   ]
  },
  {
   "cell_type": "code",
   "execution_count": 28,
   "metadata": {},
   "outputs": [
    {
     "data": {
      "text/plain": [
       "2.302584092994546"
      ]
     },
     "execution_count": 28,
     "metadata": {},
     "output_type": "execute_result"
    }
   ],
   "source": [
    "y = [0.1, 0.05, 0.1, 0.0, 0.05, 0.1, 0.0, 0.6, 0.0, 0.0]\n",
    "cross_entropy_error(np.array(y), np.array(t))"
   ]
  },
  {
   "cell_type": "markdown",
   "metadata": {},
   "source": [
    "정답이 2이고 y값이 2에 확률이 높은게 더 작은 CEE값을 갖는다. 그래서 다음과 같은 추정에서는 첫번째가 정답에 더 가깝다는 판단을 할 수 있겠다. "
   ]
  },
  {
   "cell_type": "code",
   "execution_count": null,
   "metadata": {},
   "outputs": [],
   "source": []
  },
  {
   "cell_type": "markdown",
   "metadata": {},
   "source": [
    "다음의 SSE과 CEE는 단일 데이터에 대한 값을 나타냈다.\n",
    "$\n",
    "E = {\\frac{1}{2}}{\\sum_{k}} {(y_k - t_k)^2},    E = -{\\sum_k}{t_k}{\\log y_k}\n",
    "$\\\n",
    "그러나 현실은 수많은 데이터 셋이 있고 그것들의 손실함수의 총합을 구해야 한다. 그렇다면 각 손실함수의 합을 어떻게 더하는게 좋을까?"
   ]
  },
  {
   "cell_type": "markdown",
   "metadata": {},
   "source": [
    "교차엔트로피 $ E = -\\frac{1}{N}{\\sum_n} {\\sum_k}{t_{nk}}{\\log y_{nk}} $"
   ]
  },
  {
   "cell_type": "markdown",
   "metadata": {},
   "source": [
    "데이터 갯수가 N이고, n by k matrix의 값을 의미한다. 마지막에 N으로 나누어 정규화 하고 있다. N으로 나눔으로써 평균 손실 함수를 구하는 것"
   ]
  },
  {
   "cell_type": "markdown",
   "metadata": {},
   "source": [
    "mnist 데이터셋으로 보면 총 6만개가 있다. 그 일부를 미니배치(mini-batch)라고 하며, 6만개 중 일부만을 뽑아 학습을 하는 방법을 미니배치 학습이라고 한다"
   ]
  },
  {
   "cell_type": "code",
   "execution_count": 34,
   "metadata": {},
   "outputs": [],
   "source": [
    "from keras.datasets import mnist"
   ]
  },
  {
   "cell_type": "code",
   "execution_count": 39,
   "metadata": {},
   "outputs": [
    {
     "name": "stdout",
     "output_type": "stream",
     "text": [
      "Downloading data from https://storage.googleapis.com/tensorflow/tf-keras-datasets/mnist.npz\n",
      "11493376/11490434 [==============================] - 2s 0us/step\n"
     ]
    }
   ],
   "source": [
    "(x_train, t_train), (x_test, t_test) = mnist.load_data()"
   ]
  },
  {
   "cell_type": "code",
   "execution_count": 42,
   "metadata": {},
   "outputs": [
    {
     "name": "stdout",
     "output_type": "stream",
     "text": [
      "(60000, 28, 28)\n"
     ]
    }
   ],
   "source": [
    "print(x_train.shape)"
   ]
  },
  {
   "cell_type": "code",
   "execution_count": 43,
   "metadata": {},
   "outputs": [
    {
     "name": "stdout",
     "output_type": "stream",
     "text": [
      "(60000,)\n"
     ]
    }
   ],
   "source": [
    "print(t_train.shape)"
   ]
  },
  {
   "cell_type": "code",
   "execution_count": null,
   "metadata": {},
   "outputs": [],
   "source": []
  }
 ],
 "metadata": {
  "kernelspec": {
   "display_name": "Python 3",
   "language": "python",
   "name": "python3"
  },
  "language_info": {
   "codemirror_mode": {
    "name": "ipython",
    "version": 3
   },
   "file_extension": ".py",
   "mimetype": "text/x-python",
   "name": "python",
   "nbconvert_exporter": "python",
   "pygments_lexer": "ipython3",
   "version": "3.8.8"
  }
 },
 "nbformat": 4,
 "nbformat_minor": 4
}

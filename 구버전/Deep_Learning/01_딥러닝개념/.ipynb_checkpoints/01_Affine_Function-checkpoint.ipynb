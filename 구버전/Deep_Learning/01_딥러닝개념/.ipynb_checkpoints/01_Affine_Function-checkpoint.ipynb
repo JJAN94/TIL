{
 "cells": [
  {
   "cell_type": "markdown",
   "id": "a036e906-b5f8-467a-b268-2248cf85a622",
   "metadata": {},
   "source": [
    "## Affine Functions with 1 Feature"
   ]
  },
  {
   "cell_type": "markdown",
   "id": "01563e9c-9688-4856-80f0-168a857ff4d2",
   "metadata": {},
   "source": [
    "### Affine Function"
   ]
  },
  {
   "cell_type": "code",
   "execution_count": 5,
   "id": "59f683a1-5988-4741-9dc4-0f9410a1370c",
   "metadata": {},
   "outputs": [
    {
     "name": "stdout",
     "output_type": "stream",
     "text": [
      "tf.Tensor([[10.]], shape=(1, 1), dtype=float32)\n",
      "tf.Tensor([[7.486018]], shape=(1, 1), dtype=float32)\n",
      "[[0.7486018]] [0.]\n",
      "\n",
      "***** Input/Weight/Bias *****\n",
      "x : (1, 1)\n",
      "[[10.]]\n",
      "\n",
      "W : (1, 1)\n",
      "[[0.7486018]]\n",
      "\n",
      "B : (1,)\n",
      "[0.]\n",
      "\n"
     ]
    }
   ],
   "source": [
    "import numpy as np\n",
    "import tensorflow as tf\n",
    "from tensorflow.keras.layers import Dense\n",
    "\n",
    "x = tf.constant([[10.]]) # input setting\n",
    "print(x)\n",
    "dense = Dense(units=1, activation='linear') # an affine function\n",
    "\n",
    "y_tf = dense(x) # forward propagation + params initialization\n",
    "print(y_tf)\n",
    "\n",
    "W, B = dense.get_weights() # get weight, bias\n",
    "print(W, B)\n",
    "print()\n",
    "print('***** Input/Weight/Bias *****')\n",
    "print(f\"x : {x.shape}\\n{x.numpy()}\\n\")\n",
    "print(f\"W : {W.shape}\\n{W}\\n\")\n",
    "print(f\"B : {B.shape}\\n{B}\\n\")"
   ]
  },
  {
   "cell_type": "code",
   "execution_count": 6,
   "id": "d8e7cdff-f3a3-428c-bfe7-5c5fd1d776b4",
   "metadata": {},
   "outputs": [],
   "source": [
    "y_man = tf.linalg.matmul(x, W) + B # forward propagation(manual)"
   ]
  },
  {
   "cell_type": "code",
   "execution_count": 9,
   "id": "7361fd9c-9d0f-471c-b5a0-940abe2ab427",
   "metadata": {},
   "outputs": [
    {
     "data": {
      "text/plain": [
       "array([[7.486018]], dtype=float32)"
      ]
     },
     "execution_count": 9,
     "metadata": {},
     "output_type": "execute_result"
    }
   ],
   "source": [
    "y_man.numpy()"
   ]
  },
  {
   "cell_type": "code",
   "execution_count": 10,
   "id": "73dc2695-2320-4d0e-9dd3-aaa1c8defef0",
   "metadata": {},
   "outputs": [
    {
     "name": "stdout",
     "output_type": "stream",
     "text": [
      "***** Outputs *****\n",
      "y(tensorflow) : (1, 1)\n",
      "[[7.486018]]\n",
      "\n",
      "y(Manual) : (1, 1)\n",
      "[[7.486018]]\n",
      "\n"
     ]
    }
   ],
   "source": [
    "print('***** Outputs *****')\n",
    "print(f'y(tensorflow) : {y_tf.shape}\\n{y_tf.numpy()}\\n')\n",
    "print(f'y(Manual) : {y_man.shape}\\n{y_man.numpy()}\\n')"
   ]
  },
  {
   "cell_type": "markdown",
   "id": "baa6fca9-7623-4e7d-ad3e-1257f239db16",
   "metadata": {},
   "source": [
    "### Params Initialization"
   ]
  },
  {
   "cell_type": "code",
   "execution_count": 16,
   "id": "a9277b1a-ca58-478f-887d-ac5aeda7ed97",
   "metadata": {},
   "outputs": [
    {
     "name": "stdout",
     "output_type": "stream",
     "text": [
      "tf.Tensor([[120.]], shape=(1, 1), dtype=float32)\n",
      "[[10.]] (1, 1)\n",
      "[20.] (1,)\n"
     ]
    }
   ],
   "source": [
    "from tensorflow.keras.initializers import Constant\n",
    "\n",
    "x = tf.constant([[10.]]) # input setting\n",
    "# tensorflow는 기본적으로 float32를 기본 자료형으로 하기때문에 데이터를 넣을 때 .을 붙이는걸 습관화 하자\n",
    "#weight/bias setting\n",
    "w, b = tf.constant(10.), tf.constant(20.)\n",
    "w_init, b_init = Constant(w), Constant(b)\n",
    "# print(w_init, b_init)\n",
    "\n",
    "# an affine function\n",
    "dense = Dense(units=1,\n",
    "                         activation='linear',\n",
    "                          kernel_initializer=w_init,\n",
    "                          bias_initializer=b_init)\n",
    "y_tf = dense(x)\n",
    "print(y_tf)\n",
    "W, B = dense.get_weights()\n",
    "\n",
    "print(W, W.shape)\n",
    "print(B, B.shape)"
   ]
  },
  {
   "cell_type": "markdown",
   "id": "f91af2ca-1345-44c9-9731-cca649e6c06f",
   "metadata": {},
   "source": [
    "## Affine Functions with n Features"
   ]
  },
  {
   "cell_type": "markdown",
   "id": "fe2ec2d3-1835-4fa0-8394-022379e29896",
   "metadata": {},
   "source": [
    "### Affine Fuctions with n Features"
   ]
  },
  {
   "cell_type": "code",
   "execution_count": 17,
   "id": "f8e5ec16-37b4-49a0-af4f-d087c36dea55",
   "metadata": {},
   "outputs": [
    {
     "name": "stdout",
     "output_type": "stream",
     "text": [
      "(1, 10) \n",
      " tf.Tensor(\n",
      "[[0.37992907 0.16473639 0.9290209  0.7844627  0.5272888  0.8083979\n",
      "  0.6655743  0.63860893 0.19750333 0.6292448 ]], shape=(1, 10), dtype=float32)\n"
     ]
    }
   ],
   "source": [
    "import tensorflow as tf\n",
    "from tensorflow.keras.layers import Dense\n",
    "\n",
    "x = tf.random.uniform(shape=(1,10))\n",
    "print(x.shape, '\\n', x)"
   ]
  },
  {
   "cell_type": "code",
   "execution_count": 19,
   "id": "62a2a16c-904f-45f8-b14c-a445a5392605",
   "metadata": {},
   "outputs": [
    {
     "name": "stdout",
     "output_type": "stream",
     "text": [
      "***** Input/Weight/Bias *****\n",
      "x : (1, 10)\n",
      "[[0.37992907 0.16473639 0.9290209  0.7844627  0.5272888  0.8083979\n",
      "  0.6655743  0.63860893 0.19750333 0.6292448 ]]\n",
      "\n",
      "W : (10, 1)\n",
      "[[-0.46131665]\n",
      " [-0.43235138]\n",
      " [ 0.07701409]\n",
      " [ 0.33648115]\n",
      " [-0.25945753]\n",
      " [ 0.19401598]\n",
      " [-0.5877136 ]\n",
      " [ 0.14931482]\n",
      " [ 0.1613028 ]\n",
      " [-0.26248598]]\n",
      "\n",
      "B : (1,)\n",
      "[0.]\n",
      "\n",
      "***** Outputs *****\n",
      "y(tensorflow) : (1, 1)\n",
      "[[-0.32007736]]\n",
      "\n",
      "y(Manual) : (1, 1)\n",
      "[[-0.32007736]]\n",
      "\n"
     ]
    }
   ],
   "source": [
    "dense = Dense(units=1)\n",
    "\n",
    "y_tf = dense(x)\n",
    "W, B = dense.get_weights()\n",
    "y_man = tf.linalg.matmul(x, W) + B\n",
    "\n",
    "print('***** Input/Weight/Bias *****')\n",
    "print(f\"x : {x.shape}\\n{x.numpy()}\\n\")\n",
    "print(f\"W : {W.shape}\\n{W}\\n\")\n",
    "print(f\"B : {B.shape}\\n{B}\\n\")\n",
    "\n",
    "print('***** Outputs *****')\n",
    "print(f'y(tensorflow) : {y_tf.shape}\\n{y_tf.numpy()}\\n')\n",
    "print(f'y(Manual) : {y_man.shape}\\n{y_man.numpy()}\\n')"
   ]
  },
  {
   "cell_type": "code",
   "execution_count": null,
   "id": "ee53733f-00eb-44bd-81a1-5f2829effcf3",
   "metadata": {},
   "outputs": [],
   "source": []
  },
  {
   "cell_type": "code",
   "execution_count": null,
   "id": "cc32452e-567b-4946-ab5b-7d365f74f3fc",
   "metadata": {},
   "outputs": [],
   "source": []
  },
  {
   "cell_type": "code",
   "execution_count": null,
   "id": "10896f7f-2b92-4f35-858c-dd080c629009",
   "metadata": {},
   "outputs": [],
   "source": []
  }
 ],
 "metadata": {
  "kernelspec": {
   "display_name": "tensor",
   "language": "python",
   "name": "tensor"
  },
  "language_info": {
   "codemirror_mode": {
    "name": "ipython",
    "version": 3
   },
   "file_extension": ".py",
   "mimetype": "text/x-python",
   "name": "python",
   "nbconvert_exporter": "python",
   "pygments_lexer": "ipython3",
   "version": "3.8.11"
  }
 },
 "nbformat": 4,
 "nbformat_minor": 5
}

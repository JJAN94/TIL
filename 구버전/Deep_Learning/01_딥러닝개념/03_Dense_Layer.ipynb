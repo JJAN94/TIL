{
 "cells": [
  {
   "cell_type": "markdown",
   "id": "1d53b684-a467-4155-b84b-bd93bed1ba87",
   "metadata": {},
   "source": [
    "## Dense Layers"
   ]
  },
  {
   "cell_type": "markdown",
   "id": "92222b45-da89-435a-8768-fccde3cc87e0",
   "metadata": {},
   "source": [
    "### Shapes of Dense Layers"
   ]
  },
  {
   "cell_type": "code",
   "execution_count": 4,
   "id": "3a198731-7eff-49b0-92e1-a2bc7f5285c8",
   "metadata": {},
   "outputs": [
    {
     "name": "stdout",
     "output_type": "stream",
     "text": [
      "***** Input/Weight/Bias *****\n",
      "X :  (8, 10)\n",
      "W :  (10, 3)\n",
      "B :  (3,)\n",
      "Y :  (8, 3)\n"
     ]
    }
   ],
   "source": [
    "import tensorflow as tf\n",
    "from tensorflow.keras.layers import Dense\n",
    "\n",
    "N, n_feature = 8, 10\n",
    "X = tf.random.normal(shape=(N, n_feature)) # X는 X.transpose를 의미\n",
    "\n",
    "n_neuron = 3\n",
    "dense = Dense(units=n_neuron, activation='sigmoid') # 한개의 layer에 3개의 뉴런을 가짐\n",
    "Y = dense(X)\n",
    "\n",
    "W, B = dense.get_weights()\n",
    "\n",
    "print('***** Input/Weight/Bias *****')\n",
    "print('X : ', X.shape)\n",
    "print('W : ', W.shape)\n",
    "print('B : ', B.shape)\n",
    "print('Y : ', Y.shape)"
   ]
  },
  {
   "cell_type": "markdown",
   "id": "9da35e8c-bd33-408d-89e7-8e881567f12a",
   "metadata": {},
   "source": [
    "### Output Calculations"
   ]
  },
  {
   "cell_type": "code",
   "execution_count": 7,
   "id": "53eee5da-2c3c-4c5b-ad88-9c92683c02fb",
   "metadata": {},
   "outputs": [
    {
     "name": "stdout",
     "output_type": "stream",
     "text": [
      "Y(tensorflow) \n",
      " [[0.5354668  0.280311   0.29505935]\n",
      " [0.1262378  0.26131862 0.24623986]\n",
      " [0.73066247 0.90359235 0.5680011 ]\n",
      " [0.31405592 0.20042019 0.59765637]]\n",
      "Y(manual) \n",
      " [[0.5354668  0.280311   0.29505935]\n",
      " [0.1262378  0.26131862 0.24623986]\n",
      " [0.73066247 0.90359235 0.5680011 ]\n",
      " [0.31405592 0.20042019 0.59765637]]\n",
      "Y(with dot products)\n",
      "  [[0.53558732 0.28043956 0.29501842]\n",
      " [0.12619491 0.26130881 0.24628956]\n",
      " [0.73062652 0.90354253 0.56791106]\n",
      " [0.31397478 0.2004457  0.59775943]]\n"
     ]
    }
   ],
   "source": [
    "import numpy as np\n",
    "import tensorflow as tf\n",
    "from tensorflow.math import exp\n",
    "from tensorflow.linalg import matmul\n",
    "from tensorflow.keras.layers import Dense\n",
    "\n",
    "N, n_feature = 4, 10\n",
    "X = tf.random.normal(shape=(N, n_feature))\n",
    "\n",
    "n_neuron = 3\n",
    "dense = Dense(units=n_neuron, activation='sigmoid') # 한개의 layer에 3개의 뉴런을 가짐\n",
    "Y_tf = dense(X)\n",
    "\n",
    "W, B = dense.get_weights()\n",
    "print('Y(tensorflow) \\n', Y_tf.numpy())\n",
    "\n",
    "# calculate with matrix multiplication\n",
    "z = matmul(X, W) + B\n",
    "y_man = 1 / (1 + exp(-z))\n",
    "print('Y(manual) \\n', y_man.numpy())\n",
    "\n",
    "# calculate with dot products\n",
    "Y_man_vec = np.zeros(shape=(N, n_neuron))\n",
    "for x_idx in range(N):\n",
    "    x = X[x_idx]\n",
    "    \n",
    "    for nu_idx in range(n_neuron):\n",
    "        w, b = W[:, nu_idx], B[nu_idx]\n",
    "        \n",
    "        z = tf.reduce_sum(x*w) + b\n",
    "        a = 1/(1 + np.exp(-z))\n",
    "        Y_man_vec[x_idx, nu_idx] = a\n",
    "        \n",
    "print('Y(with dot products)\\n ', Y_man_vec)"
   ]
  },
  {
   "cell_type": "markdown",
   "id": "222d7013-ff0c-4dba-b3b1-fef2ca6662ca",
   "metadata": {},
   "source": [
    "## Cascaded Dense  Layers"
   ]
  },
  {
   "cell_type": "markdown",
   "id": "92067934-7487-41fe-9e72-fe00da42c94c",
   "metadata": {},
   "source": [
    "### Shapes of Cascaded Dense Layers"
   ]
  },
  {
   "cell_type": "code",
   "execution_count": 13,
   "id": "dcbfd81f-4180-4d9a-9ede-8afeba31f710",
   "metadata": {},
   "outputs": [
    {
     "name": "stdout",
     "output_type": "stream",
     "text": [
      "X : (4, 10)\n",
      "\n",
      "W1 :  (10, 3)\n",
      "B1 :  (3,)\n",
      "A1 : (4, 3)\n",
      "\n",
      "W2 :  (3, 5)\n",
      "B2 :  (5,)\n",
      "Y : (4, 5)\n"
     ]
    }
   ],
   "source": [
    "import tensorflow as tf\n",
    "\n",
    "from tensorflow.keras.layers import Dense\n",
    "\n",
    "N, n_feature = 4, 10\n",
    "\n",
    "X = tf.random.normal(shape=(N, n_feature))\n",
    "\n",
    "n_neurons = [3,5]\n",
    "dense1 = Dense(units=n_neurons[0], activation='sigmoid')\n",
    "dense2 = Dense(units=n_neurons[1], activation='sigmoid')\n",
    "\n",
    "# forward propagation\n",
    "A1 = dense1(X)\n",
    "Y = dense2(A1)\n",
    "\n",
    "# get weight/bias\n",
    "W1, B1 = dense1.get_weights()\n",
    "W2, B2 = dense2.get_weights()\n",
    "\n",
    "print('X : {}\\n'.format(X.shape))\n",
    "\n",
    "print('W1 : ', W1.shape)\n",
    "print('B1 : ', B1.shape)\n",
    "print('A1 : {}\\n'.format(A1.shape))\n",
    "\n",
    "print('W2 : ', W2.shape)\n",
    "print('B2 : ',B2.shape)\n",
    "print('Y : {}'.format(Y.shape))"
   ]
  },
  {
   "cell_type": "markdown",
   "id": "7750efdc-b35d-4183-b541-a2a243cd2166",
   "metadata": {},
   "source": [
    "### Dense Layers with Python List"
   ]
  },
  {
   "cell_type": "code",
   "execution_count": 15,
   "id": "b8ecc831-3442-449c-a04a-37f52aeba5d8",
   "metadata": {},
   "outputs": [
    {
     "name": "stdout",
     "output_type": "stream",
     "text": [
      "Input :  (4, 10)\n",
      "After dense layer :  1\n",
      "(4, 10) \n",
      "\n",
      "After dense layer :  2\n",
      "(4, 20) \n",
      "\n",
      "After dense layer :  3\n",
      "(4, 30) \n",
      "\n",
      "After dense layer :  4\n",
      "(4, 40) \n",
      "\n",
      "After dense layer :  5\n",
      "(4, 50) \n",
      "\n",
      "After dense layer :  6\n",
      "(4, 60) \n",
      "\n",
      "After dense layer :  7\n",
      "(4, 70) \n",
      "\n",
      "After dense layer :  8\n",
      "(4, 80) \n",
      "\n",
      "After dense layer :  9\n",
      "(4, 90) \n",
      "\n",
      "After dense layer :  10\n",
      "(4, 100) \n",
      "\n"
     ]
    }
   ],
   "source": [
    "import tensorflow as tf\n",
    "\n",
    "from tensorflow.keras.layers import Dense\n",
    "\n",
    "N, n_feature = 4, 10\n",
    "\n",
    "X = tf.random.normal(shape=(N, n_feature))\n",
    "\n",
    "n_neurons = [10, 20 ,30, 40, 50, 60, 70, 80, 90, 100]\n",
    "\n",
    "dense_layers = []\n",
    "\n",
    "for n_neuron in n_neurons:\n",
    "#     print(n_neuron)\n",
    "    dense = Dense(units=n_neuron, activation='relu')\n",
    "    dense_layers.append(dense)\n",
    "\n",
    "print('Input : ', X.shape)\n",
    "for dense_idx, dense in enumerate(dense_layers):\n",
    "    X = dense(X)\n",
    "    print(\"After dense layer : \", dense_idx+1)\n",
    "    print(X.shape, '\\n')\n",
    "\n",
    "Y = X"
   ]
  },
  {
   "cell_type": "markdown",
   "id": "402281a0-5238-4d65-b960-60195907995a",
   "metadata": {},
   "source": [
    "### Output Calculations"
   ]
  },
  {
   "cell_type": "code",
   "execution_count": 3,
   "id": "227597db-56ed-40d4-b8a2-9c2c1187b385",
   "metadata": {},
   "outputs": [
    {
     "name": "stdout",
     "output_type": "stream",
     "text": [
      "Input :  (4, 10)\n",
      "Y(tensorflow) \n",
      " [[0.7111392  0.18692735 0.7255024  0.5854922  0.4544989 ]\n",
      " [0.70149904 0.20888393 0.7072701  0.56515443 0.46334806]\n",
      " [0.7224216  0.18283015 0.7312375  0.57106686 0.46023956]\n",
      " [0.7127534  0.19622679 0.7193955  0.56708086 0.4614766 ]]\n",
      "Y(manual) : \n",
      " [[0.7111392  0.18692735 0.7255024  0.5854922  0.4544989 ]\n",
      " [0.70149904 0.20888393 0.7072701  0.56515443 0.46334806]\n",
      " [0.7224216  0.18283015 0.7312375  0.57106686 0.46023956]\n",
      " [0.7127534  0.19622679 0.7193955  0.56708086 0.4614766 ]]\n"
     ]
    }
   ],
   "source": [
    "import tensorflow as tf\n",
    "\n",
    "from tensorflow.keras.layers import Dense\n",
    "from tensorflow.math import exp\n",
    "from tensorflow.linalg import matmul\n",
    "\n",
    "N, n_feature = 4, 10\n",
    "X = tf.random.normal(shape=(N, n_feature))\n",
    "X_cp = tf.identity(X) # X를 copy (깊은복사)\n",
    "\n",
    "n_neurons = [3, 4, 5]\n",
    "\n",
    "dense_layers = []\n",
    "for n_neuron in n_neurons:\n",
    "    dense = Dense(units=n_neuron, activation='sigmoid')\n",
    "    dense_layers.append(dense)\n",
    "\n",
    "print('Input : ', X.shape)\n",
    "\n",
    "# forward propagation (tensorflow)\n",
    "W, B = [], []\n",
    "for dense_idx, dense in enumerate(dense_layers):\n",
    "    X = dense(X)\n",
    "    w, b = dense.get_weights()\n",
    "    W.append(w)\n",
    "    B.append(b)\n",
    "    \n",
    "print('Y(tensorflow) \\n', X.numpy())\n",
    "    \n",
    "# forward propagation (manual)\n",
    "for layer_idx in range(len(n_neurons)):\n",
    "    w, b = W[layer_idx], B[layer_idx]\n",
    "    \n",
    "    X_cp = matmul(X_cp, w) + b\n",
    "    X_cp = 1/(1+ exp(-X_cp))\n",
    "print('Y(manual) : \\n', X_cp.numpy())"
   ]
  },
  {
   "cell_type": "code",
   "execution_count": null,
   "id": "fcecf1c7-2b84-49ad-9007-dabe3ce8d590",
   "metadata": {},
   "outputs": [],
   "source": []
  },
  {
   "cell_type": "markdown",
   "id": "09099d51-4034-4256-bd69-cc139dfbb8ce",
   "metadata": {},
   "source": [
    "## Model Implementation"
   ]
  },
  {
   "cell_type": "markdown",
   "id": "1843a44f-68a9-4dec-82ac-f92faf6e2077",
   "metadata": {},
   "source": [
    "### Model Implementation with Sequential Method"
   ]
  },
  {
   "cell_type": "code",
   "execution_count": 2,
   "id": "e383e991-9e1f-4080-8097-5784632372ee",
   "metadata": {},
   "outputs": [],
   "source": [
    "from tensorflow.keras.layers import Dense\n",
    "\n",
    "from tensorflow.keras.models import Sequential\n",
    "\n",
    "n_neurons = [3, 4, 5, 6]\n",
    "\n",
    "# for n_neuron in n_neurons: \n",
    "#     model.append(Dense(units=n_neuron, activation='sigmoid'))\n",
    "    \n",
    "    \n",
    "model = Sequential() # 시퀀셜 객체를 생성\n",
    "# for n_neuron in n_neurons:\n",
    "#     model.add(Dense(units=n_neuron, activation='sigmoid'))\n",
    "    \n",
    "model.add(Dense(units=10, activation='sigmoid'))\n",
    "model.add(Dense(units=20, activation='sigmoid'))"
   ]
  },
  {
   "cell_type": "markdown",
   "id": "1fd4295b-33d8-4966-b26c-12b6a90f43a8",
   "metadata": {},
   "source": [
    "### Model IMplementation with Model-subclassing"
   ]
  },
  {
   "cell_type": "code",
   "execution_count": 3,
   "id": "e7fb4f70-384c-43d2-b46e-56e93ee842ab",
   "metadata": {},
   "outputs": [
    {
     "name": "stdout",
     "output_type": "stream",
     "text": [
      "<tensorflow.python.keras.layers.core.Dense object at 0x00000272450EA070>\n",
      "<tensorflow.python.keras.layers.core.Dense object at 0x00000272452BDAC0>\n"
     ]
    }
   ],
   "source": [
    "from tensorflow.keras.layers import Dense\n",
    "\n",
    "from tensorflow.keras.models import Model\n",
    "\n",
    "class TestModel(Model):\n",
    "    def __init__(self):\n",
    "        super(TestModel, self).__init__()\n",
    "        \n",
    "        self.dense1 = Dense(units=10, activation='sigmoid')\n",
    "        self.dense2 = Dense(units=20, activation='sigmoid')\n",
    "        \n",
    "model = TestModel()\n",
    "print(model.dense1)\n",
    "print(model.dense2)"
   ]
  },
  {
   "cell_type": "markdown",
   "id": "bec625f0-7137-450d-a23a-fa94b4b05591",
   "metadata": {},
   "source": [
    "### Forward Propagation of Models"
   ]
  },
  {
   "cell_type": "code",
   "execution_count": 6,
   "id": "10ef9a59-d99b-40fe-ba71-f84c1c36d635",
   "metadata": {},
   "outputs": [
    {
     "name": "stdout",
     "output_type": "stream",
     "text": [
      "[[0.4222349  0.59802604 0.70591474 0.26297423 0.5609795  0.28619602\n",
      "  0.37357855 0.413537   0.6322221  0.5845918  0.55440706 0.44011086\n",
      "  0.6174386  0.6826639  0.46700066 0.60463977 0.5505445  0.35942158\n",
      "  0.49734825 0.59846157]\n",
      " [0.53549916 0.6252327  0.64202577 0.38557547 0.56846017 0.28256425\n",
      "  0.4137071  0.40379074 0.4806813  0.5670919  0.43670106 0.512021\n",
      "  0.64955246 0.5873596  0.5217614  0.649315   0.4188103  0.45163932\n",
      "  0.45049095 0.5174922 ]\n",
      " [0.41281155 0.6722065  0.6568531  0.28540704 0.51970243 0.26806292\n",
      "  0.42491537 0.32778376 0.68055624 0.6144816  0.607117   0.4043333\n",
      "  0.6078223  0.68393075 0.38079387 0.6517763  0.46936613 0.41149315\n",
      "  0.53809756 0.54037565]\n",
      " [0.43273857 0.534593   0.64956474 0.31709668 0.6191085  0.3166726\n",
      "  0.38207528 0.40975338 0.50119764 0.55259377 0.5048209  0.5156996\n",
      "  0.6317705  0.66760087 0.53466463 0.5935897  0.5264862  0.36508343\n",
      "  0.42285085 0.505938  ]]\n"
     ]
    }
   ],
   "source": [
    "import tensorflow as tf\n",
    "import numpy as np\n",
    "from tensorflow.keras.layers import Dense\n",
    "\n",
    "from tensorflow.keras.models import Sequential\n",
    "from tensorflow.keras.models import Model\n",
    "\n",
    "X = tf.random.normal(shape=(4, 10))\n",
    "\n",
    "# Sequential metod\n",
    "model = Sequential()\n",
    "model.add(Dense(units=10, activation='sigmoid'))\n",
    "model.add(Dense(units=20, activation='sigmoid'))\n",
    "\n",
    "Y = model(X)\n",
    "print(Y.numpy())\n",
    "\n",
    "# Model subclassing\n",
    "class TestModel(Model):\n",
    "    def __init__(self):\n",
    "        super(TestModel, self).__init__()\n",
    "        \n",
    "        self.dense1 = Dense(units=10, activation='sigmoid')\n",
    "        self.dense2 = Dense(units=20, activation='sigmoid')\n",
    "        \n",
    "    def call(self, x):\n",
    "        x = self.dense1(x)\n",
    "        x = self.dense2(x)\n",
    "        return x\n",
    "        \n",
    "model = TestModel()\n",
    "Y = model(X)"
   ]
  },
  {
   "cell_type": "code",
   "execution_count": null,
   "id": "9ba87799-c4e3-47a8-b3c7-19c998eaf826",
   "metadata": {},
   "outputs": [],
   "source": [
    "class TestModel(Model):\n",
    "    def __init__(self, n_neurons):\n",
    "        super(TestModel, self).__init__()\n",
    "        self.n_neurons = n_neurons\n",
    "        \n",
    "        self.dense_layers = []\n",
    "        for n_neuron in n_neurons:\n",
    "             self.dense_layers.append(Dense(units=n_neuron, activation='sigmoid'))\n",
    "        \n",
    "    def call(self, x):\n",
    "        for dense in self.dense_layers:\n",
    "            x = dense(x)\n",
    "        return x\n",
    "    \n",
    "n_neurons = [3, 4, 5]\n",
    "model = TestModel(n_neurons)"
   ]
  },
  {
   "cell_type": "markdown",
   "id": "a2fe1766-8837-4dd3-a980-5d5a5a6ca70e",
   "metadata": {},
   "source": [
    "### Layers in Models"
   ]
  },
  {
   "cell_type": "code",
   "execution_count": 5,
   "id": "ca640ea2-2167-4ea4-9790-9ab582a19778",
   "metadata": {},
   "outputs": [
    {
     "name": "stdout",
     "output_type": "stream",
     "text": [
      "<class 'list'>\n",
      "[<tensorflow.python.keras.layers.core.Dense object at 0x000001BBA0319B20>, <tensorflow.python.keras.layers.core.Dense object at 0x000001BBA68AAF70>]\n",
      "(10, 10) (10,)\n",
      "(10, 20) (20,)\n"
     ]
    }
   ],
   "source": [
    "import tensorflow as tf\n",
    "\n",
    "from tensorflow.keras.layers import Dense\n",
    "from tensorflow.keras.models import Sequential\n",
    "\n",
    "X = tf.random.normal(shape=(4, 10))\n",
    "\n",
    "model = Sequential()\n",
    "model.add(Dense(units=10, activation='sigmoid'))\n",
    "model.add(Dense(units=20, activation='sigmoid'))\n",
    "\n",
    "Y = model(X)\n",
    "\n",
    "print(type(model.layers)) # model.layers는 list 타입이다.\n",
    "print(model.layers) # list안에 2개의 dense layer가 들어가있다.\n",
    "\n",
    "dense1 = model.layers[0]\n",
    "\n",
    "# for tmp in dir(dense1):\n",
    "#     print(tmp)\n",
    "\n",
    "for layer in model.layers:\n",
    "    w, b = layer.get_weights()\n",
    "    print(w.shape, b.shape)"
   ]
  },
  {
   "cell_type": "markdown",
   "id": "c2ec05b3-bf2b-4f98-b6cb-a19a61354dcc",
   "metadata": {},
   "source": [
    "### Trainable Variables in Models"
   ]
  },
  {
   "cell_type": "code",
   "execution_count": 8,
   "id": "edd31bcc-4460-4a1a-a6de-9b4907843e32",
   "metadata": {},
   "outputs": [
    {
     "name": "stdout",
     "output_type": "stream",
     "text": [
      "<class 'list'>\n",
      "4\n",
      "<class 'tensorflow.python.ops.resource_variable_ops.ResourceVariable'>\n",
      "(10, 10)\n",
      "<class 'tensorflow.python.ops.resource_variable_ops.ResourceVariable'>\n",
      "(10,)\n",
      "<class 'tensorflow.python.ops.resource_variable_ops.ResourceVariable'>\n",
      "(10, 20)\n",
      "<class 'tensorflow.python.ops.resource_variable_ops.ResourceVariable'>\n",
      "(20,)\n"
     ]
    }
   ],
   "source": [
    "import tensorflow as tf\n",
    "\n",
    "from tensorflow.keras.layers import Dense\n",
    "from tensorflow.keras.models import Sequential\n",
    "\n",
    "X = tf.random.normal(shape=(4, 10))\n",
    "\n",
    "model = Sequential()\n",
    "model.add(Dense(units=10, activation='sigmoid'))\n",
    "model.add(Dense(units=20, activation='sigmoid'))\n",
    "\n",
    "Y = model(X)\n",
    "\n",
    "print(type(model.trainable_variables))\n",
    "\n",
    "print(len(model.trainable_variables))\n",
    "\n",
    "for train_var in model.trainable_variables: # weight와 bias들, 또한 list라서 인덱스로 접근 가능하다.\n",
    "    print(type(train_var))\n",
    "    print(train_var.shape)"
   ]
  },
  {
   "cell_type": "code",
   "execution_count": null,
   "id": "c7f16064-925a-4062-ba02-f88bab4f0877",
   "metadata": {},
   "outputs": [],
   "source": []
  }
 ],
 "metadata": {
  "kernelspec": {
   "display_name": "tensor",
   "language": "python",
   "name": "tensor"
  },
  "language_info": {
   "codemirror_mode": {
    "name": "ipython",
    "version": 3
   },
   "file_extension": ".py",
   "mimetype": "text/x-python",
   "name": "python",
   "nbconvert_exporter": "python",
   "pygments_lexer": "ipython3",
   "version": "3.8.11"
  }
 },
 "nbformat": 4,
 "nbformat_minor": 5
}

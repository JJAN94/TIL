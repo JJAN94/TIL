{
 "cells": [
  {
   "cell_type": "markdown",
   "id": "35b9d570-afd7-4cf6-8f10-1818f6a2ade2",
   "metadata": {},
   "source": [
    "# VGG16"
   ]
  },
  {
   "cell_type": "markdown",
   "id": "40e6876e-21bb-4c06-ba46-1f143ea92305",
   "metadata": {},
   "source": [
    "- 네트워크의 깊이와 모델 성능 영향에 집중\n",
    "- convolution 커널 사이즈를 3x3 으로 고정.\n",
    "- 커널 사이즈가 크면 이미지 사이즈 축소가 급격히 이뤄져서 더 깊은 층을 만들기 어렵고, 파라미터 개수와 연산량도 더 많이 필요"
   ]
  },
  {
   "cell_type": "markdown",
   "id": "f58aabbc-81fd-4765-bd8f-567fce6e0377",
   "metadata": {},
   "source": [
    "## AlexNet으로부터 배운점\n",
    "- 네트워크의 깊이가 증가할 수록 성능이 좋아짐\n",
    "- 성능 최적화를 위해 각 Feature Map별로 Conv 연산을 위한 Kernel 크기와 개수, Padding과 strides 값을 어떻게 정해야 할지 고민"
   ]
  },
  {
   "cell_type": "markdown",
   "id": "e9a7e1f9-35c6-4c79-b2c9-704345e9f7e8",
   "metadata": {},
   "source": [
    "## VGG의 장점\n",
    "- 단일화된 Kernel 크기(3x3), Padding, Strides 값으로 단순한 네트워크를 구성하지만 AlexNet 보다 더 나은 성능\n",
    "- AlexNet의 11x11, 5x5와 같은 큰 Receptive Field를 가진 Kernel 크기를 적용하지 않고도, 3x3 Kernel을 연속적으로 적용\n",
    "- AlexNet 보다 더 깊은 네트워크를 구성하나 더 적은 parameter 개수로 연산 성능을 개선"
   ]
  },
  {
   "cell_type": "markdown",
   "id": "08e7c075-a206-42c5-9d9e-fc262a0a8bc1",
   "metadata": {},
   "source": [
    "@참고@\\\n",
    "receptive field : 입력(image 또는 feature map)에서 feature를 만드는 영역의 기본 크기(size)"
   ]
  },
  {
   "cell_type": "markdown",
   "id": "e83f9e1f-a1ec-4f4f-b814-3cc9097a736e",
   "metadata": {},
   "source": [
    "## VGG 특징\n",
    "- 11x11, 5x5 와 같은 넓은 크기의 Kernel로 Convolution 연산을 적용하는 것보다 여러 개의 3x3 convolution 연산을 수행하는 것이 더 뛰어난 Feature 추출 효과를 나타냄\n",
    "- AlexNet 대비 더 많은 채널수와 더 깊은 Layer 구성\n",
    "- 3x3 크기의 Kernel을 (2번 또는 3번) 연속해서 convolution 적용한 뒤에 Max Pooling 적용하여 일련의 Convolution Feature Map Block을 생성\n",
    "- 개별 Block내에서는 동일한 커널 크기와 Channel 개수를 적용하여 동일한 크기의 feature map들을 생성\n",
    "- 이전 block 내에 있는 feature Map 대비 새로운 block 내에 feature map 크기는 2배로 줄어 들지만 채널 수는 2배로 늘어남(맨 마지막 block은 제외)"
   ]
  },
  {
   "cell_type": "markdown",
   "id": "0bb64649-216f-494a-b6ae-fda4f0617dbb",
   "metadata": {},
   "source": [
    "## 구현 실습"
   ]
  },
  {
   "cell_type": "markdown",
   "id": "a3b49bd0-a23e-4d61-b55c-f9510275211f",
   "metadata": {},
   "source": [
    "### Pretrained 된 VGG16 모델을 로드하여 VGG의 구조 확인"
   ]
  },
  {
   "cell_type": "code",
   "execution_count": 2,
   "id": "e0e3ac61-7c05-4935-a939-dc5b6535e33e",
   "metadata": {},
   "outputs": [
    {
     "name": "stdout",
     "output_type": "stream",
     "text": [
      "Model: \"model\"\n",
      "_________________________________________________________________\n",
      "Layer (type)                 Output Shape              Param #   \n",
      "=================================================================\n",
      "input_1 (InputLayer)         [(None, 224, 224, 3)]     0         \n",
      "_________________________________________________________________\n",
      "block1_conv1 (Conv2D)        (None, 224, 224, 64)      1792      \n",
      "_________________________________________________________________\n",
      "block1_conv2 (Conv2D)        (None, 224, 224, 64)      36928     \n",
      "_________________________________________________________________\n",
      "block1_pool (MaxPooling2D)   (None, 112, 112, 64)      0         \n",
      "_________________________________________________________________\n",
      "block2_conv1 (Conv2D)        (None, 112, 112, 128)     73856     \n",
      "_________________________________________________________________\n",
      "block2_conv2 (Conv2D)        (None, 112, 112, 128)     147584    \n",
      "_________________________________________________________________\n",
      "block2_pool (MaxPooling2D)   (None, 56, 56, 128)       0         \n",
      "_________________________________________________________________\n",
      "block3_conv1 (Conv2D)        (None, 56, 56, 256)       295168    \n",
      "_________________________________________________________________\n",
      "block3_conv2 (Conv2D)        (None, 56, 56, 256)       590080    \n",
      "_________________________________________________________________\n",
      "block3_conv3 (Conv2D)        (None, 56, 56, 256)       590080    \n",
      "_________________________________________________________________\n",
      "block3_pool (MaxPooling2D)   (None, 28, 28, 256)       0         \n",
      "_________________________________________________________________\n",
      "block4_conv1 (Conv2D)        (None, 28, 28, 512)       1180160   \n",
      "_________________________________________________________________\n",
      "block4_conv2 (Conv2D)        (None, 28, 28, 512)       2359808   \n",
      "_________________________________________________________________\n",
      "block4_conv3 (Conv2D)        (None, 28, 28, 512)       2359808   \n",
      "_________________________________________________________________\n",
      "block4_pool (MaxPooling2D)   (None, 14, 14, 512)       0         \n",
      "_________________________________________________________________\n",
      "block5_conv1 (Conv2D)        (None, 14, 14, 512)       2359808   \n",
      "_________________________________________________________________\n",
      "block5_conv2 (Conv2D)        (None, 14, 14, 512)       2359808   \n",
      "_________________________________________________________________\n",
      "block5_conv3 (Conv2D)        (None, 14, 14, 512)       2359808   \n",
      "_________________________________________________________________\n",
      "block5_pool (MaxPooling2D)   (None, 7, 7, 512)         0         \n",
      "_________________________________________________________________\n",
      "flatten (Flatten)            (None, 25088)             0         \n",
      "_________________________________________________________________\n",
      "fc1 (Dense)                  (None, 4096)              102764544 \n",
      "_________________________________________________________________\n",
      "fc2 (Dense)                  (None, 4096)              16781312  \n",
      "_________________________________________________________________\n",
      "predictions (Dense)          (None, 1000)              4097000   \n",
      "=================================================================\n",
      "Total params: 138,357,544\n",
      "Trainable params: 138,357,544\n",
      "Non-trainable params: 0\n",
      "_________________________________________________________________\n"
     ]
    }
   ],
   "source": [
    "from tensorflow.keras.applications.vgg16 import VGG16\n",
    "from tensorflow.keras.layers import Input\n",
    "from tensorflow.keras.models import Model\n",
    "\n",
    "input_tensor = Input(shape=(224, 224, 3))\n",
    "base_model = VGG16(input_tensor=input_tensor, include_top=True, weights='imagenet')\n",
    "model = Model(inputs=input_tensor, outputs=base_model.output)\n",
    "model.summary()"
   ]
  },
  {
   "cell_type": "code",
   "execution_count": 3,
   "id": "360c6ffd-59e3-47be-a93b-0a99087c981d",
   "metadata": {},
   "outputs": [],
   "source": [
    "from tensorflow.keras.models import Model\n",
    "from tensorflow.keras.layers import Input, Dense, Conv2D, Dropout, Flatten, Activation, MaxPooling2D, GlobalAveragePooling2D\n",
    "from tensorflow.keras.optimizers import Adam, RMSprop\n",
    "from tensorflow.keras.layers import BatchNormalization\n",
    "from tensorflow.keras.callbacks import ReduceLROnPlateau, EarlyStopping, ModelCheckpoint, LearningRateScheduler\n",
    "\n",
    "def create_vggnet(in_shape=(224, 224, 3), n_classes=10):\n",
    "    input_tensor = Input(shape=in_shape)\n",
    "    \n",
    "    # Block 1\n",
    "    x = Conv2D(64, (3,3), activation='relu', padding='same', name='block1_conv1')(input_tensor)\n",
    "    x = Conv2D(64, (3,3), activation='relu', padding='same', name='block1_conv2')(x)\n",
    "    x = MaxPooling2D((2,2), strides=(2,2), name='block1_pool')(x)\n",
    "    \n",
    "    # Block 2\n",
    "    x = Conv2D(128, (3,3), activation='relu', padding='same', name='block2_conv1')(x)\n",
    "    x = Conv2D(128, (3,3), activation='relu', padding='same', name='block2_conv2')(x)\n",
    "    x = MaxPooling2D((2,2), strides=(2,2), name='block2_pool')(x)\n",
    "    \n",
    "    # Block 3\n",
    "    x = Conv2D(256, (3,3), activation='relu', padding='same', name='block3_conv1')(x)\n",
    "    x = Conv2D(256, (3,3), activation='relu', padding='same', name='block3_conv2')(x)\n",
    "    x = Conv2D(256, (3,3), activation='relu', padding='same', name='block3_conv3')(x)\n",
    "    x = MaxPooling2D((2,2), strides=(2,2), name='block3_pool')(x)\n",
    "    \n",
    "    # Block 4\n",
    "    x = Conv2D(512, (3,3), activation='relu', padding='same', name='block4_conv1')(x)\n",
    "    x = Conv2D(512, (3,3), activation='relu', padding='same', name='block4_conv2')(x)\n",
    "    x = Conv2D(512, (3,3), activation='relu', padding='same', name='block4_conv3')(x)\n",
    "    x = MaxPooling2D((2,2), strides=(2,2), name='block4_pool')(x)\n",
    "    \n",
    "    # Block 5\n",
    "    x = Conv2D(512, (3,3), activation='relu', padding='same', name='block5_conv1')(x)\n",
    "    x = Conv2D(512, (3,3), activation='relu', padding='same', name='block5_conv2')(x)\n",
    "    x = Conv2D(512, (3,3), activation='relu', padding='same', name='block5_conv3')(x)\n",
    "    x = MaxPooling2D((2,2), strides=(2,2), name='block5_pool')(x)\n",
    "    \n",
    "    x = GlobalAveragePooling2D()(x)\n",
    "    x = Dropout(0.5)(x)\n",
    "    x = Dense(units=120, activation='relu')(x)\n",
    "    x = Dropout(0.5)(x)\n",
    "    \n",
    "    # 마지막 softmax 층 적용\n",
    "    output = Dense(units=n_classes, activation='softmax')(x)\n",
    "    \n",
    "    model = Model(inputs=input_tensor, outputs=output)\n",
    "    model.summary()\n",
    "    \n",
    "    return model\n",
    "    "
   ]
  },
  {
   "cell_type": "code",
   "execution_count": 4,
   "id": "d67377a3-944e-40ef-bb9d-968996af045a",
   "metadata": {},
   "outputs": [
    {
     "name": "stdout",
     "output_type": "stream",
     "text": [
      "Model: \"model_1\"\n",
      "_________________________________________________________________\n",
      "Layer (type)                 Output Shape              Param #   \n",
      "=================================================================\n",
      "input_2 (InputLayer)         [(None, 224, 224, 3)]     0         \n",
      "_________________________________________________________________\n",
      "block1_conv1 (Conv2D)        (None, 224, 224, 64)      1792      \n",
      "_________________________________________________________________\n",
      "block1_conv2 (Conv2D)        (None, 224, 224, 64)      36928     \n",
      "_________________________________________________________________\n",
      "block1_pool (MaxPooling2D)   (None, 112, 112, 64)      0         \n",
      "_________________________________________________________________\n",
      "block2_conv1 (Conv2D)        (None, 112, 112, 128)     73856     \n",
      "_________________________________________________________________\n",
      "block2_conv2 (Conv2D)        (None, 112, 112, 128)     147584    \n",
      "_________________________________________________________________\n",
      "block2_pool (MaxPooling2D)   (None, 56, 56, 128)       0         \n",
      "_________________________________________________________________\n",
      "block3_conv1 (Conv2D)        (None, 56, 56, 256)       295168    \n",
      "_________________________________________________________________\n",
      "block3_conv2 (Conv2D)        (None, 56, 56, 256)       590080    \n",
      "_________________________________________________________________\n",
      "block3_conv3 (Conv2D)        (None, 56, 56, 256)       590080    \n",
      "_________________________________________________________________\n",
      "block3_pool (MaxPooling2D)   (None, 28, 28, 256)       0         \n",
      "_________________________________________________________________\n",
      "block4_conv1 (Conv2D)        (None, 28, 28, 512)       1180160   \n",
      "_________________________________________________________________\n",
      "block4_conv2 (Conv2D)        (None, 28, 28, 512)       2359808   \n",
      "_________________________________________________________________\n",
      "block4_conv3 (Conv2D)        (None, 28, 28, 512)       2359808   \n",
      "_________________________________________________________________\n",
      "block4_pool (MaxPooling2D)   (None, 14, 14, 512)       0         \n",
      "_________________________________________________________________\n",
      "block5_conv1 (Conv2D)        (None, 14, 14, 512)       2359808   \n",
      "_________________________________________________________________\n",
      "block5_conv2 (Conv2D)        (None, 14, 14, 512)       2359808   \n",
      "_________________________________________________________________\n",
      "block5_conv3 (Conv2D)        (None, 14, 14, 512)       2359808   \n",
      "_________________________________________________________________\n",
      "block5_pool (MaxPooling2D)   (None, 7, 7, 512)         0         \n",
      "_________________________________________________________________\n",
      "global_average_pooling2d (Gl (None, 512)               0         \n",
      "_________________________________________________________________\n",
      "dropout (Dropout)            (None, 512)               0         \n",
      "_________________________________________________________________\n",
      "dense (Dense)                (None, 120)               61560     \n",
      "_________________________________________________________________\n",
      "dropout_1 (Dropout)          (None, 120)               0         \n",
      "_________________________________________________________________\n",
      "dense_1 (Dense)              (None, 10)                1210      \n",
      "=================================================================\n",
      "Total params: 14,777,458\n",
      "Trainable params: 14,777,458\n",
      "Non-trainable params: 0\n",
      "_________________________________________________________________\n"
     ]
    }
   ],
   "source": [
    "model = create_vggnet(in_shape=(224, 224, 3), n_classes=10)"
   ]
  },
  {
   "cell_type": "markdown",
   "id": "f6110f3b-fc3b-4748-a24f-37e836e61ece",
   "metadata": {},
   "source": [
    "### VGG16을 연속된 Conv를 하나의 block으로 간주하고 이를 생성할 수 있는 conv_block() 함수 만듦\n",
    "- conv_block() 함수는 인자로 입력 feature map과 Conv 연산에 사용될 커널의 필터 개수와 사이즈(무조건 3x3), 그리고 출력 feature map을 크기를 줄이기 위한 strides를 입력 받음\n",
    "- 또한 repeats 인자를 통해 연속으로 conv 연산 수행 횟수를 정함"
   ]
  },
  {
   "cell_type": "code",
   "execution_count": null,
   "id": "feef0efc-b6aa-4be3-b867-619288054a70",
   "metadata": {},
   "outputs": [],
   "source": []
  }
 ],
 "metadata": {
  "kernelspec": {
   "display_name": "tensor",
   "language": "python",
   "name": "tensor"
  },
  "language_info": {
   "codemirror_mode": {
    "name": "ipython",
    "version": 3
   },
   "file_extension": ".py",
   "mimetype": "text/x-python",
   "name": "python",
   "nbconvert_exporter": "python",
   "pygments_lexer": "ipython3",
   "version": "3.8.11"
  }
 },
 "nbformat": 4,
 "nbformat_minor": 5
}

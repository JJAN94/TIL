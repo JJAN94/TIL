{
 "cells": [
  {
   "cell_type": "markdown",
   "id": "9ce6f0db-6ba6-42a3-a441-dc6f3697a14d",
   "metadata": {},
   "source": [
    "# 정렬(sorting)이란?\n",
    "- 정렬(sorting) : 어떤 데이터들이 주어졌을 떄 이를 정해진 순서대로 나열하는 것\n",
    "- 정렬은 프로그램 작성시 빈번하게 필요로 함\n",
    "- 다양한 알고리즘이 고안되었으며, 알고리즘 학습의 필수\n",
    "> 다양한 정렬 알고리즘 이해를 통해, 동일한 문제에 대해 다양한 알고리즘이 고안될 수 있음을 이해하고, 각 알고리즘간 성능 비교를 통해, 알고리즘 성능 분석에 대해서도 이해할 수 있음"
   ]
  },
  {
   "cell_type": "markdown",
   "id": "3798d6b3-3c19-4fb0-83c8-696d0a61c498",
   "metadata": {},
   "source": [
    "# 버블 정렬(bubble sort)\n",
    "- 두 인접한 데이터를 비교해서, 앞에 있는 데이터가 뒤에 있는 데이터보다 크면, 자리를 바꾸는 정렬 알고리즘 \n",
    "- https://visualgo.net/en/sorting"
   ]
  },
  {
   "cell_type": "markdown",
   "id": "444e1529-a7de-4e8d-9483-c24b3548b06b",
   "metadata": {},
   "source": [
    "## 버블 정렬 구현"
   ]
  },
  {
   "cell_type": "markdown",
   "id": "d568fed6-8286-404c-b36e-1202c75a45e0",
   "metadata": {},
   "source": [
    "1. 데이터 2개"
   ]
  },
  {
   "cell_type": "code",
   "execution_count": null,
   "id": "515e7a80-3055-45ba-a0ce-a00e1d23e5c1",
   "metadata": {},
   "outputs": [],
   "source": []
  }
 ],
 "metadata": {
  "kernelspec": {
   "display_name": "Python 3",
   "language": "python",
   "name": "python3"
  },
  "language_info": {
   "codemirror_mode": {
    "name": "ipython",
    "version": 3
   },
   "file_extension": ".py",
   "mimetype": "text/x-python",
   "name": "python",
   "nbconvert_exporter": "python",
   "pygments_lexer": "ipython3",
   "version": "3.8.8"
  }
 },
 "nbformat": 4,
 "nbformat_minor": 5
}

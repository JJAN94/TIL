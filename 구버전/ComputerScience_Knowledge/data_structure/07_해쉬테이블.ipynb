{
 "cells": [
  {
   "cell_type": "markdown",
   "id": "25fc09d1-43d8-4a8a-8b70-6a391b103987",
   "metadata": {},
   "source": [
    "# 해쉬 테이블 (Hash Table)"
   ]
  },
  {
   "cell_type": "markdown",
   "id": "a1dd6d6d-3b2d-4368-8940-c4a9d010d528",
   "metadata": {},
   "source": [
    "## 1. 해쉬 구조\n",
    "- Hash Table : <font color='red'>키(Key)에 데이터(value)를 저장하는 데이터 구조</font>\n",
    "    - Key를 통해 바로 데이터를 받아올 수 있으므로, 속도가 획기적으로 빨라짐\n",
    "    - 파이썬 딕셔너리(Dictionary) 타입이 해쉬 테이블의 예 : key를 가지고 바로 데이터(value)를 꺼냄\n",
    "    - 보통 배열로 미리 Hash Table 사이즈만큼 생성 후 사용 (공간과 탐색 시간을 맞바꾸는 기법)\n",
    "    - <font color='red'>단, 파이썬에서는 해쉬를 별도 구현할 이유가 없음 - 딕셔너리 타입을 사용하면 됨</font>\n",
    "    \n",
    "## 2. 용어 정리\n",
    "- 해쉬(Hash) : 임의 값을 고정 길이로 변환하는 것\n",
    "- 해쉬 테이블(Hash Table) : 키 값의 연산에 의해 직접 접근이 가능한 데이터 구조\n",
    "- 해싱 함수(Hashing Function) : key에 대해 산술 연산을 이용해 데이터 위치를 찾을 수 있는 함수\n",
    "- 해쉬 값(Hash Value) 또는 해쉬 주소(Hash Address) : Key를 해싱 함수로 연산해서, 해쉬 값을 알아내고, 이를 기반으로 해쉬 테이블에서 해당 Key에 대한 데이터 위치를 찾을 수 있음\n",
    "- 슬롯(Slot) : 한 개의 데이터를 저장할 수 있는 공간\n",
    "- 저장할 데이터에 대해 key를 추출할 수 있는 별도 함수도 존재할 수 있음"
   ]
  },
  {
   "cell_type": "markdown",
   "id": "057cad07-9957-46fc-a4ce-b0d41c4a088b",
   "metadata": {},
   "source": [
    "## 3. 해쉬 테이블 예"
   ]
  },
  {
   "cell_type": "markdown",
   "id": "e9fc29f8-4747-40b2-9d9d-20ea69149380",
   "metadata": {},
   "source": [
    "### 1. hash table 만들기"
   ]
  },
  {
   "cell_type": "code",
   "execution_count": 1,
   "id": "41558780-1a1b-406f-9518-8b87cc0ba3e1",
   "metadata": {},
   "outputs": [
    {
     "data": {
      "text/plain": [
       "[0, 0, 0, 0, 0, 0, 0, 0, 0, 0]"
      ]
     },
     "execution_count": 1,
     "metadata": {},
     "output_type": "execute_result"
    }
   ],
   "source": [
    "hash_table = [0 for _ in range(10)]\n",
    "hash_table"
   ]
  },
  {
   "cell_type": "markdown",
   "id": "ab865066-cf56-40e4-8f9c-58588e947079",
   "metadata": {},
   "source": [
    "### 2. hash 함수 만들기\n",
    "- 가장 간단한 방식이 Division 법(나누기를 통한 나머지 값을 사용하는 기법)"
   ]
  },
  {
   "cell_type": "code",
   "execution_count": 2,
   "id": "58c03ce7-f684-4c6c-b481-21ba90bf9571",
   "metadata": {},
   "outputs": [],
   "source": [
    "def hash_func(key):\n",
    "    return key % 5"
   ]
  },
  {
   "cell_type": "markdown",
   "id": "d322ccf7-6e01-46b6-96d3-55e15878c525",
   "metadata": {},
   "source": [
    "### 3. hash table에 값 저장\n",
    "- 데이터에 따라 필요시 key 생성 방법 정의가 필요함"
   ]
  },
  {
   "cell_type": "code",
   "execution_count": 3,
   "id": "f0d66879-b4d4-4a52-a325-fa3b027e5954",
   "metadata": {},
   "outputs": [
    {
     "name": "stdout",
     "output_type": "stream",
     "text": [
      "65 68 84\n",
      "65 0\n"
     ]
    }
   ],
   "source": [
    "data1 = 'Andy'\n",
    "data2 = 'Dave'\n",
    "data3 = 'Trump'\n",
    "\n",
    "# ord() : 문자의 ASCII 코드 리턴\n",
    "print(ord(data1[0]), ord(data2[0]), ord(data3[0]))\n",
    "print(ord(data1[0]), hash_func(ord(data1[0])))"
   ]
  },
  {
   "cell_type": "code",
   "execution_count": 4,
   "id": "f516e683-2aff-4213-9003-7f8f7daf3137",
   "metadata": {},
   "outputs": [],
   "source": [
    "def storage_data(data, value):\n",
    "    key = ord(data[0])\n",
    "    hash_address = hash_func(key)\n",
    "    hash_table[hash_address] = value"
   ]
  },
  {
   "cell_type": "markdown",
   "id": "34a3cf01-6b0f-478f-8fb2-4e4032331894",
   "metadata": {},
   "source": [
    "### 4. hash table에서 특정 주소의 데이터를 가져오는 함수를 만들기"
   ]
  },
  {
   "cell_type": "code",
   "execution_count": 5,
   "id": "0fee51a4-4504-489d-826b-e3aaf2ec8d7b",
   "metadata": {},
   "outputs": [],
   "source": [
    "storage_data('Andy', '01012345678')\n",
    "storage_data('Dave', '01043214321')\n",
    "storage_data('Trump', '01044444444')"
   ]
  },
  {
   "cell_type": "markdown",
   "id": "07ba3847-4298-40c3-9ea4-e3ae96c1599a",
   "metadata": {},
   "source": [
    "### 5. 실제 데이터를 저장하고 읽기"
   ]
  },
  {
   "cell_type": "code",
   "execution_count": 6,
   "id": "be174397-baa7-4f55-8e18-1e861db54060",
   "metadata": {},
   "outputs": [],
   "source": [
    "def get_data(data):\n",
    "    key = ord(data[0])\n",
    "    hash_address = hash_func(key)\n",
    "    return hash_table[hash_address]"
   ]
  },
  {
   "cell_type": "code",
   "execution_count": 7,
   "id": "638d3eb0-7b96-4d95-8a6f-0e5c924c8f13",
   "metadata": {},
   "outputs": [
    {
     "data": {
      "text/plain": [
       "'01012345678'"
      ]
     },
     "execution_count": 7,
     "metadata": {},
     "output_type": "execute_result"
    }
   ],
   "source": [
    "get_data('Andy')"
   ]
  },
  {
   "cell_type": "code",
   "execution_count": 8,
   "id": "c53eecce-0f35-441b-a9ef-da1c66e58708",
   "metadata": {},
   "outputs": [
    {
     "data": {
      "text/plain": [
       "['01012345678', 0, 0, '01043214321', '01044444444', 0, 0, 0, 0, 0]"
      ]
     },
     "execution_count": 8,
     "metadata": {},
     "output_type": "execute_result"
    }
   ],
   "source": [
    "hash_table"
   ]
  },
  {
   "cell_type": "markdown",
   "id": "36b2385d-c73c-4b1e-bc5d-db1592460736",
   "metadata": {},
   "source": [
    "## 4. Hash Table의 장단점과 주요 용도\n",
    "- 장점\n",
    "    - 데이터 저장/읽기 속도가 빠르다. (검색 속도가 빠르다.)\n",
    "    - 해쉬는 키에 대한 데이터가 있는지(중복) 확인이 쉬움\n",
    "- 단점 \n",
    "    - 일반적으로 저장공간이 좀더 많이 필요하다.\n",
    "    - 여러 키에 해당하는 주소가 동일할 경우 충돌을 해결하기 위한 별도의 자료구조가 필요함\n",
    "- 주요 용도\n",
    "    - 검색이 많이 필요한 경우\n",
    "    - 저장, 삭제, 읽기가 빈번한 경우\n",
    "    - 캐쉬 구현시 (중복 확인이 쉽기 떄문에)"
   ]
  },
  {
   "cell_type": "markdown",
   "id": "51fe9c0f-a06f-4c05-8ec1-9bf9657c0735",
   "metadata": {},
   "source": [
    "## 5. 연습 \n",
    "ex1 : 리스트 변수를 활용해서 해쉬 테이블 구현\n",
    "1. 해쉬 함수 : key % 8\n",
    "2. 해쉬 키 생성 : hash(data) / 파이썬 내장함수 hash"
   ]
  },
  {
   "cell_type": "code",
   "execution_count": 9,
   "id": "48dfd9af-e38a-4b06-835e-70e2daba6848",
   "metadata": {},
   "outputs": [],
   "source": [
    "hash_table = [0 for _ in range(10)]\n",
    "\n",
    "def get_key(data):\n",
    "    return hash(data)\n",
    "\n",
    "def hash_func(key):\n",
    "    return key % 8"
   ]
  },
  {
   "cell_type": "code",
   "execution_count": 10,
   "id": "14884022-f799-4860-923e-af4b803b65ba",
   "metadata": {},
   "outputs": [],
   "source": [
    "def save_data(data, value):\n",
    "    hash_address = hash_func(get_key(data))\n",
    "    hash_table[hash_address] = value\n",
    "    \n",
    "def read_data(data):\n",
    "    hash_address = hash_func(get_key(data))\n",
    "    return hash_table[hash_address]"
   ]
  },
  {
   "cell_type": "code",
   "execution_count": 11,
   "id": "3b46f7c0-3762-451f-ba8d-d36affa4c9ea",
   "metadata": {},
   "outputs": [
    {
     "data": {
      "text/plain": [
       "'01012345678'"
      ]
     },
     "execution_count": 11,
     "metadata": {},
     "output_type": "execute_result"
    }
   ],
   "source": [
    "save_data('Andy', '01012345678')\n",
    "save_data('Dave', '01043214321')\n",
    "read_data('Andy')"
   ]
  },
  {
   "cell_type": "code",
   "execution_count": 12,
   "id": "80c8fe95-9ed4-40c3-9544-f9779b0b0b85",
   "metadata": {},
   "outputs": [
    {
     "data": {
      "text/plain": [
       "['01043214321', 0, 0, 0, '01012345678', 0, 0, 0, 0, 0]"
      ]
     },
     "execution_count": 12,
     "metadata": {},
     "output_type": "execute_result"
    }
   ],
   "source": [
    "hash_table"
   ]
  },
  {
   "cell_type": "markdown",
   "id": "4dda3927-0551-490c-93fb-58c23612a7ea",
   "metadata": {},
   "source": [
    "## 6. 충돌(Collision) 해결 알고리즘\n",
    "- 해쉬 테이블의 가장 큰 문제는 충돌(collision)의 경우이다. 이 문제를 충돌(collision) 또는 해쉬 충돌(Hash coliision)이라 함"
   ]
  },
  {
   "cell_type": "markdown",
   "id": "c133ee27-50cf-40da-bb0b-e136a38073f3",
   "metadata": {},
   "source": [
    "### 6.1 Chaining 기법\n",
    "- 개방 해슁 또는 Open Hashing 기법 중 하나 (해쉬 테이블 저장공간 외의 공간을 활용하는 기법)\n",
    "- 충돌이 일어나면, 링크드 리스트라는 자료 구조를 사용해서 링크드 리스트로 데이터를 추가로 뒤에 연결시켜서 저장하는 기법"
   ]
  },
  {
   "cell_type": "code",
   "execution_count": null,
   "id": "74793e0f-4787-499c-8e70-a83f8e85cbe8",
   "metadata": {},
   "outputs": [],
   "source": []
  }
 ],
 "metadata": {
  "kernelspec": {
   "display_name": "Python 3",
   "language": "python",
   "name": "python3"
  },
  "language_info": {
   "codemirror_mode": {
    "name": "ipython",
    "version": 3
   },
   "file_extension": ".py",
   "mimetype": "text/x-python",
   "name": "python",
   "nbconvert_exporter": "python",
   "pygments_lexer": "ipython3",
   "version": "3.8.8"
  }
 },
 "nbformat": 4,
 "nbformat_minor": 5
}

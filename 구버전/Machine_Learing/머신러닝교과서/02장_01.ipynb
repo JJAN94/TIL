{
 "cells": [
  {
   "cell_type": "markdown",
   "id": "b259fc78-9cd8-40ec-9f20-90b4e2bcfe9c",
   "metadata": {},
   "source": [
    "# 인공뉴런\n",
    "- 두 개의 클래스가 있는 이진 분류(binary classification) 작업으로 보자.\n",
    "- 양성 = 1 , 음성 = -1\n",
    "- 입력 값 $x$, 가중치 벡터 $w$의 선형조합(linear combination)으로 결정 함수($\\phi(z)$)\n",
    "- 최종 입력(net input)인 $z$는 $z=w_1x_1+w_2x_2+ \\cdots + w_mx_m$"
   ]
  },
  {
   "cell_type": "markdown",
   "id": "d6fdd6e6-91a4-46ea-bd65-9f9e78496e3d",
   "metadata": {},
   "source": [
    "<font size=\"4em\">\n",
    "$\n",
    "w = \n",
    "\\begin{bmatrix}\n",
    "w_1 \\\\\n",
    "\\vdots \\\\\n",
    "w_m\n",
    "\\end{bmatrix}\n",
    "$\n",
    ",\n",
    "$\n",
    "x =\n",
    "\\begin{bmatrix}\n",
    "x_1 \\\\\n",
    "\\vdots \\\\\n",
    "x_m\n",
    "\\end{bmatrix}\n",
    "$\n",
    "</font>"
   ]
  },
  {
   "cell_type": "code",
   "execution_count": null,
   "id": "1414a460-1037-45ae-9c3f-331986bd4f97",
   "metadata": {},
   "outputs": [],
   "source": []
  }
 ],
 "metadata": {
  "kernelspec": {
   "display_name": "Python 3",
   "language": "python",
   "name": "python3"
  },
  "language_info": {
   "codemirror_mode": {
    "name": "ipython",
    "version": 3
   },
   "file_extension": ".py",
   "mimetype": "text/x-python",
   "name": "python",
   "nbconvert_exporter": "python",
   "pygments_lexer": "ipython3",
   "version": "3.8.8"
  }
 },
 "nbformat": 4,
 "nbformat_minor": 5
}

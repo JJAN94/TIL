{
 "cells": [
  {
   "cell_type": "markdown",
   "id": "1d2c90a8-47d2-4434-8482-f7c805f87f2a",
   "metadata": {},
   "source": [
    "# 머신러닝 용어\n",
    "- 훈련 샘플\n",
    "    - 데이터셋을 나타내는 테이블의 행, 동의어로는 관측(observation), 레코드(record), 인스턴스(instance), 예시(example)가 있다.\n",
    "    - sample은 training set의 예시 집합을 의미\n",
    "- 훈련\n",
    "    - 모델 피팅(fitting), 모수 모델(parametric model)의 경우 파라미터 추정(parameter estimation)과 비슷\n",
    "- 특성(X)\n",
    "    - 데이터 테이블이나 데이터 행렬의 열. 동의어로는 예측 변수(predictor variable), 변수, 입력, 속성(attribute), 공변량(covariate)\n",
    "- 타깃(y)\n",
    "    - 동의어로는 결과(outcome), 출력(output), 반응 변수, 종속변수(dependent variable), (클래스) 레이블(label), 정답(ground truth)\n",
    "- 손실 함수(loss function)\n",
    "    - 종종 비용 함수(cost function)와 동의어로 사용\n",
    "    - 일부 자료에서는 손실 함수를 하나의 데이터 포인트에 대해 측정한 손실로 사용하고, 비용 함수는 전체 데이터셋에 대해 게산한 손실(평균 또는 합)로 사용"
   ]
  },
  {
   "cell_type": "markdown",
   "id": "fc50976e-b8de-4652-b330-c2e98ff56708",
   "metadata": {},
   "source": [
    "# 머신러닝 시스템 구축 로드맵"
   ]
  },
  {
   "cell_type": "markdown",
   "id": "4970e408-5ffc-46b3-8161-9971864c3a4a",
   "metadata": {},
   "source": [
    "<img src='./data/img/로드맵.png' alt='로드맵' align='left'/>"
   ]
  },
  {
   "cell_type": "code",
   "execution_count": null,
   "id": "5f82491e-422d-471b-a520-0c938ba4f608",
   "metadata": {},
   "outputs": [],
   "source": []
  }
 ],
 "metadata": {
  "kernelspec": {
   "display_name": "Python 3",
   "language": "python",
   "name": "python3"
  },
  "language_info": {
   "codemirror_mode": {
    "name": "ipython",
    "version": 3
   },
   "file_extension": ".py",
   "mimetype": "text/x-python",
   "name": "python",
   "nbconvert_exporter": "python",
   "pygments_lexer": "ipython3",
   "version": "3.8.8"
  }
 },
 "nbformat": 4,
 "nbformat_minor": 5
}

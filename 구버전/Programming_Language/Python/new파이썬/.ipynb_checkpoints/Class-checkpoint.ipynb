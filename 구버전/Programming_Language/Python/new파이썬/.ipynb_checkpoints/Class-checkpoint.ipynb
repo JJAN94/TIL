{
 "cells": [
  {
   "cell_type": "markdown",
   "id": "5c1f1fce-c6d2-4691-8e7e-7f41599705ff",
   "metadata": {},
   "source": [
    "# Class\n",
    "- OOP란?\n",
    "- 클래스, 인스턴스\n",
    "- self 개념\n",
    "- 인스턴스 메소드\n",
    "- 클래스, 인스턴스 변수"
   ]
  },
  {
   "cell_type": "code",
   "execution_count": null,
   "id": "96af2735-4ca0-46f0-9516-da0049547b9f",
   "metadata": {},
   "outputs": [],
   "source": []
  }
 ],
 "metadata": {
  "kernelspec": {
   "display_name": "Python 3",
   "language": "python",
   "name": "python3"
  },
  "language_info": {
   "codemirror_mode": {
    "name": "ipython",
    "version": 3
   },
   "file_extension": ".py",
   "mimetype": "text/x-python",
   "name": "python",
   "nbconvert_exporter": "python",
   "pygments_lexer": "ipython3",
   "version": "3.8.8"
  }
 },
 "nbformat": 4,
 "nbformat_minor": 5
}

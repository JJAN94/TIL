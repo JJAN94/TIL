{
 "cells": [
  {
   "cell_type": "markdown",
   "id": "162f98e2-07ab-448d-afb4-23360bd50fdc",
   "metadata": {},
   "source": [
    "## 파이썬 클래스 구조\n",
    "- 클래스(class)란 객체 타입을 정의하는 기능\n",
    "- 클래스를 기반으로 생성된 객체 = 인스턴스(instance)\n",
    "- 같은 클래스의 여러 인스턴스는 같은 특성을 가지면서 각각 독립된 상태를 유지"
   ]
  },
  {
   "cell_type": "markdown",
   "id": "60947709-b8f4-4b3c-a756-350c15d25a25",
   "metadata": {},
   "source": [
    "파이썬 클래스 정의\n",
    "```\n",
    "class 클래스명(베이스 클래스명):\n",
    "    def 메서드명(인수1, 인수2, ...):\n",
    "        메서드에서 실행할 처리\n",
    "        return 반환값\n",
    "```"
   ]
  },
  {
   "cell_type": "markdown",
   "id": "58bb7e46-376a-49f5-bab6-8a77a7dc90a7",
   "metadata": {},
   "source": [
    "베이스 클래스(base class)를 지정하면 지정한 베이스 클래스의 특성을 상속해 서브 클래스를 정의할 수 있다.\\\n",
    "베이스 클래스를 생략하면 object클래스를 상속한다.\\\n",
    "메서드(method)란 클래스에 종속된 처리를 말한다."
   ]
  },
  {
   "cell_type": "markdown",
   "id": "b153bf88-f1fa-4113-bd47-1db90e3a90c4",
   "metadata": {},
   "source": [
    "Page 클래스\n",
    "- 인스턴스는 공통으로 num, content라는 두개 속성(attribute)를 가지고 있다.\n",
    "- 이들은 인스턴스별로 고유의 값이 되므로 인스턴스 변수(instance variable)라고 부른다.\n",
    "- \\_\\_init__(), output()은 이 클래스 인스턴스가 가진 메서드이다.  "
   ]
  },
  {
   "cell_type": "code",
   "execution_count": 4,
   "id": "4724e89d-8bfe-475b-9d58-7d66eef99424",
   "metadata": {},
   "outputs": [],
   "source": [
    "class Page: # 클래스 정의 / 캐멀 케이스(camel case) : 앞글자를 대문자로~\n",
    "    def __init__(self, num, content):\n",
    "        self.num = num # 페이지 번호\n",
    "        self.content = content # 페이지 내용\n",
    "    def output(self):\n",
    "        return f'{self.content}'"
   ]
  },
  {
   "cell_type": "code",
   "execution_count": 6,
   "id": "3f11d43f-e1b8-47e1-adda-e7f1837ac42b",
   "metadata": {},
   "outputs": [
    {
     "name": "stdout",
     "output_type": "stream",
     "text": [
      "<class '__main__.Page'>\n"
     ]
    }
   ],
   "source": [
    "Page # 클래스 객체 Page가 정의됨\n",
    "print(Page)"
   ]
  },
  {
   "cell_type": "markdown",
   "id": "33aad5b6-d39f-43a2-9a05-4db39ea29dea",
   "metadata": {},
   "source": [
    "## 인스턴스 만들기"
   ]
  },
  {
   "cell_type": "markdown",
   "id": "0b90b07d-d5fc-4c0e-b969-4165b0ebd586",
   "metadata": {},
   "source": [
    "- 클래스 객체에 ()를 붙여서 호출하면 인스턴스를 만들 수 있다.\n",
    "- 이를 인스턴스화(instantiation)이라고 한다."
   ]
  },
  {
   "cell_type": "code",
   "execution_count": null,
   "id": "4f11ca8b-eccd-493b-97c1-71289014e684",
   "metadata": {},
   "outputs": [],
   "source": []
  },
  {
   "cell_type": "code",
   "execution_count": null,
   "id": "30bd6a35-fc67-444b-8f9e-4ddeaa2b9aee",
   "metadata": {},
   "outputs": [],
   "source": []
  },
  {
   "cell_type": "code",
   "execution_count": null,
   "id": "b82a7ece-a0c7-401b-a1b7-91aea5b9fb5f",
   "metadata": {},
   "outputs": [],
   "source": []
  },
  {
   "cell_type": "markdown",
   "id": "a5361ad7-0891-435a-a34f-6ab70f68e2e6",
   "metadata": {},
   "source": [
    "# 특수 메서드(special method) \n",
    "- 매직메소드(magic method) (비공식적)\n",
    "- 파이썬에서 암묵적으로 호출하는 특수한 메소드"
   ]
  },
  {
   "cell_type": "code",
   "execution_count": null,
   "id": "d875c07e-8b6c-4f22-959c-c3fb5082083b",
   "metadata": {},
   "outputs": [],
   "source": [
    "# Special Method (Magic Method)\n",
    "# 파이썬의 핵심 : 시퀀스(Sequence), 반복(Iterator), 함수(Functions), 클래스(Class)\n",
    "# 클래스안에 정의할 수 있는 특별한 Built-in 메소드"
   ]
  },
  {
   "cell_type": "code",
   "execution_count": 1,
   "id": "8337e7f2-3a76-4970-b1eb-5582300029c7",
   "metadata": {},
   "outputs": [
    {
     "name": "stdout",
     "output_type": "stream",
     "text": [
      "<class 'int'>\n",
      "<class 'float'>\n",
      "['__abs__', '__add__', '__and__', '__bool__', '__ceil__', '__class__', '__delattr__', '__dir__', '__divmod__', '__doc__', '__eq__', '__float__', '__floor__', '__floordiv__', '__format__', '__ge__', '__getattribute__', '__getnewargs__', '__gt__', '__hash__', '__index__', '__init__', '__init_subclass__', '__int__', '__invert__', '__le__', '__lshift__', '__lt__', '__mod__', '__mul__', '__ne__', '__neg__', '__new__', '__or__', '__pos__', '__pow__', '__radd__', '__rand__', '__rdivmod__', '__reduce__', '__reduce_ex__', '__repr__', '__rfloordiv__', '__rlshift__', '__rmod__', '__rmul__', '__ror__', '__round__', '__rpow__', '__rrshift__', '__rshift__', '__rsub__', '__rtruediv__', '__rxor__', '__setattr__', '__sizeof__', '__str__', '__sub__', '__subclasshook__', '__truediv__', '__trunc__', '__xor__', 'as_integer_ratio', 'bit_length', 'conjugate', 'denominator', 'from_bytes', 'imag', 'numerator', 'real', 'to_bytes']\n",
      "['__abs__', '__add__', '__bool__', '__class__', '__delattr__', '__dir__', '__divmod__', '__doc__', '__eq__', '__float__', '__floordiv__', '__format__', '__ge__', '__getattribute__', '__getformat__', '__getnewargs__', '__gt__', '__hash__', '__init__', '__init_subclass__', '__int__', '__le__', '__lt__', '__mod__', '__mul__', '__ne__', '__neg__', '__new__', '__pos__', '__pow__', '__radd__', '__rdivmod__', '__reduce__', '__reduce_ex__', '__repr__', '__rfloordiv__', '__rmod__', '__rmul__', '__round__', '__rpow__', '__rsub__', '__rtruediv__', '__set_format__', '__setattr__', '__sizeof__', '__str__', '__sub__', '__subclasshook__', '__truediv__', '__trunc__', 'as_integer_ratio', 'conjugate', 'fromhex', 'hex', 'imag', 'is_integer', 'real']\n"
     ]
    }
   ],
   "source": [
    "# 기본형\n",
    "print(int)\n",
    "print(float)\n",
    "\n",
    "# 모든 속성 및 메소드 출력\n",
    "print(dir(int))\n",
    "print(dir(float))"
   ]
  },
  {
   "cell_type": "code",
   "execution_count": 6,
   "id": "a366813a-85e4-4c51-8733-4aef660a8bfd",
   "metadata": {},
   "outputs": [
    {
     "name": "stdout",
     "output_type": "stream",
     "text": [
      "<class 'int'>\n",
      "110\n",
      "110\n",
      "True True\n",
      "1000 1000\n"
     ]
    }
   ],
   "source": [
    "n = 10\n",
    "print(type(n))\n",
    "\n",
    "print(n+100)\n",
    "print(n.__add__(100))\n",
    "# print(n.__doc__)\n",
    "print(n.__bool__(), bool(n))\n",
    "print(n * 100, n.__mul__(100))"
   ]
  },
  {
   "cell_type": "code",
   "execution_count": null,
   "id": "b90b445c-e726-45b1-972f-ba0722bcfff4",
   "metadata": {},
   "outputs": [],
   "source": []
  }
 ],
 "metadata": {
  "kernelspec": {
   "display_name": "Python 3",
   "language": "python",
   "name": "python3"
  },
  "language_info": {
   "codemirror_mode": {
    "name": "ipython",
    "version": 3
   },
   "file_extension": ".py",
   "mimetype": "text/x-python",
   "name": "python",
   "nbconvert_exporter": "python",
   "pygments_lexer": "ipython3",
   "version": "3.8.8"
  }
 },
 "nbformat": 4,
 "nbformat_minor": 5
}

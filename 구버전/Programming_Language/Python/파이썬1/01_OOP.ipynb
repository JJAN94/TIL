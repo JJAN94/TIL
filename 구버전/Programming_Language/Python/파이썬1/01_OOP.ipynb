{
 "cells": [
  {
   "cell_type": "markdown",
   "id": "4fab0158-bec9-49af-ab7e-572724ec546b",
   "metadata": {},
   "source": [
    "# OOP\n",
    "파이썬 클래스\\\n",
    "OOP(객체 지향 프로그래밍), self, 인스턴스 메소드, 인스턴스 변수\\\n",
    "클래스 and 인스턴스 차이 이해"
   ]
  },
  {
   "cell_type": "code",
   "execution_count": 2,
   "id": "ba37cb3c-dd5a-4deb-8e06-8e14c78e7b6a",
   "metadata": {},
   "outputs": [],
   "source": [
    "# class Dog(object):\n",
    "class Dog: # 모든 클래스는 object를 상속받는다.\n",
    "    # 클래스 속성\n",
    "    species = 'firstdog'\n",
    "    \n",
    "    # 초기화/인스턴스 속성\n",
    "    def __init__(self, name, age):\n",
    "        self.name = name\n",
    "        self.age = age"
   ]
  },
  {
   "cell_type": "markdown",
   "id": "229797d7-004e-488b-bc0a-874b90ec0a84",
   "metadata": {},
   "source": [
    "- 클래스 변수 : 직접 접근 가능\n",
    "- 인스턴스 변수 : 객체마다 별도 존재"
   ]
  },
  {
   "cell_type": "code",
   "execution_count": 3,
   "id": "c9e1f6c3-b029-42a0-8030-0a4e90f4bf7b",
   "metadata": {},
   "outputs": [
    {
     "name": "stdout",
     "output_type": "stream",
     "text": [
      "<class '__main__.Dog'>\n"
     ]
    }
   ],
   "source": [
    "# 클래스 정보\n",
    "print(Dog)"
   ]
  },
  {
   "cell_type": "code",
   "execution_count": 4,
   "id": "ea69a365-a317-4e15-8c8a-836c21fc7a84",
   "metadata": {},
   "outputs": [],
   "source": [
    "# 인스턴스화\n",
    "# 설계도를 바탕으로 구현된 것을 인스턴스화라고 한다.\n",
    "a = Dog('mikky', 2)\n",
    "b = Dog('baby', 3)"
   ]
  },
  {
   "cell_type": "code",
   "execution_count": 6,
   "id": "091f24ac-0714-4901-b677-bd71ce860347",
   "metadata": {},
   "outputs": [
    {
     "name": "stdout",
     "output_type": "stream",
     "text": [
      "False 2907179686496 2907179685920\n"
     ]
    }
   ],
   "source": [
    "# 비교\n",
    "print(a==b, id(a), id(b))"
   ]
  },
  {
   "cell_type": "code",
   "execution_count": 7,
   "id": "12438e9e-4a84-466e-809e-de32be73b67c",
   "metadata": {},
   "outputs": [
    {
     "name": "stdout",
     "output_type": "stream",
     "text": [
      "dog1 {'name': 'mikky', 'age': 2}\n",
      "dog2 {'name': 'baby', 'age': 3}\n"
     ]
    }
   ],
   "source": [
    "# 네임스페이스\n",
    "# = 객체를 인스턴스화 할 때 저장된 공간\n",
    "print('dog1', a.__dict__)\n",
    "print('dog2', b.__dict__)"
   ]
  },
  {
   "cell_type": "code",
   "execution_count": 8,
   "id": "9a805e76-5c01-4513-9ac5-0943888767ca",
   "metadata": {},
   "outputs": [
    {
     "name": "stdout",
     "output_type": "stream",
     "text": [
      "mikky is 2 and baby is 3\n"
     ]
    }
   ],
   "source": [
    "# 인스턴스 속성 확인\n",
    "print('{} is {} and {} is {}'.format(a.name, a.age, b.name, b.age))"
   ]
  },
  {
   "cell_type": "code",
   "execution_count": 11,
   "id": "3b1fbe57-5241-4811-8d3b-a66c9743c198",
   "metadata": {},
   "outputs": [
    {
     "name": "stdout",
     "output_type": "stream",
     "text": [
      "mikky is a firstdog\n",
      "firstdog\n"
     ]
    }
   ],
   "source": [
    "if a.species == 'firstdog':\n",
    "    print('{} is a {}'.format(a.name, a.species))\n",
    "\n",
    "# 직접 접근 (클래스변수니까)\n",
    "print(Dog.species)"
   ]
  },
  {
   "cell_type": "code",
   "execution_count": null,
   "id": "e3cff05f-1620-4ff3-ac77-ec9668a8417e",
   "metadata": {},
   "outputs": [],
   "source": []
  },
  {
   "cell_type": "markdown",
   "id": "de990218-920c-4226-a543-2f99feefa8cd",
   "metadata": {},
   "source": [
    "# self의 이해"
   ]
  },
  {
   "cell_type": "code",
   "execution_count": 1,
   "id": "c8b62865-5cd2-436a-8563-e8b2d483c8f5",
   "metadata": {},
   "outputs": [],
   "source": [
    "class SelfTest:\n",
    "    def func1():\n",
    "        print('Func1 called')\n",
    "    def func2(self):\n",
    "        print('Func2 called')"
   ]
  },
  {
   "cell_type": "code",
   "execution_count": 2,
   "id": "69c8bb27-c7ec-4dc6-aa82-e9f66c8443fd",
   "metadata": {},
   "outputs": [],
   "source": [
    "f = SelfTest()"
   ]
  },
  {
   "cell_type": "code",
   "execution_count": 3,
   "id": "83870e9d-1d53-4f19-b6b5-891000dd9ffd",
   "metadata": {},
   "outputs": [
    {
     "name": "stdout",
     "output_type": "stream",
     "text": [
      "['__class__', '__delattr__', '__dict__', '__dir__', '__doc__', '__eq__', '__format__', '__ge__', '__getattribute__', '__gt__', '__hash__', '__init__', '__init_subclass__', '__le__', '__lt__', '__module__', '__ne__', '__new__', '__reduce__', '__reduce_ex__', '__repr__', '__setattr__', '__sizeof__', '__str__', '__subclasshook__', '__weakref__', 'func1', 'func2']\n"
     ]
    }
   ],
   "source": [
    "print(dir(f))"
   ]
  },
  {
   "cell_type": "code",
   "execution_count": 4,
   "id": "191500c4-aaa4-4660-90e2-9a1dd4a4cf97",
   "metadata": {},
   "outputs": [
    {
     "name": "stdout",
     "output_type": "stream",
     "text": [
      "2453083249536\n"
     ]
    }
   ],
   "source": [
    "print(id(f))"
   ]
  },
  {
   "cell_type": "code",
   "execution_count": 5,
   "id": "60a70f7c-a927-49f2-85f3-8d7ec5bea274",
   "metadata": {},
   "outputs": [
    {
     "ename": "TypeError",
     "evalue": "func1() takes 0 positional arguments but 1 was given",
     "output_type": "error",
     "traceback": [
      "\u001b[1;31m---------------------------------------------------------------------------\u001b[0m",
      "\u001b[1;31mTypeError\u001b[0m                                 Traceback (most recent call last)",
      "\u001b[1;32m<ipython-input-5-d7d514da12af>\u001b[0m in \u001b[0;36m<module>\u001b[1;34m\u001b[0m\n\u001b[1;32m----> 1\u001b[1;33m \u001b[0mf\u001b[0m\u001b[1;33m.\u001b[0m\u001b[0mfunc1\u001b[0m\u001b[1;33m(\u001b[0m\u001b[1;33m)\u001b[0m\u001b[1;33m\u001b[0m\u001b[1;33m\u001b[0m\u001b[0m\n\u001b[0m",
      "\u001b[1;31mTypeError\u001b[0m: func1() takes 0 positional arguments but 1 was given"
     ]
    }
   ],
   "source": [
    "f.func1()"
   ]
  },
  {
   "cell_type": "code",
   "execution_count": 6,
   "id": "cd296724-ef39-4e4e-b294-6592374544b8",
   "metadata": {},
   "outputs": [
    {
     "name": "stdout",
     "output_type": "stream",
     "text": [
      "Func2 called\n"
     ]
    }
   ],
   "source": [
    "f.func2()"
   ]
  },
  {
   "cell_type": "markdown",
   "id": "40489bcf-06f5-4107-96a5-36fd02514077",
   "metadata": {},
   "source": [
    "클래스 메소드\\\n",
    "인스턴스 메소드"
   ]
  },
  {
   "cell_type": "code",
   "execution_count": 11,
   "id": "21d6e228-bc9b-455b-bccf-0b1eae112ca0",
   "metadata": {},
   "outputs": [],
   "source": [
    "# 클래스 변수, 인스턴스 변수\n",
    "class Warehouse:\n",
    "    # 클래스 변수 \n",
    "    stock_num = 0 # 재고\n",
    "    \n",
    "    def __init__(self, name):\n",
    "        # 인스턴스 변수\n",
    "        self.name = name\n",
    "        Warehouse.stock_num += 1\n",
    "    \n",
    "    def __del__(self):\n",
    "        Warehouse.stock_num -= 1"
   ]
  },
  {
   "cell_type": "code",
   "execution_count": 12,
   "id": "42a3834a-268e-4e42-a2d8-3f43b40eb1a5",
   "metadata": {},
   "outputs": [
    {
     "name": "stdout",
     "output_type": "stream",
     "text": [
      "2\n"
     ]
    }
   ],
   "source": [
    "user1 = Warehouse('Lee')\n",
    "user2 = Warehouse('Cho')\n",
    "\n",
    "print(Warehouse.stock_num)"
   ]
  },
  {
   "cell_type": "code",
   "execution_count": 13,
   "id": "bedf5396-67b3-4d8d-aa05-4b741e53c75a",
   "metadata": {},
   "outputs": [
    {
     "name": "stdout",
     "output_type": "stream",
     "text": [
      "Lee\n",
      "Cho\n",
      "{'name': 'Lee'}\n",
      "{'name': 'Cho'}\n",
      "{'__module__': '__main__', 'stock_num': 2, '__init__': <function Warehouse.__init__ at 0x0000023B276BB430>, '__del__': <function Warehouse.__del__ at 0x0000023B276BB3A0>, '__dict__': <attribute '__dict__' of 'Warehouse' objects>, '__weakref__': <attribute '__weakref__' of 'Warehouse' objects>, '__doc__': None}\n",
      "2\n"
     ]
    }
   ],
   "source": [
    "print(user1.name)\n",
    "print(user2.name)\n",
    "print(user1.__dict__)\n",
    "print(user2.__dict__)\n",
    "print(Warehouse.__dict__)\n",
    "print(user1.stock_num)\n"
   ]
  },
  {
   "cell_type": "code",
   "execution_count": 14,
   "id": "43305015-a540-4e00-a75b-0b02a8a55c47",
   "metadata": {},
   "outputs": [
    {
     "name": "stdout",
     "output_type": "stream",
     "text": [
      "after {'__module__': '__main__', 'stock_num': 1, '__init__': <function Warehouse.__init__ at 0x0000023B276BB430>, '__del__': <function Warehouse.__del__ at 0x0000023B276BB3A0>, '__dict__': <attribute '__dict__' of 'Warehouse' objects>, '__weakref__': <attribute '__weakref__' of 'Warehouse' objects>, '__doc__': None}\n"
     ]
    }
   ],
   "source": [
    "del user1\n",
    "print('after', Warehouse.__dict__)"
   ]
  },
  {
   "cell_type": "markdown",
   "id": "ab30f896-e58c-46f2-b15c-2e5cffac42ae",
   "metadata": {},
   "source": [
    "stock_num이 2에서 1로 바뀜"
   ]
  },
  {
   "cell_type": "code",
   "execution_count": 16,
   "id": "9c1ac3ef-5308-4d30-8434-42c54b7f8bfe",
   "metadata": {},
   "outputs": [],
   "source": [
    "# 예제4\n",
    "# class Dog(object):\n",
    "class Dog: # 모든 클래스는 object를 상속받는다.\n",
    "    # 클래스 속성\n",
    "    species = 'firstdog'\n",
    "    \n",
    "    # 초기화/인스턴스 속성\n",
    "    def __init__(self, name, age):\n",
    "        self.name = name\n",
    "        self.age = age\n",
    "    \n",
    "    def info(self):\n",
    "        return '{} is {} years old'.format(self.name, self.age)\n",
    "    \n",
    "    def speak(self, sound):\n",
    "        return '{} says {} !'.format(self.name, sound)\n",
    "    \n"
   ]
  },
  {
   "cell_type": "code",
   "execution_count": 17,
   "id": "d27a9e07-169a-4661-b454-b87a3c1029ed",
   "metadata": {},
   "outputs": [],
   "source": [
    "# 인스턴스 생서\n",
    "c = Dog('july', 4)"
   ]
  },
  {
   "cell_type": "code",
   "execution_count": 18,
   "id": "11e1e150-8c2b-499d-b98a-eedd11ccea52",
   "metadata": {},
   "outputs": [
    {
     "name": "stdout",
     "output_type": "stream",
     "text": [
      "july is 4 years old\n"
     ]
    }
   ],
   "source": [
    "# 메소드 호출\n",
    "print(c.info())"
   ]
  },
  {
   "cell_type": "code",
   "execution_count": 19,
   "id": "028e1b2f-d076-46bd-96b7-f617636612e0",
   "metadata": {},
   "outputs": [
    {
     "name": "stdout",
     "output_type": "stream",
     "text": [
      "july says Wal Wal !\n"
     ]
    }
   ],
   "source": [
    "print(c.speak('Wal Wal'))"
   ]
  },
  {
   "cell_type": "code",
   "execution_count": null,
   "id": "64bdeeae-dca1-45f8-a86c-aefda1095e42",
   "metadata": {},
   "outputs": [],
   "source": []
  }
 ],
 "metadata": {
  "kernelspec": {
   "display_name": "Python 3",
   "language": "python",
   "name": "python3"
  },
  "language_info": {
   "codemirror_mode": {
    "name": "ipython",
    "version": 3
   },
   "file_extension": ".py",
   "mimetype": "text/x-python",
   "name": "python",
   "nbconvert_exporter": "python",
   "pygments_lexer": "ipython3",
   "version": "3.8.8"
  }
 },
 "nbformat": 4,
 "nbformat_minor": 5
}

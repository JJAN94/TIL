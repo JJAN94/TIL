{
 "cells": [
  {
   "cell_type": "markdown",
   "metadata": {},
   "source": [
    "### 심심한 그대 (2021_05_14)"
   ]
  },
  {
   "cell_type": "code",
   "execution_count": 1,
   "metadata": {},
   "outputs": [],
   "source": [
    "import urllib.request"
   ]
  },
  {
   "cell_type": "code",
   "execution_count": 2,
   "metadata": {},
   "outputs": [],
   "source": [
    "def Test() :\n",
    "    f = urllib.request.urlopen('http://www.python.org/') \n",
    "    print(f.read(300).decode('utf-8'))"
   ]
  },
  {
   "cell_type": "code",
   "execution_count": 3,
   "metadata": {},
   "outputs": [],
   "source": [
    "def Test01() :\n",
    "    req = urllib.request.Request('http://www.my_server.org')\n",
    "    try :\n",
    "        urllib.request.urlopen(req) \n",
    "    except urllib.error.URLError as e :\n",
    "        print(e.reason)"
   ]
  },
  {
   "cell_type": "code",
   "execution_count": 4,
   "metadata": {},
   "outputs": [],
   "source": [
    "def Test02() :\n",
    "    req = urllib.request.Request('http://www.python.org/abc.html')\n",
    "    try :\n",
    "        urllib.request.urlopen(req)\n",
    "    except urllib.error.HTTPError as e :\n",
    "        print(e.code)\n",
    "        print(e.read(400))"
   ]
  },
  {
   "cell_type": "code",
   "execution_count": 5,
   "metadata": {},
   "outputs": [],
   "source": [
    "def Test03() :\n",
    "    response = urllib.request.urlopen('http://www.python.org')\n",
    "    print('RESPONSE : ', response)\n",
    "    print('URL        : ', response.geturl())\n",
    "    headers = response.info()\n",
    "    print('DATE       : ',headers['date'])\n",
    "    print('HEADERS      : ')\n",
    "    print('---------------------------')\n",
    "    print(headers)"
   ]
  },
  {
   "cell_type": "code",
   "execution_count": 6,
   "metadata": {},
   "outputs": [],
   "source": [
    "# 파파고 API java file"
   ]
  },
  {
   "cell_type": "code",
   "execution_count": null,
   "metadata": {},
   "outputs": [],
   "source": [
    "# package com.test;\n",
    "\n",
    "# import java.io.BufferedReader;\n",
    "# import java.io.DataOutputStream;\n",
    "# import java.io.InputStreamReader;\n",
    "# import java.net.HttpURLConnection;\n",
    "# import java.net.URL;\n",
    "# import java.net.URLEncoder;\n",
    "\n",
    "# // 네이버 기계번역 (Papago SMT) API 예제\n",
    "# public class TestWeb {\n",
    "\n",
    "#     public static void main(String[] args) {\n",
    "#         String clientId = \"Jvtw3xarVkkmdBD4aLEl\";//애플리케이션 클라이언트 아이디값\";\n",
    "#         String clientSecret = \"ZGi7klgcz5\";//애플리케이션 클라이언트 시크릿값\";\n",
    "#         try {\n",
    "#             String text = URLEncoder.encode(\"안녕하세요. 오늘 기분은 어떻습니까?\", \"UTF-8\");\n",
    "#             String apiURL = \"https://openapi.naver.com/v1/papago/n2mt\";\n",
    "#             URL url = new URL(apiURL);\n",
    "#             HttpURLConnection con = (HttpURLConnection)url.openConnection();\n",
    "#             con.setRequestMethod(\"POST\");\n",
    "#             con.setRequestProperty(\"X-Naver-Client-Id\", clientId);\n",
    "#             con.setRequestProperty(\"X-Naver-Client-Secret\", clientSecret);\n",
    "#             // post request\n",
    "#             String postParams = \"source=ko&target=zh-cn&text=\" + text;\n",
    "#             con.setDoOutput(true);\n",
    "#             DataOutputStream wr = new DataOutputStream(con.getOutputStream());\n",
    "#             wr.writeBytes(postParams);\n",
    "#             wr.flush();\n",
    "#             wr.close();\n",
    "#             int responseCode = con.getResponseCode();\n",
    "#             BufferedReader br;\n",
    "#             if(responseCode==200) { // 정상 호출\n",
    "#                 br = new BufferedReader(new InputStreamReader(con.getInputStream()));\n",
    "#             } else {  // 에러 발생\n",
    "#                 br = new BufferedReader(new InputStreamReader(con.getErrorStream()));\n",
    "#             }\n",
    "#             String inputLine;\n",
    "#             StringBuffer response = new StringBuffer();\n",
    "#             while ((inputLine = br.readLine()) != null) {\n",
    "#                 response.append(inputLine);\n",
    "#             }\n",
    "#             br.close();\n",
    "#             System.out.println(response.toString());\n",
    "#         } catch (Exception e) {\n",
    "#             System.out.println(e);\n",
    "#         }\n",
    "#     }\n",
    "# }"
   ]
  }
 ],
 "metadata": {
  "kernelspec": {
   "display_name": "Python 3",
   "language": "python",
   "name": "python3"
  },
  "language_info": {
   "codemirror_mode": {
    "name": "ipython",
    "version": 3
   },
   "file_extension": ".py",
   "mimetype": "text/x-python",
   "name": "python",
   "nbconvert_exporter": "python",
   "pygments_lexer": "ipython3",
   "version": "3.8.3"
  }
 },
 "nbformat": 4,
 "nbformat_minor": 4
}

{
 "cells": [
  {
   "cell_type": "markdown",
   "metadata": {},
   "source": [
    "#### 2021_04_27 모닝 문제"
   ]
  },
  {
   "cell_type": "code",
   "execution_count": 1,
   "metadata": {},
   "outputs": [],
   "source": [
    "def add(a, b) :\n",
    "    print('ADDING %d + %d'%(a,b))\n",
    "    return a + b"
   ]
  },
  {
   "cell_type": "code",
   "execution_count": 2,
   "metadata": {},
   "outputs": [],
   "source": [
    "def subtract(a,b) :\n",
    "    print('SUBTRACTING %d - %d'%(a,b))\n",
    "    return a - b"
   ]
  },
  {
   "cell_type": "code",
   "execution_count": 3,
   "metadata": {},
   "outputs": [],
   "source": [
    "def multiply(a,b) :\n",
    "    print('MULTIPLYING %d x %d'%(a*b))\n",
    "    return a*b"
   ]
  },
  {
   "cell_type": "code",
   "execution_count": 4,
   "metadata": {},
   "outputs": [],
   "source": [
    "def divide(a,b) :\n",
    "    print('DIVIDING %d / %d'%(a/b))\n",
    "    return a/b"
   ]
  },
  {
   "cell_type": "code",
   "execution_count": 6,
   "metadata": {},
   "outputs": [],
   "source": [
    "def choose_menu() :\n",
    "    print('input?')\n",
    "    print('add, sub, mul, div, quit')\n",
    "    return input('choice : ')"
   ]
  },
  {
   "cell_type": "code",
   "execution_count": 9,
   "metadata": {},
   "outputs": [
    {
     "name": "stdout",
     "output_type": "stream",
     "text": [
      "input?\n",
      "add, sub, mul, div, quit\n",
      "choice : sub\n",
      "first value : 10\n",
      "second value : 4\n",
      "SUBTRACT 10 - 4\n",
      "6\n",
      "input?\n",
      "add, sub, mul, div, quit\n",
      "choice : quit\n"
     ]
    }
   ],
   "source": [
    "if __name__ == '__main__' :\n",
    "    menu = {'add' : add, 'sub' : subtract, 'mul'  : multiply, 'div' : divide}\n",
    "    choice = choose_menu()\n",
    "    while choice != 'quit' :\n",
    "        if menu.get(choice):\n",
    "            x = input('first value : ')\n",
    "            y = input('second value : ')\n",
    "            print(menu[choice](int(x), int(y)))\n",
    "            choice = choose_menu()"
   ]
  },
  {
   "cell_type": "markdown",
   "metadata": {},
   "source": [
    "## OOP (Object-Oriented programming) (암기)\n",
    "- 객체지향 프로그램\n",
    "- 데이터 처리를 하는 메소드들을 하나의 프로그램으로 설계해서 연동하는 객체(object)를 중심으로 프로그램을 짜는 언어를 말한다.\n",
    "- 파이썬은 대화적이고(interactive), 인터프리터(interpreter) 객체 지향(object oriented) 프로그래밍 언어이다.\n",
    "- 파이썬은 모든 것이 객체이다."
   ]
  },
  {
   "cell_type": "markdown",
   "metadata": {},
   "source": [
    "## 클래스와 객체란? (암기)\n",
    "- 클래스는 객체 지향 프로그램의 기본적인 사용자 정의 데이터형 (user defined data type)\n",
    "- 클래스는 객체를 정의한 것으로 실 세계에서 존재하는 사물이나 개념의 속성과 기능을 모델링해서 추상화시키는 과정을 말한다.\n",
    "- 객체는 자신 고유의 속성(attribute)을 가지며 클래스에서 정의한 행위(behavior)를 수행할 수 있다.\n",
    "- 객체의 행위는 클래스에 정의된 행위에 대한 정의를 공유함으로써 메모리를 경제적으로 사용한다.\n",
    "\n",
    "\n",
    "- 객체는 클래스의 인스턴스이며 정의된 클래스를 사용해서 실제로 메모리에 생성되어 메모리에 로딩된 상태를 말한다.\n",
    "- **객체**는 클래스의 타입으로 선언됬을때를 의미하는 것이고 그 객체가 메모리에 할당되어 실제 사용될 때 **인스턴스**라고 한다.\n",
    "\n",
    "\n",
    "- 그림판의 메뉴를 생각해보자. 동그라미를 메뉴에서 선택해서 작업화면에 동그라미 객체를 그려낸다.\n",
    "- 이때 정해진 클래스(동그라미)의 여러개의 객체를(object) 생성하게 되는데 동그라미 객체들을 인스턴스한다고 말한다."
   ]
  },
  {
   "cell_type": "markdown",
   "metadata": {},
   "source": [
    "**구조 암기**\n",
    "- **객체 = 속성(attributes) + 행위(behaviors)** = (참고: 속성 + 기능)\n",
    "- **클래스 = 변수(variable) + 메서드(methods)** = (참고: 변수 + 메서드(기능))"
   ]
  },
  {
   "cell_type": "markdown",
   "metadata": {},
   "source": [
    "- 객체는 멤버 변수를 가지고 있으면서 그들의 동작을 수행하는 함수들을 가지게 되는데 메서드라고 부른다.\n",
    "- 메소드는 객체를 사용하기 위해 필요한 모든 이벤트들을 처리하는 함수이다."
   ]
  },
  {
   "cell_type": "markdown",
   "metadata": {},
   "source": [
    "# 지난시간(Day09)\n",
    "1. 기본 자료형 및 시퀀스를 이용한 사용자 함수를 만들어서 연동할 수 있다.\n",
    "    - return 유무\n",
    "2. 함수의 매개인자 타입에 의한 값 전달을 할 수 있다.\n",
    "    - def Test(a=1,b=2,c=3,d=4, \\*e, \\*\\*f) -> Test(b=7)\n",
    "3. 람다함수(고차함수)와 재귀함수를 선언하고 호출할 수 있다."
   ]
  },
  {
   "cell_type": "markdown",
   "metadata": {},
   "source": [
    "# Day10\n",
    "1. 클래스 생성 후 연동할 수 있다.\n",
    "2. 클래스 멤버를 선언하고 생성자와 소멸자를 이해할 수 있다.\n",
    "3. 클래스 선언 및 객체 생성, 멤버 호출을 실행할 수 있다."
   ]
  },
  {
   "cell_type": "markdown",
   "metadata": {},
   "source": [
    "- OOP 3대 특징\n",
    "    - 클래스 - 사용자 자료형 = 변수 + 메소드\n",
    "        - 캡슐화 : 은닉된 멤버변수에게 오픈된 메서드가 값 전달 및 변경하는 구조\n",
    "    \n",
    "    - 상속 - 클래스의 기능을 확장, 선조클래스가 1개일 때 단일상속, 1more(+) 일 때 다중상속 \n",
    "        - 정규패턴 ( +: 1 more(1개또는 여러개), * : 0 more (없거나 여러개거나), ... = 0 more )\n",
    "    - 다형성 - 다양한 형태의 성질로 이루어진 클래스의 동적 바인딩 구조"
   ]
  },
  {
   "cell_type": "markdown",
   "metadata": {},
   "source": [
    "자료형 선언 -> 객체 생성 -> 멤버 호출"
   ]
  },
  {
   "cell_type": "markdown",
   "metadata": {},
   "source": [
    "[형식]\n",
    "class 클래스이름(상속클래스명) :\\\n",
    "&nbsp;&nbsp;&nbsp;&nbsp;&nbsp;&nbsp;&nbsp;<클래스 변수 선언>\\\n",
    "&nbsp;&nbsp;&nbsp;&nbsp;&nbsp;&nbsp;&nbsp;def 클래스 함수(self, ...) :\\\n",
    "&nbsp;&nbsp;&nbsp;&nbsp;&nbsp;&nbsp;&nbsp;<수행할 문장>\n",
    "\n",
    "클래스 내부에 선언되는 매개인자는 첫번째 자리에 self\n",
    "    "
   ]
  },
  {
   "cell_type": "markdown",
   "metadata": {},
   "source": [
    "- step 01. 자료형, 클래스 선언\n",
    "    - 값을 받아서 저장하고 추가하는 클래스를 만들려고 한다.\n",
    "    - 값을 받아 저장하는 멤버를 가진 메서드를 empty()라고 하고 값을 받아 추가하는 메서드를 add()라고 명명하게 설계하자"
   ]
  },
  {
   "cell_type": "code",
   "execution_count": 24,
   "metadata": {},
   "outputs": [],
   "source": [
    "class Test : # object의 후손 클래스가 되어 선조의 메서드들을 참조하고 있다.\n",
    "    def empty(self) :\n",
    "        self.data = []\n",
    "        \n",
    "    def add(self, x) :\n",
    "        self.data.append(x)"
   ]
  },
  {
   "cell_type": "markdown",
   "metadata": {},
   "source": [
    "- step 02. 객체 생성\n",
    "    - Test 클래스가 선언 및 정의가 되면 클래스 객체 생성을 통한 인스턴스를 만든다.\n",
    "        - 클래스 변수 = 클래스명() # 생성자를 호출하면서 객체를 생성\n",
    "        "
   ]
  },
  {
   "cell_type": "code",
   "execution_count": 26,
   "metadata": {},
   "outputs": [],
   "source": [
    "# my01의 변수에 Test라는 클래스의 객체를 생성하게 되면 메모리에 \n",
    "# Test클래스와 같은 자료형이 생성되어 메모리에 확보되고, 확보된 주소가 my01에  =연산자를 통해 대입되어 참조된다.\n",
    "my01 = Test()\n",
    "\n",
    "# my02의 변수에 Test라는 클래스의 객체를 생성하게 되면 메모리에 \n",
    "# Test클래스와 같은 자료형이 생성되어 메모리에 확보되고, 확보된 주소가 my02에  =연산자를 통해 대입되어 참조된다.\n",
    "my02 = Test()"
   ]
  },
  {
   "cell_type": "markdown",
   "metadata": {},
   "source": [
    "- step 03. 멤버호출\n",
    "    - my01.empty()\n",
    "    - my02.empty()"
   ]
  },
  {
   "cell_type": "code",
   "execution_count": 28,
   "metadata": {},
   "outputs": [
    {
     "name": "stdout",
     "output_type": "stream",
     "text": [
      "[1, 2, 3, 4, 5]\n",
      "[]\n"
     ]
    }
   ],
   "source": [
    "my01.empty()\n",
    "my02.empty()\n",
    "\n",
    "for i in range(1,6) :\n",
    "    my01.add(i)\n",
    "    \n",
    "print(my01.data)\n",
    "print(my02.data)"
   ]
  },
  {
   "cell_type": "code",
   "execution_count": 29,
   "metadata": {},
   "outputs": [
    {
     "name": "stdout",
     "output_type": "stream",
     "text": [
      "<__main__.Test object at 0x00000217667B0400> <__main__.Test object at 0x00000217666507C0>\n"
     ]
    }
   ],
   "source": [
    "print(my01, my02)"
   ]
  },
  {
   "cell_type": "code",
   "execution_count": 30,
   "metadata": {},
   "outputs": [
    {
     "name": "stdout",
     "output_type": "stream",
     "text": [
      "[1, 2, 3, 4, 5]\n"
     ]
    }
   ],
   "source": [
    "my03 = my01\n",
    "print(my03.data)"
   ]
  },
  {
   "cell_type": "code",
   "execution_count": 31,
   "metadata": {},
   "outputs": [
    {
     "name": "stdout",
     "output_type": "stream",
     "text": [
      "<__main__.Test object at 0x00000217667B0400> <__main__.Test object at 0x00000217667B0400>\n"
     ]
    }
   ],
   "source": [
    "print(my01, my03)"
   ]
  },
  {
   "cell_type": "markdown",
   "metadata": {},
   "source": [
    "- 메소드에 지정하는 self의 의미\n",
    "    - 클래스 내부에 선언되는 메서드 매개인자는 첫번째 자리에 self로 반드시 명시한다.\n",
    "    - 모든 메서드는 최소한 self 인수는 반드시 명시되어야 하며 리턴되거나 매개인자로 대입 받을 수 없다.\n",
    "    - 객체를 통해서 호출되는 메서드의 첫번째 매개인자인 self는 자동으로 객체 참조될 주소로 대입받는다.\n",
    "    - self를 통해서 클래스의 멤버변수 또는 메서드를 자유롭게 클래스 내부에서 호출 할 수 있다."
   ]
  },
  {
   "cell_type": "code",
   "execution_count": 40,
   "metadata": {},
   "outputs": [
    {
     "name": "stdout",
     "output_type": "stream",
     "text": [
      "Dominica seoul 02-0000-0000\n",
      "111111111 seoul 02-0000-0000\n",
      "111111111 seoul 02-0000-0000\n"
     ]
    }
   ],
   "source": [
    "# 이름, 주소, 전화 번호를 관리하는 Address라는 클래스를 선언해서 변수로 값을 저장해 보자\n",
    "# 정적 변수 : static 변수 (클래스.멤버변수)\n",
    "class Address :\n",
    "    name='Dominica'\n",
    "    addr = 'seoul'\n",
    "    tel = '02-0000-0000'\n",
    "    def prn(self) : # 멤버 메서드\n",
    "        print(Address.name, Address.addr, Address.tel)\n",
    "    \n",
    "if __name__ == '__main__' :\n",
    "    print(Address.name, Address.addr, Address.tel)\n",
    "    Address.name = '111111111'\n",
    "    print(Address.name, Address.addr, Address.tel)\n",
    "#     Address.prn()\n",
    "    \n",
    "    a1 = Address()\n",
    "    a1.prn()"
   ]
  },
  {
   "cell_type": "code",
   "execution_count": 36,
   "metadata": {},
   "outputs": [
    {
     "data": {
      "text/plain": [
       "'111111111'"
      ]
     },
     "execution_count": 36,
     "metadata": {},
     "output_type": "execute_result"
    }
   ],
   "source": [
    "Address.name"
   ]
  },
  {
   "cell_type": "markdown",
   "metadata": {},
   "source": [
    "- `__class__` : 인스턴스가 자신을 생성한 클래스 객체를 참조하기 위하여 파이썬에서는 제공하는 키워드로 클래스영역에 모든 인스턴스 객체에 있는 데이터를 참조하거나 수정할 때 사용한다."
   ]
  },
  {
   "cell_type": "markdown",
   "metadata": {},
   "source": [
    "| 사원번호 | 7월 영업실적 |\n",
    "| :-: | :-: |\n",
    "| a111 | 850 |\n",
    "| b111 | 750 |\n",
    "| c111 | 650 |"
   ]
  },
  {
   "cell_type": "markdown",
   "metadata": {},
   "source": [
    "Emp라는 클래스를 만들어서 변수를 2개 선언한 후 a1, b1, c1의 이름으로 객체를 생성한 다음 값을 전달 후 출력 해보자"
   ]
  },
  {
   "cell_type": "code",
   "execution_count": 44,
   "metadata": {},
   "outputs": [
    {
     "name": "stdout",
     "output_type": "stream",
     "text": [
      "a111 850\n",
      "b111 750\n",
      "c111 650\n",
      "0 0\n",
      "Emp <class 'type'> <class '__main__.Emp'> <class '__main__.Emp'>\n"
     ]
    }
   ],
   "source": [
    "class Emp :\n",
    "    empno = 0\n",
    "    result = 0\n",
    "    \n",
    "a1 = Emp()\n",
    "a1.empno = 'a111'\n",
    "a1.result = 850\n",
    "print(a1.empno, a1.result)\n",
    "\n",
    "b1 = Emp()\n",
    "b1.empno = 'b111'\n",
    "b1.result = 750\n",
    "print(b1.empno, b1.result)\n",
    "\n",
    "c1 = Emp()\n",
    "c1.empno = 'c111'\n",
    "c1.result = 650\n",
    "print(c1.empno, c1.result)\n",
    "\n",
    "print(Emp.empno, Emp.result)\n",
    "\n",
    "print(Emp.__name__, type(a1.__class__), b1.__class__, c1.__class__)"
   ]
  },
  {
   "cell_type": "markdown",
   "metadata": {},
   "source": [
    "# 캡슐화\n",
    "- 은닉된 멤버 변수에 오픈된 메서드로 값을 전달(setXX) 및 변경하는 구조(getXX return)"
   ]
  },
  {
   "cell_type": "code",
   "execution_count": 52,
   "metadata": {},
   "outputs": [
    {
     "name": "stdout",
     "output_type": "stream",
     "text": [
      "a 100\n"
     ]
    }
   ],
   "source": [
    "class Test :\n",
    "    __b=100 # 객체 생성 후 호출할 수 없고, Test의 멤버만 접근이 가능하다.\n",
    "    def __m(self) : # 한 문자를 리턴하는 private 메서드\n",
    "        return 'a'\n",
    "    def k(self) :\n",
    "        print(self.__m(), self.__b)\n",
    "    \n",
    "    \n",
    "my = Test()\n",
    "my.k()\n",
    "# print(my.__b) 오류... Test.__b도 안됌"
   ]
  },
  {
   "cell_type": "code",
   "execution_count": 61,
   "metadata": {},
   "outputs": [],
   "source": [
    "# 정수형 변수 a를 관리하는 클래스를 만들어보자. 단 캡슐화로 구현 해보자.\n",
    "# 은닉된 멤버 변수에게 setxx으로 값 전달 및 변경하고 getxx return 메서드로 리턴하는 구조\n",
    "class Test :\n",
    "    __a = 0\n",
    "    def setA(self, a) : # 객체 생성후 값을 a로 전달받아 멤버 __a에게 값 전달 및 변경\n",
    "        self.__a = a\n",
    "   \n",
    "    def getA(self) : # __a를 리턴해줌\n",
    "        return self.__a"
   ]
  },
  {
   "cell_type": "code",
   "execution_count": 66,
   "metadata": {},
   "outputs": [
    {
     "data": {
      "text/plain": [
       "0"
      ]
     },
     "execution_count": 66,
     "metadata": {},
     "output_type": "execute_result"
    }
   ],
   "source": [
    "t1 = Test()\n",
    "t1.getA()"
   ]
  },
  {
   "cell_type": "code",
   "execution_count": 67,
   "metadata": {},
   "outputs": [
    {
     "name": "stdout",
     "output_type": "stream",
     "text": [
      "10\n"
     ]
    }
   ],
   "source": [
    "t1.setA(10)\n",
    "print(t1.getA())"
   ]
  },
  {
   "cell_type": "code",
   "execution_count": 65,
   "metadata": {},
   "outputs": [],
   "source": [
    "# 정수형 변수 a, b를 관리하는 클래스를 만들어보자. 단 캡슐화로 구현 해보자.\n",
    "# 은닉된 멤버 변수에게 setxx으로 값 전달 및 변경하고 getxx return 메서드로 리턴하는 구조\n",
    "class Test :\n",
    "    __a = 0 # 주소 히든 private / 초기값은 생성자에서 대입\n",
    "    __b = 0\n",
    "    def setA(self, a) : # 객체 생성후 값을 a로 전달받아 멤버 __a에게 값 전달 및 변경\n",
    "        self.__a = a\n",
    "   \n",
    "    def getA(self) : # __a를 리턴해줌\n",
    "        return self.__a\n",
    "    \n",
    "    def setB(self, b) :\n",
    "        self.__b = b\n",
    "        \n",
    "    def getB(self) :\n",
    "        return self.__b"
   ]
  },
  {
   "cell_type": "code",
   "execution_count": 68,
   "metadata": {},
   "outputs": [
    {
     "name": "stdout",
     "output_type": "stream",
     "text": [
      "200\n"
     ]
    }
   ],
   "source": [
    "t1.setB(200)\n",
    "print(t1.getB())"
   ]
  },
  {
   "cell_type": "markdown",
   "metadata": {},
   "source": [
    "- OOP에서 접근제한자\n",
    "    - private(비공개), protected(상속시 공개), public(공개), default(현재 패키지에서만 공개)"
   ]
  },
  {
   "cell_type": "code",
   "execution_count": null,
   "metadata": {},
   "outputs": [],
   "source": []
  },
  {
   "cell_type": "markdown",
   "metadata": {},
   "source": [
    "# 클래스의 내장함수\n",
    "- 파이썬에서 사용되는 모든 클래스 안에서 사용할 수 있는 특별한 메서드를 말한다.\n",
    "- 클래스의 내장함수는 크게 (생성자, 소멸자), 연산자 오버로드, 기본 자료형 중 시퀀스자료형에서 사용되는 인덱싱 관련함수 등의 세가지로 나뉜다."
   ]
  },
  {
   "cell_type": "markdown",
   "metadata": {},
   "source": [
    "- 생성자 : ``__init__`` (initialization) 객체가 인스턴스화 될때 호출되는 특수 메서드\n",
    "- 소멸자 : ``__del__`` (destructor) 인스턴스가 소멸될 때 호출되는 특수 메서드"
   ]
  },
  {
   "cell_type": "code",
   "execution_count": 19,
   "metadata": {},
   "outputs": [
    {
     "ename": "SyntaxError",
     "evalue": "invalid syntax (<ipython-input-19-d83e68c83610>, line 18)",
     "output_type": "error",
     "traceback": [
      "\u001b[1;36m  File \u001b[1;32m\"<ipython-input-19-d83e68c83610>\"\u001b[1;36m, line \u001b[1;32m18\u001b[0m\n\u001b[1;33m    del\u001b[0m\n\u001b[1;37m        ^\u001b[0m\n\u001b[1;31mSyntaxError\u001b[0m\u001b[1;31m:\u001b[0m invalid syntax\n"
     ]
    }
   ],
   "source": [
    "# 생성자와 소멸자를 살펴보자.\n",
    "# 생성자를 명시하지 않으면 자동으로 내부호출되어 생성되고 명시하게 되면 명시된 생성자가 호출된다.\n",
    "# 생성자는 단 한번 객체를 생성할 때 자동 호출되며 해당클래스의 모든 멤버를 동적 할당 메모리로 로드하게 된다.\n",
    "# 생성자의 목적은 멤버변수 초기화\n",
    "\n",
    "class MyDel :\n",
    "    def __init__(self,a=100) : # 생성자\n",
    "        self.a = a\n",
    "        print('__init__')\n",
    "    \n",
    "    def __del__(self) : # 소멸자 객체가 소멸되는 시점에서 호출 되면서 리소스 해제\n",
    "        print('나 소거된다. 현재 클래스에서 호출되거나 참조한 다른 클래스를 멤버로 가질 때 소거한다.')\n",
    "    \n",
    "        \n",
    "if __name__ == '__main__' :\n",
    "    a1 = MyDel() # MyDel 이라는 클래스를 생성자를 호출하면서 객체 생성한다.\n",
    "    print(a1)\n",
    "\n",
    "#     del a1\n",
    "#     print('abcd')\n",
    "#     print('a = ',a1)\n",
    "#     a1 = MyDel()\n",
    "#     print('a=',a1)"
   ]
  },
  {
   "cell_type": "code",
   "execution_count": null,
   "metadata": {},
   "outputs": [],
   "source": []
  },
  {
   "cell_type": "markdown",
   "metadata": {},
   "source": [
    "# 오늘 수업 정리\n",
    "1. 클래스에 관한 전반적인 것\n",
    "2. 생성자, 소멸자\n",
    "3. 내일은 상속을 배우자. 그전 연산자 오버로드라는걸 배운다."
   ]
  },
  {
   "cell_type": "code",
   "execution_count": null,
   "metadata": {},
   "outputs": [],
   "source": []
  },
  {
   "cell_type": "markdown",
   "metadata": {},
   "source": [
    "# Tomorrow 수요일 (2021_04_28)\n",
    "- 12 : 00 ~ 12 : 45 - 1:1 질문시간\n",
    "- 02 : 10 ~ 03 : 00 - 1:1 질문시간"
   ]
  },
  {
   "cell_type": "markdown",
   "metadata": {},
   "source": [
    "과목 소모임 -> 미니프로젝트"
   ]
  },
  {
   "cell_type": "code",
   "execution_count": null,
   "metadata": {},
   "outputs": [],
   "source": []
  },
  {
   "cell_type": "code",
   "execution_count": null,
   "metadata": {},
   "outputs": [],
   "source": []
  },
  {
   "cell_type": "code",
   "execution_count": null,
   "metadata": {},
   "outputs": [],
   "source": [
    "# help(str)\n",
    "# help(super)"
   ]
  }
 ],
 "metadata": {
  "kernelspec": {
   "display_name": "Python 3",
   "language": "python",
   "name": "python3"
  },
  "language_info": {
   "codemirror_mode": {
    "name": "ipython",
    "version": 3
   },
   "file_extension": ".py",
   "mimetype": "text/x-python",
   "name": "python",
   "nbconvert_exporter": "python",
   "pygments_lexer": "ipython3",
   "version": "3.8.8"
  }
 },
 "nbformat": 4,
 "nbformat_minor": 4
}

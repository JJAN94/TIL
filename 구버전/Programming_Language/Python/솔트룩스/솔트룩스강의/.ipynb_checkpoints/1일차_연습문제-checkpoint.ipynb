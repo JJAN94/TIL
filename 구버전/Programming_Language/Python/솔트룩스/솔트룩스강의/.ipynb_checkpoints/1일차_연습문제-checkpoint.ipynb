{
 "cells": [
  {
   "cell_type": "markdown",
   "id": "3c07b127-9b7a-4dad-b4be-2476286bd435",
   "metadata": {},
   "source": [
    "1. 어떤 회원이 생년월일 입력란에 890724를 입력했을 때, 해당 문자를 연/월/일로 각각 나누어 출력"
   ]
  },
  {
   "cell_type": "code",
   "execution_count": 1,
   "id": "fab56327-509c-4cb8-83a0-9c318a74f4ff",
   "metadata": {},
   "outputs": [
    {
     "name": "stdout",
     "output_type": "stream",
     "text": [
      "열/월/일 : 1989/07/24\n"
     ]
    }
   ],
   "source": [
    "# 입력값은 그냥 int라 하겠음\n",
    "birth = 890724\n",
    "print(f'열/월/일 : 19{str(birth)[0:2]}/{str(birth)[2:4]}/{str(birth)[4:]}')"
   ]
  },
  {
   "cell_type": "markdown",
   "id": "fbb6b5e8-1b50-4e70-beb5-88ec47827b91",
   "metadata": {},
   "source": [
    "2. 어떤 유통회사의 유통일자가 20190603으로 입력되었을 때, 해당 문자를 2019-06-03으로 출력하기"
   ]
  },
  {
   "cell_type": "code",
   "execution_count": 2,
   "id": "bf592f19-e714-4e0e-b649-728e0814b889",
   "metadata": {},
   "outputs": [
    {
     "name": "stdout",
     "output_type": "stream",
     "text": [
      "2019-06-03\n"
     ]
    }
   ],
   "source": [
    "# 입력값은 그냥 int라 하겠음\n",
    "date = 20190603\n",
    "date = str(date)\n",
    "print(f'{date[0:4]}-{date[4:6]}-{date[6:]}')"
   ]
  },
  {
   "cell_type": "markdown",
   "id": "e3f590ed-7cc4-47ab-8f3d-4f3a1c3732e1",
   "metadata": {},
   "source": [
    "3. 어떤 고객이 휴대전화번호를 010-1234-5678으로 입력했을 때, 해당 문자를 010123456789로 출력하기"
   ]
  },
  {
   "cell_type": "code",
   "execution_count": 4,
   "id": "cf8ec92c-dc06-4b36-9fcd-2259336d5ecd",
   "metadata": {},
   "outputs": [
    {
     "name": "stdout",
     "output_type": "stream",
     "text": [
      "01012345678\n"
     ]
    }
   ],
   "source": [
    "number = '010-1234-5678'\n",
    "number = number.replace('-','')\n",
    "print(number)"
   ]
  },
  {
   "cell_type": "markdown",
   "id": "9b2ece01-30d5-48ca-8a4c-0a3209308394",
   "metadata": {},
   "source": [
    "4. 매장의 물품 명단 중 하나가 \"DAILY ESSENTIALS REFRESHING TONER REVIES\"로 되어 있을 때, 해당 품명을 소문자로 바꾸기"
   ]
  },
  {
   "cell_type": "code",
   "execution_count": null,
   "id": "5a66adad-24b9-4c93-ab27-de4b67390f5a",
   "metadata": {},
   "outputs": [],
   "source": []
  },
  {
   "cell_type": "code",
   "execution_count": 5,
   "id": "75900b62-af7c-4b87-9d9c-5dce245c6c99",
   "metadata": {},
   "outputs": [
    {
     "name": "stdout",
     "output_type": "stream",
     "text": [
      "daily essentials refreshing toner revies\n"
     ]
    }
   ],
   "source": [
    "sentence = \"DAILY ESSENTIALS REFRESHING TONER REVIES\"\n",
    "sentence = sentence.lower()\n",
    "print(sentence)"
   ]
  },
  {
   "cell_type": "markdown",
   "id": "4dd8e9f3-c2a4-401d-a9ba-1873ff4d9c64",
   "metadata": {},
   "source": [
    "5. 간단한 한영 사전 만들기\\\n",
    "1부터 10까지 한글을 입력하면 영어로 출력되는 프로그램"
   ]
  },
  {
   "cell_type": "code",
   "execution_count": 1,
   "id": "5e4a9571-04a8-4717-8128-80112b6ff641",
   "metadata": {},
   "outputs": [
    {
     "name": "stdout",
     "output_type": "stream",
     "text": [
      "one\n"
     ]
    }
   ],
   "source": [
    "def dictionary(word):\n",
    "    dictionary = {'일':'one', '이':'two', '삼':'three', '사':'four', '오':'five', '육':'six', '칠':'seven', '팔':'eight', '구':'nine', '십':'ten'}\n",
    "    print(dictionary[word])\n",
    "\n",
    "dictionary('일')"
   ]
  },
  {
   "cell_type": "markdown",
   "id": "1ca47490-d312-4180-8739-e5998da689dc",
   "metadata": {},
   "source": [
    "6. 아래의 리스트(list)를 선언하고 중복 값을 제거하여 출력해 보기"
   ]
  },
  {
   "cell_type": "code",
   "execution_count": 2,
   "id": "2ee80466-8935-4ef4-8231-5a80c5548a44",
   "metadata": {},
   "outputs": [
    {
     "name": "stdout",
     "output_type": "stream",
     "text": [
      "[1, 3, 4, 5, 7, 8, 13]\n"
     ]
    }
   ],
   "source": [
    "ls = [1,1,1,1,3,3,3,4,5,5,4,5,7,8,13]\n",
    "print(list(set(ls)))"
   ]
  },
  {
   "cell_type": "markdown",
   "id": "6138a651-d613-4721-a869-3ed1325ee03c",
   "metadata": {},
   "source": [
    "7. 값을 입력받아 원의 넓이를 구하는 프로그램 만들기"
   ]
  },
  {
   "cell_type": "code",
   "execution_count": 5,
   "id": "6af34501-9eeb-408e-adad-e0afa3e5d57d",
   "metadata": {},
   "outputs": [
    {
     "name": "stdin",
     "output_type": "stream",
     "text": [
      " 3\n"
     ]
    },
    {
     "name": "stdout",
     "output_type": "stream",
     "text": [
      "28.274333882308138\n"
     ]
    }
   ],
   "source": [
    "import math\n",
    "radius = int(input())\n",
    "\n",
    "print(math.pi*(radius**2))"
   ]
  },
  {
   "cell_type": "markdown",
   "id": "59ec2d08-3874-4e18-951d-b95bcef53558",
   "metadata": {},
   "source": [
    "8. 값(x)을 입력받아 아래의 함수 계산하기 (y구하기)"
   ]
  },
  {
   "cell_type": "code",
   "execution_count": 9,
   "id": "cc9acad3-467e-4182-9e69-52a4cb7354ea",
   "metadata": {},
   "outputs": [
    {
     "name": "stdin",
     "output_type": "stream",
     "text": [
      " 3\n"
     ]
    },
    {
     "name": "stdout",
     "output_type": "stream",
     "text": [
      "y1 : 106, y2 : 31, y3 : 4.0\n"
     ]
    }
   ],
   "source": [
    "x = int(input())\n",
    "y1 = x**2 - x + 100\n",
    "y2 = 2*x + 25\n",
    "y3 = (x**2 + x) / x\n",
    "print(f'y1 : {y1}, y2 : {y2}, y3 : {y3}')"
   ]
  },
  {
   "cell_type": "code",
   "execution_count": null,
   "id": "aba81638-b9aa-4d92-978a-43fabef8297f",
   "metadata": {},
   "outputs": [],
   "source": []
  }
 ],
 "metadata": {
  "kernelspec": {
   "display_name": "Python 3",
   "language": "python",
   "name": "python3"
  },
  "language_info": {
   "codemirror_mode": {
    "name": "ipython",
    "version": 3
   },
   "file_extension": ".py",
   "mimetype": "text/x-python",
   "name": "python",
   "nbconvert_exporter": "python",
   "pygments_lexer": "ipython3",
   "version": "3.8.8"
  }
 },
 "nbformat": 4,
 "nbformat_minor": 5
}

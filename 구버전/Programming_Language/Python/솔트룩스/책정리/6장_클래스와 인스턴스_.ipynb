{
 "cells": [
  {
   "cell_type": "markdown",
   "id": "3766770f-1196-4487-83d6-f679d3a2bc97",
   "metadata": {},
   "source": [
    "# 6.1 파이썬의 클래스 구조\n",
    "class란 객체 타입을 정의하는 기능이다.\\\n",
    "클래스 기반으로 생성된 객체는 인스턴스(instance)라고 불리며, 같은 클래스의 여러 인스턴스는 같은 특성을 가지면서 각각 독립된 상태를 유지한다."
   ]
  },
  {
   "cell_type": "markdown",
   "id": "2c3ad228-7691-4fb7-84a4-8be3938333a3",
   "metadata": {},
   "source": [
    "## 6.1.1 class 키워드를 이용한 클래스 정의\n",
    "```python\n",
    "class 클래스명(베이스 클래스명):\n",
    "    def 메소드명(인수1, 인수2, ...):\n",
    "        메소드에서 실행할 처리\n",
    "        return 반환값\n",
    "```\n"
   ]
  },
  {
   "cell_type": "markdown",
   "id": "2c75efd6-45eb-42c4-b96b-5dec87b8840f",
   "metadata": {},
   "source": [
    "베이스 클래스(base class) : 지정한 베이스 클래스의 특성을 상속해 서브 클래스를 정의할 수 있다.\\\n",
    "() 또는 생략하면 최상위 클래스인 object 클래스를 상속한다.\\\n",
    "메소드(method)란 클래스에 종속된 처리를 말한다."
   ]
  },
  {
   "cell_type": "code",
   "execution_count": 3,
   "id": "1e16be46-8746-4439-b18b-2aefb9131cfa",
   "metadata": {},
   "outputs": [
    {
     "data": {
      "text/plain": [
       "__main__.Page"
      ]
     },
     "execution_count": 3,
     "metadata": {},
     "output_type": "execute_result"
    }
   ],
   "source": [
    "class Page: # 클래스 정의\n",
    "    def __init__(self, num, content):\n",
    "        self.num = num # 페이지 번호\n",
    "        self.content = content # 페이지 내용\n",
    "        \n",
    "    def output(self):\n",
    "        return f'{self.content}'\n",
    "    \n",
    "Page # 클래스 객체 Page가 정의됨"
   ]
  },
  {
   "cell_type": "code",
   "execution_count": 4,
   "id": "c41f4ff0-4056-4c36-a5e2-75a646350c2c",
   "metadata": {},
   "outputs": [
    {
     "name": "stdout",
     "output_type": "stream",
     "text": [
      "<class '__main__.Page'>\n"
     ]
    }
   ],
   "source": [
    "print(Page)"
   ]
  },
  {
   "cell_type": "markdown",
   "id": "f67d0e9c-b340-4100-9a2d-5ffb298f24e7",
   "metadata": {},
   "source": [
    "num, content라는 두개의 속성을 가진다. 이들은 인스턴스별로 고유의 값이 되므로 인스턴스 변수(instance variable)이라 한다.\\\n",
    "`__init__()`과 `output()`은 이 클래스가 가진 메소드다."
   ]
  },
  {
   "cell_type": "markdown",
   "id": "2fd02648-35dd-4e31-9055-9057c995cb38",
   "metadata": {},
   "source": [
    "## 6.1.2 인스턴스 만들기\n",
    "클래스 객체에 ()를 붙여서 호출하면 인스턴스를 만들 수 있다. (이를 인스턴스화(instantiation)이라 한다.)\\\n",
    "이때 클래스 객체에 전달되는 인수를 `__init__()` 메소드를 전달해 인스턴스 초기화에 이용한다."
   ]
  },
  {
   "cell_type": "code",
   "execution_count": 7,
   "id": "6705fb8c-e98c-4958-a454-2f711026b713",
   "metadata": {},
   "outputs": [
    {
     "name": "stdout",
     "output_type": "stream",
     "text": [
      "<class '__main__.Page'>\n",
      "True\n",
      "['__class__', '__delattr__', '__dict__', '__dir__', '__doc__', '__eq__', '__format__', '__ge__', '__getattribute__', '__gt__', '__hash__', '__init__', '__init_subclass__', '__le__', '__lt__', '__module__', '__ne__', '__new__', '__reduce__', '__reduce_ex__', '__repr__', '__setattr__', '__sizeof__', '__str__', '__subclasshook__', '__weakref__', 'content', 'num', 'output']\n"
     ]
    }
   ],
   "source": [
    "# 인스턴스화\n",
    "title_page = Page(0, 'Python Practice Book')\n",
    "print(type(title_page)) # 인스턴스의 클래스를 확인함\n",
    "\n",
    "# Page 클래스의 인스턴스인지 확인함\n",
    "print(isinstance(title_page, Page))\n",
    "\n",
    "# 인스턴스가 가진 속성을 확인함\n",
    "print(dir(title_page))"
   ]
  },
  {
   "cell_type": "code",
   "execution_count": null,
   "id": "b57604c2-19ab-49be-a281-a3166c445753",
   "metadata": {},
   "outputs": [],
   "source": []
  },
  {
   "cell_type": "markdown",
   "id": "e38c9a74-8549-46dc-86da-316ae5c5802a",
   "metadata": {},
   "source": [
    "# 6.2 인스턴스 - 클래스를 기반으로 만들어진 객체\n",
    "인스턴스(instance)는 클래스 정의의 내용에 기술된 메소드나 변수를 가지고 있다.\\\n",
    "인스턴스가 가진 메소드를 인스턴스 메소드(instance method)라고 한다.\\\n",
    "인스턴스 메소드에서는 그 처리 중에 인스턴스 자신에게 접속할 수 있다. 인스턴스가 가진 인스턴스 변수는 각각 인스턴스 고유의 독립 데이터다."
   ]
  },
  {
   "cell_type": "markdown",
   "id": "2e36781d-d7fe-4b73-814b-1650aa78c707",
   "metadata": {},
   "source": [
    "## 6.2.1 인스턴스 메소드 - 인스턴스에 묶인 메소드\n",
    "인스턴스 메소드 정의는 함수 정의와 거의 같다.\\\n",
    "첫 번째 인수에는 반드시 인스턴스 자신의 객체를 전달해야 하므로 가인수 이름에는 관례적으로 self를 붙인다."
   ]
  },
  {
   "cell_type": "code",
   "execution_count": 8,
   "id": "4910cca2-9269-4832-8cb1-fc931d152007",
   "metadata": {},
   "outputs": [
    {
     "data": {
      "text/plain": [
       "'Python Practice Book'"
      ]
     },
     "execution_count": 8,
     "metadata": {},
     "output_type": "execute_result"
    }
   ],
   "source": [
    "title_page.output() # 인스턴스 메소드 호출\n",
    "# 호출시 인수를 전달하지는 않지만, 인스턴스 메소드의 첫 번째 인수 self에는 인스턴스 메소드를 실행한 인스턴스 객체 자신을 전달한다."
   ]
  },
  {
   "cell_type": "markdown",
   "id": "c683bfc7-099f-4291-acb4-d6b9d15d5cad",
   "metadata": {},
   "source": [
    "### ▣ 메소드 객체와 함수 객체"
   ]
  },
  {
   "cell_type": "code",
   "execution_count": 9,
   "id": "cf082f4e-f5de-481a-ae84-12aadde7b612",
   "metadata": {},
   "outputs": [
    {
     "name": "stdout",
     "output_type": "stream",
     "text": [
      "<class 'function'>\n",
      "<class 'function'>\n"
     ]
    }
   ],
   "source": [
    "class Klass:\n",
    "    def some_method(self): # 인스턴스 메소드 정의\n",
    "        print('method')\n",
    "        \n",
    "def some_function(self): # 같은 인수의 함수 정의\n",
    "    print('function')\n",
    "    \n",
    "    \n",
    "# 함수는 function 클래스의 인스턴스임\n",
    "print(type(some_function))\n",
    "\n",
    "# 인스턴스 메소드도 function 클래스의 인스턴스\n",
    "print(type(Klass.some_method))"
   ]
  },
  {
   "cell_type": "code",
   "execution_count": 10,
   "id": "7f124ff6-de95-4f6d-9793-85572ddf93f5",
   "metadata": {},
   "outputs": [
    {
     "name": "stdout",
     "output_type": "stream",
     "text": [
      "<class 'method'>\n"
     ]
    }
   ],
   "source": [
    "# 인스턴스를 통해 접근하면 method 클래스가 됨\n",
    "kls = Klass()\n",
    "print(type(kls.some_method))"
   ]
  },
  {
   "cell_type": "markdown",
   "id": "8f06d7c2-2e88-4338-bb81-c38068a0545d",
   "metadata": {},
   "source": [
    "## 6.2.2 인스턴스 변수 - 인스턴스가 유지하는 변수\n",
    "인스턴스의 속성에 값을 대입해 인스턴스 변수를 정의할 수 있다.  인스턴스 변수는 각 인스턴스가 독립적으로 가진다."
   ]
  },
  {
   "cell_type": "code",
   "execution_count": 11,
   "id": "9ccf104b-bded-4d30-b87d-efa3404d99d9",
   "metadata": {},
   "outputs": [
    {
     "data": {
      "text/plain": [
       "0"
      ]
     },
     "execution_count": 11,
     "metadata": {},
     "output_type": "execute_result"
    }
   ],
   "source": [
    "title_page.section = 0\n",
    "title_page.section"
   ]
  },
  {
   "cell_type": "code",
   "execution_count": 15,
   "id": "554fd767-2e2f-4b21-aee1-e0a9375677ac",
   "metadata": {},
   "outputs": [
    {
     "ename": "AttributeError",
     "evalue": "'Page' object has no attribute 'section'",
     "output_type": "error",
     "traceback": [
      "\u001b[1;31m---------------------------------------------------------------------------\u001b[0m",
      "\u001b[1;31mAttributeError\u001b[0m                            Traceback (most recent call last)",
      "\u001b[1;32m<ipython-input-15-622c9b4a10cc>\u001b[0m in \u001b[0;36m<module>\u001b[1;34m\u001b[0m\n\u001b[0;32m      1\u001b[0m \u001b[0mfirst_page\u001b[0m \u001b[1;33m=\u001b[0m \u001b[0mPage\u001b[0m\u001b[1;33m(\u001b[0m\u001b[1;36m1\u001b[0m\u001b[1;33m,\u001b[0m \u001b[1;34m'first page'\u001b[0m\u001b[1;33m)\u001b[0m\u001b[1;33m\u001b[0m\u001b[1;33m\u001b[0m\u001b[0m\n\u001b[1;32m----> 2\u001b[1;33m \u001b[0mfirst_page\u001b[0m\u001b[1;33m.\u001b[0m\u001b[0msection\u001b[0m\u001b[1;33m\u001b[0m\u001b[1;33m\u001b[0m\u001b[0m\n\u001b[0m",
      "\u001b[1;31mAttributeError\u001b[0m: 'Page' object has no attribute 'section'"
     ]
    }
   ],
   "source": [
    "first_page = Page(1, 'first page')\n",
    "first_page.section # section은 title_page에 지정해 준거지 first_page에는 없다."
   ]
  },
  {
   "cell_type": "markdown",
   "id": "56ff9e06-f8d5-44dc-b797-654101606fa1",
   "metadata": {},
   "source": [
    "## 6.2.3 인스턴스 초기화\n",
    "Page클래스 인스턴스에 공통으로 인스턴스 변수 section을 갖도록 하고 싶다.\\\n",
    "이때 사용하는 메소드가 `__init__()`이다. (`__`이 붙어 있는 메소드를 특수 메소드 라고 한다.(special method or magic method)"
   ]
  },
  {
   "cell_type": "markdown",
   "id": "e31f341c-150d-4e47-a0a4-d0568e0fd925",
   "metadata": {},
   "source": [
    "### ▣ __init__() - 인스턴스 초기화를 수행하는 특수 메소드\n",
    "특수 메소드 `__init__()`은 인스턴스 생성 직후에 자동 호출된다.\\\n",
    "일반적인 인스턴스 메소드와 같이 첫 번째 인수에 인스턴스 자신이 전달된다.\\\n",
    "인스턴스화 시에 전달된 값이 두 번째 인수 이후에 그대로 전달되므로 이 값들을 이용할 수 있다.\n",
    "> 즉 메소드 __init__()은 인스턴스의 초기화에 이용할 수 있고, 여기에서 인스턴스에 속성을 추가하면 이 클래스의 모든 인스턴스가 그 속성을 갖게 된다."
   ]
  },
  {
   "cell_type": "code",
   "execution_count": 17,
   "id": "acd7c4b7-4188-45d1-be26-aeaff716b659",
   "metadata": {},
   "outputs": [],
   "source": [
    "# 클래스 정의\n",
    "class Page:\n",
    "    def __init__(self, num, content, section=None):\n",
    "        self.num = num\n",
    "        self.content = content\n",
    "        self.section = section\n",
    "        \n",
    "    def output(self):\n",
    "        return f'{self.content}'"
   ]
  },
  {
   "cell_type": "markdown",
   "id": "3dac525c-98a7-4450-a529-ab6e18eeaeed",
   "metadata": {},
   "source": [
    "### ▣ 인수를 전달해 인스턴스화 하기"
   ]
  },
  {
   "cell_type": "code",
   "execution_count": 18,
   "id": "6fe8ff1f-d799-4d1f-a736-6383f33aa65f",
   "metadata": {},
   "outputs": [
    {
     "name": "stdout",
     "output_type": "stream",
     "text": [
      "None\n",
      "python practice book\n"
     ]
    }
   ],
   "source": [
    "# 인스턴스 작성\n",
    "title_page = Page(0, 'python practice book')\n",
    "print(title_page.section)\n",
    "print(title_page.output())"
   ]
  },
  {
   "cell_type": "code",
   "execution_count": 20,
   "id": "7818b901-fe01-4a16-b00c-65cb7409a00a",
   "metadata": {},
   "outputs": [
    {
     "name": "stdout",
     "output_type": "stream",
     "text": [
      "1\n",
      "first page\n"
     ]
    }
   ],
   "source": [
    "# section을 지정해주고 인스턴스화\n",
    "first_page = Page(1, 'first page', 1)\n",
    "print(first_page.section) # 이번엔 section이 지정됨\n",
    "print(first_page.output())"
   ]
  },
  {
   "cell_type": "markdown",
   "id": "6d74d376-972f-46d2-939a-9212ba0df11a",
   "metadata": {},
   "source": [
    "### ▣ __init__()과 __new()__의 차이 - 이니셜라이저와 컨스트럭터\n",
    "`__init__()` : 인스턴스 초기화에 사용하는 특스 메소드\n",
    "> 인스턴스 초기화라고 하면 다른 언어의 컨스트럭터(constructor)라 생각하는데 컨스트럭터는 인스턴스를 생성하는 처리를 의하한다.\n",
    "\n",
    "파이썬의 특수 메소드 `__init__()`은 인스턴스 생성 후 호출되는 점이 컨스트럭터와 다르다. 그러기에 이를 이니셜라이저(initializer)라고 부른다"
   ]
  },
  {
   "cell_type": "markdown",
   "id": "0745c0f8-7069-4c65-b605-207f6ac7fbfc",
   "metadata": {},
   "source": [
    "파이썬에서 컨스트럭터와 대응되는 특수 메소드는 `__new__()`이다.\\\n",
    "클래스 객체를 호출해 인스턴스화를 수행할 때, 우선 특수 메소드 `__new__()`를 호출한 뒤 그 반환값을 `__init__()`의 첫 번째 인수인 self로 전달한다 "
   ]
  },
  {
   "cell_type": "code",
   "execution_count": 21,
   "id": "ad895c82-ac29-47e2-8446-95e75799dfc8",
   "metadata": {},
   "outputs": [
    {
     "name": "stdout",
     "output_type": "stream",
     "text": [
      "cls=<class '__main__.Klass'>\n",
      "new (1, 2, 3)\n",
      "init (1, 2, 3)\n"
     ]
    }
   ],
   "source": [
    "class Klass:\n",
    "    def __new__(cls, *args): # 컨스트럭터\n",
    "        print(f'{cls=}')\n",
    "        print('new', args)\n",
    "        # 작성한 인스턴스를 반환함\n",
    "        return super().__new__(cls)\n",
    "    \n",
    "    def __init__(self, *args): # 이니셜라이저\n",
    "        # 인스턴스 초기화는 여기에서 수행함\n",
    "        print('init', args)\n",
    "        \n",
    "# 인스턴스화\n",
    "kls = Klass(1,2,3)"
   ]
  },
  {
   "cell_type": "markdown",
   "id": "5b2b162f-e39a-487c-845f-27abdb7c9814",
   "metadata": {},
   "source": [
    "> 특수 메소드 __new__()는 첫번째 인수가 그 클래스의 클래스 객체이기 때문에 클래스 메소드(class method)라고 부른다. 일반적으로 클래스 메소드는 @classmethod를 붙여 정의하지만 __new__()는 예외적으로 @classmethod를 붙이지 않아도 된다."
   ]
  },
  {
   "cell_type": "markdown",
   "id": "92418165-59a1-417d-b02d-5ba61531a5a1",
   "metadata": {},
   "source": [
    "### ▣ __new__() 사용시 주의점\n",
    "나중에 내용 추가"
   ]
  },
  {
   "cell_type": "markdown",
   "id": "9cd790d4-770b-4363-9435-3db5a4409dd8",
   "metadata": {},
   "source": [
    "## 6.2.4 프로퍼티 - 인스턴스 메소드를 인스턴스 변수와 같이 다룸"
   ]
  },
  {
   "cell_type": "code",
   "execution_count": 22,
   "id": "f9b9e04c-a3b7-4495-a4ad-5be2a13ce7d3",
   "metadata": {},
   "outputs": [],
   "source": [
    "class Book:\n",
    "    def __init__(self, raw_price):\n",
    "        if raw_price < 0:\n",
    "            raise ValueError('price must be positive')\n",
    "        self.raw_price = raw_price\n",
    "        self._discounts = 0\n",
    "    \n",
    "    @property\n",
    "    def discounts(self):\n",
    "        return self._discounts\n",
    "    \n",
    "    @discounts.setter\n",
    "    def discounts(self, value):\n",
    "        if value < 0 or 100 < value:\n",
    "            raise ValueError('discounts must be between 0 and 100')\n",
    "        self._discounts = value\n",
    "        \n",
    "    @property\n",
    "    def price(self):\n",
    "        multi = 100 - self._discounts\n",
    "        return int(self.raw_price * multi / 100)"
   ]
  },
  {
   "cell_type": "markdown",
   "id": "cd29474a-98c7-491f-93ed-6dfa8c81070e",
   "metadata": {},
   "source": [
    "- 인스턴스 변수와 같이 price와 discounts에 접근할 수 있는가?\n",
    "- 할인율이 가격에 반영되어 있는가?\n",
    "- 할인율에 정확하지 않은 값이 설정되어 있지 않은가?"
   ]
  },
  {
   "cell_type": "code",
   "execution_count": 23,
   "id": "9e62c749-3bd6-4a58-aa12-c7ed39698c1b",
   "metadata": {},
   "outputs": [
    {
     "name": "stdout",
     "output_type": "stream",
     "text": [
      "0\n",
      "2000\n",
      "1600\n"
     ]
    },
    {
     "ename": "ValueError",
     "evalue": "discounts must be between 0 and 100",
     "output_type": "error",
     "traceback": [
      "\u001b[1;31m---------------------------------------------------------------------------\u001b[0m",
      "\u001b[1;31mValueError\u001b[0m                                Traceback (most recent call last)",
      "\u001b[1;32m<ipython-input-23-0ca989b88db8>\u001b[0m in \u001b[0;36m<module>\u001b[1;34m\u001b[0m\n\u001b[0;32m      8\u001b[0m \u001b[0mprint\u001b[0m\u001b[1;33m(\u001b[0m\u001b[0mbook\u001b[0m\u001b[1;33m.\u001b[0m\u001b[0mprice\u001b[0m\u001b[1;33m)\u001b[0m \u001b[1;31m# 할인 후의 가격\u001b[0m\u001b[1;33m\u001b[0m\u001b[1;33m\u001b[0m\u001b[0m\n\u001b[0;32m      9\u001b[0m \u001b[1;33m\u001b[0m\u001b[0m\n\u001b[1;32m---> 10\u001b[1;33m \u001b[0mbook\u001b[0m\u001b[1;33m.\u001b[0m\u001b[0mdiscounts\u001b[0m \u001b[1;33m=\u001b[0m \u001b[1;36m120\u001b[0m \u001b[1;31m# 할인율이 100을 초과하면 에러 발생\u001b[0m\u001b[1;33m\u001b[0m\u001b[1;33m\u001b[0m\u001b[0m\n\u001b[0m",
      "\u001b[1;32m<ipython-input-22-08b341175901>\u001b[0m in \u001b[0;36mdiscounts\u001b[1;34m(self, value)\u001b[0m\n\u001b[0;32m     13\u001b[0m     \u001b[1;32mdef\u001b[0m \u001b[0mdiscounts\u001b[0m\u001b[1;33m(\u001b[0m\u001b[0mself\u001b[0m\u001b[1;33m,\u001b[0m \u001b[0mvalue\u001b[0m\u001b[1;33m)\u001b[0m\u001b[1;33m:\u001b[0m\u001b[1;33m\u001b[0m\u001b[1;33m\u001b[0m\u001b[0m\n\u001b[0;32m     14\u001b[0m         \u001b[1;32mif\u001b[0m \u001b[0mvalue\u001b[0m \u001b[1;33m<\u001b[0m \u001b[1;36m0\u001b[0m \u001b[1;32mor\u001b[0m \u001b[1;36m100\u001b[0m \u001b[1;33m<\u001b[0m \u001b[0mvalue\u001b[0m\u001b[1;33m:\u001b[0m\u001b[1;33m\u001b[0m\u001b[1;33m\u001b[0m\u001b[0m\n\u001b[1;32m---> 15\u001b[1;33m             \u001b[1;32mraise\u001b[0m \u001b[0mValueError\u001b[0m\u001b[1;33m(\u001b[0m\u001b[1;34m'discounts must be between 0 and 100'\u001b[0m\u001b[1;33m)\u001b[0m\u001b[1;33m\u001b[0m\u001b[1;33m\u001b[0m\u001b[0m\n\u001b[0m\u001b[0;32m     16\u001b[0m         \u001b[0mself\u001b[0m\u001b[1;33m.\u001b[0m\u001b[0m_discounts\u001b[0m \u001b[1;33m=\u001b[0m \u001b[0mvalue\u001b[0m\u001b[1;33m\u001b[0m\u001b[1;33m\u001b[0m\u001b[0m\n\u001b[0;32m     17\u001b[0m \u001b[1;33m\u001b[0m\u001b[0m\n",
      "\u001b[1;31mValueError\u001b[0m: discounts must be between 0 and 100"
     ]
    }
   ],
   "source": [
    "book = Book(2000)\n",
    "print(book.discounts) # 초기 할인율 0\n",
    "\n",
    "print(book.price) # 초기 가격 2000\n",
    "\n",
    "book.discounts = 20 # 할인율 설정\n",
    "\n",
    "print(book.price) # 할인 후의 가격\n",
    "\n",
    "book.discounts = 120 # 할인율이 100을 초과하면 에러 발생"
   ]
  },
  {
   "cell_type": "markdown",
   "id": "d7cb3c6f-8afc-438d-a09e-b62ae2090306",
   "metadata": {},
   "source": [
    "### ▣ property - 값을 얻을 때 호출되는 메소드\n",
    "함수 정의 위에 @property를 붙이면 인스턴스 메소드는 ()를 붙이지 않고도 호출 가능하다.\\\n",
    "> @를 붙여 메소드를 수식하는 기능을 데커레이터(decorator)라고 한다. \n",
    "\n",
    "book.discounts에 접근하면 실제론 인스턴스 변수 \\_discounts에 저장된 값이 반환된다.\\\n",
    "book.price는 \\_discounts에 설정된 값이 반영된다.\\\n",
    "인스턴스 메소드를 마치 인스턴스 변수처럼 다루는 기능을 프로퍼티(property)라고 부른다.\\\n",
    "@property가 붙은 메소드는 값을 얻을 때 호출되기 떄문에 getter라고도 부른다.(프로퍼티는 getter, setter, deleter가 있다.)"
   ]
  },
  {
   "cell_type": "markdown",
   "id": "25c9cdff-932f-4bd7-be3e-92bcbb524507",
   "metadata": {},
   "source": [
    "### ▣ setter - 값을 설정할 때 호출되는 메소드\n",
    "@discounts.setter가 붙어있는 인스턴스 메소드 discounts()를 setter라고 불리며, book.discounts=20과 같이 값을 대입할 때 호출된다.\\\n",
    "메소드 이름에는 @property를 붙인 메소드명을 그대로 써야한다."
   ]
  },
  {
   "cell_type": "code",
   "execution_count": 24,
   "id": "de16eda6-c2ec-4c27-a0b3-d98ea66699fa",
   "metadata": {},
   "outputs": [
    {
     "ename": "ValueError",
     "evalue": "discounts must be between 0 and 100",
     "output_type": "error",
     "traceback": [
      "\u001b[1;31m---------------------------------------------------------------------------\u001b[0m",
      "\u001b[1;31mValueError\u001b[0m                                Traceback (most recent call last)",
      "\u001b[1;32m<ipython-input-24-b154cf6f169f>\u001b[0m in \u001b[0;36m<module>\u001b[1;34m\u001b[0m\n\u001b[1;32m----> 1\u001b[1;33m \u001b[0mbook\u001b[0m\u001b[1;33m.\u001b[0m\u001b[0mdiscounts\u001b[0m\u001b[1;33m=\u001b[0m\u001b[1;33m-\u001b[0m\u001b[1;36m20\u001b[0m\u001b[1;33m\u001b[0m\u001b[1;33m\u001b[0m\u001b[0m\n\u001b[0m",
      "\u001b[1;32m<ipython-input-22-08b341175901>\u001b[0m in \u001b[0;36mdiscounts\u001b[1;34m(self, value)\u001b[0m\n\u001b[0;32m     13\u001b[0m     \u001b[1;32mdef\u001b[0m \u001b[0mdiscounts\u001b[0m\u001b[1;33m(\u001b[0m\u001b[0mself\u001b[0m\u001b[1;33m,\u001b[0m \u001b[0mvalue\u001b[0m\u001b[1;33m)\u001b[0m\u001b[1;33m:\u001b[0m\u001b[1;33m\u001b[0m\u001b[1;33m\u001b[0m\u001b[0m\n\u001b[0;32m     14\u001b[0m         \u001b[1;32mif\u001b[0m \u001b[0mvalue\u001b[0m \u001b[1;33m<\u001b[0m \u001b[1;36m0\u001b[0m \u001b[1;32mor\u001b[0m \u001b[1;36m100\u001b[0m \u001b[1;33m<\u001b[0m \u001b[0mvalue\u001b[0m\u001b[1;33m:\u001b[0m\u001b[1;33m\u001b[0m\u001b[1;33m\u001b[0m\u001b[0m\n\u001b[1;32m---> 15\u001b[1;33m             \u001b[1;32mraise\u001b[0m \u001b[0mValueError\u001b[0m\u001b[1;33m(\u001b[0m\u001b[1;34m'discounts must be between 0 and 100'\u001b[0m\u001b[1;33m)\u001b[0m\u001b[1;33m\u001b[0m\u001b[1;33m\u001b[0m\u001b[0m\n\u001b[0m\u001b[0;32m     16\u001b[0m         \u001b[0mself\u001b[0m\u001b[1;33m.\u001b[0m\u001b[0m_discounts\u001b[0m \u001b[1;33m=\u001b[0m \u001b[0mvalue\u001b[0m\u001b[1;33m\u001b[0m\u001b[1;33m\u001b[0m\u001b[0m\n\u001b[0;32m     17\u001b[0m \u001b[1;33m\u001b[0m\u001b[0m\n",
      "\u001b[1;31mValueError\u001b[0m: discounts must be between 0 and 100"
     ]
    }
   ],
   "source": [
    "book.discounts=-20"
   ]
  },
  {
   "cell_type": "markdown",
   "id": "5adc0d6b-762e-4aae-b176-3ff4409263c3",
   "metadata": {},
   "source": [
    "또한 @price.setter를 붙인 인스턴스 메소드는 정의되어있지않음. 그래서 값을 못받음."
   ]
  },
  {
   "cell_type": "code",
   "execution_count": 25,
   "id": "cc280661-67e9-4d25-b08d-d32c9dd1f3da",
   "metadata": {},
   "outputs": [
    {
     "ename": "AttributeError",
     "evalue": "can't set attribute",
     "output_type": "error",
     "traceback": [
      "\u001b[1;31m---------------------------------------------------------------------------\u001b[0m",
      "\u001b[1;31mAttributeError\u001b[0m                            Traceback (most recent call last)",
      "\u001b[1;32m<ipython-input-25-6b701f89f51f>\u001b[0m in \u001b[0;36m<module>\u001b[1;34m\u001b[0m\n\u001b[1;32m----> 1\u001b[1;33m \u001b[0mbook\u001b[0m\u001b[1;33m.\u001b[0m\u001b[0mprice\u001b[0m\u001b[1;33m=\u001b[0m\u001b[1;36m1000\u001b[0m\u001b[1;33m\u001b[0m\u001b[1;33m\u001b[0m\u001b[0m\n\u001b[0m",
      "\u001b[1;31mAttributeError\u001b[0m: can't set attribute"
     ]
    }
   ],
   "source": [
    "book.price=1000"
   ]
  },
  {
   "cell_type": "markdown",
   "id": "6438d7f6-5562-4b61-bfb7-52a65833c71f",
   "metadata": {},
   "source": [
    "## 6.2.5 클래스와 인스턴스의 프라이빗 속성\n",
    "언더스코어(\\_) : 공개할 필요 없는 내부용 프라이빗 변수를 표현할 때 쓴다."
   ]
  },
  {
   "cell_type": "markdown",
   "id": "a3c810e2-d2b7-45d5-a006-abfedeccb74f",
   "metadata": {},
   "source": [
    "### ▣ 언더스코어로 시작하는 속성\n",
    "변수나 메소드 앞 문자에 언더스코어(\\_)를 붙여 변수나 메소드가 프라이빗 속성임을 표현한다.\\\n",
    "\\_로 시작하는 속성이라도 참조하고자 하면 외부에서 참조할 수는 있음"
   ]
  },
  {
   "cell_type": "code",
   "execution_count": 27,
   "id": "cb9c9bf9-6170-4a0f-bea4-bad35b85d55e",
   "metadata": {},
   "outputs": [
    {
     "data": {
      "text/plain": [
       "20"
      ]
     },
     "execution_count": 27,
     "metadata": {},
     "output_type": "execute_result"
    }
   ],
   "source": [
    "book._discounts"
   ]
  },
  {
   "cell_type": "markdown",
   "id": "b7c04239-3db9-4e1c-b53b-3cb77481f2dd",
   "metadata": {},
   "source": [
    "### ▣ 언더스코어 2개로 시작하는 속성"
   ]
  },
  {
   "cell_type": "code",
   "execution_count": null,
   "id": "99a7abb2-96a2-4ec1-a689-a13264b7a64e",
   "metadata": {},
   "outputs": [],
   "source": []
  },
  {
   "cell_type": "code",
   "execution_count": null,
   "id": "16e7e2ab-4167-460f-8707-c4d70969a5c3",
   "metadata": {},
   "outputs": [],
   "source": []
  },
  {
   "cell_type": "code",
   "execution_count": null,
   "id": "f1ecb2be-55d8-4b07-9293-9ceccadbfa21",
   "metadata": {},
   "outputs": [],
   "source": []
  }
 ],
 "metadata": {
  "kernelspec": {
   "display_name": "Python 3",
   "language": "python",
   "name": "python3"
  },
  "language_info": {
   "codemirror_mode": {
    "name": "ipython",
    "version": 3
   },
   "file_extension": ".py",
   "mimetype": "text/x-python",
   "name": "python",
   "nbconvert_exporter": "python",
   "pygments_lexer": "ipython3",
   "version": "3.8.8"
  }
 },
 "nbformat": 4,
 "nbformat_minor": 5
}

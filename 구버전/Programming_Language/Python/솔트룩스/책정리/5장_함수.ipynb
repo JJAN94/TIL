{
 "cells": [
  {
   "cell_type": "markdown",
   "id": "513e5ab9-2e04-4f15-b434-3dfd5d215caf",
   "metadata": {},
   "source": [
    "# 5.1 함수 - 관련된 처리를 모음\n",
    "- 파이썬에서는 모든 데이터를 객체라고 부른다.\n",
    "- 객체에는 숫자값, 문자열 같은 값뿐만 아니라 다양한 데이터 타입, 클래스, 인스턴스도 포함\n",
    "- 파이썬에선 함수도 객체이며, 인수로 받은 데이터 또한 객체이므로 함수 객체를 다른 함수의 인수로 전달하거나 변수에 대입할 수 도 있다"
   ]
  },
  {
   "cell_type": "markdown",
   "id": "007fc935-d97f-47e0-a94b-d73605fbe1f0",
   "metadata": {},
   "source": [
    "## 5.1.1 함수 정의와 실행\n",
    "### ▣ 기본 Form\n",
    "```python\n",
    "def 함수명(인수1, 인수2, ...):\n",
    "    함수에서 실행할 처리\n",
    "    return 반환값\n",
    "```\n",
    "\n",
    "- 인수(argument) : 함수 안의 처리에서 사용할 수 있는 값으로, 인수가 없을  땐 ()로 쓴다.\n",
    "- 함수는 처리 결과를 반환값으로 호출자에게 반환한다.\n",
    "- 반환할 필요가 없을 땐 return 문을 생략한다."
   ]
  },
  {
   "cell_type": "code",
   "execution_count": 2,
   "id": "fb4f8554-53cc-40b3-9216-4daddb82d4e2",
   "metadata": {},
   "outputs": [
    {
     "name": "stdout",
     "output_type": "stream",
     "text": [
      "no content\n",
      "None\n"
     ]
    }
   ],
   "source": [
    "def print_page(): # 함수를 정의함\n",
    "    print('no content')\n",
    "    \n",
    "print(print_page()) # 함수를 실행함\n",
    "# no content를 출력하며 return 값이 없으므로 None을 리턴해줌"
   ]
  },
  {
   "cell_type": "markdown",
   "id": "984d3866-c56e-4647-9314-a0adc2634906",
   "metadata": {},
   "source": [
    "## 5.1.2 인수를 받는 함수\n",
    "함수 호출 시 ()에 값을 넣으면 그 값이 인수로 함수에 전달된다."
   ]
  },
  {
   "cell_type": "code",
   "execution_count": 3,
   "id": "546fa49b-9a38-4489-a84d-f3c6086f4d05",
   "metadata": {},
   "outputs": [
    {
     "name": "stdout",
     "output_type": "stream",
     "text": [
      "my contents\n"
     ]
    }
   ],
   "source": [
    "def print_page(content):\n",
    "    print(content)\n",
    "    \n",
    "print_page('my contents')"
   ]
  },
  {
   "cell_type": "code",
   "execution_count": 5,
   "id": "958a3598-f30c-4b7a-9c72-4ed13ffad37e",
   "metadata": {},
   "outputs": [
    {
     "ename": "TypeError",
     "evalue": "print_page() missing 1 required positional argument: 'content'",
     "output_type": "error",
     "traceback": [
      "\u001b[1;31m---------------------------------------------------------------------------\u001b[0m",
      "\u001b[1;31mTypeError\u001b[0m                                 Traceback (most recent call last)",
      "\u001b[1;32m~\\AppData\\Local\\Temp/ipykernel_9804/2284475618.py\u001b[0m in \u001b[0;36m<module>\u001b[1;34m\u001b[0m\n\u001b[0;32m      1\u001b[0m \u001b[1;31m# 인수 없이 호출하면 에러남\u001b[0m\u001b[1;33m\u001b[0m\u001b[1;33m\u001b[0m\u001b[1;33m\u001b[0m\u001b[0m\n\u001b[1;32m----> 2\u001b[1;33m \u001b[0mprint_page\u001b[0m\u001b[1;33m(\u001b[0m\u001b[1;33m)\u001b[0m\u001b[1;33m\u001b[0m\u001b[1;33m\u001b[0m\u001b[0m\n\u001b[0m",
      "\u001b[1;31mTypeError\u001b[0m: print_page() missing 1 required positional argument: 'content'"
     ]
    }
   ],
   "source": [
    "# 인수 없이 호출하면 에러남\n",
    "print_page()"
   ]
  },
  {
   "cell_type": "markdown",
   "id": "6c6c8beb-0462-47ef-951e-3d39b1b6be9d",
   "metadata": {},
   "source": [
    "## 5.1.3 함수는 객체\n",
    "함수도 객체이다. 함수를 정의하면 함수명의 이름과 똑같은 함수 객체(function object)가 만들어 진다."
   ]
  },
  {
   "cell_type": "markdown",
   "id": "0f36a17f-dace-4ce4-aeaf-d717bf8f4319",
   "metadata": {},
   "source": [
    "## 5.1.4 함수의 반환값"
   ]
  },
  {
   "cell_type": "markdown",
   "id": "ad9e1e50-c106-4e09-a97e-28463028ed7a",
   "metadata": {},
   "source": [
    "## 5.1.5 함수의 다양한 인수\n",
    "- 가인수 : 함수를 정의할 때 사용하는 인수\n",
    "- 실인수 : 함수를 호출할 때 전달하는 인수"
   ]
  },
  {
   "cell_type": "markdown",
   "id": "02a9d241-e910-4f4b-90a4-5f72f280d401",
   "metadata": {},
   "source": [
    "### ▣  위치 인수  - 가인수 이름을 지정하지 않고 실인수를 전달함\n",
    "위치 인수(positional argument) : 함수를 호출 할 때 가인수  이름을 지정하지 않고 전달하는 실인수"
   ]
  },
  {
   "cell_type": "code",
   "execution_count": 6,
   "id": "a46e7a70-aaf2-4dfd-84e3-5bd59151e6a4",
   "metadata": {},
   "outputs": [
    {
     "data": {
      "text/plain": [
       "3"
      ]
     },
     "execution_count": 6,
     "metadata": {},
     "output_type": "execute_result"
    }
   ],
   "source": [
    "def increment(page_num, last):\n",
    "    next_page = page_num + 1\n",
    "    if next_page <= last:\n",
    "        return next_page\n",
    "    raise ValueError('Invalid arguments')\n",
    "    \n",
    "increment(2, 10) # 위치 인수를 사용한 함수 호출 \n",
    "# 2, 10이라고 입력하면 위치에 맞게 page_num=2, last=10이 전달됨"
   ]
  },
  {
   "cell_type": "markdown",
   "id": "4d4c500a-bf7a-44bc-809b-14c694879b36",
   "metadata": {},
   "source": [
    "위치 인수를 사용한 함수 호출에서는 함수가 필요로  하는 인수 수와 전달된 실인수 수가 일치하지 않으면 TypeError가 나"
   ]
  },
  {
   "cell_type": "code",
   "execution_count": 8,
   "id": "47448a9f-6113-43e8-af17-199ff9ae1918",
   "metadata": {},
   "outputs": [
    {
     "ename": "TypeError",
     "evalue": "increment() missing 1 required positional argument: 'last'",
     "output_type": "error",
     "traceback": [
      "\u001b[1;31m---------------------------------------------------------------------------\u001b[0m",
      "\u001b[1;31mTypeError\u001b[0m                                 Traceback (most recent call last)",
      "\u001b[1;32m~\\AppData\\Local\\Temp/ipykernel_9804/2416665036.py\u001b[0m in \u001b[0;36m<module>\u001b[1;34m\u001b[0m\n\u001b[1;32m----> 1\u001b[1;33m \u001b[0mincrement\u001b[0m\u001b[1;33m(\u001b[0m\u001b[1;36m2\u001b[0m\u001b[1;33m)\u001b[0m\u001b[1;33m\u001b[0m\u001b[1;33m\u001b[0m\u001b[0m\n\u001b[0m",
      "\u001b[1;31mTypeError\u001b[0m: increment() missing 1 required positional argument: 'last'"
     ]
    }
   ],
   "source": [
    "increment(2)"
   ]
  },
  {
   "cell_type": "code",
   "execution_count": 9,
   "id": "413e7430-2cab-419b-b7c6-5f34ab912805",
   "metadata": {},
   "outputs": [
    {
     "ename": "TypeError",
     "evalue": "increment() takes 2 positional arguments but 3 were given",
     "output_type": "error",
     "traceback": [
      "\u001b[1;31m---------------------------------------------------------------------------\u001b[0m",
      "\u001b[1;31mTypeError\u001b[0m                                 Traceback (most recent call last)",
      "\u001b[1;32m~\\AppData\\Local\\Temp/ipykernel_9804/1274570831.py\u001b[0m in \u001b[0;36m<module>\u001b[1;34m\u001b[0m\n\u001b[1;32m----> 1\u001b[1;33m \u001b[0mincrement\u001b[0m\u001b[1;33m(\u001b[0m\u001b[1;36m2\u001b[0m\u001b[1;33m,\u001b[0m\u001b[1;36m10\u001b[0m\u001b[1;33m,\u001b[0m\u001b[1;36m3\u001b[0m\u001b[1;33m)\u001b[0m\u001b[1;33m\u001b[0m\u001b[1;33m\u001b[0m\u001b[0m\n\u001b[0m",
      "\u001b[1;31mTypeError\u001b[0m: increment() takes 2 positional arguments but 3 were given"
     ]
    }
   ],
   "source": [
    "increment(2,10,3)"
   ]
  },
  {
   "cell_type": "markdown",
   "id": "340d5bde-29ae-4bd6-b907-a64a5ad5e7ea",
   "metadata": {},
   "source": [
    "### ▣ 키워드 인수 - 가인수 이름을 지정해 실인수를 전달함\n",
    "키워드 인수(keyword argument) : 함수를 호출할 때 가인수 이름을 지정해서 전달하는 실인수\\\n",
    "키워드 인수를 사용하면 호출 순서는 호출 결과에 영향을 주지 않는다."
   ]
  },
  {
   "cell_type": "code",
   "execution_count": 10,
   "id": "78c1e334-9365-466b-9e84-04d749454d2c",
   "metadata": {},
   "outputs": [
    {
     "data": {
      "text/plain": [
       "3"
      ]
     },
     "execution_count": 10,
     "metadata": {},
     "output_type": "execute_result"
    }
   ],
   "source": [
    "increment(page_num=2, last=10)"
   ]
  },
  {
   "cell_type": "code",
   "execution_count": 11,
   "id": "242703c2-a09a-4f51-b270-6be4812bee39",
   "metadata": {},
   "outputs": [
    {
     "data": {
      "text/plain": [
       "3"
      ]
     },
     "execution_count": 11,
     "metadata": {},
     "output_type": "execute_result"
    }
   ],
   "source": [
    "# 순서를 바꿔도 결과는 같다\n",
    "increment(last=10, page_num=2)"
   ]
  },
  {
   "cell_type": "markdown",
   "id": "7f19e819-7ec5-40df-8c57-a7aa6b58ca0c",
   "metadata": {},
   "source": [
    "존재 하지 않는 가인수 이름을 지정해주면 에러난다."
   ]
  },
  {
   "cell_type": "code",
   "execution_count": 12,
   "id": "541ef775-e5cb-41a9-b543-e03b6776d4c0",
   "metadata": {},
   "outputs": [
    {
     "ename": "TypeError",
     "evalue": "increment() got an unexpected keyword argument 'first'",
     "output_type": "error",
     "traceback": [
      "\u001b[1;31m---------------------------------------------------------------------------\u001b[0m",
      "\u001b[1;31mTypeError\u001b[0m                                 Traceback (most recent call last)",
      "\u001b[1;32m~\\AppData\\Local\\Temp/ipykernel_9804/1867065918.py\u001b[0m in \u001b[0;36m<module>\u001b[1;34m\u001b[0m\n\u001b[1;32m----> 1\u001b[1;33m \u001b[0mincrement\u001b[0m\u001b[1;33m(\u001b[0m\u001b[0mpage_num\u001b[0m\u001b[1;33m=\u001b[0m\u001b[1;36m2\u001b[0m\u001b[1;33m,\u001b[0m \u001b[0mlast\u001b[0m\u001b[1;33m=\u001b[0m\u001b[1;36m10\u001b[0m\u001b[1;33m,\u001b[0m \u001b[0mfirst\u001b[0m\u001b[1;33m=\u001b[0m\u001b[1;36m1\u001b[0m\u001b[1;33m)\u001b[0m\u001b[1;33m\u001b[0m\u001b[1;33m\u001b[0m\u001b[0m\n\u001b[0m",
      "\u001b[1;31mTypeError\u001b[0m: increment() got an unexpected keyword argument 'first'"
     ]
    }
   ],
   "source": [
    "increment(page_num=2, last=10, first=1)"
   ]
  },
  {
   "cell_type": "markdown",
   "id": "178820ca-88be-4368-8bab-ecdb228289be",
   "metadata": {},
   "source": [
    "위치 인수와 키워드 인수를 조합할 때 반드시 앞에가 위치 인수, 뒤에가 키워드 인수를 써야한다"
   ]
  },
  {
   "cell_type": "code",
   "execution_count": 13,
   "id": "ed7426c0-7e6e-425b-9a18-ed4dee011357",
   "metadata": {},
   "outputs": [
    {
     "ename": "SyntaxError",
     "evalue": "positional argument follows keyword argument (Temp/ipykernel_9804/951782205.py, line 1)",
     "output_type": "error",
     "traceback": [
      "\u001b[1;36m  File \u001b[1;32m\"C:\\Users\\user\\AppData\\Local\\Temp/ipykernel_9804/951782205.py\"\u001b[1;36m, line \u001b[1;32m1\u001b[0m\n\u001b[1;33m    increment(page_num=2, 10)\u001b[0m\n\u001b[1;37m                          ^\u001b[0m\n\u001b[1;31mSyntaxError\u001b[0m\u001b[1;31m:\u001b[0m positional argument follows keyword argument\n"
     ]
    }
   ],
   "source": [
    "increment(page_num=2, 10)"
   ]
  },
  {
   "cell_type": "code",
   "execution_count": 14,
   "id": "68e5ae89-ee52-44a7-9ed4-4f7c95160431",
   "metadata": {},
   "outputs": [
    {
     "ename": "TypeError",
     "evalue": "increment() got multiple values for argument 'page_num'",
     "output_type": "error",
     "traceback": [
      "\u001b[1;31m---------------------------------------------------------------------------\u001b[0m",
      "\u001b[1;31mTypeError\u001b[0m                                 Traceback (most recent call last)",
      "\u001b[1;32m~\\AppData\\Local\\Temp/ipykernel_9804/1165944460.py\u001b[0m in \u001b[0;36m<module>\u001b[1;34m\u001b[0m\n\u001b[0;32m      1\u001b[0m \u001b[1;31m# 위치 인수 2가 먼저 가인수 page_num에 전달되면 에러가 발생함\u001b[0m\u001b[1;33m\u001b[0m\u001b[1;33m\u001b[0m\u001b[1;33m\u001b[0m\u001b[0m\n\u001b[1;32m----> 2\u001b[1;33m \u001b[0mincrement\u001b[0m\u001b[1;33m(\u001b[0m\u001b[1;36m2\u001b[0m\u001b[1;33m,\u001b[0m \u001b[0mpage_num\u001b[0m\u001b[1;33m=\u001b[0m\u001b[1;36m2\u001b[0m\u001b[1;33m)\u001b[0m\u001b[1;33m\u001b[0m\u001b[1;33m\u001b[0m\u001b[0m\n\u001b[0m",
      "\u001b[1;31mTypeError\u001b[0m: increment() got multiple values for argument 'page_num'"
     ]
    }
   ],
   "source": [
    "# 위치 인수 2가 먼저 가인수 page_num에 전달되면 에러가 발생함\n",
    "increment(2, page_num=2)"
   ]
  },
  {
   "cell_type": "markdown",
   "id": "f3332f50-3b10-4213-8716-4730a375cf61",
   "metadata": {},
   "source": [
    "### ▣ 기본값을 가진 인수 - 호출 시 실인수를 생략할 수 있는 인수\n",
    "default argument : 함수가 정의될 때 가인수에 기본값을 지정해 놓을 수 있다.\\\n",
    "값 전달이 안되면 기본값을 쓰게 된다."
   ]
  },
  {
   "cell_type": "code",
   "execution_count": 21,
   "id": "6798719d-6bfc-4519-b31e-e768b14d7bba",
   "metadata": {},
   "outputs": [],
   "source": [
    "# last에만 기본값을 지정\n",
    "def increment(page_num, last=10):\n",
    "    next_page = page_num + 1\n",
    "    if next_page <= last:\n",
    "        return next_page\n",
    "    else:\n",
    "        print('끝이다')"
   ]
  },
  {
   "cell_type": "code",
   "execution_count": 22,
   "id": "6c98948d-7c4f-4e13-8af5-2420b917f535",
   "metadata": {},
   "outputs": [
    {
     "data": {
      "text/plain": [
       "3"
      ]
     },
     "execution_count": 22,
     "metadata": {},
     "output_type": "execute_result"
    }
   ],
   "source": [
    "# last를 지정해 주지 않아도 10이 기본으로 사용된다.\n",
    "increment(2)"
   ]
  },
  {
   "cell_type": "code",
   "execution_count": 23,
   "id": "3d83a3b3-7584-40d0-b051-b299a02df3ef",
   "metadata": {},
   "outputs": [
    {
     "name": "stdout",
     "output_type": "stream",
     "text": [
      "끝이다\n"
     ]
    }
   ],
   "source": [
    "# 값을 지정해주면 지정값을 사용함\n",
    "increment(2,2)"
   ]
  },
  {
   "cell_type": "markdown",
   "id": "58b7008c-08d3-4889-b2b8-272880a05269",
   "metadata": {},
   "source": [
    "기본값이 있는 인수는 위치 인수보다 뒤에 위치해야 한다."
   ]
  },
  {
   "cell_type": "code",
   "execution_count": 25,
   "id": "f789cc2c-e63d-41f7-bc39-5dea54a4f3b6",
   "metadata": {},
   "outputs": [
    {
     "ename": "SyntaxError",
     "evalue": "non-default argument follows default argument (Temp/ipykernel_9804/1830464774.py, line 1)",
     "output_type": "error",
     "traceback": [
      "\u001b[1;36m  File \u001b[1;32m\"C:\\Users\\user\\AppData\\Local\\Temp/ipykernel_9804/1830464774.py\"\u001b[1;36m, line \u001b[1;32m1\u001b[0m\n\u001b[1;33m    def increment(page_num=0, last):\u001b[0m\n\u001b[1;37m                  ^\u001b[0m\n\u001b[1;31mSyntaxError\u001b[0m\u001b[1;31m:\u001b[0m non-default argument follows default argument\n"
     ]
    }
   ],
   "source": [
    "def increment(page_num=0, last):\n",
    "    pass\n",
    "# def increment(last, page_num=0)이라고 써야함"
   ]
  },
  {
   "cell_type": "markdown",
   "id": "ea3d4cc9-fcee-484f-8d20-743ae1d33d17",
   "metadata": {},
   "source": [
    "매개변수(parameter)란 함수의 정의에서 전달받은 인수를 함수 내부로 전달하기 위해 사용하는 변수를 의미합니다.\n",
    "\n",
    "인수(argument)란 함수가 호출될 때 함수로 값을 전달해주는 값을 말합니다."
   ]
  },
  {
   "cell_type": "markdown",
   "id": "fd72b267-9549-4795-9f11-9d15a7848c60",
   "metadata": {},
   "source": [
    "### ! 기본값의 함정 주의\n",
    "함수가 정의될 때 기본 매개변수 값은 왼쪽에서 오른쪽으로 값이 구해진다. 이는 한번 정의되면 그 값이 고정된다는 것.\\\n",
    "기본값이 특히 리스트나 딕셔너리와 같은 가변 객체일 때 중요하다. 만약 함수가 그 객체를 수정하면 그  결과 기본값이 수정된다.\\\n",
    "이를 회피하고자 기본값을 None을 넣고, 함수 바디에서 명시적으로 검사하는 것"
   ]
  },
  {
   "cell_type": "code",
   "execution_count": 36,
   "id": "13940d6e-ff3d-4bed-b54f-b1d3bbc5fb00",
   "metadata": {},
   "outputs": [
    {
     "name": "stdout",
     "output_type": "stream",
     "text": [
      "my content\n",
      "2021-12-08 15:02:41.247353\n",
      "my content 2\n",
      "2021-12-08 15:02:41.247353\n"
     ]
    }
   ],
   "source": [
    "from datetime import datetime\n",
    "# 기본값의 잘못된 사용 예시\n",
    "def print_page(content, timestamp=datetime.now()):\n",
    "    print(content)\n",
    "    print(timestamp)\n",
    "    \n",
    "print_page('my content')\n",
    "print_page('my content 2')"
   ]
  },
  {
   "cell_type": "markdown",
   "id": "03696b43-f0fc-4160-be0a-aa81eb65389e",
   "metadata": {},
   "source": [
    "두 번 실행 했는데 timestamp가 동일하다. 이를 다르게 작동하게 하려면 기본값은 None으로하고 추가처리를 해주면된다"
   ]
  },
  {
   "cell_type": "code",
   "execution_count": 40,
   "id": "ffa719c4-9b95-4e34-a5ce-868cb6063d2e",
   "metadata": {},
   "outputs": [
    {
     "name": "stdout",
     "output_type": "stream",
     "text": [
      "my content\n",
      "2021-12-08 15:06:05.493944\n",
      "새로운 시점을 출력해보자\n",
      "my content 2\n",
      "2021-12-08 15:06:05.494340\n"
     ]
    }
   ],
   "source": [
    "def print_page(content, timestamp=None):\n",
    "    if timestamp is None:\n",
    "        timestamp = datetime.now()\n",
    "    print(content)\n",
    "    print(timestamp)\n",
    "    \n",
    "print_page('my content')\n",
    "print('새로운 시점을 출력해보자')\n",
    "print_page('my content 2')"
   ]
  },
  {
   "cell_type": "markdown",
   "id": "6307520c-64b1-4560-9575-622a7646ef8a",
   "metadata": {},
   "source": [
    "### ▣ 길이가 변하는 위치 인수"
   ]
  },
  {
   "cell_type": "markdown",
   "id": "fb4f8d00-f6d2-4d91-b1e2-1eb055d5579f",
   "metadata": {},
   "source": [
    "길이가 변하는 인수(개수가 변하는 인수)를 받는 함수도 정의할 수 있다.\\\n",
    "\\*를 써서 정의할 수 있다.\\\n",
    "관습적으로 \\*args 라고 사용한다.\\\n",
    "\\*args는 가인수에 할당되지 않은 위치 인수를 튜플로 받는다.\\\n",
    "\\*args는 위치 인수보단 뒤, default args보단 앞"
   ]
  },
  {
   "cell_type": "code",
   "execution_count": 42,
   "id": "173f25da-5000-410d-bd07-afd30aab22b3",
   "metadata": {},
   "outputs": [],
   "source": [
    "def print_pages(content, *args):\n",
    "    print(content)\n",
    "    for more in args:\n",
    "        print('more : ',more)"
   ]
  },
  {
   "cell_type": "code",
   "execution_count": 43,
   "id": "80d97dc5-4475-4246-910b-12e68a752653",
   "metadata": {},
   "outputs": [
    {
     "name": "stdout",
     "output_type": "stream",
     "text": [
      "my content\n"
     ]
    }
   ],
   "source": [
    "print_pages('my content') # args는 빈 튜플임"
   ]
  },
  {
   "cell_type": "code",
   "execution_count": 44,
   "id": "959134c5-5861-43df-8c91-a7b0f1af4fb4",
   "metadata": {},
   "outputs": [
    {
     "name": "stdout",
     "output_type": "stream",
     "text": [
      "my content\n",
      "more :  content2\n",
      "more :  content3\n"
     ]
    }
   ],
   "source": [
    "print_pages('my content', 'content2', 'content3')"
   ]
  },
  {
   "cell_type": "markdown",
   "id": "41a5f016-ae5a-4d5c-8657-09713d91af45",
   "metadata": {},
   "source": [
    "### ▣ 길이가 변하는 키워드 인수"
   ]
  },
  {
   "cell_type": "markdown",
   "id": "1dbabf30-43c5-445f-8881-bb838c22923d",
   "metadata": {},
   "source": [
    "길이가 변하는 키워드 인수를 받는 함수는 가인수 이름에 \\*\\*를 붙여 정의할 수 있다.\\\n",
    "관습적으로 \\*\\*kwargs를 사용한다.\\\n",
    "\\*\\*kwargs는 가인수에 할당되지 않은 키워드 인수를 딕셔너리로 받는다.\\\n",
    "\\*\\*kwargs는 맨 마지막에 위치한다."
   ]
  },
  {
   "cell_type": "code",
   "execution_count": 46,
   "id": "dc52ab28-11a0-4b73-bb0b-514df5ea49da",
   "metadata": {},
   "outputs": [
    {
     "name": "stdout",
     "output_type": "stream",
     "text": [
      "my content\n",
      "published : 2019\n",
      "author : jjan\n"
     ]
    }
   ],
   "source": [
    "def print_page(content, **kwargs):\n",
    "    print(content)\n",
    "    for key, value in kwargs.items():\n",
    "        print(f'{key} : {value}')\n",
    "        \n",
    "print_page('my content', published=2019, author='jjan')"
   ]
  },
  {
   "cell_type": "markdown",
   "id": "450e215c-e9ab-46fc-8bac-da71c83369c0",
   "metadata": {},
   "source": [
    "위치 인수와 키워드 인수를 길이가 변해도 받을 수 있도록 하면 어떤 인수의 호출에도 유연하게 대응할 수 있다.\\\n",
    "단, 코드 가독성에 문제가 생길 수 있으므로 사용시 유의할 것"
   ]
  },
  {
   "cell_type": "code",
   "execution_count": 47,
   "id": "91a1dad6-180c-4c46-8bc8-9a8ad2829871",
   "metadata": {},
   "outputs": [
    {
     "name": "stdout",
     "output_type": "stream",
     "text": [
      "content1\n",
      "content2\n",
      "contnet3\n",
      "published : 2019\n",
      "author : jjan\n"
     ]
    }
   ],
   "source": [
    "def print_pages(*args, **kwargs):\n",
    "    for content in args:\n",
    "        print(content)\n",
    "    for key, value in kwargs.items():\n",
    "        print(f'{key} : {value}')\n",
    "        \n",
    "print_pages('content1', 'content2', 'contnet3', published=2019, author='jjan')"
   ]
  },
  {
   "cell_type": "markdown",
   "id": "f53fb649-8194-42b2-be49-d081dfd9f94a",
   "metadata": {},
   "source": [
    "### ▣ 키워드만 인수로 가짐 - 호출 시 가인수 이름을 반드시 전달해야 하는 인수\n",
    "키워드만 있는 인수는 호출  시 반드시 가인수 이름을 지정해야 한다.\\\n",
    "인수의 의미를 이용자에게 잘 인식시키고 가독성을 높이는 효과가 있다.\\\n",
    "키워드만 인수로 하고자 하는 가인수 앞에 \\*를 지정해준다."
   ]
  },
  {
   "cell_type": "code",
   "execution_count": 48,
   "id": "82df2fb0-96cf-40be-81ed-9a1a63bb3fc7",
   "metadata": {},
   "outputs": [],
   "source": [
    "def increment(page_num, last, *, ignore_error=False):\n",
    "    next_page = page_num + 1\n",
    "    if next_page <= last:\n",
    "        return next_page\n",
    "    if ignore_error:\n",
    "        return None\n",
    "    raise ValueError('Invalid arguments')"
   ]
  },
  {
   "cell_type": "code",
   "execution_count": 49,
   "id": "beca6f60-e222-405a-a39f-c014e69b3225",
   "metadata": {},
   "outputs": [],
   "source": [
    "increment(2, 2, ignore_error=True)"
   ]
  },
  {
   "cell_type": "code",
   "execution_count": 51,
   "id": "b5a34a05-799c-46c6-81ab-2a755909466c",
   "metadata": {},
   "outputs": [
    {
     "ename": "TypeError",
     "evalue": "increment() takes 2 positional arguments but 3 were given",
     "output_type": "error",
     "traceback": [
      "\u001b[1;31m---------------------------------------------------------------------------\u001b[0m",
      "\u001b[1;31mTypeError\u001b[0m                                 Traceback (most recent call last)",
      "\u001b[1;32m~\\AppData\\Local\\Temp/ipykernel_9804/246868222.py\u001b[0m in \u001b[0;36m<module>\u001b[1;34m\u001b[0m\n\u001b[1;32m----> 1\u001b[1;33m \u001b[0mincrement\u001b[0m\u001b[1;33m(\u001b[0m\u001b[1;36m2\u001b[0m\u001b[1;33m,\u001b[0m \u001b[1;36m2\u001b[0m\u001b[1;33m,\u001b[0m \u001b[1;32mTrue\u001b[0m\u001b[1;33m)\u001b[0m \u001b[1;31m# * 뒤에는 키워드아규먼트로 지정해줘야한다.\u001b[0m\u001b[1;33m\u001b[0m\u001b[1;33m\u001b[0m\u001b[0m\n\u001b[0m",
      "\u001b[1;31mTypeError\u001b[0m: increment() takes 2 positional arguments but 3 were given"
     ]
    }
   ],
   "source": [
    "increment(2, 2, True) # * 뒤에는 키워드아규먼트로 지정해줘야한다."
   ]
  },
  {
   "cell_type": "markdown",
   "id": "f4439830-49bc-4c04-a446-68ae0b3327e3",
   "metadata": {},
   "source": [
    "### ▣ 위치만 인수로 가짐 - 호출 시 가인수 이름을 지정할 수 없는 인수\n",
    "가인수 이름을 지정하면 에러나는 위치만 가지는 인수도 있다.\\\n",
    "대표적으론 내장 함수인 abs(), pow() 등이 있다.\\\n",
    "위치만 갖는 인수를 정의할 때는 인수로 할 가인수를 나열한 뒤 \\/를 지정해준다(py38부터 가능)"
   ]
  },
  {
   "cell_type": "code",
   "execution_count": 52,
   "id": "146ca31a-1714-4148-aac2-e191c7d64a81",
   "metadata": {},
   "outputs": [],
   "source": [
    "def add(x, y, /, z):\n",
    "    return x + y + z"
   ]
  },
  {
   "cell_type": "code",
   "execution_count": 53,
   "id": "70742429-fe70-4975-9cfe-2f8eaf90a19d",
   "metadata": {},
   "outputs": [
    {
     "data": {
      "text/plain": [
       "6"
      ]
     },
     "execution_count": 53,
     "metadata": {},
     "output_type": "execute_result"
    }
   ],
   "source": [
    "add(1,2,3)"
   ]
  },
  {
   "cell_type": "code",
   "execution_count": 54,
   "id": "5b4ebdca-d69b-467c-947c-44103387d961",
   "metadata": {},
   "outputs": [
    {
     "data": {
      "text/plain": [
       "6"
      ]
     },
     "execution_count": 54,
     "metadata": {},
     "output_type": "execute_result"
    }
   ],
   "source": [
    "add(1,2,z=3)"
   ]
  },
  {
   "cell_type": "code",
   "execution_count": 57,
   "id": "bf593cd9-b3af-4028-b65d-32de39178ef2",
   "metadata": {},
   "outputs": [
    {
     "ename": "TypeError",
     "evalue": "add() got some positional-only arguments passed as keyword arguments: 'x, y'",
     "output_type": "error",
     "traceback": [
      "\u001b[1;31m---------------------------------------------------------------------------\u001b[0m",
      "\u001b[1;31mTypeError\u001b[0m                                 Traceback (most recent call last)",
      "\u001b[1;32m~\\AppData\\Local\\Temp/ipykernel_9804/1575302836.py\u001b[0m in \u001b[0;36m<module>\u001b[1;34m\u001b[0m\n\u001b[1;32m----> 1\u001b[1;33m \u001b[0madd\u001b[0m\u001b[1;33m(\u001b[0m\u001b[0mx\u001b[0m\u001b[1;33m=\u001b[0m\u001b[1;36m1\u001b[0m\u001b[1;33m,\u001b[0m \u001b[0my\u001b[0m\u001b[1;33m=\u001b[0m\u001b[1;36m2\u001b[0m\u001b[1;33m,\u001b[0m \u001b[0mz\u001b[0m\u001b[1;33m=\u001b[0m\u001b[1;36m3\u001b[0m\u001b[1;33m)\u001b[0m \u001b[1;31m# /앞에는 위치 인수만 써야 한다.\u001b[0m\u001b[1;33m\u001b[0m\u001b[1;33m\u001b[0m\u001b[0m\n\u001b[0m",
      "\u001b[1;31mTypeError\u001b[0m: add() got some positional-only arguments passed as keyword arguments: 'x, y'"
     ]
    }
   ],
   "source": [
    "add(x=1, y=2, z=3) # /앞에는 위치 인수만 써야 한다."
   ]
  },
  {
   "cell_type": "markdown",
   "id": "e232292a-1449-4d09-94f0-8225e27cd84e",
   "metadata": {},
   "source": [
    "## 5.1.6 인수 리스트 언팩 - 리스트나 딕셔너리에 저장된 값을 인수로 전달"
   ]
  },
  {
   "cell_type": "markdown",
   "id": "28343bdc-25d0-4961-900d-d3218808a533",
   "metadata": {},
   "source": [
    "인수 리스트 언팩(unpack) : 함수 호출 시 \\* 연산자를 이용해 리스트나 딕셔너리로부터 인수를 전개하는 기능\\\n",
    "리스트나 튜플에 저장되어 있는 값을 함수의 위치 인수로 전달할 수 있다."
   ]
  },
  {
   "cell_type": "code",
   "execution_count": 59,
   "id": "a6c4b22b-4027-4fde-bbec-b0bcf8991f4f",
   "metadata": {},
   "outputs": [
    {
     "name": "stdout",
     "output_type": "stream",
     "text": [
      "my content\n",
      "content 2\n",
      "content 3\n"
     ]
    }
   ],
   "source": [
    "def print_page(one, two, three):\n",
    "    print(one)\n",
    "    print(two)\n",
    "    print(three)\n",
    "    \n",
    "contents = ['my content', 'content 2', 'content 3']\n",
    "\n",
    "print_page(*contents)"
   ]
  },
  {
   "cell_type": "code",
   "execution_count": 61,
   "id": "a66a3884-9dab-4cf1-b825-74fb0fc12f93",
   "metadata": {},
   "outputs": [
    {
     "ename": "TypeError",
     "evalue": "print_page() missing 2 required positional arguments: 'two' and 'three'",
     "output_type": "error",
     "traceback": [
      "\u001b[1;31m---------------------------------------------------------------------------\u001b[0m",
      "\u001b[1;31mTypeError\u001b[0m                                 Traceback (most recent call last)",
      "\u001b[1;32m~\\AppData\\Local\\Temp/ipykernel_9804/2514583158.py\u001b[0m in \u001b[0;36m<module>\u001b[1;34m\u001b[0m\n\u001b[0;32m      1\u001b[0m \u001b[1;31m# 그냥 넣으면 순서대로 들어가는게 아니고 one=contents가 되는 것임\u001b[0m\u001b[1;33m\u001b[0m\u001b[1;33m\u001b[0m\u001b[1;33m\u001b[0m\u001b[0m\n\u001b[1;32m----> 2\u001b[1;33m \u001b[0mprint_page\u001b[0m\u001b[1;33m(\u001b[0m\u001b[0mcontents\u001b[0m\u001b[1;33m)\u001b[0m\u001b[1;33m\u001b[0m\u001b[1;33m\u001b[0m\u001b[0m\n\u001b[0m",
      "\u001b[1;31mTypeError\u001b[0m: print_page() missing 2 required positional arguments: 'two' and 'three'"
     ]
    }
   ],
   "source": [
    "# 그냥 넣으면 순서대로 들어가는게 아니고 one=contents가 되는 것임\n",
    "print_page(contents)"
   ]
  },
  {
   "cell_type": "code",
   "execution_count": 62,
   "id": "c52343fe-71c6-4663-a4e2-d71eda7aad01",
   "metadata": {},
   "outputs": [
    {
     "name": "stdout",
     "output_type": "stream",
     "text": [
      "my content\n",
      "2019\n",
      "jjan\n"
     ]
    }
   ],
   "source": [
    "def print_page(content, published, author):\n",
    "    print(content)\n",
    "    print(published)\n",
    "    print(author)\n",
    "    \n",
    "contents = {'published': 2019, 'author':'jjan'}\n",
    "print_page('my content', **contents)"
   ]
  },
  {
   "cell_type": "markdown",
   "id": "3c1d958f-0216-4b12-935b-c47ca090239c",
   "metadata": {},
   "source": [
    "## 5.1.7 함수의 독스트링\n",
    "함수 안에 \\``` docstring ```을 넣어주면 된다. 함수에 대한 설명같은 것을 넣자."
   ]
  },
  {
   "cell_type": "code",
   "execution_count": null,
   "id": "e4e3fbbd-0a13-45ec-888e-989eee820ac1",
   "metadata": {},
   "outputs": [],
   "source": []
  },
  {
   "cell_type": "markdown",
   "id": "c9ec6e7d-5f6e-4964-9336-caec01c53005",
   "metadata": {},
   "source": [
    "# 5.2 lambda 식 - 이름이 없는 함수 작성\n",
    "lambda 식을 이용하면 1행의 이름 없는 함수를 만들 수 있다.\\\n",
    "이름 없는 함수란 글자  그대로 이름이 없는 함수를 의미하며, 함수가 필요할 때 즉시 정의할 수 있다.\\\n",
    "함수 인수로 함수 객체를 전달할 때 자주 사용한다."
   ]
  },
  {
   "cell_type": "markdown",
   "id": "d379d3e7-1156-4e44-b411-5090d0c815de",
   "metadata": {},
   "source": [
    "## 5.2.1 lambda 식 정의와 실행 \n",
    "```python\n",
    "lambda 인수1, 인수2, ... : 반환값이 되는 식\n",
    "```\n",
    "\n",
    "정의할 때 줄 바꿈을 하면 안된다.(한 행에 다 들어가야 함)"
   ]
  },
  {
   "cell_type": "code",
   "execution_count": 65,
   "id": "28f9f3fd-950c-4765-8df4-ad346cbbff03",
   "metadata": {},
   "outputs": [
    {
     "data": {
      "text/plain": [
       "<function __main__.<lambda>(num)>"
      ]
     },
     "execution_count": 65,
     "metadata": {},
     "output_type": "execute_result"
    }
   ],
   "source": [
    "increment = lambda num: num + 1 # lambda 식으로 함수를 정의한다.\n",
    "increment # lambda 식임을 알 수 있음"
   ]
  },
  {
   "cell_type": "code",
   "execution_count": 66,
   "id": "8456a173-9d8d-444b-9331-3d4a7cae90ab",
   "metadata": {},
   "outputs": [
    {
     "data": {
      "text/plain": [
       "3"
      ]
     },
     "execution_count": 66,
     "metadata": {},
     "output_type": "execute_result"
    }
   ],
   "source": [
    "increment(2)"
   ]
  },
  {
   "cell_type": "markdown",
   "id": "b10b7c2e-07a6-4363-9516-30d045cc08c9",
   "metadata": {},
   "source": [
    "## 5.2.2 lambda 식을 사용할 위치\n",
    "람다식을 너무 남발하면 코드 가독성이 떨어진다. 그러나 적합한 상황도 있다.\\\n",
    "함수를 인수로 받는 함수를 호출 할 때다."
   ]
  },
  {
   "cell_type": "code",
   "execution_count": 68,
   "id": "8db8f45b-c368-4ed1-b891-aedfd02b598f",
   "metadata": {},
   "outputs": [
    {
     "data": {
      "text/plain": [
       "['one', 'two']"
      ]
     },
     "execution_count": 68,
     "metadata": {},
     "output_type": "execute_result"
    }
   ],
   "source": [
    "nums = ['one', 'two', 'three']\n",
    "\n",
    "# filter는 첫번째 인수로 함수를 받는다.(sorted도)\n",
    "filtered = filter(lambda x: len(x)==3, nums)\n",
    "list(filtered)"
   ]
  },
  {
   "cell_type": "markdown",
   "id": "4bc4aea5-ba14-4eaa-9fdf-e735221faf15",
   "metadata": {},
   "source": [
    "# 5.3 타입 힌트\n",
    "어노테이션(annotation)을 이용해 타입 힌트를 추가할 수 있다.\\\n",
    "타입 힌트 : 정적 타입 언어와 같이 함수의 인수와 반환값에 타입 정보를 붙이는 기능\\\n",
    "단, 정적 타입 언어와 달리, 부여한 타입 정보는 어노테이션이라 불리는 속성 `__annotations__`에 저장될 뿐, 실행 시 타입 체크를 수행하지는 않는다."
   ]
  },
  {
   "cell_type": "markdown",
   "id": "56454d82-28c9-4c42-8fbf-6cb845e87ba0",
   "metadata": {},
   "source": [
    "## 5.3.1 타입 정보를 부여함으로써 얻을 수 있는 장점\n",
    "타입정보를 부여하면 코드의 유지보수성이 높아진다.\\\n",
    "코드를 읽는 사람의 이해를  돕거나, mypy 등의 정적 분석 도구를 이용한 타입체크 이용, 에디터나 IDE의 코드 보완 정밀도 향상 등을 기대할 수 있다.\\\n",
    "그리고 타입 정보를 활용한 코드  자동생성에도 활용 할 수 있다."
   ]
  },
  {
   "cell_type": "markdown",
   "id": "4083b69a-68f3-4894-b8e2-5c69de54f8f8",
   "metadata": {},
   "source": [
    "## 5.3.2 타입 정보 부여\n",
    "```python\n",
    "def 함수명(arg1: arg1 타입,\n",
    "                arg2: arg2 타입, ...) -> 반환값 타입:\n",
    "    함수에서 실행할 처리\n",
    "    return 반환값\n",
    "```\n"
   ]
  },
  {
   "cell_type": "code",
   "execution_count": 70,
   "id": "1aa38a91-615b-42c1-814d-1eaf0a60ab71",
   "metadata": {},
   "outputs": [],
   "source": [
    "# Optional은 None의 가능성이 있을 때 이용함\n",
    "from typing import Optional\n",
    "\n",
    "def increment(\n",
    "    page_num: int,\n",
    "    last: int,\n",
    "    *,\n",
    "    ignore_error: bool = False) -> Optional[int]:\n",
    "    next_page = page_num + 1\n",
    "    if next_page <= last:\n",
    "        return next_page\n",
    "    if ignore_error:\n",
    "        return None\n",
    "    raise ValueError('Invalid arguments')"
   ]
  },
  {
   "cell_type": "code",
   "execution_count": 72,
   "id": "2782e91d-79ff-4ef6-91e5-c0f54cc1e8af",
   "metadata": {},
   "outputs": [
    {
     "data": {
      "text/plain": [
       "{'page_num': int,\n",
       " 'last': int,\n",
       " 'ignore_error': bool,\n",
       " 'return': typing.Union[int, NoneType]}"
      ]
     },
     "execution_count": 72,
     "metadata": {},
     "output_type": "execute_result"
    }
   ],
   "source": [
    "increment.__annotations__ # 타입 정보가 저장되어 있음"
   ]
  },
  {
   "cell_type": "markdown",
   "id": "73bc20d6-0255-457e-8a6c-29792a6d5740",
   "metadata": {},
   "source": [
    "타입 체크를 하진 않기때문에 다음과 같은 경우 에러가 나진 않는다."
   ]
  },
  {
   "cell_type": "code",
   "execution_count": 77,
   "id": "7eb17a4e-34db-483a-8bf4-400dfc1000fa",
   "metadata": {},
   "outputs": [
    {
     "data": {
      "text/plain": [
       "2"
      ]
     },
     "execution_count": 77,
     "metadata": {},
     "output_type": "execute_result"
    }
   ],
   "source": [
    "increment(1,3, ignore_error=1)"
   ]
  },
  {
   "cell_type": "markdown",
   "id": "9894da1a-57b6-420e-b0d8-1b59a62c316b",
   "metadata": {},
   "source": [
    "### ▣ 변수에 대한 타입 정보 부여\n",
    "인수의 타입 정보와 마찬가지로 변수의 타입 정보도 선언할 수 있다. 이 또한 실행시 타입 정보를 자동으로 확인하지 않음"
   ]
  },
  {
   "cell_type": "code",
   "execution_count": 79,
   "id": "e45606a7-3fe0-4954-acee-5c4966e127f4",
   "metadata": {},
   "outputs": [],
   "source": [
    "def decrement(page_num:int) -> int:\n",
    "    prev_page:int # 타입 정보를 붙여 변수를 선언함\n",
    "    prev_page = page_num - 1\n",
    "    return prev_page"
   ]
  },
  {
   "cell_type": "code",
   "execution_count": 80,
   "id": "b879e617-9023-41ff-92ff-1e6731e2e3a6",
   "metadata": {},
   "outputs": [
    {
     "data": {
      "text/plain": [
       "1"
      ]
     },
     "execution_count": 80,
     "metadata": {},
     "output_type": "execute_result"
    }
   ],
   "source": [
    "decrement(2)"
   ]
  },
  {
   "cell_type": "code",
   "execution_count": 81,
   "id": "3c25212d-7de5-4010-bd8f-f812f5038595",
   "metadata": {},
   "outputs": [
    {
     "data": {
      "text/plain": [
       "1.0"
      ]
     },
     "execution_count": 81,
     "metadata": {},
     "output_type": "execute_result"
    }
   ],
   "source": [
    "# 실행  시 타입 체크는 하지 않으므로 에러는 발생하지 않음\n",
    "decrement(2.0)"
   ]
  },
  {
   "cell_type": "markdown",
   "id": "9df5ba84-d596-4f1d-b6f9-c570e79ed56a",
   "metadata": {},
   "source": [
    "## 5.3.3 타입 힌트 활용 사례 - 정적 분석 도구 이용"
   ]
  },
  {
   "cell_type": "code",
   "execution_count": null,
   "id": "8bfdebf7-837c-473f-b55c-071ab931105a",
   "metadata": {},
   "outputs": [],
   "source": []
  }
 ],
 "metadata": {
  "kernelspec": {
   "display_name": "py38",
   "language": "python",
   "name": "py38"
  },
  "language_info": {
   "codemirror_mode": {
    "name": "ipython",
    "version": 3
   },
   "file_extension": ".py",
   "mimetype": "text/x-python",
   "name": "python",
   "nbconvert_exporter": "python",
   "pygments_lexer": "ipython3",
   "version": "3.8.12"
  }
 },
 "nbformat": 4,
 "nbformat_minor": 5
}

{
 "cells": [
  {
   "cell_type": "markdown",
   "id": "13b8c5d1-987e-4ea4-8d6c-2ce5bf4288e3",
   "metadata": {},
   "source": [
    "1. 값을 입력 받아서 양수인지 음수인지 판별하는 프로그램 만들기\n",
    "2. 값을 입력 받아 홀수인지 짝수인지 판별하는 프로그램 만들기\n",
    "3. 정수를 입력 받아 3의 배수인지 아닌지 판별하는 프로그램 만들기\n",
    "4. 키와 몸무게를 입력 받아, 비만도(BMI)를 판별하는 프로그램 만들기\n",
    "5. A부서의 월 매출이 아래와 같을 때 For문을 이용하여 A부서의 평균 월 매출 계산(리스트, for문)"
   ]
  },
  {
   "cell_type": "code",
   "execution_count": 2,
   "id": "2b27e7a1-f459-4336-9cd9-e0fe72818e81",
   "metadata": {},
   "outputs": [
    {
     "name": "stdin",
     "output_type": "stream",
     "text": [
      " 1\n"
     ]
    },
    {
     "name": "stdout",
     "output_type": "stream",
     "text": [
      "양수\n"
     ]
    }
   ],
   "source": [
    "#1번\n",
    "num = int(input())\n",
    "if num > 0:\n",
    "    print('양수')\n",
    "elif num < 0:\n",
    "    print('음수')\n",
    "else:\n",
    "    print('0')"
   ]
  },
  {
   "cell_type": "code",
   "execution_count": 4,
   "id": "7cdb0368-08e6-458e-9cff-aa0e2eae820c",
   "metadata": {},
   "outputs": [
    {
     "name": "stdin",
     "output_type": "stream",
     "text": [
      " 4\n"
     ]
    },
    {
     "name": "stdout",
     "output_type": "stream",
     "text": [
      "짝수\n"
     ]
    }
   ],
   "source": [
    "#2번\n",
    "num = int(input())\n",
    "if num%2==0:\n",
    "    print('짝수')\n",
    "else:\n",
    "    print('홀수')"
   ]
  },
  {
   "cell_type": "code",
   "execution_count": 5,
   "id": "19a0f093-2735-4fe3-b79d-6c822d149e3c",
   "metadata": {},
   "outputs": [
    {
     "name": "stdin",
     "output_type": "stream",
     "text": [
      " 3\n"
     ]
    },
    {
     "name": "stdout",
     "output_type": "stream",
     "text": [
      "3배수\n"
     ]
    }
   ],
   "source": [
    "#3번\n",
    "num = int(input())\n",
    "if num%3==0:\n",
    "    print('3배수')\n",
    "else:\n",
    "    print('3배수 아님')"
   ]
  },
  {
   "cell_type": "code",
   "execution_count": 10,
   "id": "00973f41-dac6-4836-acab-a1f0a187b330",
   "metadata": {},
   "outputs": [
    {
     "name": "stdin",
     "output_type": "stream",
     "text": [
      " 180\n",
      " 80\n"
     ]
    },
    {
     "name": "stdout",
     "output_type": "stream",
     "text": [
      "과체중\n"
     ]
    }
   ],
   "source": [
    "#4번\n",
    "height = float(input())\n",
    "height = height/100\n",
    "weight = float(input())\n",
    "\n",
    "BMI = weight / (height**2)\n",
    "if BMI >= 29.9:\n",
    "    print('고도비만')\n",
    "elif BMI >= 24.9:\n",
    "    print('경도비만')\n",
    "elif BMI >= 22.9:\n",
    "    print('과체중')\n",
    "elif BMI >= 18.5:\n",
    "    print('정상')\n",
    "else:\n",
    "    print('저체중')"
   ]
  },
  {
   "cell_type": "code",
   "execution_count": 17,
   "id": "c868138f-2e48-4f2a-85a9-ef6b44b00828",
   "metadata": {},
   "outputs": [
    {
     "name": "stdout",
     "output_type": "stream",
     "text": [
      "5760.0\n"
     ]
    }
   ],
   "source": [
    "income = {'1월':5500, '2월':5300, '3월':6700, '4월':5500, '5월':5800}\n",
    "money = list(income.values())\n",
    "total = 0\n",
    "for i in money:\n",
    "    total += i\n",
    "\n",
    "mean_value = total / len(money)\n",
    "print(mean_value)"
   ]
  },
  {
   "cell_type": "markdown",
   "id": "89e2cee7-4303-4db1-a7b6-0f113e3b0e4e",
   "metadata": {},
   "source": [
    "6. 정수를 입력받아 해당 수의 구구단을 출력하는 프로그램 만들기\n",
    "7. for문과 if문을 이용하여, 정수를 입력 받아 정수의 약수를 구하는 프로그램\n",
    "8. for문과 if문을 이용하여, 아래의 리스트 최대값을 구하는 프로그램\n",
    "9. 입력하는 모든 수의 평균을 계산하는 함수 만들기\n",
    "10. 두 수를 입력받아 사칙연산을 하는 함수 만들기"
   ]
  },
  {
   "cell_type": "code",
   "execution_count": 19,
   "id": "417603a3-7de8-45ed-88f9-7f508cea2758",
   "metadata": {},
   "outputs": [
    {
     "name": "stdin",
     "output_type": "stream",
     "text": [
      " 4\n"
     ]
    },
    {
     "name": "stdout",
     "output_type": "stream",
     "text": [
      "4x1=4\n",
      "4x2=8\n",
      "4x3=12\n",
      "4x4=16\n",
      "4x5=20\n",
      "4x6=24\n",
      "4x7=28\n",
      "4x8=32\n",
      "4x9=36\n"
     ]
    }
   ],
   "source": [
    "#6번\n",
    "num = int(input())\n",
    "for i in range(1,10):\n",
    "    print(f'{num}x{i}={num*i}')"
   ]
  },
  {
   "cell_type": "code",
   "execution_count": 34,
   "id": "28bb3921-a23f-4872-b862-7e8b501559fb",
   "metadata": {},
   "outputs": [
    {
     "name": "stdin",
     "output_type": "stream",
     "text": [
      " 15\n"
     ]
    },
    {
     "name": "stdout",
     "output_type": "stream",
     "text": [
      "결과 : 1, 3, 5, 15\n"
     ]
    }
   ],
   "source": [
    "#7번\n",
    "num = int(input())\n",
    "ls = []\n",
    "print('결과 :', end=' ')\n",
    "for i in range(1, num+1):\n",
    "    if num % i == 0:\n",
    "        if num != i:\n",
    "            print(i, end=', ')\n",
    "        else:\n",
    "            print(i)\n",
    "# print('결과 : ',ls)"
   ]
  },
  {
   "cell_type": "code",
   "execution_count": 35,
   "id": "4b77bec3-9072-4932-bf0b-472f9a595ec0",
   "metadata": {},
   "outputs": [
    {
     "ename": "ImportError",
     "evalue": "cannot import name 'max' from 'math' (unknown location)",
     "output_type": "error",
     "traceback": [
      "\u001b[1;31m---------------------------------------------------------------------------\u001b[0m",
      "\u001b[1;31mImportError\u001b[0m                               Traceback (most recent call last)",
      "\u001b[1;32m<ipython-input-35-c0d4759ef06d>\u001b[0m in \u001b[0;36m<module>\u001b[1;34m\u001b[0m\n\u001b[0;32m      1\u001b[0m \u001b[1;31m#8번\u001b[0m\u001b[1;33m\u001b[0m\u001b[1;33m\u001b[0m\u001b[1;33m\u001b[0m\u001b[0m\n\u001b[1;32m----> 2\u001b[1;33m \u001b[1;32mfrom\u001b[0m \u001b[0mmath\u001b[0m \u001b[1;32mimport\u001b[0m \u001b[0mmax\u001b[0m\u001b[1;33m\u001b[0m\u001b[1;33m\u001b[0m\u001b[0m\n\u001b[0m\u001b[0;32m      3\u001b[0m \u001b[0mls\u001b[0m \u001b[1;33m=\u001b[0m \u001b[1;33m[\u001b[0m\u001b[1;36m1\u001b[0m\u001b[1;33m,\u001b[0m \u001b[1;36m24\u001b[0m\u001b[1;33m,\u001b[0m \u001b[1;36m3\u001b[0m\u001b[1;33m,\u001b[0m \u001b[1;36m44\u001b[0m\u001b[1;33m,\u001b[0m \u001b[1;36m1000\u001b[0m\u001b[1;33m,\u001b[0m \u001b[1;36m2\u001b[0m\u001b[1;33m,\u001b[0m \u001b[1;36m0\u001b[0m\u001b[1;33m,\u001b[0m \u001b[1;36m74\u001b[0m\u001b[1;33m]\u001b[0m\u001b[1;33m\u001b[0m\u001b[1;33m\u001b[0m\u001b[0m\n",
      "\u001b[1;31mImportError\u001b[0m: cannot import name 'max' from 'math' (unknown location)"
     ]
    }
   ],
   "source": [
    "#8번\n",
    "ls = [1, 24, 3, 44, 1000, 2, 0, 74"
   ]
  },
  {
   "cell_type": "code",
   "execution_count": null,
   "id": "13421f77-fa86-4ac2-bcaf-e2fbe461c65c",
   "metadata": {},
   "outputs": [],
   "source": []
  }
 ],
 "metadata": {
  "kernelspec": {
   "display_name": "Python 3",
   "language": "python",
   "name": "python3"
  },
  "language_info": {
   "codemirror_mode": {
    "name": "ipython",
    "version": 3
   },
   "file_extension": ".py",
   "mimetype": "text/x-python",
   "name": "python",
   "nbconvert_exporter": "python",
   "pygments_lexer": "ipython3",
   "version": "3.8.8"
  }
 },
 "nbformat": 4,
 "nbformat_minor": 5
}

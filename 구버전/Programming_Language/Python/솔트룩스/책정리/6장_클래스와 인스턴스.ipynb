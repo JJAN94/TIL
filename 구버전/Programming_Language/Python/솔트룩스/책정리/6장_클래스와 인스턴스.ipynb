{
 "cells": [
  {
   "cell_type": "markdown",
   "id": "3766770f-1196-4487-83d6-f679d3a2bc97",
   "metadata": {},
   "source": [
    "# 6.1 파이썬의 클래스 구조\n",
    "class란 객체 타입을 정의하는 기능이다.\\\n",
    "클래스 기반으로 생성된 객체는 인스턴스(instance)라고 불리며, 같은 클래스의 여러 인스턴스는 같은 특성을 가지면서 각각 독립된 상태를 유지한다."
   ]
  },
  {
   "cell_type": "markdown",
   "id": "2c3ad228-7691-4fb7-84a4-8be3938333a3",
   "metadata": {},
   "source": [
    "## 6.1.1 class 키워드를 이용한 클래스 정의\n",
    "```python\n",
    "class 클래스명(베이스 클래스명):\n",
    "    def 메소드명(인수1, 인수2, ...):\n",
    "        메소드에서 실행할 처리\n",
    "        return 반환값\n",
    "```\n"
   ]
  },
  {
   "cell_type": "code",
   "execution_count": null,
   "id": "ddfd38aa-0162-46dc-9697-1e397c98a03e",
   "metadata": {},
   "outputs": [],
   "source": []
  }
 ],
 "metadata": {
  "kernelspec": {
   "display_name": "py38_normal",
   "language": "python",
   "name": "py38_normal"
  },
  "language_info": {
   "codemirror_mode": {
    "name": "ipython",
    "version": 3
   },
   "file_extension": ".py",
   "mimetype": "text/x-python",
   "name": "python",
   "nbconvert_exporter": "python",
   "pygments_lexer": "ipython3",
   "version": "3.8.12"
  }
 },
 "nbformat": 4,
 "nbformat_minor": 5
}

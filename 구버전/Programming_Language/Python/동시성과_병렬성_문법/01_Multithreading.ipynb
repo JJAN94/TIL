{
 "cells": [
  {
   "cell_type": "markdown",
   "id": "f986392a-2553-4f86-9c19-19b20d997a78",
   "metadata": {},
   "source": [
    "# Multi threading\n",
    "- Difference between Process and Thread\n",
    "- Keyword : Process, Thread"
   ]
  },
  {
   "cell_type": "markdown",
   "id": "e6f07e9f-87e6-4c3d-98c4-c670d24779f0",
   "metadata": {},
   "source": [
    "## 1. 프로세스\n",
    "- 운영체제 : 할당 받는 자원 단위(실행 중인 프로그램)\n",
    "- CPU 동작 시간, 주소공간(독립적)\n",
    "- Code, Data, Stack, Heap -> 독립적\n",
    "- 최소 1개의 메인 스레드 보유\n",
    "- 파이프, 파일, 소켓 등을 사용해서 프로세스간 통신 (cost 높음) -> Context Switching"
   ]
  },
  {
   "cell_type": "markdown",
   "id": "f66a04a3-51d1-4576-9e45-529aa58e049e",
   "metadata": {},
   "source": [
    "## 2. 스레드\n",
    "- 프로세스 내에 실행 흐름 단위\n",
    "- 프로세스 자원 사용\n",
    "- Stack만 별도 할당, 나머지는 공유(Code, Data, Heap)\n",
    "- 메모리 공유(변수 공유)\n",
    "- 한 스레드의 결과가 다른 스레드의 영향 끼침\n",
    "- 동기화 문제는 정말 주의(디버깅 어려움)\n",
    "\n",
    "## 3. 멀티 스레드\n",
    "- 한 개의 단일 어플리케이션(응용프로그램) -> 여러 스레드로 구성 후 작업 처리\n",
    "- 시스템 자원 소모 감소(효율성), 처리량 증가 (cost 감소)\n",
    "- 통신 부담 가모, 디버깅 어려움, 단일 프로세스에는 효과 미약, 자원 공유 문제(교착 상태), 프로세스 영향 준다.\n",
    "\n",
    "## 4. 멀티 프로세스\n",
    "- 한 개의 단일 어플리케이션(응용프로그램) -> 여러 프로세스로 구성 후 작업 처리\n",
    "- 한 개의 프로세스 문제 발생은 확산 없음 (프로세스 kill)\n",
    "- 캐시 체인지, Cost 비용 매우 높음(오버헤드), 복잡한 통신 방식 사용"
   ]
  },
  {
   "cell_type": "code",
   "execution_count": null,
   "id": "0b6338e1-7b8c-4e00-acb5-0f9c414012f9",
   "metadata": {},
   "outputs": [],
   "source": []
  },
  {
   "cell_type": "markdown",
   "id": "06d6ca9c-5d6f-429b-8a75-1c8a0a4d23fd",
   "metadata": {},
   "source": [
    "# Python Gil\n",
    "- Keyword : CPython, 메모리관리, GIL 사용 이유"
   ]
  },
  {
   "cell_type": "markdown",
   "id": "13115379-5015-49ea-ae09-c7215fcb1988",
   "metadata": {},
   "source": [
    "## Gil (Global Interpreter Lock)\n",
    "1. CPython : Python코드를 bytecode로 바껴서 CPython이 해석\n",
    "    - python이 실행 시 여러 thread 사용할 경우 단일 스레드만이 python object에 접근하게 제한하는 mutex\n",
    "2. Cpython 메모리 관리가 취약 때문(즉, Thread-safe)\n",
    "3. 단일 스레드로 충분히 빠르다.\n",
    "4. 프로세스 사용 가능(numpy, scipy) 등 Gil 외부 영역에서 효율적인 코딩 가능\n",
    "5. 병렬 처리는 Multiprocessing, asyncio 선택지 다양함.\n",
    "6. thread 동시성 완벽 처리를 위해 Jython, IronPython, Stackless Python 등이 존재"
   ]
  },
  {
   "cell_type": "code",
   "execution_count": null,
   "id": "35ab97d6-c203-4ed0-adc8-7bab0c3f0ac1",
   "metadata": {},
   "outputs": [],
   "source": []
  },
  {
   "cell_type": "code",
   "execution_count": null,
   "id": "11991bfa-6ad2-4401-babe-6fd5891a5c33",
   "metadata": {},
   "outputs": [],
   "source": []
  },
  {
   "cell_type": "code",
   "execution_count": null,
   "id": "7976e3ff-ea5c-418a-928c-112363c91446",
   "metadata": {},
   "outputs": [],
   "source": []
  },
  {
   "cell_type": "code",
   "execution_count": null,
   "id": "0f4a5553-f870-4145-8e2b-f9eb9a5b436c",
   "metadata": {},
   "outputs": [],
   "source": []
  },
  {
   "cell_type": "code",
   "execution_count": null,
   "id": "0f9eb437-a5bb-4a31-b884-c82df95b0a00",
   "metadata": {},
   "outputs": [],
   "source": []
  },
  {
   "cell_type": "code",
   "execution_count": null,
   "id": "6fd0ad16-0eda-444a-bc33-d442c3196238",
   "metadata": {},
   "outputs": [],
   "source": []
  },
  {
   "cell_type": "code",
   "execution_count": null,
   "id": "27ad1ae7-a724-45c0-a123-c2b8939c1208",
   "metadata": {},
   "outputs": [],
   "source": []
  }
 ],
 "metadata": {
  "kernelspec": {
   "display_name": "Python 3",
   "language": "python",
   "name": "python3"
  },
  "language_info": {
   "codemirror_mode": {
    "name": "ipython",
    "version": 3
   },
   "file_extension": ".py",
   "mimetype": "text/x-python",
   "name": "python",
   "nbconvert_exporter": "python",
   "pygments_lexer": "ipython3",
   "version": "3.8.8"
  }
 },
 "nbformat": 4,
 "nbformat_minor": 5
}

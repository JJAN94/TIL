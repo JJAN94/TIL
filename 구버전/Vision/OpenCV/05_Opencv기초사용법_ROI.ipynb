{
 "cells": [
  {
   "cell_type": "markdown",
   "metadata": {},
   "source": [
    "# 마스크 연산과 ROI"
   ]
  },
  {
   "cell_type": "code",
   "execution_count": 1,
   "metadata": {},
   "outputs": [],
   "source": [
    "import cv2\n",
    "import numpy as np"
   ]
  },
  {
   "cell_type": "markdown",
   "metadata": {},
   "source": [
    "## 마스크 연산을 지원하는 픽셀 값 복사 함수"
   ]
  },
  {
   "cell_type": "markdown",
   "metadata": {},
   "source": [
    "`cv2.copyTo(src, mask, dst=None) -> dst`\n",
    "\n",
    "- src\n",
    "    - 입력 영상\n",
    "- mask\n",
    "    - 마스크 영상\n",
    "    - cv2.CV_8U (uint8)\n",
    "    - 0이 아닌 픽셇에 대해서만 복사 연산을 수행\n",
    "- dst\n",
    "    - 출력 영상. \n",
    "    - 만약 src와 크기 및 타입이 같은 dst를 입력으로 지정하면 dst를 새로 생성하지 않고 연산을 수행. 그렇지 않으면 dst를 새로 생성하여 연산을 수행한 후 반환함"
   ]
  },
  {
   "cell_type": "code",
   "execution_count": 2,
   "metadata": {},
   "outputs": [],
   "source": [
    "# 마스크 영상을 이용한 영상 합성\n",
    "src = cv2.imread('./cv/ch02/airplane.bmp', cv2.IMREAD_COLOR)\n",
    "mask = cv2.imread('./cv/ch02/mask_plane.bmp', cv2.IMREAD_GRAYSCALE)\n",
    "dst = cv2.imread('./cv/ch02/field.bmp', cv2.IMREAD_COLOR)\n",
    "\n",
    "# 타입(그레이스케일, 컬러)과 크기가 다 같아야한다.\n",
    "# copyTo_img = cv2.copyTo(src, mask, dst)\n",
    "dst[mask > 0] = src[mask > 0]\n",
    "\n",
    "cv2.imshow('src', src)\n",
    "cv2.imshow('dst', dst)\n",
    "cv2.imshow('mask', mask)\n",
    "cv2.waitKey()\n",
    "cv2.destroyAllWindows()"
   ]
  },
  {
   "cell_type": "code",
   "execution_count": 3,
   "metadata": {},
   "outputs": [],
   "source": [
    "# opencv-logo-white.png : 4개 채널 이미지 (투명불투명)\n",
    "src = cv2.imread('./cv/ch02/opencv-logo-white.png', cv2.IMREAD_UNCHANGED)\n",
    "mask = src[:, :, -1] # 다 동일한데 마지막 채널만 mask로 쓰자.\n",
    "src = src[:, :, 0:3]\n",
    "\n",
    "h,w = src.shape[:2]\n",
    "crop = dst[0:h, 0:w]\n",
    "cv2.copyTo(src, mask, crop)\n",
    "\n",
    "cv2.imshow('src', src)\n",
    "cv2.imshow('dst', dst)\n",
    "cv2.imshow('mask', mask)\n",
    "cv2.waitKey()\n",
    "cv2.destroyAllWindows()"
   ]
  },
  {
   "cell_type": "code",
   "execution_count": null,
   "metadata": {},
   "outputs": [],
   "source": []
  }
 ],
 "metadata": {
  "kernelspec": {
   "display_name": "Python 3",
   "language": "python",
   "name": "python3"
  },
  "language_info": {
   "codemirror_mode": {
    "name": "ipython",
    "version": 3
   },
   "file_extension": ".py",
   "mimetype": "text/x-python",
   "name": "python",
   "nbconvert_exporter": "python",
   "pygments_lexer": "ipython3",
   "version": "3.8.3"
  }
 },
 "nbformat": 4,
 "nbformat_minor": 4
}

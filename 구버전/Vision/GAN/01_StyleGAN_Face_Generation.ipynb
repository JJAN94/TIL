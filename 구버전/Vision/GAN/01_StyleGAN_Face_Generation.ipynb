{
 "cells": [
  {
   "cell_type": "markdown",
   "id": "18f63f4b-5973-4fe3-8cea-905585fce2c7",
   "metadata": {},
   "source": [
    "# StyleGAN을 이용한 Face Editing"
   ]
  },
  {
   "cell_type": "markdown",
   "id": "c988b19e-7eb0-4d59-a2c5-925e853f105d",
   "metadata": {},
   "source": [
    "- GAN은 생성 모델(Generative Model)의 일정으로, 실제로 존재하지는 않지만 있을 법한 데이터를 생성할 수 있도록 한다.\n",
    "- FFHQ(고해상도 얼굴 데이터셋, envidia)로 학습된 StyleGAN을 이용하여 다양한 고해상도 얼굴 이미지를 만들 수 있다.\n",
    "- StyleGAN은 고해상도 사람 얼굴을 만들 수 있을 뿐만 아니라 얼굴 편집(Face Editing)을 위해 활용할 수 있다. 얼굴 편집 기술은 다양한 뷰티/사진 앱에서 활용되고 있는 기술로 남성을 여성으로 바꾸는 등 사람의 얼굴을 다양한 형태로 편집할 수 있다.\n"
   ]
  },
  {
   "cell_type": "markdown",
   "id": "235147e7-8179-4cf4-8254-4afc2c7ce1d7",
   "metadata": {},
   "source": [
    "## 실습 목차\n",
    "1. 얼굴 생성(Face Generation) : 있을 법한 임의의 얼굴을 생성한다.\n",
    "2. 얼굴 모핑(Face Morphing) : 두 얼굴을 상호 간 서서히 변화시킨다.\n",
    "3. 얼굴 임베딩(Face Embedding) : 특정한 사람 이미지에 해당하는 임베딩을 찾는다.\n",
    "4. 얼굴 교차(Face Crossover) : 두 얼굴을 절반씩 섞은 이미지를 생성한다.\n",
    "5. 임베딩 벡터 연산(Latent Vector Aarithmetic) : 얼굴 임베딩끼리의 연산을 통해 시맨틱(Semantic) 정보를 추출한다.\n",
    "6. 시맨틱 정보 변경(Semantic Editing) : 이미지의 다양한 시맨틱 특징을 조절한다.\n",
    "7. 스타일 전송(Style Transfer) : 다른 이미지로 스타일을 전송한다.\n",
    "8. 얼굴 복구(Face Reconstruction) : 오염된 얼굴 이미지를 복구한다.[Interpreting the Latent Space of GANs for Semantic Face Editing](https://arxiv.org/abs/1907.10786)"
   ]
  },
  {
   "cell_type": "markdown",
   "id": "1b23ca3a-ae8c-4eb6-9dde-b75fb3e93ab0",
   "metadata": {},
   "source": [
    "## 아키텍처 소개\n",
    "- [A Style-Based Generator Architecture for Generative Adversarial Networks](https://arxiv.org/abs/1812.04948)\n",
    "- [Image2StyleGAN: How to Embed Images Into the StyleGAN Latent Space?](https://arxiv.org/abs/1904.03189)\n",
    "- [Image2StyleGAN++: How to Edit the Embedded Images?](https://arxiv.org/abs/1911.11544)\n",
    "- [Interpreting the Latent Space of GANs for Semantic Face Editing](https://arxiv.org/abs/1907.10786)"
   ]
  },
  {
   "cell_type": "code",
   "execution_count": null,
   "id": "9e5a66c7-e42e-4c28-a37e-691066540e4a",
   "metadata": {},
   "outputs": [],
   "source": []
  }
 ],
 "metadata": {
  "kernelspec": {
   "display_name": "torch_p38",
   "language": "python",
   "name": "torch_p38"
  },
  "language_info": {
   "codemirror_mode": {
    "name": "ipython",
    "version": 3
   },
   "file_extension": ".py",
   "mimetype": "text/x-python",
   "name": "python",
   "nbconvert_exporter": "python",
   "pygments_lexer": "ipython3",
   "version": "3.8.11"
  }
 },
 "nbformat": 4,
 "nbformat_minor": 5
}

{
 "cells": [
  {
   "cell_type": "markdown",
   "metadata": {},
   "source": [
    "# 모듈 정리"
   ]
  },
  {
   "cell_type": "markdown",
   "metadata": {},
   "source": [
    "# 모듈(Module)\n",
    "- 상수, 변수, 함수, 클래스를 포함하는 코드가 저장된 파일\n",
    "- 파이썬에서는 코드가 저장된 파일을 모듈(Module)이라고 함.\n",
    "- 코드를 작성할 때 이미 만들어진 모듈을 활용하면 코드를 효과적으로 작성할 수 있다."
   ]
  },
  {
   "cell_type": "markdown",
   "metadata": {},
   "source": [
    "# 모듈을 사용하는 이유\n",
    "- 모듈로 나누면 코드 작성과 관리가 쉬워진다.\n",
    "    - 규모가 큰 프로그램을 만들 때 나눠서 코드를 작성해야 덜 복잡하다.\n",
    "    - 기능별로 나눠작성하면 그 기능 구현에만 신경쓰면 됨으로 코드 작성과 관리가 편해진다.\n",
    "- 코드 재사용이 가능하다.\n",
    "    - 특정 기능을 구현해놓고 필요할 때마다 불러와서 사용할 수 있다.\n",
    "    - 기능별로 골라쓸 수 있으니 코드를 빨리 작성할 수 있다.\n",
    "    - 자신뿐만 아니라 타인이 작성한 모듈도 사용가능하다.\n",
    "- 공동 작업이 편리하다.\n",
    "    - 분업해서 팀작업을 할 때 모듈로 작성하고 전체 모듈 통합을 한다.\n",
    "    - 자신이 맡은 모듈만 신경쓰면 되고 공동작업으로 복잡성을 줄일 수 있다."
   ]
  },
  {
   "cell_type": "markdown",
   "metadata": {},
   "source": [
    "# 모듈 임포트\n",
    "1. from 모듈명 import 변수명\n",
    "2. from 모듈명 import 함수명\n",
    "3. from 모듈명 import 클래스명\n",
    "4. from 모듈명 import * (모듈에 포함된 모든 것 임포트)\\\n",
    "예시) from random import randint\n",
    "----\n",
    "1. import 모듈명 as 별명\n",
    "2. from 모듈명 import 변수명 as 별명\n",
    "3. from 모듈명 import 함수명 as 별명\n",
    "4. from 모듈명 import 클래스명 as 별명\\\n",
    "예시) import pandas as pd"
   ]
  },
  {
   "cell_type": "markdown",
   "metadata": {},
   "source": [
    "if \\_\\_name__ == '\\_\\_main__' :\\\n",
    "&nbsp;&nbsp;&nbsp;&nbsp;&nbsp;<직접 수행할 때만 실행되는 코드>\n",
    "    \n",
    "- 모듈안에 코드를 작성할때 위 코드를 넣고 실행문을 넣자.\n",
    "- 모듈을 직접 실행했을때만 실행문이 작동한다.\n",
    "- 임포트했을때는 실행문이 작동하지 않는다"
   ]
  },
  {
   "cell_type": "markdown",
   "metadata": {},
   "source": [
    "if \\_\\_name__ == '\\_\\_main__' :\\\n",
    "&nbsp;&nbsp;&nbsp;&nbsp;&nbsp;<직접 수행할 때만 실행되는 코드>\\\n",
    "else :\\\n",
    "&nbsp;&nbsp;&nbsp;&nbsp;&nbsp;<임포트됐을 때만 실행되는 코드>\n",
    "    \n",
    "- 위에 사항과 같다.\n",
    "- else를 쓰면 임포트됐을 때 직접실행이 아니더라도 실행되게 할 수 있다."
   ]
  },
  {
   "cell_type": "markdown",
   "metadata": {},
   "source": [
    "# 내장모듈\n",
    "- 파이썬에서 기본 제공해주는 모듈(내장)\n",
    "- 다양한 모듈들을 제공해줌"
   ]
  },
  {
   "cell_type": "markdown",
   "metadata": {},
   "source": [
    "- random : 난수발생 모듈\n",
    "- datetime : 날짜 및 시간 관련 처리\n",
    "- calendar : 연도/월/주 등 달력과 관련된 처리"
   ]
  },
  {
   "cell_type": "code",
   "execution_count": null,
   "metadata": {},
   "outputs": [],
   "source": []
  }
 ],
 "metadata": {
  "kernelspec": {
   "display_name": "Python 3",
   "language": "python",
   "name": "python3"
  },
  "language_info": {
   "codemirror_mode": {
    "name": "ipython",
    "version": 3
   },
   "file_extension": ".py",
   "mimetype": "text/x-python",
   "name": "python",
   "nbconvert_exporter": "python",
   "pygments_lexer": "ipython3",
   "version": "3.8.3"
  }
 },
 "nbformat": 4,
 "nbformat_minor": 4
}

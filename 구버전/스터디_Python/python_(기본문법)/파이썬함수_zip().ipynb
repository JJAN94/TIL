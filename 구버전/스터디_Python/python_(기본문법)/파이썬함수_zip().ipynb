{
 "cells": [
  {
   "cell_type": "markdown",
   "id": "368ccc5a",
   "metadata": {},
   "source": [
    "# 파이썬 함수 - zip() 사용법\n",
    "- 내장함수\n",
    "- 두 그룹의 데이터를 서로 엮어 주는 함수\n",
    "- iterable을 받아 iterable을 리턴함"
   ]
  },
  {
   "cell_type": "markdown",
   "id": "b3316f6d",
   "metadata": {},
   "source": [
    "### 기본사용법"
   ]
  },
  {
   "cell_type": "code",
   "execution_count": 1,
   "id": "e146ac70",
   "metadata": {},
   "outputs": [
    {
     "name": "stdout",
     "output_type": "stream",
     "text": [
      "(1, 'a')\n",
      "(2, 'b')\n",
      "(3, 'c')\n"
     ]
    }
   ],
   "source": [
    "ls1 = [1,2,3]\n",
    "ls2 = ['a', 'b', 'c']\n",
    "for ls3 in zip(ls1, ls2) :\n",
    "    print(ls3) # 튜플로 나온다."
   ]
  },
  {
   "cell_type": "markdown",
   "id": "5a2d933e",
   "metadata": {},
   "source": [
    "### 병렬처리"
   ]
  },
  {
   "cell_type": "code",
   "execution_count": 2,
   "id": "a51f1d0e",
   "metadata": {},
   "outputs": [
    {
     "name": "stdout",
     "output_type": "stream",
     "text": [
      "1 A a\n",
      "2 B b\n",
      "3 C c\n",
      "4 D d\n",
      "5 E e\n"
     ]
    }
   ],
   "source": [
    "for num, ENG, eng in zip('12345', 'ABCDE', 'abcde') :\n",
    "    print(num, ENG, eng)"
   ]
  },
  {
   "cell_type": "markdown",
   "id": "b510c349",
   "metadata": {},
   "source": [
    "### unzip()\n",
    "- zip함수에 \\*를 넣어주면 unzip이 된다"
   ]
  },
  {
   "cell_type": "code",
   "execution_count": 5,
   "id": "7531d29f",
   "metadata": {},
   "outputs": [
    {
     "name": "stdout",
     "output_type": "stream",
     "text": [
      "[(1, 'a'), (2, 'b'), (3, 'c')]\n",
      "(1, 2, 3) ('a', 'b', 'c')\n"
     ]
    }
   ],
   "source": [
    "ls1 = [1,2,3]\n",
    "ls2 = ['a', 'b', 'c']\n",
    "ls3 = list(zip(ls1, ls2))\n",
    "print(ls3)\n",
    "ls4, ls5 = zip(*ls3)\n",
    "print(ls4, ls5)"
   ]
  },
  {
   "cell_type": "markdown",
   "id": "d878e81b",
   "metadata": {},
   "source": [
    "### dict으로 묶기\n",
    "- dict으로 묶으면 처음 인자가 key, 두번째 인자가 value로 들어간다."
   ]
  },
  {
   "cell_type": "code",
   "execution_count": 9,
   "id": "6705ebf1",
   "metadata": {},
   "outputs": [
    {
     "name": "stdout",
     "output_type": "stream",
     "text": [
      "{1: 'a', 2: 'b', 3: 'c'}\n",
      "[1, 2, 3] ['a', 'b', 'c']\n"
     ]
    }
   ],
   "source": [
    "ls1 = [1,2,3]\n",
    "ls2 = ['a', 'b', 'c']\n",
    "ls3 = dict(zip(ls1, ls2))\n",
    "print(ls3)\n",
    "print(list(ls3.keys()), list(ls3.values()))"
   ]
  },
  {
   "cell_type": "markdown",
   "id": "121c0c38",
   "metadata": {},
   "source": [
    "### 주의점\n",
    "- 두 인자의 길이가 다르면 짧은 쪽을 기준으로 묶고, 나머지는 버린다."
   ]
  },
  {
   "cell_type": "code",
   "execution_count": null,
   "id": "8166dfe4",
   "metadata": {},
   "outputs": [],
   "source": []
  }
 ],
 "metadata": {
  "kernelspec": {
   "display_name": "Python 3",
   "language": "python",
   "name": "python3"
  },
  "language_info": {
   "codemirror_mode": {
    "name": "ipython",
    "version": 3
   },
   "file_extension": ".py",
   "mimetype": "text/x-python",
   "name": "python",
   "nbconvert_exporter": "python",
   "pygments_lexer": "ipython3",
   "version": "3.8.8"
  }
 },
 "nbformat": 4,
 "nbformat_minor": 5
}

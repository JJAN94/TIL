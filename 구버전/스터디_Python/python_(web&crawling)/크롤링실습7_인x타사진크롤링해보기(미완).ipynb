{
 "cells": [
  {
   "cell_type": "code",
   "execution_count": 44,
   "id": "8cbdb705",
   "metadata": {},
   "outputs": [],
   "source": [
    "from bs4 import BeautifulSoup\n",
    "import urllib.request\n",
    "from selenium.webdriver.common.keys import  Keys\n",
    "from selenium import  webdriver\n",
    "import time\n",
    "from selenium.webdriver import ActionChains\n",
    "import datetime"
   ]
  },
  {
   "cell_type": "code",
   "execution_count": 45,
   "id": "3b92c779",
   "metadata": {},
   "outputs": [],
   "source": [
    "def doScrollDown(whileSeconds):\n",
    "    start = datetime.datetime.now()\n",
    "    end = start + datetime.timedelta(seconds=whileSeconds)\n",
    "    while True:\n",
    "        driver.execute_script('window.scrollTo(0, document.body.scrollHeight);')\n",
    "        time.sleep(1)\n",
    "        if datetime.datetime.now() > end:\n",
    "            break"
   ]
  },
  {
   "cell_type": "code",
   "execution_count": 40,
   "id": "3e20e297",
   "metadata": {},
   "outputs": [],
   "source": [
    "def T1(word) :\n",
    "    binary = 'c:\\\\chromedriver\\\\chromedriver.exe'\n",
    "    browser = webdriver.Chrome(binary)    \n",
    "    \n",
    "    # 인스타그램 창 띄우기\n",
    "    browser.get(\"https://www.instagram.com/\")\n",
    "    time.sleep(1)\n",
    "    ID = \n",
    "    PW =\n",
    "    \n",
    "    # 로그인하기\n",
    "    input_id = browser.find_element_by_xpath('//*[@id=\"loginForm\"]/div/div[1]/div/label/input')\n",
    "    input_id.send_keys(ID)\n",
    "    time.sleep(2)\n",
    "    input_pw = browser.find_element_by_xpath('//*[@id=\"loginForm\"]/div/div[2]/div/label/input')\n",
    "    input_pw.send_keys(PW)\n",
    "    browser.find_element_by_xpath('//*[@id=\"loginForm\"]/div/div[3]/button/div').click()\n",
    "    time.sleep(4)\n",
    "\n",
    "    # 검색어 입력하기\n",
    "    input_word = browser.find_element_by_xpath('//*[@id=\"react-root\"]/section/nav/div[2]/div/div/div[2]/div[1]')\n",
    "    input_word.click()\n",
    "    time.sleep(1)\n",
    "    tt = browser.find_element_by_xpath('//*[@id=\"react-root\"]/section/nav/div[2]/div/div/div[2]/input')\n",
    "    tt.send_keys(word)\n",
    "    time.sleep(2)\n",
    "    browser.find_element_by_xpath('//*[@id=\"react-root\"]/section/nav/div[2]/div/div/div[2]/div[3]/div/div[2]/div/div[1]/a/div').click()\n",
    "    time.sleep(1)\n",
    "    \n",
    "    \n",
    "    \n",
    "    # 추출\n",
    "    for i in range(2) :\n",
    "        browser.find_element_by_xpath('//body').send_keys(Keys.END)\n",
    "        time.sleep(1)\n",
    "    time.sleep(2)\n",
    "    \n",
    "    \n",
    "    \n",
    "# //*[@id=\"f25e129a9e3bfa8\"]/div/div"
   ]
  },
  {
   "cell_type": "code",
   "execution_count": 41,
   "id": "f2d33120",
   "metadata": {},
   "outputs": [],
   "source": [
    "T1('여름 옷')"
   ]
  },
  {
   "cell_type": "markdown",
   "id": "6882a69d",
   "metadata": {},
   "source": [
    "# 이미지창에서 어떻게 해야할까?\n",
    "\n",
    "1. //*[@id=\"react-root\"]/section/main/article/div[1]/div/div/div[1]/div[1]/a/div/div[2]\n",
    "2. //*[@id=\"react-root\"]/section/main/article/div[1]/div/div/div[1]/div[2]/a/div/div[2]\n",
    "3. //*[@id=\"react-root\"]/section/main/article/div[1]/div/div/div[1]/div[3]/a/div/div[2]\n",
    "4. //*[@id=\"react-root\"]/section/main/article/div[1]/div/div/div[2]/div[1]/a/div/div[2]\n",
    "\n",
    "\n",
    "\n",
    "//*[@id=\"react-root\"]/section/main/article/div[1]/div/div/div[3]/div[3]/a/div/div[2]\n",
    "\n",
    "---\n",
    "\n",
    "//*[@id=\"react-root\"]/section/main/article/div[2]/div/div[1]/div[1]/a/div/div[2]\n",
    "\n",
    "//*[@id=\"react-root\"]/section/main/article/div[2]/div/div[1]/div[1]/a/div/div[2]\n",
    "\n",
    "//*[@id=\"react-root\"]/section/main/article/div[2]/div/div[2]/div[1]/a/div/div[2]\n",
    "\n",
    "//*[@id=\"react-root\"]/section/main/article/div[2]/div/div[2]/div[3]/a/div/div[2]\n",
    "\n",
    "기본 8 line이 뜸"
   ]
  },
  {
   "cell_type": "code",
   "execution_count": null,
   "id": "d87f6bc9",
   "metadata": {},
   "outputs": [],
   "source": []
  },
  {
   "cell_type": "code",
   "execution_count": null,
   "id": "aa321dfb",
   "metadata": {},
   "outputs": [],
   "source": []
  },
  {
   "cell_type": "code",
   "execution_count": null,
   "id": "a67cc6d5",
   "metadata": {},
   "outputs": [],
   "source": []
  },
  {
   "cell_type": "code",
   "execution_count": null,
   "id": "78b58c6c",
   "metadata": {},
   "outputs": [],
   "source": []
  }
 ],
 "metadata": {
  "kernelspec": {
   "display_name": "Python 3",
   "language": "python",
   "name": "python3"
  },
  "language_info": {
   "codemirror_mode": {
    "name": "ipython",
    "version": 3
   },
   "file_extension": ".py",
   "mimetype": "text/x-python",
   "name": "python",
   "nbconvert_exporter": "python",
   "pygments_lexer": "ipython3",
   "version": "3.8.8"
  }
 },
 "nbformat": 4,
 "nbformat_minor": 5
}

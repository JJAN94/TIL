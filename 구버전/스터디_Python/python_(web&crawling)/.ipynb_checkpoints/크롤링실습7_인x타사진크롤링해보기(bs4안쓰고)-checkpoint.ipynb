{
 "cells": [
  {
   "cell_type": "code",
   "execution_count": 2,
   "id": "7de5df47",
   "metadata": {},
   "outputs": [],
   "source": [
    "from bs4 import BeautifulSoup\n",
    "import urllib.request\n",
    "from selenium.webdriver.common.keys import Keys\n",
    "from selenium import webdriver\n",
    "import time\n",
    "from selenium.webdriver import ActionChains\n",
    "from datetime import datetime as dt\n",
    "import os"
   ]
  },
  {
   "cell_type": "code",
   "execution_count": 24,
   "id": "6571cbc3",
   "metadata": {},
   "outputs": [],
   "source": [
    "class Instar :\n",
    "                \n",
    "    @staticmethod\n",
    "    def get_url(word) : # 검색어(=word)를 입력받는다.\n",
    "        binary = 'C:\\\\chromedriver\\\\chromedriver.exe'\n",
    "        global browser\n",
    "        browser = webdriver.Chrome(binary)    \n",
    "       \n",
    "        # 인스타그램 창 띄우기\n",
    "        browser.get(\"https://www.instagram.com/\") #인스타그램 \n",
    "        time.sleep(1)\n",
    "        ID = # 계정 아이디 입력\n",
    "        PW =   # 계정 비밀번호 입력\n",
    "\n",
    "        # 로그인하기\n",
    "        input_id = browser.find_element_by_xpath('//*[@id=\"loginForm\"]/div/div[1]/div/label/input')\n",
    "        input_id.send_keys(ID)\n",
    "        time.sleep(2)\n",
    "        input_pw = browser.find_element_by_xpath('//*[@id=\"loginForm\"]/div/div[2]/div/label/input')\n",
    "        input_pw.send_keys(PW)\n",
    "        browser.find_element_by_xpath('//*[@id=\"loginForm\"]/div/div[3]/button/div').click()\n",
    "        time.sleep(4)\n",
    "\n",
    "        # 검색어 입력하기\n",
    "        input_word = browser.find_element_by_xpath('//*[@id=\"react-root\"]/section/nav/div[2]/div/div/div[2]/div[1]')\n",
    "        input_word.click()\n",
    "        time.sleep(1)\n",
    "        tt = browser.find_element_by_xpath('//*[@id=\"react-root\"]/section/nav/div[2]/div/div/div[2]/input')\n",
    "        tt.send_keys(word) # 검색어 넣기\n",
    "        time.sleep(2)\n",
    "        browser.find_element_by_xpath('//*[@id=\"react-root\"]/section/nav/div[2]/div/div/div[2]/div[3]/div/div[2]/div/div[1]/a/div').click()\n",
    "        time.sleep(10)\n",
    "\n",
    "\n",
    "#         browser.execute_script(\"window.scrollTo(0, document.body.scrollHeight);\")\n",
    "#         browser.execute_script(\"window.scrollTo(0, document.body.scrollHeight);\")\n",
    "        for _ in range(1000):\n",
    "            browser.execute_script(\"window.scrollTo(0, document.body.scrollHeight);\") \n",
    "            time.sleep(5)\n",
    "        \n",
    "        source0 = browser.find_elements_by_xpath('//*[@id=\"react-root\"]/section/main/article/div[2]/div/div/div/a/div/div[1]/img')\n",
    "        img_ls = [ele.get_attribute('src') for ele in source0]\n",
    "        \n",
    "        return img_ls\n",
    "\n",
    "    \n",
    "    @staticmethod\n",
    "    def get_img(word) :\n",
    "        \n",
    "        # 수집일 기준, 검색어폴더명으로 만들어주자\n",
    "        today_time = dt.now()\n",
    "        today = '{}{}{}'.format(today_time.year, today_time.month, today_time.day)\n",
    "        if os.path.exists('C:\\insta_image\\{}_{}'.format(word, today)) :\n",
    "            path = 'C:\\insta_image\\{}_{}'.format(word, today)\n",
    "        else : \n",
    "            os.mkdir('C:\\insta_image\\{}_{}'.format(word, today))\n",
    "            path = 'C:\\insta_image\\{}_{}'.format(word, today)\n",
    "        \n",
    "        ins = Instar.get_url(word)\n",
    "\n",
    "\n",
    "        time.sleep(1)\n",
    "        for idx, images in enumerate(ins) :\n",
    "            with urllib.request.urlopen(images) as f:\n",
    "#                 time.sleep(1)\n",
    "                with open('{}\\{}_image{}.png'.format(path, word, idx), 'wb') as h :\n",
    "#                     time.sleep(1)\n",
    "                    img = f.read()\n",
    "                    h.write(img)\n",
    "\n",
    "        browser.close()\n"
   ]
  },
  {
   "cell_type": "code",
   "execution_count": 25,
   "id": "634418bb",
   "metadata": {
    "scrolled": true,
    "tags": []
   },
   "outputs": [],
   "source": [
    "if __name__ == '__main__' :\n",
    "    Instar.get_img('남성옷')"
   ]
  },
  {
   "cell_type": "code",
   "execution_count": null,
   "id": "f8cf1744",
   "metadata": {},
   "outputs": [],
   "source": [
    "# Instar.get_url('여름옷')"
   ]
  },
  {
   "cell_type": "code",
   "execution_count": null,
   "id": "41a4b158",
   "metadata": {},
   "outputs": [],
   "source": []
  },
  {
   "cell_type": "code",
   "execution_count": null,
   "id": "7530e7ff",
   "metadata": {
    "tags": []
   },
   "outputs": [],
   "source": []
  },
  {
   "cell_type": "code",
   "execution_count": null,
   "id": "f2dc58a9",
   "metadata": {},
   "outputs": [],
   "source": []
  }
 ],
 "metadata": {
  "kernelspec": {
   "display_name": "Python 3",
   "language": "python",
   "name": "python3"
  },
  "language_info": {
   "codemirror_mode": {
    "name": "ipython",
    "version": 3
   },
   "file_extension": ".py",
   "mimetype": "text/x-python",
   "name": "python",
   "nbconvert_exporter": "python",
   "pygments_lexer": "ipython3",
   "version": "3.8.8"
  }
 },
 "nbformat": 4,
 "nbformat_minor": 5
}

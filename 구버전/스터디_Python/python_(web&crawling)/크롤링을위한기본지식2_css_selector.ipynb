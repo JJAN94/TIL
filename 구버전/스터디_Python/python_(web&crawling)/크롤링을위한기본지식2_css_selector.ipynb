{
 "cells": [
  {
   "cell_type": "markdown",
   "metadata": {},
   "source": [
    "# css selector\n",
    "- HTML 엘리먼트에 CSS 스타일을 적용시킬 때 엘리먼트틑 선택하기 위한 방법\n",
    "- 선택하는 방법\n",
    "    - tag 이름\n",
    "    - id 값\n",
    "    - class 값\n",
    "    - attribute 값"
   ]
  },
  {
   "cell_type": "markdown",
   "metadata": {},
   "source": [
    "### 1. 태그 이름으로 선택\n",
    "- data 1 엘리먼트를 선택\n",
    "    - css_selector : `div`"
   ]
  },
  {
   "cell_type": "markdown",
   "metadata": {},
   "source": [
    "### 2. 아이디 값으로 선택\n",
    "- data 2를 아이디 값으로 선택\n",
    "    - css_selector : `#txt`\n",
    "    - id값으로 선택할 때는 #을 붙여준다."
   ]
  },
  {
   "cell_type": "markdown",
   "metadata": {},
   "source": [
    "### 3. 클래스 값으로 선택\n",
    "- data 3를 클래스 값으로 선택\n",
    "    - css_selector : `.no2` (.을 붙인다)\n",
    "    - \\.dss-txt : data 2, data 3가 선택"
   ]
  },
  {
   "cell_type": "markdown",
   "metadata": {},
   "source": [
    "### 4. 속성값으로 선택\n",
    "- data 4를 속성 값으로 선택\n",
    "    - css_selector : `[val=\"d4\"]`, `[id=\"da4\"]`\n",
    "    - \\[]를 써준다"
   ]
  },
  {
   "cell_type": "markdown",
   "metadata": {},
   "source": [
    "### 5. 혼합해서 사용\n",
    "- span 태그, class값이 no5인 엘리먼트를 선택\n",
    "    - css_selector : `span.no5`"
   ]
  },
  {
   "cell_type": "code",
   "execution_count": 7,
   "metadata": {},
   "outputs": [
    {
     "data": {
      "text/html": [
       "<div id=\"wrap\" class=\"dss\">data 1</div>\n",
       "<p id=\"txt\" class=\"dss-txt no1\">data 2</p>\n",
       "<span class=\"dss-txt no2\" val=\"d3\">data 3</span>\n",
       "<span id=\"da4\" val=\"d4\">data 4</span>\n",
       "<span class=\"no5\">data 5</span>\n"
      ],
      "text/plain": [
       "<IPython.core.display.HTML object>"
      ]
     },
     "metadata": {},
     "output_type": "display_data"
    }
   ],
   "source": [
    "%%html\n",
    "<div id=\"wrap\" class=\"dss\">data 1</div>\n",
    "<p id=\"txt\" class=\"dss-txt no1\">data 2</p>\n",
    "<span class=\"dss-txt no2\" val=\"d3\">data 3</span>\n",
    "<span id=\"da4\" val=\"d4\">data 4</span>\n",
    "<span class=\"no5\">data 5</span>"
   ]
  },
  {
   "cell_type": "markdown",
   "metadata": {},
   "source": [
    "### 6. not selector\n",
    "- 선택된 엘리먼트에서 특정 조건의 엘리먼트를 제거해서 선택\n",
    "- data2 엘리먼트만 제외한 ds 클래스를 선택\n",
    "    - css_selector : `.ds:not(.dss2)` -> ds중에서 dss2만 제외하고"
   ]
  },
  {
   "cell_type": "markdown",
   "metadata": {},
   "source": [
    "### 7. nth-child\n",
    "- n 번째의 엘리먼트를 선택\n",
    "- data 3를 선택하는 방법\n",
    "    - css_selector : `.ds:nth-child(3)` # 상위로부터 3번째에 ds가 들어가있으면 선택한다.\n",
    "- 만약 예를들어 \\<div>다음에 <span>data 0</span>이 추가되면 data3가 아닌 data2가 선택된다."
   ]
  },
  {
   "cell_type": "code",
   "execution_count": 8,
   "metadata": {},
   "outputs": [
    {
     "data": {
      "text/html": [
       "<div>\n",
       "    <p class=\"ds dss1\">data 1</p>\n",
       "    <p class=\"ds dss2\">data 2</p>\n",
       "    <p class=\"ds dss3\">data 3</p>\n",
       "    <p class=\"ds dss4\">data 4</p>\n",
       "</div>\n"
      ],
      "text/plain": [
       "<IPython.core.display.HTML object>"
      ]
     },
     "metadata": {},
     "output_type": "display_data"
    }
   ],
   "source": [
    "%%html\n",
    "<div>\n",
    "    <p class=\"ds dss1\">data 1</p>\n",
    "    <p class=\"ds dss2\">data 2</p>\n",
    "    <p class=\"ds dss3\">data 3</p>\n",
    "    <p class=\"ds dss4\">data 4</p>\n",
    "</div>"
   ]
  },
  {
   "cell_type": "markdown",
   "metadata": {},
   "source": [
    "### 8. 계층구조로 엘리먼트를 선택\n",
    "- 바로 아래 단계의 엘리먼트 선택\n",
    "    - `.wrap-1 > h5` : inner 1 선택\n",
    "- 모든 하위 엘리먼트를 선택\n",
    "    - `.wrap-1 h5` : inner 1, inner2 선택"
   ]
  },
  {
   "cell_type": "code",
   "execution_count": 9,
   "metadata": {},
   "outputs": [
    {
     "data": {
      "text/html": [
       "<div class=\"wrap-1\">\n",
       "    <h5>inner 1</h5>\n",
       "    <div class=\"wrap-2\">\n",
       "        <h5>inner 2</h5>\n",
       "    </div>\n",
       "</div>\n"
      ],
      "text/plain": [
       "<IPython.core.display.HTML object>"
      ]
     },
     "metadata": {},
     "output_type": "display_data"
    }
   ],
   "source": [
    "%%html\n",
    "<div class=\"wrap-1\">\n",
    "    <h5>inner 1</h5>\n",
    "    <div class=\"wrap-2\">\n",
    "        <h5>inner 2</h5>\n",
    "    </div>\n",
    "</div>"
   ]
  },
  {
   "cell_type": "code",
   "execution_count": null,
   "metadata": {},
   "outputs": [],
   "source": [
    "<div class=\"_bz0w\"></div>"
   ]
  },
  {
   "cell_type": "markdown",
   "metadata": {},
   "source": [
    "# HTML 데이터 파싱을 이용한 크롤링\n",
    "- `[     ]`의 (...)을 가져오자\n",
    "    - 1. 웹페이지 분석 : URL 찾기\n",
    "    - 2. 요청 -> 응답 : HTML(str)\n",
    "    - 3. HTML(str) -> BeautifulSoup obj (css-selector) -> DF"
   ]
  }
 ],
 "metadata": {
  "kernelspec": {
   "display_name": "Python 3",
   "language": "python",
   "name": "python3"
  },
  "language_info": {
   "codemirror_mode": {
    "name": "ipython",
    "version": 3
   },
   "file_extension": ".py",
   "mimetype": "text/x-python",
   "name": "python",
   "nbconvert_exporter": "python",
   "pygments_lexer": "ipython3",
   "version": "3.8.3"
  }
 },
 "nbformat": 4,
 "nbformat_minor": 5
}

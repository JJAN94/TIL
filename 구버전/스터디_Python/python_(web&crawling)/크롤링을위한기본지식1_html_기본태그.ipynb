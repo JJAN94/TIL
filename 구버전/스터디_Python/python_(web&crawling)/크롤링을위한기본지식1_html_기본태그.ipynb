{
 "cells": [
  {
   "cell_type": "markdown",
   "metadata": {},
   "source": [
    "### 크롤링 과정\n",
    "1. 웹서비스 분석 -> url\n",
    "2. 요청 & 응답\n",
    "3. 데이터 파싱"
   ]
  },
  {
   "cell_type": "markdown",
   "metadata": {},
   "source": [
    "1. 동적 웹 페이지 : 페이지에 더보기같은게 있는것, url은 변하지 않고 html로 전달하면 서버에서는 json으로 준다.\n",
    "\n",
    "2. 정적 웹 페이지 : 페이지번호가 있는 경우, url이 변함"
   ]
  },
  {
   "cell_type": "markdown",
   "metadata": {},
   "source": [
    "# 1. HTML"
   ]
  },
  {
   "cell_type": "markdown",
   "metadata": {},
   "source": [
    "- Hyper Text Markup Language의 약자\n",
    "- 웹 문서를 작성하는 마크업 언어\n",
    "- 웹페이지를 구성하는 언어\n",
    "    - HTML : 화면의 레이아웃이나 텍스트\n",
    "    - CSS : 화면의 색상 크기 등의 스타일 (css-selector)\n",
    "    - JavaScript : 화면의 클릭, 드래그 등등의 이벤트를 담당"
   ]
  },
  {
   "cell_type": "markdown",
   "metadata": {},
   "source": [
    "### HTML의 구성요소\n",
    "- Document\n",
    "    - 페이지 전체를 의미\n",
    "- Element\n",
    "    - 계층적 구조로 이루어져 있으며 Document를 이룸\n",
    "    - 시작 태그와 끝 태그로 구성\n",
    "- Tag\n",
    "    - 시작 태그와 끝 태그로 엘리먼트를 구성\n",
    "    - 시작 태그에는 여러가지 속성값들이 들어 있다.\n",
    "    - 태그와 태그 사이에는 문자열 데이터를 가질 수 있다.\n",
    "    - 태그의 이름에 따라서 태그의 목적이 달라진다.\n",
    "- Attribute\n",
    "    - 시작 태그 안에 포함되는 속성값\n",
    "    - id, class :element를 선택하기 위한 목적으로 사용하는 attribute\n",
    "    - 기타 등등"
   ]
  },
  {
   "cell_type": "code",
   "execution_count": 7,
   "metadata": {},
   "outputs": [
    {
     "data": {
      "text/html": [
       "<div class=\"wrapper\">\n",
       "    <button id=\"btn-1\" type=\"button\">HTML 1</button>\n",
       "    <button id=\"btn-2\" type=\"button\" style=\"color:red;\">HTML 2</button>\n",
       "</div>\n"
      ],
      "text/plain": [
       "<IPython.core.display.HTML object>"
      ]
     },
     "metadata": {},
     "output_type": "display_data"
    }
   ],
   "source": [
    "%%html\n",
    "<div class=\"wrapper\">\n",
    "    <button id=\"btn-1\" class=\"bt no1\" type=\"button\">HTML 1</button>\n",
    "    <button id=\"btn-2\" class=\"bt no2\" type=\"button\" style=\"color:red;\">HTML 2</button>\n",
    "</div>"
   ]
  },
  {
   "cell_type": "markdown",
   "metadata": {},
   "source": [
    "### 속성값\n",
    "- id\n",
    "    - 웹페이지에서 유일한 값\n",
    "- class \n",
    "    - 웹 페이지 내에서 여러가지의 값 사용이 가능\n",
    "    - 하나의 엘리먼트에 여러가지 값 사용이 가능 (위에 예제에 class=\"bt no1\", \"bt no2\" 처럼 bt를 여러개 쓸 수 있다.)"
   ]
  },
  {
   "cell_type": "code",
   "execution_count": null,
   "metadata": {},
   "outputs": [],
   "source": []
  },
  {
   "cell_type": "markdown",
   "metadata": {},
   "source": [
    "### 태그의 종류"
   ]
  },
  {
   "cell_type": "markdown",
   "metadata": {},
   "source": [
    "- **head**\n",
    "    - 제목을 나타낼때 사용 "
   ]
  },
  {
   "cell_type": "code",
   "execution_count": 8,
   "metadata": {},
   "outputs": [
    {
     "data": {
      "text/html": [
       "<h1>Python</h1>\n",
       "<h6>HTML</h6>\n"
      ],
      "text/plain": [
       "<IPython.core.display.HTML object>"
      ]
     },
     "metadata": {},
     "output_type": "display_data"
    }
   ],
   "source": [
    "%%html\n",
    "<h1>Python</h1>\n",
    "<h6>HTML</h6>"
   ]
  },
  {
   "cell_type": "code",
   "execution_count": null,
   "metadata": {},
   "outputs": [],
   "source": []
  },
  {
   "cell_type": "markdown",
   "metadata": {},
   "source": [
    "- **p**\n",
    "    - 한 줄의 문자열을 출력하기 위한 태그"
   ]
  },
  {
   "cell_type": "code",
   "execution_count": 11,
   "metadata": {},
   "outputs": [
    {
     "data": {
      "text/html": [
       "<p>파이썬은 재밌습니다.</p>\n",
       "<p>내일은 휴강입니다.</p>\n"
      ],
      "text/plain": [
       "<IPython.core.display.HTML object>"
      ]
     },
     "metadata": {},
     "output_type": "display_data"
    }
   ],
   "source": [
    "%%html\n",
    "<p>파이썬은 재밌습니다.</p>\n",
    "<p>내일은 휴강입니다.</p>"
   ]
  },
  {
   "cell_type": "code",
   "execution_count": null,
   "metadata": {},
   "outputs": [],
   "source": []
  },
  {
   "cell_type": "markdown",
   "metadata": {},
   "source": [
    "- **span**\n",
    "    - 한 블럭의 문자열을 출력"
   ]
  },
  {
   "cell_type": "code",
   "execution_count": 12,
   "metadata": {},
   "outputs": [
    {
     "data": {
      "text/html": [
       "<span>파이썬은 재밌습니다.</span>\n",
       "<span>내일은 휴강입니다.</span>\n"
      ],
      "text/plain": [
       "<IPython.core.display.HTML object>"
      ]
     },
     "metadata": {},
     "output_type": "display_data"
    }
   ],
   "source": [
    "%%html\n",
    "<span>파이썬은 재밌습니다.</span>\n",
    "<span>내일은 휴강입니다.</span>"
   ]
  },
  {
   "cell_type": "code",
   "execution_count": null,
   "metadata": {},
   "outputs": [],
   "source": []
  },
  {
   "cell_type": "markdown",
   "metadata": {},
   "source": [
    "- **div**\n",
    "    - 레이아웃을 나타내는 태그, 가장 많이 사용"
   ]
  },
  {
   "cell_type": "code",
   "execution_count": 13,
   "metadata": {},
   "outputs": [
    {
     "data": {
      "text/html": [
       "<div>\n",
       "    <p>html 1</p>\n",
       "    <p>html 2</p>\n",
       "</div>\n",
       "\n",
       "<div>\n",
       "    <p>html 3</p>\n",
       "</div>\n"
      ],
      "text/plain": [
       "<IPython.core.display.HTML object>"
      ]
     },
     "metadata": {},
     "output_type": "display_data"
    }
   ],
   "source": [
    "%%html\n",
    "<div>\n",
    "    <p>html 1</p>\n",
    "    <p>html 2</p>\n",
    "</div>\n",
    "\n",
    "<div>\n",
    "    <p>html 3</p>\n",
    "</div>"
   ]
  },
  {
   "cell_type": "code",
   "execution_count": null,
   "metadata": {},
   "outputs": [],
   "source": []
  },
  {
   "cell_type": "markdown",
   "metadata": {},
   "source": [
    "- **table**\n",
    "    - 로우와 컬럼이 있는 테이블 모양을 나타낼때 사용되는 태그"
   ]
  },
  {
   "cell_type": "code",
   "execution_count": 14,
   "metadata": {},
   "outputs": [
    {
     "data": {
      "text/html": [
       "<table>\n",
       "    <caption>테이블 제목</caption>\n",
       "    <thead>\n",
       "        <tr>\n",
       "            <th>코드</th>\n",
       "            <th>회사명</th>\n",
       "        </tr>\n",
       "    </thead>\n",
       "    <tbody>\n",
       "        <tr>\n",
       "            <td>0001</td>\n",
       "            <td>삼성전자</td>\n",
       "        </tr>\n",
       "        <tr>\n",
       "            <td>0002</td>\n",
       "            <td>하이닉스</td>\n",
       "        </tr>\n",
       "        <tr>\n",
       "            <td>0003</td>\n",
       "            <td>TSMC</td>\n",
       "        </tr>\n",
       "        \n",
       "    </tbody>\n",
       "</table>\n"
      ],
      "text/plain": [
       "<IPython.core.display.HTML object>"
      ]
     },
     "metadata": {},
     "output_type": "display_data"
    }
   ],
   "source": [
    "%%html\n",
    "<table>\n",
    "    <caption>테이블 제목</caption>\n",
    "    <thead>\n",
    "        <tr>\n",
    "            <th>코드</th>\n",
    "            <th>회사명</th>\n",
    "        </tr>\n",
    "    </thead>\n",
    "    <tbody>\n",
    "        <tr>\n",
    "            <td>0001</td>\n",
    "            <td>삼성전자</td>\n",
    "        </tr>\n",
    "        <tr>\n",
    "            <td>0002</td>\n",
    "            <td>하이닉스</td>\n",
    "        </tr>\n",
    "        <tr>\n",
    "            <td>0003</td>\n",
    "            <td>TSMC</td>\n",
    "        </tr>\n",
    "        \n",
    "    </tbody>\n",
    "</table>"
   ]
  },
  {
   "cell_type": "code",
   "execution_count": null,
   "metadata": {},
   "outputs": [],
   "source": []
  },
  {
   "cell_type": "markdown",
   "metadata": {},
   "source": [
    "- **ul, li**\n",
    "    - 리스트를 나타내는 태그"
   ]
  },
  {
   "cell_type": "code",
   "execution_count": 2,
   "metadata": {},
   "outputs": [
    {
     "data": {
      "text/html": [
       "<ul>\n",
       "    <li>data 1</li>\n",
       "    <li>data 2</li>\n",
       "    <li>data 3</li>\n",
       "</ul>\n"
      ],
      "text/plain": [
       "<IPython.core.display.HTML object>"
      ]
     },
     "metadata": {},
     "output_type": "display_data"
    }
   ],
   "source": [
    "%%html\n",
    "<ul>\n",
    "    <li>data 1</li>\n",
    "    <li>data 2</li>\n",
    "    <li>data 3</li>\n",
    "</ul>"
   ]
  },
  {
   "cell_type": "code",
   "execution_count": null,
   "metadata": {},
   "outputs": [],
   "source": []
  },
  {
   "cell_type": "markdown",
   "metadata": {},
   "source": [
    "- **a**\n",
    "    - 링크를 출력하는 태그\n",
    "    - href 속성값에 이동할 URL 데이터를 넣습니다."
   ]
  },
  {
   "cell_type": "code",
   "execution_count": 4,
   "metadata": {},
   "outputs": [
    {
     "data": {
      "text/html": [
       "<a href=\"https://naver.com\" target=\"_blank\">네이버</a>\n",
       "# target=\"_blank\" 는 새창을 열어서 이동하겠다는 뜻\n"
      ],
      "text/plain": [
       "<IPython.core.display.HTML object>"
      ]
     },
     "metadata": {},
     "output_type": "display_data"
    }
   ],
   "source": [
    "%%html\n",
    "<a href=\"https://naver.com\" target=\"_blank\">네이버</a>\n",
    "# target=\"_blank\" 는 새창을 열어서 이동하겠다는 뜻"
   ]
  },
  {
   "cell_type": "code",
   "execution_count": 7,
   "metadata": {},
   "outputs": [
    {
     "data": {
      "text/html": [
       "<img style=\"width:400px;\" src=\"https://ssl.pstatic.net/tveta/libs/1339/1339886/bf3690d9601651d13229_20210603234406530_6.jpg\" alt=\"[광고]OMEN. 네가 돈이 얼마나 많든 우린 관심 없어 돈으로 티어 올리는 거 아니잖아? 실력만이 너를 증명한다. 본격 게이밍의 시작은 인텔과 함께. 더 알아보기\" width=\"510\" height=\"135\">\n"
      ],
      "text/plain": [
       "<IPython.core.display.HTML object>"
      ]
     },
     "metadata": {},
     "output_type": "display_data"
    }
   ],
   "source": [
    "%%html\n",
    "<img style=\"width:400px;\" src=\"https://ssl.pstatic.net/tveta/libs/1339/1339886/bf3690d9601651d13229_20210603234406530_6.jpg\" alt=\"[광고]OMEN. 네가 돈이 얼마나 많든 우린 관심 없어 돈으로 티어 올리는 거 아니잖아? 실력만이 너를 증명한다. 본격 게이밍의 시작은 인텔과 함께. 더 알아보기\" width=\"510\" height=\"135\">\n"
   ]
  },
  {
   "cell_type": "code",
   "execution_count": 9,
   "metadata": {},
   "outputs": [
    {
     "data": {
      "text/html": [
       "<img src=\"https://ssl.pstatic.net/tveta/libs/1339/1339886/bf3690d9601651d13229_20210603234406530_6.jpg\">\n"
      ],
      "text/plain": [
       "<IPython.core.display.HTML object>"
      ]
     },
     "metadata": {},
     "output_type": "display_data"
    }
   ],
   "source": [
    "%%html\n",
    "<img src=\"https://ssl.pstatic.net/tveta/libs/1339/1339886/bf3690d9601651d13229_20210603234406530_6.jpg\">"
   ]
  },
  {
   "cell_type": "code",
   "execution_count": null,
   "metadata": {},
   "outputs": [],
   "source": []
  },
  {
   "cell_type": "markdown",
   "metadata": {},
   "source": [
    "- **iframe**\n",
    "    - 외부 URL 링크의 페이지를 보여주기 위한 태그\n",
    "    - 화면 안에 외부 url을 가져와 외부화면을 띄어준다"
   ]
  },
  {
   "cell_type": "code",
   "execution_count": 16,
   "metadata": {},
   "outputs": [
    {
     "data": {
      "text/html": [
       "<iframe src=\"https://www.naver.com/\" width=\"100%\" height=\"200px;\"></iframe>\n",
       "# 거부당하는데..?\n"
      ],
      "text/plain": [
       "<IPython.core.display.HTML object>"
      ]
     },
     "metadata": {},
     "output_type": "display_data"
    }
   ],
   "source": [
    "%%html\n",
    "<iframe src=\"https://www.naver.com/\" width=\"100%\" height=\"200px;\"></iframe>\n",
    "# 거부당하는데..?"
   ]
  },
  {
   "cell_type": "code",
   "execution_count": null,
   "metadata": {},
   "outputs": [],
   "source": []
  },
  {
   "cell_type": "markdown",
   "metadata": {},
   "source": [
    "- **input**\n",
    "    - text\n",
    "    - password\n",
    "    - radio\n",
    "    - checkbox\n"
   ]
  },
  {
   "cell_type": "code",
   "execution_count": 23,
   "metadata": {},
   "outputs": [
    {
     "data": {
      "text/html": [
       "<input type=\"text\"></input>\n",
       "<input type=\"password\" placeholder=\"비밀번호\"></input><br>\n",
       "<input type=\"radio\" name=\"data\">radio 1</input><br>\n",
       "<input type=\"radio\" name=\"data\">radio 2</input><br>\n",
       "<input type=\"radio\" name=\"data\">radio 3</input><br>\n",
       "<input type=\"checkbox\">checkbox 1</input>\n",
       "<br><br>\n",
       "# placeholder는 초기에 창에 띄어주는 값, 누르는 순간 사라짐\n",
       "# radio는 name값으로 그룹핑을 해줌\n"
      ],
      "text/plain": [
       "<IPython.core.display.HTML object>"
      ]
     },
     "metadata": {},
     "output_type": "display_data"
    }
   ],
   "source": [
    "%%html\n",
    "<input type=\"text\"></input>\n",
    "<input type=\"password\" placeholder=\"비밀번호\"></input><br>\n",
    "<input type=\"radio\" name=\"data\">radio 1</input><br>\n",
    "<input type=\"radio\" name=\"data\">radio 2</input><br>\n",
    "<input type=\"radio\" name=\"data\">radio 3</input><br>\n",
    "<input type=\"checkbox\">checkbox 1</input>\n",
    "<br><br>\n",
    "# placeholder는 초기에 창에 띄어주는 값, 누르는 순간 사라짐\n",
    "# radio는 name값으로 그룹핑을 해줌"
   ]
  },
  {
   "cell_type": "code",
   "execution_count": null,
   "metadata": {},
   "outputs": [],
   "source": []
  },
  {
   "cell_type": "markdown",
   "metadata": {},
   "source": [
    "- **select, option**\n",
    "    - 옵션을 선택할 수 있는 드랍다운 형태의 태그"
   ]
  },
  {
   "cell_type": "code",
   "execution_count": 24,
   "metadata": {},
   "outputs": [
    {
     "data": {
      "text/html": [
       "<select>\n",
       "    <option>data 1</option>\n",
       "    <option>data 2</option>\n",
       "</select>\n"
      ],
      "text/plain": [
       "<IPython.core.display.HTML object>"
      ]
     },
     "metadata": {},
     "output_type": "display_data"
    }
   ],
   "source": [
    "%%html\n",
    "<select>\n",
    "    <option>data 1</option>\n",
    "    <option>data 2</option>\n",
    "</select>"
   ]
  },
  {
   "cell_type": "code",
   "execution_count": null,
   "metadata": {},
   "outputs": [],
   "source": []
  },
  {
   "cell_type": "code",
   "execution_count": null,
   "metadata": {},
   "outputs": [],
   "source": []
  },
  {
   "cell_type": "code",
   "execution_count": null,
   "metadata": {},
   "outputs": [],
   "source": []
  },
  {
   "cell_type": "code",
   "execution_count": null,
   "metadata": {},
   "outputs": [],
   "source": []
  },
  {
   "cell_type": "code",
   "execution_count": null,
   "metadata": {},
   "outputs": [],
   "source": []
  },
  {
   "cell_type": "code",
   "execution_count": null,
   "metadata": {},
   "outputs": [],
   "source": []
  },
  {
   "cell_type": "code",
   "execution_count": null,
   "metadata": {},
   "outputs": [],
   "source": []
  },
  {
   "cell_type": "code",
   "execution_count": null,
   "metadata": {},
   "outputs": [],
   "source": []
  },
  {
   "cell_type": "code",
   "execution_count": null,
   "metadata": {},
   "outputs": [],
   "source": []
  },
  {
   "cell_type": "code",
   "execution_count": null,
   "metadata": {},
   "outputs": [],
   "source": []
  },
  {
   "cell_type": "code",
   "execution_count": null,
   "metadata": {},
   "outputs": [],
   "source": []
  },
  {
   "cell_type": "code",
   "execution_count": null,
   "metadata": {},
   "outputs": [],
   "source": []
  },
  {
   "cell_type": "code",
   "execution_count": null,
   "metadata": {},
   "outputs": [],
   "source": []
  },
  {
   "cell_type": "code",
   "execution_count": null,
   "metadata": {},
   "outputs": [],
   "source": []
  },
  {
   "cell_type": "code",
   "execution_count": null,
   "metadata": {},
   "outputs": [],
   "source": []
  },
  {
   "cell_type": "code",
   "execution_count": null,
   "metadata": {},
   "outputs": [],
   "source": [
    "# %%html\n",
    "# <html>\n",
    "\n",
    "# <head></head>\n",
    "# <body>\n",
    "# <meta charset=\"utf-8\">\n",
    "# <title>Python test</title>\n",
    "# <script type=\"text/javascript\">\n",
    "# function call_name(name){\n",
    "#     document.write(\"안녕하세요! \"+name+\"<br>\");\n",
    "# };\n",
    "# </script>\n",
    "# <script type=\"text/javascript\">\n",
    "#     call_name(\"Jin\");\n",
    "#     call_name(\"Yun\");\n",
    "# </script>\n",
    "# </body>\n",
    "# </html>"
   ]
  }
 ],
 "metadata": {
  "kernelspec": {
   "display_name": "Python 3",
   "language": "python",
   "name": "python3"
  },
  "language_info": {
   "codemirror_mode": {
    "name": "ipython",
    "version": 3
   },
   "file_extension": ".py",
   "mimetype": "text/x-python",
   "name": "python",
   "nbconvert_exporter": "python",
   "pygments_lexer": "ipython3",
   "version": "3.8.3"
  }
 },
 "nbformat": 4,
 "nbformat_minor": 5
}

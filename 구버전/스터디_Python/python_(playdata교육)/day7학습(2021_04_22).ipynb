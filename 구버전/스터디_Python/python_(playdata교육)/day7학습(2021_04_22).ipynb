{
 "cells": [
  {
   "cell_type": "markdown",
   "metadata": {},
   "source": [
    "#### 지난시간\n",
    "- format"
   ]
  },
  {
   "cell_type": "code",
   "execution_count": 1,
   "metadata": {},
   "outputs": [
    {
     "name": "stdout",
     "output_type": "stream",
     "text": [
      "value is 123456789\n"
     ]
    }
   ],
   "source": [
    "money = 123456789\n",
    "print('value is {:05d}'.format(money))"
   ]
  },
  {
   "cell_type": "code",
   "execution_count": 2,
   "metadata": {},
   "outputs": [
    {
     "name": "stdout",
     "output_type": "stream",
     "text": [
      "value is \\ 123,456,789\n"
     ]
    }
   ],
   "source": [
    "print('value is \\{0:12,d}'.format(money))"
   ]
  },
  {
   "cell_type": "code",
   "execution_count": 3,
   "metadata": {},
   "outputs": [
    {
     "name": "stdout",
     "output_type": "stream",
     "text": [
      "value is \\123,456,789.000000\n"
     ]
    }
   ],
   "source": [
    "print('value is \\{0:12,f}'.format(money))"
   ]
  },
  {
   "cell_type": "code",
   "execution_count": null,
   "metadata": {},
   "outputs": [],
   "source": []
  },
  {
   "cell_type": "markdown",
   "metadata": {},
   "source": [
    "## 2021_04_22_7일차_수업"
   ]
  },
  {
   "cell_type": "markdown",
   "metadata": {},
   "source": [
    "### 제어문"
   ]
  },
  {
   "cell_type": "markdown",
   "metadata": {},
   "source": [
    "1. 조건문 \n",
    "    - if문을 통해서 조건을 구현하는 방법과 단일if, 다중 if~else 구문을 숙지하고 활용 할 수 있다.\n",
    "2. 반복문\n",
    "     - 반복적이고 연속적인 구문을 while문 for문을 이용해서 간단하고 빠르게 처리할 수 있다.\n",
    "3. 흐름제어\n",
    "     - 프로그램의 흐름을 제어하는 분기문을 이용해서 순차적인 프로그램을 제어하거나 흐름을 이용할 수 있다."
   ]
  },
  {
   "cell_type": "markdown",
   "metadata": {},
   "source": [
    "파이썬의 기본 구문\n",
    "- 파이썬의 기본 구문은 상황에 따라 적합한 제어문(control flow statements)을 사용해서 문제를 해결하도록 하며 조건, 반복, 흐름제어문으로 이루어진다.\n",
    "- 조건문 : 단일if, 다중if\\~else, 중첩if\\~else 구문으로 이루어지고 빈 실행문이 있다면 명령이 쓰일곳에 pass를 작성\n",
    "- 반복 : while, while\\~else, for문, for\\~else, 중첩구조, pass를 작성한다. (with)\n",
    "- 흐름제어문 : continue문, break문, return문"
   ]
  },
  {
   "cell_type": "markdown",
   "metadata": {},
   "source": [
    "### 조건문 - 단일if\n",
    "* 만일에 ~하면 ~하자\n",
    "* 입력한 숫자가 양수이면 양수라고 출력하자.\n",
    "* 입력한 점수가 90점 이상이면 'A'라고 출력하자.\n",
    "---\n",
    "- if문은 조건 비교 분기문의 하나로 주어진 조건을 비교해서 조건의 리턴값이 boolean의 True, Fals에 따라 명령을 제어하는 구문이다.\n",
    "- if문이 조건식의 결과가 True인 경우에는 다음 명령의 들여쓰기 후 기술된 명령을 실행한다."
   ]
  },
  {
   "cell_type": "markdown",
   "metadata": {},
   "source": [
    "[형식]\n",
    "if 조건문 : <br>\n",
    "   True인 경우 수행 할 문장"
   ]
  },
  {
   "cell_type": "code",
   "execution_count": 7,
   "metadata": {},
   "outputs": [
    {
     "name": "stdout",
     "output_type": "stream",
     "text": [
      "4\n",
      "양수\n"
     ]
    }
   ],
   "source": [
    "# 입력한 숫자가 양수이면 양수라고 출력하자.\n",
    "num = int(input())\n",
    "if num > 0 :\n",
    "    print('양수')"
   ]
  },
  {
   "cell_type": "code",
   "execution_count": 8,
   "metadata": {},
   "outputs": [
    {
     "name": "stdout",
     "output_type": "stream",
     "text": [
      "91\n",
      "A\n"
     ]
    }
   ],
   "source": [
    "# 입력한 점수가 90점 이상이면 'A'라고 출력하자.\n",
    "score = int(input())\n",
    "if score >= 90 :\n",
    "    print('A')"
   ]
  },
  {
   "cell_type": "code",
   "execution_count": 9,
   "metadata": {},
   "outputs": [
    {
     "name": "stdout",
     "output_type": "stream",
     "text": [
      "input su :4\n",
      "4\n"
     ]
    }
   ],
   "source": [
    "# 입력한(input) 숫자(정수 int() )가 2의 배수이면(if) 출력하자. (print) su % 2 == 0\n",
    "su = int(input('input su :'))\n",
    "if su%2==0 :\n",
    "    print(su)"
   ]
  },
  {
   "cell_type": "markdown",
   "metadata": {},
   "source": [
    "* 2의 배수 또는 3의 배수 : (su%2==0) | (su%3==0)\n",
    "* 2의 배수와 3의 배수 : (su%2==0) & (su%3==0)\n",
    "* 2의 배수와 3의 배수가 아닌것 : !((su%2==0) | (su%3==0))"
   ]
  },
  {
   "cell_type": "code",
   "execution_count": 10,
   "metadata": {},
   "outputs": [
    {
     "name": "stdout",
     "output_type": "stream",
     "text": [
      "a1234\n",
      "Access Granted\n"
     ]
    }
   ],
   "source": [
    "# my_id를 입력 받아 입력 받은 값이, 'a1234'이면, 'Access Granted'를 출력하자\n",
    "my_id = input()\n",
    "if my_id == 'a1234' :\n",
    "    print('Access Granted')"
   ]
  },
  {
   "cell_type": "markdown",
   "metadata": {},
   "source": [
    "### 조건문 if~else문\n",
    "- 조건식을 평가하고 True인 경우에는 조건식의 명령을 실행하고 False인 경우에는 else의 명령을 실행하는 구문이다."
   ]
  },
  {
   "cell_type": "code",
   "execution_count": null,
   "metadata": {},
   "outputs": [],
   "source": []
  },
  {
   "cell_type": "code",
   "execution_count": 12,
   "metadata": {},
   "outputs": [
    {
     "name": "stdout",
     "output_type": "stream",
     "text": [
      "input number : 11\n",
      "Wrong!\n"
     ]
    }
   ],
   "source": [
    "# 숫자가 10보다 작거나 같고 1보다 크다면 'Great!'를 출력하고 그렇지 않다면 'Wrong!'를 출력해보자\n",
    "num = int(input('input number : '))\n",
    "if (num > 1) & (num <= 10) :\n",
    "    print('Great!')\n",
    "else :\n",
    "    print('Wrong!')"
   ]
  },
  {
   "cell_type": "markdown",
   "metadata": {},
   "source": [
    "### 조건문 다중 if~else문\n",
    "* 여러 조건식이 사용되는 경우에 조건식에 선택적으로 조건값의 범위를 줄 수 있어 선택문으로 사용된다.\n",
    "* 다중 if~else구문은 하나의 if로 시작해서 여러개의 조건을 가질 수 있는 elif를 선언할 수 있다.\n",
    "* 반드시 마지막에는 else로 마무리가 되어야 한다."
   ]
  },
  {
   "cell_type": "markdown",
   "metadata": {},
   "source": [
    "### 반복문\n",
    "#### while문\n",
    "* while문 : 입력값, 메뉴화면\n",
    "* while문은 조건 문을 비교해서 조건을 만족하는 경우에만 실행 문장을 수행하고 만족하지 않으면 while문을 빠져나오는 특징을 가진다.\n",
    "* 수행되는 문장 안에는 반드시 반복 횟수를 제어하는 변수를 가지고 있어야 한다.\n",
    "* 제어변수가 없을 경우 조건문이 True가 되면서 무한 루프가 된다."
   ]
  },
  {
   "cell_type": "markdown",
   "metadata": {},
   "source": [
    "while 조건문 :\n",
    "    명령문\n",
    "else :\n",
    "    반복조건이 False일 경우 수행되는 문"
   ]
  },
  {
   "cell_type": "markdown",
   "metadata": {},
   "source": [
    "#### for문\n",
    "* 조건에 의한 일정한 문장을 반복 수행하는 for문은 반복을 수행할 횟수가 결정된 경우의 프로그램에 주로 사용되는 제어문\n",
    "* 리스트 또는 딕셔너리 등 반복해야 하는 횟수가 결정된 형태를 제어할 때 주로 사용된다.\n",
    "* 리스트 또는 딕셔너리등의 순서형 자료를 in 키워드 변수 앞에 순서대로 하나씩 리턴하며 명령이 실행된다.\n",
    "* 연산식은 for문 안의 문장을 수행하고 나서 수행된다."
   ]
  },
  {
   "cell_type": "markdown",
   "metadata": {},
   "source": [
    "for_stmt ::= 'for'target_list \"in\" expression_list \":\" suite <br>\n",
    "    [\"else\" \":\" suite]\n",
    "    \n",
    "for 변수 in 시퀀스(순서형자료형) :\n",
    "    명령\n",
    "else :\n",
    "    명령"
   ]
  },
  {
   "cell_type": "markdown",
   "metadata": {},
   "source": [
    "순서를 갖는 자료형 -> 내장 함수형식 range(), enumerate(), zip(), items()"
   ]
  },
  {
   "cell_type": "code",
   "execution_count": 17,
   "metadata": {},
   "outputs": [
    {
     "name": "stdout",
     "output_type": "stream",
     "text": [
      "case 1 : list\n",
      "\n",
      "apple\n",
      "watermelon\n",
      "peach\n",
      "pear\n",
      "\n",
      "case 2 : str\n",
      "\n",
      "a\n",
      "b\n",
      "c\n",
      "d\n",
      "e\n",
      "f\n"
     ]
    }
   ],
   "source": [
    "# 시퀀스 자료형으로 반복문을 구현해보자.\n",
    "\n",
    "print('case 1 : list', end='\\n\\n')\n",
    "\n",
    "fruit = ['apple', 'watermelon', 'peach', 'pear']\n",
    "\n",
    "for m_res in fruit :\n",
    "    print(m_res)\n",
    "\n",
    "print()\n",
    "print('case 2 : str', end='\\n\\n')\n",
    "for res in 'abcdef' :\n",
    "    print(res)"
   ]
  },
  {
   "cell_type": "code",
   "execution_count": 8,
   "metadata": {},
   "outputs": [
    {
     "name": "stdout",
     "output_type": "stream",
     "text": [
      "case 3 : list확인 \n",
      "\n",
      "1\t2\t3\t4\t5\t6\t7\t8\t9\t10\t"
     ]
    }
   ],
   "source": [
    "print('case 3 : list확인 ',end='\\n\\n')\n",
    "\n",
    "num = [1,2,3,4,5,6,7,8,9,10]\n",
    "for res in num :\n",
    "    print(res,end='\\t')"
   ]
  },
  {
   "cell_type": "code",
   "execution_count": 9,
   "metadata": {},
   "outputs": [
    {
     "name": "stdout",
     "output_type": "stream",
     "text": [
      "case 4 : [()] \n",
      "\n",
      "1 2\t3 4\t5 6\t7 8\t9 10\t"
     ]
    }
   ],
   "source": [
    "print('case 4 : [()] ', end='\\n\\n')\n",
    "T = [(1,2), (3,4), (5,6), (7,8), (9,10)]\n",
    "for (a,b) in T :\n",
    "    print(a,b,end='\\t')"
   ]
  },
  {
   "cell_type": "code",
   "execution_count": 10,
   "metadata": {},
   "outputs": [
    {
     "name": "stdout",
     "output_type": "stream",
     "text": [
      "case 5 : dict \n",
      "\n",
      "x  -  1\ty  -  2\tz  -  3\t"
     ]
    }
   ],
   "source": [
    "print('case 5 : dict ',end='\\n\\n')\n",
    "m_dict = {'x' : 1, 'y' : 2, 'z' : 3}\n",
    "for key in m_dict :\n",
    "    print(key, ' - ', m_dict[key],end='\\t')"
   ]
  },
  {
   "cell_type": "code",
   "execution_count": 13,
   "metadata": {},
   "outputs": [
    {
     "name": "stdout",
     "output_type": "stream",
     "text": [
      "x\ty\tz\t"
     ]
    }
   ],
   "source": [
    "for value in m_dict :\n",
    "    print(value,end='\\t')"
   ]
  },
  {
   "cell_type": "markdown",
   "metadata": {},
   "source": [
    "### range() : list와 함께 사용한다."
   ]
  },
  {
   "cell_type": "code",
   "execution_count": 16,
   "metadata": {},
   "outputs": [
    {
     "name": "stdout",
     "output_type": "stream",
     "text": [
      "[0, 1, 2, 3, 4, 5, 6, 7, 8, 9]\n"
     ]
    }
   ],
   "source": [
    "r = list(range(10)) # 0~9까지\n",
    "print(r)"
   ]
  },
  {
   "cell_type": "code",
   "execution_count": 17,
   "metadata": {},
   "outputs": [
    {
     "name": "stdout",
     "output_type": "stream",
     "text": [
      "[2, 3, 4, 5, 6]\n"
     ]
    }
   ],
   "source": [
    "r = list(range(2,7)) # 2~6까지\n",
    "print(r)"
   ]
  },
  {
   "cell_type": "code",
   "execution_count": 18,
   "metadata": {},
   "outputs": [
    {
     "name": "stdout",
     "output_type": "stream",
     "text": [
      "[2, 5, 8, 11, 14, 17]\n"
     ]
    }
   ],
   "source": [
    "r = list(range(2,20,3)) # 2~19까지 +3\n",
    "print(r)"
   ]
  },
  {
   "cell_type": "code",
   "execution_count": 19,
   "metadata": {},
   "outputs": [
    {
     "name": "stdout",
     "output_type": "stream",
     "text": [
      "2 5 8 11 14 17 "
     ]
    }
   ],
   "source": [
    "for res in range(2,20,3) :\n",
    "    print(res, end=' ')"
   ]
  },
  {
   "cell_type": "markdown",
   "metadata": {},
   "source": [
    "### enumerate() : 인덱스, 값을 같이 저장해서 처리한다."
   ]
  },
  {
   "cell_type": "code",
   "execution_count": 20,
   "metadata": {},
   "outputs": [
    {
     "name": "stdout",
     "output_type": "stream",
     "text": [
      "Help on class enumerate in module builtins:\n",
      "\n",
      "class enumerate(object)\n",
      " |  enumerate(iterable, start=0)\n",
      " |  \n",
      " |  Return an enumerate object.\n",
      " |  \n",
      " |    iterable\n",
      " |      an object supporting iteration\n",
      " |  \n",
      " |  The enumerate object yields pairs containing a count (from start, which\n",
      " |  defaults to zero) and a value yielded by the iterable argument.\n",
      " |  \n",
      " |  enumerate is useful for obtaining an indexed list:\n",
      " |      (0, seq[0]), (1, seq[1]), (2, seq[2]), ...\n",
      " |  \n",
      " |  Methods defined here:\n",
      " |  \n",
      " |  __getattribute__(self, name, /)\n",
      " |      Return getattr(self, name).\n",
      " |  \n",
      " |  __iter__(self, /)\n",
      " |      Implement iter(self).\n",
      " |  \n",
      " |  __next__(self, /)\n",
      " |      Implement next(self).\n",
      " |  \n",
      " |  __reduce__(...)\n",
      " |      Return state information for pickling.\n",
      " |  \n",
      " |  ----------------------------------------------------------------------\n",
      " |  Static methods defined here:\n",
      " |  \n",
      " |  __new__(*args, **kwargs) from builtins.type\n",
      " |      Create and return a new object.  See help(type) for accurate signature.\n",
      "\n"
     ]
    }
   ],
   "source": [
    "help(enumerate)"
   ]
  },
  {
   "cell_type": "code",
   "execution_count": 21,
   "metadata": {},
   "outputs": [
    {
     "name": "stdout",
     "output_type": "stream",
     "text": [
      "(100, 'apple')\n",
      "(101, 'watermelon')\n",
      "(102, 'peach')\n",
      "(103, 'pear')\n"
     ]
    }
   ],
   "source": [
    "fruit = ['apple', 'watermelon', 'peach', 'pear']\n",
    "for i in enumerate(fruit, 100) :\n",
    "    print(i)"
   ]
  },
  {
   "cell_type": "code",
   "execution_count": null,
   "metadata": {},
   "outputs": [],
   "source": []
  },
  {
   "cell_type": "markdown",
   "metadata": {},
   "source": [
    "## 소모임 예제"
   ]
  },
  {
   "cell_type": "markdown",
   "metadata": {},
   "source": [
    "#### 1. 1~10까지 출력 (while, for 문 사용)"
   ]
  },
  {
   "cell_type": "code",
   "execution_count": 22,
   "metadata": {},
   "outputs": [
    {
     "name": "stdout",
     "output_type": "stream",
     "text": [
      "1 2 3 4 5 6 7 8 9 10 "
     ]
    }
   ],
   "source": [
    "count = 1\n",
    "while count <= 10 :\n",
    "    print(count, end=' ')\n",
    "    count += 1"
   ]
  },
  {
   "cell_type": "code",
   "execution_count": 24,
   "metadata": {},
   "outputs": [
    {
     "name": "stdout",
     "output_type": "stream",
     "text": [
      "1 2 3 4 5 6 7 8 9 10 "
     ]
    }
   ],
   "source": [
    "for i in range(1,11) :\n",
    "    print(i, end=' ') "
   ]
  },
  {
   "cell_type": "markdown",
   "metadata": {},
   "source": [
    "#### 2. 10 ~ 1까지 출력 (while, for 문 사용)"
   ]
  },
  {
   "cell_type": "code",
   "execution_count": 26,
   "metadata": {},
   "outputs": [
    {
     "name": "stdout",
     "output_type": "stream",
     "text": [
      "10 9 8 7 6 5 4 3 2 1 "
     ]
    }
   ],
   "source": [
    "count = 10\n",
    "while count > 0 :\n",
    "    print(count, end=' ')\n",
    "    count -= 1"
   ]
  },
  {
   "cell_type": "code",
   "execution_count": 28,
   "metadata": {},
   "outputs": [
    {
     "name": "stdout",
     "output_type": "stream",
     "text": [
      "10 9 8 7 6 5 4 3 2 1 "
     ]
    }
   ],
   "source": [
    "for i in range(10,0,-1) :\n",
    "    print(i, end=' ')"
   ]
  },
  {
   "cell_type": "markdown",
   "metadata": {},
   "source": [
    "#### 3. 1~10까지 합 출력 (while, for, range(), else 추가)"
   ]
  },
  {
   "cell_type": "code",
   "execution_count": 43,
   "metadata": {},
   "outputs": [
    {
     "name": "stdout",
     "output_type": "stream",
     "text": [
      "55\n"
     ]
    }
   ],
   "source": [
    "count = 1\n",
    "num = 0\n",
    "while count <= 10 :\n",
    "    num += count\n",
    "    count += 1\n",
    "else : \n",
    "    print(num)"
   ]
  },
  {
   "cell_type": "code",
   "execution_count": 42,
   "metadata": {},
   "outputs": [
    {
     "name": "stdout",
     "output_type": "stream",
     "text": [
      "55\n"
     ]
    }
   ],
   "source": [
    "num = 0\n",
    "for i in range(1,11) :\n",
    "    num += i\n",
    "else :\n",
    "    print(num)"
   ]
  },
  {
   "cell_type": "markdown",
   "metadata": {},
   "source": [
    "#### 4. 2,4,6,8... 1~100까지 숫자중에 2의 배수만 출력하자."
   ]
  },
  {
   "cell_type": "code",
   "execution_count": 34,
   "metadata": {},
   "outputs": [
    {
     "name": "stdout",
     "output_type": "stream",
     "text": [
      "2 4 6 8 10 12 14 16 18 20 22 24 26 28 30 32 34 36 38 40 42 44 46 48 50 52 54 56 58 60 62 64 66 68 70 72 74 76 78 80 82 84 86 88 90 92 94 96 98 100 "
     ]
    }
   ],
   "source": [
    "count = 1\n",
    "while count <= 100 :\n",
    "    if count%2 == 0 :\n",
    "        print(count, end=' ')\n",
    "#     else :\n",
    "#         pass\n",
    "    count += 1"
   ]
  },
  {
   "cell_type": "code",
   "execution_count": 33,
   "metadata": {},
   "outputs": [
    {
     "name": "stdout",
     "output_type": "stream",
     "text": [
      "2 4 6 8 10 12 14 16 18 20 22 24 26 28 30 32 34 36 38 40 42 44 46 48 50 52 54 56 58 60 62 64 66 68 70 72 74 76 78 80 82 84 86 88 90 92 94 96 98 100 "
     ]
    }
   ],
   "source": [
    "for i in range(1,101) :\n",
    "    if i%2 == 0 :\n",
    "        print(i, end=' ')\n",
    "#     else :\n",
    "#         pass"
   ]
  },
  {
   "cell_type": "markdown",
   "metadata": {},
   "source": [
    "#### 5. 1~100까지 숫자중에 2의 배수와 3의 배수의 개수를 출력하자"
   ]
  },
  {
   "cell_type": "code",
   "execution_count": 37,
   "metadata": {},
   "outputs": [
    {
     "name": "stdout",
     "output_type": "stream",
     "text": [
      "67 "
     ]
    }
   ],
   "source": [
    "count = 1\n",
    "num = 0\n",
    "while count <= 100 :\n",
    "    if (count %2 == 0) | (count %3 == 0) :\n",
    "        num += 1\n",
    "    count += 1\n",
    "print(num, end=' ')"
   ]
  },
  {
   "cell_type": "code",
   "execution_count": 39,
   "metadata": {},
   "outputs": [
    {
     "name": "stdout",
     "output_type": "stream",
     "text": [
      "67 "
     ]
    }
   ],
   "source": [
    "num = 0\n",
    "for i in range(1,101) :\n",
    "    if (i %2 == 0) | (i %3 == 0) :\n",
    "        num += 1\n",
    "print(num, end=' ')"
   ]
  },
  {
   "cell_type": "code",
   "execution_count": null,
   "metadata": {},
   "outputs": [],
   "source": []
  },
  {
   "cell_type": "code",
   "execution_count": null,
   "metadata": {},
   "outputs": [],
   "source": []
  },
  {
   "cell_type": "code",
   "execution_count": null,
   "metadata": {},
   "outputs": [],
   "source": []
  },
  {
   "cell_type": "code",
   "execution_count": null,
   "metadata": {},
   "outputs": [],
   "source": []
  },
  {
   "cell_type": "code",
   "execution_count": null,
   "metadata": {},
   "outputs": [],
   "source": []
  },
  {
   "cell_type": "code",
   "execution_count": null,
   "metadata": {},
   "outputs": [],
   "source": []
  },
  {
   "cell_type": "code",
   "execution_count": null,
   "metadata": {},
   "outputs": [],
   "source": []
  },
  {
   "cell_type": "code",
   "execution_count": null,
   "metadata": {},
   "outputs": [],
   "source": []
  },
  {
   "cell_type": "code",
   "execution_count": null,
   "metadata": {},
   "outputs": [],
   "source": []
  },
  {
   "cell_type": "markdown",
   "metadata": {},
   "source": [
    "#### 참고\n",
    "* HW, os(memory map) 프로그램 설치 = M/M\n",
    "* ds(data segment) : 리터럴을 관리 하는 곳 = 값을 관리\n",
    "* cs(code segment) : 코드를 관리하는 곳\n",
    "* static : 정적영역\n",
    "* heap : 자유영역 공간\n",
    "* stack : 고정공간\n",
    "---\n",
    "* C언어 (프로그램툴, Exe, M/M, 기타등등)\n",
    "* ds(data segment) : 리터럴을 관리 하는 곳 = 값을 관리\n",
    "* cs(code segment) : 코드를 관리하는 곳\n",
    "* static : 정적영역\n",
    "* heap : 자유영역 공간\n",
    "* stack : 고정공간"
   ]
  },
  {
   "cell_type": "code",
   "execution_count": 7,
   "metadata": {},
   "outputs": [],
   "source": [
    "# import matplotlib.font_manager\n",
    "\n",
    "# matplotlib.font_manager._rebuild()\n",
    "# sorted([f.name for f in matplotlib.font_manager.fontManager.ttflist if f.name.startswith(\"\")])"
   ]
  },
  {
   "cell_type": "code",
   "execution_count": null,
   "metadata": {},
   "outputs": [],
   "source": []
  }
 ],
 "metadata": {
  "kernelspec": {
   "display_name": "Python 3",
   "language": "python",
   "name": "python3"
  },
  "language_info": {
   "codemirror_mode": {
    "name": "ipython",
    "version": 3
   },
   "file_extension": ".py",
   "mimetype": "text/x-python",
   "name": "python",
   "nbconvert_exporter": "python",
   "pygments_lexer": "ipython3",
   "version": "3.8.3"
  }
 },
 "nbformat": 4,
 "nbformat_minor": 4
}

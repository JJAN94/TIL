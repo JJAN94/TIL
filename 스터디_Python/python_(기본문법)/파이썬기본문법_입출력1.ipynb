{
 "cells": [
  {
   "cell_type": "code",
   "execution_count": null,
   "id": "aeaea6b4",
   "metadata": {},
   "outputs": [],
   "source": [
    "# 심심한 그대 -> 아래 코드를 실행해 보고 with문으로 변경도 해봅니다. main에서 함수 하나씩 호출\n",
    "def Test() : #리스트가 인자인 경우 writelines()는 리스트의 요소를 하나의 문자열로 결합하여 파일을 한꺼번에 기록\n",
    "    listdata = [2,2,1,3,8,5,7]\n",
    "    result = sorted(listdata) # 리스트의 요소를 정렬한다.\n",
    "    print(result) # [1,2,2,3,5,7,8]\n",
    "    f = open(\"c:\\\\data\\\\mydata11.txt\", \"w\") # mydata11.txt를 생성하겠다.\n",
    "    f.write(str(result)) # result에 있는 내용을 mydata11.txt로 생성한다.\n",
    "    f.close() # result에 있는 내용을 문자로 변환해야 한다.\n",
    "    \n",
    "def Test01() :\n",
    "    listdata2 = ['a', 'b', 'c', 'd', 'e', 'f', 'g']\n",
    "    result = sorted(listdata2)\n",
    "    print(result)\n",
    "    f = open('c:\\\\data\\\\mydata12.txt', 'w')\n",
    "    f.write(str(result))\n",
    "    f.close()\n",
    "\n",
    "def Test02() :\n",
    "    data = [] # data라는 비어있는 리스트 생성\n",
    "    while True :\n",
    "        text = input('저장할 내용을 입력하세요 ')\n",
    "        if text == ' ' : # text에 아무것도 입력하지 않으면\n",
    "            break # break 문을 실행해서 무한루프를 종료\n",
    "        data.append(text + '\\n') # text가 엔터와 함께 data 리스트에 append\n",
    "    f = open('c:\\\\data\\\\mydata13.txt', 'w') # mydata13.txt를 생성하겠다.\n",
    "\n",
    "def Test03() :\n",
    "    '''\n",
    "    바이너리 파일 복사하기(read, write)\n",
    "    이미지나 동영상도 파이썬으로 복사 붙여넣기를 할 수 있다.\n",
    "    이미지나 동영상을 복사 붙여넣기 할 때는 파일의 크기가 크므로 한번에 읽어들일 수는 없고\n",
    "    일부분만 일정한 크기로 읽으면서 복사 붙여넣기를 한다'''\n",
    "    bufsize = 1024 # 1kb 크기의 버퍼 사이즈를 지정한다.\n",
    "    f = open('c:\\\\data\\\\apple.png', 'rb') # rb는 read binary의 약자\n",
    "    h = open('c:\\\\data\\\\apple_copy.png', 'wb') # wb는 write binary의 약자\n",
    "    data = f.read(bufsize) # 이미지를 1kb을 읽어서 data에 저장\n",
    "    while data : # data에 data가 발견되는 동안에 루프문을 수행\n",
    "        h.write(data) # apple_copy.png에 1kb의 데이터씩 write\n",
    "        data = f.read(bufsize) # apple.png 에서 1kb의 데이터를 read.\n",
    "    h.close\n",
    "    f.close # file 객체 생성의 역순으로 close\n",
    "\n",
    "if __name__ =='__main__' :\n",
    "    Test03()"
   ]
  }
 ],
 "metadata": {
  "kernelspec": {
   "display_name": "Python 3",
   "language": "python",
   "name": "python3"
  },
  "language_info": {
   "codemirror_mode": {
    "name": "ipython",
    "version": 3
   },
   "file_extension": ".py",
   "mimetype": "text/x-python",
   "name": "python",
   "nbconvert_exporter": "python",
   "pygments_lexer": "ipython3",
   "version": "3.8.8"
  }
 },
 "nbformat": 4,
 "nbformat_minor": 5
}

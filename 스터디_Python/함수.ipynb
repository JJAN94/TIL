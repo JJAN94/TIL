{
 "cells": [
  {
   "cell_type": "code",
   "execution_count": null,
   "metadata": {},
   "outputs": [],
   "source": [
    "## 함수\n",
    "- 반복되는 코드를 묶음으로 효율적인 코드를 작성하도록 해주는 기능\n",
    "- 기본 함수\n",
    "- 파라미터와 아규먼트\n",
    "- 리턴\n",
    "- `*args`, `**kwargs`\n",
    "- docstring\n",
    "- scope\n",
    "- inner function\n",
    "- lambda function\n",
    "- Map, Filter, Reduce\n",
    "- Decorlator"
   ]
  },
  {
   "cell_type": "markdown",
   "metadata": {},
   "source": [
    "# 함수(function)"
   ]
  },
  {
   "cell_type": "markdown",
   "metadata": {},
   "source": [
    "1. 함수란?\n",
    "    - 코딩을 하다보면 특정 기능을 반복해서 써야할 때가 있다. 그때마다 계속 특정 기능의 코드를 반복 작성하는 것만큼 비효율적인 것은 없을 것이다. 이러한 짓을 하지 않기 위해 함수를 정의해서 쓰도록 하자\n",
    "    - 함수는 특정 기능을 수행하는 코드의 묶음이다. 한번 만들어두면 계속해서 재사용이 가능하다."
   ]
  },
  {
   "cell_type": "markdown",
   "metadata": {},
   "source": [
    "* 설명\n",
    "    1. 여러개의 실행문을 하나로 묶은 모듈을 의미하며 특정한 명령을 수행하는 하나의 독립된 프로그램\n",
    "    2. 함수는 파이썬의 데이터 형과 흐름제어를 알고 특정한 작업을 수행하도록 설계된 독립적인 프로그램으로 모듈화를 기본으로 한다.\n",
    "    3. 모듈화란 특정 기능 부분을 실행 할 수 있는 블록으로 만들고 여러 실행 블록을 연결해서 프로그래밍 하는 것을 의미한다.\n",
    "    4. 파이썬 함수의 모듈화(.py) : 별도의 파일에 정의된 함수의 지정된 데이터, class들의 모임을 저장한 것 중 모듈 안의 함수를 말한다.\n",
    "    5. 함수 사용하게 되면 실행문이 하나로 묶인 모듈이 호출되어 실행되어 편리하게 사용된다.\n",
    "        - ex) prn(10) : 1~10출력\n",
    "        - ex) prn(100) : 1~100출력\n",
    "    6. 파이썬의 함수는 원하는 원형의 실행 구문을 만들어 모듈화(.py -> .pyc[byte] -> pvm -> output)로 구현하고 호출하게 되면 실행되는 객체로 관리된다. / 모듈 = 함수의 모듈화 + 기타모듈"
   ]
  },
  {
   "cell_type": "markdown",
   "metadata": {},
   "source": [
    "* 함수 특징\n",
    "    1. 수행명령, 복잡한 연산등을 그룹으로 만들어서 새로운 함수로 선언한 수\n",
    "        - 함수명을 호출해서 명령실행, 디버그, 오류 수정등을 수월하게 할 수 있다.\n",
    "    2. 함수는 반복 코드를 제거해서 프로그램을 작게 만든다.\n",
    "    3. 긴 코드를 함수로 나누어 작성하게 되면 작은부분에서 버그를 쉽게 수정하고 이를 조합해서 전체적인 동작하는 프로그램으로 만들 수 있다."
   ]
  },
  {
   "cell_type": "markdown",
   "metadata": {},
   "source": [
    "* 함수의 종류\n",
    "    1. 라이브러리 함수\n",
    "        - 표준함수 또는 내장함수라고 부르며 시스템에서 미리 작성해 놓은 함수\n",
    "        - 삼각함수, 지수함수, 날짜 정보함수, 파일함수, 데이터베이스 함수등을 말한다.\n",
    "        - sys.path가 지정한 곳의 모듈\n",
    "    2. 사용자 정의함수\n",
    "        - 사용자가 직접 만들어서 사용하는 함수 -> py -> 전역패스 설치\n",
    "    3. built-in 함수\n",
    "        - 파이썬 설치시 기본적으로 제공해주는 함수 print(), type() 등\n",
    "        - dir(\\__builtin__) -> help(print)"
   ]
  },
  {
   "cell_type": "markdown",
   "metadata": {},
   "source": [
    "[형식]\\\n",
    "def function_name(매개변수 ,,,) :\\\n",
    "&nbsp;&nbsp;&nbsp;&nbsp;명령 수행문\\\n",
    "&nbsp;&nbsp;&nbsp;&nbsp;return"
   ]
  },
  {
   "cell_type": "markdown",
   "metadata": {},
   "source": [
    "* 함수의 선언과 호출\n",
    "    - 함수는 호출되면 함수의 정의부로 이동해 함수의 모든 내용을 순차적으로 실행한 후 함수가 종료되면 호출되었던 곳으로 돌아온다.\n",
    "    - 함수를 호출할 때는 함수명()로 호출하고 매개변수가 있는 함수를 호출할 때는 함수의 원형에 맞는 매개변수의 자료형과 같은 값을 매개변수로 전달해야만 호출이 가능하다.\n",
    "    - 함수는 크게 [return] 값이 생략된 함수와 datatype의 return값을 가진 원형으로 구분되며 return문을 생략하면 None을 반환하고 return값이 있다면 함수는 결과값을 다시 다른 호출된 모듈로 보내는 함수가 된다."
   ]
  },
  {
   "cell_type": "markdown",
   "metadata": {},
   "source": []
  },
  {
   "cell_type": "markdown",
   "metadata": {},
   "source": []
  },
  {
   "cell_type": "markdown",
   "metadata": {},
   "source": []
  },
  {
   "cell_type": "markdown",
   "metadata": {},
   "source": []
  },
  {
   "cell_type": "code",
   "execution_count": null,
   "metadata": {},
   "outputs": [],
   "source": []
  },
  {
   "cell_type": "code",
   "execution_count": null,
   "metadata": {},
   "outputs": [],
   "source": []
  },
  {
   "cell_type": "code",
   "execution_count": null,
   "metadata": {},
   "outputs": [],
   "source": []
  }
 ],
 "metadata": {
  "kernelspec": {
   "display_name": "Python 3",
   "language": "python",
   "name": "python3"
  },
  "language_info": {
   "codemirror_mode": {
    "name": "ipython",
    "version": 3
   },
   "file_extension": ".py",
   "mimetype": "text/x-python",
   "name": "python",
   "nbconvert_exporter": "python",
   "pygments_lexer": "ipython3",
   "version": "3.8.3"
  }
 },
 "nbformat": 4,
 "nbformat_minor": 4
}

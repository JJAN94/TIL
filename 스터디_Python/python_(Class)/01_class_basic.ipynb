{
 "cells": [
  {
   "cell_type": "markdown",
   "id": "dbd7dd07-51b2-46e6-9625-a97d85db4cd1",
   "metadata": {},
   "source": [
    "# Class ?"
   ]
  },
  {
   "cell_type": "markdown",
   "id": "378c749b-0f12-411d-b511-1a6e2c23db54",
   "metadata": {},
   "source": [
    "- 실세계 것을 모델링 하여 속성(Attribute)와 동작(method)를 갖는 데이터 타입\n",
    "- str, int, list, dict... 모두가 다 클래스로 존재\n",
    "- 다루고자 하는 데이터(변수)와 데이터를 다루는 연산(함수)를 하나로 캡슐화(encapsulation)하여 클래스로 표현\n",
    "- 모델링에서 중요시 하는 속성에 따라 클래스의 속성과 행동이 각각 달라짐"
   ]
  },
  {
   "cell_type": "code",
   "execution_count": null,
   "id": "548c8e0c-3cd3-4acd-9bb0-0470e1e85656",
   "metadata": {},
   "outputs": [],
   "source": []
  },
  {
   "cell_type": "markdown",
   "id": "d33cac64-a542-48cb-af63-60a13596116e",
   "metadata": {},
   "source": [
    "# Object ?"
   ]
  },
  {
   "cell_type": "markdown",
   "id": "b71bda34-a5ec-4769-823b-45dcaf50dde2",
   "metadata": {},
   "source": [
    "- 클래스로 생성되어 구체화된 객체(인스턴스)\n",
    "- 파이썬의 모든 것(int, str, list...)은 객체(인스턴스)\n",
    "- 실제로 class가 인스턴스화 되어 메모리에 상주하는 상태를 의미\n",
    "- class가 빵틀이라면, object는 실제로 빵틀로 찍어낸 빵이라고 비유 가능"
   ]
  },
  {
   "cell_type": "markdown",
   "id": "b4f9dbeb-ce4d-4249-9a6d-c5df56ecaf5f",
   "metadata": {},
   "source": [
    "# Class 선언"
   ]
  },
  {
   "cell_type": "markdown",
   "id": "c8c5f6f6-d404-4fc6-a72a-ef00a552a4bc",
   "metadata": {},
   "source": [
    "- 객체를 생성하기 위해선 객체의 모체가 되는 class를 미리 선언해야 함"
   ]
  },
  {
   "cell_type": "code",
   "execution_count": 2,
   "id": "f143e7e6-5648-4851-b95b-ccdea6f87433",
   "metadata": {},
   "outputs": [],
   "source": [
    "# 빈 클래스 생성\n",
    "class Person :\n",
    "    pass"
   ]
  },
  {
   "cell_type": "code",
   "execution_count": 4,
   "id": "c094d498-fa18-4f5f-a4a5-6ae4f1f2533e",
   "metadata": {},
   "outputs": [
    {
     "name": "stdout",
     "output_type": "stream",
     "text": [
      "<class '__main__.Person'> <class '__main__.Person'>\n"
     ]
    }
   ],
   "source": [
    "bob = Person()\n",
    "cathy = Person()\n",
    "print(type(bob), type(cathy))"
   ]
  },
  {
   "cell_type": "markdown",
   "id": "0f8eb715-95c4-4b76-ae0e-0099a49b638c",
   "metadata": {},
   "source": [
    "# init(self)\n",
    "- 생성자, 클래스 인스턴스가 생성될 때 호출됨\n",
    "- self인자는 항상 첫번째에 오며 자기 자신을 가리킴\n",
    "- 이름이 꼭 self일 필요는 없지만,"
   ]
  },
  {
   "cell_type": "code",
   "execution_count": null,
   "id": "66ef0445-2594-4526-a39c-dc815f8d0758",
   "metadata": {},
   "outputs": [],
   "source": []
  },
  {
   "cell_type": "code",
   "execution_count": null,
   "id": "a2a09918-0ce0-42ea-872f-f3f7b9818c6a",
   "metadata": {},
   "outputs": [],
   "source": []
  },
  {
   "cell_type": "code",
   "execution_count": null,
   "id": "c52c63d3-3eb3-4df8-97ad-ddea36cdb0c2",
   "metadata": {},
   "outputs": [],
   "source": []
  },
  {
   "cell_type": "code",
   "execution_count": null,
   "id": "8fc761cf-8336-488d-8eff-dc1f1fa2db41",
   "metadata": {},
   "outputs": [],
   "source": []
  },
  {
   "cell_type": "code",
   "execution_count": null,
   "id": "b8d714a4-4612-4f5f-94db-069c6a1de7f8",
   "metadata": {},
   "outputs": [],
   "source": []
  },
  {
   "cell_type": "code",
   "execution_count": null,
   "id": "a0d3b7dd-40bd-45d8-bd21-7f10dc6c7c7c",
   "metadata": {},
   "outputs": [],
   "source": []
  },
  {
   "cell_type": "code",
   "execution_count": null,
   "id": "fa33594b-63f0-4223-9e79-8aabe8fd181d",
   "metadata": {},
   "outputs": [],
   "source": []
  },
  {
   "cell_type": "code",
   "execution_count": null,
   "id": "77ed026a-06fd-46f9-805f-475db8769da7",
   "metadata": {},
   "outputs": [],
   "source": []
  },
  {
   "cell_type": "code",
   "execution_count": null,
   "id": "46f841ac-5957-46b9-808b-66d40457636c",
   "metadata": {},
   "outputs": [],
   "source": []
  }
 ],
 "metadata": {
  "kernelspec": {
   "display_name": "Python 3",
   "language": "python",
   "name": "python3"
  },
  "language_info": {
   "codemirror_mode": {
    "name": "ipython",
    "version": 3
   },
   "file_extension": ".py",
   "mimetype": "text/x-python",
   "name": "python",
   "nbconvert_exporter": "python",
   "pygments_lexer": "ipython3",
   "version": "3.8.8"
  }
 },
 "nbformat": 4,
 "nbformat_minor": 5
}

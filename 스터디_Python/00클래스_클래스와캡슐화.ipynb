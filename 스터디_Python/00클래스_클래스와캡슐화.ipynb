{
 "cells": [
  {
   "cell_type": "markdown",
   "metadata": {},
   "source": [
    "# Getter/Setter"
   ]
  },
  {
   "cell_type": "markdown",
   "metadata": {},
   "source": [
    "- 클래스 인스턴스의 내부 데이터를 보호하기 위해서 데이터의 접근용 메서드를 작성하는 것은 객체 지향 프로그래밍에서 흔히 볼 수 있는 패턴\n",
    "- 일반적으로 데이터를 읽어주는 메서드를 getter(게터), 데이터를 변경해주는 메서드를 setter(세터)라고 함"
   ]
  },
  {
   "cell_type": "markdown",
   "metadata": {},
   "source": [
    "property(getter, setter) 함수"
   ]
  },
  {
   "cell_type": "markdown",
   "metadata": {},
   "source": [
    "# @property 데코레이터"
   ]
  },
  {
   "cell_type": "markdown",
   "metadata": {},
   "source": [
    "- 파이썬 내장 데코레이터\n",
    "- getter위에 @property를 쓰고 setter위에 @<메소드이름>.setter 라고 쓴다"
   ]
  },
  {
   "cell_type": "markdown",
   "metadata": {},
   "source": [
    "# 클래스와 캡슐화(Encapsulation)"
   ]
  },
  {
   "cell_type": "markdown",
   "metadata": {},
   "source": [
    "클래스를 작성할 때는 내부적인 세부사항을 캡슐화하는 것이 일반적"
   ]
  },
  {
   "cell_type": "markdown",
   "metadata": {},
   "source": [
    "### public - private\n",
    "- 클래스의 주역할은 객체의 데이터와 내부 구현 세부사항을 캡슐화 하는 것.\n",
    "- 외부 세계가 객체를 조작하는데 사용할 public인터페이스도 클래스에 정의해야함."
   ]
  },
  {
   "cell_type": "markdown",
   "metadata": {},
   "source": [
    "### 문제점\n",
    "- 파이썬에서는 클래스와 객체의 거의 모든 것이 오픈\n",
    "    - 객체 내부 쉽게 볼 수 있다.\n",
    "    - 손쉽게 변경 가능\n",
    "    - 엑세스 제어에 대한 강력한 개념이 엇다.\n",
    "    - 즉, 외부에서 쉽게 접근 못하게 막고싶다"
   ]
  },
  {
   "cell_type": "markdown",
   "metadata": {},
   "source": [
    "### private attribute\n",
    "- 이름이 `_`으로 시작하는 속성을 private으로 간주한다."
   ]
  },
  {
   "cell_type": "code",
   "execution_count": null,
   "metadata": {},
   "outputs": [],
   "source": []
  }
 ],
 "metadata": {
  "kernelspec": {
   "display_name": "Python 3",
   "language": "python",
   "name": "python3"
  },
  "language_info": {
   "codemirror_mode": {
    "name": "ipython",
    "version": 3
   },
   "file_extension": ".py",
   "mimetype": "text/x-python",
   "name": "python",
   "nbconvert_exporter": "python",
   "pygments_lexer": "ipython3",
   "version": "3.8.3"
  }
 },
 "nbformat": 4,
 "nbformat_minor": 4
}

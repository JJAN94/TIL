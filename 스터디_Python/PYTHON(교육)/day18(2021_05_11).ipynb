{
 "cells": [
  {
   "cell_type": "code",
   "execution_count": 3,
   "metadata": {},
   "outputs": [
    {
     "name": "stdout",
     "output_type": "stream",
     "text": [
      "<class 'list'>\n",
      "135.96\n",
      "26.176399999999994\n",
      "5.116287716694595\n",
      "136.885\n"
     ]
    }
   ],
   "source": [
    "# 심심한 그대\n",
    "import random\n",
    "import numpy as np\n",
    "tall =[129.3, 130.2, 132.5, 134.7, 136.3, 137.8, 131.1, 140.2, 142.3, 145.2]\n",
    "def Test01() :\n",
    "    # 초등학생 키가 10개가 들어있는 아래의 tall 리스트의 요소 10개를 10000개로 증가시켜서 tall10000 리스트에 담고 출력하시오\n",
    "    # 모집단의 평균값, 분산, 표준편차를 출력\n",
    "    tall10000 = tall*10000\n",
    "#     print(tall10000)\n",
    "    print(type(tall10000))\n",
    "    print(np.mean(tall10000))\n",
    "    print(np.var(tall10000))\n",
    "    print(np.std(tall10000))\n",
    "    \n",
    "def Test02() : # Test01() 의 tall10000 에서 표본 20개를 랜덤 추출 한다면?\n",
    "    a = []\n",
    "    tall10000 = tall*10000\n",
    "    for i in range(1,21) :\n",
    "        r = random.choice(tall10000)\n",
    "        a.append(r)\n",
    "    # 표본 20개의 평균을 출력한다면?\n",
    "    print(np.mean(a))\n",
    "    \n",
    "if __name__ =='__main__' :\n",
    "    Test01()\n",
    "    Test02()"
   ]
  },
  {
   "cell_type": "markdown",
   "metadata": {},
   "source": [
    "# Day18\n",
    "1. 웹의 개념을 이해하고 기술할 수 있다.\n",
    "2. 웹 수집 연동을 구현할 수 있다.\n",
    "\n",
    "-----\n",
    "\n",
    "데이터 분석순서 :\n",
    "데이터 수집 -> 데이터 유형 및 속성 파악 -> 데이터 변환 -> 데이터 저장 -> 데이터 정제 -> 분석 단계\n",
    "\n",
    "---\n",
    "\n",
    "데이터 수집기술 (웹 스크롤링 기술)\n",
    "html 이란? Hyper Text Markup Language의 약자이고 여러개의 태그를(tag)를 연결해서 모아 놓은 문서\\\n",
    "html api : https://www.w3.org/ \\\n",
    "연습사이트 : https://www.w3schools.com/\n",
    "\n",
    "---\n",
    "\n",
    "AWS 서버 (톰캣) :\\\n",
    "http://tomcat.apache.org/\n"
   ]
  },
  {
   "cell_type": "markdown",
   "metadata": {},
   "source": [
    "### 웹 페이지\n",
    "- 동적페이지 : 클라이언트가 입력 한 값을 처리해 주는 페이지 (게시판, 방명록, 회원가입, 장바구니...)\n",
    "    - asp, aspx, hph, jsp 등\n",
    "- 정적페이지 : 클라이언트가 입력 한 값을 처리할 수 없는 페이지\n",
    "    - html\n",
    "    \n",
    "### WAS(web application server) = Tomcat ( + java ) =jsp/servlet (.\\jsp)\n",
    "- 2교시 내용 앞부분 개념설명부분만 다시 듣기\n",
    "ex) Test \\ a.html\\\n",
    "ex) Test \\ a.jsp\n",
    "    - http://ip.port/Test/a.html\n",
    "    - http://ip:port/TEst/a.html\n",
    " "
   ]
  },
  {
   "cell_type": "code",
   "execution_count": null,
   "metadata": {},
   "outputs": [],
   "source": []
  },
  {
   "cell_type": "markdown",
   "metadata": {},
   "source": [
    "# beautiful soup 모듈\n",
    "- 파이썬의 코드를 복잡하게 작성하지 않아도 편하게 웹 크롤링을 할 수 있도록 여러 함수들을 제공하는 모듈\n"
   ]
  },
  {
   "cell_type": "code",
   "execution_count": 10,
   "metadata": {},
   "outputs": [],
   "source": [
    "from bs4 import BeautifulSoup"
   ]
  },
  {
   "cell_type": "markdown",
   "metadata": {},
   "source": [
    "# web01.py -> 파이참"
   ]
  },
  {
   "cell_type": "markdown",
   "metadata": {},
   "source": [
    "# web02.py -> 파이참"
   ]
  },
  {
   "cell_type": "code",
   "execution_count": null,
   "metadata": {},
   "outputs": [],
   "source": []
  }
 ],
 "metadata": {
  "kernelspec": {
   "display_name": "Python 3",
   "language": "python",
   "name": "python3"
  },
  "language_info": {
   "codemirror_mode": {
    "name": "ipython",
    "version": 3
   },
   "file_extension": ".py",
   "mimetype": "text/x-python",
   "name": "python",
   "nbconvert_exporter": "python",
   "pygments_lexer": "ipython3",
   "version": "3.8.3"
  }
 },
 "nbformat": 4,
 "nbformat_minor": 4
}

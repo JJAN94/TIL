{
 "cells": [
  {
   "cell_type": "code",
   "execution_count": 2,
   "metadata": {},
   "outputs": [
    {
     "name": "stdout",
     "output_type": "stream",
     "text": [
      "defaultdict(<class 'list'>, {'비틀즈': ['yesterday', 'imagine'], '아이유': ['너랑나', '마슈멜로우'], '마이클 잭슨': ['beat it', 'smooth criminal']}) <class 'collections.defaultdict'>\n",
      "===============값추출===============\n",
      "['yesterday', 'imagine']\n",
      "['너랑나', '마슈멜로우']\n",
      "['beat it', 'smooth criminal']\n",
      "=====음악들을 alist라는 list객체를 선언해서 추가해보자. =====\n",
      "['yesterday', 'imagine', '너랑나', '마슈멜로우', 'beat it', 'smooth criminal']\n"
     ]
    }
   ],
   "source": [
    "# 심심한 그대\n",
    "from collections import defaultdict # 모듈을 활용해보자.\n",
    "\n",
    "def Test01() :\n",
    "    artist = ['비틀즈', '비틀즈', '아이유', '아이유', '마이클 잭슨','마이클 잭슨']\n",
    "    music = ['yesterday', 'imagine' ,'너랑나', '마슈멜로우', 'beat it', 'smooth criminal']\n",
    "    gini = defaultdict(list) # 기본 dict를 만들어서 ()객체를 key로 생성하고 value를 추가로 dict로 만드는 과정\n",
    "    \n",
    "    for i, k in enumerate(artist) :\n",
    "        gini[k].append(music[i])\n",
    "    \n",
    "    print(gini, type(gini))\n",
    "    print('===============값추출===============')\n",
    "    for i in gini.values() :\n",
    "        print(i)\n",
    "    \n",
    "    print('=====음악들을 alist라는 list객체를 선언해서 추가해보자. =====')\n",
    "    alist = []\n",
    "    for i in gini.values() :\n",
    "        for k in i :\n",
    "            alist.append(k)\n",
    "    print(alist)\n",
    "    \n",
    "if __name__ =='__main__' :\n",
    "    Test01()"
   ]
  },
  {
   "cell_type": "code",
   "execution_count": 9,
   "metadata": {},
   "outputs": [
    {
     "name": "stdout",
     "output_type": "stream",
     "text": [
      "yesterday\n",
      "너랑나\n",
      "beat it\n"
     ]
    }
   ],
   "source": [
    "def Test02() :\n",
    "    artist = ['비틀즈', '비틀즈', '아이유', '아이유', '마이클 잭슨','마이클 잭슨']\n",
    "    music = ['yesterday', 'imagine' ,'너랑나', '마슈멜로우', 'beat it', 'smooth criminal']\n",
    "    gini = defaultdict(list)\n",
    "    for  i, k in enumerate(artist) :\n",
    "        gini[k].append(music[i])\n",
    "    for j in gini.values() :\n",
    "        print(j[0])\n",
    "    \n",
    "    \n",
    "if __name__ =='__main__' :\n",
    "    Test02()\n",
    "    "
   ]
  },
  {
   "cell_type": "code",
   "execution_count": null,
   "metadata": {},
   "outputs": [],
   "source": []
  },
  {
   "cell_type": "markdown",
   "metadata": {},
   "source": [
    "# exam02.py"
   ]
  },
  {
   "cell_type": "code",
   "execution_count": 19,
   "metadata": {},
   "outputs": [
    {
     "name": "stdout",
     "output_type": "stream",
     "text": [
      "True\n",
      "False\n",
      "True\n",
      "True\n"
     ]
    }
   ],
   "source": [
    "# sum() 내장 함수를 사용해 보자\n",
    "\n",
    "def Test01() :\n",
    "    # 1. list 객체의 요소의 합을 출력하자.\n",
    "    listdata = [2,2,1,3,8,4,3,9,2,20]\n",
    "    result = sum(listdata)\n",
    "    print(listdata)\n",
    "    print(result)\n",
    "    \n",
    "def Test02() :\n",
    "    # 2. 짝수번째 요소의 합을 출력해 보자.\n",
    "    listdata = [2,2,1,3,8,4,3,9,2,20]\n",
    "    result = listdata[1::2]\n",
    "    print(sum(result))\n",
    "\n",
    "def Test03() :\n",
    "    a = [2,1,5,6,7,9,10,3]\n",
    "    result = sum(range(1,11)) - sum(a)\n",
    "    print(result)\n",
    "    \n",
    "def Test04() : # list 요소가 진리값 (all, any) : all()=And / any()=or\n",
    "    '''\n",
    "    all() : 인자로 인력되는 리스트의 모든 요소가 참일 경우만 True, 거짓이 하나라도 있으면 False를 리턴\n",
    "    any() : 인자로 입력되는 리스트의 모든 요소가 거짓인 경우만 False, 하나라도 참이 있다면 True를 리턴\n",
    "    '''\n",
    "    listdata1 = [True, True, True]\n",
    "    listdata2 = [True, False, True]\n",
    "    \n",
    "    print(all(listdata1)) # True\n",
    "    print(all(listdata2)) # False\n",
    "    print(any(listdata1)) # True\n",
    "    print(any(listdata2)) # True\n",
    "    \n",
    "    \n",
    "def Test05() :\n",
    "    listdata1 = [1,1,1]\n",
    "    listdata2 = [1,0,1]\n",
    "    print(all(listdata1)) # True\n",
    "    print(all(listdata2)) # False\n",
    "    print(any(listdata1)) # True\n",
    "    print(any(listdata2)) # True\n",
    "    \n",
    "if __name__ == '__main__' :\n",
    "    Test05()"
   ]
  },
  {
   "cell_type": "code",
   "execution_count": 28,
   "metadata": {},
   "outputs": [
    {
     "name": "stdout",
     "output_type": "stream",
     "text": [
      "A\n",
      "65 -----------------> A\n",
      "66 -----------------> B\n",
      "67 -----------------> C\n",
      "68 -----------------> D\n",
      "69 -----------------> E\n",
      "70 -----------------> F\n",
      "71 -----------------> G\n",
      "72 -----------------> H\n",
      "73 -----------------> I\n",
      "74 -----------------> J\n",
      "75 -----------------> K\n",
      "76 -----------------> L\n",
      "77 -----------------> M\n",
      "78 -----------------> N\n",
      "79 -----------------> O\n",
      "80 -----------------> P\n",
      "81 -----------------> Q\n",
      "82 -----------------> R\n",
      "83 -----------------> S\n",
      "84 -----------------> T\n",
      "85 -----------------> U\n",
      "86 -----------------> V\n",
      "87 -----------------> W\n",
      "88 -----------------> X\n",
      "89 -----------------> Y\n",
      "90 -----------------> Z\n"
     ]
    }
   ],
   "source": [
    "import string #문자를 관리하는 모듈\n",
    "def Test06() :\n",
    "    # 문자 코드 구하기 (ord) : 문자를 컴퓨터가 인식하는 코드값으로 변환 A(사람) ---인코딩----> 65(컴퓨터)\n",
    "    print(ord('A'))\n",
    "    # 알파벳 대문자를 출력해보자\n",
    "    print(string.ascii_uppercase)\n",
    "    print(string.digits)\n",
    "    print('영문자 대문자를 코드값으로 바꾸어 보자. ')\n",
    "    for i in string.ascii_uppercase :\n",
    "        print(i, '-------------------------->', ord(i))\n",
    "\n",
    "def Test07() :\n",
    "    print('영문자 소문자를 코드값으로 바꾸어 보자. string 모듈과 ord() 함수를 사용하자. ')\n",
    "    for i in string.ascii_lowercase :\n",
    "        print(i, '-------------------------->', ord(i))\n",
    "    \n",
    "def Test08() : # chr() 인자로 정수를 입력하게 되면 정수값에 해당하는 문자를 리턴한다.\n",
    "    print(chr(65))\n",
    "    '''\n",
    "    65 ---------------> A\n",
    "    66 ---------------> B\n",
    "    ...\n",
    "    90 ---------------> Z\n",
    "\n",
    "    '''\n",
    "    for i in range(65,91) :\n",
    "        print(i, '----------------->', chr(i))\n",
    "    \n",
    "if __name__ == '__main__' :\n",
    "    Test08()"
   ]
  },
  {
   "cell_type": "code",
   "execution_count": null,
   "metadata": {},
   "outputs": [],
   "source": []
  },
  {
   "cell_type": "markdown",
   "metadata": {},
   "source": [
    "# exam03.py"
   ]
  },
  {
   "cell_type": "code",
   "execution_count": 53,
   "metadata": {},
   "outputs": [
    {
     "name": "stdout",
     "output_type": "stream",
     "text": [
      "['34', '22', '45', '27', '31', '33', '35']\n",
      "34+22+45+27+31+33+35 = 227\n"
     ]
    }
   ],
   "source": [
    "def Test() : # eval()을 써보자\n",
    "    # 파일에서 읽은 수식이나 문자열을 그대로 실행해야 할 경우'2+3'\n",
    "    a = '2+3'\n",
    "    print(a)\n",
    "    print(eval(a)) # 5\n",
    "    res = '24+256 - 71*34'\n",
    "    print(res, '=', eval(res))\n",
    "    \n",
    "    \n",
    "def Test01() :\n",
    "        # join을 써보자 str.join()\n",
    "        # a리스트 객체를 추출해서 34+22+... 형식의 문자로 출력하고 싶다.\n",
    "        a = [34, 22, 45, 27, 31, 33, 35]\n",
    "        b = [] # 문자로 변경해서 추가하는 변수\n",
    "        for i in a :\n",
    "            b.append(str(i)) # join에 넣으려면 문자열로 넣어야한다.\n",
    "        print(b) # ['34', '22', '45', '27', '31', '33', '35']\n",
    "        result ='+'.join(b)\n",
    "        print(result, '=', eval(result))\n",
    "\n",
    "if __name__ == '__main__' :\n",
    "        Test01()"
   ]
  },
  {
   "cell_type": "code",
   "execution_count": 79,
   "metadata": {},
   "outputs": [
    {
     "name": "stdout",
     "output_type": "stream",
     "text": [
      "34,22,45,27,31,33,35\n"
     ]
    }
   ],
   "source": [
    "with open('exam03.csv', 'w') as f :\n",
    "    f.write('34,22,45,27,31,33,35')\n",
    "    \n",
    "with open('exam03.csv', 'r') as f :\n",
    "    print(f.read())"
   ]
  },
  {
   "cell_type": "code",
   "execution_count": 78,
   "metadata": {},
   "outputs": [
    {
     "name": "stdout",
     "output_type": "stream",
     "text": [
      "<_csv.reader object at 0x000002636CE622E0> <class '_csv.reader'>\n",
      "sequence item 0: expected str instance, list found\n",
      "34+22+45+27+31+33+35 = 227\n"
     ]
    }
   ],
   "source": [
    "import csv # csv확장자를 가진 파일을 처리하는 모듈\n",
    "def Test02() :\n",
    "    file = open('exam03.csv') # 파일을 열고\n",
    "    res = csv.reader(file) # csv.reader를 통해 읽어보자.\n",
    "    print(res, type(res))\n",
    "    b = []\n",
    "    for row in res :\n",
    "        b.append(row)\n",
    "    try :\n",
    "        result = '+'.join(b)\n",
    "    except TypeError as t :\n",
    "        print(t)\n",
    "        result = '+'.join(b[0])\n",
    "        \n",
    "    print(result, '=', eval(result))\n",
    "        \n",
    "if __name__ == '__main__' :\n",
    "        Test02()"
   ]
  },
  {
   "cell_type": "code",
   "execution_count": 140,
   "metadata": {},
   "outputs": [
    {
     "name": "stdout",
     "output_type": "stream",
     "text": [
      "<_csv.reader object at 0x000002636D001FA0> <class '_csv.reader'>\n",
      "34+22+45+27+31+33+35 = 227\n",
      "['홍길이', '정길이', '박길이', '최길이', '조길이', '김길이', '지길이']\n"
     ]
    }
   ],
   "source": [
    "def Test03() :\n",
    "    file = open('data.csv', encoding='utf-8') # 파일을 열고 # sys.getdefaultencoding() ??????\n",
    "    res = csv.reader(file, delimiter=' ') # csv.reader를 통해 읽어보자.\n",
    "    \n",
    "    for row in res :\n",
    "        print(row)\n",
    "        \n",
    "def Test04() :\n",
    "    file = open('data.csv', encoding='utf-8') # 파일을 열고\n",
    "    res = csv.reader(file, delimiter=' ') # csv.reader를 통해 읽어보자.\n",
    "    print(res, type(res))\n",
    "    b = []\n",
    "    name = []\n",
    "    for row in res :\n",
    "        b.append(row[0])\n",
    "        name.append(row[1])\n",
    "    result = '+'.join(b)\n",
    "    \n",
    "    print(result, '=', eval(result))\n",
    "    print(name)\n",
    "    return name\n",
    "# 열끼리 묶어서 표시 row[0] = 숫자들\n",
    "# row[1] = 이름들\n",
    "# 이것들 추출해서 key:value같이 묶어서 해도 괜찮을듯.\n",
    "if __name__ == '__main__' :\n",
    "        Test04()"
   ]
  },
  {
   "cell_type": "code",
   "execution_count": 87,
   "metadata": {},
   "outputs": [
    {
     "data": {
      "text/plain": [
       "['excel', 'excel-tab', 'unix']"
      ]
     },
     "execution_count": 87,
     "metadata": {},
     "output_type": "execute_result"
    }
   ],
   "source": [
    "# 'cp949' codec can't decode byte 0xed in position 3: illegal multibyte sequence\n",
    "# 한글때문에 생기는 에러\n",
    "# csv.get_dialect()\n",
    "# csv.list_dialects()"
   ]
  },
  {
   "cell_type": "code",
   "execution_count": 103,
   "metadata": {},
   "outputs": [
    {
     "name": "stdout",
     "output_type": "stream",
     "text": [
      "Help on built-in function reader in module _csv:\n",
      "\n",
      "reader(...)\n",
      "    csv_reader = reader(iterable [, dialect='excel']\n",
      "                            [optional keyword args])\n",
      "        for row in csv_reader:\n",
      "            process(row)\n",
      "    \n",
      "    The \"iterable\" argument can be any object that returns a line\n",
      "    of input for each iteration, such as a file object or a list.  The\n",
      "    optional \"dialect\" parameter is discussed below.  The function\n",
      "    also accepts optional keyword arguments which override settings\n",
      "    provided by the dialect.\n",
      "    \n",
      "    The returned object is an iterator.  Each iteration returns a row\n",
      "    of the CSV file (which can span multiple input lines).\n",
      "\n"
     ]
    }
   ],
   "source": [
    "help(csv.reader)"
   ]
  },
  {
   "cell_type": "code",
   "execution_count": 105,
   "metadata": {
    "scrolled": true
   },
   "outputs": [
    {
     "name": "stdout",
     "output_type": "stream",
     "text": [
      "Help on class Dialect in module csv:\n",
      "\n",
      "class Dialect(builtins.object)\n",
      " |  Describe a CSV dialect.\n",
      " |  \n",
      " |  This must be subclassed (see csv.excel).  Valid attributes are:\n",
      " |  delimiter, quotechar, escapechar, doublequote, skipinitialspace,\n",
      " |  lineterminator, quoting.\n",
      " |  \n",
      " |  Methods defined here:\n",
      " |  \n",
      " |  __init__(self)\n",
      " |      Initialize self.  See help(type(self)) for accurate signature.\n",
      " |  \n",
      " |  ----------------------------------------------------------------------\n",
      " |  Data descriptors defined here:\n",
      " |  \n",
      " |  __dict__\n",
      " |      dictionary for instance variables (if defined)\n",
      " |  \n",
      " |  __weakref__\n",
      " |      list of weak references to the object (if defined)\n",
      " |  \n",
      " |  ----------------------------------------------------------------------\n",
      " |  Data and other attributes defined here:\n",
      " |  \n",
      " |  delimiter = None\n",
      " |  \n",
      " |  doublequote = None\n",
      " |  \n",
      " |  escapechar = None\n",
      " |  \n",
      " |  lineterminator = None\n",
      " |  \n",
      " |  quotechar = None\n",
      " |  \n",
      " |  quoting = None\n",
      " |  \n",
      " |  skipinitialspace = None\n",
      "\n"
     ]
    }
   ],
   "source": [
    "help(csv.Dialect) # delimier"
   ]
  },
  {
   "cell_type": "code",
   "execution_count": 124,
   "metadata": {
    "scrolled": true
   },
   "outputs": [
    {
     "name": "stdout",
     "output_type": "stream",
     "text": [
      "utf-8\n"
     ]
    }
   ],
   "source": [
    "import sys\n",
    "print(sys.getdefaultencoding())"
   ]
  },
  {
   "cell_type": "code",
   "execution_count": 198,
   "metadata": {},
   "outputs": [
    {
     "name": "stdout",
     "output_type": "stream",
     "text": [
      "<_csv.reader object at 0x000002636D1B1580> <class '_csv.reader'>\n",
      "34+22+45+27+31+33+35 = 227\n",
      "['홍길이', '정길이', '박길이', '최길이', '조길이', '김길이', '지길이']\n"
     ]
    }
   ],
   "source": [
    "def Test05() :\n",
    "    # data03.csv에 data.csv에서 이름만 추출해서 저장하자.\n",
    "#     print('-------------------------Test05----------------------')\n",
    "    name = Test04()\n",
    "#     print()\n",
    "#     print('Test05 -------------------->', name)\n",
    "    \n",
    "    file = open('data03.csv', 'w', encoding='utf-8')\n",
    "    csv_writer = csv.writer(file, delimiter=' ')\n",
    "#     for row in name :\n",
    "#         csv_writer.writerow(row)\n",
    "    csv_writer.writerow(name)\n",
    "    \n",
    "   \n",
    "if __name__ =='__main__' :\n",
    "    Test05()"
   ]
  },
  {
   "cell_type": "code",
   "execution_count": 154,
   "metadata": {},
   "outputs": [
    {
     "name": "stdout",
     "output_type": "stream",
     "text": [
      "Help on built-in function writer in module _csv:\n",
      "\n",
      "writer(...)\n",
      "    csv_writer = csv.writer(fileobj [, dialect='excel']\n",
      "                                [optional keyword args])\n",
      "        for row in sequence:\n",
      "            csv_writer.writerow(row)\n",
      "    \n",
      "        [or]\n",
      "    \n",
      "        csv_writer = csv.writer(fileobj [, dialect='excel']\n",
      "                                [optional keyword args])\n",
      "        csv_writer.writerows(rows)\n",
      "    \n",
      "    The \"fileobj\" argument can be any object that supports the file API.\n",
      "\n"
     ]
    }
   ],
   "source": [
    "help(csv.writer)"
   ]
  },
  {
   "cell_type": "code",
   "execution_count": 179,
   "metadata": {},
   "outputs": [
    {
     "name": "stdout",
     "output_type": "stream",
     "text": [
      "Help on class Dialect in module csv:\n",
      "\n",
      "class Dialect(builtins.object)\n",
      " |  Describe a CSV dialect.\n",
      " |  \n",
      " |  This must be subclassed (see csv.excel).  Valid attributes are:\n",
      " |  delimiter, quotechar, escapechar, doublequote, skipinitialspace,\n",
      " |  lineterminator, quoting.\n",
      " |  \n",
      " |  Methods defined here:\n",
      " |  \n",
      " |  __init__(self)\n",
      " |      Initialize self.  See help(type(self)) for accurate signature.\n",
      " |  \n",
      " |  ----------------------------------------------------------------------\n",
      " |  Data descriptors defined here:\n",
      " |  \n",
      " |  __dict__\n",
      " |      dictionary for instance variables (if defined)\n",
      " |  \n",
      " |  __weakref__\n",
      " |      list of weak references to the object (if defined)\n",
      " |  \n",
      " |  ----------------------------------------------------------------------\n",
      " |  Data and other attributes defined here:\n",
      " |  \n",
      " |  delimiter = None\n",
      " |  \n",
      " |  doublequote = None\n",
      " |  \n",
      " |  escapechar = None\n",
      " |  \n",
      " |  lineterminator = None\n",
      " |  \n",
      " |  quotechar = None\n",
      " |  \n",
      " |  quoting = None\n",
      " |  \n",
      " |  skipinitialspace = None\n",
      "\n"
     ]
    }
   ],
   "source": [
    "help(csv.Dialect)"
   ]
  },
  {
   "cell_type": "markdown",
   "metadata": {},
   "source": [
    "# exam04.py"
   ]
  },
  {
   "cell_type": "code",
   "execution_count": 209,
   "metadata": {},
   "outputs": [
    {
     "name": "stdout",
     "output_type": "stream",
     "text": [
      "Title 1,Title 2,Title 3\n",
      "\n",
      "1,\"a,\",2021/01/ 07\n",
      "\n",
      "2,\"b,\",2021/02/ 07\n",
      "\n",
      "3,\"c,\",2021/03/ 07\n",
      "\n",
      "4,\"d,\",2021/04/ 07\n",
      "\n",
      "5,\"e,\",2021/05/ 07\n",
      "\n",
      "6,\"f,\",2021/06/ 07\n",
      "\n",
      "\n"
     ]
    }
   ],
   "source": [
    "# csv 모듈을 이용한 파일을 구현해 보자.\n",
    "import csv\n",
    "\n",
    "def csv_reader() :\n",
    "    f = open('data04.csv', 'rt')\n",
    "    try :\n",
    "        reader = csv.reader(f) # list 리턴\n",
    "        for row in reader :\n",
    "            print(row)\n",
    "            \n",
    "    finally :\n",
    "        f.close()\n",
    "        \n",
    "def csv_reader02() :\n",
    "    f = open('data04.csv', 'rt')\n",
    "    try :\n",
    "        reader = csv.DictReader(f) # list 리턴\n",
    "        for row in reader :\n",
    "            print(row)\n",
    "            \n",
    "    finally :\n",
    "        f.close()\n",
    "        \n",
    "        \n",
    "        \n",
    "def csv_writer() :\n",
    "    f = open('result.csv', 'wt')\n",
    "    try :\n",
    "        writer = csv.writer(f)\n",
    "        writer.writerow(('Title 1', 'Title 2', 'Title 3')) \n",
    "        for i in range(6) :\n",
    "            writer.writerow((i+1, chr(ord('a')+i) + ',', '2021/%02d/ 07'%(i+1)))\n",
    "    finally :\n",
    "        f.close()\n",
    "    print(open('result.csv', 'rt').read())\n",
    "        \n",
    "if __name__ =='__main__' :\n",
    "    csv_writer()"
   ]
  },
  {
   "cell_type": "markdown",
   "metadata": {},
   "source": [
    "### 마지막교시 듣기"
   ]
  },
  {
   "cell_type": "code",
   "execution_count": null,
   "metadata": {},
   "outputs": [],
   "source": []
  },
  {
   "cell_type": "code",
   "execution_count": null,
   "metadata": {},
   "outputs": [],
   "source": []
  },
  {
   "cell_type": "code",
   "execution_count": null,
   "metadata": {},
   "outputs": [],
   "source": []
  },
  {
   "cell_type": "markdown",
   "metadata": {},
   "source": [
    "# numpy"
   ]
  },
  {
   "cell_type": "code",
   "execution_count": 210,
   "metadata": {},
   "outputs": [],
   "source": [
    "import numpy as np"
   ]
  },
  {
   "cell_type": "code",
   "execution_count": 224,
   "metadata": {},
   "outputs": [],
   "source": [
    "import matplotlib.pyplot as plt"
   ]
  },
  {
   "cell_type": "code",
   "execution_count": 238,
   "metadata": {},
   "outputs": [
    {
     "name": "stdout",
     "output_type": "stream",
     "text": [
      "평균 = 120.0681, 분산 = 80.04766239, 표준편차 = 8.946935921867329\n"
     ]
    }
   ],
   "source": [
    "# 한개의 주사위를 360번 던져서 3의 배수의 눈이 나오는 횟수를 구하는 것을 1000번 하고\n",
    "# 1000개를 x=[]라는 변수에 넣고 x에 대한 평균, 분산, 표준편차를 구하자. \n",
    "import random\n",
    "def Test() :\n",
    "    dice = [1,2,3,4,5,6]\n",
    "    x = []\n",
    "    \n",
    "    for i in range(10000) :\n",
    "        count = 0\n",
    "        for j in range(360) :\n",
    "            if random.choice(dice) % 3 == 0 :\n",
    "                count += 1\n",
    "        x.append(count)\n",
    "    y = np.linspace(0,10001,10000)\n",
    "    xx = np.array(x)\n",
    "    \n",
    "    plt.plot(xx)\n",
    "    plt.show()\n",
    "    print('평균 = {}, 분산 = {}, 표준편차 = {}'.format(np.mean(x), np.var(x), np.std(x)))\n",
    "    \n",
    "if __name__ =='__main__' :\n",
    "    Test()"
   ]
  },
  {
   "cell_type": "code",
   "execution_count": null,
   "metadata": {},
   "outputs": [],
   "source": []
  },
  {
   "cell_type": "markdown",
   "metadata": {},
   "source": [
    "# 데이터 분석가가 기본적으로 갖추어야 할 기술\n",
    "1. SQL\n",
    "2. 파이썬 + 통계기본 지식 + 머신러닝 지식\n",
    "3. R           알고리즘 문제소양\n",
    "4. 하둡\n",
    "---\n",
    "\n",
    "파이썬을 통해서 우리가 얻어야 할 지식?\n",
    "1. 빅데이터 수집을 위한 웹 크롤링 할 수 있는 능력을 키우자.\n",
    "2. SQL 처럼 파이썬으로 데이터 검색하고 데이터를 분석 할 수 있는 능력\n",
    "3. 딥러닝개발자(강화학습)의 기본 코드교양\n",
    "\n",
    "---\n",
    "\n",
    "numpy : 수치연산, 행렬 벡터연산\n",
    "pandas : 데이터프레임 \n",
    "\n"
   ]
  },
  {
   "cell_type": "markdown",
   "metadata": {},
   "source": [
    "# 몬테 카를로 알고리즘 알아오기"
   ]
  },
  {
   "cell_type": "code",
   "execution_count": null,
   "metadata": {},
   "outputs": [],
   "source": []
  }
 ],
 "metadata": {
  "kernelspec": {
   "display_name": "Python 3",
   "language": "python",
   "name": "python3"
  },
  "language_info": {
   "codemirror_mode": {
    "name": "ipython",
    "version": 3
   },
   "file_extension": ".py",
   "mimetype": "text/x-python",
   "name": "python",
   "nbconvert_exporter": "python",
   "pygments_lexer": "ipython3",
   "version": "3.8.3"
  }
 },
 "nbformat": 4,
 "nbformat_minor": 4
}

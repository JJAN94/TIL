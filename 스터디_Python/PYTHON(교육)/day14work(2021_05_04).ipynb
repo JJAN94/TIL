{
 "cells": [
  {
   "cell_type": "markdown",
   "metadata": {},
   "source": [
    "## 팀 과제\n",
    "## 1번과제\n",
    "no   name   kor   eng    mat   tot   avg   grade\\\n",
    "번호 이름   국어   영어   수학 총점 평균 학점 //// score class만들어서\\\n",
    "1    홍길동  90     80     70\\\n",
    "2    홍길동  90     80     70\\\n",
    "[조건]\n",
    "   1. 임의의 score 레코드를 10개 생성하면서 생성자로 값을 전달받는다.\n",
    "   2. 총점, 평균, 학점은 메소드로 리턴한다.\n",
    "   3. 출력 메소드는 prn_score()로 선언한다.\n",
    "   4. 번호, 이름, 국어, 영어, 수학은 캡슐화로 선언한다.\n",
    "   5. 생성된 객체는 list_all의 list객체로 담아서 score.txt로 저장한다.\n",
    "   6. 파일을 읽어서 화면 출력 한다.\n",
    "   7. 파일은 score.py (클래스로 담고), score_exam.py (여기서 임포트해서 입출력할것)\n",
    "   8. 10명의 국어 점수 총합, 영어 점수 총합을 출력한다.\n",
    "   9. 10명 수학점수를 main에서 0점으로 처리하고 전체 출력한다.\n",
    "   10. 학점은 A, B, C, F로 한다. 평균점수 (90A, 80B, 70C, 그외 F)\n",
    "   \n",
    "## 2번과제\n",
    "- 구글에서 사과이미지를 10개를 무작위로 MyTest라는 폴더에 저장한다.\n",
    "- img_exam.py에서 MyTest라는 폴더에 있는 이미지를 img0.jpg, img1.jpg 순으로 이미지 파일이름을 변경한다."
   ]
  },
  {
   "cell_type": "code",
   "execution_count": null,
   "metadata": {},
   "outputs": [],
   "source": [
    "# score.py\n",
    "\n",
    "class score :\n",
    "    def __init__(self, no, name, kor, eng, mat):\n",
    "        self.__no =no\n",
    "        self.__name = name\n",
    "        self.__kor = kor\n",
    "        self.__eng = eng\n",
    "        self.__mat = mat\n",
    "        \n",
    "    @property\n",
    "    def getNum(self):\n",
    "        return self.__number\n",
    "    \n",
    "    @property\n",
    "    def getName(self):\n",
    "        return self.__name\n",
    "    \n",
    "    @property\n",
    "    def getScore(self):\n",
    "        return self.__kor,self.__eng,self.mat\n",
    "    \n",
    "    def tot(self):\n",
    "        pass\n",
    "\n",
    "    def avg(self):\n",
    "        pass\n",
    "\n",
    "    def grade(self):    # 평균기준 A(90이상), B(80이상), C(70이상), F(70미만)\n",
    "        pass\n",
    "\n",
    "    def prn_score(self):\n",
    "        pass\n"
   ]
  },
  {
   "cell_type": "code",
   "execution_count": null,
   "metadata": {},
   "outputs": [],
   "source": [
    "# score.py\n",
    "\n",
    "class score :\n",
    "    def __init__(self, no, name, kor, eng, mat):\n",
    "        self.__no =no\n",
    "        self.__name = name\n",
    "        self.__kor = kor\n",
    "        self.__eng = eng\n",
    "        self.__mat = mat\n",
    "        \n",
    "        "
   ]
  },
  {
   "cell_type": "code",
   "execution_count": 8,
   "metadata": {},
   "outputs": [],
   "source": [
    "import random as rd"
   ]
  },
  {
   "cell_type": "code",
   "execution_count": 23,
   "metadata": {},
   "outputs": [],
   "source": [
    "# score.py\n",
    "\n",
    "temp = [[1, '홍길동', 90, 80, 70], [2, 'a', 50, 80, 20]]\n",
    "class Score:\n",
    "    def __init__(self, id, name, k_score, e_score, m_score):\n",
    "        self._id = id\n",
    "        self._name = name\n",
    "        self._k_score = k_score\n",
    "        self._e_score = e_score\n",
    "        self._m_score = m_score\n",
    "        self._t_score = self._k_score + self._e_score + self._m_score\n",
    "        self._avg = self._t_score//3\n",
    "        self._grade = self._get_grade()\n",
    "    def _get_total_score(self):\n",
    "        return self._t_score\n",
    "    def _get_avg_score(self):\n",
    "        return self._avg\n",
    "    def get_k_score(self):\n",
    "        return self._k_score\n",
    "    def get_e_score(self):\n",
    "        return self._e_score\n",
    "    def _get_grade(self) :\n",
    "        '''\n",
    "        학점 반환\n",
    "        '''\n",
    "        if self._t_score >= 270 :\n",
    "            return 'A'\n",
    "        elif 240 <= self._t_score :\n",
    "            return 'B'\n",
    "        elif 210 <= self._t_score :\n",
    "            return 'C'\n",
    "        else :\n",
    "            return 'F'\n",
    "    def prn_score(self):\n",
    "        print('국어 : {} 영어 : {} 수학 : {} 총점 {} 평균 : {} 학점 {}'.format(self._k_score, self._e_score, self._m_score, self._t_score, self._t_score//3, self._grade))\n",
    "\n",
    "        #score_list = []\n",
    "\n",
    "#for info in temp:\n",
    " #   score_list.append(Score(info[0], info[1], info[2], info[3], info[4]))\n",
    "#for score in score_list:\n",
    " #   score.prn_score()\n"
   ]
  },
  {
   "cell_type": "code",
   "execution_count": 24,
   "metadata": {},
   "outputs": [],
   "source": [
    "# score_exam.py\n",
    "try :\n",
    "    import cPickle\n",
    "    pickle = cPickle\n",
    "except :\n",
    "    import pickle"
   ]
  },
  {
   "cell_type": "code",
   "execution_count": 27,
   "metadata": {},
   "outputs": [
    {
     "name": "stdout",
     "output_type": "stream",
     "text": [
      "국어 : 66 영어 : 24 수학 : 0 총점 90 평균 : 30 학점 F\n",
      "국어 : 13 영어 : 49 수학 : 65 총점 127 평균 : 42 학점 F\n",
      "국어 : 12 영어 : 85 수학 : 31 총점 128 평균 : 42 학점 F\n",
      "국어 : 66 영어 : 53 수학 : 85 총점 204 평균 : 68 학점 F\n",
      "국어 : 54 영어 : 22 수학 : 24 총점 100 평균 : 33 학점 F\n",
      "국어 : 84 영어 : 69 수학 : 44 총점 197 평균 : 65 학점 F\n",
      "국어 : 48 영어 : 1 수학 : 92 총점 141 평균 : 47 학점 F\n",
      "국어 : 78 영어 : 79 수학 : 70 총점 227 평균 : 75 학점 C\n",
      "국어 : 38 영어 : 88 수학 : 50 총점 176 평균 : 58 학점 F\n",
      "국어 : 70 영어 : 55 수학 : 45 총점 170 평균 : 56 학점 F\n"
     ]
    }
   ],
   "source": [
    "# import score\n",
    "if __name__ == '__main__' :\n",
    "    student = []\n",
    "    for i in range(1,11) :\n",
    "        student.append((i, '홍길동' + str(i), rd.randrange(0,100), rd.randrange(0,100), rd.randrange(0,100)))\n",
    "    for i in range(10) :\n",
    "        s = Score(student[i][0], student[i][1], student[i][2], student[i][3], student[i][4])\n",
    "        \n",
    "        with open('score.txt', 'wb') as f :\n",
    "            list_all = pickle.dump(s, f)\n",
    "        with open('score.txt', 'rb') as f :\n",
    "            res = pickle.load(f)\n",
    "            res.prn_score()\n",
    "    \n",
    "     for i in range(10) :\n",
    "            \n",
    "        \n",
    "        "
   ]
  },
  {
   "cell_type": "code",
   "execution_count": 29,
   "metadata": {},
   "outputs": [
    {
     "ename": "TypeError",
     "evalue": "'Score' object is not subscriptable",
     "output_type": "error",
     "traceback": [
      "\u001b[1;31m---------------------------------------------------------------------------\u001b[0m",
      "\u001b[1;31mTypeError\u001b[0m                                 Traceback (most recent call last)",
      "\u001b[1;32m<ipython-input-29-084d5667ce88>\u001b[0m in \u001b[0;36m<module>\u001b[1;34m\u001b[0m\n\u001b[0;32m      1\u001b[0m \u001b[1;32mwith\u001b[0m \u001b[0mopen\u001b[0m\u001b[1;33m(\u001b[0m\u001b[1;34m'score.txt'\u001b[0m\u001b[1;33m,\u001b[0m \u001b[1;34m'rb'\u001b[0m\u001b[1;33m)\u001b[0m \u001b[1;32mas\u001b[0m \u001b[0mf\u001b[0m \u001b[1;33m:\u001b[0m\u001b[1;33m\u001b[0m\u001b[1;33m\u001b[0m\u001b[0m\n\u001b[0;32m      2\u001b[0m     \u001b[0mres\u001b[0m \u001b[1;33m=\u001b[0m \u001b[0mpickle\u001b[0m\u001b[1;33m.\u001b[0m\u001b[0mload\u001b[0m\u001b[1;33m(\u001b[0m\u001b[0mf\u001b[0m\u001b[1;33m)\u001b[0m\u001b[1;33m\u001b[0m\u001b[1;33m\u001b[0m\u001b[0m\n\u001b[1;32m----> 3\u001b[1;33m     \u001b[0mres\u001b[0m\u001b[1;33m[\u001b[0m\u001b[1;36m0\u001b[0m\u001b[1;33m]\u001b[0m\u001b[1;33m\u001b[0m\u001b[1;33m\u001b[0m\u001b[0m\n\u001b[0m",
      "\u001b[1;31mTypeError\u001b[0m: 'Score' object is not subscriptable"
     ]
    }
   ],
   "source": [
    "with open('score.txt', 'rb') as f :\n",
    "    res = pickle.load(f)\n",
    "    res[0]"
   ]
  },
  {
   "cell_type": "code",
   "execution_count": 18,
   "metadata": {},
   "outputs": [
    {
     "data": {
      "text/plain": [
       "[(1, '홍길동1', 70, 24, 63),\n",
       " (2, '홍길동2', 56, 39, 73),\n",
       " (3, '홍길동3', 77, 3, 83),\n",
       " (4, '홍길동4', 89, 8, 38),\n",
       " (5, '홍길동5', 9, 4, 17),\n",
       " (6, '홍길동6', 17, 68, 24),\n",
       " (7, '홍길동7', 31, 16, 32),\n",
       " (8, '홍길동8', 84, 83, 14),\n",
       " (9, '홍길동9', 79, 79, 53),\n",
       " (10, '홍길동10', 83, 80, 94)]"
      ]
     },
     "execution_count": 18,
     "metadata": {},
     "output_type": "execute_result"
    }
   ],
   "source": [
    "student"
   ]
  },
  {
   "cell_type": "code",
   "execution_count": 3,
   "metadata": {},
   "outputs": [
    {
     "ename": "NameError",
     "evalue": "name 'randrange' is not defined",
     "output_type": "error",
     "traceback": [
      "\u001b[1;31m---------------------------------------------------------------------------\u001b[0m",
      "\u001b[1;31mNameError\u001b[0m                                 Traceback (most recent call last)",
      "\u001b[1;32m<ipython-input-3-30164bf90a34>\u001b[0m in \u001b[0;36m<module>\u001b[1;34m\u001b[0m\n\u001b[0;32m      2\u001b[0m \u001b[0mstudent\u001b[0m \u001b[1;33m=\u001b[0m \u001b[1;33m[\u001b[0m\u001b[1;33m]\u001b[0m\u001b[1;33m\u001b[0m\u001b[1;33m\u001b[0m\u001b[0m\n\u001b[0;32m      3\u001b[0m \u001b[1;32mfor\u001b[0m \u001b[0mi\u001b[0m \u001b[1;32min\u001b[0m \u001b[0mrange\u001b[0m\u001b[1;33m(\u001b[0m\u001b[1;36m1\u001b[0m\u001b[1;33m,\u001b[0m \u001b[1;36m11\u001b[0m\u001b[1;33m)\u001b[0m\u001b[1;33m:\u001b[0m\u001b[1;33m\u001b[0m\u001b[1;33m\u001b[0m\u001b[0m\n\u001b[1;32m----> 4\u001b[1;33m     \u001b[0mstudent\u001b[0m\u001b[1;33m.\u001b[0m\u001b[0mappend\u001b[0m\u001b[1;33m(\u001b[0m\u001b[1;33m(\u001b[0m\u001b[0mi\u001b[0m\u001b[1;33m,\u001b[0m \u001b[1;34m'홍길동'\u001b[0m \u001b[1;33m+\u001b[0m \u001b[0mstr\u001b[0m\u001b[1;33m(\u001b[0m\u001b[0mi\u001b[0m\u001b[1;33m)\u001b[0m\u001b[1;33m,\u001b[0m \u001b[0mrandrange\u001b[0m\u001b[1;33m(\u001b[0m\u001b[1;36m0\u001b[0m\u001b[1;33m,\u001b[0m \u001b[1;36m100\u001b[0m\u001b[1;33m)\u001b[0m\u001b[1;33m,\u001b[0m \u001b[0mrandrange\u001b[0m\u001b[1;33m(\u001b[0m\u001b[1;36m0\u001b[0m\u001b[1;33m,\u001b[0m \u001b[1;36m100\u001b[0m\u001b[1;33m)\u001b[0m\u001b[1;33m,\u001b[0m \u001b[0mrandrange\u001b[0m\u001b[1;33m(\u001b[0m\u001b[1;36m0\u001b[0m\u001b[1;33m,\u001b[0m \u001b[1;36m100\u001b[0m\u001b[1;33m)\u001b[0m\u001b[1;33m)\u001b[0m\u001b[1;33m)\u001b[0m\u001b[1;33m\u001b[0m\u001b[1;33m\u001b[0m\u001b[0m\n\u001b[0m\u001b[0;32m      5\u001b[0m \u001b[1;31m#     for i in range(10):\u001b[0m\u001b[1;33m\u001b[0m\u001b[1;33m\u001b[0m\u001b[1;33m\u001b[0m\u001b[0m\n\u001b[0;32m      6\u001b[0m \u001b[1;31m#         s = Score(student[i][0], student[i][1], student[i][2], student[i][3], student[i][4])\u001b[0m\u001b[1;33m\u001b[0m\u001b[1;33m\u001b[0m\u001b[1;33m\u001b[0m\u001b[0m\n",
      "\u001b[1;31mNameError\u001b[0m: name 'randrange' is not defined"
     ]
    }
   ],
   "source": [
    "import random\n",
    "student = []\n",
    "for i in range(1, 11):\n",
    "    student.append((i, '홍길동' + str(i), randrange(0, 100), randrange(0, 100), randrange(0, 100)))\n",
    "    for i in range(10):\n",
    "         s = Score(student[i][0], student[i][1], student[i][2], student[i][3], student[i][4])\n",
    "         #s.prn_score()"
   ]
  },
  {
   "cell_type": "markdown",
   "metadata": {},
   "source": [
    "1. 임의의 score 레코드를 10개 생성하면서 생성자로 값을 전달받는다.\n",
    "2. 총점, 평균, 학점은 메소드로 리턴한다.\n",
    "3. 출력 메소드는 prn_score()로 선언한다.\n",
    "4. 번호, 이름, 국어, 영어, 수학은 캡슐화로 선언한다.\n",
    "5. 생성된 객체는 list_all의 list객체로 담아서 score.txt로 저장한다.\n",
    "6. 파일을 읽어서 화면 출력 한다.\n",
    "7. 파일은 score.py (클래스로 담고), score_exam.py (여기서 임포트해서 입출력할것)\n",
    "8. 10명의 국어 점수 총합, 영어 점수 총합을 출력한다.\n",
    "9. 10명 수학점수를 main에서 0점으로 처리하고 전체 출력한다.\n",
    "10. 학점은 A, B, C, F로 한다. 평균점수 (90A, 80B, 70C, 그외 F)"
   ]
  },
  {
   "cell_type": "markdown",
   "metadata": {},
   "source": [
    "## 2번과제\n",
    "- 구글에서 사과이미지를 10개를 무작위로 MyTest라는 폴더에 저장한다.\n",
    "- img_exam.py에서 MyTest라는 폴더에 있는 이미지를 img0.jpg, img1.jpg 순으로 이미지 파일이름을 변경한다."
   ]
  },
  {
   "cell_type": "code",
   "execution_count": null,
   "metadata": {},
   "outputs": [],
   "source": [
    "# img_exam.py\n"
   ]
  },
  {
   "cell_type": "code",
   "execution_count": null,
   "metadata": {},
   "outputs": [],
   "source": []
  },
  {
   "cell_type": "code",
   "execution_count": null,
   "metadata": {},
   "outputs": [],
   "source": []
  },
  {
   "cell_type": "code",
   "execution_count": null,
   "metadata": {},
   "outputs": [],
   "source": []
  },
  {
   "cell_type": "code",
   "execution_count": null,
   "metadata": {},
   "outputs": [],
   "source": [
    "    \n",
    "# class Address :\n",
    "#     def __init__(self, name, addr, tel) :\n",
    "#         self.name = name\n",
    "#         self.addr = addr\n",
    "#         self.tel = tel\n",
    "        \n",
    "#     def prn(self) :\n",
    "#         print('%10s%10s%20s\\n'%(self.name, self.addr, self.tel))\n",
    "\n",
    "# 샘플 데이터 생성        \n",
    "# import random\n",
    "# random_score = {['no' : 1, 'name' : '홍길동1', 'kor' : 100, 'eng' : 86,'mat' : 77],\n",
    "#                            ['no' : 2, 'name' : '홍길동2', 'kor' : 85, 'eng' : 98,'mat' : 88],\n",
    "#                            ['no' : 3, 'name' : '홍길동3', 'kor' : 70, 'eng' : 87,'mat' : 99],\n",
    "#                            ['no' : 4, 'name' : '홍길동4', 'kor' : 60, 'eng' : 75,'mat' : 60],\n",
    "#                              ['no' : 5, 'name' : '홍길동5', 'kor' : 87, 'eng' : 55,'mat' : 70],\n",
    "#                            ['no' : 6, 'name' : '홍길동6', 'kor' : 77, 'eng' : 100,'mat' : 87],\n",
    "#                            ['no' : 7, 'name' : '홍길동7', 'kor' : 45, 'eng' : 97,'mat' : 56],\n",
    "#                            ['no' : 8, 'name' : '홍길동8', 'kor' : 66, 'eng' : 68,'mat' : 57],\n",
    "#                            ['no' : 9, 'name' : '홍길동9', 'kor' : 55, 'eng' : 56,'mat' : 87],\n",
    "#                            ['no' : 10, 'name' : '홍길동10', 'kor' : 87, 'eng' : 11,'mat' : 98]}\n",
    "\n",
    "# no   name   kor   eng    mat   tot   avg   grade"
   ]
  }
 ],
 "metadata": {
  "kernelspec": {
   "display_name": "Python 3",
   "language": "python",
   "name": "python3"
  },
  "language_info": {
   "codemirror_mode": {
    "name": "ipython",
    "version": 3
   },
   "file_extension": ".py",
   "mimetype": "text/x-python",
   "name": "python",
   "nbconvert_exporter": "python",
   "pygments_lexer": "ipython3",
   "version": "3.8.3"
  }
 },
 "nbformat": 4,
 "nbformat_minor": 4
}

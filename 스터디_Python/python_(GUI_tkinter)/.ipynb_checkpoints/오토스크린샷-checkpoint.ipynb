{
 "cells": [
  {
   "cell_type": "code",
   "execution_count": 2,
   "id": "85efd51c",
   "metadata": {},
   "outputs": [],
   "source": [
    "import keyboard\n",
    "from PIL import ImageGrab\n",
    "import time"
   ]
  },
  {
   "cell_type": "code",
   "execution_count": 4,
   "id": "6ec356a5",
   "metadata": {},
   "outputs": [],
   "source": [
    "def screenshot() :\n",
    "    curr_time = time.strftime('_%Y%m%d_%H%M%S')\n",
    "    img = ImageGrab.grab()\n",
    "    img.save('image{}.png'.format(curr_time))\n",
    "\n",
    "\n",
    "keyboard.add_hotkey('ctrl+alt+o', screenshot) # 사용자가 ctrl+alt+o 키를 누르면 스크린 샷 저장\n",
    "\n",
    "keyboard.wait('esc') # 사용자가 esc를 누를 때까지 프로그램 수행\n"
   ]
  },
  {
   "cell_type": "code",
   "execution_count": null,
   "id": "f4f2bff6",
   "metadata": {},
   "outputs": [],
   "source": []
  }
 ],
 "metadata": {
  "kernelspec": {
   "display_name": "Python 3",
   "language": "python",
   "name": "python3"
  },
  "language_info": {
   "codemirror_mode": {
    "name": "ipython",
    "version": 3
   },
   "file_extension": ".py",
   "mimetype": "text/x-python",
   "name": "python",
   "nbconvert_exporter": "python",
   "pygments_lexer": "ipython3",
   "version": "3.8.8"
  }
 },
 "nbformat": 4,
 "nbformat_minor": 5
}

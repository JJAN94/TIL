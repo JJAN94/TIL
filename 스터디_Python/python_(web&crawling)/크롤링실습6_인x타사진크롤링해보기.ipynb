{
 "cells": [
  {
   "cell_type": "code",
   "execution_count": 1,
   "id": "8c6941f5",
   "metadata": {},
   "outputs": [],
   "source": [
    "from bs4 import BeautifulSoup\n",
    "import urllib.request\n",
    "from selenium.webdriver.common.keys import  Keys\n",
    "from selenium import  webdriver\n",
    "import time"
   ]
  },
  {
   "cell_type": "code",
   "execution_count": 6,
   "id": "f10a55aa",
   "metadata": {},
   "outputs": [],
   "source": [
    "def T1() :\n",
    "    binary = 'c:\\\\chromedriver\\\\chromedriver.exe'\n",
    "    browser = webdriver.Chrome(binary)    \n",
    "    \n",
    "    browser.get(\"https://www.instagram.com/\")\n",
    "    browser.find_element\n",
    "    ID = \"busijay9971@naver.com\"\n",
    "    PW = \"sodlfmadmsandjt9971\"\n",
    "    \n"
   ]
  },
  {
   "cell_type": "code",
   "execution_count": 14,
   "id": "37f0155e",
   "metadata": {},
   "outputs": [],
   "source": [
    "T1()"
   ]
  },
  {
   "cell_type": "code",
   "execution_count": null,
   "id": "9668ffbb",
   "metadata": {},
   "outputs": [],
   "source": [
    "# from selenium.webdriver.common.action_chains import ActionChains\n",
    "# 이건머지"
   ]
  }
 ],
 "metadata": {
  "kernelspec": {
   "display_name": "Python 3",
   "language": "python",
   "name": "python3"
  },
  "language_info": {
   "codemirror_mode": {
    "name": "ipython",
    "version": 3
   },
   "file_extension": ".py",
   "mimetype": "text/x-python",
   "name": "python",
   "nbconvert_exporter": "python",
   "pygments_lexer": "ipython3",
   "version": "3.8.8"
  }
 },
 "nbformat": 4,
 "nbformat_minor": 5
}

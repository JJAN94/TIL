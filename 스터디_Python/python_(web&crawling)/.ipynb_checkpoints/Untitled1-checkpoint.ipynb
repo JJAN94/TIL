{
 "cells": [
  {
   "cell_type": "code",
   "execution_count": 23,
   "id": "f78b51db",
   "metadata": {
    "scrolled": false
   },
   "outputs": [
    {
     "data": {
      "text/html": [
       "<!DOCTYPE html>\n",
       "<html>\n",
       "<head>\n",
       "    <meta charset=\"UTF-8\">\n",
       "    <meta http-equiv=\"X-UA-Compatible\" content=\"IE=edge\">\n",
       "    <meta name=\"viewport\" content=\"width=device-width, initial-scale=1.0, maximum-scale=1.0, minimum-scale=1.0, user-scalable=no\">\n",
       "    <title>간단한 지도 표시하기</title>\n",
       "    <script type=\"text/javascript\" src=\"https://openapi.map.naver.com/openapi/v3/maps.js?ncpClientId=c84ldg6zyl\"></script>\n",
       "</head>\n",
       "<body>\n",
       "<div id=\"map\" style=\"width:100%;height:400px;\"></div>\n",
       "\n",
       "<script>\n",
       "var mapOptions = {\n",
       "    center: new naver.maps.LatLng(37.545112, 127.076617),\n",
       "    zoom: 15\n",
       "};\n",
       "\n",
       "var map = new naver.maps.Map('map', mapOptions);\n",
       "\n",
       "\n",
       "</script>\n",
       "\n",
       "\n",
       "</body>\n",
       "</html>\n"
      ],
      "text/plain": [
       "<IPython.core.display.HTML object>"
      ]
     },
     "metadata": {},
     "output_type": "display_data"
    }
   ],
   "source": [
    "%%html\n",
    "<!DOCTYPE html>\n",
    "<html>\n",
    "<head>\n",
    "    <meta charset=\"UTF-8\">\n",
    "    <meta http-equiv=\"X-UA-Compatible\" content=\"IE=edge\">\n",
    "    <meta name=\"viewport\" content=\"width=device-width, initial-scale=1.0, maximum-scale=1.0, minimum-scale=1.0, user-scalable=no\">\n",
    "    <title>간단한 지도 표시하기</title>\n",
    "    <script type=\"text/javascript\" src=\"https://openapi.map.naver.com/openapi/v3/maps.js?ncpClientId=Your ID\"></script>\n",
    "</head>\n",
    "<body>\n",
    "<div id=\"map\" style=\"width:100%;height:400px;\"></div>\n",
    "\n",
    "<script>\n",
    "var mapOptions = {\n",
    "    center: new naver.maps.LatLng(37.545112, 127.076617),\n",
    "    zoom: 15\n",
    "};\n",
    "\n",
    "var map = new naver.maps.Map('map', mapOptions);\n",
    "\n",
    "\n",
    "</script>\n",
    "\n",
    "\n",
    "</body>\n",
    "</html>"
   ]
  },
  {
   "cell_type": "code",
   "execution_count": null,
   "id": "a892d9c8",
   "metadata": {},
   "outputs": [],
   "source": [
    "var mapOptions = {\n",
    "    center: new naver.maps.LatLng(37.545112, 127.076617),\n",
    "    zoom: 15\n",
    "};\n",
    "\n",
    "\n",
    "var map = new naver.maps.Map('map', mapOptions);"
   ]
  },
  {
   "cell_type": "code",
   "execution_count": 18,
   "id": "2e360fc8",
   "metadata": {},
   "outputs": [
    {
     "data": {
      "text/html": [
       "var my_location = new naver.maps.LatLng(37.545112, 127.076617);\n",
       "var map = new naver.maps.Map('map', {\n",
       "    center: my_location,\n",
       "    zoom: 10\n",
       "});\n",
       "var circle = new naver.maps.Circle({\n",
       "    map: map,\n",
       "    center: my_location,\n",
       "    radius: 500,\n",
       "\n",
       "    strokeColor: '#5347AA',\n",
       "    strokeOpacity: 0.5,\n",
       "    strokeWeight: 2,\n",
       "    fillColor: '#E51D1A',\n",
       "    fillOpacity: 0.3\n",
       "});\n"
      ],
      "text/plain": [
       "<IPython.core.display.HTML object>"
      ]
     },
     "metadata": {},
     "output_type": "display_data"
    }
   ],
   "source": [
    "%%html\n",
    "var my_location = new naver.maps.LatLng(37.545112, 127.076617);\n",
    "var map = new naver.maps.Map('map', {\n",
    "    center: my_location,\n",
    "    zoom: 10\n",
    "});\n",
    "var circle = new naver.maps.Circle({\n",
    "    map: map,\n",
    "    center: my_location,\n",
    "    radius: 500,\n",
    "\n",
    "    strokeColor: '#5347AA',\n",
    "    strokeOpacity: 0.5,\n",
    "    strokeWeight: 2,\n",
    "    fillColor: '#E51D1A',\n",
    "    fillOpacity: 0.3\n",
    "});"
   ]
  },
  {
   "cell_type": "code",
   "execution_count": null,
   "id": "66248ede",
   "metadata": {},
   "outputs": [],
   "source": []
  }
 ],
 "metadata": {
  "kernelspec": {
   "display_name": "Python 3",
   "language": "python",
   "name": "python3"
  },
  "language_info": {
   "codemirror_mode": {
    "name": "ipython",
    "version": 3
   },
   "file_extension": ".py",
   "mimetype": "text/x-python",
   "name": "python",
   "nbconvert_exporter": "python",
   "pygments_lexer": "ipython3",
   "version": "3.8.8"
  }
 },
 "nbformat": 4,
 "nbformat_minor": 5
}

{
 "cells": [
  {
   "cell_type": "code",
   "execution_count": 5,
   "metadata": {},
   "outputs": [],
   "source": [
    "from bs4 import BeautifulSoup\n",
    "import urllib.request"
   ]
  },
  {
   "cell_type": "code",
   "execution_count": 2,
   "metadata": {},
   "outputs": [],
   "source": [
    "# 1. EBS 레이디 버그 시청자 게시판을 가지고 직접 크롤링 해보자.\n",
    "\n",
    "def T1():\n",
    "    list_url = 'https://home.ebs.co.kr/ladybug/board/6/10059819/oneBoardList?hmpMnuId=106'\n",
    "    url = urllib.request.Request(list_url)\n",
    "\n",
    "    result = urllib.request.urlopen(url).read().decode('utf-8')\n",
    "    # print(result)\n",
    "\n",
    "    soup = BeautifulSoup(result, 'html.parser')\n",
    "    result02 = soup.find_all('p', class_ = 'con')\n",
    "    params = []\n",
    "    \n",
    "    # get_text(strip=True) : \\n 줄바꿈 없이 출력\n",
    "    # get_text(\" \", strip=True) : 줄바꿈 없이 \" \"를 구분자로 출력하겠다.\n",
    "    for i in result02:\n",
    "        params.append(i.get_text(\" \",strip=True))\n",
    "    print(params)\n",
    "\n",
    "def T2() :\n",
    "    list_url = 'https://home.ebs.co.kr/ladybug/board/6/10059819/oneBoardList?hmpMnuId=106'\n",
    "    url = urllib.request.Request(list_url)\n",
    "\n",
    "    result = urllib.request.urlopen(url).read().decode('utf-8')\n",
    "\n",
    "    soup = BeautifulSoup(result, 'html.parser')\n",
    "    result02 = soup.find_all('p', class_ = 'con')\n",
    "    result03 = soup.find_all('span', class_ = 'date')\n",
    "    params1 = []\n",
    "    params2 = []\n",
    "    for i in result03 :\n",
    "        params1.append(i.get_text(\" \", strip=True))\n",
    "\n",
    "    for j in result02 :\n",
    "        params2.append(j.get_text(\" \", strip=True))\n",
    "\n",
    "    for k, h in zip(params1, params2) :\n",
    "        print(k + ' ' + h)\n"
   ]
  },
  {
   "cell_type": "code",
   "execution_count": 3,
   "metadata": {},
   "outputs": [
    {
     "name": "stdout",
     "output_type": "stream",
     "text": [
      "['와 진짜 만화 안보는데 이건 너무 좋아요~!!!\\r\\n어제 꿈에 나옴ㅋㅋㅋㅋㅋ', '레이디버그 찐 팬이에요 \\r\\n꿈에도 나왔어요', '최고의 히어로 만화에요.', '재미있 다', '어제 흐름상 종영 같지 않았는데 갑자기 끝이네요??', '〈미라큘러스: 레이디버그와 블랙캣〉종영 안내!\\r\\n\\r\\n\\r\\n\\r\\n〈미라큘러스: 레이디버그와 블랙캣〉-시즌3가 \\r\\n\\r\\n방송 종료되었습니다, 그동안 시청해주셔서 감사드립니다!\\r\\n\\r\\n2021년 새로운 시즌으로 여러분을 찾아뵙도록 노력하겠습니다!\\r\\n\\r\\n고맙습니다~', '아이들 때문에 보게 되었는데 어른인 제가 더 좋아하는 프로그램이 되었네요 아이들이랑 볼 때 너무 신나요 함께 볼 수 있는 보기 드문 애니매이션이라 더 좋네요 시즌 4도 너무 너무 기대되고 기다리고 있습니다', '2021년이 빨리되서 레이디버그 시즌4를 보면 좋겠네요~', '레이디버그... 제가 어렸을때도 너~~무 좋아 하던 방송 이에요!!!!!!!', '이렇게 재미있는프로는 이 세상에 하나뿐이예요 아 그리고 뉴욕편은 언제 올려주시나요?', '너모 재밌어요!!! 저 시즌 1부터 다 본방으로 챙겨본 미라큘러 입니다ㅋㅋㅋ 진짜  재밌구요 팬카페랑 이런데도 다 가입해있어요... 방도 레이디버그 사진으로 덕-질☆', '완전 재밌다', '근뎅.....오즈 긑나서....레이디버그가 하는거잖아여....ㅠ', '우왕!', '넘재밌어요.매일하면 좋겠어요', '재밌어요 완전 꿀잼이요 사랑합니다', 'ㅎㅎ', '진짜여???', '보니하니,레이디버그,형사 가제트,오즈,삐삐에 있었어요!', '오늘부터 미라큘러스 시즌3 다시 방영한다네요!^^\\r\\n목,금 저녁 7시']\n"
     ]
    }
   ],
   "source": [
    "T1()"
   ]
  },
  {
   "cell_type": "code",
   "execution_count": 4,
   "metadata": {},
   "outputs": [
    {
     "name": "stdout",
     "output_type": "stream",
     "text": [
      "2021.02.19 16:07 와 진짜 만화 안보는데 이건 너무 좋아요~!!!\n",
      "어제 꿈에 나옴ㅋㅋㅋㅋㅋ\n",
      "2021.01.21 11:19 레이디버그 찐 팬이에요 \n",
      "꿈에도 나왔어요\n",
      "2020.12.18 22:33 최고의 히어로 만화에요.\n",
      "2020.12.11 19:52 재미있 다\n",
      "2020.12.11 19:06 어제 흐름상 종영 같지 않았는데 갑자기 끝이네요??\n",
      "2020.12.11 01:35 〈미라큘러스: 레이디버그와 블랙캣〉종영 안내!\n",
      "\n",
      "\n",
      "\n",
      "〈미라큘러스: 레이디버그와 블랙캣〉-시즌3가 \n",
      "\n",
      "방송 종료되었습니다, 그동안 시청해주셔서 감사드립니다!\n",
      "\n",
      "2021년 새로운 시즌으로 여러분을 찾아뵙도록 노력하겠습니다!\n",
      "\n",
      "고맙습니다~\n",
      "2020.12.10 12:43 아이들 때문에 보게 되었는데 어른인 제가 더 좋아하는 프로그램이 되었네요 아이들이랑 볼 때 너무 신나요 함께 볼 수 있는 보기 드문 애니매이션이라 더 좋네요 시즌 4도 너무 너무 기대되고 기다리고 있습니다\n",
      "2020.10.17 15:30 2021년이 빨리되서 레이디버그 시즌4를 보면 좋겠네요~\n",
      "2020.10.16 12:25 레이디버그... 제가 어렸을때도 너~~무 좋아 하던 방송 이에요!!!!!!!\n",
      "2020.10.15 21:04 이렇게 재미있는프로는 이 세상에 하나뿐이예요 아 그리고 뉴욕편은 언제 올려주시나요?\n",
      "2020.09.29 14:46 너모 재밌어요!!! 저 시즌 1부터 다 본방으로 챙겨본 미라큘러 입니다ㅋㅋㅋ 진짜  재밌구요 팬카페랑 이런데도 다 가입해있어요... 방도 레이디버그 사진으로 덕-질☆\n",
      "2020.09.29 11:30 완전 재밌다\n",
      "2020.09.21 08:17 근뎅.....오즈 긑나서....레이디버그가 하는거잖아여....ㅠ\n",
      "2020.09.21 08:16 우왕!\n",
      "2020.09.20 09:07 넘재밌어요.매일하면 좋겠어요\n",
      "2020.09.19 22:52 재밌어요 완전 꿀잼이요 사랑합니다\n",
      "2020.09.16 12:34 ㅎㅎ\n",
      "2020.09.14 10:26 진짜여???\n",
      "2020.09.11 09:45 보니하니,레이디버그,형사 가제트,오즈,삐삐에 있었어요!\n",
      "2020.09.11 09:42 오늘부터 미라큘러스 시즌3 다시 방영한다네요!^^\n",
      "목,금 저녁 7시\n"
     ]
    }
   ],
   "source": [
    "T2()"
   ]
  },
  {
   "cell_type": "code",
   "execution_count": null,
   "metadata": {},
   "outputs": [],
   "source": []
  }
 ],
 "metadata": {
  "kernelspec": {
   "display_name": "Python 3",
   "language": "python",
   "name": "python3"
  },
  "language_info": {
   "codemirror_mode": {
    "name": "ipython",
    "version": 3
   },
   "file_extension": ".py",
   "mimetype": "text/x-python",
   "name": "python",
   "nbconvert_exporter": "python",
   "pygments_lexer": "ipython3",
   "version": "3.8.3"
  }
 },
 "nbformat": 4,
 "nbformat_minor": 5
}

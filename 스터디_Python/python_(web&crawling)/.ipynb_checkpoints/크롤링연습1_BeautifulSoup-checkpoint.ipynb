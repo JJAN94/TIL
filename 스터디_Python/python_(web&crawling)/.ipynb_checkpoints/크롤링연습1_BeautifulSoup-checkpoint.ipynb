{
 "cells": [
  {
   "cell_type": "markdown",
   "id": "b52c74fd",
   "metadata": {},
   "source": [
    "# beautiful soup 모듈\n",
    "- 파이썬의 코드를 복잡하게 작성하지 않아도 편하게 웹 크롤링을 할 수 있도록 여러 함수들을 제공하는 모듈"
   ]
  },
  {
   "cell_type": "code",
   "execution_count": 2,
   "id": "cd8a915e",
   "metadata": {},
   "outputs": [],
   "source": [
    "from bs4 import BeautifulSoup"
   ]
  },
  {
   "cell_type": "markdown",
   "id": "5ebf89c9",
   "metadata": {},
   "source": [
    "- eco.html을 이용해서 실습을 해보자."
   ]
  },
  {
   "cell_type": "code",
   "execution_count": 24,
   "id": "58061994",
   "metadata": {},
   "outputs": [],
   "source": [
    "def T1() :\n",
    "    f = open('eco.html')\n",
    "    soup = BeautifulSoup(f, 'html.parser')\n",
    "    print(soup,'\\n\\n',type(soup))\n",
    "\n",
    "def T2() :\n",
    "    # 문서를 파싱해서 class 이름 name에 접근해서 데이터를 긁어 오자.\n",
    "    f = open('eco.html')\n",
    "    soup = BeautifulSoup(f, 'html.parser')\n",
    "    result = soup.find_all(class_='name')\n",
    "    print(result)\n",
    "    \n",
    "def T3() :\n",
    "    # 문서를 파싱해서 class 이름이 name에 접근해 데이터를 긁어 오자.\n",
    "    # 단, text만 긁자.\n",
    "    f = open('eco.html')\n",
    "    soup = BeautifulSoup(f, 'html.parser')\n",
    "    result = soup.find_all(class_='name')\n",
    "    for i in result : # 리스트 객체 안에 요소의 텍스트를 리턴받는다. => get_text()\n",
    "        print(i.get_text())\n",
    "        \n",
    "def T4() :\n",
    "    # 문서를 파싱해서 class 이름 number에 접근해서 데이터를 긁어 오자. 단 숫자만~\n",
    "    f = open('eco.html')\n",
    "    soup = BeautifulSoup(f, 'html.parser')\n",
    "    result = soup.find_all(class_ ='number')\n",
    "    for i in result :\n",
    "        print(i.get_text(), type(i.get_text()))\n",
    "    \n",
    "def T5() :\n",
    "    # T4에서 긁어온 숫자를 a라고 하는 리스트 객체에 저장한 후 a안의 요소들을 정렬하고 출력\n",
    "    a = []\n",
    "    f = open('eco.html')\n",
    "    soup = BeautifulSoup(f, 'html.parser')\n",
    "    result = soup.find_all(class_='number')\n",
    "    for i in result :\n",
    "        a.append(int(i.get_text()))\n",
    "    a.sort()\n",
    "    print(a)"
   ]
  },
  {
   "cell_type": "code",
   "execution_count": 10,
   "id": "af67c25a",
   "metadata": {
    "scrolled": true
   },
   "outputs": [
    {
     "name": "stdout",
     "output_type": "stream",
     "text": [
      "<html>\n",
      "<body>\n",
      "<div class=\"ecopyramid\">\n",
      "<ul id=\"producers\">\n",
      "<li class=\"producerlist\">\n",
      "<div class=\"name\">plants</div>\n",
      "<div class=\"number\">100000</div>\n",
      "</li>\n",
      "<li class=\"producerlist\">\n",
      "<div class=\"name\">algae</div>\n",
      "<div class=\"number\">100000</div>\n",
      "</li>\n",
      "</ul>\n",
      "<ul id=\"primaryconsumers\">\n",
      "<li class=\"primaryconsumerlist\">\n",
      "<div class=\"name\">deer</div>\n",
      "<div class=\"number\">1000</div>\n",
      "</li>\n",
      "<li class=\"primaryconsumerlist\">\n",
      "<div class=\"name\">rabbit</div>\n",
      "<div class=\"number\">2000</div>\n",
      "</li>\n",
      "</ul>\n",
      "<ul id=\"secondaryconsumers\">\n",
      "<li class=\"secondaryconsumerlist\">\n",
      "<div class=\"name\">fox</div>\n",
      "<div class=\"number\">100</div>\n",
      "</li>\n",
      "<li class=\"secondaryconsumerlist\">\n",
      "<div class=\"name\">bear</div>\n",
      "<div class=\"number\">100</div>\n",
      "</li>\n",
      "</ul>\n",
      "<ul id=\"tertiaryconsumers\">\n",
      "<li class=\"tertiaryconsumerlist\">\n",
      "<div class=\"name\">lion</div>\n",
      "<div class=\"number\">80</div>\n",
      "</li>\n",
      "<li class=\"tertiaryconsumerlist\">\n",
      "<div class=\"name\">tiger</div>\n",
      "<div class=\"number\">50</div>\n",
      "</li>\n",
      "</ul>\n",
      "</div></body>\n",
      "</html> \n",
      "\n",
      " <class 'bs4.BeautifulSoup'>\n"
     ]
    }
   ],
   "source": [
    "T1()"
   ]
  },
  {
   "cell_type": "code",
   "execution_count": 11,
   "id": "67bb1ec8",
   "metadata": {},
   "outputs": [
    {
     "name": "stdout",
     "output_type": "stream",
     "text": [
      "[<div class=\"name\">plants</div>, <div class=\"name\">algae</div>, <div class=\"name\">deer</div>, <div class=\"name\">rabbit</div>, <div class=\"name\">fox</div>, <div class=\"name\">bear</div>, <div class=\"name\">lion</div>, <div class=\"name\">tiger</div>]\n"
     ]
    }
   ],
   "source": [
    "T2()"
   ]
  },
  {
   "cell_type": "code",
   "execution_count": 12,
   "id": "2a4a5533",
   "metadata": {},
   "outputs": [
    {
     "name": "stdout",
     "output_type": "stream",
     "text": [
      "plants\n",
      "algae\n",
      "deer\n",
      "rabbit\n",
      "fox\n",
      "bear\n",
      "lion\n",
      "tiger\n"
     ]
    }
   ],
   "source": [
    "T3()"
   ]
  },
  {
   "cell_type": "code",
   "execution_count": 21,
   "id": "1c7521ea",
   "metadata": {},
   "outputs": [
    {
     "name": "stdout",
     "output_type": "stream",
     "text": [
      "100000 <class 'str'>\n",
      "100000 <class 'str'>\n",
      "1000 <class 'str'>\n",
      "2000 <class 'str'>\n",
      "100 <class 'str'>\n",
      "100 <class 'str'>\n",
      "80 <class 'str'>\n",
      "50 <class 'str'>\n"
     ]
    }
   ],
   "source": [
    "T4()"
   ]
  },
  {
   "cell_type": "code",
   "execution_count": 25,
   "id": "944074cf",
   "metadata": {},
   "outputs": [
    {
     "name": "stdout",
     "output_type": "stream",
     "text": [
      "[50, 80, 100, 100, 1000, 2000, 100000, 100000]\n"
     ]
    }
   ],
   "source": [
    "T5()"
   ]
  },
  {
   "cell_type": "code",
   "execution_count": null,
   "id": "e4755dae",
   "metadata": {},
   "outputs": [],
   "source": []
  },
  {
   "cell_type": "code",
   "execution_count": null,
   "id": "1e596e43",
   "metadata": {},
   "outputs": [],
   "source": [
    "# "
   ]
  }
 ],
 "metadata": {
  "kernelspec": {
   "display_name": "Python 3",
   "language": "python",
   "name": "python3"
  },
  "language_info": {
   "codemirror_mode": {
    "name": "ipython",
    "version": 3
   },
   "file_extension": ".py",
   "mimetype": "text/x-python",
   "name": "python",
   "nbconvert_exporter": "python",
   "pygments_lexer": "ipython3",
   "version": "3.8.8"
  }
 },
 "nbformat": 4,
 "nbformat_minor": 5
}

{
 "cells": [
  {
   "cell_type": "code",
   "execution_count": 1,
   "id": "62b3b72f-0920-43ce-b7f2-6f97c9a8615b",
   "metadata": {},
   "outputs": [],
   "source": [
    "import urllib.request\n",
    "from selenium.webdriver.common.keys import Keys\n",
    "from selenium import webdriver\n",
    "import time\n",
    "from datetime import datetime as dt\n",
    "import os"
   ]
  },
  {
   "cell_type": "code",
   "execution_count": 5,
   "id": "3399b839-4f5a-4b35-a1cf-de856edc1724",
   "metadata": {},
   "outputs": [],
   "source": [
    "class Instar :\n",
    "                \n",
    "    @staticmethod\n",
    "    def get_url(word) : # 검색어(=word)를 입력받는다.\n",
    "        binary = 'C:\\\\chromedriver\\\\chromedriver.exe'\n",
    "        global browser\n",
    "        browser = webdriver.Chrome(binary)    \n",
    "       \n",
    "        # 인스타그램 창 띄우기\n",
    "        browser.get(\"https://www.instagram.com/\") #인스타그램 \n",
    "        time.sleep(1)\n",
    "        ID =  ''# 계정 아이디 입력\n",
    "        PW = '' # 계정 비밀번호 입력\n",
    "\n",
    "        # 로그인하기\n",
    "        input_id = browser.find_element_by_xpath('//*[@id=\"loginForm\"]/div/div[1]/div/label/input')\n",
    "        input_id.send_keys(ID)\n",
    "        time.sleep(2)\n",
    "        input_pw = browser.find_element_by_xpath('//*[@id=\"loginForm\"]/div/div[2]/div/label/input')\n",
    "        input_pw.send_keys(PW)\n",
    "        browser.find_element_by_xpath('//*[@id=\"loginForm\"]/div/div[3]/button/div').click()\n",
    "        time.sleep(5)\n",
    "\n",
    "        # 검색어 입력하기\n",
    "        input_word = browser.find_element_by_xpath('//*[@id=\"react-root\"]/section/nav/div[2]/div/div/div[2]/div[1]')\n",
    "        input_word.click()\n",
    "        time.sleep(1)\n",
    "        tt = browser.find_element_by_xpath('//*[@id=\"react-root\"]/section/nav/div[2]/div/div/div[2]/input')\n",
    "        tt.send_keys(word) # 검색어 넣기\n",
    "        time.sleep(2)\n",
    "        browser.find_element_by_xpath('//*[@id=\"react-root\"]/section/nav/div[2]/div/div/div[2]/div[3]/div/div[2]/div/div[1]/a/div').click()\n",
    "        time.sleep(10)\n",
    "\n",
    "\n",
    "#         browser.execute_script(\"window.scrollTo(0, document.body.scrollHeight);\")\n",
    "#         browser.execute_script(\"window.scrollTo(0, document.body.scrollHeight);\")\n",
    "        \n",
    "        f_img_ls = set()\n",
    "        for i in range(300):\n",
    "            browser.execute_script(\"window.scrollTo(0, document.body.scrollHeight);\") \n",
    "            time.sleep(2.5)\n",
    "            source0 = browser.find_elements_by_xpath('//*[@id=\"react-root\"]/section/main/article/div[2]/div/div/div/a/div/div[1]/img')\n",
    "            \n",
    "            img_ls = set([ele.get_attribute('src') for ele in source0])\n",
    "            \n",
    "            img_ls = img_ls-f_img_ls\n",
    "            \n",
    "            f_img_ls.update(set(img_ls))\n",
    "            \n",
    "            print(i+1, end='\\t')\n",
    "        f_img_ls = list(f_img_ls)\n",
    "        return f_img_ls\n",
    "\n",
    "    \n",
    "    @staticmethod\n",
    "    def get_img(word) :\n",
    "        \n",
    "        # 수집일 기준, 검색어폴더명으로 만들어주자\n",
    "        today_time = dt.now()\n",
    "        today = '{}{}{}'.format(today_time.year, today_time.month, today_time.day)\n",
    "        if os.path.exists('C:\\insta_image\\{}_{}'.format(word, today)) :\n",
    "            path = 'C:\\insta_image\\{}_{}'.format(word, today)\n",
    "        else : \n",
    "            os.mkdir('C:\\insta_image\\{}_{}'.format(word, today))\n",
    "            path = 'C:\\insta_image\\{}_{}'.format(word, today)\n",
    "        \n",
    "        ins = Instar.get_url(word)\n",
    "        print(len(ins))\n",
    "\n",
    "        time.sleep(1)\n",
    "        for idx, images in enumerate(ins) :\n",
    "            with urllib.request.urlopen(images) as f:\n",
    "#                 time.sleep(1)\n",
    "                with open('{}\\{}_image{}.png'.format(path, word, idx), 'wb') as h :\n",
    "#                     time.sleep(1)\n",
    "                    img = f.read()\n",
    "                    h.write(img)\n",
    "\n",
    "        browser.close()\n"
   ]
  },
  {
   "cell_type": "code",
   "execution_count": 6,
   "id": "408be3f1-6238-4a89-ad18-c065b667a7c9",
   "metadata": {},
   "outputs": [
    {
     "name": "stdout",
     "output_type": "stream",
     "text": [
      "1\t2\t3\t4\t5\t6\t7\t8\t9\t10\t11\t12\t13\t14\t15\t16\t17\t18\t19\t20\t21\t22\t23\t24\t25\t26\t27\t28\t29\t30\t31\t32\t33\t34\t35\t36\t37\t38\t39\t40\t41\t42\t43\t44\t45\t46\t47\t48\t49\t50\t51\t52\t53\t54\t55\t56\t57\t58\t59\t60\t61\t62\t63\t64\t65\t66\t67\t68\t69\t70\t71\t72\t73\t74\t75\t76\t77\t78\t79\t80\t81\t82\t83\t84\t85\t86\t87\t88\t89\t90\t91\t92\t93\t94\t95\t96\t97\t98\t99\t100\t101\t102\t103\t104\t105\t106\t107\t108\t109\t110\t111\t112\t113\t114\t115\t116\t117\t118\t119\t120\t121\t122\t123\t124\t125\t126\t127\t128\t129\t130\t131\t132\t133\t134\t135\t136\t137\t138\t139\t140\t141\t142\t143\t144\t145\t146\t147\t148\t149\t150\t151\t152\t153\t154\t155\t156\t157\t158\t159\t160\t161\t162\t163\t164\t165\t166\t167\t168\t169\t170\t171\t172\t173\t174\t175\t176\t177\t178\t179\t180\t181\t182\t183\t184\t185\t186\t187\t188\t189\t190\t191\t192\t193\t194\t195\t196\t197\t198\t199\t200\t201\t202\t203\t204\t205\t206\t207\t208\t209\t210\t211\t212\t213\t214\t215\t216\t217\t218\t219\t220\t221\t222\t223\t224\t225\t226\t227\t228\t229\t230\t231\t232\t233\t234\t235\t236\t237\t238\t239\t240\t241\t242\t243\t244\t245\t246\t247\t248\t249\t250\t251\t252\t253\t254\t255\t256\t257\t258\t259\t260\t261\t262\t263\t264\t265\t266\t267\t268\t269\t270\t271\t272\t273\t274\t275\t276\t277\t278\t279\t280\t281\t282\t283\t284\t285\t286\t287\t288\t289\t290\t291\t292\t293\t294\t295\t296\t297\t298\t299\t300\t720\n"
     ]
    }
   ],
   "source": [
    "if __name__ == '__main__' :\n",
    "    Instar.get_img('남자코디')"
   ]
  },
  {
   "cell_type": "code",
   "execution_count": 9,
   "id": "5ec80aa3-3c51-405c-bb5a-96f9308d21ab",
   "metadata": {},
   "outputs": [],
   "source": [
    "# Instar.get_url('여름옷')"
   ]
  },
  {
   "cell_type": "code",
   "execution_count": 35,
   "id": "13a0e330-bdb6-4e44-b498-690f09cda1d1",
   "metadata": {},
   "outputs": [],
   "source": [
    "# Instar.get_url('남자패션')"
   ]
  },
  {
   "cell_type": "code",
   "execution_count": null,
   "id": "e95923ea-a3f2-4885-8100-f2fa516678e1",
   "metadata": {},
   "outputs": [],
   "source": []
  }
 ],
 "metadata": {
  "kernelspec": {
   "display_name": "Python 3",
   "language": "python",
   "name": "python3"
  },
  "language_info": {
   "codemirror_mode": {
    "name": "ipython",
    "version": 3
   },
   "file_extension": ".py",
   "mimetype": "text/x-python",
   "name": "python",
   "nbconvert_exporter": "python",
   "pygments_lexer": "ipython3",
   "version": "3.8.8"
  }
 },
 "nbformat": 4,
 "nbformat_minor": 5
}

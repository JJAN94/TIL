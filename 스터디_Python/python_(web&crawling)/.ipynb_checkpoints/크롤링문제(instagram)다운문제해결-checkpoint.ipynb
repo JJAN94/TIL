{
 "cells": [
  {
   "cell_type": "code",
   "execution_count": 1,
   "id": "62b3b72f-0920-43ce-b7f2-6f97c9a8615b",
   "metadata": {},
   "outputs": [],
   "source": [
    "import urllib.request\n",
    "from selenium.webdriver.common.keys import Keys\n",
    "from selenium import webdriver\n",
    "import time\n",
    "from datetime import datetime as dt\n",
    "import os"
   ]
  },
  {
   "cell_type": "code",
   "execution_count": 6,
   "id": "3399b839-4f5a-4b35-a1cf-de856edc1724",
   "metadata": {},
   "outputs": [],
   "source": [
    "class Instar :\n",
    "                \n",
    "    @staticmethod\n",
    "    def get_url(word) : # 검색어(=word)를 입력받는다.\n",
    "        binary = 'C:\\\\chromedriver\\\\chromedriver.exe'\n",
    "        global browser\n",
    "        browser = webdriver.Chrome(binary)    \n",
    "       \n",
    "        # 인스타그램 창 띄우기\n",
    "        browser.get(\"https://www.instagram.com/\") #인스타그램 \n",
    "        time.sleep(1)\n",
    "        ID =  ''# 계정 아이디 입력\n",
    "        PW = '' # 계정 비밀번호 입력\n",
    "\n",
    "        # 로그인하기\n",
    "        input_id = browser.find_element_by_xpath('//*[@id=\"loginForm\"]/div/div[1]/div/label/input')\n",
    "        input_id.send_keys(ID)\n",
    "        time.sleep(2)\n",
    "        input_pw = browser.find_element_by_xpath('//*[@id=\"loginForm\"]/div/div[2]/div/label/input')\n",
    "        input_pw.send_keys(PW)\n",
    "        browser.find_element_by_xpath('//*[@id=\"loginForm\"]/div/div[3]/button/div').click()\n",
    "        time.sleep(5)\n",
    "\n",
    "        # 검색어 입력하기\n",
    "        input_word = browser.find_element_by_xpath('//*[@id=\"react-root\"]/section/nav/div[2]/div/div/div[2]/div[1]')\n",
    "        input_word.click()\n",
    "        time.sleep(1)\n",
    "        tt = browser.find_element_by_xpath('//*[@id=\"react-root\"]/section/nav/div[2]/div/div/div[2]/input')\n",
    "        tt.send_keys(word) # 검색어 넣기\n",
    "        time.sleep(2)\n",
    "        browser.find_element_by_xpath('//*[@id=\"react-root\"]/section/nav/div[2]/div/div/div[2]/div[3]/div/div[2]/div/div[1]/a/div').click()\n",
    "        time.sleep(10)\n",
    "\n",
    "\n",
    "#         browser.execute_script(\"window.scrollTo(0, document.body.scrollHeight);\")\n",
    "#         browser.execute_script(\"window.scrollTo(0, document.body.scrollHeight);\")\n",
    "        \n",
    "        f_img_ls = set()\n",
    "        for i in range(100):\n",
    "            browser.execute_script(\"window.scrollTo(0, document.body.scrollHeight);\") \n",
    "            time.sleep(2)\n",
    "            source0 = browser.find_elements_by_xpath('//*[@id=\"react-root\"]/section/main/article/div[2]/div/div/div/a/div/div[1]/img')\n",
    "            \n",
    "            img_ls = set([ele.get_attribute('src') for ele in source0])\n",
    "            \n",
    "            img_ls = img_ls-f_img_ls\n",
    "            \n",
    "            f_img_ls.update(set(img_ls))\n",
    "            \n",
    "            print(i+1, end='\\t')\n",
    "        f_img_ls = list(f_img_ls)\n",
    "        return f_img_ls\n",
    "\n",
    "    \n",
    "    @staticmethod\n",
    "    def get_img(word) :\n",
    "        \n",
    "        # 수집일 기준, 검색어폴더명으로 만들어주자\n",
    "        today_time = dt.now()\n",
    "        today = '{}{}{}'.format(today_time.year, today_time.month, today_time.day)\n",
    "        if os.path.exists('C:\\insta_image\\{}_{}'.format(word, today)) :\n",
    "            path = 'C:\\insta_image\\{}_{}'.format(word, today)\n",
    "        else : \n",
    "            os.mkdir('C:\\insta_image\\{}_{}'.format(word, today))\n",
    "            path = 'C:\\insta_image\\{}_{}'.format(word, today)\n",
    "        \n",
    "        ins = Instar.get_url(word)\n",
    "        print(len(ins))\n",
    "\n",
    "        time.sleep(1)\n",
    "        for idx, images in enumerate(ins) :\n",
    "            with urllib.request.urlopen(images) as f:\n",
    "#                 time.sleep(1)\n",
    "                with open('{}\\{}_image{}.png'.format(path, word, idx), 'wb') as h :\n",
    "#                     time.sleep(1)\n",
    "                    img = f.read()\n",
    "                    h.write(img)\n",
    "\n",
    "        browser.close()\n"
   ]
  },
  {
   "cell_type": "code",
   "execution_count": 9,
   "id": "408be3f1-6238-4a89-ad18-c065b667a7c9",
   "metadata": {},
   "outputs": [
    {
     "name": "stdout",
     "output_type": "stream",
     "text": [
      "1\t2\t3\t4\t5\t6\t7\t8\t9\t10\t11\t12\t13\t14\t15\t16\t17\t18\t19\t20\t21\t22\t23\t24\t25\t26\t27\t28\t29\t30\t31\t32\t33\t34\t35\t36\t37\t38\t39\t40\t41\t42\t43\t44\t45\t46\t47\t48\t49\t50\t51\t52\t53\t54\t55\t56\t57\t58\t59\t60\t61\t62\t63\t64\t65\t66\t67\t68\t69\t70\t71\t72\t73\t74\t75\t76\t77\t78\t79\t80\t81\t82\t83\t84\t85\t86\t87\t88\t89\t90\t91\t92\t93\t94\t95\t96\t97\t98\t99\t100\t0\n"
     ]
    }
   ],
   "source": [
    "if __name__ == '__main__' :\n",
    "    Instar.get_img('남자코디')"
   ]
  },
  {
   "cell_type": "code",
   "execution_count": 9,
   "id": "5ec80aa3-3c51-405c-bb5a-96f9308d21ab",
   "metadata": {},
   "outputs": [],
   "source": [
    "# Instar.get_url('여름옷')"
   ]
  },
  {
   "cell_type": "code",
   "execution_count": 35,
   "id": "13a0e330-bdb6-4e44-b498-690f09cda1d1",
   "metadata": {},
   "outputs": [],
   "source": [
    "# Instar.get_url('남자패션')"
   ]
  },
  {
   "cell_type": "code",
   "execution_count": null,
   "id": "e95923ea-a3f2-4885-8100-f2fa516678e1",
   "metadata": {},
   "outputs": [],
   "source": []
  }
 ],
 "metadata": {
  "kernelspec": {
   "display_name": "Python 3",
   "language": "python",
   "name": "python3"
  },
  "language_info": {
   "codemirror_mode": {
    "name": "ipython",
    "version": 3
   },
   "file_extension": ".py",
   "mimetype": "text/x-python",
   "name": "python",
   "nbconvert_exporter": "python",
   "pygments_lexer": "ipython3",
   "version": "3.8.8"
  }
 },
 "nbformat": 4,
 "nbformat_minor": 5
}

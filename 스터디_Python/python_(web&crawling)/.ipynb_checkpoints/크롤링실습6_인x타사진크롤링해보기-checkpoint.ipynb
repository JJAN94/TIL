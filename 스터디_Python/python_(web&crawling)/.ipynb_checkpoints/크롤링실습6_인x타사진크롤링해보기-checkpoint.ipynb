{
 "cells": [
  {
   "cell_type": "code",
   "execution_count": 1,
   "id": "5393386f",
   "metadata": {},
   "outputs": [],
   "source": [
    "from bs4 import BeautifulSoup\n",
    "import urllib.request\n",
    "from selenium.webdriver.common.keys import  Keys\n",
    "from selenium import  webdriver\n",
    "import time"
   ]
  },
  {
   "cell_type": "code",
   "execution_count": 6,
   "id": "a0fd0e2d",
   "metadata": {},
   "outputs": [],
   "source": [
    "def T1() :\n",
    "    binary = 'c:\\\\chromedriver\\\\chromedriver.exe'\n",
    "    browser = webdriver.Chrome(binary)    \n",
    "    \n",
    "    browser.get(\"https://www.instagram.com/\")\n",
    "    ID = \"busijay9971@naver.com\"\n",
    "    PW = \"sodlfmadmsandjt9971\"\n",
    "    \n"
   ]
  },
  {
   "cell_type": "code",
   "execution_count": 9,
   "id": "543bca1c",
   "metadata": {},
   "outputs": [],
   "source": [
    "T1()"
   ]
  },
  {
   "cell_type": "code",
   "execution_count": null,
   "id": "d1d8691a",
   "metadata": {},
   "outputs": [],
   "source": [
    "# from selenium.webdriver.common.action_chains import ActionChains\n",
    "# 이건머지"
   ]
  }
 ],
 "metadata": {
  "kernelspec": {
   "display_name": "Python 3",
   "language": "python",
   "name": "python3"
  },
  "language_info": {
   "codemirror_mode": {
    "name": "ipython",
    "version": 3
   },
   "file_extension": ".py",
   "mimetype": "text/x-python",
   "name": "python",
   "nbconvert_exporter": "python",
   "pygments_lexer": "ipython3",
   "version": "3.8.8"
  }
 },
 "nbformat": 4,
 "nbformat_minor": 5
}

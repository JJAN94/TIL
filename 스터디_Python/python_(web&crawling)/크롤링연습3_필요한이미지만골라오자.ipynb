{
 "cells": [
  {
   "cell_type": "code",
   "execution_count": 3,
   "id": "da128d1e-f1ec-42a8-ae80-2b89cf3f7fb4",
   "metadata": {},
   "outputs": [],
   "source": [
    "import urllib.request\n",
    "from selenium.webdriver.common.keys import Keys\n",
    "from selenium import webdriver\n",
    "from time import sleep"
   ]
  },
  {
   "cell_type": "code",
   "execution_count": null,
   "id": "8f819d7e-e5ac-457f-a87a-912e155df330",
   "metadata": {},
   "outputs": [],
   "source": [
    "def get_image(input_url) :\n",
    "    \n",
    "    # 이미지를 받자.\n",
    "    url = \"{}\".format(input_url)\n",
    "    binary = 'c:\\\\chromedriver\\\\chromedriver.exe'\n",
    "    browser = webdriver.Chrome(binary)\n",
    "    \n",
    "    browser.get(url)\n",
    "    sleep(1)\n",
    "    \n",
    "    "
   ]
  }
 ],
 "metadata": {
  "kernelspec": {
   "display_name": "Python 3",
   "language": "python",
   "name": "python3"
  },
  "language_info": {
   "codemirror_mode": {
    "name": "ipython",
    "version": 3
   },
   "file_extension": ".py",
   "mimetype": "text/x-python",
   "name": "python",
   "nbconvert_exporter": "python",
   "pygments_lexer": "ipython3",
   "version": "3.8.8"
  }
 },
 "nbformat": 4,
 "nbformat_minor": 5
}

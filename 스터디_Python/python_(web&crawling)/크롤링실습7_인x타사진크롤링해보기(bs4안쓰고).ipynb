{
 "cells": [
  {
   "cell_type": "code",
   "execution_count": 17,
   "id": "7de5df47",
   "metadata": {},
   "outputs": [],
   "source": [
    "from bs4 import BeautifulSoup\n",
    "import urllib.request\n",
    "from selenium.webdriver.common.keys import Keys\n",
    "from selenium import webdriver\n",
    "import time\n",
    "from selenium.webdriver import ActionChains\n",
    "from datetime import datetime as dt\n",
    "import os"
   ]
  },
  {
   "cell_type": "code",
   "execution_count": 20,
   "id": "6571cbc3",
   "metadata": {},
   "outputs": [],
   "source": [
    "class Instar :\n",
    "                \n",
    "    @staticmethod\n",
    "    def get_url(word) : # 검색어(=word)를 입력받는다.\n",
    "        binary = 'c:\\\\chromedriver\\\\chromedriver.exe'\n",
    "        global browser\n",
    "        browser = webdriver.Chrome(binary)    \n",
    "       \n",
    "        # 인스타그램 창 띄우기\n",
    "        browser.get(\"https://www.instagram.com/\") #인스타그램 \n",
    "        time.sleep(1)\n",
    "        ID =  # 계정 아이디 입력\n",
    "        PW =  # 계정 비밀번호 입력\n",
    "\n",
    "        # 로그인하기\n",
    "        input_id = browser.find_element_by_xpath('//*[@id=\"loginForm\"]/div/div[1]/div/label/input')\n",
    "        input_id.send_keys(ID)\n",
    "        time.sleep(2)\n",
    "        input_pw = browser.find_element_by_xpath('//*[@id=\"loginForm\"]/div/div[2]/div/label/input')\n",
    "        input_pw.send_keys(PW)\n",
    "        browser.find_element_by_xpath('//*[@id=\"loginForm\"]/div/div[3]/button/div').click()\n",
    "        time.sleep(4)\n",
    "\n",
    "        # 검색어 입력하기\n",
    "        input_word = browser.find_element_by_xpath('//*[@id=\"react-root\"]/section/nav/div[2]/div/div/div[2]/div[1]')\n",
    "        input_word.click()\n",
    "        time.sleep(1)\n",
    "        tt = browser.find_element_by_xpath('//*[@id=\"react-root\"]/section/nav/div[2]/div/div/div[2]/input')\n",
    "        tt.send_keys(word) # 검색어 넣기\n",
    "        time.sleep(2)\n",
    "        browser.find_element_by_xpath('//*[@id=\"react-root\"]/section/nav/div[2]/div/div/div[2]/div[3]/div/div[2]/div/div[1]/a/div').click()\n",
    "        time.sleep(10)\n",
    "\n",
    "\n",
    "#         browser.execute_script(\"window.scrollTo(0, document.body.scrollHeight);\")\n",
    "#         browser.execute_script(\"window.scrollTo(0, document.body.scrollHeight);\")\n",
    "        for _ in range(200):\n",
    "            browser.execute_script(\"window.scrollTo(0, document.body.scrollHeight);\") \n",
    "            time.sleep(3)\n",
    "        \n",
    "        source0 = browser.find_elements_by_xpath('//*[@id=\"react-root\"]/section/main/article/div[2]/div/div/div/a/div/div[1]/img')\n",
    "\n",
    "        img_ls = [ele.get_attribute('src') for ele in source0]\n",
    "        \n",
    "        return img_ls\n",
    "\n",
    "    \n",
    "    @staticmethod\n",
    "    def get_img(word) :\n",
    "        \n",
    "        # 수집일 기준, 검색어폴더명으로 만들어주자\n",
    "        today_time = dt.now()\n",
    "        today = '{}{}{}'.format(today_time.year, today_time.month, today_time.day)\n",
    "        if os.path.exists('C:\\insta_image\\{}_{}'.format(word, today)) :\n",
    "            path = 'C:\\insta_image\\{}_{}'.format(word, today)\n",
    "        else : \n",
    "            os.mkdir('C:\\insta_image\\{}_{}'.format(word, today))\n",
    "            path = 'C:\\insta_image\\{}_{}'.format(word, today)\n",
    "        \n",
    "        ins = Instar.get_url(word)\n",
    "\n",
    "\n",
    "        time.sleep(1)\n",
    "        for idx, images in enumerate(ins) :\n",
    "            with urllib.request.urlopen(images) as f:\n",
    "                time.sleep(1)\n",
    "                with open('{}\\{}_image{}.png'.format(path, word, idx), 'wb') as h :\n",
    "                    titm.sleep(1)\n",
    "                    img = f.read()\n",
    "                    h.write(img)\n",
    "\n",
    "        browser.close()\n"
   ]
  },
  {
   "cell_type": "code",
   "execution_count": 21,
   "id": "7a9d16b8",
   "metadata": {},
   "outputs": [],
   "source": [
    "# Instar.get_url('여름옷')"
   ]
  },
  {
   "cell_type": "code",
   "execution_count": 22,
   "id": "634418bb",
   "metadata": {
    "scrolled": true,
    "tags": []
   },
   "outputs": [
    {
     "ename": "NameError",
     "evalue": "name 'titm' is not defined",
     "output_type": "error",
     "traceback": [
      "\u001b[1;31m---------------------------------------------------------------------------\u001b[0m",
      "\u001b[1;31mNameError\u001b[0m                                 Traceback (most recent call last)",
      "\u001b[1;32m<ipython-input-22-02641b936c8a>\u001b[0m in \u001b[0;36m<module>\u001b[1;34m\u001b[0m\n\u001b[0;32m      1\u001b[0m \u001b[1;32mif\u001b[0m \u001b[0m__name__\u001b[0m \u001b[1;33m==\u001b[0m \u001b[1;34m'__main__'\u001b[0m \u001b[1;33m:\u001b[0m\u001b[1;33m\u001b[0m\u001b[1;33m\u001b[0m\u001b[0m\n\u001b[1;32m----> 2\u001b[1;33m     \u001b[0mInstar\u001b[0m\u001b[1;33m.\u001b[0m\u001b[0mget_img\u001b[0m\u001b[1;33m(\u001b[0m\u001b[1;34m'남자옷'\u001b[0m\u001b[1;33m)\u001b[0m\u001b[1;33m\u001b[0m\u001b[1;33m\u001b[0m\u001b[0m\n\u001b[0m",
      "\u001b[1;32m<ipython-input-20-26cde46a50eb>\u001b[0m in \u001b[0;36mget_img\u001b[1;34m(word)\u001b[0m\n\u001b[0;32m     66\u001b[0m                 \u001b[0mtime\u001b[0m\u001b[1;33m.\u001b[0m\u001b[0msleep\u001b[0m\u001b[1;33m(\u001b[0m\u001b[1;36m1\u001b[0m\u001b[1;33m)\u001b[0m\u001b[1;33m\u001b[0m\u001b[1;33m\u001b[0m\u001b[0m\n\u001b[0;32m     67\u001b[0m                 \u001b[1;32mwith\u001b[0m \u001b[0mopen\u001b[0m\u001b[1;33m(\u001b[0m\u001b[1;34m'{}\\{}_image{}.png'\u001b[0m\u001b[1;33m.\u001b[0m\u001b[0mformat\u001b[0m\u001b[1;33m(\u001b[0m\u001b[0mpath\u001b[0m\u001b[1;33m,\u001b[0m \u001b[0mword\u001b[0m\u001b[1;33m,\u001b[0m \u001b[0midx\u001b[0m\u001b[1;33m)\u001b[0m\u001b[1;33m,\u001b[0m \u001b[1;34m'wb'\u001b[0m\u001b[1;33m)\u001b[0m \u001b[1;32mas\u001b[0m \u001b[0mh\u001b[0m \u001b[1;33m:\u001b[0m\u001b[1;33m\u001b[0m\u001b[1;33m\u001b[0m\u001b[0m\n\u001b[1;32m---> 68\u001b[1;33m                     \u001b[0mtitm\u001b[0m\u001b[1;33m.\u001b[0m\u001b[0msleep\u001b[0m\u001b[1;33m(\u001b[0m\u001b[1;36m1\u001b[0m\u001b[1;33m)\u001b[0m\u001b[1;33m\u001b[0m\u001b[1;33m\u001b[0m\u001b[0m\n\u001b[0m\u001b[0;32m     69\u001b[0m                     \u001b[0mimg\u001b[0m \u001b[1;33m=\u001b[0m \u001b[0mf\u001b[0m\u001b[1;33m.\u001b[0m\u001b[0mread\u001b[0m\u001b[1;33m(\u001b[0m\u001b[1;33m)\u001b[0m\u001b[1;33m\u001b[0m\u001b[1;33m\u001b[0m\u001b[0m\n\u001b[0;32m     70\u001b[0m                     \u001b[0mh\u001b[0m\u001b[1;33m.\u001b[0m\u001b[0mwrite\u001b[0m\u001b[1;33m(\u001b[0m\u001b[0mimg\u001b[0m\u001b[1;33m)\u001b[0m\u001b[1;33m\u001b[0m\u001b[1;33m\u001b[0m\u001b[0m\n",
      "\u001b[1;31mNameError\u001b[0m: name 'titm' is not defined"
     ]
    }
   ],
   "source": [
    "if __name__ == '__main__' :\n",
    "    Instar.get_img('남자옷')"
   ]
  },
  {
   "cell_type": "code",
   "execution_count": null,
   "id": "f8cf1744",
   "metadata": {},
   "outputs": [],
   "source": []
  },
  {
   "cell_type": "code",
   "execution_count": null,
   "id": "41a4b158",
   "metadata": {},
   "outputs": [],
   "source": []
  },
  {
   "cell_type": "code",
   "execution_count": null,
   "id": "7530e7ff",
   "metadata": {
    "tags": []
   },
   "outputs": [],
   "source": []
  },
  {
   "cell_type": "code",
   "execution_count": null,
   "id": "f2dc58a9",
   "metadata": {},
   "outputs": [],
   "source": []
  }
 ],
 "metadata": {
  "kernelspec": {
   "display_name": "Python 3",
   "language": "python",
   "name": "python3"
  },
  "language_info": {
   "codemirror_mode": {
    "name": "ipython",
    "version": 3
   },
   "file_extension": ".py",
   "mimetype": "text/x-python",
   "name": "python",
   "nbconvert_exporter": "python",
   "pygments_lexer": "ipython3",
   "version": "3.8.8"
  }
 },
 "nbformat": 4,
 "nbformat_minor": 5
}

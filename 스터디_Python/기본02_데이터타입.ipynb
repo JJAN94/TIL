{
 "cells": [
  {
   "cell_type": "markdown",
   "metadata": {},
   "source": [
    "# 파이썬 기본 자료형 및 키워드를 확인\n",
    "- 리터럴 : 그냥 '값'을 의미한다. 고정된 값을 표현하는 것을 의미(어디에 저장되기전 상태)\n",
    "    - ex) a는 그냥 리터럴 -> A = 'a' 라고 할당을 해주면 a라는 리터럴은 value가 된다.\n",
    "- 내장함수 : function_name() \n",
    "    - ex) print(), 시스템 안에 있는 함수. 그냥 쓰면된다.\n",
    "- 변수 : 변하는 수(값)를 담는 것, name \n",
    "    - ex) A라는 변수(이름)에 100(값)을 대입한다(담겠다) -> A = 100\n",
    "- 메소드 : 클래스 안에 선언된 함수 \n",
    "- 클래스 :  사용자 자료형, class class_name :\n",
    "- 모듈 : .py = python의 확장자(.pyc)\n",
    "- 패키지 : 꾸러미로 폴더 단위를 말한다."
   ]
  },
  {
   "cell_type": "markdown",
   "metadata": {},
   "source": [
    "# 변수(Variable)\n",
    "- 변하는 수라는 뜻, 값을 저장할 수 있는 메모리상의 공간을 의미한다.\n",
    "    - 변수 저장 : RAM 저장 공간에 값을 할당하는 행위"
   ]
  },
  {
   "cell_type": "markdown",
   "metadata": {},
   "source": [
    "- 특징\n",
    "    - 숫자값, 문자열 값 또는 클래스의 객체를 나타낸다.\n",
    "    - 변수에 저장되는 값, 즉 리터럴 상수는 변경할 수 있지만 변수 이름은 그대로 유지된다.\n",
    "    - 데이터 형식은 응용프로그램이 실행될 때 값을 저장하기 위해 할당해야 하는 정확한 메모리 양을 지정한다.\n",
    "    - 명명 규칙은 키워드 규칙을 따른다.\n",
    "    - type() 함수를 이용해서 리터럴의 자료형 타입을 확인 할 수 있다.\n",
    "    - 동적타이핑 : 변수 선언시 저장되는 값에 따라서 자동으로 데이터 타입이 설정된다."
   ]
  },
  {
   "cell_type": "markdown",
   "metadata": {},
   "source": [
    "- 8개의 기본 타입\n",
    "    - 리터럴 <class 'int'>, <class 'float'>, <class 'str'>, <class 'bool'>, <class 'NoneType'>\n",
    "    - 튜플 <class 'tuple'>\n",
    "    - 리스트 <class 'list'>\n",
    "    - 딕셔너리 <class 'dict'>"
   ]
  },
  {
   "cell_type": "code",
   "execution_count": 1,
   "metadata": {},
   "outputs": [],
   "source": [
    "# 각각 변수 선언\n",
    "var1, var2, var3, var4, var5, var6, var7, var8 = 1, 1.3, 'abc', True, None, (1,2,3), [1,2,3], {'a' : 1, 'b' :2}"
   ]
  },
  {
   "cell_type": "code",
   "execution_count": 2,
   "metadata": {},
   "outputs": [
    {
     "data": {
      "text/plain": [
       "(int, float, str, bool, NoneType, tuple, list, dict)"
      ]
     },
     "execution_count": 2,
     "metadata": {},
     "output_type": "execute_result"
    }
   ],
   "source": [
    "# 데이터 타입을 지정해주지 않아도 자동으로 각각 데이터 타입이 설정됨\n",
    "type(var1), type(var2), type(var3), type(var4), type(var5), type(var6), type(var7), type(var8)"
   ]
  },
  {
   "cell_type": "markdown",
   "metadata": {},
   "source": []
  }
 ],
 "metadata": {
  "kernelspec": {
   "display_name": "Python 3",
   "language": "python",
   "name": "python3"
  },
  "language_info": {
   "codemirror_mode": {
    "name": "ipython",
    "version": 3
   },
   "file_extension": ".py",
   "mimetype": "text/x-python",
   "name": "python",
   "nbconvert_exporter": "python",
   "pygments_lexer": "ipython3",
   "version": "3.8.3"
  }
 },
 "nbformat": 4,
 "nbformat_minor": 4
}

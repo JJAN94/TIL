{
 "cells": [
  {
   "cell_type": "markdown",
   "metadata": {},
   "source": [
    "# Day 11 (2021_04_28)"
   ]
  },
  {
   "cell_type": "markdown",
   "metadata": {},
   "source": [
    "1. 파이썬의 상속 구조를 이해하고 구현할 수 있다.\n",
    "2. 추상, 다형성, 데코레이션을 선언하고 이해할 수 있다.\n",
    "3. 파이썬의 동적바인딩을 구현할 수 있다."
   ]
  },
  {
   "cell_type": "markdown",
   "metadata": {},
   "source": [
    "# Day11_poly (pycharm project)\n",
    "- com.test"
   ]
  },
  {
   "cell_type": "markdown",
   "metadata": {},
   "source": [
    "# MyClass01"
   ]
  },
  {
   "cell_type": "markdown",
   "metadata": {},
   "source": [
    "# 클래스의 상속\n",
    "### 1. 상속 (inheritance)이란?\n",
    "    - 하나의 객체를 설계 할 수 있는 구체(concrete Class)클래스 또는 단일 클래스를 또 다른 클래스가 기능 추가 및 변경, 특성을 추가해서 새로운 확장형 클래스를 정의하는 것\n",
    "    - 구체(선조, 부모,수퍼)클래스   <-  하위(자손, 후손, 파생, 서브) 클래스"
   ]
  },
  {
   "cell_type": "markdown",
   "metadata": {},
   "source": [
    "- 상속의 특징\n",
    "    - 선조가 후손에게 재산을 상속하듯이 클래스가 또 다른 클래스에게 상속을 할 수 있다.\n",
    "    - 클래스간의 상속은 멤버변수, 메소드를 또 다른 클래스에 그대로 전해 주며 후손은 선조의 메소드를 후손에서 선조클래스명.멤버로 호출이 가능하다. \n",
    "    - 생성자, 소멸자, \\_\\_특정메소드__, private(\\_\\_) 는 상속 불가"
   ]
  },
  {
   "cell_type": "markdown",
   "metadata": {},
   "source": [
    "- 상속의 목적은 재사용이 가능, 간결성, 확장성을 제공한다."
   ]
  },
  {
   "cell_type": "markdown",
   "metadata": {},
   "source": [
    "### 2. 상속의 선언방법\n",
    "    - 선조 클래스와 후손 클래스는 상속은 다중상속을 지원한다.\n",
    "    - [형식]\\\n",
    "        class 후손클래스(선조클래스명...):\n",
    "            <<코드>>\n"
   ]
  },
  {
   "cell_type": "markdown",
   "metadata": {},
   "source": [
    "### 3. 재정의(overriding) : 메소드 재정의\n",
    "- 선조 : prn() - 히든\n",
    "- 후손 : prn()\n",
    "    - 동일 이름 -> 선조가 먼저 메모리할당되고 상속해서 후손걸 가져오면 prn이름이 같아서 선조는 히든처리되고 후손걸로 사용된다\n",
    "- 선조 : getTot() : 2과목 성적합\n",
    "- 후손 : getTot() (2과목) + Kor() -> getTot() 하나로 3과목 성적합으로 다시 만들어(재정의) 관리하고싶다.\n",
    "    - 상속 받은 후손 클래스에서 상속해 준 선조 클래스에 이미 정의되어 있는 메소드의 기능을 변경해서 새로 정의하는 것을 말한다.\n",
    "    - 선조클래스에 메소드가 존재해야 재정의가 된다.\n",
    "    - 선조가 가진 메소드의 파라미터 개수가 같아야 한다.\n",
    "    - 리턴형은 같지 않아도 된다."
   ]
  },
  {
   "cell_type": "code",
   "execution_count": null,
   "metadata": {},
   "outputs": [],
   "source": []
  },
  {
   "cell_type": "code",
   "execution_count": null,
   "metadata": {},
   "outputs": [],
   "source": []
  },
  {
   "cell_type": "code",
   "execution_count": null,
   "metadata": {},
   "outputs": [],
   "source": [
    "# 간단한 구조의 상속을 구현해 보자\n",
    "# 이름과 나이를 관리하는 Person클래스가 있다\n",
    "# Student클래스 Person을 상속을 받아 학년만 추가해서 이름, 나이, 학년을 모두 출력하는 클래스를 만들고 싶다."
   ]
  },
  {
   "cell_type": "code",
   "execution_count": 22,
   "metadata": {},
   "outputs": [],
   "source": [
    "class Person :\n",
    "    def __init__(self, name, age): # 매개변수를 통해 초기 값을 전달 받아 초기화 / \n",
    "        # 5번으로 실행(선조의 객체가 생성되면서 멤버변수에게 값 전달 끝\n",
    "        self.name = name\n",
    "        self.age = age\n",
    "    def personInfo(self) : # 멤버 변수 출력용 메소드 / 연결 연산자는 시퀀스의 같은 객체끼리 연결이 가능 ( + )\n",
    "        return self.name + '는' + ' age : ' + str(self.age) + ','"
   ]
  },
  {
   "cell_type": "code",
   "execution_count": 19,
   "metadata": {},
   "outputs": [],
   "source": [
    "class Student(Person) : # 2번으로 실행\n",
    "    def __init__(self,name, age, grade) : # 3번으로 실행\n",
    "        Person.__init__(self, name, age) # 4번으로 실행\n",
    "        self.grade = grade # 6번으로 실행(객체 생성하면서 grade변수 값전달)\n",
    "        \n",
    "    def GetStudent(self) :\n",
    "        return self.personInfo() + ' grade : ' + str(self.grade)"
   ]
  },
  {
   "cell_type": "code",
   "execution_count": 20,
   "metadata": {},
   "outputs": [
    {
     "name": "stdout",
     "output_type": "stream",
     "text": [
      "Ruri는 age : 7, grade : 3\n"
     ]
    }
   ],
   "source": [
    "student = Student('Ruri', 7, 3) # 1번으로 실행 -> 7번 실행(생성된 선조의 주소를 리턴)\n",
    "print(student.GetStudent())"
   ]
  },
  {
   "cell_type": "code",
   "execution_count": 21,
   "metadata": {},
   "outputs": [
    {
     "name": "stdout",
     "output_type": "stream",
     "text": [
      "Ruri는 age : 7,\n"
     ]
    }
   ],
   "source": [
    "print(student.personInfo())"
   ]
  },
  {
   "cell_type": "code",
   "execution_count": null,
   "metadata": {},
   "outputs": [],
   "source": []
  },
  {
   "cell_type": "markdown",
   "metadata": {},
   "source": [
    "# MyClass02"
   ]
  },
  {
   "cell_type": "code",
   "execution_count": 25,
   "metadata": {},
   "outputs": [],
   "source": [
    "# super() : 선조클래스를 의미한다. 명시적으로 후손 클래스에서 선조의 변수나 메소드를 참조할 때 사용한다.\n",
    "# 후손클래스에서 후손이 가진 값을 선조 클래스의 생성자를 호출해서 대입하려면 super()키워드를 사용한다.\n",
    "class AA :\n",
    "    def __init__(self) :\n",
    "        print('나 AA 생성자 ') # 명시생성자라고 하자"
   ]
  },
  {
   "cell_type": "code",
   "execution_count": 37,
   "metadata": {},
   "outputs": [],
   "source": [
    "class BB(AA) :\n",
    "    def __init__(self) : \n",
    "        # super().__init__() #선조의 기본 생성자를 호출 / 단일 상속일때는 이런거 쓰고(어차피 super로 해도 하나니까)\n",
    "        AA.__init__(self) # 여러가지를 상속(다중상속)일때는 그 상속받는 클래스를 딱 나타내기 위해 AA로 지칭해준다.\n",
    "        print('나 BB 생성자 ')"
   ]
  },
  {
   "cell_type": "code",
   "execution_count": 38,
   "metadata": {},
   "outputs": [
    {
     "name": "stdout",
     "output_type": "stream",
     "text": [
      "나 AA 생성자 \n",
      "나 BB 생성자 \n"
     ]
    }
   ],
   "source": [
    "if __name__ == '__main__':\n",
    "    # a1 = AA() # 생성자를 호출하면서 객체가 생성한다. 자유영역공간(클래스영역)에 메모리 할당된다.\n",
    "   \n",
    "    b1 = BB() # AA()를 생성하면서 메모리에 "
   ]
  },
  {
   "cell_type": "code",
   "execution_count": null,
   "metadata": {},
   "outputs": [],
   "source": []
  },
  {
   "cell_type": "code",
   "execution_count": 62,
   "metadata": {},
   "outputs": [],
   "source": [
    "class Person :\n",
    "    __b = 10 # 강한 private형식은 멤버만 호출이 가능하다. 후손은 호출이 가능하다. _b는 호출이 되네?\n",
    "    def __init__(self, name, age, b): # 매개변수를 통해 초기 값을 전달 받아 초기화 / \n",
    "        # 5번으로 실행(선조의 객체가 생성되면서 멤버변수에게 값 전달 끝\n",
    "        self.name = name\n",
    "        self.age = age\n",
    "        self.__b = b\n",
    "    def personInfo(self) : # 멤버 변수 출력용 메소드 / 연결 연산자는 시퀀스의 같은 객체끼리 연결이 가능 ( + )\n",
    "        return self.name + '는' + ' age : ' + str(self.age) + ','"
   ]
  },
  {
   "cell_type": "code",
   "execution_count": 63,
   "metadata": {},
   "outputs": [],
   "source": [
    "class Student(Person) : # 2번으로 실행\n",
    "    def __init__(self,name, age, b, grade) : # 3번으로 실행\n",
    "        super().__init__(name, age, b) # 4번으로 실행\n",
    "        self.grade = grade # 6번으로 실행(객체 생성하면서 grade변수 값전달)\n",
    "        \n",
    "    def GetStudent(self) :\n",
    "        print('b = ', self.__b)\n",
    "        return self.personInfo() + ' grade : ' + str(self.grade)"
   ]
  },
  {
   "cell_type": "code",
   "execution_count": 64,
   "metadata": {},
   "outputs": [
    {
     "name": "stdout",
     "output_type": "stream",
     "text": [
      "b =  3\n",
      "Ruri는 age : 7, grade : 5\n"
     ]
    }
   ],
   "source": [
    "student = Student('Ruri', 7, 3, 5) # 1번으로 실행 -> 7번 실행(생성된 선조의 주소를 리턴)\n",
    "print(student.GetStudent())"
   ]
  },
  {
   "cell_type": "code",
   "execution_count": null,
   "metadata": {},
   "outputs": [],
   "source": []
  },
  {
   "cell_type": "markdown",
   "metadata": {},
   "source": [
    "# MyClass03 - 재정의"
   ]
  },
  {
   "cell_type": "code",
   "execution_count": 70,
   "metadata": {},
   "outputs": [],
   "source": [
    "class MyScore :\n",
    "    def __init__(self, kor, eng) :\n",
    "        self.kor = kor\n",
    "        self.eng = eng\n",
    "        \n",
    "    def getTot(self) :\n",
    "        print('선조')\n",
    "        return self.kor + self.eng"
   ]
  },
  {
   "cell_type": "code",
   "execution_count": 71,
   "metadata": {},
   "outputs": [],
   "source": [
    "class MyScore_Sub(Myscore) :\n",
    "    def __init__(self, kor, eng, mat) :\n",
    "        super().__init__(kor,eng)\n",
    "        self.mat = mat\n",
    "        \n",
    "    def getTot(self) :\n",
    "        print('후손')\n",
    "        return super().getTot() + self.mat # super를 명시해줘야함. 그냥 getTot써주면 자기가 호출하고 자기를 쓰고 무한루프 발생"
   ]
  },
  {
   "cell_type": "code",
   "execution_count": 72,
   "metadata": {},
   "outputs": [
    {
     "name": "stdout",
     "output_type": "stream",
     "text": [
      "선조\n",
      "50\n"
     ]
    }
   ],
   "source": [
    "if __name__ == '__main__' :\n",
    "    print(MyScore(20,30).getTot())"
   ]
  },
  {
   "cell_type": "code",
   "execution_count": 73,
   "metadata": {},
   "outputs": [
    {
     "name": "stdout",
     "output_type": "stream",
     "text": [
      "후손\n",
      "300\n"
     ]
    }
   ],
   "source": [
    "print(MyScore_Sub(100,100,100).getTot())"
   ]
  },
  {
   "cell_type": "code",
   "execution_count": 74,
   "metadata": {},
   "outputs": [],
   "source": [
    "class MyScore_Sub(Myscore) :\n",
    "    def __init__(self, kor, eng, mat) :\n",
    "        super().__init__(kor,eng)\n",
    "        self.mat = mat\n",
    "        \n",
    "    def getTot(self) :\n",
    "        print('후손')\n",
    "        return self.kor + self.eng + self.mat"
   ]
  },
  {
   "cell_type": "code",
   "execution_count": 75,
   "metadata": {},
   "outputs": [
    {
     "name": "stdout",
     "output_type": "stream",
     "text": [
      "후손\n",
      "300\n"
     ]
    }
   ],
   "source": [
    "print(MyScore_Sub(100,100,100).getTot())"
   ]
  },
  {
   "cell_type": "code",
   "execution_count": null,
   "metadata": {},
   "outputs": [],
   "source": []
  }
 ],
 "metadata": {
  "kernelspec": {
   "display_name": "Python 3",
   "language": "python",
   "name": "python3"
  },
  "language_info": {
   "codemirror_mode": {
    "name": "ipython",
    "version": 3
   },
   "file_extension": ".py",
   "mimetype": "text/x-python",
   "name": "python",
   "nbconvert_exporter": "python",
   "pygments_lexer": "ipython3",
   "version": "3.8.3"
  }
 },
 "nbformat": 4,
 "nbformat_minor": 4
}

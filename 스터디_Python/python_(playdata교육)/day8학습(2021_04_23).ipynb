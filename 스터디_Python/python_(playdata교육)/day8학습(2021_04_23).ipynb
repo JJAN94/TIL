{
 "cells": [
  {
   "cell_type": "markdown",
   "metadata": {},
   "source": [
    "# Day08"
   ]
  },
  {
   "cell_type": "markdown",
   "metadata": {},
   "source": [
    "### 지난 시간"
   ]
  },
  {
   "cell_type": "code",
   "execution_count": 7,
   "metadata": {},
   "outputs": [
    {
     "name": "stdout",
     "output_type": "stream",
     "text": [
      "1 10 11\n",
      "2 20 22\n",
      "3 30 33\n"
     ]
    }
   ],
   "source": [
    "# 목록을 한꺼번에 묶어서 리턴 1,10 2,20, 3,30 으로 리턴된다. 튜플과 다름\n",
    "# 목록은 세개도 되나요? 된다. 객체 무한정\n",
    "# zip(*iterables) -> help를 본다\n",
    "for x, y in zip([1,2,3], [10,20,30]) :\n",
    "    print(x,y,(x+y))"
   ]
  },
  {
   "cell_type": "code",
   "execution_count": 8,
   "metadata": {},
   "outputs": [
    {
     "name": "stdout",
     "output_type": "stream",
     "text": [
      "{('c', 3), ('a', 1), ('b', 2)}\n",
      "{'cat': '야옹', 'dog': '멍멍', 'duck': '꽥꽥'}\n"
     ]
    }
   ],
   "source": [
    "# 목록을 묶어서 set으로 리턴\n",
    "print(set(zip(['a', 'b', 'c'] , [1,2,3])))\n",
    "\n",
    "# 목록을 묶어서 dict로 리턴\n",
    "keys = ['cat', 'dog', 'duck']\n",
    "values = ['야옹', '멍멍', '꽥꽥']\n",
    "print(dict(zip(keys, values)))"
   ]
  },
  {
   "cell_type": "code",
   "execution_count": 10,
   "metadata": {},
   "outputs": [
    {
     "name": "stdout",
     "output_type": "stream",
     "text": [
      "one 1\n",
      "two 2\n",
      "three 3\n"
     ]
    }
   ],
   "source": [
    "dict1 = {'one' : 1, 'two' : 2, 'three' : 3}\n",
    "for key, value in dict1.items() : #목록을 key, value로 리턴\n",
    "    print(key, value)"
   ]
  },
  {
   "cell_type": "code",
   "execution_count": 1,
   "metadata": {},
   "outputs": [
    {
     "name": "stdout",
     "output_type": "stream",
     "text": [
      "[('a', 0, 0), ('b', 1, 1), ('c', 2, 2)]\n"
     ]
    }
   ],
   "source": [
    "res = list(zip('abcdefg', range(3), range(4)))\n",
    "print(res)"
   ]
  },
  {
   "cell_type": "code",
   "execution_count": 2,
   "metadata": {
    "scrolled": false
   },
   "outputs": [
    {
     "name": "stdout",
     "output_type": "stream",
     "text": [
      "Help on class zip in module builtins:\n",
      "\n",
      "class zip(object)\n",
      " |  zip(*iterables) --> zip object\n",
      " |  \n",
      " |  Return a zip object whose .__next__() method returns a tuple where\n",
      " |  the i-th element comes from the i-th iterable argument.  The .__next__()\n",
      " |  method continues until the shortest iterable in the argument sequence\n",
      " |  is exhausted and then it raises StopIteration.\n",
      " |  \n",
      " |  Methods defined here:\n",
      " |  \n",
      " |  __getattribute__(self, name, /)\n",
      " |      Return getattr(self, name).\n",
      " |  \n",
      " |  __iter__(self, /)\n",
      " |      Implement iter(self).\n",
      " |  \n",
      " |  __next__(self, /)\n",
      " |      Implement next(self).\n",
      " |  \n",
      " |  __reduce__(...)\n",
      " |      Return state information for pickling.\n",
      " |  \n",
      " |  ----------------------------------------------------------------------\n",
      " |  Static methods defined here:\n",
      " |  \n",
      " |  __new__(*args, **kwargs) from builtins.type\n",
      " |      Create and return a new object.  See help(type) for accurate signature.\n",
      "\n"
     ]
    }
   ],
   "source": [
    "help(zip)"
   ]
  },
  {
   "cell_type": "code",
   "execution_count": 4,
   "metadata": {},
   "outputs": [
    {
     "name": "stdout",
     "output_type": "stream",
     "text": [
      "a 0 0\n",
      "b 1 1\n",
      "c 2 2\n"
     ]
    }
   ],
   "source": [
    "for a,b,c in res :\n",
    "    print(a,b,c)"
   ]
  },
  {
   "cell_type": "code",
   "execution_count": 18,
   "metadata": {},
   "outputs": [
    {
     "ename": "ValueError",
     "evalue": "too many values to unpack (expected 3)",
     "output_type": "error",
     "traceback": [
      "\u001b[1;31m---------------------------------------------------------------------------\u001b[0m",
      "\u001b[1;31mValueError\u001b[0m                                Traceback (most recent call last)",
      "\u001b[1;32m<ipython-input-18-ac04e85bd5b7>\u001b[0m in \u001b[0;36m<module>\u001b[1;34m\u001b[0m\n\u001b[0;32m      1\u001b[0m \u001b[0mres\u001b[0m \u001b[1;33m=\u001b[0m \u001b[0mlist\u001b[0m\u001b[1;33m(\u001b[0m\u001b[0mzip\u001b[0m\u001b[1;33m(\u001b[0m\u001b[1;34m'abcdefg'\u001b[0m\u001b[1;33m,\u001b[0m \u001b[0mrange\u001b[0m\u001b[1;33m(\u001b[0m\u001b[1;36m3\u001b[0m\u001b[1;33m)\u001b[0m\u001b[1;33m,\u001b[0m \u001b[0mrange\u001b[0m\u001b[1;33m(\u001b[0m\u001b[1;36m4\u001b[0m\u001b[1;33m)\u001b[0m\u001b[1;33m,\u001b[0m\u001b[0mrange\u001b[0m\u001b[1;33m(\u001b[0m\u001b[1;36m1\u001b[0m\u001b[1;33m,\u001b[0m\u001b[1;36m10\u001b[0m\u001b[1;33m,\u001b[0m\u001b[1;36m2\u001b[0m\u001b[1;33m)\u001b[0m\u001b[1;33m)\u001b[0m\u001b[1;33m)\u001b[0m\u001b[1;33m\u001b[0m\u001b[1;33m\u001b[0m\u001b[0m\n\u001b[1;32m----> 2\u001b[1;33m \u001b[1;32mfor\u001b[0m \u001b[0ma\u001b[0m\u001b[1;33m,\u001b[0m\u001b[0mb\u001b[0m\u001b[1;33m,\u001b[0m\u001b[0mc\u001b[0m \u001b[1;32min\u001b[0m \u001b[0mres\u001b[0m \u001b[1;33m:\u001b[0m\u001b[1;33m\u001b[0m\u001b[1;33m\u001b[0m\u001b[0m\n\u001b[0m\u001b[0;32m      3\u001b[0m     \u001b[0mprint\u001b[0m\u001b[1;33m(\u001b[0m\u001b[0ma\u001b[0m\u001b[1;33m,\u001b[0m\u001b[0mb\u001b[0m\u001b[1;33m,\u001b[0m\u001b[0mc\u001b[0m\u001b[1;33m)\u001b[0m\u001b[1;33m\u001b[0m\u001b[1;33m\u001b[0m\u001b[0m\n",
      "\u001b[1;31mValueError\u001b[0m: too many values to unpack (expected 3)"
     ]
    }
   ],
   "source": [
    "res = list(zip('abcdefg', range(3), range(4),range(1,10,2)))\n",
    "for a,b,c in res :\n",
    "    print(a,b,c)"
   ]
  },
  {
   "cell_type": "code",
   "execution_count": 19,
   "metadata": {},
   "outputs": [
    {
     "ename": "ValueError",
     "evalue": "not enough values to unpack (expected 5, got 4)",
     "output_type": "error",
     "traceback": [
      "\u001b[1;31m---------------------------------------------------------------------------\u001b[0m",
      "\u001b[1;31mValueError\u001b[0m                                Traceback (most recent call last)",
      "\u001b[1;32m<ipython-input-19-d41c4c77d988>\u001b[0m in \u001b[0;36m<module>\u001b[1;34m\u001b[0m\n\u001b[0;32m      1\u001b[0m \u001b[0mres\u001b[0m \u001b[1;33m=\u001b[0m \u001b[0mlist\u001b[0m\u001b[1;33m(\u001b[0m\u001b[0mzip\u001b[0m\u001b[1;33m(\u001b[0m\u001b[1;34m'abcdefg'\u001b[0m\u001b[1;33m,\u001b[0m \u001b[0mrange\u001b[0m\u001b[1;33m(\u001b[0m\u001b[1;36m3\u001b[0m\u001b[1;33m)\u001b[0m\u001b[1;33m,\u001b[0m \u001b[0mrange\u001b[0m\u001b[1;33m(\u001b[0m\u001b[1;36m4\u001b[0m\u001b[1;33m)\u001b[0m\u001b[1;33m,\u001b[0m \u001b[0mrange\u001b[0m\u001b[1;33m(\u001b[0m\u001b[1;36m1\u001b[0m\u001b[1;33m,\u001b[0m\u001b[1;36m10\u001b[0m\u001b[1;33m,\u001b[0m\u001b[1;36m2\u001b[0m\u001b[1;33m)\u001b[0m\u001b[1;33m)\u001b[0m\u001b[1;33m)\u001b[0m\u001b[1;33m\u001b[0m\u001b[1;33m\u001b[0m\u001b[0m\n\u001b[1;32m----> 2\u001b[1;33m \u001b[1;32mfor\u001b[0m \u001b[0ma\u001b[0m\u001b[1;33m,\u001b[0m \u001b[0mb\u001b[0m\u001b[1;33m,\u001b[0m \u001b[0mc\u001b[0m\u001b[1;33m,\u001b[0m \u001b[0md\u001b[0m\u001b[1;33m,\u001b[0m \u001b[0me\u001b[0m \u001b[1;32min\u001b[0m \u001b[0mres\u001b[0m \u001b[1;33m:\u001b[0m\u001b[1;33m\u001b[0m\u001b[1;33m\u001b[0m\u001b[0m\n\u001b[0m\u001b[0;32m      3\u001b[0m     \u001b[0mprint\u001b[0m\u001b[1;33m(\u001b[0m\u001b[0ma\u001b[0m\u001b[1;33m,\u001b[0m\u001b[0mb\u001b[0m\u001b[1;33m,\u001b[0m\u001b[0mc\u001b[0m\u001b[1;33m,\u001b[0m\u001b[0md\u001b[0m\u001b[1;33m,\u001b[0m\u001b[0me\u001b[0m\u001b[1;33m)\u001b[0m\u001b[1;33m\u001b[0m\u001b[1;33m\u001b[0m\u001b[0m\n\u001b[0;32m      4\u001b[0m \u001b[1;33m\u001b[0m\u001b[0m\n",
      "\u001b[1;31mValueError\u001b[0m: not enough values to unpack (expected 5, got 4)"
     ]
    }
   ],
   "source": [
    "res = list(zip('abcdefg', range(3), range(4), range(1,10,2)))\n",
    "for a, b, c, d, e in res :\n",
    "    print(a,b,c,d,e)\n",
    "    "
   ]
  },
  {
   "cell_type": "markdown",
   "metadata": {},
   "source": [
    "* #RunTimeError : 코드는 오류가 없는데 실행시에 발생되는 에러\n",
    "* Error 은 PVM에서 실행시에 발생된 오류가 발생될 때 내용을 참조해서 실행을 중단시킨다. \n",
    "* Error에 해당되는 객체를 실행해서 실행시점으로 리턴해 준다. "
   ]
  },
  {
   "cell_type": "code",
   "execution_count": 20,
   "metadata": {
    "scrolled": true
   },
   "outputs": [
    {
     "data": {
      "text/plain": [
       "['In',\n",
       " 'Out',\n",
       " '_',\n",
       " '_5',\n",
       " '_6',\n",
       " '__',\n",
       " '___',\n",
       " '__builtin__',\n",
       " '__builtins__',\n",
       " '__doc__',\n",
       " '__loader__',\n",
       " '__name__',\n",
       " '__package__',\n",
       " '__spec__',\n",
       " '_dh',\n",
       " '_i',\n",
       " '_i1',\n",
       " '_i10',\n",
       " '_i11',\n",
       " '_i12',\n",
       " '_i13',\n",
       " '_i14',\n",
       " '_i15',\n",
       " '_i16',\n",
       " '_i17',\n",
       " '_i18',\n",
       " '_i19',\n",
       " '_i2',\n",
       " '_i20',\n",
       " '_i3',\n",
       " '_i4',\n",
       " '_i5',\n",
       " '_i6',\n",
       " '_i7',\n",
       " '_i8',\n",
       " '_i9',\n",
       " '_ih',\n",
       " '_ii',\n",
       " '_iii',\n",
       " '_oh',\n",
       " 'a',\n",
       " 'b',\n",
       " 'c',\n",
       " 'dic1',\n",
       " 'dict1',\n",
       " 'exit',\n",
       " 'get_ipython',\n",
       " 'key',\n",
       " 'keys',\n",
       " 'mpl',\n",
       " 'np',\n",
       " 'pd',\n",
       " 'plt',\n",
       " 'quit',\n",
       " 'res',\n",
       " 'sk',\n",
       " 'sm',\n",
       " 'sns',\n",
       " 'sp',\n",
       " 'value',\n",
       " 'values',\n",
       " 'warnings',\n",
       " 'x',\n",
       " 'y']"
      ]
     },
     "execution_count": 20,
     "metadata": {},
     "output_type": "execute_result"
    }
   ],
   "source": [
    "dir()"
   ]
  },
  {
   "cell_type": "code",
   "execution_count": 21,
   "metadata": {
    "scrolled": true
   },
   "outputs": [
    {
     "data": {
      "text/plain": [
       "['__add__',\n",
       " '__class__',\n",
       " '__contains__',\n",
       " '__delattr__',\n",
       " '__dir__',\n",
       " '__doc__',\n",
       " '__eq__',\n",
       " '__format__',\n",
       " '__ge__',\n",
       " '__getattribute__',\n",
       " '__getitem__',\n",
       " '__getnewargs__',\n",
       " '__gt__',\n",
       " '__hash__',\n",
       " '__init__',\n",
       " '__init_subclass__',\n",
       " '__iter__',\n",
       " '__le__',\n",
       " '__len__',\n",
       " '__lt__',\n",
       " '__mod__',\n",
       " '__mul__',\n",
       " '__ne__',\n",
       " '__new__',\n",
       " '__reduce__',\n",
       " '__reduce_ex__',\n",
       " '__repr__',\n",
       " '__rmod__',\n",
       " '__rmul__',\n",
       " '__setattr__',\n",
       " '__sizeof__',\n",
       " '__str__',\n",
       " '__subclasshook__',\n",
       " 'capitalize',\n",
       " 'casefold',\n",
       " 'center',\n",
       " 'count',\n",
       " 'encode',\n",
       " 'endswith',\n",
       " 'expandtabs',\n",
       " 'find',\n",
       " 'format',\n",
       " 'format_map',\n",
       " 'index',\n",
       " 'isalnum',\n",
       " 'isalpha',\n",
       " 'isascii',\n",
       " 'isdecimal',\n",
       " 'isdigit',\n",
       " 'isidentifier',\n",
       " 'islower',\n",
       " 'isnumeric',\n",
       " 'isprintable',\n",
       " 'isspace',\n",
       " 'istitle',\n",
       " 'isupper',\n",
       " 'join',\n",
       " 'ljust',\n",
       " 'lower',\n",
       " 'lstrip',\n",
       " 'maketrans',\n",
       " 'partition',\n",
       " 'replace',\n",
       " 'rfind',\n",
       " 'rindex',\n",
       " 'rjust',\n",
       " 'rpartition',\n",
       " 'rsplit',\n",
       " 'rstrip',\n",
       " 'split',\n",
       " 'splitlines',\n",
       " 'startswith',\n",
       " 'strip',\n",
       " 'swapcase',\n",
       " 'title',\n",
       " 'translate',\n",
       " 'upper',\n",
       " 'zfill']"
      ]
     },
     "execution_count": 21,
     "metadata": {},
     "output_type": "execute_result"
    }
   ],
   "source": [
    "dir('__builtins__')"
   ]
  },
  {
   "cell_type": "code",
   "execution_count": 22,
   "metadata": {},
   "outputs": [
    {
     "data": {
      "text/plain": [
       "['ArithmeticError',\n",
       " 'AssertionError',\n",
       " 'AttributeError',\n",
       " 'BaseException',\n",
       " 'BlockingIOError',\n",
       " 'BrokenPipeError',\n",
       " 'BufferError',\n",
       " 'BytesWarning',\n",
       " 'ChildProcessError',\n",
       " 'ConnectionAbortedError',\n",
       " 'ConnectionError',\n",
       " 'ConnectionRefusedError',\n",
       " 'ConnectionResetError',\n",
       " 'DeprecationWarning',\n",
       " 'EOFError',\n",
       " 'Ellipsis',\n",
       " 'EnvironmentError',\n",
       " 'Exception',\n",
       " 'False',\n",
       " 'FileExistsError',\n",
       " 'FileNotFoundError',\n",
       " 'FloatingPointError',\n",
       " 'FutureWarning',\n",
       " 'GeneratorExit',\n",
       " 'IOError',\n",
       " 'ImportError',\n",
       " 'ImportWarning',\n",
       " 'IndentationError',\n",
       " 'IndexError',\n",
       " 'InterruptedError',\n",
       " 'IsADirectoryError',\n",
       " 'KeyError',\n",
       " 'KeyboardInterrupt',\n",
       " 'LookupError',\n",
       " 'MemoryError',\n",
       " 'ModuleNotFoundError',\n",
       " 'NameError',\n",
       " 'None',\n",
       " 'NotADirectoryError',\n",
       " 'NotImplemented',\n",
       " 'NotImplementedError',\n",
       " 'OSError',\n",
       " 'OverflowError',\n",
       " 'PendingDeprecationWarning',\n",
       " 'PermissionError',\n",
       " 'ProcessLookupError',\n",
       " 'RecursionError',\n",
       " 'ReferenceError',\n",
       " 'ResourceWarning',\n",
       " 'RuntimeError',\n",
       " 'RuntimeWarning',\n",
       " 'StopAsyncIteration',\n",
       " 'StopIteration',\n",
       " 'SyntaxError',\n",
       " 'SyntaxWarning',\n",
       " 'SystemError',\n",
       " 'SystemExit',\n",
       " 'TabError',\n",
       " 'TimeoutError',\n",
       " 'True',\n",
       " 'TypeError',\n",
       " 'UnboundLocalError',\n",
       " 'UnicodeDecodeError',\n",
       " 'UnicodeEncodeError',\n",
       " 'UnicodeError',\n",
       " 'UnicodeTranslateError',\n",
       " 'UnicodeWarning',\n",
       " 'UserWarning',\n",
       " 'ValueError',\n",
       " 'Warning',\n",
       " 'WindowsError',\n",
       " 'ZeroDivisionError',\n",
       " '__IPYTHON__',\n",
       " '__build_class__',\n",
       " '__debug__',\n",
       " '__doc__',\n",
       " '__import__',\n",
       " '__loader__',\n",
       " '__name__',\n",
       " '__package__',\n",
       " '__pybind11_internals_v3_msvc__',\n",
       " '__spec__',\n",
       " 'abs',\n",
       " 'all',\n",
       " 'any',\n",
       " 'ascii',\n",
       " 'bin',\n",
       " 'bool',\n",
       " 'breakpoint',\n",
       " 'bytearray',\n",
       " 'bytes',\n",
       " 'callable',\n",
       " 'chr',\n",
       " 'classmethod',\n",
       " 'compile',\n",
       " 'complex',\n",
       " 'copyright',\n",
       " 'credits',\n",
       " 'delattr',\n",
       " 'dict',\n",
       " 'dir',\n",
       " 'display',\n",
       " 'divmod',\n",
       " 'enumerate',\n",
       " 'eval',\n",
       " 'exec',\n",
       " 'filter',\n",
       " 'float',\n",
       " 'format',\n",
       " 'frozenset',\n",
       " 'get_ipython',\n",
       " 'getattr',\n",
       " 'globals',\n",
       " 'hasattr',\n",
       " 'hash',\n",
       " 'help',\n",
       " 'hex',\n",
       " 'id',\n",
       " 'input',\n",
       " 'int',\n",
       " 'isinstance',\n",
       " 'issubclass',\n",
       " 'iter',\n",
       " 'len',\n",
       " 'license',\n",
       " 'list',\n",
       " 'locals',\n",
       " 'map',\n",
       " 'max',\n",
       " 'memoryview',\n",
       " 'min',\n",
       " 'next',\n",
       " 'object',\n",
       " 'oct',\n",
       " 'open',\n",
       " 'ord',\n",
       " 'pow',\n",
       " 'print',\n",
       " 'property',\n",
       " 'range',\n",
       " 'repr',\n",
       " 'reversed',\n",
       " 'round',\n",
       " 'set',\n",
       " 'setattr',\n",
       " 'slice',\n",
       " 'sorted',\n",
       " 'staticmethod',\n",
       " 'str',\n",
       " 'sum',\n",
       " 'super',\n",
       " 'tuple',\n",
       " 'type',\n",
       " 'vars',\n",
       " 'zip']"
      ]
     },
     "execution_count": 22,
     "metadata": {},
     "output_type": "execute_result"
    }
   ],
   "source": [
    "dir(__builtins__)"
   ]
  },
  {
   "cell_type": "code",
   "execution_count": 23,
   "metadata": {
    "scrolled": true
   },
   "outputs": [
    {
     "data": {
      "text/plain": [
       "['__class__',\n",
       " '__delattr__',\n",
       " '__dir__',\n",
       " '__doc__',\n",
       " '__eq__',\n",
       " '__format__',\n",
       " '__ge__',\n",
       " '__getattribute__',\n",
       " '__gt__',\n",
       " '__hash__',\n",
       " '__init__',\n",
       " '__init_subclass__',\n",
       " '__iter__',\n",
       " '__le__',\n",
       " '__lt__',\n",
       " '__ne__',\n",
       " '__new__',\n",
       " '__next__',\n",
       " '__reduce__',\n",
       " '__reduce_ex__',\n",
       " '__repr__',\n",
       " '__setattr__',\n",
       " '__sizeof__',\n",
       " '__str__',\n",
       " '__subclasshook__']"
      ]
     },
     "execution_count": 23,
     "metadata": {},
     "output_type": "execute_result"
    }
   ],
   "source": [
    "dir(__builtins__.zip)"
   ]
  },
  {
   "cell_type": "code",
   "execution_count": null,
   "metadata": {},
   "outputs": [],
   "source": []
  },
  {
   "cell_type": "markdown",
   "metadata": {},
   "source": [
    "### 오늘"
   ]
  },
  {
   "cell_type": "markdown",
   "metadata": {},
   "source": [
    "1. 흐름제어를 이행하고 구현하자\n",
    "2. 함수와 클래스를 선언하고 구조를 이해할 수 있다.\n",
    "3. 함수를 선언하고 값전달을 이해할 수 있다."
   ]
  },
  {
   "cell_type": "markdown",
   "metadata": {},
   "source": [
    "* 흐름 제어문 : 프로그램의 흐름을 순차적으로 수행하다가 다른 곳으로 조건에 의해 또는 어떤 이유로 흐름을 이동하는 구문을 말한다.\n",
    "* 조건문이나 반복문 또는 프로그램의 명령을 수행하는 중에 block을 빠져 나가거나 특정위치로 이동할 필요가 있을 때 사용하는 문장으로 break, continue, return 등이 있다."
   ]
  },
  {
   "cell_type": "markdown",
   "metadata": {},
   "source": [
    "while 조건문 :\\\n",
    "&nbsp;&nbsp;&nbsp;&nbsp;&nbsp;&nbsp;명령1\\\n",
    "&nbsp;&nbsp;&nbsp;&nbsp;&nbsp;&nbsp;명령2"
   ]
  },
  {
   "cell_type": "markdown",
   "metadata": {},
   "source": [
    "* break문은 for문, while문 등의 반복문에서 빠져나오는데 사용하는 구문으로 한번 쓰면 가장 가까운 하나의 loop를 벗어날 때 사용된다.\n",
    "- while True :\n",
    "    - if 조건문 : \n",
    "        - break\n",
    "    - else :\n",
    "        - 명령문"
   ]
  },
  {
   "cell_type": "code",
   "execution_count": 25,
   "metadata": {},
   "outputs": [
    {
     "name": "stdout",
     "output_type": "stream",
     "text": [
      "    1     2     3     4     5     6     7     8     9 "
     ]
    }
   ],
   "source": [
    "for i in range(1,10) :\n",
    "    print('%5d'%i, end=' ')"
   ]
  },
  {
   "cell_type": "code",
   "execution_count": 28,
   "metadata": {},
   "outputs": [
    {
     "name": "stdout",
     "output_type": "stream",
     "text": [
      "if else 영역\n",
      "    1 if else 영역\n",
      "    2 if else 영역\n",
      "    3 if else 영역\n",
      "    4 if else 영역\n",
      "    5 "
     ]
    }
   ],
   "source": [
    "for i in range(1,10) :\n",
    "    if i>5 : # 만일 i가 5보다 크면 loop를 탈출하라 \n",
    "        break\n",
    "    else :\n",
    "        print('if else 영역')\n",
    "    print('%5d'%i, end=' ')\n",
    "else :\n",
    "    print('\\n for else 영역')"
   ]
  },
  {
   "cell_type": "markdown",
   "metadata": {},
   "source": [
    "* return : 함수의 키워드로 함수를 종료하게 된다."
   ]
  },
  {
   "cell_type": "markdown",
   "metadata": {},
   "source": [
    "* 중첩 for : 수행될 명령 부분에 for문을 반복할 구문으로 대처해서 반복문 안에 또 다른 반복문을 구현 할 수 있도록 실행된다."
   ]
  },
  {
   "cell_type": "code",
   "execution_count": 31,
   "metadata": {},
   "outputs": [
    {
     "name": "stdout",
     "output_type": "stream",
     "text": [
      "i = 1, j = 1\n",
      "i = 1, j = 2\n",
      "-----------------------\n",
      "i = 2, j = 1\n",
      "i = 2, j = 2\n",
      "-----------------------\n",
      "i = 3, j = 1\n",
      "i = 3, j = 2\n",
      "-----------------------\n",
      "i = 4, j = 1\n",
      "i = 4, j = 2\n",
      "-----------------------\n"
     ]
    }
   ],
   "source": [
    "for i in range(1,5) : \n",
    "    for j in range(1,3) :\n",
    "        print('i = %d, j = %d'%(i,j))\n",
    "    print('-----------------------')"
   ]
  },
  {
   "cell_type": "code",
   "execution_count": 32,
   "metadata": {},
   "outputs": [
    {
     "name": "stdout",
     "output_type": "stream",
     "text": [
      "    1\t    2\t    3\t    4\t    5\t\n",
      "    1\t    2\t    3\t    4\t    5\t\n",
      "    1\t    2\t    3\t    4\t    5\t\n",
      "    1\t    2\t    3\t    4\t    5\t\n",
      "    1\t    2\t    3\t    4\t    5\t\n"
     ]
    }
   ],
   "source": [
    "for i in range(1,6) :  # 행의 위치를 지정하는 용도\n",
    "    for j in range(1,6) : # 열의 위치를 지정하는 용도\n",
    "        print('%5d'%j, end='\\t')\n",
    "    print()"
   ]
  },
  {
   "cell_type": "code",
   "execution_count": 36,
   "metadata": {
    "scrolled": true
   },
   "outputs": [
    {
     "name": "stdout",
     "output_type": "stream",
     "text": [
      "    2  *  1 =  2\n",
      "    2  *  2 =  4\n",
      "    2  *  3 =  6\n",
      "    2  *  4 =  8\n",
      "    2  *  5 = 10\n",
      "    2  *  6 = 12\n",
      "    2  *  7 = 14\n",
      "    2  *  8 = 16\n",
      "    2  *  9 = 18\n",
      "\n",
      "    3  *  1 =  3\n",
      "    3  *  2 =  6\n",
      "    3  *  3 =  9\n",
      "    3  *  4 = 12\n",
      "    3  *  5 = 15\n",
      "    3  *  6 = 18\n",
      "    3  *  7 = 21\n",
      "    3  *  8 = 24\n",
      "    3  *  9 = 27\n",
      "\n",
      "    4  *  1 =  4\n",
      "    4  *  2 =  8\n",
      "    4  *  3 = 12\n",
      "    4  *  4 = 16\n",
      "    4  *  5 = 20\n",
      "    4  *  6 = 24\n",
      "    4  *  7 = 28\n",
      "    4  *  8 = 32\n",
      "    4  *  9 = 36\n",
      "\n",
      "    5  *  1 =  5\n",
      "    5  *  2 = 10\n",
      "    5  *  3 = 15\n",
      "    5  *  4 = 20\n",
      "    5  *  5 = 25\n",
      "    5  *  6 = 30\n",
      "    5  *  7 = 35\n",
      "    5  *  8 = 40\n",
      "    5  *  9 = 45\n",
      "\n",
      "    6  *  1 =  6\n",
      "    6  *  2 = 12\n",
      "    6  *  3 = 18\n",
      "    6  *  4 = 24\n",
      "    6  *  5 = 30\n",
      "    6  *  6 = 36\n",
      "    6  *  7 = 42\n",
      "    6  *  8 = 48\n",
      "    6  *  9 = 54\n",
      "\n",
      "    7  *  1 =  7\n",
      "    7  *  2 = 14\n",
      "    7  *  3 = 21\n",
      "    7  *  4 = 28\n",
      "    7  *  5 = 35\n",
      "    7  *  6 = 42\n",
      "    7  *  7 = 49\n",
      "    7  *  8 = 56\n",
      "    7  *  9 = 63\n",
      "\n",
      "    8  *  1 =  8\n",
      "    8  *  2 = 16\n",
      "    8  *  3 = 24\n",
      "    8  *  4 = 32\n",
      "    8  *  5 = 40\n",
      "    8  *  6 = 48\n",
      "    8  *  7 = 56\n",
      "    8  *  8 = 64\n",
      "    8  *  9 = 72\n",
      "\n",
      "    9  *  1 =  9\n",
      "    9  *  2 = 18\n",
      "    9  *  3 = 27\n",
      "    9  *  4 = 36\n",
      "    9  *  5 = 45\n",
      "    9  *  6 = 54\n",
      "    9  *  7 = 63\n",
      "    9  *  8 = 72\n",
      "    9  *  9 = 81\n",
      "\n"
     ]
    }
   ],
   "source": [
    "for i in range(2,10) :\n",
    "    for j in range(1,10) :\n",
    "        print('{0:5d}  * {1:2d} = {2:2d}'.format(i,j,i*j))\n",
    "    print()"
   ]
  },
  {
   "cell_type": "markdown",
   "metadata": {},
   "source": [
    "* 단일 출력문 -> 반복문 -> 함수 -> 클래스 -> 모듈"
   ]
  },
  {
   "cell_type": "markdown",
   "metadata": {},
   "source": [
    "* 함수\n",
    "    1. 여러개의 실행문을 하나로 묶은 모듈을 의미하며 특정한 명령을 수행하는 하나의 독립된 프로그램\n",
    "    2. 함수는 파이썬의 데이터 형과 흐름제어를 알고 특정한 작업을 수행하도록 설계된 독립적인 프로그램으로 모듈화를 기본으로 한다.\n",
    "    3. 모듈화란 특정 기능 부분을 실행 할 수 있는 블록으로 만들고 여러 실행 블록을 연결해서 프로그래밍 하는 것을 의미한다.\n",
    "    4. 파이썬 함수의 모듈화(.py) : 별도의 파일에 정의된 함수의 지정된 데이터, class들의 모임을 저장한 것 중 모듈 안의 함수를 말한다.\n",
    "    5. 함수 사용하게 되면 실행문이 하나로 묶인 모듈이 호출되어 실행되어 편리하게 사용된다.\n",
    "        - ex) prn(10) : 1~10출력\n",
    "        - ex) prn(100) : 1~100출력\n",
    "    6. 파이썬의 함수는 원하는 원형의 실행 구문을 만들어 모듈화(.py -> .pyc[byte] -> pvm -> output)로 구현하고 호출하게 되면 실행되는 객체로 관리된다. / 모듈 = 함수의 모듈화 + 기타모듈"
   ]
  },
  {
   "cell_type": "markdown",
   "metadata": {},
   "source": [
    "* 함수 특징\n",
    "    1. 수행명령, 복잡한 연산등을 그룹으로 만들어서 새로운 함수로 선언한 수\n",
    "        - 함수명을 호출해서 명령실행, 디버그, 오류 수정등을 수월하게 할 수 있다.\n",
    "    2. 함수는 반복 코드를 제거해서 프로그램을 작게 만든다.\n",
    "    3. 긴 코드를 함수로 나누어 작성하게 되면 작은부분에서 버그를 쉽게 수정하고 이를 조합해서 전체적인 동작하는 프로그램으로 만들 수 있다."
   ]
  },
  {
   "cell_type": "markdown",
   "metadata": {},
   "source": [
    "* 함수의 종류\n",
    "    1. 라이브러리 함수\n",
    "        - 표준함수 또는 내장함수라고 부르며 시스템에서 미리 작성해 놓은 함수\n",
    "        - 삼각함수, 지수함수, 날짜 정보함수, 파일함수, 데이터베이스 함수등을 말한다.\n",
    "        - sys.path가 지정한 곳의 모듈\n",
    "    2. 사용자 정의함수\n",
    "        - 사용자가 직접 만들어서 사용하는 함수 -> py -> 전역패스 설치\n",
    "    3. built-in 함수\n",
    "        - 파이썬 설치시 기본적으로 제공해주는 함수 print(), type() 등\n",
    "        - dir(\\__builtin__) -> help(print)"
   ]
  },
  {
   "cell_type": "markdown",
   "metadata": {},
   "source": [
    "[형식]\\\n",
    "def function_name(매개변수 ,,,) :\\\n",
    "&nbsp;&nbsp;&nbsp;&nbsp;명령 수행문\\\n",
    "&nbsp;&nbsp;&nbsp;&nbsp;return"
   ]
  },
  {
   "cell_type": "markdown",
   "metadata": {},
   "source": [
    "* 함수의 선언과 호출\n",
    "    - 함수는 호출되면 함수의 정의부로 이동해 함수의 모든 내용을 순차적으로 실행한 후 함수가 종료되면 호출되었던 곳으로 돌아온다.\n",
    "    - 함수를 호출할 때는 함수명()로 호출하고 매개변수가 있는 함수를 호출할 때는 함수의 원형에 맞는 매개변수의 자료형과 같은 값을 매개변수로 전달해야만 호출이 가능하다.\n",
    "    - 함수는 크게 [return] 값이 생략된 함수와 datatype의 return값을 가진 원형으로 구분되며 return문을 생략하면 None을 반환하고 return값이 있다면 함수는 결과값을 다시 다른 호출된 모듈로 보내는 함수가 된다."
   ]
  },
  {
   "cell_type": "code",
   "execution_count": null,
   "metadata": {},
   "outputs": [],
   "source": []
  },
  {
   "cell_type": "code",
   "execution_count": null,
   "metadata": {},
   "outputs": [],
   "source": []
  },
  {
   "cell_type": "markdown",
   "metadata": {},
   "source": [
    "* idle\n",
    "    "
   ]
  },
  {
   "cell_type": "markdown",
   "metadata": {},
   "source": [
    "일반적 : 파일 -> 패키지 -> 프로젝트\\\n",
    "IDLE(PyCharm) : 프로젝트 -> 패키지 -> 파일(모듈) -> 진입점(main) -> exe"
   ]
  },
  {
   "cell_type": "code",
   "execution_count": null,
   "metadata": {},
   "outputs": [],
   "source": []
  },
  {
   "cell_type": "code",
   "execution_count": null,
   "metadata": {},
   "outputs": [],
   "source": []
  },
  {
   "cell_type": "code",
   "execution_count": null,
   "metadata": {},
   "outputs": [],
   "source": []
  },
  {
   "cell_type": "code",
   "execution_count": null,
   "metadata": {},
   "outputs": [],
   "source": []
  },
  {
   "cell_type": "code",
   "execution_count": null,
   "metadata": {},
   "outputs": [],
   "source": []
  }
 ],
 "metadata": {
  "kernelspec": {
   "display_name": "Python 3",
   "language": "python",
   "name": "python3"
  },
  "language_info": {
   "codemirror_mode": {
    "name": "ipython",
    "version": 3
   },
   "file_extension": ".py",
   "mimetype": "text/x-python",
   "name": "python",
   "nbconvert_exporter": "python",
   "pygments_lexer": "ipython3",
   "version": "3.8.3"
  }
 },
 "nbformat": 4,
 "nbformat_minor": 4
}

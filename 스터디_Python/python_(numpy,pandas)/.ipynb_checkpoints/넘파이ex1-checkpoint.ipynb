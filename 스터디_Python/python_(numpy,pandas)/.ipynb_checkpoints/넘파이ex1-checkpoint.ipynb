{
 "cells": [
  {
   "cell_type": "code",
   "execution_count": 6,
   "id": "9132fc91",
   "metadata": {},
   "outputs": [],
   "source": [
    "import random\n",
    "import numpy as np"
   ]
  },
  {
   "cell_type": "markdown",
   "id": "dd6b988c",
   "metadata": {},
   "source": [
    "Q1) 초등학생 키가 10개가 들어있는 아래의 tall 리스트의 요소 10개를 10000개로 증가시켜서 tall10000 리스트에 담고 출력하시오"
   ]
  },
  {
   "cell_type": "code",
   "execution_count": 4,
   "id": "f31e3190",
   "metadata": {},
   "outputs": [],
   "source": [
    "tall =[129.3, 130.2, 132.5, 134.7, 136.3, 137.8, 131.1, 140.2, 142.3, 145.2]\n",
    "def Test01() :\n",
    "    # 모집단의 평균값, 분산, 표준편차를 출력\n",
    "    tall10000 = tall*10000\n",
    "    #print(tall10000)\n",
    "    print(type(tall10000))\n",
    "    print(np.mean(tall10000))\n",
    "    print(np.var(tall10000))\n",
    "    print(np.std(tall10000))\n",
    "    \n",
    "def Test02() : # Test01() 의 tall10000 에서 표본 20개를 랜덤 추출 한다면?\n",
    "    a = []\n",
    "    tall10000 = tall*10000\n",
    "    for i in range(1,21) :\n",
    "        r = random.choice(tall10000)\n",
    "        a.append(r)\n",
    "    # 표본 20개의 평균을 출력한다면?\n",
    "    print(np.mean(a))"
   ]
  },
  {
   "cell_type": "code",
   "execution_count": 7,
   "id": "55b0e967",
   "metadata": {},
   "outputs": [
    {
     "name": "stdout",
     "output_type": "stream",
     "text": [
      "<class 'list'>\n",
      "135.96\n",
      "26.176399999999994\n",
      "5.116287716694595\n"
     ]
    }
   ],
   "source": [
    "Test01()"
   ]
  },
  {
   "cell_type": "code",
   "execution_count": 8,
   "id": "65f14abc",
   "metadata": {},
   "outputs": [
    {
     "name": "stdout",
     "output_type": "stream",
     "text": [
      "135.33999999999997\n"
     ]
    }
   ],
   "source": [
    "Test02()"
   ]
  },
  {
   "cell_type": "code",
   "execution_count": null,
   "id": "3294da86",
   "metadata": {},
   "outputs": [],
   "source": []
  }
 ],
 "metadata": {
  "kernelspec": {
   "display_name": "Python 3",
   "language": "python",
   "name": "python3"
  },
  "language_info": {
   "codemirror_mode": {
    "name": "ipython",
    "version": 3
   },
   "file_extension": ".py",
   "mimetype": "text/x-python",
   "name": "python",
   "nbconvert_exporter": "python",
   "pygments_lexer": "ipython3",
   "version": "3.8.8"
  }
 },
 "nbformat": 4,
 "nbformat_minor": 5
}

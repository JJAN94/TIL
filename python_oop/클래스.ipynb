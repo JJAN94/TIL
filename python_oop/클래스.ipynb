{
 "cells": [
  {
   "cell_type": "markdown",
   "id": "cf707d54-1cdd-4b5d-b9f1-1729e9fee249",
   "metadata": {},
   "source": [
    "# OOP (Object Oriented Programming)"
   ]
  },
  {
   "cell_type": "markdown",
   "id": "234f2ecd-96f7-45a7-b8d4-2bf07d3a82c1",
   "metadata": {},
   "source": [
    "- 객체지향 프로그램\n",
    "- 데이터 처리를 하는 메소드들을 하나의 프로그램으로 설계해서 연동하는 객체(object)를 중심으로 프로그램을 짜는 언어를 말한다.\n",
    "- 파이썬은 대화적(interactive), 인터프리터(interpreter)한 객체지향(object oriented) 프로그래밍 언어다.\n",
    "- 파이썬의 모든 것은 객체이다"
   ]
  },
  {
   "cell_type": "markdown",
   "id": "fac4c2a5-4402-4155-8ff2-00394f3b7a6c",
   "metadata": {},
   "source": [
    "## 클래스와 객체란?"
   ]
  },
  {
   "cell_type": "markdown",
   "id": "05e10d52-9727-4531-87d6-e2750238abfc",
   "metadata": {},
   "source": [
    "- 클래스는 객체 지향 프로그램의 기본적인 사용자 정의 데이터형 (user defined data type)\n",
    "- 클래스는 객체를 정의한 것으로 실세계에서 존재하는 사뭃이나 개념의 속성과 기능을 모델링해서 추상화 시키는 과정이다.\n",
    "- 객체는 자신 고유의 속성(attribute)을 가지며 클래스에서 정의한 행위(behavior)를 수행할 수 있다.\n",
    "- 객체의 행위는 클래스에 정의된 행위에 대한 정의를 공유함으로써 메모리를 경제적으로 사용한다."
   ]
  },
  {
   "cell_type": "markdown",
   "id": "553c62ad-79b0-4eaf-bde0-182ec0b3baa4",
   "metadata": {},
   "source": [
    "- 객체는 클래스의 인스턴스이며 정의된 클래스를 사용해서 실제로 메모리에 생성되어 메모리에 로딩된 상태를 말한다.\n",
    "- **객체**는 클래스의 타입으로 선언되었을 때를 의미하는 것이고, 그 객체가 메모리에 할당되어 실제 사용될 때를 **인스턴스**라 한다"
   ]
  },
  {
   "cell_type": "markdown",
   "id": "9a773ecf-cff9-4bbd-bdd3-69b51d892541",
   "metadata": {},
   "source": [
    "> 그림판의 메뉴를 생각해보자\\\n",
    "> 동그라미를 메뉴에서 선택해서 작업화면에 동그라미 객체를 그려낸다.\\\n",
    "> 이때 정해진 클래스(동그라미)의 여러개 객체(object)를 생성하게 되는데 이 동그라미 객체들을 인스턴스화 한다고 한다."
   ]
  },
  {
   "cell_type": "markdown",
   "id": "d1202ac5-c936-4e0a-92c9-f370d848a7d6",
   "metadata": {},
   "source": [
    "## 정리1"
   ]
  },
  {
   "cell_type": "markdown",
   "id": "b06e443a-979f-4ba6-8554-4afa1ee493c1",
   "metadata": {},
   "source": [
    "- 객체 = 속성(attributes) + 행위(behaviors) (속성+기능)\n",
    "- 클래스 = 변수(variable) + 메소드(methods) (변수+메소드(기능))"
   ]
  },
  {
   "cell_type": "markdown",
   "id": "aae10fa3-b313-417e-aae8-6df05edea93a",
   "metadata": {},
   "source": [
    "> 객체는 멤버 변수를 가지고 있으면서 그들의 동작을 수행하는 함수들을 가지게 되는데 이를 메소드라 한다.\\\n",
    "> 메소드는 객체를 사용하기 위해 필요한 모든 이벤트들을 처리하는 함수다"
   ]
  },
  {
   "cell_type": "markdown",
   "id": "c8944e68-0550-4002-ace9-3d15c37869f3",
   "metadata": {},
   "source": [
    "## OOP의 3대 특징"
   ]
  },
  {
   "cell_type": "markdown",
   "id": "e37931b2-7a48-41df-a094-b5e178ce73ea",
   "metadata": {},
   "source": [
    "1. 클래스 : 사용자 자료형 = 변수+메소드\n",
    "    - 캡슐화 : 은닉된 멤버변수에게 오픈된 메소드가 값 전달 및 변경하는 구조\n",
    "2. 상속 : 클래스 기능의 확장, 선조클래스가 1개일 때 단일상속 / 2개 이상일 때 다중상속\n",
    "    - 정규패턴 (+ : 1 more (1개 또는 여러개), * : 0 more(없거나 여러개거나), ... = 0 more)\n",
    "3. 다형성 : 다양한 형태의 성질로 이루어진 클래스의 동적 바인딩 구조"
   ]
  },
  {
   "cell_type": "markdown",
   "id": "62e7e14d-260a-4d37-a49e-54c436b34bca",
   "metadata": {},
   "source": [
    "> 객체 지향 프로그래밍에서 멤버 변수(member variable) 또는 멤버 필드는 특정 객체와 연결된 변수의 하나이며, 해당 변수의 모든 메소드(멤버 함수)에 접근이 가능하다.\\\n",
    "클래스 기반 언어에서 이들은 두 종류로 구별된다\\\n",
    "모든 인스턴스의 클래스와 공유되는 변수의 사본이 하나만 있을 경우 이를 클래스 변수나 정적 멤버 변수로 부른다.\\\n",
    "클래스의 각 인스턴스가 자신만의 변수 복사본을 소유하고 있는 경우 해당 변수는 인스턴스 변수라 부른다.\n",
    "\n",
    "> **파이썬에서 클래스 내에서 정의된 변수를 멤버변수라고 하며 self. 와 함께 사용할 수 있다.**"
   ]
  },
  {
   "cell_type": "markdown",
   "id": "7e3aacfd-c92f-4907-b178-f6c5e5420aae",
   "metadata": {},
   "source": [
    "## 클래스\n",
    "- 자료형 선언 $\\rightarrow$ 객체 생성 $\\rightarrow$ 멤버 호출"
   ]
  },
  {
   "cell_type": "markdown",
   "id": "2cfd9cba-eb3b-4aef-af96-04dfab2752cf",
   "metadata": {},
   "source": [
    "```python\n",
    "class 클래스이름(상속클래스):\n",
    "    <클래스 변수 선언>\n",
    "    \n",
    "    def 클래스함수(self, ...):\n",
    "        <수행할 문장>\n",
    "     \n",
    "    def ...:\n",
    "        ...\n",
    "```\n"
   ]
  },
  {
   "cell_type": "markdown",
   "id": "b4de049c-61fa-43ce-b7c7-7bfa01695a43",
   "metadata": {},
   "source": [
    "클래스 내부에 선언되는 아규먼트는 첫번째 자리는 self (관습적)"
   ]
  },
  {
   "cell_type": "markdown",
   "id": "a06b03ed-cf82-4009-a909-dc58d0369a48",
   "metadata": {},
   "source": [
    "## 클래스 생성 실습"
   ]
  },
  {
   "cell_type": "markdown",
   "id": "10ea5d35-a1cb-4bcd-82c4-cf6f778c9699",
   "metadata": {},
   "source": [
    "### Step 1. 자료형, 클래스 선언\n",
    "- 값을 받아서 저장하고 추가하는 클래스를 만들려고 한다.\n",
    "- 값을 받아 저장하는 멤버를 가진 메소드를 empty()라고 하고 값을 받아 추가하는 메소드를 add()라고 하고 만들어보자\n"
   ]
  },
  {
   "cell_type": "code",
   "execution_count": 1,
   "id": "95d17a7d-ba9d-4ad6-b87c-f2852627b90f",
   "metadata": {},
   "outputs": [],
   "source": [
    "class Test: # object의 후손 클래스가 되어 선조의 메소드들을 참조하고 있다.\n",
    "    def empty(self):\n",
    "        self.data = []\n",
    "    \n",
    "    def add(self, x):\n",
    "        self.data.append(x)"
   ]
  },
  {
   "cell_type": "markdown",
   "id": "293ad492-cf7d-4e2b-8a10-4299fdc7c7ae",
   "metadata": {},
   "source": [
    "### Step 2. 객체 생성\n",
    "- Test 클래스가 선언 및 정의가 되면 클래스 객체 생성을 통한 인스턴스를 만든다.\n",
    "    - 클래스 변수 = 클래스명()\n",
    "    - 생성자를 호출하면서 객체를 생성하게 된다."
   ]
  },
  {
   "cell_type": "code",
   "execution_count": 9,
   "id": "8860b4fd-6a6c-4ec5-8dfe-3abc2bc6fe7d",
   "metadata": {},
   "outputs": [],
   "source": [
    "# my01의 변수에 Test라는 클래스의 객체를 생성하게 되면 메모리에 Test클래스와 같은 자료형이 생성되어 메모리에 확보되고,\n",
    "# 확보된 주소가 my01에 '=' 연산자를 통해 대입되어 참조된다.\n",
    "my01 = Test()\n",
    "\n",
    "# my02의 변수에 Test라는 클래스의 객체를 생성하게 되면 메모리에 Test클래스와 같은 자료형이 생성되어 메모리에 확보되고,\n",
    "# 확보된 주소가 my02에 '=' 연산자를 통해 대입되어 참조된다.\n",
    "my02 = Test()"
   ]
  },
  {
   "cell_type": "code",
   "execution_count": 10,
   "id": "be9ca284-5279-404b-a470-20d6c79d78d2",
   "metadata": {},
   "outputs": [
    {
     "name": "stdout",
     "output_type": "stream",
     "text": [
      "2467034002960 2467034002384\n"
     ]
    }
   ],
   "source": [
    "# my01과 my02의 주소값\n",
    "print(id(my01), id(my02))"
   ]
  },
  {
   "cell_type": "markdown",
   "id": "734dc96d-4825-4ebb-8c01-60224c135cea",
   "metadata": {},
   "source": [
    "### Step 3. 멤버 호출\n",
    "- my01.empty()\n",
    "- my02.empty()"
   ]
  },
  {
   "cell_type": "code",
   "execution_count": 16,
   "id": "d4c09256-283e-4a46-8a51-b0dfbaba5b8a",
   "metadata": {},
   "outputs": [
    {
     "name": "stdout",
     "output_type": "stream",
     "text": [
      "['add', 'empty']\n"
     ]
    }
   ],
   "source": [
    "dir(my01) # 멤버변수 검색\n",
    "\n",
    "# 아직 empty()가 실행안되었을 때 멤버변수로  add, empty가 있음\n",
    "print([i for i in dir(my01) if i[0]!='_'])"
   ]
  },
  {
   "cell_type": "code",
   "execution_count": 17,
   "id": "019d46a5-7e84-4d28-ba22-e034aecb8cec",
   "metadata": {},
   "outputs": [],
   "source": [
    "my01.empty()\n",
    "my02.empty()"
   ]
  },
  {
   "cell_type": "code",
   "execution_count": 19,
   "id": "c120bd12-8e6b-480c-b30d-46dc55ed8648",
   "metadata": {},
   "outputs": [
    {
     "name": "stdout",
     "output_type": "stream",
     "text": [
      "['add', 'data', 'empty']\n"
     ]
    }
   ],
   "source": [
    "# empty()에서 생성된 빈 배열 객체 data가 생겼다\n",
    "print([i for i in dir(my01) if i[0]!='_'])"
   ]
  },
  {
   "cell_type": "code",
   "execution_count": 20,
   "id": "33c18be9-bbc2-407e-ae35-89bc880d7884",
   "metadata": {},
   "outputs": [
    {
     "name": "stdout",
     "output_type": "stream",
     "text": [
      "[1, 2, 3, 4, 5]\n",
      "[]\n"
     ]
    }
   ],
   "source": [
    "for i in range(1,6):\n",
    "    my01.add(i)\n",
    "\n",
    "print(my01.data)\n",
    "print(my02.data)"
   ]
  },
  {
   "cell_type": "code",
   "execution_count": 21,
   "id": "80872f18-71d3-44fd-9b58-b628615699cd",
   "metadata": {},
   "outputs": [
    {
     "name": "stdout",
     "output_type": "stream",
     "text": [
      "<__main__.Test object at 0x0000023E66AF7610> <__main__.Test object at 0x0000023E66AF73D0>\n"
     ]
    }
   ],
   "source": [
    "print(my01, my02) # 두 객체의 참조 주소는 다르다."
   ]
  },
  {
   "cell_type": "code",
   "execution_count": 22,
   "id": "ad98c8be-2d1a-49fa-b612-93c26d7b4f2e",
   "metadata": {},
   "outputs": [
    {
     "name": "stdout",
     "output_type": "stream",
     "text": [
      "[1, 2, 3, 4, 5]\n"
     ]
    }
   ],
   "source": [
    "my03 = my01\n",
    "print(my03.data)"
   ]
  },
  {
   "cell_type": "code",
   "execution_count": 24,
   "id": "f3248a4c-428f-495d-b0ea-62eeae1a5ee1",
   "metadata": {},
   "outputs": [
    {
     "name": "stdout",
     "output_type": "stream",
     "text": [
      "<__main__.Test object at 0x0000023E66AF7610> <__main__.Test object at 0x0000023E66AF7610>\n"
     ]
    }
   ],
   "source": [
    "# 얕은 복사, 같은 주소를 참조하고 있다\n",
    "print(my01, my03)"
   ]
  },
  {
   "cell_type": "markdown",
   "id": "242dcb09-bd28-452f-b7ac-6e84e9727bff",
   "metadata": {},
   "source": [
    "## self의 의미"
   ]
  },
  {
   "cell_type": "markdown",
   "id": "ccc10b46-a1ef-4fe4-b844-defac00a805f",
   "metadata": {},
   "source": [
    "- 클래스 내부에 선언되는 메소드 매개인자는 첫번째 자리에 self로 반드시 명시한다.\n",
    "- 모든 메소드는 최소한 self 인수는 반드시 명시되어야 하며 리턴되거나 매개인자로 대입 받을 수 없다.\n",
    "- 객체를 통해서 호출되는 메소드의 첫번째 매개인자는 self는 자동으로 객체 참조될 주소로 대입받는다.\n",
    "- self를 통해서 클래스의 멤버변수 또는 메소드를 자유롭게 클래스 내부에서 호출 할 수 있다."
   ]
  },
  {
   "cell_type": "code",
   "execution_count": null,
   "id": "6d996ad4-aef5-4f74-ad41-9e8082c07819",
   "metadata": {},
   "outputs": [],
   "source": []
  }
 ],
 "metadata": {
  "kernelspec": {
   "display_name": "py38",
   "language": "python",
   "name": "py38"
  },
  "language_info": {
   "codemirror_mode": {
    "name": "ipython",
    "version": 3
   },
   "file_extension": ".py",
   "mimetype": "text/x-python",
   "name": "python",
   "nbconvert_exporter": "python",
   "pygments_lexer": "ipython3",
   "version": "3.8.12"
  }
 },
 "nbformat": 4,
 "nbformat_minor": 5
}

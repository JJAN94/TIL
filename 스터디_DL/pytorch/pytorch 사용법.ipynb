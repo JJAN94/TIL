{
 "cells": [
  {
   "cell_type": "markdown",
   "id": "5b1cd1ea",
   "metadata": {},
   "source": [
    "# PyTorch"
   ]
  },
  {
   "cell_type": "markdown",
   "id": "505b0749",
   "metadata": {},
   "source": [
    "### 특징\n",
    "1. Dynamic Graph & Define by Run\n",
    "2. 쉽고 빠르며 파이써닉하다.\n",
    "3. 어마어마한 성장률"
   ]
  },
  {
   "cell_type": "code",
   "execution_count": null,
   "id": "529e8b00",
   "metadata": {},
   "outputs": [],
   "source": []
  }
 ],
 "metadata": {
  "kernelspec": {
   "display_name": "Python 3",
   "language": "python",
   "name": "python3"
  },
  "language_info": {
   "codemirror_mode": {
    "name": "ipython",
    "version": 3
   },
   "file_extension": ".py",
   "mimetype": "text/x-python",
   "name": "python",
   "nbconvert_exporter": "python",
   "pygments_lexer": "ipython3",
   "version": "3.8.8"
  }
 },
 "nbformat": 4,
 "nbformat_minor": 5
}

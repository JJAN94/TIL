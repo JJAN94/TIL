{
 "cells": [
  {
   "cell_type": "markdown",
   "id": "b2aade96-0876-4ec6-8b76-3fd7867323a0",
   "metadata": {},
   "source": [
    "## Datasets"
   ]
  },
  {
   "cell_type": "markdown",
   "id": "617e6883-9f8e-4b97-bb5a-55adbe5c7e97",
   "metadata": {},
   "source": [
    "### Dataset for Regression"
   ]
  },
  {
   "cell_type": "code",
   "execution_count": 9,
   "id": "a26c109e-eced-404e-ac6b-1239ee19666b",
   "metadata": {},
   "outputs": [
    {
     "name": "stdout",
     "output_type": "stream",
     "text": [
      "tf.Tensor([1. 2. 3. 4. 5.], shape=(5,), dtype=float32)\n",
      "tf.Tensor([10.], shape=(1,), dtype=float32)\n",
      "(8, 5) (5,) (1,)\n",
      "X(shape/dtype/data) : (8, 5) / <dtype: 'float32'> \n",
      " [[ 0.9294752   1.0177284  -0.30998325 -0.9168815  -0.66304183]\n",
      " [ 0.75697744  0.08235194 -0.6127066   0.03621611 -0.19571032]\n",
      " [ 0.34465265  0.81499356  0.16096525 -0.8121959   0.20145288]\n",
      " [ 0.58444023  0.55319464  0.07058022 -1.5833507   0.83435035]\n",
      " [-0.50136656  0.32147667 -0.8526636   0.27233377 -0.7743801 ]\n",
      " [ 0.29251987 -0.84317183  0.97850126 -0.92248344 -0.76674545]\n",
      " [-0.03896893 -0.23514386 -1.0528487   1.3588032   1.3516098 ]\n",
      " [-0.65263367 -1.0907557  -0.56340176 -0.08471547 -0.14236042]] \n",
      "\n",
      "Y(shape/dtype/data) : (8,) / <dtype: 'float32'> \n",
      " [ 5.052247   8.249874  10.216017   9.740919   4.8010306  4.0180187\n",
      " 18.52546    4.4249854] \n",
      "\n"
     ]
    }
   ],
   "source": [
    "import tensorflow as tf\n",
    "\n",
    "N, n_feature = 8, 5\n",
    "t_weights = tf.constant([1,2,3,4,5], dtype=tf.float32)\n",
    "t_bias = tf.constant([10], dtype=tf.float32)\n",
    "\n",
    "print(t_weights)\n",
    "print(t_bias)\n",
    "\n",
    "X = tf.random.normal(mean=0, stddev=1, shape=(N, n_feature))\n",
    "\n",
    "print(X.shape, t_weights.shape, t_bias.shape)\n",
    "\n",
    "Y = tf.reduce_sum(t_weights*X, axis=1) + t_bias # broadcasting\n",
    "# print(X)\n",
    "# print(Y, Y.shape)\n",
    "\n",
    "print(\"X(shape/dtype/data) : {} / {} \\n {} \\n\".format(X.shape, X.dtype, X.numpy()))\n",
    "print(\"Y(shape/dtype/data) : {} / {} \\n {} \\n\".format(Y.shape, Y.dtype, Y.numpy()))"
   ]
  },
  {
   "cell_type": "markdown",
   "id": "80bb0120-67f3-49b1-9770-86b8e58b7e23",
   "metadata": {},
   "source": [
    "### Dataset for Binary Classification"
   ]
  },
  {
   "cell_type": "code",
   "execution_count": 12,
   "id": "45aed57a-d576-4fcd-9529-82eeb368e731",
   "metadata": {},
   "outputs": [
    {
     "name": "stdout",
     "output_type": "stream",
     "text": [
      "tf.Tensor(\n",
      "[ 6.050635  17.860588   8.248819  12.633389  10.683201  17.31214\n",
      "  0.986187   3.4585495], shape=(8,), dtype=float32)\n",
      "tf.Tensor([ True  True  True  True  True  True False False], shape=(8,), dtype=bool)\n",
      "tf.Tensor([1 1 1 1 1 1 0 0], shape=(8,), dtype=int32)\n",
      "X(shape/dtype/data) : (8, 5) / <dtype: 'float32'> \n",
      " [[ 0.15285134 -0.94824874 -1.6259047   0.00973548  0.5266107 ]\n",
      " [ 1.3020512  -1.1216257   0.73680294 -0.3176875   1.5724258 ]\n",
      " [-0.49726483 -1.3416476   2.1626022   0.05725131 -1.0574865 ]\n",
      " [-1.5731667   1.8230948  -1.4871185   0.5720002   0.54674417]\n",
      " [-0.33870012  0.44333857 -1.1408952   0.4173194   0.37772632]\n",
      " [ 0.73889077 -0.28128654  1.2820481   0.5827753   0.19171526]\n",
      " [ 1.4523222  -1.8010404  -1.209543    0.22571793 -0.82765937]\n",
      " [ 0.1814625   0.4208838   1.0339922  -0.8231317  -1.4748261 ]] \n",
      "\n",
      "Y(shape/dtype/data) : (8,) / <dtype: 'int32'> \n",
      " [1 1 1 1 1 1 0 0] \n",
      "\n"
     ]
    }
   ],
   "source": [
    "import tensorflow as tf\n",
    "\n",
    "N, n_feature = 8, 5\n",
    "t_weights = tf.constant([1,2,3,4,5], dtype=tf.float32)\n",
    "t_bias = tf.constant([10], dtype=tf.float32)\n",
    "\n",
    "X = tf.random.normal(mean=0, stddev=1, shape=(N, n_feature))\n",
    "Y = tf.reduce_sum(t_weights*X, axis=1) + t_bias # broadcasting\n",
    "print(Y)\n",
    "Y = Y > 5\n",
    "print(Y)\n",
    "Y = tf.cast(Y, tf.int32) # type을 바꿔줌 True=1, False=0으로 값 변환\n",
    "print(Y)\n",
    "\n",
    "print(\"X(shape/dtype/data) : {} / {} \\n {} \\n\".format(X.shape, X.dtype, X.numpy()))\n",
    "print(\"Y(shape/dtype/data) : {} / {} \\n {} \\n\".format(Y.shape, Y.dtype, Y.numpy()))"
   ]
  },
  {
   "cell_type": "markdown",
   "id": "85df3778-e800-4e0d-aeab-8e3ff99ac5ba",
   "metadata": {},
   "source": [
    "### Dataset for Multi-class Classification"
   ]
  },
  {
   "cell_type": "code",
   "execution_count": 28,
   "id": "1f22f032-403e-4ee6-ab2a-d542320686cf",
   "metadata": {},
   "outputs": [
    {
     "name": "stdout",
     "output_type": "stream",
     "text": [
      "X(shape/dtype/data) : (24, 2) / <dtype: 'float32'> \n",
      " [[  3.6687741   -2.1953244 ]\n",
      " [  3.391407    -4.026041  ]\n",
      " [  3.5418901   -0.42897487]\n",
      " [  4.0312514   -5.1642513 ]\n",
      " [  6.6926155   -0.6527107 ]\n",
      " [  6.043005    -4.0923605 ]\n",
      " [  4.845619    -2.826283  ]\n",
      " [  5.5485215   -2.6475072 ]\n",
      " [ 10.474032   -11.654938  ]\n",
      " [ 12.2980995  -10.432394  ]\n",
      " [  9.327595    -9.842966  ]\n",
      " [ 10.265205    -7.8294706 ]\n",
      " [  9.828327    -7.4140015 ]\n",
      " [ 11.050017    -9.495505  ]\n",
      " [  9.480305    -8.388517  ]\n",
      " [ 10.933713   -11.403793  ]\n",
      " [-12.938102    12.675192  ]\n",
      " [-11.035796    11.337738  ]\n",
      " [-13.752049    13.671206  ]\n",
      " [-12.008082    10.964688  ]\n",
      " [-12.439557    12.833715  ]\n",
      " [-10.58338     11.289525  ]\n",
      " [-13.216717    10.959765  ]\n",
      " [-11.461508    11.427156  ]] \n",
      "\n",
      "Y(shape/dtype/data) : (24, 1) / <dtype: 'int32'> \n",
      " [[0]\n",
      " [0]\n",
      " [0]\n",
      " [0]\n",
      " [0]\n",
      " [0]\n",
      " [0]\n",
      " [0]\n",
      " [1]\n",
      " [1]\n",
      " [1]\n",
      " [1]\n",
      " [1]\n",
      " [1]\n",
      " [1]\n",
      " [1]\n",
      " [2]\n",
      " [2]\n",
      " [2]\n",
      " [2]\n",
      " [2]\n",
      " [2]\n",
      " [2]\n",
      " [2]] \n",
      "\n"
     ]
    },
    {
     "data": {
      "image/png": "[encoded data removed]",
      "text/plain": [
       "<Figure size 360x360 with 1 Axes>"
      ]
     },
     "metadata": {
      "needs_background": "light"
     },
     "output_type": "display_data"
    }
   ],
   "source": [
    "import tensorflow as tf\n",
    "import matplotlib.pyplot as plt\n",
    "plt.style.use('seaborn')\n",
    "%matplotlib inline\n",
    "\n",
    "N, n_feature = 8, 2\n",
    "n_class = 3\n",
    "\n",
    "X = tf.zeros(shape=(0, n_feature))\n",
    "Y = tf.zeros(shape=(0, 1), dtype=tf.int32)\n",
    "\n",
    "fig, ax = plt.subplots(figsize=(5,5))\n",
    "for class_idx in range(n_class):\n",
    "    center = tf.random.uniform(minval=-15, maxval=15, shape=(2, ))\n",
    "  \n",
    "    \n",
    "    x1 = center[0] + tf.random.normal(shape=(N, 1))\n",
    "    x2 = center[1] + tf.random.normal(shape=(N, 1))\n",
    "#     ax.scatter(x1.numpy(), x2.numpy())\n",
    "    \n",
    "    x = tf.concat((x1, x2), axis=1)\n",
    "    y = class_idx*tf.ones(shape=(N, 1), dtype=tf.int32)\n",
    "\n",
    "    ax.scatter(x[:, 0].numpy(), x[:, 1].numpy(), alpha=0.3)\n",
    "    \n",
    "    X = tf.concat((X, x), axis=0)\n",
    "    Y = tf.concat((Y, y), axis=0)\n",
    "print(\"X(shape/dtype/data) : {} / {} \\n {} \\n\".format(X.shape, X.dtype, X.numpy()))\n",
    "print(\"Y(shape/dtype/data) : {} / {} \\n {} \\n\".format(Y.shape, Y.dtype, Y.numpy()))\n",
    "    "
   ]
  },
  {
   "cell_type": "code",
   "execution_count": 30,
   "id": "91375f1e-8e8e-4c28-ae1e-d6fcb9ea18b0",
   "metadata": {},
   "outputs": [
    {
     "name": "stdout",
     "output_type": "stream",
     "text": [
      "X(shape/dtype/data) : (24, 2) / <dtype: 'float32'> \n",
      " [[ 0.06072181 13.181484  ]\n",
      " [ 0.6470645  12.771506  ]\n",
      " [ 1.1459479  11.168035  ]\n",
      " [ 1.723537   11.355774  ]\n",
      " [ 2.4169683  11.266016  ]\n",
      " [-1.7341795  12.272796  ]\n",
      " [-0.3067007  11.581479  ]\n",
      " [ 0.01798761 11.752994  ]\n",
      " [ 2.5155444   3.745592  ]\n",
      " [ 2.0911512   3.3938732 ]\n",
      " [ 1.9773973   1.3979216 ]\n",
      " [ 2.7077713   2.819682  ]\n",
      " [ 2.9643722   1.6382776 ]\n",
      " [ 1.8822967   3.5302837 ]\n",
      " [ 0.90230167  3.7411778 ]\n",
      " [ 4.2194753   4.3454566 ]\n",
      " [11.59321    -0.64630485]\n",
      " [14.335286   -2.0936725 ]\n",
      " [13.655817   -0.02869999]\n",
      " [12.685788   -2.066312  ]\n",
      " [13.350653   -2.4148357 ]\n",
      " [11.49265    -3.6907883 ]\n",
      " [14.046934   -3.2749014 ]\n",
      " [12.989378   -0.23642755]] \n",
      "\n",
      "Y(shape/dtype/data) : (24, 3) / <dtype: 'int32'> \n",
      " [[1 0 0]\n",
      " [1 0 0]\n",
      " [1 0 0]\n",
      " [1 0 0]\n",
      " [1 0 0]\n",
      " [1 0 0]\n",
      " [1 0 0]\n",
      " [1 0 0]\n",
      " [0 1 0]\n",
      " [0 1 0]\n",
      " [0 1 0]\n",
      " [0 1 0]\n",
      " [0 1 0]\n",
      " [0 1 0]\n",
      " [0 1 0]\n",
      " [0 1 0]\n",
      " [0 0 1]\n",
      " [0 0 1]\n",
      " [0 0 1]\n",
      " [0 0 1]\n",
      " [0 0 1]\n",
      " [0 0 1]\n",
      " [0 0 1]\n",
      " [0 0 1]] \n",
      "\n"
     ]
    },
    {
     "data": {
      "image/png": "[encoded data removed]",
      "text/plain": [
       "<Figure size 360x360 with 1 Axes>"
      ]
     },
     "metadata": {
      "needs_background": "light"
     },
     "output_type": "display_data"
    }
   ],
   "source": [
    "# One-Hot Encoding\n",
    "\n",
    "import tensorflow as tf\n",
    "import matplotlib.pyplot as plt\n",
    "plt.style.use('seaborn')\n",
    "%matplotlib inline\n",
    "\n",
    "N, n_feature = 8, 2\n",
    "n_class = 3\n",
    "\n",
    "X = tf.zeros(shape=(0, n_feature))\n",
    "Y = tf.zeros(shape=(0, ), dtype=tf.int32) # one-hot이려면 shape가 행렬이면 안됨. 벡터여야함\n",
    "\n",
    "fig, ax = plt.subplots(figsize=(5,5))\n",
    "for class_idx in range(n_class):\n",
    "    center = tf.random.uniform(minval=-15, maxval=15, shape=(2, ))\n",
    "  \n",
    "    \n",
    "    x1 = center[0] + tf.random.normal(shape=(N, 1))\n",
    "    x2 = center[1] + tf.random.normal(shape=(N, 1))\n",
    "#     ax.scatter(x1.numpy(), x2.numpy())\n",
    "    \n",
    "    x = tf.concat((x1, x2), axis=1)\n",
    "    y = class_idx*tf.ones(shape=(N, ), dtype=tf.int32) # 여기도 shape=벡터로\n",
    "\n",
    "    ax.scatter(x[:, 0].numpy(), x[:, 1].numpy(), alpha=0.3)\n",
    "    \n",
    "    X = tf.concat((X, x), axis=0)\n",
    "    Y = tf.concat((Y, y), axis=0)\n",
    "\n",
    "Y = tf.one_hot(Y, depth=n_class, dtype=tf.int32)\n",
    "print(\"X(shape/dtype/data) : {} / {} \\n {} \\n\".format(X.shape, X.dtype, X.numpy()))\n",
    "print(\"Y(shape/dtype/data) : {} / {} \\n {} \\n\".format(Y.shape, Y.dtype, Y.numpy()))\n",
    "    "
   ]
  },
  {
   "cell_type": "markdown",
   "id": "4fb636ab-b67c-4da3-8f66-2b10c11a904e",
   "metadata": {},
   "source": [
    "### Dataset Objects"
   ]
  },
  {
   "cell_type": "code",
   "execution_count": 35,
   "id": "d4cd7e42-67a3-45ea-91eb-dbd3c243a62c",
   "metadata": {},
   "outputs": [
    {
     "name": "stdout",
     "output_type": "stream",
     "text": [
      "<TensorSliceDataset shapes: ((5,), ()), types: (tf.float32, tf.float32)>\n",
      "(32, 5) (32,)\n",
      "(32, 5) (32,)\n",
      "(32, 5) (32,)\n",
      "(4, 5) (4,)\n"
     ]
    }
   ],
   "source": [
    "import tensorflow as tf\n",
    "\n",
    "N, n_feature = 100, 5\n",
    "batch_size = 32\n",
    "\n",
    "t_weights = tf.constant([1,2,3,4,5], dtype=tf.float32)\n",
    "t_bias = tf.constant([10], dtype=tf.float32)\n",
    "\n",
    "X = tf.random.normal(mean=0, stddev=1, shape=(N, n_feature))\n",
    "Y = tf.reduce_sum(t_weights*X, axis=1) + t_bias\n",
    "\n",
    "# print(range(N // batch_size))\n",
    "# for batch_idx in range(N // batch_size):\n",
    "#     x = X[batch_idx * batch_size : (batch_idx + 1)*batch_size, ...]\n",
    "#     y = Y[batch_idx * batch_size : (batch_idx + 1)*batch_size, ...]\n",
    "    \n",
    "dataset = tf.data.Dataset.from_tensor_slices((X, Y)) # 데이터셋 만들어주는  api중 하나\n",
    "print(dataset)\n",
    "\n",
    "dataset = dataset.batch(batch_size).shuffle(100)\n",
    "\n",
    "for x, y in dataset:\n",
    "    print(x.shape, y.shape)\n"
   ]
  },
  {
   "cell_type": "markdown",
   "id": "fcd42a0b-1a2b-418d-9857-f1744ad13744",
   "metadata": {},
   "source": [
    "input pipeline을 만드는 것도 엄청 중요하다!!!"
   ]
  },
  {
   "cell_type": "code",
   "execution_count": null,
   "id": "6336341d-6241-43f3-9e95-c6ddd6c72162",
   "metadata": {},
   "outputs": [],
   "source": []
  },
  {
   "cell_type": "code",
   "execution_count": null,
   "id": "324774a9-83c1-4de9-b300-ebfa9e7f97ac",
   "metadata": {},
   "outputs": [],
   "source": []
  },
  {
   "cell_type": "code",
   "execution_count": null,
   "id": "b4dd88bd-672c-4cb5-b0a0-d94335958388",
   "metadata": {},
   "outputs": [],
   "source": []
  }
 ],
 "metadata": {
  "kernelspec": {
   "display_name": "tensor",
   "language": "python",
   "name": "tensor"
  },
  "language_info": {
   "codemirror_mode": {
    "name": "ipython",
    "version": 3
   },
   "file_extension": ".py",
   "mimetype": "text/x-python",
   "name": "python",
   "nbconvert_exporter": "python",
   "pygments_lexer": "ipython3",
   "version": "3.8.11"
  }
 },
 "nbformat": 4,
 "nbformat_minor": 5
}

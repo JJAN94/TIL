{
 "cells": [
  {
   "cell_type": "markdown",
   "id": "f84ec53b-0195-4fce-9707-bd8d75c9977b",
   "metadata": {},
   "source": [
    "# SLP (Single Layer Perceptron)\n",
    "- 단층 퍼셉트론\n",
    "- 간단한 구조지만 여러 고급 신경망 구조의 기본 요소\n",
    "- 고급 신경망의 복합 구조를 이해하는데 도움이 되는 기본 구조"
   ]
  },
  {
   "cell_type": "markdown",
   "id": "bd568bf8-3d17-493c-8284-e4a54aa821a2",
   "metadata": {},
   "source": [
    "# 필요 개념"
   ]
  },
  {
   "cell_type": "markdown",
   "id": "61c59f9d-95d1-4ad5-8c02-91c9bcfd25f9",
   "metadata": {},
   "source": [
    "## 1. 모델 파라미터(Model Parameter)\n",
    "- 학습 과정 중에 끊임없이 변경되어 가면서 퍼셉트론의 동작 특성을 결정하는 값들을 파라미터라고 한다.\n",
    "- 딥러닝의 핵심이 파라미터를 구하는 것(가중치, 편향)\n",
    "- 하이퍼파라미터와는 구분하자"
   ]
  },
  {
   "cell_type": "markdown",
   "id": "6cc08a80-7fcf-4677-a8fd-15852ae3cadf",
   "metadata": {},
   "source": [
    "## 2. 텐서(tensor)\n",
    "- 다차원 숫자 배열"
   ]
  },
  {
   "cell_type": "markdown",
   "id": "52dce2ad-ead3-431c-a482-9d47d49be209",
   "metadata": {},
   "source": [
    "## 3. 미니배치(Mini batch)\n",
    "- 딥러닝에서 신경망이 여러 데이터를 한꺼번에 처리하게 해주는 단위"
   ]
  },
  {
   "cell_type": "markdown",
   "id": "e8db68cb-0dc0-4679-946c-ed5aaeb9c3c8",
   "metadata": {},
   "source": [
    "## 4. 하이퍼 파라미터(Hyper Parameter)\n",
    "- 에포크, 미니배치 크기처럼 학습 과정에서 변경되지 않으면서 신경망 구조나 학습 결과에 영향을 미치는 고려 요인들\n",
    "- 문제 유형, 신경망 구조, 데이터양, 학습 결과 등을 종합적으로 보아 하이퍼 파라미터 값을 지정해줘야한다.\n",
    "- 학습 결과에 큰 영향을 미침"
   ]
  },
  {
   "cell_type": "markdown",
   "id": "74c4c243-e920-4661-8335-a6325fa4f6a9",
   "metadata": {},
   "source": [
    "## 5. MSE (Mean Squared Error)\n",
    "- 평균 제곱 오차\n",
    "- 회귀 분석에서 추정값이 얼마나 정확한지 평가할 때 쓰이는 지표\n",
    "- 항상 0이상의 값을 가지며, 0에 가까워질 수록 오차가 적어 진다는 의미.\n",
    "- 추정이 100프로면 0값을 가진다."
   ]
  },
  {
   "cell_type": "markdown",
   "id": "f0c65196-8547-457c-936f-a012a8725f6b",
   "metadata": {},
   "source": [
    "## 6. 경사하강법(Gradient Descent)\n",
    "- 미니배치 입력 데이터에 대해 순전파와 역전파 과정을 번갈아 수행하는 과정을 반복하면서 신경망 파라미터들을 원하는 방향으로 바꾸는 알고리즘\n",
    "- Forward propagation (순전파)\n",
    "    - 입력 데이터에 대해 신경망 구조를 따라가면서 현재의 퍼라미터값들을 이용해 손실 함수값을 계산하는 과정\n",
    "- Backward Propagation (역전파)\n",
    "    - 순전파 계산 과정의 역순으로 거슬러올라가면서 손실 함수값에 직간접적으로 영향을 미친 모든 성분에 대해 손실 기울기를 계산하는 과정"
   ]
  },
  {
   "cell_type": "markdown",
   "id": "db220054-56ab-4c18-a502-a98787435c76",
   "metadata": {},
   "source": [
    "# Memo\n",
    "- 딥러닝 프로그램의 효율을 높이려면 최대한 반복문 사용을 피하고 텐서 연산을 이용해 처리하는 것이 중요하다는 점을 명심하자.\n",
    "- 딥러닝은 기본적으로 가변 파라미터를 갖는 신경망 구조를 설정한 후 학습을 통해 파라미터값들을 조절하여 신경망이 원하는 동작을 수행하도록 만드는 인공지능 기법이다."
   ]
  },
  {
   "cell_type": "markdown",
   "id": "385a278f-b801-4717-b0b2-3237070fb08d",
   "metadata": {},
   "source": [
    "# SLP 구현\n",
    "## 임포트"
   ]
  },
  {
   "cell_type": "code",
   "execution_count": 4,
   "id": "0e9a636f-64cd-46b5-a143-a652dfe9fb89",
   "metadata": {},
   "outputs": [],
   "source": [
    "import numpy as np\n",
    "import pandas as pd\n",
    "import time\n",
    "import csv\n",
    "\n",
    "np.random.seed(1234) # 일단 시드값을 1234로 주고 시작\n",
    "def randomize(): # 현재 시간을 난수발생 시드값으로 주는 함수\n",
    "    np.random.seed(time.time())"
   ]
  },
  {
   "cell_type": "markdown",
   "id": "7e8321eb-68b5-4b7e-a218-351aa03f3447",
   "metadata": {},
   "source": [
    "## 하이퍼파리미터 정의\n",
    "- RND_MEAN : 정규분포 난수의 평균\n",
    "- RND_STD : 정규분포 난수의 표준편차\n",
    "- LEARNING_RATE : 학습률"
   ]
  },
  {
   "cell_type": "code",
   "execution_count": 2,
   "id": "f1889395-efd4-4b45-8549-98588155a415",
   "metadata": {},
   "outputs": [],
   "source": [
    "RND_MEAN = 0\n",
    "RND_STD = 0.0030\n",
    "\n",
    "LEARNING_RATE = 0.001"
   ]
  },
  {
   "cell_type": "markdown",
   "id": "486e327d-d9ec-4b50-b7fc-4a717fd66819",
   "metadata": {},
   "source": [
    "## 메인함수 정의"
   ]
  },
  {
   "cell_type": "code",
   "execution_count": 3,
   "id": "2a584ed7-acb0-4fe0-a2a6-17c0958c3d47",
   "metadata": {},
   "outputs": [],
   "source": [
    "def abalone_exec(epoch_count=10, mb_size=10, report=1):\n",
    "    load_abalone_dataset() # 데이터셋 로드\n",
    "    init_model() # 파라미터 초기화\n",
    "    train_and_test(epoch_count, mb_size, report) # 학습 및 평가 수행"
   ]
  },
  {
   "cell_type": "markdown",
   "id": "d907f62f-d6c9-4b0a-8e81-c95178578702",
   "metadata": {},
   "source": [
    "## 데이터 적재 함수"
   ]
  },
  {
   "cell_type": "code",
   "execution_count": 25,
   "id": "5cad8a13-c220-424f-80fb-eff5fe451d18",
   "metadata": {},
   "outputs": [],
   "source": [
    "def load_abalone_dataset():\n",
    "    with open('../../data/concept/abalone.csv') as csvfile:\n",
    "        csvreader = csv.reader(csvfile)\n",
    "        next(csvreader, None) # csv파일의 헤더를 뛰어넘기위해서\n",
    "        rows = []\n",
    "        for row in csvreader:\n",
    "            rows.append(row)\n",
    "            \n",
    "    global data, input_cnt, output_cnt\n",
    "    input_cnt, output_cnt = 10, 1\n",
    "    data = np.zeros([len(rows), input_cnt+output_cnt])\n",
    "    \n",
    "    for n, row in enumerate(rows):\n",
    "        if row[0] == 'I' :\n",
    "            data[n, 0] = 1\n",
    "        if row[0] == 'M':\n",
    "            data[n, 1] = 1\n",
    "        if row[0] == 'F':\n",
    "            data[n, 2] = 1\n",
    "        data[n, 3:] = row[1:]"
   ]
  },
  {
   "cell_type": "markdown",
   "id": "d01a9f7c-588f-47b4-b3f4-84e307aa187e",
   "metadata": {},
   "source": [
    "## 파라미터 초기화 함수"
   ]
  },
  {
   "cell_type": "code",
   "execution_count": null,
   "id": "3f49f8bd-be3a-43b3-bd19-fbd93b8e402a",
   "metadata": {},
   "outputs": [],
   "source": [
    "def init_model():\n",
    "    global weight, bias, input_cnt, output_cnt\n",
    "    weight = np.random.normal(RND_MEAN, RND_STD, [input_cnt, output_cnt])\n",
    "    bias = np.zeros([output_cnt])"
   ]
  },
  {
   "cell_type": "code",
   "execution_count": 31,
   "id": "47c7dae8-a800-46f8-b098-54e91ece3812",
   "metadata": {},
   "outputs": [
    {
     "data": {
      "text/plain": [
       "array([ 0.    ,  1.    ,  0.    ,  0.455 ,  0.365 ,  0.095 ,  0.514 ,\n",
       "        0.2245,  0.101 ,  0.15  , 15.    ])"
      ]
     },
     "execution_count": 31,
     "metadata": {},
     "output_type": "execute_result"
    }
   ],
   "source": [
    "data[0]"
   ]
  },
  {
   "cell_type": "code",
   "execution_count": null,
   "id": "054093b6-2f11-4334-bee6-af3a3d3ed53b",
   "metadata": {},
   "outputs": [],
   "source": []
  }
 ],
 "metadata": {
  "kernelspec": {
   "display_name": "py-tensor",
   "language": "python",
   "name": "py-tensor"
  },
  "language_info": {
   "codemirror_mode": {
    "name": "ipython",
    "version": 3
   },
   "file_extension": ".py",
   "mimetype": "text/x-python",
   "name": "python",
   "nbconvert_exporter": "python",
   "pygments_lexer": "ipython3",
   "version": "3.8.12"
  }
 },
 "nbformat": 4,
 "nbformat_minor": 5
}

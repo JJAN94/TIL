{
 "cells": [
  {
   "cell_type": "markdown",
   "id": "c9c214b6-93a3-450a-aeeb-ed11d3f45aa3",
   "metadata": {},
   "source": [
    "# process\n",
    "1. 데이터 로드\n",
    "2. 신경망 구조 네트워크 정의\n",
    "3. 네트워크 컴파일\n",
    "4. 데이터 전처리(만든 모델(신경망 네트워크)에 맞게끔)\n",
    "5. 학습\n",
    "6. 검증"
   ]
  },
  {
   "cell_type": "markdown",
   "id": "789d3f96-d5e6-4c03-b015-1ce9bdd19b7a",
   "metadata": {},
   "source": [
    "## MNIST 데이터 로드"
   ]
  },
  {
   "cell_type": "code",
   "execution_count": 1,
   "id": "0615db57-9a12-4ee1-9540-c7b865846b61",
   "metadata": {},
   "outputs": [],
   "source": [
    "from tensorflow.keras.datasets import mnist"
   ]
  },
  {
   "cell_type": "code",
   "execution_count": 2,
   "id": "d50fd48e-24e2-4fad-b68f-d6d47443f2d7",
   "metadata": {},
   "outputs": [],
   "source": [
    "(train_images, train_labels), (test_images, test_labels) = mnist.load_data()"
   ]
  },
  {
   "cell_type": "code",
   "execution_count": 5,
   "id": "0b4d4031-2d46-4ed1-a64f-24fe2ab64f17",
   "metadata": {},
   "outputs": [
    {
     "name": "stdout",
     "output_type": "stream",
     "text": [
      "train images shape : (60000, 28, 28),  train label length : 60000\n",
      "test images shape : (10000, 28, 28),  test label length : 10000\n"
     ]
    }
   ],
   "source": [
    "print(f'train images shape : {train_images.shape},  train label length : {len(train_labels)}')\n",
    "print(f'test images shape : {test_images.shape},  test label length : {len(test_labels)}')"
   ]
  },
  {
   "cell_type": "markdown",
   "id": "5952286c-2b51-4e15-a821-f6287b44049e",
   "metadata": {},
   "source": [
    "## 신경망 구조 세우기"
   ]
  },
  {
   "cell_type": "code",
   "execution_count": 7,
   "id": "e80a63ec-9159-4219-9610-be6166e46a78",
   "metadata": {},
   "outputs": [],
   "source": [
    "from tensorflow.keras import models, layers"
   ]
  },
  {
   "cell_type": "code",
   "execution_count": 9,
   "id": "c1aecf28-20e2-462a-9187-98b5cab69118",
   "metadata": {},
   "outputs": [],
   "source": [
    "nn = models.Sequential()\n",
    "\n",
    "# dense layer는 FCL이다.\n",
    "# MNIST는 0~9까지 10개의 클래스가 있으므로 10과 분류를 위한 softmax를 주자\n",
    "nn.add(layers.Dense(512, activation='relu', input_shape=(28*28, )))\n",
    "nn.add(layers.Dense(10, activation='softmax'))"
   ]
  },
  {
   "cell_type": "markdown",
   "id": "3a1db2b9-cf76-480f-a18a-c7232070d81e",
   "metadata": {},
   "source": [
    "추가 필요 개념\n",
    "- 손실 함수(loss fucntion) : 훈련 데이터에서 신경망의 성능을 측정하는 방법으로 네트워크가 옳은 방향으로 학습될 수 있도록 도와준다.\n",
    "- 옵티마이저(optimizer) : 입력된 데이터와 손실 함수를 기반으로 네트워크를 업데이트하는 메커니즘\n",
    "- 훈련과 테스트 과정을 모니터링할 지표 : 여기에서는 정확도를 고려한다."
   ]
  },
  {
   "cell_type": "markdown",
   "id": "e6d153c2-bb49-4cb4-9500-c2617ac9c889",
   "metadata": {},
   "source": [
    "## 컴파일"
   ]
  },
  {
   "cell_type": "code",
   "execution_count": 10,
   "id": "70f05c2b-bda8-4d04-bd01-2419f299a360",
   "metadata": {},
   "outputs": [],
   "source": [
    "nn.compile(optimizer='rmsprop',\n",
    "               loss='categorical_crossentropy',\n",
    "               metrics=['accuracy'])"
   ]
  },
  {
   "cell_type": "markdown",
   "id": "2a0fd838-6125-4f07-9e34-9bc003016b14",
   "metadata": {},
   "source": [
    "## 전처리\n",
    "- 이미지의 pixel값을 0~1사이로 스케일 조정\n",
    "- 데이터 타입을 기본 타입은 float32로 재조정\n",
    "- 이미지 사이즈를 (60000, 28, 28)을 (60000, 28\\*28)로 조정\n",
    "- categorical_crossentropy를 쓰기위한 one-hot encoding 작업"
   ]
  },
  {
   "cell_type": "code",
   "execution_count": 11,
   "id": "db6870a6-e7b7-4573-9d01-85f48d0cf466",
   "metadata": {},
   "outputs": [],
   "source": [
    "train_images = train_images.reshape((60000, 28*28))\n",
    "train_images = train_images.astype('float32') / 255\n",
    "\n",
    "test_images = test_images.reshape((10000, 28*28))\n",
    "test_images = test_images.astype('float32') / 255"
   ]
  },
  {
   "cell_type": "code",
   "execution_count": 12,
   "id": "78a0c2c9-0677-41d0-ad3c-75ff23212447",
   "metadata": {},
   "outputs": [],
   "source": [
    "from tensorflow.keras.utils import to_categorical\n",
    "train_labels = to_categorical(train_labels)\n",
    "test_labels = to_categorical(test_labels)"
   ]
  },
  {
   "cell_type": "markdown",
   "id": "292ef1cc-9491-4067-9498-b0c30d68346f",
   "metadata": {},
   "source": [
    "## 학습"
   ]
  },
  {
   "cell_type": "code",
   "execution_count": 13,
   "id": "4f02743d-ea55-407d-b593-7808fa3390fd",
   "metadata": {},
   "outputs": [
    {
     "name": "stdout",
     "output_type": "stream",
     "text": [
      "Epoch 1/5\n",
      "469/469 [==============================] - 5s 5ms/step - loss: 0.2551 - accuracy: 0.9273\n",
      "Epoch 2/5\n",
      "469/469 [==============================] - 2s 5ms/step - loss: 0.1038 - accuracy: 0.9695\n",
      "Epoch 3/5\n",
      "469/469 [==============================] - 2s 5ms/step - loss: 0.0693 - accuracy: 0.9794\n",
      "Epoch 4/5\n",
      "469/469 [==============================] - 2s 5ms/step - loss: 0.0502 - accuracy: 0.9848\n",
      "Epoch 5/5\n",
      "469/469 [==============================] - 2s 5ms/step - loss: 0.0375 - accuracy: 0.9891\n"
     ]
    },
    {
     "data": {
      "text/plain": [
       "<keras.callbacks.History at 0x1ea222aa5e0>"
      ]
     },
     "execution_count": 13,
     "metadata": {},
     "output_type": "execute_result"
    }
   ],
   "source": [
    "nn.fit(train_images, train_labels, epochs=5, batch_size=128)"
   ]
  },
  {
   "cell_type": "markdown",
   "id": "f2709640-b54c-4471-8245-f3b9af21917a",
   "metadata": {},
   "source": [
    "## 검증"
   ]
  },
  {
   "cell_type": "code",
   "execution_count": 14,
   "id": "2133956f-604e-4255-83c8-30a0da1e4443",
   "metadata": {},
   "outputs": [
    {
     "name": "stdout",
     "output_type": "stream",
     "text": [
      "313/313 [==============================] - 1s 3ms/step - loss: 0.0686 - accuracy: 0.9804\n",
      "test_acc :  0.980400025844574\n"
     ]
    }
   ],
   "source": [
    "test_loss, test_acc = nn.evaluate(test_images, test_labels)\n",
    "print('test_acc : ', test_acc)"
   ]
  },
  {
   "cell_type": "code",
   "execution_count": null,
   "id": "0b778f75-d972-4fe9-9fa0-67febd02333b",
   "metadata": {},
   "outputs": [],
   "source": []
  }
 ],
 "metadata": {
  "kernelspec": {
   "display_name": "py-tensor",
   "language": "python",
   "name": "py-tensor"
  },
  "language_info": {
   "codemirror_mode": {
    "name": "ipython",
    "version": 3
   },
   "file_extension": ".py",
   "mimetype": "text/x-python",
   "name": "python",
   "nbconvert_exporter": "python",
   "pygments_lexer": "ipython3",
   "version": "3.8.12"
  }
 },
 "nbformat": 4,
 "nbformat_minor": 5
}

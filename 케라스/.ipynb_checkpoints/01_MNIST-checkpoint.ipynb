{
 "cells": [
  {
   "cell_type": "markdown",
   "id": "c9c214b6-93a3-450a-aeeb-ed11d3f45aa3",
   "metadata": {},
   "source": [
    "# process\n",
    "1. 데이터 적제\n",
    "2. 신경망 구조 네트워크 정의\n",
    "3. 네트워크 컴파일\n",
    "4. 학습\n",
    "5. 검증"
   ]
  },
  {
   "cell_type": "markdown",
   "id": "789d3f96-d5e6-4c03-b015-1ce9bdd19b7a",
   "metadata": {},
   "source": [
    "## MNIST 데이터 로드"
   ]
  },
  {
   "cell_type": "code",
   "execution_count": 1,
   "id": "0615db57-9a12-4ee1-9540-c7b865846b61",
   "metadata": {},
   "outputs": [],
   "source": [
    "from tensorflow.keras.datasets import mnist"
   ]
  },
  {
   "cell_type": "code",
   "execution_count": 2,
   "id": "d50fd48e-24e2-4fad-b68f-d6d47443f2d7",
   "metadata": {},
   "outputs": [],
   "source": [
    "(train_images, train_labels), (test_images, test_labels) = mnist.load_data()"
   ]
  },
  {
   "cell_type": "code",
   "execution_count": 5,
   "id": "0b4d4031-2d46-4ed1-a64f-24fe2ab64f17",
   "metadata": {},
   "outputs": [
    {
     "name": "stdout",
     "output_type": "stream",
     "text": [
      "train images shape : (60000, 28, 28),  train label length : 60000\n",
      "test images shape : (10000, 28, 28),  test label length : 10000\n"
     ]
    }
   ],
   "source": [
    "print(f'train images shape : {train_images.shape},  train label length : {len(train_labels)}')\n",
    "print(f'test images shape : {test_images.shape},  test label length : {len(test_labels)}')"
   ]
  },
  {
   "cell_type": "markdown",
   "id": "5952286c-2b51-4e15-a821-f6287b44049e",
   "metadata": {},
   "source": [
    "## 신경망 구조 세우기"
   ]
  },
  {
   "cell_type": "code",
   "execution_count": 7,
   "id": "e80a63ec-9159-4219-9610-be6166e46a78",
   "metadata": {},
   "outputs": [],
   "source": [
    "from tensorflow.keras import models, layers"
   ]
  },
  {
   "cell_type": "code",
   "execution_count": 9,
   "id": "c1aecf28-20e2-462a-9187-98b5cab69118",
   "metadata": {},
   "outputs": [],
   "source": [
    "nn = models.Sequential()\n",
    "\n",
    "# dense layer는 FCL이다.\n",
    "# MNIST는 0~9까지 10개의 클래스가 있으므로 10과 분류를 위한 softmax를 주자\n",
    "nn.add(layers.Dense(512, activation='relu', input_shape=(28*28, )))\n",
    "nn.add(layers.Dense(10, activation='softmax'))"
   ]
  },
  {
   "cell_type": "markdown",
   "id": "3a1db2b9-cf76-480f-a18a-c7232070d81e",
   "metadata": {},
   "source": [
    "추가 필요 개념\n",
    "- 손실 함수(loss fucntion) : 훈련 데이터에서 신경망의 성능을 측정하는 방법으로 네트워크가 옳은 방향으로 학습될 수 있도록 도와준다.\n",
    "- 옵티마이저(optimizer) : 입력된 데이터와 손실 함수를 기반으로 네트워크를 업데이트하는 메커니즘\n",
    "- 훈련과 테스트 과정을 모니터링할 지표 : 여기에서는 정확도를 고려한다."
   ]
  },
  {
   "cell_type": "code",
   "execution_count": null,
   "id": "f4add6a7-f632-4a05-9163-d952a764074c",
   "metadata": {},
   "outputs": [],
   "source": []
  }
 ],
 "metadata": {
  "kernelspec": {
   "display_name": "py-tensor",
   "language": "python",
   "name": "py-tensor"
  },
  "language_info": {
   "codemirror_mode": {
    "name": "ipython",
    "version": 3
   },
   "file_extension": ".py",
   "mimetype": "text/x-python",
   "name": "python",
   "nbconvert_exporter": "python",
   "pygments_lexer": "ipython3",
   "version": "3.8.12"
  }
 },
 "nbformat": 4,
 "nbformat_minor": 5
}

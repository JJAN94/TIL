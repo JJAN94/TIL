{
 "cells": [
  {
   "cell_type": "markdown",
   "metadata": {},
   "source": [
    "# simple 버전1"
   ]
  },
  {
   "cell_type": "code",
   "execution_count": 1,
   "metadata": {},
   "outputs": [],
   "source": [
    "from sklearn.datasets import load_boston\n",
    "boston = load_boston()"
   ]
  },
  {
   "cell_type": "code",
   "execution_count": 8,
   "metadata": {},
   "outputs": [],
   "source": [
    "X = boston.data\n",
    "y = boston.target\n",
    "A = X[:4, [0, 4, 5, 6]] # 'CRIM', 'NOX', 'RM', 'AGE'\n",
    "b = y[:4]"
   ]
  },
  {
   "cell_type": "code",
   "execution_count": 6,
   "metadata": {},
   "outputs": [
    {
     "name": "stdout",
     "output_type": "stream",
     "text": [
      "[[6.320e-03 5.380e-01 6.575e+00 6.520e+01]\n",
      " [2.731e-02 4.690e-01 6.421e+00 7.890e+01]\n",
      " [2.729e-02 4.690e-01 7.185e+00 6.110e+01]\n",
      " [3.237e-02 4.580e-01 6.998e+00 4.580e+01]]\n"
     ]
    }
   ],
   "source": [
    "print(X[:4, [0, 4, 5, 6]])"
   ]
  },
  {
   "cell_type": "code",
   "execution_count": 7,
   "metadata": {},
   "outputs": [],
   "source": [
    "import numpy as np"
   ]
  },
  {
   "cell_type": "code",
   "execution_count": 10,
   "metadata": {},
   "outputs": [
    {
     "name": "stderr",
     "output_type": "stream",
     "text": [
      "<ipython-input-10-da9427773f59>:1: FutureWarning: `rcond` parameter will change to the default of machine precision times ``max(M, N)`` where M and N are the input matrix dimensions.\n",
      "To use the future default and silence this warning we advise to pass `rcond=None`, to keep using the old, explicitly pass `rcond=-1`.\n",
      "  x, resid, rank, s = np.linalg.lstsq(A,b)\n"
     ]
    },
    {
     "data": {
      "text/plain": [
       "array([-3.12710043e+02, -1.15193942e+02,  1.44996465e+01, -1.13259317e-01])"
      ]
     },
     "execution_count": 10,
     "metadata": {},
     "output_type": "execute_result"
    }
   ],
   "source": [
    "# 가중치 x\n",
    "x, resid, rank, s = np.linalg.lstsq(A,b)\n",
    "x"
   ]
  },
  {
   "cell_type": "markdown",
   "metadata": {},
   "source": [
    "- CRIM 이 클수록 집 값은 down\n",
    "- NOX 가 클수록 집 값은 down\n",
    "- RM이 클수록 집값은 up\n",
    "- AGE가 클수록 집값은 down"
   ]
  },
  {
   "cell_type": "markdown",
   "metadata": {},
   "source": [
    "# simple 버전2"
   ]
  },
  {
   "cell_type": "code",
   "execution_count": 12,
   "metadata": {},
   "outputs": [
    {
     "name": "stderr",
     "output_type": "stream",
     "text": [
      "<ipython-input-12-179745b48e84>:3: FutureWarning: `rcond` parameter will change to the default of machine precision times ``max(M, N)`` where M and N are the input matrix dimensions.\n",
      "To use the future default and silence this warning we advise to pass `rcond=None`, to keep using the old, explicitly pass `rcond=-1`.\n",
      "  w, resid, rank, s = np.linalg.lstsq(X,y)\n"
     ]
    },
    {
     "data": {
      "text/plain": [
       "array([-9.28965170e-02,  4.87149552e-02, -4.05997958e-03,  2.85399882e+00,\n",
       "       -2.86843637e+00,  5.92814778e+00, -7.26933458e-03, -9.68514157e-01,\n",
       "        1.71151128e-01, -9.39621540e-03, -3.92190926e-01,  1.49056102e-02,\n",
       "       -4.16304471e-01])"
      ]
     },
     "execution_count": 12,
     "metadata": {},
     "output_type": "execute_result"
    }
   ],
   "source": [
    "X = boston.data\n",
    "y = boston.target\n",
    "w, resid, rank, s = np.linalg.lstsq(X,y)\n",
    "w"
   ]
  },
  {
   "cell_type": "markdown",
   "metadata": {},
   "source": [
    "- CRIM : 범죄율\n",
    "- INDUS : 비소매상업지역 면적 비율\n",
    "- NOX : 일산화질소 농도\n",
    "- RM : 주택당 방 수\n",
    "- LSTAT : 인구 중 하위 계층 비율\n",
    "- B : 인구 중 흑인 비율\n",
    "- PTRATIO : 학생/교사 비율\n",
    "- ZN : 25,000 평방피트를 초과 거주지역 비율\n",
    "- CHAS : 찰스강의 경계에 위치한 경우는1, 아니면 0\n",
    "- AGE : 1940년 이전에 건축된 주택의 비율\n",
    "- RAD : 방사형 고속도로까지의 거리\n",
    "- DIS : 보스톤 직업 센터 5곳까지의 가중평균거리\n",
    "- TAX : 재산세율"
   ]
  },
  {
   "cell_type": "code",
   "execution_count": null,
   "metadata": {},
   "outputs": [],
   "source": []
  }
 ],
 "metadata": {
  "kernelspec": {
   "display_name": "Python 3",
   "language": "python",
   "name": "python3"
  },
  "language_info": {
   "codemirror_mode": {
    "name": "ipython",
    "version": 3
   },
   "file_extension": ".py",
   "mimetype": "text/x-python",
   "name": "python",
   "nbconvert_exporter": "python",
   "pygments_lexer": "ipython3",
   "version": "3.8.3"
  }
 },
 "nbformat": 4,
 "nbformat_minor": 4
}

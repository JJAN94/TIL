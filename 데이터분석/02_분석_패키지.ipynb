{
 "cells": [
  {
   "cell_type": "markdown",
   "metadata": {
    "slideshow": {
     "slide_type": "slide"
    }
   },
   "source": [
    "# 기본 패키지"
   ]
  },
  {
   "cell_type": "markdown",
   "metadata": {
    "slideshow": {
     "slide_type": "slide"
    }
   },
   "source": [
    "### Numpy 패키지\n",
    "- 수치해석, 선형대수, 다차원 배열 클래스, 벡터화 연산 등 수학 연산 패키지\n",
    "```shell\n",
    "pip install numpy\n",
    "```\n",
    "```shell\n",
    "import numpy as np\n",
    "```"
   ]
  },
  {
   "cell_type": "markdown",
   "metadata": {
    "slideshow": {
     "slide_type": "slide"
    }
   },
   "source": [
    "### scipy 패키지\n",
    "- 고급 수학 함수, 수치 미적분, 미분 방적식, 최적화, 신호 처리 등\n",
    "```shell\n",
    "pip install scipy\n",
    "```\n",
    "```shell\n",
    "import scipy as sp\n",
    "```"
   ]
  },
  {
   "cell_type": "markdown",
   "metadata": {
    "slideshow": {
     "slide_type": "slide"
    }
   },
   "source": [
    "### Pandas 패키지\n",
    "- 데이터 프레임, 자료 탐색 및 정리\n",
    "```shell\n",
    "pip install pandas\n",
    "```\n",
    "```shell\n",
    "import pandas as pd\n",
    "```"
   ]
  },
  {
   "cell_type": "markdown",
   "metadata": {
    "slideshow": {
     "slide_type": "slide"
    }
   },
   "source": [
    "### matplotlib 패키지\n",
    "- 각종 그래프, 차트 등 시각화 기능 제공\n",
    "```shell\n",
    "pip install matplotlib\n",
    "```\n",
    "```shell\n",
    "import matplotlib.pylab as plt\n",
    "```"
   ]
  },
  {
   "cell_type": "markdown",
   "metadata": {
    "slideshow": {
     "slide_type": "slide"
    }
   },
   "source": [
    "### seaborn 패키지\n",
    "- 맷플롯립 패키지에서 지원하지 않는 고급 통계 차트 그리는 통계용 시각화 기능 제공\n",
    "```shell\n",
    "pip install seaborn\n",
    "```\n",
    "```shell\n",
    "import seaborn as sns\n",
    "```"
   ]
  },
  {
   "cell_type": "markdown",
   "metadata": {
    "slideshow": {
     "slide_type": "slide"
    }
   },
   "source": [
    "# 머신러닝 패키지"
   ]
  },
  {
   "cell_type": "markdown",
   "metadata": {
    "slideshow": {
     "slide_type": "slide"
    }
   },
   "source": [
    "### statsmodels 패키지\n",
    "- 추정 및 검정, 회귀분석, 시계열분석 등 제공\n",
    "- 제공 기능 일부\n",
    "    - 예제 데이터셋\n",
    "    - 검정 및 모수추정\n",
    "    - 회귀분석\n",
    "    - 선형회귀\n",
    "    - 강건회귀\n",
    "    - 일반화 선형모형\n",
    "    - 혼합효과모형\n",
    "    - 이산종속변수\n",
    "    - 시계열 분석\n",
    "    - SARIMAX 모형\n",
    "    - 상태공간 모형\n",
    "    - 벡터 AR 모형\n",
    "    - 생존분석\n",
    "    - 요인분석\n",
    "- statsmodels는 매우 복잡한 패키지, 이를 보기 좋은 인터페이스로 정리한게 api 서브패키지\n",
    "```shell\n",
    "pip install statsmodels\n",
    "```\n",
    "```shell\n",
    "import statsmodels.api as sm\n",
    "```\n"
   ]
  },
  {
   "cell_type": "markdown",
   "metadata": {
    "slideshow": {
     "slide_type": "slide"
    }
   },
   "source": [
    "### scikit-learn 패키지\n",
    "- 머신러닝 교육 패키지\n",
    "- 제공 모형 목록\n",
    "    - 데이터셋\n",
    "        - 회귀분석, 분류, 클러스터링 용 가상 데이터셋 생성\n",
    "        - 각종 벤치마크 데이터셋\n",
    "    - 전처리\n",
    "        - 스케일링\n",
    "        - 누락데이터 처리\n",
    "        - 텍스트 토큰화\n",
    "    - 지도학습\n",
    "        - 회귀분석\n",
    "        - LDA/QDA\n",
    "        - 서포트벡터머신\n",
    "        - 퍼셉트론, SGD\n",
    "        - KNN\n",
    "        - 가우스프로세스\n",
    "        - 나이브베이즈\n",
    "        - 의사결정나무\n",
    "        - 랜덤포레스트, 부스팅\n",
    "    - 비지도학습\n",
    "        - 가우스 혼합모형\n",
    "        - 클러스터링\n",
    "        - PCA\n",
    "    - 성능 최적화\n",
    "    - 교차검증\n",
    "    - 특징선택\n",
    "    - 하이퍼파라미터 최적화\n",
    "    \n",
    "    ```shell\n",
    "    pip install sklearn\n",
    "    ```\n",
    "    ```shell\n",
    "    import sklearn as sk\n",
    "    ```"
   ]
  },
  {
   "cell_type": "markdown",
   "metadata": {
    "slideshow": {
     "slide_type": "slide"
    }
   },
   "source": [
    "# 전처리 패키지"
   ]
  },
  {
   "cell_type": "markdown",
   "metadata": {
    "slideshow": {
     "slide_type": "slide"
    }
   },
   "source": [
    "### missingno 패키지\n",
    "- pandas 데이터프레임 데이터 결측값 찾기, 시각화 기능 제공\n",
    "```shell\n",
    "pip install missingno\n",
    "```"
   ]
  },
  {
   "cell_type": "markdown",
   "metadata": {
    "slideshow": {
     "slide_type": "slide"
    }
   },
   "source": [
    "### patsy 패키지\n",
    "- pandas 데이터프레임 데이터에서 선택, 변형 기능 제공\n",
    "- statsmodels에 설치되어있음"
   ]
  },
  {
   "cell_type": "markdown",
   "metadata": {
    "slideshow": {
     "slide_type": "slide"
    }
   },
   "source": [
    "# NLP 패키지"
   ]
  },
  {
   "cell_type": "markdown",
   "metadata": {
    "slideshow": {
     "slide_type": "slide"
    }
   },
   "source": [
    "### nltk 패키지\n",
    "### spacy 패키지\n",
    "### gensim 패키지\n",
    "### konlpy 패키지(한글 텍스트)\n",
    "### soynlp 패키지(한글 텍스트)"
   ]
  },
  {
   "cell_type": "markdown",
   "metadata": {
    "slideshow": {
     "slide_type": "slide"
    }
   },
   "source": [
    "# 이미지 전처리 패키지"
   ]
  },
  {
   "cell_type": "markdown",
   "metadata": {
    "slideshow": {
     "slide_type": "slide"
    }
   },
   "source": [
    "### openCV 패키지"
   ]
  },
  {
   "cell_type": "markdown",
   "metadata": {
    "slideshow": {
     "slide_type": "slide"
    }
   },
   "source": [
    "# 사운드 전처리 패키지"
   ]
  },
  {
   "cell_type": "markdown",
   "metadata": {
    "slideshow": {
     "slide_type": "slide"
    }
   },
   "source": [
    "### librosa 패키지"
   ]
  },
  {
   "cell_type": "markdown",
   "metadata": {
    "slideshow": {
     "slide_type": "slide"
    }
   },
   "source": [
    "# 지리정보 전처리 패키지"
   ]
  },
  {
   "cell_type": "markdown",
   "metadata": {
    "slideshow": {
     "slide_type": "slide"
    }
   },
   "source": [
    "### geopandas 패키지"
   ]
  },
  {
   "cell_type": "code",
   "execution_count": null,
   "metadata": {
    "slideshow": {
     "slide_type": "slide"
    }
   },
   "outputs": [],
   "source": []
  }
 ],
 "metadata": {
  "celltoolbar": "Slideshow",
  "kernelspec": {
   "display_name": "Python 3",
   "language": "python",
   "name": "python3"
  },
  "language_info": {
   "codemirror_mode": {
    "name": "ipython",
    "version": 3
   },
   "file_extension": ".py",
   "mimetype": "text/x-python",
   "name": "python",
   "nbconvert_exporter": "python",
   "pygments_lexer": "ipython3",
   "version": "3.8.3"
  }
 },
 "nbformat": 4,
 "nbformat_minor": 4
}

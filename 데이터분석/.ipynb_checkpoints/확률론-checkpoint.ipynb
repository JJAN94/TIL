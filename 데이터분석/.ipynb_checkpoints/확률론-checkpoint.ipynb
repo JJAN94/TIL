{
 "cells": [
  {
   "cell_type": "code",
   "execution_count": 8,
   "metadata": {},
   "outputs": [
    {
     "ename": "TypeError",
     "evalue": "unhashable type: 'list'",
     "output_type": "error",
     "traceback": [
      "\u001b[1;31m---------------------------------------------------------------------------\u001b[0m",
      "\u001b[1;31mTypeError\u001b[0m                                 Traceback (most recent call last)",
      "\u001b[1;32m<ipython-input-8-454bb703f3a4>\u001b[0m in \u001b[0;36m<module>\u001b[1;34m\u001b[0m\n\u001b[0;32m      1\u001b[0m \u001b[0mx\u001b[0m \u001b[1;33m=\u001b[0m \u001b[1;33m[\u001b[0m\u001b[1;36m1\u001b[0m\u001b[1;33m,\u001b[0m\u001b[1;36m2\u001b[0m\u001b[1;33m,\u001b[0m\u001b[1;36m3\u001b[0m\u001b[1;33m,\u001b[0m\u001b[1;36m4\u001b[0m\u001b[1;33m,\u001b[0m\u001b[1;36m5\u001b[0m\u001b[1;33m,\u001b[0m\u001b[1;36m4\u001b[0m\u001b[1;33m,\u001b[0m\u001b[1;36m5\u001b[0m\u001b[1;33m]\u001b[0m\u001b[1;33m\u001b[0m\u001b[1;33m\u001b[0m\u001b[0m\n\u001b[1;32m----> 2\u001b[1;33m \u001b[0mA\u001b[0m \u001b[1;33m=\u001b[0m \u001b[0mset\u001b[0m\u001b[1;33m(\u001b[0m\u001b[1;33m[\u001b[0m\u001b[0mx\u001b[0m\u001b[1;33m]\u001b[0m\u001b[1;33m)\u001b[0m\u001b[1;33m\u001b[0m\u001b[1;33m\u001b[0m\u001b[0m\n\u001b[0m",
      "\u001b[1;31mTypeError\u001b[0m: unhashable type: 'list'"
     ]
    }
   ],
   "source": [
    "x = [1,2,3,4,5,4,5]\n",
    "A = set([x]) # 리스트 넣으면 에러남\n",
    "# unhasahble type 이란게 mutable type이라는 말이다"
   ]
  },
  {
   "cell_type": "code",
   "execution_count": 7,
   "metadata": {},
   "outputs": [
    {
     "data": {
      "text/plain": [
       "{1, 2, 3, 4, 5}"
      ]
     },
     "execution_count": 7,
     "metadata": {},
     "output_type": "execute_result"
    }
   ],
   "source": [
    "A # set안에는 리스트를 못쓴다."
   ]
  },
  {
   "cell_type": "code",
   "execution_count": 10,
   "metadata": {},
   "outputs": [
    {
     "name": "stdout",
     "output_type": "stream",
     "text": [
      "{(1, 2, 3, 4, 5, 4, 5)}\n"
     ]
    }
   ],
   "source": [
    "y = (1,2,3,4,5,4,5)\n",
    "B = set([y])\n",
    "print(B) # tuple은 에러 안남"
   ]
  },
  {
   "cell_type": "markdown",
   "metadata": {},
   "source": [
    "#### 6.1.1"
   ]
  },
  {
   "cell_type": "code",
   "execution_count": 15,
   "metadata": {},
   "outputs": [
    {
     "data": {
      "text/plain": [
       "{frozenset(),\n",
       " frozenset({'HH', 'HT', 'TH'}),\n",
       " frozenset({'TT'}),\n",
       " frozenset({'TH', 'TT'}),\n",
       " frozenset({'HT'}),\n",
       " frozenset({'HT', 'TT'}),\n",
       " frozenset({'HH', 'HT'}),\n",
       " frozenset({'HH', 'TT'}),\n",
       " frozenset({'HH', 'HT', 'TT'}),\n",
       " frozenset({'HH', 'HT', 'TH', 'TT'}),\n",
       " frozenset({''}),\n",
       " frozenset({'TH'}),\n",
       " frozenset({'HH'}),\n",
       " frozenset({'HH', 'TH'}),\n",
       " frozenset({'HT', 'TH'}),\n",
       " frozenset({'HT', 'TH', 'TT'})}"
      ]
     },
     "execution_count": 15,
     "metadata": {},
     "output_type": "execute_result"
    }
   ],
   "source": [
    "A1 = frozenset([])\n",
    "A2 = frozenset(['HH'])\n",
    "A3 = frozenset(['HT'])\n",
    "A4 = frozenset(['TH'])\n",
    "A5 = frozenset(['TT'])\n",
    "A6 = frozenset(['HH', 'HT'])\n",
    "A7 = frozenset(['HH', 'TH'])\n",
    "A8 = frozenset(['HH', 'TT'])\n",
    "A9 = frozenset(['HT', 'TH'])\n",
    "A10 = frozenset(['HT', 'TT'])\n",
    "A11 = frozenset(['TH', 'TT'])\n",
    "A12 = frozenset(['HH', 'HT', 'TH'])\n",
    "A13 = frozenset(['HH', 'HT', 'TT'])\n",
    "A14 = frozenset(['HH', 'TH', 'TT'])\n",
    "A15 = frozenset(['HT', 'TH', 'TT'])\n",
    "A16 = frozenset(['HH', 'HT', 'TH', 'TT'])\n",
    "A = set([A1, A2, A3, A4, A5, A6, A7, A8, A9, A10, A11, A12, A13, A14, A15, A16])\n",
    "A"
   ]
  },
  {
   "cell_type": "code",
   "execution_count": 17,
   "metadata": {},
   "outputs": [],
   "source": [
    "from itertools import chain, combinations\n",
    "\n",
    "def get_set_of_subsets(omega) :\n",
    "    return set([frozenset(s) for s in chain.from_iterable(combinations(omega, r) for r in range(len(omega) + 1))])"
   ]
  },
  {
   "cell_type": "markdown",
   "metadata": {},
   "source": [
    "# itertools 패키지를 잘 공부해두면 데이터 분석할때 많은 노가다를 해결해줄 수 있다\n",
    "-> 구글에서 문서 찾아보장"
   ]
  },
  {
   "cell_type": "markdown",
   "metadata": {},
   "source": [
    "#### 6.1.2"
   ]
  },
  {
   "cell_type": "code",
   "execution_count": 18,
   "metadata": {},
   "outputs": [
    {
     "data": {
      "text/plain": [
       "True"
      ]
     },
     "execution_count": 18,
     "metadata": {},
     "output_type": "execute_result"
    }
   ],
   "source": [
    "A = {1,3,5}\n",
    "B = {1,2,3}\n",
    "C = {2,4,6}\n",
    "A | (B&C) == (A|B)&(A|C)"
   ]
  },
  {
   "cell_type": "markdown",
   "metadata": {},
   "source": [
    "#### 6.2.5\n"
   ]
  },
  {
   "cell_type": "code",
   "execution_count": 19,
   "metadata": {},
   "outputs": [],
   "source": [
    "A1 = frozenset([])\n",
    "A2 = frozenset(['HH'])\n",
    "A3 = frozenset(['HT'])\n",
    "A4 = frozenset(['TH'])\n",
    "A5 = frozenset(['TT'])\n",
    "A6 = frozenset(['HH', 'HT'])\n",
    "A7 = frozenset(['HH', 'TH'])\n",
    "A8 = frozenset(['HH', 'TT'])\n",
    "A9 = frozenset(['HT', 'TH'])\n",
    "A10 = frozenset(['HT', 'TT'])\n",
    "A11 = frozenset(['TH', 'TT'])\n",
    "A12 = frozenset(['HH', 'HT', 'TH'])\n",
    "A13 = frozenset(['HH', 'HT', 'TT'])\n",
    "A14 = frozenset(['HH', 'TH', 'TT'])\n",
    "A15 = frozenset(['HT', 'TH', 'TT'])\n",
    "A16 = frozenset(['HH', 'HT', 'TH', 'TT'])\n",
    "A = set([A1, A2, A3, A4, A5, A6, A7, A8, A9, A10, A11, A12, A13, A14, A15, A16])\n",
    "P = {A1 : 0, A2 : 0.2, A3 : 0.3, A4 : 0.3, A5: 0.2, A6 : 0.5, A7 : 0.5, A8 : 0.4, A9 : 0.6, A10 : 0.5, A11 : 0.5, A12 : 0.8,\n",
    "     A13 : 0.7, A14 : 0.7, A15 : 0.8, A16 : 1}"
   ]
  },
  {
   "cell_type": "code",
   "execution_count": 21,
   "metadata": {},
   "outputs": [
    {
     "data": {
      "text/plain": [
       "{frozenset(): 0,\n",
       " frozenset({'HH'}): 0.2,\n",
       " frozenset({'HT'}): 0.3,\n",
       " frozenset({'TH'}): 0.3,\n",
       " frozenset({'TT'}): 0.2,\n",
       " frozenset({'HH', 'HT'}): 0.5,\n",
       " frozenset({'HH', 'TH'}): 0.5,\n",
       " frozenset({'HH', 'TT'}): 0.4,\n",
       " frozenset({'HT', 'TH'}): 0.6,\n",
       " frozenset({'HT', 'TT'}): 0.5,\n",
       " frozenset({'TH', 'TT'}): 0.5,\n",
       " frozenset({'HH', 'HT', 'TH'}): 0.8,\n",
       " frozenset({'HH', 'HT', 'TT'}): 0.7,\n",
       " frozenset({'HH', 'TH', 'TT'}): 0.7,\n",
       " frozenset({'HT', 'TH', 'TT'}): 0.8,\n",
       " frozenset({'HH', 'HT', 'TH', 'TT'}): 1}"
      ]
     },
     "execution_count": 21,
     "metadata": {},
     "output_type": "execute_result"
    }
   ],
   "source": [
    "P # 콜모고로프의 공리를 만족한다"
   ]
  },
  {
   "cell_type": "code",
   "execution_count": null,
   "metadata": {},
   "outputs": [],
   "source": []
  }
 ],
 "metadata": {
  "kernelspec": {
   "display_name": "Python 3",
   "language": "python",
   "name": "python3"
  },
  "language_info": {
   "codemirror_mode": {
    "name": "ipython",
    "version": 3
   },
   "file_extension": ".py",
   "mimetype": "text/x-python",
   "name": "python",
   "nbconvert_exporter": "python",
   "pygments_lexer": "ipython3",
   "version": "3.8.3"
  }
 },
 "nbformat": 4,
 "nbformat_minor": 4
}

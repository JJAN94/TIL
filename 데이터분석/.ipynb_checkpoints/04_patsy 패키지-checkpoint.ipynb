{
 "cells": [
  {
   "cell_type": "markdown",
   "metadata": {},
   "source": [
    "# patsy 패키지\n",
    "- 전처리에 필요한 웬만한 기능이 다 포함되어 있는 패키지"
   ]
  },
  {
   "cell_type": "markdown",
   "metadata": {},
   "source": [
    "### 1. demo_data() : patsy가 제공하는 가짜 데이터 생성 함수"
   ]
  },
  {
   "cell_type": "code",
   "execution_count": 2,
   "metadata": {},
   "outputs": [],
   "source": [
    "import pandas as pd\n",
    "import numpy as np"
   ]
  },
  {
   "cell_type": "code",
   "execution_count": 5,
   "metadata": {},
   "outputs": [
    {
     "data": {
      "text/html": [
       "<div>\n",
       "<style scoped>\n",
       "    .dataframe tbody tr th:only-of-type {\n",
       "        vertical-align: middle;\n",
       "    }\n",
       "\n",
       "    .dataframe tbody tr th {\n",
       "        vertical-align: top;\n",
       "    }\n",
       "\n",
       "    .dataframe thead th {\n",
       "        text-align: right;\n",
       "    }\n",
       "</style>\n",
       "<table border=\"1\" class=\"dataframe\">\n",
       "  <thead>\n",
       "    <tr style=\"text-align: right;\">\n",
       "      <th></th>\n",
       "      <th>x1</th>\n",
       "      <th>x2</th>\n",
       "      <th>x3</th>\n",
       "      <th>x4</th>\n",
       "      <th>x5</th>\n",
       "    </tr>\n",
       "  </thead>\n",
       "  <tbody>\n",
       "    <tr>\n",
       "      <th>0</th>\n",
       "      <td>1.764052</td>\n",
       "      <td>-0.977278</td>\n",
       "      <td>0.144044</td>\n",
       "      <td>0.333674</td>\n",
       "      <td>-2.552990</td>\n",
       "    </tr>\n",
       "    <tr>\n",
       "      <th>1</th>\n",
       "      <td>0.400157</td>\n",
       "      <td>0.950088</td>\n",
       "      <td>1.454274</td>\n",
       "      <td>1.494079</td>\n",
       "      <td>0.653619</td>\n",
       "    </tr>\n",
       "    <tr>\n",
       "      <th>2</th>\n",
       "      <td>0.978738</td>\n",
       "      <td>-0.151357</td>\n",
       "      <td>0.761038</td>\n",
       "      <td>-0.205158</td>\n",
       "      <td>0.864436</td>\n",
       "    </tr>\n",
       "    <tr>\n",
       "      <th>3</th>\n",
       "      <td>2.240893</td>\n",
       "      <td>-0.103219</td>\n",
       "      <td>0.121675</td>\n",
       "      <td>0.313068</td>\n",
       "      <td>-0.742165</td>\n",
       "    </tr>\n",
       "    <tr>\n",
       "      <th>4</th>\n",
       "      <td>1.867558</td>\n",
       "      <td>0.410599</td>\n",
       "      <td>0.443863</td>\n",
       "      <td>-0.854096</td>\n",
       "      <td>2.269755</td>\n",
       "    </tr>\n",
       "  </tbody>\n",
       "</table>\n",
       "</div>"
      ],
      "text/plain": [
       "         x1        x2        x3        x4        x5\n",
       "0  1.764052 -0.977278  0.144044  0.333674 -2.552990\n",
       "1  0.400157  0.950088  1.454274  1.494079  0.653619\n",
       "2  0.978738 -0.151357  0.761038 -0.205158  0.864436\n",
       "3  2.240893 -0.103219  0.121675  0.313068 -0.742165\n",
       "4  1.867558  0.410599  0.443863 -0.854096  2.269755"
      ]
     },
     "execution_count": 5,
     "metadata": {},
     "output_type": "execute_result"
    }
   ],
   "source": [
    "from patsy import demo_data\n",
    "\n",
    "df = pd.DataFrame(demo_data('x1', 'x2', 'x3', 'x4', 'x5'))\n",
    "df"
   ]
  },
  {
   "cell_type": "markdown",
   "metadata": {},
   "source": [
    "데이터 분석을 시작할 때는 다양한 데이터를 하나의 데이터프레임에 넣고 시작하는 경우가 많다."
   ]
  },
  {
   "cell_type": "markdown",
   "metadata": {},
   "source": [
    "### 2. dmatrix() : 데이터 프레임에 상수항을 추가하거나 원하는 데이터만 선택하거나 변형 할 수 있음. (design matrix)\n",
    "    - 모형 정의 문자열 formula\n",
    "    - 원 데이터를 담은 데이터프레임 data를 입력하면 formula에서 지정한 대로 변환된 데이터 data_transformed를 출력함\n",
    "    - data_transformed = dmatrix(formula, data)"
   ]
  },
  {
   "cell_type": "code",
   "execution_count": 7,
   "metadata": {},
   "outputs": [
    {
     "data": {
      "text/plain": [
       "DesignMatrix with shape (5, 1)\n",
       "       x1\n",
       "  1.76405\n",
       "  0.40016\n",
       "  0.97874\n",
       "  2.24089\n",
       "  1.86756\n",
       "  Terms:\n",
       "    'x1' (column 0)"
      ]
     },
     "execution_count": 7,
     "metadata": {},
     "output_type": "execute_result"
    }
   ],
   "source": [
    "from patsy import dmatrix\n",
    "\n",
    "dmatrix('x1 + 0', data=df) # 여기서 formula = 'x1+0'"
   ]
  },
  {
   "cell_type": "markdown",
   "metadata": {},
   "source": [
    "formula : 데이터 열 이름 기반으로 구성된 문자열. 선택하고자 하는 데이터 열 이름을 +로 연결해 입력하면 자동으로 해당 데이터만 뽑아줌"
   ]
  },
  {
   "cell_type": "code",
   "execution_count": 8,
   "metadata": {},
   "outputs": [
    {
     "data": {
      "text/plain": [
       "DesignMatrix with shape (5, 3)\n",
       "       x1        x2       x3\n",
       "  1.76405  -0.97728  0.14404\n",
       "  0.40016   0.95009  1.45427\n",
       "  0.97874  -0.15136  0.76104\n",
       "  2.24089  -0.10322  0.12168\n",
       "  1.86756   0.41060  0.44386\n",
       "  Terms:\n",
       "    'x1' (column 0)\n",
       "    'x2' (column 1)\n",
       "    'x3' (column 2)"
      ]
     },
     "execution_count": 8,
     "metadata": {},
     "output_type": "execute_result"
    }
   ],
   "source": [
    "dmatrix('x1 + x2 + x3 + 0', data=df)"
   ]
  },
  {
   "cell_type": "markdown",
   "metadata": {},
   "source": [
    "여기서 +0은 1로 구성된 상수항을 넣지 말라는 뜻. +0을 안쓰면 Intercept란 이름의 상수항 데이터를 추가함. \\\n",
    "intercept란 이름의 상수항이 있어야 회귀분석 가능, 보통은 이거 안뺌( +0을 안쓴다는 소리) \\\n",
    "+0을 -1이라 써도 똑같음"
   ]
  },
  {
   "cell_type": "code",
   "execution_count": 9,
   "metadata": {},
   "outputs": [
    {
     "data": {
      "text/plain": [
       "DesignMatrix with shape (5, 4)\n",
       "  Intercept       x1        x2       x3\n",
       "          1  1.76405  -0.97728  0.14404\n",
       "          1  0.40016   0.95009  1.45427\n",
       "          1  0.97874  -0.15136  0.76104\n",
       "          1  2.24089  -0.10322  0.12168\n",
       "          1  1.86756   0.41060  0.44386\n",
       "  Terms:\n",
       "    'Intercept' (column 0)\n",
       "    'x1' (column 1)\n",
       "    'x2' (column 2)\n",
       "    'x3' (column 3)"
      ]
     },
     "execution_count": 9,
     "metadata": {},
     "output_type": "execute_result"
    }
   ],
   "source": [
    "dmatrix('x1+x2+x3', data=df)"
   ]
  },
  {
   "cell_type": "markdown",
   "metadata": {},
   "source": [
    "`dmatrix()의 장점` : formula에 어떤 함수를 써서 다른 값으로 바꾸는 수학 변환(transform)이 가능 \\\n",
    "    - 다른 패키지의 수학함수\n",
    "    - 사용자 정의함수도 가능"
   ]
  },
  {
   "cell_type": "code",
   "execution_count": 10,
   "metadata": {},
   "outputs": [
    {
     "data": {
      "text/plain": [
       "DesignMatrix with shape (5, 3)\n",
       "  Intercept       x1  np.log(np.abs(x2))\n",
       "          1  1.76405            -0.02298\n",
       "          1  0.40016            -0.05120\n",
       "          1  0.97874            -1.88811\n",
       "          1  2.24089            -2.27090\n",
       "          1  1.86756            -0.89014\n",
       "  Terms:\n",
       "    'Intercept' (column 0)\n",
       "    'x1' (column 1)\n",
       "    'np.log(np.abs(x2))' (column 2)"
      ]
     },
     "execution_count": 10,
     "metadata": {},
     "output_type": "execute_result"
    }
   ],
   "source": [
    "dmatrix('x1 + np.log(np.abs(x2))', df) # x2를 넘파이의 절대값의 로그로 바로 바꿈. 어떤 다른 작업 없이"
   ]
  },
  {
   "cell_type": "code",
   "execution_count": 11,
   "metadata": {},
   "outputs": [
    {
     "data": {
      "text/plain": [
       "DesignMatrix with shape (5, 2)\n",
       "  Intercept  ten_times(x1)\n",
       "          1       17.64052\n",
       "          1        4.00157\n",
       "          1        9.78738\n",
       "          1       22.40893\n",
       "          1       18.67558\n",
       "  Terms:\n",
       "    'Intercept' (column 0)\n",
       "    'ten_times(x1)' (column 1)"
      ]
     },
     "execution_count": 11,
     "metadata": {},
     "output_type": "execute_result"
    }
   ],
   "source": [
    "def ten_times(x) :\n",
    "    return 10 * x\n",
    "\n",
    "dmatrix('ten_times(x1)', df)"
   ]
  },
  {
   "cell_type": "markdown",
   "metadata": {},
   "source": [
    "기존의 데이터를 조합 연산하여 데이터를 만드는 것도 가능! \\\n",
    "`상호작용(interaction)` : 두 변수를 곱해서 만들어지는 새로운 변수, 기호로는 :를 쓴다"
   ]
  },
  {
   "cell_type": "code",
   "execution_count": 13,
   "metadata": {},
   "outputs": [
    {
     "data": {
      "text/plain": [
       "DesignMatrix with shape (5, 3)\n",
       "       x1        x2     x1:x2\n",
       "  1.76405  -0.97728  -1.72397\n",
       "  0.40016   0.95009   0.38018\n",
       "  0.97874  -0.15136  -0.14814\n",
       "  2.24089  -0.10322  -0.23130\n",
       "  1.86756   0.41060   0.76682\n",
       "  Terms:\n",
       "    'x1' (column 0)\n",
       "    'x2' (column 1)\n",
       "    'x1:x2' (column 2)"
      ]
     },
     "execution_count": 13,
     "metadata": {},
     "output_type": "execute_result"
    }
   ],
   "source": [
    "dmatrix('x1 + x2 + x1:x2 + 0', df)"
   ]
  },
  {
   "cell_type": "code",
   "execution_count": 14,
   "metadata": {},
   "outputs": [
    {
     "data": {
      "text/plain": [
       "DesignMatrix with shape (5, 3)\n",
       "       x1        x2     x1:x2\n",
       "  1.76405  -0.97728  -1.72397\n",
       "  0.40016   0.95009   0.38018\n",
       "  0.97874  -0.15136  -0.14814\n",
       "  2.24089  -0.10322  -0.23130\n",
       "  1.86756   0.41060   0.76682\n",
       "  Terms:\n",
       "    'x1' (column 0)\n",
       "    'x2' (column 1)\n",
       "    'x1:x2' (column 2)"
      ]
     },
     "execution_count": 14,
     "metadata": {},
     "output_type": "execute_result"
    }
   ],
   "source": [
    "dmatrix('x1 * x2 + 0', df)\n",
    "# e두 변수와 상호작용을 한꺼번에 표시할 때는 * 를 쓴다\n",
    "# 단, x1, x2, x1 x x2 모두 영향을 줄때, * 기호 함부로 쓰면 안된다."
   ]
  },
  {
   "cell_type": "markdown",
   "metadata": {},
   "source": [
    "상호작용을 제외한 경우는 I()라는 연산자를 사용해 연산과정을 명시해야한다. \\\n",
    "x1+x2를 진짜 더하고 싶으면? -> I(x1+x2) 이런식으로 써줘야한다."
   ]
  },
  {
   "cell_type": "code",
   "execution_count": 15,
   "metadata": {},
   "outputs": [
    {
     "data": {
      "text/plain": [
       "DesignMatrix with shape (5, 3)\n",
       "       x1        x2  I(x1 + x2)\n",
       "  1.76405  -0.97728     0.78677\n",
       "  0.40016   0.95009     1.35025\n",
       "  0.97874  -0.15136     0.82738\n",
       "  2.24089  -0.10322     2.13767\n",
       "  1.86756   0.41060     2.27816\n",
       "  Terms:\n",
       "    'x1' (column 0)\n",
       "    'x2' (column 1)\n",
       "    'I(x1 + x2)' (column 2)"
      ]
     },
     "execution_count": 15,
     "metadata": {},
     "output_type": "execute_result"
    }
   ],
   "source": [
    "dmatrix('x1 + x2 + I(x1+x2) + 0', df)"
   ]
  },
  {
   "cell_type": "markdown",
   "metadata": {},
   "source": [
    "### 3. 스케일링 작업(scaling)\n",
    "- 선형회귀분석을 할 때 조건수(condition number)의 영향때문에 데이터의 평균을 0, 표준편차를 1로 만드는 스케일링 작업을 하는 것이 분석 결과의 품질을 높일 수 있다. patsy는 이것도 제공함\n",
    "    - center() : 평균을 0으로 스케일링\n",
    "    - standardize() : 평균을 0으로하고 표준편차를 1로 스케일링\n",
    "    - scale() : standardize()와 같음"
   ]
  },
  {
   "cell_type": "code",
   "execution_count": 16,
   "metadata": {},
   "outputs": [
    {
     "data": {
      "text/plain": [
       "DesignMatrix with shape (5, 1)\n",
       "  center(x1)\n",
       "     0.31377\n",
       "    -1.05012\n",
       "    -0.47154\n",
       "     0.79061\n",
       "     0.41728\n",
       "  Terms:\n",
       "    'center(x1)' (column 0)"
      ]
     },
     "execution_count": 16,
     "metadata": {},
     "output_type": "execute_result"
    }
   ],
   "source": [
    "dm = dmatrix('center(x1) + 0', df)\n",
    "dm"
   ]
  },
  {
   "cell_type": "code",
   "execution_count": 20,
   "metadata": {},
   "outputs": [
    {
     "data": {
      "text/plain": [
       "0    0.313773\n",
       "1   -1.050123\n",
       "2   -0.471542\n",
       "3    0.790613\n",
       "4    0.417278\n",
       "Name: x1, dtype: float64"
      ]
     },
     "execution_count": 20,
     "metadata": {},
     "output_type": "execute_result"
    }
   ],
   "source": [
    "df.x1 - np.mean(df.x1)"
   ]
  },
  {
   "cell_type": "markdown",
   "metadata": {},
   "source": [
    "평균값은 desing_info라는 속성 내부에 저장됨"
   ]
  },
  {
   "cell_type": "code",
   "execution_count": 21,
   "metadata": {},
   "outputs": [
    {
     "data": {
      "text/plain": [
       "{EvalFactor('center(x1)'): FactorInfo(factor=EvalFactor('center(x1)'),\n",
       "            type='numerical',\n",
       "            state=<factor state>,\n",
       "            num_columns=1)}"
      ]
     },
     "execution_count": 21,
     "metadata": {},
     "output_type": "execute_result"
    }
   ],
   "source": [
    "dm.design_info.factor_infos"
   ]
  },
  {
   "cell_type": "markdown",
   "metadata": {},
   "source": [
    "이 값이 저장되는 이유? \\\n",
    "어떤 학습용 데이터를 사용하여 예측모형을 만든다고 하자. \\\n",
    "이 때 학습 성능을 좋게 하기 위해 학습용 데이터의 평균값을 데이터에서 빼는 스케일링을 실시 \\\n",
    "학습이 끝난 후 이모형을 사용하여 실제 예측을 할 때 새로운 검증용 데이터를 이 모형에 넣으려면 모형을 학습할 때 사용한 것과 동일한 전처리를 해야 함. 이때, 학습용 데이터의 평균값을 빼야 한다는 점을 주의 하라. \\\n",
    "이렇게 하기 위해서는 전처리 과정에서 계산한 평균값을 기억하고 있어야 한다."
   ]
  },
  {
   "cell_type": "code",
   "execution_count": null,
   "metadata": {},
   "outputs": [],
   "source": []
  }
 ],
 "metadata": {
  "kernelspec": {
   "display_name": "Python 3",
   "language": "python",
   "name": "python3"
  },
  "language_info": {
   "codemirror_mode": {
    "name": "ipython",
    "version": 3
   },
   "file_extension": ".py",
   "mimetype": "text/x-python",
   "name": "python",
   "nbconvert_exporter": "python",
   "pygments_lexer": "ipython3",
   "version": "3.8.3"
  }
 },
 "nbformat": 4,
 "nbformat_minor": 4
}

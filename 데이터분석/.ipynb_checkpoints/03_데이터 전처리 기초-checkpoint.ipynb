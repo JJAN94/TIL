{
 "cells": [
  {
   "cell_type": "markdown",
   "metadata": {},
   "source": [
    "# 데이터 전처리 기초"
   ]
  },
  {
   "cell_type": "markdown",
   "metadata": {},
   "source": [
    "- 기초적인 전처리(preprocessing) 방법 정리\n",
    "    - `missingno` 패키지 :`결측 데이터 검색`\n",
    "    - `sklearn.impute` 패키지 : `결측 데이터 대체`\n",
    "    - `patsy` 패키지 : `데이터 선택, 변환, 추가, 스케일링`\n",
    "    - `sklearn.preprocessing` 패키지 : `스케일링, 변환`"
   ]
  },
  {
   "cell_type": "markdown",
   "metadata": {},
   "source": [
    "# missingno 패키지"
   ]
  },
  {
   "cell_type": "markdown",
   "metadata": {},
   "source": [
    "- 데이터를 만들다보면 결측치는 거의 무조건 생김\n",
    "- 데이터 양이 많아지면 어디에 결측이 생긴지를 찾기가 곤란\n",
    "- 이때 결측값을 시각화해서 보는게 큰 도움이 됨"
   ]
  },
  {
   "cell_type": "markdown",
   "metadata": {},
   "source": [
    "- missingno는 pandas.DataFrame에서 결측 데이터를 찾는 기능을 제공한다\n",
    "- 이 패키지를 쓰려면 결측 데이터가 NaN (not a number) 값으로 저장되어 있어야 함\n",
    "- NaN : 부동소수점 실수 자료형에만 있는 자료\n",
    "    - 정수 자료는 `Int64Dtype`으로, 시간 자료는 `parse_dates`로 날짜자료로 파싱해줘야 `datetime64[]`가 되어 NaT (not a time)이 됨"
   ]
  },
  {
   "cell_type": "code",
   "execution_count": null,
   "metadata": {},
   "outputs": [],
   "source": []
  }
 ],
 "metadata": {
  "kernelspec": {
   "display_name": "Python 3",
   "language": "python",
   "name": "python3"
  },
  "language_info": {
   "codemirror_mode": {
    "name": "ipython",
    "version": 3
   },
   "file_extension": ".py",
   "mimetype": "text/x-python",
   "name": "python",
   "nbconvert_exporter": "python",
   "pygments_lexer": "ipython3",
   "version": "3.8.3"
  }
 },
 "nbformat": 4,
 "nbformat_minor": 4
}

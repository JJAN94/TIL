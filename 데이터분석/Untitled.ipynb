{
 "cells": [
  {
   "cell_type": "markdown",
   "metadata": {},
   "source": [
    "#### 예제\n",
    "- 데이터\n",
    "\n",
    "| 인덱스 | 색깔 | 꼭지 모양 | 소리 |\n",
    "| :-- | :-- | :-- | :-- |\n",
    "| 수박1 | 청록 | 말림 | 혼탁함 |\n",
    "| 수박2 | 진녹 | 약간 말림 | 둔탁함 |\n",
    "| 수박3 | 연녹 | 곧음 | 맑음 |\n",
    "| ... | ... | ... | ... |"
   ]
  },
  {
   "cell_type": "markdown",
   "metadata": {},
   "source": [
    "- `데이터 세트(data set)` : 기록들의 집합\n",
    "- 각 기록은 하나의 사물 혹은 대상에 대한 묘사\n",
    "    - 이를 `사례(instance)` 또는 `샘플(sample)` 이라함\n",
    "- `속성(attribute)` or `특성(feature)` : 색깔, 꼭지모양, 소리 등 사물이나 대상의 특정 부분 혹은 성질을 반영하는 것\n",
    "- `속성값(attribute value)` : 청록색, 진녹색 등 속성에 관하여 취하는 값\n",
    "    이러한 속성을 `속성 공간(attribute space)`라는 공간으로 확장하며, 확장된 공간은 `샘플 공간(sample space)` 또는 `입력 공간`으로 부름\n",
    "- `특성 벡터(feature vector)` : 좌표 벡터로 나타내지는 속성들의 벡터"
   ]
  },
  {
   "cell_type": "markdown",
   "metadata": {},
   "source": [
    "데이터를 통해 모델을 만들어 가는 과정을 학습(learning) 혹은 `훈련(training)`이라 함. \\\n",
    "훈련 과정에서 사용되는 데이터를 `훈련 데이터(training data)`, 각 샘플은 `훈련 샘플(training sample)` \\\n",
    "훈련 샘플의 집합을 `훈련 세트(training set)`라고 함"
   ]
  },
  {
   "cell_type": "markdown",
   "metadata": {},
   "source": [
    "학습 모델은 데이터 속에 잠재된 어떤 규칙에 대응하며 이를 `가설(hypothesis)`라고 함 \\\n",
    "이러한 잠재적인 규칙은 `진상` 혹은 `진실(ground-truth)` 라고 함 "
   ]
  },
  {
   "cell_type": "code",
   "execution_count": null,
   "metadata": {},
   "outputs": [],
   "source": []
  },
  {
   "cell_type": "code",
   "execution_count": null,
   "metadata": {},
   "outputs": [],
   "source": []
  }
 ],
 "metadata": {
  "kernelspec": {
   "display_name": "Python 3",
   "language": "python",
   "name": "python3"
  },
  "language_info": {
   "codemirror_mode": {
    "name": "ipython",
    "version": 3
   },
   "file_extension": ".py",
   "mimetype": "text/x-python",
   "name": "python",
   "nbconvert_exporter": "python",
   "pygments_lexer": "ipython3",
   "version": "3.8.3"
  }
 },
 "nbformat": 4,
 "nbformat_minor": 4
}

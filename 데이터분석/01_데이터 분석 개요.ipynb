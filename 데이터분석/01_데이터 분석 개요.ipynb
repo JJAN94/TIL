{
 "cells": [
  {
   "cell_type": "markdown",
   "metadata": {},
   "source": [
    "# 데이터 분석이란?\n",
    "- 데이터 간의 관계 파악\n",
    "- 파악된 관계를 이용해 원하는 데이터(출력)를 만드는 과정\n",
    "    - 목적에 따라 \"예측(prediction), 클러스터링(clustering), 모사(approximation)\" 등이 있음"
   ]
  },
  {
   "cell_type": "markdown",
   "metadata": {},
   "source": [
    "## 예측(Prediction)\n",
    "- 데이터 분석 작업 중 가장 많이 사용되는 유형 중 하나\n",
    "- 입력데이터를 통해 데이터 분석하고 다른 데이터를 출력함\n",
    "- 입력데이터와 출력데이터의 정확히 파악하는 것이 중요"
   ]
  },
  {
   "cell_type": "markdown",
   "metadata": {},
   "source": [
    "## input & output data\n",
    "- 입력 데이터(Input data) : 독립변수(independet variable), 특징(feature), 설명변수(explanatory variable) 등 용어로 쓰임, X로 씀\n",
    "- 출력 데이터(output data) : 종속변수(dependent variable), Y로 씀 / 카테고리값이면 라벨(label) or 클래스(class)라고도 함"
   ]
  },
  {
   "cell_type": "markdown",
   "metadata": {},
   "source": [
    "## 예측문제 방법론 : 규칙기반 방법 & 학습기반 방법\n",
    "- 규칙기반(rule-based) 방법\n",
    "    - 규칙을 사람이 만드는데 완벽한 규칙을 만들 수 없는게 한계\n",
    "- 학습기반(training-based, 데이터기반(data-based)) 방법\n",
    "    - 데이터를 통해 학습&규칙 생성, 기계가 규칙을 만드는 과정"
   ]
  },
  {
   "cell_type": "markdown",
   "metadata": {},
   "source": [
    "## 지도학습\n",
    "- 학습용 데이터 집합(training data set) : 입력값과 목표값(정답)을 포함한 데이터셋\n",
    "- 'A는 B이다' 라는 문제와 답을 알려줘 학습시키는 방법 = supervised learning\n",
    "- 지도학습이 얼마나 잘 되는지는 학습용 데이터 셋의 양과 질에 크게 의존함\n",
    "    - 레이블링(labelling) = 출력 데이터(= 목표값 target)을 만드는 일이 어려움."
   ]
  },
  {
   "cell_type": "markdown",
   "metadata": {},
   "source": [
    "## 전처리와 인코딩\n",
    "- 데이터 : 숫자, 문서, 이미지, 음성, 영상 등으로 이루어짐\n",
    "- 컴퓨터가 처리할 수 있는 것은 현실적으로 숫자(number) 데이터밖에 없다.\n",
    "- 일반데이터를 숫자데이터로 바꿔주는 과정 = '전처리(preprocessing)', '인코딩(encoding)'이라 함\n",
    "    - 의미있고 중요한 정보만 뽑아내 전처리 해준다"
   ]
  },
  {
   "cell_type": "markdown",
   "metadata": {},
   "source": [
    "## 카테고리값\n",
    "- 컴퓨터가 다룰 수 있는 데이터는 숫자 데이터와 카테고리값(범주형값)이 있다.\n",
    "- 카테고리값이 가질 수 있는 경우의 수 = 클래스(class)라 함\n",
    "    - 두 가지만 존재 : 이진 클래스(binary class)\n",
    "    - 세 가지 이상 존재 : 다중 클래스(multi class)"
   ]
  },
  {
   "cell_type": "markdown",
   "metadata": {},
   "source": [
    "## 회귀분석과 분류\n",
    "- 예측 문제에서 출력하고자 하는 데이터가 `숫자`인지 `카테고리값`인지 사용하는 방법이 달라짐\n",
    "- 숫자 : 회귀분석(regression analysis)\n",
    "- 카테고리값 : 분류(classification)"
   ]
  },
  {
   "cell_type": "markdown",
   "metadata": {},
   "source": [
    "## 비지도학습(unsupervised learning)\n",
    "- 지도학습이 아닌 모든 학습법\n",
    "- 입력과 출력 데이터 간의 관계가 명확하지 않음\n",
    "- 입력, 출력 구분이 되는 않는 단순한 데이터간의 관계에서 규칙을 찾는 방법"
   ]
  },
  {
   "cell_type": "markdown",
   "metadata": {},
   "source": [
    "## 클러스터링(clustering)\n",
    "- 대표적인 비지도학습 방법 중 하나\n",
    "- 데이터들을 유사한 데이터끼리 같은 그룹으로 모으는 방법"
   ]
  },
  {
   "cell_type": "code",
   "execution_count": null,
   "metadata": {},
   "outputs": [],
   "source": []
  }
 ],
 "metadata": {
  "kernelspec": {
   "display_name": "Python 3",
   "language": "python",
   "name": "python3"
  },
  "language_info": {
   "codemirror_mode": {
    "name": "ipython",
    "version": 3
   },
   "file_extension": ".py",
   "mimetype": "text/x-python",
   "name": "python",
   "nbconvert_exporter": "python",
   "pygments_lexer": "ipython3",
   "version": "3.8.3"
  }
 },
 "nbformat": 4,
 "nbformat_minor": 4
}
